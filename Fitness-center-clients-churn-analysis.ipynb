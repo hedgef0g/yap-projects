{
 "cells": [
  {
   "cell_type": "markdown",
   "metadata": {
    "pycharm": {
     "name": "#%% md\n"
    }
   },
   "source": [
    "# Разработка стратегии взаимодействия с клиентами для сети фитнес-центров"
   ]
  },
  {
   "cell_type": "markdown",
   "metadata": {
    "pycharm": {
     "name": "#%% md\n"
    }
   },
   "source": [
    "**Оглавление**\n",
    "\n",
    "* [Информация о проекте](#Информация-о-проекте)\n",
    "    * [Бизнес-задача](#Бизнес-задача)\n",
    "    * [План выполнения проекта](#План-выполнения-проекта)\n",
    "    * [Описание данных](#Описание-данных)\n",
    "* [Подготовка проекта к анализу](#Подготовка-проекта-к-анализу)\n",
    "* [Исследовательский анализ данных (EDA)](#Исследовательский-анализ-данных-(EDA))\n",
    "* [Модель прогнозирования оттока клиентов](#Модель-прогнозирования-оттока-клиентов)\n",
    "* [Кластеризация клиентов](#Кластеризация-клиентов)\n",
    "* [Выводы и базовые рекомендации по работе с клиентами](#Выводы-и-базовые-рекомендации-по-работе-с-клиентами)"
   ]
  },
  {
   "cell_type": "markdown",
   "metadata": {
    "pycharm": {
     "name": "#%% md\n"
    }
   },
   "source": [
    "## Информация о проекте\n",
    "\n",
    "### Бизнес-задача\n",
    "Подготовить план действий по удержанию клиентов\n",
    "\n",
    "Совместно с отделом маркетинга подготовлены 9 гипотез для увеличения выручки. Необходимо провести их приоритизацию, после чего провести A/B тест и проанализировать результаты.\n",
    "\n",
    "\n",
    "### Исследовательские задачи\n",
    "\n",
    "*    Научиться прогнозировать вероятность оттока (на уровне следующего месяца) для каждого клиента;\n",
    "\n",
    "*    Сформировать типичные портреты клиентов: выделить несколько наиболее ярких групп и охарактеризовать их основные свойства;\n",
    "\n",
    "*    Проанализировать основные признаки, наиболее сильно влияющие на отток;\n",
    "\n",
    "*    Сформулировать основные выводы и разработать рекомендации по повышению качества работы с клиентами:\n",
    "            - 1) выделить целевые группы клиентов;\n",
    "            - 2) предложить меры по снижению оттока;\n",
    "            - 3) определить другие особенности взаимодействия с клиентами."
   ]
  },
  {
   "cell_type": "markdown",
   "metadata": {
    "pycharm": {
     "name": "#%% md\n"
    }
   },
   "source": [
    "### Описание данных\n",
    "\n",
    "* `Churn` — факт оттока в текущем месяце;\n",
    "    * Текущие поля в датасете:\n",
    "        * Данные клиента за предыдущий до проверки факта оттока месяц:\n",
    "            * `gender` — пол;\n",
    "            * `Near_Location` — проживание или работа в районе, где находится фитнес-центр;\n",
    "            * `Partner` — сотрудник компании-партнёра клуба (сотрудничество с компаниями, чьи сотрудники могут получать скидки на абонемент — в таком случае фитнес-центр хранит информацию о работодателе клиента);\n",
    "            * `Promo_friends` — факт первоначальной записи в рамках акции «приведи друга» (использовал промо-код от знакомого при оплате первого абонемента);\n",
    "            * `Phone` — наличие контактного телефона;\n",
    "            * `Age` — возраст;\n",
    "            * `Lifetime` — время с момента первого обращения в фитнес-центр (в месяцах).\n",
    "    * Информация на основе журнала посещений, покупок и информация о текущем статусе абонемента клиента:\n",
    "        * `Contract_period` — длительность текущего действующего абонемента (месяц, 3 месяца, 6 месяцев, год);\n",
    "        * `Month_to_end_contract` — срок до окончания текущего действующего абонемента (в месяцах);\n",
    "        * `Group_visits` — факт посещения групповых занятий;\n",
    "        * `Avg_class_frequency_total` — средняя частота посещений в неделю за все время с начала действия абонемента;\n",
    "        * `Avg_class_frequency_current_month` — средняя частота посещений в неделю за предыдущий месяц;\n",
    "        * `Avg_additional_charges_total` — суммарная выручка от других услуг фитнес-центра: кафе, спорт-товары, косметический и массажный салон."
   ]
  },
  {
   "cell_type": "markdown",
   "metadata": {
    "pycharm": {
     "name": "#%% md\n"
    }
   },
   "source": [
    "## Подготовка проекта к анализу\n",
    "\n",
    "Подключим необходимые библиотеки и откроем файлы с данными."
   ]
  },
  {
   "cell_type": "code",
   "execution_count": 1,
   "metadata": {
    "pycharm": {
     "name": "#%%\n"
    }
   },
   "outputs": [],
   "source": [
    "# подключаем необходимые библиотеки\n",
    "import pandas as pd\n",
    "import matplotlib.pyplot as plt\n",
    "import seaborn as sns\n",
    "from pandas.plotting import register_matplotlib_converters\n",
    "\n",
    "from sklearn.preprocessing import StandardScaler\n",
    "from sklearn.model_selection import train_test_split\n",
    "from sklearn.linear_model import LogisticRegression\n",
    "from sklearn.ensemble import RandomForestClassifier\n",
    "from sklearn.metrics import accuracy_score, precision_score, recall_score\n",
    "from sklearn.cluster import KMeans\n",
    "\n",
    "# конвертеры, которые позволяют использовать типы pandas в matplotlib  \n",
    "register_matplotlib_converters()\n",
    "\n",
    "from scipy.cluster.hierarchy import dendrogram, linkage"
   ]
  },
  {
   "cell_type": "code",
   "execution_count": 2,
   "metadata": {
    "pycharm": {
     "name": "#%%\n"
    }
   },
   "outputs": [],
   "source": [
    "df = pd.read_csv(input())"
   ]
  },
  {
   "cell_type": "code",
   "execution_count": 3,
   "metadata": {
    "pycharm": {
     "name": "#%%\n"
    }
   },
   "outputs": [
    {
     "data": {
      "text/html": [
       "<div>\n",
       "<style scoped>\n",
       "    .dataframe tbody tr th:only-of-type {\n",
       "        vertical-align: middle;\n",
       "    }\n",
       "\n",
       "    .dataframe tbody tr th {\n",
       "        vertical-align: top;\n",
       "    }\n",
       "\n",
       "    .dataframe thead th {\n",
       "        text-align: right;\n",
       "    }\n",
       "</style>\n",
       "<table border=\"1\" class=\"dataframe\">\n",
       "  <thead>\n",
       "    <tr style=\"text-align: right;\">\n",
       "      <th></th>\n",
       "      <th>gender</th>\n",
       "      <th>Near_Location</th>\n",
       "      <th>Partner</th>\n",
       "      <th>Promo_friends</th>\n",
       "      <th>Phone</th>\n",
       "      <th>Contract_period</th>\n",
       "      <th>Group_visits</th>\n",
       "      <th>Age</th>\n",
       "      <th>Avg_additional_charges_total</th>\n",
       "      <th>Month_to_end_contract</th>\n",
       "      <th>Lifetime</th>\n",
       "      <th>Avg_class_frequency_total</th>\n",
       "      <th>Avg_class_frequency_current_month</th>\n",
       "      <th>Churn</th>\n",
       "    </tr>\n",
       "  </thead>\n",
       "  <tbody>\n",
       "    <tr>\n",
       "      <th>0</th>\n",
       "      <td>1</td>\n",
       "      <td>1</td>\n",
       "      <td>1</td>\n",
       "      <td>1</td>\n",
       "      <td>0</td>\n",
       "      <td>6</td>\n",
       "      <td>1</td>\n",
       "      <td>29</td>\n",
       "      <td>14.227470</td>\n",
       "      <td>5.0</td>\n",
       "      <td>3</td>\n",
       "      <td>0.020398</td>\n",
       "      <td>0.000000</td>\n",
       "      <td>0</td>\n",
       "    </tr>\n",
       "    <tr>\n",
       "      <th>1</th>\n",
       "      <td>0</td>\n",
       "      <td>1</td>\n",
       "      <td>0</td>\n",
       "      <td>0</td>\n",
       "      <td>1</td>\n",
       "      <td>12</td>\n",
       "      <td>1</td>\n",
       "      <td>31</td>\n",
       "      <td>113.202938</td>\n",
       "      <td>12.0</td>\n",
       "      <td>7</td>\n",
       "      <td>1.922936</td>\n",
       "      <td>1.910244</td>\n",
       "      <td>0</td>\n",
       "    </tr>\n",
       "    <tr>\n",
       "      <th>2</th>\n",
       "      <td>0</td>\n",
       "      <td>1</td>\n",
       "      <td>1</td>\n",
       "      <td>0</td>\n",
       "      <td>1</td>\n",
       "      <td>1</td>\n",
       "      <td>0</td>\n",
       "      <td>28</td>\n",
       "      <td>129.448479</td>\n",
       "      <td>1.0</td>\n",
       "      <td>2</td>\n",
       "      <td>1.859098</td>\n",
       "      <td>1.736502</td>\n",
       "      <td>0</td>\n",
       "    </tr>\n",
       "    <tr>\n",
       "      <th>3</th>\n",
       "      <td>0</td>\n",
       "      <td>1</td>\n",
       "      <td>1</td>\n",
       "      <td>1</td>\n",
       "      <td>1</td>\n",
       "      <td>12</td>\n",
       "      <td>1</td>\n",
       "      <td>33</td>\n",
       "      <td>62.669863</td>\n",
       "      <td>12.0</td>\n",
       "      <td>2</td>\n",
       "      <td>3.205633</td>\n",
       "      <td>3.357215</td>\n",
       "      <td>0</td>\n",
       "    </tr>\n",
       "    <tr>\n",
       "      <th>4</th>\n",
       "      <td>1</td>\n",
       "      <td>1</td>\n",
       "      <td>1</td>\n",
       "      <td>1</td>\n",
       "      <td>1</td>\n",
       "      <td>1</td>\n",
       "      <td>0</td>\n",
       "      <td>26</td>\n",
       "      <td>198.362265</td>\n",
       "      <td>1.0</td>\n",
       "      <td>3</td>\n",
       "      <td>1.113884</td>\n",
       "      <td>1.120078</td>\n",
       "      <td>0</td>\n",
       "    </tr>\n",
       "    <tr>\n",
       "      <th>...</th>\n",
       "      <td>...</td>\n",
       "      <td>...</td>\n",
       "      <td>...</td>\n",
       "      <td>...</td>\n",
       "      <td>...</td>\n",
       "      <td>...</td>\n",
       "      <td>...</td>\n",
       "      <td>...</td>\n",
       "      <td>...</td>\n",
       "      <td>...</td>\n",
       "      <td>...</td>\n",
       "      <td>...</td>\n",
       "      <td>...</td>\n",
       "      <td>...</td>\n",
       "    </tr>\n",
       "    <tr>\n",
       "      <th>3995</th>\n",
       "      <td>1</td>\n",
       "      <td>1</td>\n",
       "      <td>1</td>\n",
       "      <td>0</td>\n",
       "      <td>1</td>\n",
       "      <td>12</td>\n",
       "      <td>0</td>\n",
       "      <td>33</td>\n",
       "      <td>2.406023</td>\n",
       "      <td>12.0</td>\n",
       "      <td>8</td>\n",
       "      <td>2.284497</td>\n",
       "      <td>2.349070</td>\n",
       "      <td>0</td>\n",
       "    </tr>\n",
       "    <tr>\n",
       "      <th>3996</th>\n",
       "      <td>0</td>\n",
       "      <td>1</td>\n",
       "      <td>0</td>\n",
       "      <td>0</td>\n",
       "      <td>1</td>\n",
       "      <td>1</td>\n",
       "      <td>1</td>\n",
       "      <td>29</td>\n",
       "      <td>68.883764</td>\n",
       "      <td>1.0</td>\n",
       "      <td>1</td>\n",
       "      <td>1.277168</td>\n",
       "      <td>0.292859</td>\n",
       "      <td>1</td>\n",
       "    </tr>\n",
       "    <tr>\n",
       "      <th>3997</th>\n",
       "      <td>1</td>\n",
       "      <td>1</td>\n",
       "      <td>1</td>\n",
       "      <td>1</td>\n",
       "      <td>1</td>\n",
       "      <td>12</td>\n",
       "      <td>0</td>\n",
       "      <td>28</td>\n",
       "      <td>78.250542</td>\n",
       "      <td>11.0</td>\n",
       "      <td>2</td>\n",
       "      <td>2.786146</td>\n",
       "      <td>2.831439</td>\n",
       "      <td>0</td>\n",
       "    </tr>\n",
       "    <tr>\n",
       "      <th>3998</th>\n",
       "      <td>0</td>\n",
       "      <td>1</td>\n",
       "      <td>1</td>\n",
       "      <td>1</td>\n",
       "      <td>1</td>\n",
       "      <td>6</td>\n",
       "      <td>0</td>\n",
       "      <td>32</td>\n",
       "      <td>61.912657</td>\n",
       "      <td>5.0</td>\n",
       "      <td>3</td>\n",
       "      <td>1.630108</td>\n",
       "      <td>1.596237</td>\n",
       "      <td>0</td>\n",
       "    </tr>\n",
       "    <tr>\n",
       "      <th>3999</th>\n",
       "      <td>1</td>\n",
       "      <td>0</td>\n",
       "      <td>1</td>\n",
       "      <td>0</td>\n",
       "      <td>0</td>\n",
       "      <td>12</td>\n",
       "      <td>1</td>\n",
       "      <td>30</td>\n",
       "      <td>178.861814</td>\n",
       "      <td>12.0</td>\n",
       "      <td>1</td>\n",
       "      <td>1.101832</td>\n",
       "      <td>1.035270</td>\n",
       "      <td>0</td>\n",
       "    </tr>\n",
       "  </tbody>\n",
       "</table>\n",
       "<p>4000 rows × 14 columns</p>\n",
       "</div>"
      ],
      "text/plain": [
       "      gender  Near_Location  Partner  Promo_friends  Phone  Contract_period  \\\n",
       "0          1              1        1              1      0                6   \n",
       "1          0              1        0              0      1               12   \n",
       "2          0              1        1              0      1                1   \n",
       "3          0              1        1              1      1               12   \n",
       "4          1              1        1              1      1                1   \n",
       "...      ...            ...      ...            ...    ...              ...   \n",
       "3995       1              1        1              0      1               12   \n",
       "3996       0              1        0              0      1                1   \n",
       "3997       1              1        1              1      1               12   \n",
       "3998       0              1        1              1      1                6   \n",
       "3999       1              0        1              0      0               12   \n",
       "\n",
       "      Group_visits  Age  Avg_additional_charges_total  Month_to_end_contract  \\\n",
       "0                1   29                     14.227470                    5.0   \n",
       "1                1   31                    113.202938                   12.0   \n",
       "2                0   28                    129.448479                    1.0   \n",
       "3                1   33                     62.669863                   12.0   \n",
       "4                0   26                    198.362265                    1.0   \n",
       "...            ...  ...                           ...                    ...   \n",
       "3995             0   33                      2.406023                   12.0   \n",
       "3996             1   29                     68.883764                    1.0   \n",
       "3997             0   28                     78.250542                   11.0   \n",
       "3998             0   32                     61.912657                    5.0   \n",
       "3999             1   30                    178.861814                   12.0   \n",
       "\n",
       "      Lifetime  Avg_class_frequency_total  Avg_class_frequency_current_month  \\\n",
       "0            3                   0.020398                           0.000000   \n",
       "1            7                   1.922936                           1.910244   \n",
       "2            2                   1.859098                           1.736502   \n",
       "3            2                   3.205633                           3.357215   \n",
       "4            3                   1.113884                           1.120078   \n",
       "...        ...                        ...                                ...   \n",
       "3995         8                   2.284497                           2.349070   \n",
       "3996         1                   1.277168                           0.292859   \n",
       "3997         2                   2.786146                           2.831439   \n",
       "3998         3                   1.630108                           1.596237   \n",
       "3999         1                   1.101832                           1.035270   \n",
       "\n",
       "      Churn  \n",
       "0         0  \n",
       "1         0  \n",
       "2         0  \n",
       "3         0  \n",
       "4         0  \n",
       "...     ...  \n",
       "3995      0  \n",
       "3996      1  \n",
       "3997      0  \n",
       "3998      0  \n",
       "3999      0  \n",
       "\n",
       "[4000 rows x 14 columns]"
      ]
     },
     "execution_count": 3,
     "metadata": {},
     "output_type": "execute_result"
    }
   ],
   "source": [
    "df"
   ]
  },
  {
   "cell_type": "markdown",
   "metadata": {
    "pycharm": {
     "name": "#%% md\n"
    }
   },
   "source": [
    "## Исследовательский анализ данных (EDA)\n",
    "\n",
    "Проверим датасет: есть ли в нем отсутствующие признаки? Изучим средние значения и стандартные отклонения."
   ]
  },
  {
   "cell_type": "code",
   "execution_count": 4,
   "metadata": {
    "pycharm": {
     "name": "#%%\n"
    }
   },
   "outputs": [
    {
     "name": "stdout",
     "output_type": "stream",
     "text": [
      "<class 'pandas.core.frame.DataFrame'>\n",
      "RangeIndex: 4000 entries, 0 to 3999\n",
      "Data columns (total 14 columns):\n",
      " #   Column                             Non-Null Count  Dtype  \n",
      "---  ------                             --------------  -----  \n",
      " 0   gender                             4000 non-null   int64  \n",
      " 1   Near_Location                      4000 non-null   int64  \n",
      " 2   Partner                            4000 non-null   int64  \n",
      " 3   Promo_friends                      4000 non-null   int64  \n",
      " 4   Phone                              4000 non-null   int64  \n",
      " 5   Contract_period                    4000 non-null   int64  \n",
      " 6   Group_visits                       4000 non-null   int64  \n",
      " 7   Age                                4000 non-null   int64  \n",
      " 8   Avg_additional_charges_total       4000 non-null   float64\n",
      " 9   Month_to_end_contract              4000 non-null   float64\n",
      " 10  Lifetime                           4000 non-null   int64  \n",
      " 11  Avg_class_frequency_total          4000 non-null   float64\n",
      " 12  Avg_class_frequency_current_month  4000 non-null   float64\n",
      " 13  Churn                              4000 non-null   int64  \n",
      "dtypes: float64(4), int64(10)\n",
      "memory usage: 437.6 KB\n"
     ]
    }
   ],
   "source": [
    "df.info()"
   ]
  },
  {
   "cell_type": "code",
   "execution_count": 5,
   "metadata": {
    "pycharm": {
     "name": "#%%\n"
    }
   },
   "outputs": [
    {
     "data": {
      "text/html": [
       "<div>\n",
       "<style scoped>\n",
       "    .dataframe tbody tr th:only-of-type {\n",
       "        vertical-align: middle;\n",
       "    }\n",
       "\n",
       "    .dataframe tbody tr th {\n",
       "        vertical-align: top;\n",
       "    }\n",
       "\n",
       "    .dataframe thead th {\n",
       "        text-align: right;\n",
       "    }\n",
       "</style>\n",
       "<table border=\"1\" class=\"dataframe\">\n",
       "  <thead>\n",
       "    <tr style=\"text-align: right;\">\n",
       "      <th></th>\n",
       "      <th>gender</th>\n",
       "      <th>Near_Location</th>\n",
       "      <th>Partner</th>\n",
       "      <th>Promo_friends</th>\n",
       "      <th>Phone</th>\n",
       "      <th>Contract_period</th>\n",
       "      <th>Group_visits</th>\n",
       "      <th>Age</th>\n",
       "      <th>Avg_additional_charges_total</th>\n",
       "      <th>Month_to_end_contract</th>\n",
       "      <th>Lifetime</th>\n",
       "      <th>Avg_class_frequency_total</th>\n",
       "      <th>Avg_class_frequency_current_month</th>\n",
       "      <th>Churn</th>\n",
       "    </tr>\n",
       "  </thead>\n",
       "  <tbody>\n",
       "    <tr>\n",
       "      <th>count</th>\n",
       "      <td>4000.000000</td>\n",
       "      <td>4000.000000</td>\n",
       "      <td>4000.000000</td>\n",
       "      <td>4000.000000</td>\n",
       "      <td>4000.000000</td>\n",
       "      <td>4000.000000</td>\n",
       "      <td>4000.000000</td>\n",
       "      <td>4000.000000</td>\n",
       "      <td>4000.000000</td>\n",
       "      <td>4000.000000</td>\n",
       "      <td>4000.000000</td>\n",
       "      <td>4000.000000</td>\n",
       "      <td>4000.000000</td>\n",
       "      <td>4000.000000</td>\n",
       "    </tr>\n",
       "    <tr>\n",
       "      <th>mean</th>\n",
       "      <td>0.510250</td>\n",
       "      <td>0.845250</td>\n",
       "      <td>0.486750</td>\n",
       "      <td>0.308500</td>\n",
       "      <td>0.903500</td>\n",
       "      <td>4.681250</td>\n",
       "      <td>0.412250</td>\n",
       "      <td>29.184250</td>\n",
       "      <td>146.943728</td>\n",
       "      <td>4.322750</td>\n",
       "      <td>3.724750</td>\n",
       "      <td>1.879020</td>\n",
       "      <td>1.767052</td>\n",
       "      <td>0.265250</td>\n",
       "    </tr>\n",
       "    <tr>\n",
       "      <th>std</th>\n",
       "      <td>0.499957</td>\n",
       "      <td>0.361711</td>\n",
       "      <td>0.499887</td>\n",
       "      <td>0.461932</td>\n",
       "      <td>0.295313</td>\n",
       "      <td>4.549706</td>\n",
       "      <td>0.492301</td>\n",
       "      <td>3.258367</td>\n",
       "      <td>96.355602</td>\n",
       "      <td>4.191297</td>\n",
       "      <td>3.749267</td>\n",
       "      <td>0.972245</td>\n",
       "      <td>1.052906</td>\n",
       "      <td>0.441521</td>\n",
       "    </tr>\n",
       "    <tr>\n",
       "      <th>min</th>\n",
       "      <td>0.000000</td>\n",
       "      <td>0.000000</td>\n",
       "      <td>0.000000</td>\n",
       "      <td>0.000000</td>\n",
       "      <td>0.000000</td>\n",
       "      <td>1.000000</td>\n",
       "      <td>0.000000</td>\n",
       "      <td>18.000000</td>\n",
       "      <td>0.148205</td>\n",
       "      <td>1.000000</td>\n",
       "      <td>0.000000</td>\n",
       "      <td>0.000000</td>\n",
       "      <td>0.000000</td>\n",
       "      <td>0.000000</td>\n",
       "    </tr>\n",
       "    <tr>\n",
       "      <th>25%</th>\n",
       "      <td>0.000000</td>\n",
       "      <td>1.000000</td>\n",
       "      <td>0.000000</td>\n",
       "      <td>0.000000</td>\n",
       "      <td>1.000000</td>\n",
       "      <td>1.000000</td>\n",
       "      <td>0.000000</td>\n",
       "      <td>27.000000</td>\n",
       "      <td>68.868830</td>\n",
       "      <td>1.000000</td>\n",
       "      <td>1.000000</td>\n",
       "      <td>1.180875</td>\n",
       "      <td>0.963003</td>\n",
       "      <td>0.000000</td>\n",
       "    </tr>\n",
       "    <tr>\n",
       "      <th>50%</th>\n",
       "      <td>1.000000</td>\n",
       "      <td>1.000000</td>\n",
       "      <td>0.000000</td>\n",
       "      <td>0.000000</td>\n",
       "      <td>1.000000</td>\n",
       "      <td>1.000000</td>\n",
       "      <td>0.000000</td>\n",
       "      <td>29.000000</td>\n",
       "      <td>136.220159</td>\n",
       "      <td>1.000000</td>\n",
       "      <td>3.000000</td>\n",
       "      <td>1.832768</td>\n",
       "      <td>1.719574</td>\n",
       "      <td>0.000000</td>\n",
       "    </tr>\n",
       "    <tr>\n",
       "      <th>75%</th>\n",
       "      <td>1.000000</td>\n",
       "      <td>1.000000</td>\n",
       "      <td>1.000000</td>\n",
       "      <td>1.000000</td>\n",
       "      <td>1.000000</td>\n",
       "      <td>6.000000</td>\n",
       "      <td>1.000000</td>\n",
       "      <td>31.000000</td>\n",
       "      <td>210.949625</td>\n",
       "      <td>6.000000</td>\n",
       "      <td>5.000000</td>\n",
       "      <td>2.536078</td>\n",
       "      <td>2.510336</td>\n",
       "      <td>1.000000</td>\n",
       "    </tr>\n",
       "    <tr>\n",
       "      <th>max</th>\n",
       "      <td>1.000000</td>\n",
       "      <td>1.000000</td>\n",
       "      <td>1.000000</td>\n",
       "      <td>1.000000</td>\n",
       "      <td>1.000000</td>\n",
       "      <td>12.000000</td>\n",
       "      <td>1.000000</td>\n",
       "      <td>41.000000</td>\n",
       "      <td>552.590740</td>\n",
       "      <td>12.000000</td>\n",
       "      <td>31.000000</td>\n",
       "      <td>6.023668</td>\n",
       "      <td>6.146783</td>\n",
       "      <td>1.000000</td>\n",
       "    </tr>\n",
       "  </tbody>\n",
       "</table>\n",
       "</div>"
      ],
      "text/plain": [
       "            gender  Near_Location      Partner  Promo_friends        Phone  \\\n",
       "count  4000.000000    4000.000000  4000.000000    4000.000000  4000.000000   \n",
       "mean      0.510250       0.845250     0.486750       0.308500     0.903500   \n",
       "std       0.499957       0.361711     0.499887       0.461932     0.295313   \n",
       "min       0.000000       0.000000     0.000000       0.000000     0.000000   \n",
       "25%       0.000000       1.000000     0.000000       0.000000     1.000000   \n",
       "50%       1.000000       1.000000     0.000000       0.000000     1.000000   \n",
       "75%       1.000000       1.000000     1.000000       1.000000     1.000000   \n",
       "max       1.000000       1.000000     1.000000       1.000000     1.000000   \n",
       "\n",
       "       Contract_period  Group_visits          Age  \\\n",
       "count      4000.000000   4000.000000  4000.000000   \n",
       "mean          4.681250      0.412250    29.184250   \n",
       "std           4.549706      0.492301     3.258367   \n",
       "min           1.000000      0.000000    18.000000   \n",
       "25%           1.000000      0.000000    27.000000   \n",
       "50%           1.000000      0.000000    29.000000   \n",
       "75%           6.000000      1.000000    31.000000   \n",
       "max          12.000000      1.000000    41.000000   \n",
       "\n",
       "       Avg_additional_charges_total  Month_to_end_contract     Lifetime  \\\n",
       "count                   4000.000000            4000.000000  4000.000000   \n",
       "mean                     146.943728               4.322750     3.724750   \n",
       "std                       96.355602               4.191297     3.749267   \n",
       "min                        0.148205               1.000000     0.000000   \n",
       "25%                       68.868830               1.000000     1.000000   \n",
       "50%                      136.220159               1.000000     3.000000   \n",
       "75%                      210.949625               6.000000     5.000000   \n",
       "max                      552.590740              12.000000    31.000000   \n",
       "\n",
       "       Avg_class_frequency_total  Avg_class_frequency_current_month  \\\n",
       "count                4000.000000                        4000.000000   \n",
       "mean                    1.879020                           1.767052   \n",
       "std                     0.972245                           1.052906   \n",
       "min                     0.000000                           0.000000   \n",
       "25%                     1.180875                           0.963003   \n",
       "50%                     1.832768                           1.719574   \n",
       "75%                     2.536078                           2.510336   \n",
       "max                     6.023668                           6.146783   \n",
       "\n",
       "             Churn  \n",
       "count  4000.000000  \n",
       "mean      0.265250  \n",
       "std       0.441521  \n",
       "min       0.000000  \n",
       "25%       0.000000  \n",
       "50%       0.000000  \n",
       "75%       1.000000  \n",
       "max       1.000000  "
      ]
     },
     "execution_count": 5,
     "metadata": {},
     "output_type": "execute_result"
    }
   ],
   "source": [
    "df.describe()"
   ]
  },
  {
   "cell_type": "markdown",
   "metadata": {
    "pycharm": {
     "name": "#%% md\n"
    }
   },
   "source": [
    "Пропусков / отсутствующих признаков в датасете не обнаружено."
   ]
  },
  {
   "cell_type": "markdown",
   "metadata": {
    "pycharm": {
     "name": "#%% md\n"
    }
   },
   "source": [
    "В целом по выборке:\n",
    "* Распределение пола близко к интуитивно ожидаемым значениям: примерно пополам;\n",
    "* Большинство (почти 85%) проживают или работают в районе, где расположен фитнес-центр;\n",
    "* Почти половина клиентов (~49%) - сотрудники компаний-партнёров клуба;\n",
    "* Около трети (~31%) клиентов - участники программы \"Приведи друга\" (первоначально зарегистрировались по приглашению действующего клиента);\n",
    "* Для большинства (90%) клиентов указан контактный телефон;\n",
    "* Средний период контракта близок к 6 месяцам;\n",
    "* Около 41% клиентов посещали групповые занятия в клубе;\n",
    "* Средний возраст клиентов клуба - 29 лет;\n",
    "* Средняя суммарная выручка от других услуг фитнес-центра на пользователя - около 150 рублей (негусто);\n",
    "* Средний срок до окончания текущего действующего абонемента (в месяцах) - около 4 месяцев (4.3);\n",
    "* Средний лайфтайм (время с момента первого обращения в фитнес-центр) также около 4 месяцев (3.7);\n",
    "* Средняя частота посещений в неделю за все время с начала действия абонемента - около 2 посещений (1.88);\n",
    "* Средняя частота посещений в неделю за предыдущий месяц - 1.77;\n",
    "* Средний отток - около четверти (26.5%)\n",
    "\n",
    "Посмотрим на средние значения признаков в двух группах — тех, кто ушел в отток и тех, кто остался."
   ]
  },
  {
   "cell_type": "code",
   "execution_count": 6,
   "metadata": {
    "pycharm": {
     "name": "#%%\n"
    }
   },
   "outputs": [
    {
     "data": {
      "text/html": [
       "<div>\n",
       "<style scoped>\n",
       "    .dataframe tbody tr th:only-of-type {\n",
       "        vertical-align: middle;\n",
       "    }\n",
       "\n",
       "    .dataframe tbody tr th {\n",
       "        vertical-align: top;\n",
       "    }\n",
       "\n",
       "    .dataframe thead th {\n",
       "        text-align: right;\n",
       "    }\n",
       "</style>\n",
       "<table border=\"1\" class=\"dataframe\">\n",
       "  <thead>\n",
       "    <tr style=\"text-align: right;\">\n",
       "      <th></th>\n",
       "      <th>gender</th>\n",
       "      <th>Near_Location</th>\n",
       "      <th>Partner</th>\n",
       "      <th>Promo_friends</th>\n",
       "      <th>Phone</th>\n",
       "      <th>Contract_period</th>\n",
       "      <th>Group_visits</th>\n",
       "      <th>Age</th>\n",
       "      <th>Avg_additional_charges_total</th>\n",
       "      <th>Month_to_end_contract</th>\n",
       "      <th>Lifetime</th>\n",
       "      <th>Avg_class_frequency_total</th>\n",
       "      <th>Avg_class_frequency_current_month</th>\n",
       "    </tr>\n",
       "    <tr>\n",
       "      <th>Churn</th>\n",
       "      <th></th>\n",
       "      <th></th>\n",
       "      <th></th>\n",
       "      <th></th>\n",
       "      <th></th>\n",
       "      <th></th>\n",
       "      <th></th>\n",
       "      <th></th>\n",
       "      <th></th>\n",
       "      <th></th>\n",
       "      <th></th>\n",
       "      <th></th>\n",
       "      <th></th>\n",
       "    </tr>\n",
       "  </thead>\n",
       "  <tbody>\n",
       "    <tr>\n",
       "      <th>0</th>\n",
       "      <td>0.510037</td>\n",
       "      <td>0.873086</td>\n",
       "      <td>0.534195</td>\n",
       "      <td>0.353522</td>\n",
       "      <td>0.903709</td>\n",
       "      <td>5.747193</td>\n",
       "      <td>0.464103</td>\n",
       "      <td>29.976523</td>\n",
       "      <td>158.445715</td>\n",
       "      <td>5.283089</td>\n",
       "      <td>4.711807</td>\n",
       "      <td>2.024876</td>\n",
       "      <td>2.027882</td>\n",
       "    </tr>\n",
       "    <tr>\n",
       "      <th>1</th>\n",
       "      <td>0.510839</td>\n",
       "      <td>0.768143</td>\n",
       "      <td>0.355325</td>\n",
       "      <td>0.183789</td>\n",
       "      <td>0.902922</td>\n",
       "      <td>1.728558</td>\n",
       "      <td>0.268615</td>\n",
       "      <td>26.989632</td>\n",
       "      <td>115.082899</td>\n",
       "      <td>1.662582</td>\n",
       "      <td>0.990575</td>\n",
       "      <td>1.474995</td>\n",
       "      <td>1.044546</td>\n",
       "    </tr>\n",
       "  </tbody>\n",
       "</table>\n",
       "</div>"
      ],
      "text/plain": [
       "         gender  Near_Location   Partner  Promo_friends     Phone  \\\n",
       "Churn                                                               \n",
       "0      0.510037       0.873086  0.534195       0.353522  0.903709   \n",
       "1      0.510839       0.768143  0.355325       0.183789  0.902922   \n",
       "\n",
       "       Contract_period  Group_visits        Age  Avg_additional_charges_total  \\\n",
       "Churn                                                                           \n",
       "0             5.747193      0.464103  29.976523                    158.445715   \n",
       "1             1.728558      0.268615  26.989632                    115.082899   \n",
       "\n",
       "       Month_to_end_contract  Lifetime  Avg_class_frequency_total  \\\n",
       "Churn                                                               \n",
       "0                   5.283089  4.711807                   2.024876   \n",
       "1                   1.662582  0.990575                   1.474995   \n",
       "\n",
       "       Avg_class_frequency_current_month  \n",
       "Churn                                     \n",
       "0                               2.027882  \n",
       "1                               1.044546  "
      ]
     },
     "execution_count": 6,
     "metadata": {},
     "output_type": "execute_result"
    }
   ],
   "source": [
    "df.groupby('Churn').mean()"
   ]
  },
  {
   "cell_type": "markdown",
   "metadata": {
    "pycharm": {
     "name": "#%% md\n"
    }
   },
   "source": [
    "Остановимся только на тех показателях, которые заметно отличаются среди ушедших и оставшихся клиентов.\n",
    "* Ушедшие реже живут или работают рядом с клубом (однако, таких среди ушедших всё ещё большинство - ~77%);\n",
    "* Ушедшие клиенты реже приходят по приглашению друга или являются сотрудниками компаний-партнёров клуба;\n",
    "* В среднем ушедшие клиенты склонны заключать короткие контракты - 1.7 месяца против 5.7 месяцев для оставшихся;\n",
    "* Ушедшие клиенты несколько моложе - примерно на 3 года (30 vs 27 лет);\n",
    "* Ожидаемо, ушедшие клиенты показывают худшие результаты по всем признакам, фиксирующимся в журнале посещений: они меньше тратят, их абонемент заканчивается в обозримом будущем, они реже посещают зал;\n",
    "* Лайфтайм ушедших клиентов значительно (почти в 5 раз) ниже лайфтайма оставшихся - показатель отсутствия привычки к посещению зала.\n",
    "\n",
    "Построим столбчатые гистограммы и распределения признаков для тех, кто ушёл (отток) и тех, кто остался (не попали в отток)."
   ]
  },
  {
   "cell_type": "code",
   "execution_count": 7,
   "metadata": {
    "scrolled": true,
    "pycharm": {
     "name": "#%%\n"
    }
   },
   "outputs": [
    {
     "data": {
      "image/png": "[encoded data removed]",
      "text/plain": [
       "<Figure size 1080x1080 with 16 Axes>"
      ]
     },
     "metadata": {
      "needs_background": "light"
     },
     "output_type": "display_data"
    }
   ],
   "source": [
    "df[df['Churn']==1].hist(figsize=(15,15));"
   ]
  },
  {
   "cell_type": "markdown",
   "metadata": {
    "pycharm": {
     "name": "#%% md\n"
    }
   },
   "source": [
    "Большинство признаков среди ушедших смещены вправо. Исключение - возраст. Переменные, принимающие по сути булевы значения, рассмотрены выше.\n",
    "\n",
    "Посмотрим на распределения признаков тех, кто остался пользователями."
   ]
  },
  {
   "cell_type": "code",
   "execution_count": 8,
   "metadata": {
    "scrolled": true,
    "pycharm": {
     "name": "#%%\n"
    }
   },
   "outputs": [
    {
     "data": {
      "image/png": "[encoded data removed]",
      "text/plain": [
       "<Figure size 1080x1080 with 16 Axes>"
      ]
     },
     "metadata": {
      "needs_background": "light"
     },
     "output_type": "display_data"
    }
   ],
   "source": [
    "df[df['Churn']==0].hist(figsize=(15,15));"
   ]
  },
  {
   "cell_type": "markdown",
   "metadata": {
    "pycharm": {
     "name": "#%% md\n"
    }
   },
   "source": [
    "Аналогично потерянным пользователям, среди оставшихся большинство признаков смещены вправо, с тем же самым исключением в виде возраста.\n",
    "\n",
    "Построим матрицу корреляций и посмотрим на неё."
   ]
  },
  {
   "cell_type": "code",
   "execution_count": 9,
   "metadata": {
    "pycharm": {
     "name": "#%%\n"
    }
   },
   "outputs": [
    {
     "data": {
      "image/png": "[encoded data removed]",
      "text/plain": [
       "<Figure size 1080x720 with 2 Axes>"
      ]
     },
     "metadata": {
      "needs_background": "light"
     },
     "output_type": "display_data"
    }
   ],
   "source": [
    "fig, ax = plt.subplots(figsize=(15,10))  \n",
    "sns.heatmap(df.corr(), annot=True, ax=ax)\n",
    "plt.show()"
   ]
  },
  {
   "cell_type": "markdown",
   "metadata": {
    "pycharm": {
     "name": "#%% md\n"
    }
   },
   "source": [
    "Сильнее других с фактом оттока коррелируют показатели журнала посещений, срок абонемента, возраст и лайфтайм клиента. Чем моложе клиент, чем более краткосрочный у него контракт и чем ближе дата его окончания, чем реже клиент посещал зал - тем более вероятно, что такой клиент абонемент НЕ продлит."
   ]
  },
  {
   "cell_type": "markdown",
   "metadata": {
    "pycharm": {
     "name": "#%% md\n"
    }
   },
   "source": [
    "## Модель прогнозирования оттока клиентов\n",
    "\n",
    "Построим модель бинарной классификации клиентов, где целевой признак — факт оттока клиента в следующем месяце:\n",
    "* Разобьём данные на обучающую и валидационную выборку функцией train_test_split().\n",
    "* Обучим модель на train-выборке двумя способами:\n",
    "    * логистической регрессией,\n",
    "    * случайным лесом.\n",
    "\n",
    "Оценим метрики accuracy, precision и recall для обеих моделей на валидационной выборке. Сравним по ним модели и выберем лучшую."
   ]
  },
  {
   "cell_type": "code",
   "execution_count": 10,
   "metadata": {
    "pycharm": {
     "name": "#%%\n"
    }
   },
   "outputs": [
    {
     "name": "stderr",
     "output_type": "stream",
     "text": [
      "/opt/conda/lib/python3.9/site-packages/sklearn/linear_model/_logistic.py:763: ConvergenceWarning: lbfgs failed to converge (status=1):\n",
      "STOP: TOTAL NO. of ITERATIONS REACHED LIMIT.\n",
      "\n",
      "Increase the number of iterations (max_iter) or scale the data as shown in:\n",
      "    https://scikit-learn.org/stable/modules/preprocessing.html\n",
      "Please also refer to the documentation for alternative solver options:\n",
      "    https://scikit-learn.org/stable/modules/linear_model.html#logistic-regression\n",
      "  n_iter_i = _check_optimize_result(\n"
     ]
    },
    {
     "name": "stdout",
     "output_type": "stream",
     "text": [
      "Метрики для модели LogisticRegression(random_state=42)\n",
      "Accuracy: 0.91\n",
      "Precision: 0.87\n",
      "Recall: 0.76\n",
      "Метрики для модели RandomForestClassifier(random_state=42)\n",
      "Accuracy: 0.91\n",
      "Precision: 0.85\n",
      "Recall: 0.78\n"
     ]
    }
   ],
   "source": [
    "X_train, X_test, y_train, y_test = train_test_split(df.drop(columns=['Churn']), df['Churn'], test_size=0.2, random_state=42)\n",
    "\n",
    "# зададим список моделей\n",
    "models = [LogisticRegression(random_state=42), RandomForestClassifier(random_state=42)]\n",
    "\n",
    "for model in models:\n",
    "    model.fit(X_train, y_train)\n",
    "    predictions = model.predict(X_test)\n",
    "    probanilites = model.predict_proba(X_test)[:, 1]\n",
    "    print(\"Метрики для модели\", model)\n",
    "    print('Accuracy: {:.2f}'.format(accuracy_score(y_test, predictions)))\n",
    "    print('Precision: {:.2f}'.format(precision_score(y_test, predictions)))\n",
    "    print('Recall: {:.2f}'.format(recall_score(y_test, predictions)))"
   ]
  },
  {
   "cell_type": "markdown",
   "metadata": {
    "pycharm": {
     "name": "#%% md\n"
    }
   },
   "source": [
    "Показатели метрик используемых моделей близки.\n",
    "\n",
    "Логистическая регрессия показывает несколько лучший Precision, тогда как случайный лес - лучший Recall. \n",
    "\n",
    "Напомним, что обозначает каждая из метрик:\n",
    "* Precision - доля правильных ответов среди целевого класса.\n",
    "* Recall - доля реальных объектов искомого класса, которые мы смогли обнаружить с помощью модели.\n",
    "\n",
    "Если исходить из того, что потеря клиента для бизнеса дороже, чем его удержание, то Recall - более предпочтительная метрика. На этом основании рекомендацией будет выбрать модель на основе случайного леса."
   ]
  },
  {
   "cell_type": "markdown",
   "metadata": {
    "pycharm": {
     "name": "#%% md\n"
    }
   },
   "source": [
    "## Кластеризация клиентов\n",
    "\n",
    "В рамках задачи кластеризации выполним следущие действия:\n",
    "\n",
    "* Стандартизируем данные.\n",
    "* Построим матрицу расстояний функцией linkage() на стандартизованной матрице признаков и нарисуем дендрограмму. На основании полученного графика предположим, какое количество кластеров можно выделить.\n",
    "* Обучим модель кластеризации на основании алгоритма K-Means и спрогнозируем кластеры клиентов.\n",
    "* Посмотрим на средние значения признаков для кластеров. Можно ли сразу что-то заметить?\n",
    "* Построим распределения признаков для кластеров. Можно ли что-то заметить по ним?\n",
    "* Для каждого полученного кластера посчитаем долю оттока (методом groupby()). Отличаются ли они по доле оттока? Какие кластеры склонны к оттоку, а какие — надёжны?"
   ]
  },
  {
   "cell_type": "code",
   "execution_count": 11,
   "metadata": {
    "pycharm": {
     "name": "#%%\n"
    }
   },
   "outputs": [],
   "source": [
    "sc = StandardScaler()\n",
    "X_sc = sc.fit_transform(df.drop(columns=['Churn'])) # стандартизуем без Churn\n",
    "linked = linkage(X_sc, method = 'ward')"
   ]
  },
  {
   "cell_type": "code",
   "execution_count": 12,
   "metadata": {
    "pycharm": {
     "name": "#%%\n"
    }
   },
   "outputs": [
    {
     "data": {
      "image/png": "[encoded data removed]",
      "text/plain": [
       "<Figure size 1080x720 with 1 Axes>"
      ]
     },
     "metadata": {
      "needs_background": "light"
     },
     "output_type": "display_data"
    }
   ],
   "source": [
    "plt.figure(figsize=(15, 10))  \n",
    "dendrogram(linked, orientation='top')\n",
    "plt.title('Иерархическая кластеризация')\n",
    "plt.show() "
   ]
  },
  {
   "cell_type": "markdown",
   "metadata": {
    "pycharm": {
     "name": "#%% md\n"
    }
   },
   "source": [
    "Согласно автоматической визуализации иерархической кластеризации, мы можем выделить четыре кластера. При этом, один из них получается достаточно разнородным - потенциально его можно разбивать дополнительно.\n",
    "\n",
    "По условиям задания нам необходимо проанализировать пять кластеров (для сравнимости выводов) - будем придерживаться этого числа."
   ]
  },
  {
   "cell_type": "code",
   "execution_count": 13,
   "metadata": {
    "pycharm": {
     "name": "#%%\n"
    }
   },
   "outputs": [
    {
     "data": {
      "text/html": [
       "<div>\n",
       "<style scoped>\n",
       "    .dataframe tbody tr th:only-of-type {\n",
       "        vertical-align: middle;\n",
       "    }\n",
       "\n",
       "    .dataframe tbody tr th {\n",
       "        vertical-align: top;\n",
       "    }\n",
       "\n",
       "    .dataframe thead th {\n",
       "        text-align: right;\n",
       "    }\n",
       "</style>\n",
       "<table border=\"1\" class=\"dataframe\">\n",
       "  <thead>\n",
       "    <tr style=\"text-align: right;\">\n",
       "      <th></th>\n",
       "      <th>gender</th>\n",
       "      <th>Near_Location</th>\n",
       "      <th>Partner</th>\n",
       "      <th>Promo_friends</th>\n",
       "      <th>Phone</th>\n",
       "      <th>Contract_period</th>\n",
       "      <th>Group_visits</th>\n",
       "      <th>Age</th>\n",
       "      <th>Avg_additional_charges_total</th>\n",
       "      <th>Month_to_end_contract</th>\n",
       "      <th>Lifetime</th>\n",
       "      <th>Avg_class_frequency_total</th>\n",
       "      <th>Avg_class_frequency_current_month</th>\n",
       "      <th>Churn</th>\n",
       "    </tr>\n",
       "    <tr>\n",
       "      <th>cluster_km</th>\n",
       "      <th></th>\n",
       "      <th></th>\n",
       "      <th></th>\n",
       "      <th></th>\n",
       "      <th></th>\n",
       "      <th></th>\n",
       "      <th></th>\n",
       "      <th></th>\n",
       "      <th></th>\n",
       "      <th></th>\n",
       "      <th></th>\n",
       "      <th></th>\n",
       "      <th></th>\n",
       "      <th></th>\n",
       "    </tr>\n",
       "  </thead>\n",
       "  <tbody>\n",
       "    <tr>\n",
       "      <th>0</th>\n",
       "      <td>0.593625</td>\n",
       "      <td>0.972112</td>\n",
       "      <td>0.281541</td>\n",
       "      <td>0.116866</td>\n",
       "      <td>0.895086</td>\n",
       "      <td>2.907039</td>\n",
       "      <td>0.484728</td>\n",
       "      <td>30.321381</td>\n",
       "      <td>163.013091</td>\n",
       "      <td>2.664011</td>\n",
       "      <td>5.183267</td>\n",
       "      <td>2.922966</td>\n",
       "      <td>2.927890</td>\n",
       "      <td>0.057105</td>\n",
       "    </tr>\n",
       "    <tr>\n",
       "      <th>1</th>\n",
       "      <td>0.501604</td>\n",
       "      <td>0.944385</td>\n",
       "      <td>0.742246</td>\n",
       "      <td>0.489840</td>\n",
       "      <td>0.900535</td>\n",
       "      <td>11.878075</td>\n",
       "      <td>0.551872</td>\n",
       "      <td>29.920856</td>\n",
       "      <td>164.982551</td>\n",
       "      <td>10.869519</td>\n",
       "      <td>4.706952</td>\n",
       "      <td>1.994082</td>\n",
       "      <td>1.985368</td>\n",
       "      <td>0.022460</td>\n",
       "    </tr>\n",
       "    <tr>\n",
       "      <th>2</th>\n",
       "      <td>0.483216</td>\n",
       "      <td>1.000000</td>\n",
       "      <td>0.243816</td>\n",
       "      <td>0.010601</td>\n",
       "      <td>0.902827</td>\n",
       "      <td>1.985866</td>\n",
       "      <td>0.322438</td>\n",
       "      <td>28.219081</td>\n",
       "      <td>131.371696</td>\n",
       "      <td>1.902827</td>\n",
       "      <td>2.450530</td>\n",
       "      <td>1.305629</td>\n",
       "      <td>1.070777</td>\n",
       "      <td>0.516784</td>\n",
       "    </tr>\n",
       "    <tr>\n",
       "      <th>3</th>\n",
       "      <td>0.485804</td>\n",
       "      <td>1.000000</td>\n",
       "      <td>0.805994</td>\n",
       "      <td>1.000000</td>\n",
       "      <td>0.908517</td>\n",
       "      <td>3.102524</td>\n",
       "      <td>0.451104</td>\n",
       "      <td>29.078864</td>\n",
       "      <td>140.097349</td>\n",
       "      <td>2.881703</td>\n",
       "      <td>3.610410</td>\n",
       "      <td>1.682177</td>\n",
       "      <td>1.565955</td>\n",
       "      <td>0.263407</td>\n",
       "    </tr>\n",
       "    <tr>\n",
       "      <th>4</th>\n",
       "      <td>0.494505</td>\n",
       "      <td>0.000000</td>\n",
       "      <td>0.465201</td>\n",
       "      <td>0.076923</td>\n",
       "      <td>0.915751</td>\n",
       "      <td>2.225275</td>\n",
       "      <td>0.214286</td>\n",
       "      <td>28.478022</td>\n",
       "      <td>134.126172</td>\n",
       "      <td>2.089744</td>\n",
       "      <td>2.805861</td>\n",
       "      <td>1.659607</td>\n",
       "      <td>1.469327</td>\n",
       "      <td>0.448718</td>\n",
       "    </tr>\n",
       "  </tbody>\n",
       "</table>\n",
       "</div>"
      ],
      "text/plain": [
       "              gender  Near_Location   Partner  Promo_friends     Phone  \\\n",
       "cluster_km                                                               \n",
       "0           0.593625       0.972112  0.281541       0.116866  0.895086   \n",
       "1           0.501604       0.944385  0.742246       0.489840  0.900535   \n",
       "2           0.483216       1.000000  0.243816       0.010601  0.902827   \n",
       "3           0.485804       1.000000  0.805994       1.000000  0.908517   \n",
       "4           0.494505       0.000000  0.465201       0.076923  0.915751   \n",
       "\n",
       "            Contract_period  Group_visits        Age  \\\n",
       "cluster_km                                             \n",
       "0                  2.907039      0.484728  30.321381   \n",
       "1                 11.878075      0.551872  29.920856   \n",
       "2                  1.985866      0.322438  28.219081   \n",
       "3                  3.102524      0.451104  29.078864   \n",
       "4                  2.225275      0.214286  28.478022   \n",
       "\n",
       "            Avg_additional_charges_total  Month_to_end_contract  Lifetime  \\\n",
       "cluster_km                                                                  \n",
       "0                             163.013091               2.664011  5.183267   \n",
       "1                             164.982551              10.869519  4.706952   \n",
       "2                             131.371696               1.902827  2.450530   \n",
       "3                             140.097349               2.881703  3.610410   \n",
       "4                             134.126172               2.089744  2.805861   \n",
       "\n",
       "            Avg_class_frequency_total  Avg_class_frequency_current_month  \\\n",
       "cluster_km                                                                 \n",
       "0                            2.922966                           2.927890   \n",
       "1                            1.994082                           1.985368   \n",
       "2                            1.305629                           1.070777   \n",
       "3                            1.682177                           1.565955   \n",
       "4                            1.659607                           1.469327   \n",
       "\n",
       "               Churn  \n",
       "cluster_km            \n",
       "0           0.057105  \n",
       "1           0.022460  \n",
       "2           0.516784  \n",
       "3           0.263407  \n",
       "4           0.448718  "
      ]
     },
     "metadata": {},
     "output_type": "display_data"
    }
   ],
   "source": [
    "km = KMeans(n_clusters = 5, random_state=2402)\n",
    "labels = km.fit_predict(X_sc)\n",
    "df['cluster_km'] = labels\n",
    "display(df.groupby('cluster_km').mean())"
   ]
  },
  {
   "cell_type": "markdown",
   "metadata": {
    "pycharm": {
     "name": "#%% md\n"
    }
   },
   "source": [
    "Самые \"надёжные\" в смысле оттока кластеры - нулевой и первый.\n",
    "Все кластеры характеризуются схожим распределением клиентов по полу. \n",
    "\n",
    "* Первый кластер очень лоялен. Клиенты, попавшие в него, живут либо работают поблизости от клуба, являются сотрудниками компаний-партнёров, покупали абонемент по реферальной программе, их абонемент рассчитан на долгий срок. Кроме того, они чаще других посещают зал, довольно ходят на групповые занятия (хотя по этому показателю уступают первому кластеру).\n",
    "\n",
    "* Нулевой кластер также состоит из лояльных клиентов. При этом, они реже имели более мягкие условия покупки абонемента - лишь около четверти из них работают в компаниях-партнёрах, и только десятая часть пришла по рекомендации друга. Их абонемент значительно короче абонемента людей из первого кластера, с другой стороны - они частые посетители групповых занятий. При этом по частоте посещения фитнес-центра этот кластер - абсолютный лидер. Основная опасность для них - скорое окончание абонемента, тем не менее, в отсутствие внешних шоков нет оснований полагать, что он не будет продлён.\n",
    "\n",
    "* Наиболее уязвимый кластер - второй. Несмотря на близость места работы / жилья к клубу, клиенты, попавшие в этот кластер, с большой вероятностью перестанут посещать зал. В среднем, абонемент для них дороже, чем для клиентов из другого кластера - лишь четверть является сотрудниками компаний-партнёров, и только 1% пришёл по рекомендации друзей. Их абонемент пробный, он не рассчитан на долгий срок. Сравнительно небольшое их число посещает групповые занятия (33% - больше, чем в 4 кластере, но меньше, чем во всех остальных), кроме того - они меньше всех совершают дополнительные траты в клубе. Это кластер людей, которые не уверены в своём выборе и не особо заинтересованы в услугах фитнес-центра.\n",
    "\n",
    "* Основная особенность четвёртого кластера - также довольно рискованного с точки зрения вероятности оттока - в том, что клиенты, попавшие в этот кластер, и работают, и живут не в районе расположения фитнес-центра. Географическая удалённость ведёт к низким показателям по остальным переменным.\n",
    "\n",
    "* Третий кластер характеризуется средними показателями по большинству переменных. Это довольно большая зона неопределённости - показатель оттока здесь не отличается от выборки в целом. На основе наших данных тяжело выделить какие-либо специфические характеристики клиентов, попавших в этот кластер - за ними нужно продолжить наблюдение."
   ]
  },
  {
   "cell_type": "code",
   "execution_count": 14,
   "metadata": {
    "scrolled": true,
    "pycharm": {
     "name": "#%%\n"
    }
   },
   "outputs": [
    {
     "name": "stdout",
     "output_type": "stream",
     "text": [
      "Распределение переменной gender по кластерам\n"
     ]
    },
    {
     "data": {
      "text/html": [
       "<div>\n",
       "<style scoped>\n",
       "    .dataframe tbody tr th:only-of-type {\n",
       "        vertical-align: middle;\n",
       "    }\n",
       "\n",
       "    .dataframe tbody tr th {\n",
       "        vertical-align: top;\n",
       "    }\n",
       "\n",
       "    .dataframe thead th {\n",
       "        text-align: right;\n",
       "    }\n",
       "</style>\n",
       "<table border=\"1\" class=\"dataframe\">\n",
       "  <thead>\n",
       "    <tr style=\"text-align: right;\">\n",
       "      <th>cluster_km</th>\n",
       "      <th>0</th>\n",
       "      <th>1</th>\n",
       "      <th>2</th>\n",
       "      <th>3</th>\n",
       "      <th>4</th>\n",
       "    </tr>\n",
       "  </thead>\n",
       "  <tbody>\n",
       "    <tr>\n",
       "      <th>count</th>\n",
       "      <td>753.000000</td>\n",
       "      <td>935.000000</td>\n",
       "      <td>1132.000000</td>\n",
       "      <td>634.000000</td>\n",
       "      <td>546.000000</td>\n",
       "    </tr>\n",
       "    <tr>\n",
       "      <th>mean</th>\n",
       "      <td>0.593625</td>\n",
       "      <td>0.501604</td>\n",
       "      <td>0.483216</td>\n",
       "      <td>0.485804</td>\n",
       "      <td>0.494505</td>\n",
       "    </tr>\n",
       "    <tr>\n",
       "      <th>std</th>\n",
       "      <td>0.491483</td>\n",
       "      <td>0.500265</td>\n",
       "      <td>0.499939</td>\n",
       "      <td>0.500193</td>\n",
       "      <td>0.500428</td>\n",
       "    </tr>\n",
       "    <tr>\n",
       "      <th>min</th>\n",
       "      <td>0.000000</td>\n",
       "      <td>0.000000</td>\n",
       "      <td>0.000000</td>\n",
       "      <td>0.000000</td>\n",
       "      <td>0.000000</td>\n",
       "    </tr>\n",
       "    <tr>\n",
       "      <th>25%</th>\n",
       "      <td>0.000000</td>\n",
       "      <td>0.000000</td>\n",
       "      <td>0.000000</td>\n",
       "      <td>0.000000</td>\n",
       "      <td>0.000000</td>\n",
       "    </tr>\n",
       "    <tr>\n",
       "      <th>50%</th>\n",
       "      <td>1.000000</td>\n",
       "      <td>1.000000</td>\n",
       "      <td>0.000000</td>\n",
       "      <td>0.000000</td>\n",
       "      <td>0.000000</td>\n",
       "    </tr>\n",
       "    <tr>\n",
       "      <th>75%</th>\n",
       "      <td>1.000000</td>\n",
       "      <td>1.000000</td>\n",
       "      <td>1.000000</td>\n",
       "      <td>1.000000</td>\n",
       "      <td>1.000000</td>\n",
       "    </tr>\n",
       "    <tr>\n",
       "      <th>max</th>\n",
       "      <td>1.000000</td>\n",
       "      <td>1.000000</td>\n",
       "      <td>1.000000</td>\n",
       "      <td>1.000000</td>\n",
       "      <td>1.000000</td>\n",
       "    </tr>\n",
       "  </tbody>\n",
       "</table>\n",
       "</div>"
      ],
      "text/plain": [
       "cluster_km           0           1            2           3           4\n",
       "count       753.000000  935.000000  1132.000000  634.000000  546.000000\n",
       "mean          0.593625    0.501604     0.483216    0.485804    0.494505\n",
       "std           0.491483    0.500265     0.499939    0.500193    0.500428\n",
       "min           0.000000    0.000000     0.000000    0.000000    0.000000\n",
       "25%           0.000000    0.000000     0.000000    0.000000    0.000000\n",
       "50%           1.000000    1.000000     0.000000    0.000000    0.000000\n",
       "75%           1.000000    1.000000     1.000000    1.000000    1.000000\n",
       "max           1.000000    1.000000     1.000000    1.000000    1.000000"
      ]
     },
     "metadata": {},
     "output_type": "display_data"
    },
    {
     "name": "stdout",
     "output_type": "stream",
     "text": [
      "\n",
      "\n",
      "Распределение переменной Near_Location по кластерам\n"
     ]
    },
    {
     "data": {
      "text/html": [
       "<div>\n",
       "<style scoped>\n",
       "    .dataframe tbody tr th:only-of-type {\n",
       "        vertical-align: middle;\n",
       "    }\n",
       "\n",
       "    .dataframe tbody tr th {\n",
       "        vertical-align: top;\n",
       "    }\n",
       "\n",
       "    .dataframe thead th {\n",
       "        text-align: right;\n",
       "    }\n",
       "</style>\n",
       "<table border=\"1\" class=\"dataframe\">\n",
       "  <thead>\n",
       "    <tr style=\"text-align: right;\">\n",
       "      <th>cluster_km</th>\n",
       "      <th>0</th>\n",
       "      <th>1</th>\n",
       "      <th>2</th>\n",
       "      <th>3</th>\n",
       "      <th>4</th>\n",
       "    </tr>\n",
       "  </thead>\n",
       "  <tbody>\n",
       "    <tr>\n",
       "      <th>count</th>\n",
       "      <td>753.000000</td>\n",
       "      <td>935.000000</td>\n",
       "      <td>1132.0</td>\n",
       "      <td>634.0</td>\n",
       "      <td>546.0</td>\n",
       "    </tr>\n",
       "    <tr>\n",
       "      <th>mean</th>\n",
       "      <td>0.972112</td>\n",
       "      <td>0.944385</td>\n",
       "      <td>1.0</td>\n",
       "      <td>1.0</td>\n",
       "      <td>0.0</td>\n",
       "    </tr>\n",
       "    <tr>\n",
       "      <th>std</th>\n",
       "      <td>0.164763</td>\n",
       "      <td>0.229299</td>\n",
       "      <td>0.0</td>\n",
       "      <td>0.0</td>\n",
       "      <td>0.0</td>\n",
       "    </tr>\n",
       "    <tr>\n",
       "      <th>min</th>\n",
       "      <td>0.000000</td>\n",
       "      <td>0.000000</td>\n",
       "      <td>1.0</td>\n",
       "      <td>1.0</td>\n",
       "      <td>0.0</td>\n",
       "    </tr>\n",
       "    <tr>\n",
       "      <th>25%</th>\n",
       "      <td>1.000000</td>\n",
       "      <td>1.000000</td>\n",
       "      <td>1.0</td>\n",
       "      <td>1.0</td>\n",
       "      <td>0.0</td>\n",
       "    </tr>\n",
       "    <tr>\n",
       "      <th>50%</th>\n",
       "      <td>1.000000</td>\n",
       "      <td>1.000000</td>\n",
       "      <td>1.0</td>\n",
       "      <td>1.0</td>\n",
       "      <td>0.0</td>\n",
       "    </tr>\n",
       "    <tr>\n",
       "      <th>75%</th>\n",
       "      <td>1.000000</td>\n",
       "      <td>1.000000</td>\n",
       "      <td>1.0</td>\n",
       "      <td>1.0</td>\n",
       "      <td>0.0</td>\n",
       "    </tr>\n",
       "    <tr>\n",
       "      <th>max</th>\n",
       "      <td>1.000000</td>\n",
       "      <td>1.000000</td>\n",
       "      <td>1.0</td>\n",
       "      <td>1.0</td>\n",
       "      <td>0.0</td>\n",
       "    </tr>\n",
       "  </tbody>\n",
       "</table>\n",
       "</div>"
      ],
      "text/plain": [
       "cluster_km           0           1       2      3      4\n",
       "count       753.000000  935.000000  1132.0  634.0  546.0\n",
       "mean          0.972112    0.944385     1.0    1.0    0.0\n",
       "std           0.164763    0.229299     0.0    0.0    0.0\n",
       "min           0.000000    0.000000     1.0    1.0    0.0\n",
       "25%           1.000000    1.000000     1.0    1.0    0.0\n",
       "50%           1.000000    1.000000     1.0    1.0    0.0\n",
       "75%           1.000000    1.000000     1.0    1.0    0.0\n",
       "max           1.000000    1.000000     1.0    1.0    0.0"
      ]
     },
     "metadata": {},
     "output_type": "display_data"
    },
    {
     "name": "stdout",
     "output_type": "stream",
     "text": [
      "\n",
      "\n",
      "Распределение переменной Partner по кластерам\n"
     ]
    },
    {
     "data": {
      "text/html": [
       "<div>\n",
       "<style scoped>\n",
       "    .dataframe tbody tr th:only-of-type {\n",
       "        vertical-align: middle;\n",
       "    }\n",
       "\n",
       "    .dataframe tbody tr th {\n",
       "        vertical-align: top;\n",
       "    }\n",
       "\n",
       "    .dataframe thead th {\n",
       "        text-align: right;\n",
       "    }\n",
       "</style>\n",
       "<table border=\"1\" class=\"dataframe\">\n",
       "  <thead>\n",
       "    <tr style=\"text-align: right;\">\n",
       "      <th>cluster_km</th>\n",
       "      <th>0</th>\n",
       "      <th>1</th>\n",
       "      <th>2</th>\n",
       "      <th>3</th>\n",
       "      <th>4</th>\n",
       "    </tr>\n",
       "  </thead>\n",
       "  <tbody>\n",
       "    <tr>\n",
       "      <th>count</th>\n",
       "      <td>753.000000</td>\n",
       "      <td>935.000000</td>\n",
       "      <td>1132.000000</td>\n",
       "      <td>634.000000</td>\n",
       "      <td>546.000000</td>\n",
       "    </tr>\n",
       "    <tr>\n",
       "      <th>mean</th>\n",
       "      <td>0.281541</td>\n",
       "      <td>0.742246</td>\n",
       "      <td>0.243816</td>\n",
       "      <td>0.805994</td>\n",
       "      <td>0.465201</td>\n",
       "    </tr>\n",
       "    <tr>\n",
       "      <th>std</th>\n",
       "      <td>0.450049</td>\n",
       "      <td>0.437632</td>\n",
       "      <td>0.429573</td>\n",
       "      <td>0.395746</td>\n",
       "      <td>0.499245</td>\n",
       "    </tr>\n",
       "    <tr>\n",
       "      <th>min</th>\n",
       "      <td>0.000000</td>\n",
       "      <td>0.000000</td>\n",
       "      <td>0.000000</td>\n",
       "      <td>0.000000</td>\n",
       "      <td>0.000000</td>\n",
       "    </tr>\n",
       "    <tr>\n",
       "      <th>25%</th>\n",
       "      <td>0.000000</td>\n",
       "      <td>0.000000</td>\n",
       "      <td>0.000000</td>\n",
       "      <td>1.000000</td>\n",
       "      <td>0.000000</td>\n",
       "    </tr>\n",
       "    <tr>\n",
       "      <th>50%</th>\n",
       "      <td>0.000000</td>\n",
       "      <td>1.000000</td>\n",
       "      <td>0.000000</td>\n",
       "      <td>1.000000</td>\n",
       "      <td>0.000000</td>\n",
       "    </tr>\n",
       "    <tr>\n",
       "      <th>75%</th>\n",
       "      <td>1.000000</td>\n",
       "      <td>1.000000</td>\n",
       "      <td>0.000000</td>\n",
       "      <td>1.000000</td>\n",
       "      <td>1.000000</td>\n",
       "    </tr>\n",
       "    <tr>\n",
       "      <th>max</th>\n",
       "      <td>1.000000</td>\n",
       "      <td>1.000000</td>\n",
       "      <td>1.000000</td>\n",
       "      <td>1.000000</td>\n",
       "      <td>1.000000</td>\n",
       "    </tr>\n",
       "  </tbody>\n",
       "</table>\n",
       "</div>"
      ],
      "text/plain": [
       "cluster_km           0           1            2           3           4\n",
       "count       753.000000  935.000000  1132.000000  634.000000  546.000000\n",
       "mean          0.281541    0.742246     0.243816    0.805994    0.465201\n",
       "std           0.450049    0.437632     0.429573    0.395746    0.499245\n",
       "min           0.000000    0.000000     0.000000    0.000000    0.000000\n",
       "25%           0.000000    0.000000     0.000000    1.000000    0.000000\n",
       "50%           0.000000    1.000000     0.000000    1.000000    0.000000\n",
       "75%           1.000000    1.000000     0.000000    1.000000    1.000000\n",
       "max           1.000000    1.000000     1.000000    1.000000    1.000000"
      ]
     },
     "metadata": {},
     "output_type": "display_data"
    },
    {
     "name": "stdout",
     "output_type": "stream",
     "text": [
      "\n",
      "\n",
      "Распределение переменной Promo_friends по кластерам\n"
     ]
    },
    {
     "data": {
      "text/html": [
       "<div>\n",
       "<style scoped>\n",
       "    .dataframe tbody tr th:only-of-type {\n",
       "        vertical-align: middle;\n",
       "    }\n",
       "\n",
       "    .dataframe tbody tr th {\n",
       "        vertical-align: top;\n",
       "    }\n",
       "\n",
       "    .dataframe thead th {\n",
       "        text-align: right;\n",
       "    }\n",
       "</style>\n",
       "<table border=\"1\" class=\"dataframe\">\n",
       "  <thead>\n",
       "    <tr style=\"text-align: right;\">\n",
       "      <th>cluster_km</th>\n",
       "      <th>0</th>\n",
       "      <th>1</th>\n",
       "      <th>2</th>\n",
       "      <th>3</th>\n",
       "      <th>4</th>\n",
       "    </tr>\n",
       "  </thead>\n",
       "  <tbody>\n",
       "    <tr>\n",
       "      <th>count</th>\n",
       "      <td>753.000000</td>\n",
       "      <td>935.000000</td>\n",
       "      <td>1132.000000</td>\n",
       "      <td>634.0</td>\n",
       "      <td>546.000000</td>\n",
       "    </tr>\n",
       "    <tr>\n",
       "      <th>mean</th>\n",
       "      <td>0.116866</td>\n",
       "      <td>0.489840</td>\n",
       "      <td>0.010601</td>\n",
       "      <td>1.0</td>\n",
       "      <td>0.076923</td>\n",
       "    </tr>\n",
       "    <tr>\n",
       "      <th>std</th>\n",
       "      <td>0.321474</td>\n",
       "      <td>0.500164</td>\n",
       "      <td>0.102458</td>\n",
       "      <td>0.0</td>\n",
       "      <td>0.266714</td>\n",
       "    </tr>\n",
       "    <tr>\n",
       "      <th>min</th>\n",
       "      <td>0.000000</td>\n",
       "      <td>0.000000</td>\n",
       "      <td>0.000000</td>\n",
       "      <td>1.0</td>\n",
       "      <td>0.000000</td>\n",
       "    </tr>\n",
       "    <tr>\n",
       "      <th>25%</th>\n",
       "      <td>0.000000</td>\n",
       "      <td>0.000000</td>\n",
       "      <td>0.000000</td>\n",
       "      <td>1.0</td>\n",
       "      <td>0.000000</td>\n",
       "    </tr>\n",
       "    <tr>\n",
       "      <th>50%</th>\n",
       "      <td>0.000000</td>\n",
       "      <td>0.000000</td>\n",
       "      <td>0.000000</td>\n",
       "      <td>1.0</td>\n",
       "      <td>0.000000</td>\n",
       "    </tr>\n",
       "    <tr>\n",
       "      <th>75%</th>\n",
       "      <td>0.000000</td>\n",
       "      <td>1.000000</td>\n",
       "      <td>0.000000</td>\n",
       "      <td>1.0</td>\n",
       "      <td>0.000000</td>\n",
       "    </tr>\n",
       "    <tr>\n",
       "      <th>max</th>\n",
       "      <td>1.000000</td>\n",
       "      <td>1.000000</td>\n",
       "      <td>1.000000</td>\n",
       "      <td>1.0</td>\n",
       "      <td>1.000000</td>\n",
       "    </tr>\n",
       "  </tbody>\n",
       "</table>\n",
       "</div>"
      ],
      "text/plain": [
       "cluster_km           0           1            2      3           4\n",
       "count       753.000000  935.000000  1132.000000  634.0  546.000000\n",
       "mean          0.116866    0.489840     0.010601    1.0    0.076923\n",
       "std           0.321474    0.500164     0.102458    0.0    0.266714\n",
       "min           0.000000    0.000000     0.000000    1.0    0.000000\n",
       "25%           0.000000    0.000000     0.000000    1.0    0.000000\n",
       "50%           0.000000    0.000000     0.000000    1.0    0.000000\n",
       "75%           0.000000    1.000000     0.000000    1.0    0.000000\n",
       "max           1.000000    1.000000     1.000000    1.0    1.000000"
      ]
     },
     "metadata": {},
     "output_type": "display_data"
    },
    {
     "name": "stdout",
     "output_type": "stream",
     "text": [
      "\n",
      "\n",
      "Распределение переменной Phone по кластерам\n"
     ]
    },
    {
     "data": {
      "text/html": [
       "<div>\n",
       "<style scoped>\n",
       "    .dataframe tbody tr th:only-of-type {\n",
       "        vertical-align: middle;\n",
       "    }\n",
       "\n",
       "    .dataframe tbody tr th {\n",
       "        vertical-align: top;\n",
       "    }\n",
       "\n",
       "    .dataframe thead th {\n",
       "        text-align: right;\n",
       "    }\n",
       "</style>\n",
       "<table border=\"1\" class=\"dataframe\">\n",
       "  <thead>\n",
       "    <tr style=\"text-align: right;\">\n",
       "      <th>cluster_km</th>\n",
       "      <th>0</th>\n",
       "      <th>1</th>\n",
       "      <th>2</th>\n",
       "      <th>3</th>\n",
       "      <th>4</th>\n",
       "    </tr>\n",
       "  </thead>\n",
       "  <tbody>\n",
       "    <tr>\n",
       "      <th>count</th>\n",
       "      <td>753.000000</td>\n",
       "      <td>935.000000</td>\n",
       "      <td>1132.000000</td>\n",
       "      <td>634.000000</td>\n",
       "      <td>546.000000</td>\n",
       "    </tr>\n",
       "    <tr>\n",
       "      <th>mean</th>\n",
       "      <td>0.895086</td>\n",
       "      <td>0.900535</td>\n",
       "      <td>0.902827</td>\n",
       "      <td>0.908517</td>\n",
       "      <td>0.915751</td>\n",
       "    </tr>\n",
       "    <tr>\n",
       "      <th>std</th>\n",
       "      <td>0.306646</td>\n",
       "      <td>0.299446</td>\n",
       "      <td>0.296324</td>\n",
       "      <td>0.288522</td>\n",
       "      <td>0.278016</td>\n",
       "    </tr>\n",
       "    <tr>\n",
       "      <th>min</th>\n",
       "      <td>0.000000</td>\n",
       "      <td>0.000000</td>\n",
       "      <td>0.000000</td>\n",
       "      <td>0.000000</td>\n",
       "      <td>0.000000</td>\n",
       "    </tr>\n",
       "    <tr>\n",
       "      <th>25%</th>\n",
       "      <td>1.000000</td>\n",
       "      <td>1.000000</td>\n",
       "      <td>1.000000</td>\n",
       "      <td>1.000000</td>\n",
       "      <td>1.000000</td>\n",
       "    </tr>\n",
       "    <tr>\n",
       "      <th>50%</th>\n",
       "      <td>1.000000</td>\n",
       "      <td>1.000000</td>\n",
       "      <td>1.000000</td>\n",
       "      <td>1.000000</td>\n",
       "      <td>1.000000</td>\n",
       "    </tr>\n",
       "    <tr>\n",
       "      <th>75%</th>\n",
       "      <td>1.000000</td>\n",
       "      <td>1.000000</td>\n",
       "      <td>1.000000</td>\n",
       "      <td>1.000000</td>\n",
       "      <td>1.000000</td>\n",
       "    </tr>\n",
       "    <tr>\n",
       "      <th>max</th>\n",
       "      <td>1.000000</td>\n",
       "      <td>1.000000</td>\n",
       "      <td>1.000000</td>\n",
       "      <td>1.000000</td>\n",
       "      <td>1.000000</td>\n",
       "    </tr>\n",
       "  </tbody>\n",
       "</table>\n",
       "</div>"
      ],
      "text/plain": [
       "cluster_km           0           1            2           3           4\n",
       "count       753.000000  935.000000  1132.000000  634.000000  546.000000\n",
       "mean          0.895086    0.900535     0.902827    0.908517    0.915751\n",
       "std           0.306646    0.299446     0.296324    0.288522    0.278016\n",
       "min           0.000000    0.000000     0.000000    0.000000    0.000000\n",
       "25%           1.000000    1.000000     1.000000    1.000000    1.000000\n",
       "50%           1.000000    1.000000     1.000000    1.000000    1.000000\n",
       "75%           1.000000    1.000000     1.000000    1.000000    1.000000\n",
       "max           1.000000    1.000000     1.000000    1.000000    1.000000"
      ]
     },
     "metadata": {},
     "output_type": "display_data"
    },
    {
     "name": "stdout",
     "output_type": "stream",
     "text": [
      "\n",
      "\n",
      "Распределение переменной Contract_period по кластерам\n"
     ]
    },
    {
     "data": {
      "text/html": [
       "<div>\n",
       "<style scoped>\n",
       "    .dataframe tbody tr th:only-of-type {\n",
       "        vertical-align: middle;\n",
       "    }\n",
       "\n",
       "    .dataframe tbody tr th {\n",
       "        vertical-align: top;\n",
       "    }\n",
       "\n",
       "    .dataframe thead th {\n",
       "        text-align: right;\n",
       "    }\n",
       "</style>\n",
       "<table border=\"1\" class=\"dataframe\">\n",
       "  <thead>\n",
       "    <tr style=\"text-align: right;\">\n",
       "      <th>cluster_km</th>\n",
       "      <th>0</th>\n",
       "      <th>1</th>\n",
       "      <th>2</th>\n",
       "      <th>3</th>\n",
       "      <th>4</th>\n",
       "    </tr>\n",
       "  </thead>\n",
       "  <tbody>\n",
       "    <tr>\n",
       "      <th>count</th>\n",
       "      <td>753.000000</td>\n",
       "      <td>935.000000</td>\n",
       "      <td>1132.000000</td>\n",
       "      <td>634.000000</td>\n",
       "      <td>546.000000</td>\n",
       "    </tr>\n",
       "    <tr>\n",
       "      <th>mean</th>\n",
       "      <td>2.907039</td>\n",
       "      <td>11.878075</td>\n",
       "      <td>1.985866</td>\n",
       "      <td>3.102524</td>\n",
       "      <td>2.225275</td>\n",
       "    </tr>\n",
       "    <tr>\n",
       "      <th>std</th>\n",
       "      <td>2.783761</td>\n",
       "      <td>0.847026</td>\n",
       "      <td>2.076302</td>\n",
       "      <td>2.532673</td>\n",
       "      <td>2.515745</td>\n",
       "    </tr>\n",
       "    <tr>\n",
       "      <th>min</th>\n",
       "      <td>1.000000</td>\n",
       "      <td>6.000000</td>\n",
       "      <td>1.000000</td>\n",
       "      <td>1.000000</td>\n",
       "      <td>1.000000</td>\n",
       "    </tr>\n",
       "    <tr>\n",
       "      <th>25%</th>\n",
       "      <td>1.000000</td>\n",
       "      <td>12.000000</td>\n",
       "      <td>1.000000</td>\n",
       "      <td>1.000000</td>\n",
       "      <td>1.000000</td>\n",
       "    </tr>\n",
       "    <tr>\n",
       "      <th>50%</th>\n",
       "      <td>1.000000</td>\n",
       "      <td>12.000000</td>\n",
       "      <td>1.000000</td>\n",
       "      <td>1.000000</td>\n",
       "      <td>1.000000</td>\n",
       "    </tr>\n",
       "    <tr>\n",
       "      <th>75%</th>\n",
       "      <td>6.000000</td>\n",
       "      <td>12.000000</td>\n",
       "      <td>1.000000</td>\n",
       "      <td>6.000000</td>\n",
       "      <td>1.000000</td>\n",
       "    </tr>\n",
       "    <tr>\n",
       "      <th>max</th>\n",
       "      <td>12.000000</td>\n",
       "      <td>12.000000</td>\n",
       "      <td>12.000000</td>\n",
       "      <td>12.000000</td>\n",
       "      <td>12.000000</td>\n",
       "    </tr>\n",
       "  </tbody>\n",
       "</table>\n",
       "</div>"
      ],
      "text/plain": [
       "cluster_km           0           1            2           3           4\n",
       "count       753.000000  935.000000  1132.000000  634.000000  546.000000\n",
       "mean          2.907039   11.878075     1.985866    3.102524    2.225275\n",
       "std           2.783761    0.847026     2.076302    2.532673    2.515745\n",
       "min           1.000000    6.000000     1.000000    1.000000    1.000000\n",
       "25%           1.000000   12.000000     1.000000    1.000000    1.000000\n",
       "50%           1.000000   12.000000     1.000000    1.000000    1.000000\n",
       "75%           6.000000   12.000000     1.000000    6.000000    1.000000\n",
       "max          12.000000   12.000000    12.000000   12.000000   12.000000"
      ]
     },
     "metadata": {},
     "output_type": "display_data"
    },
    {
     "name": "stdout",
     "output_type": "stream",
     "text": [
      "\n",
      "\n",
      "Распределение переменной Group_visits по кластерам\n"
     ]
    },
    {
     "data": {
      "text/html": [
       "<div>\n",
       "<style scoped>\n",
       "    .dataframe tbody tr th:only-of-type {\n",
       "        vertical-align: middle;\n",
       "    }\n",
       "\n",
       "    .dataframe tbody tr th {\n",
       "        vertical-align: top;\n",
       "    }\n",
       "\n",
       "    .dataframe thead th {\n",
       "        text-align: right;\n",
       "    }\n",
       "</style>\n",
       "<table border=\"1\" class=\"dataframe\">\n",
       "  <thead>\n",
       "    <tr style=\"text-align: right;\">\n",
       "      <th>cluster_km</th>\n",
       "      <th>0</th>\n",
       "      <th>1</th>\n",
       "      <th>2</th>\n",
       "      <th>3</th>\n",
       "      <th>4</th>\n",
       "    </tr>\n",
       "  </thead>\n",
       "  <tbody>\n",
       "    <tr>\n",
       "      <th>count</th>\n",
       "      <td>753.000000</td>\n",
       "      <td>935.000000</td>\n",
       "      <td>1132.000000</td>\n",
       "      <td>634.000000</td>\n",
       "      <td>546.000000</td>\n",
       "    </tr>\n",
       "    <tr>\n",
       "      <th>mean</th>\n",
       "      <td>0.484728</td>\n",
       "      <td>0.551872</td>\n",
       "      <td>0.322438</td>\n",
       "      <td>0.451104</td>\n",
       "      <td>0.214286</td>\n",
       "    </tr>\n",
       "    <tr>\n",
       "      <th>std</th>\n",
       "      <td>0.500099</td>\n",
       "      <td>0.497568</td>\n",
       "      <td>0.467616</td>\n",
       "      <td>0.497996</td>\n",
       "      <td>0.410702</td>\n",
       "    </tr>\n",
       "    <tr>\n",
       "      <th>min</th>\n",
       "      <td>0.000000</td>\n",
       "      <td>0.000000</td>\n",
       "      <td>0.000000</td>\n",
       "      <td>0.000000</td>\n",
       "      <td>0.000000</td>\n",
       "    </tr>\n",
       "    <tr>\n",
       "      <th>25%</th>\n",
       "      <td>0.000000</td>\n",
       "      <td>0.000000</td>\n",
       "      <td>0.000000</td>\n",
       "      <td>0.000000</td>\n",
       "      <td>0.000000</td>\n",
       "    </tr>\n",
       "    <tr>\n",
       "      <th>50%</th>\n",
       "      <td>0.000000</td>\n",
       "      <td>1.000000</td>\n",
       "      <td>0.000000</td>\n",
       "      <td>0.000000</td>\n",
       "      <td>0.000000</td>\n",
       "    </tr>\n",
       "    <tr>\n",
       "      <th>75%</th>\n",
       "      <td>1.000000</td>\n",
       "      <td>1.000000</td>\n",
       "      <td>1.000000</td>\n",
       "      <td>1.000000</td>\n",
       "      <td>0.000000</td>\n",
       "    </tr>\n",
       "    <tr>\n",
       "      <th>max</th>\n",
       "      <td>1.000000</td>\n",
       "      <td>1.000000</td>\n",
       "      <td>1.000000</td>\n",
       "      <td>1.000000</td>\n",
       "      <td>1.000000</td>\n",
       "    </tr>\n",
       "  </tbody>\n",
       "</table>\n",
       "</div>"
      ],
      "text/plain": [
       "cluster_km           0           1            2           3           4\n",
       "count       753.000000  935.000000  1132.000000  634.000000  546.000000\n",
       "mean          0.484728    0.551872     0.322438    0.451104    0.214286\n",
       "std           0.500099    0.497568     0.467616    0.497996    0.410702\n",
       "min           0.000000    0.000000     0.000000    0.000000    0.000000\n",
       "25%           0.000000    0.000000     0.000000    0.000000    0.000000\n",
       "50%           0.000000    1.000000     0.000000    0.000000    0.000000\n",
       "75%           1.000000    1.000000     1.000000    1.000000    0.000000\n",
       "max           1.000000    1.000000     1.000000    1.000000    1.000000"
      ]
     },
     "metadata": {},
     "output_type": "display_data"
    },
    {
     "name": "stdout",
     "output_type": "stream",
     "text": [
      "\n",
      "\n",
      "Распределение переменной Age по кластерам\n"
     ]
    },
    {
     "data": {
      "text/html": [
       "<div>\n",
       "<style scoped>\n",
       "    .dataframe tbody tr th:only-of-type {\n",
       "        vertical-align: middle;\n",
       "    }\n",
       "\n",
       "    .dataframe tbody tr th {\n",
       "        vertical-align: top;\n",
       "    }\n",
       "\n",
       "    .dataframe thead th {\n",
       "        text-align: right;\n",
       "    }\n",
       "</style>\n",
       "<table border=\"1\" class=\"dataframe\">\n",
       "  <thead>\n",
       "    <tr style=\"text-align: right;\">\n",
       "      <th>cluster_km</th>\n",
       "      <th>0</th>\n",
       "      <th>1</th>\n",
       "      <th>2</th>\n",
       "      <th>3</th>\n",
       "      <th>4</th>\n",
       "    </tr>\n",
       "  </thead>\n",
       "  <tbody>\n",
       "    <tr>\n",
       "      <th>count</th>\n",
       "      <td>753.000000</td>\n",
       "      <td>935.000000</td>\n",
       "      <td>1132.000000</td>\n",
       "      <td>634.000000</td>\n",
       "      <td>546.000000</td>\n",
       "    </tr>\n",
       "    <tr>\n",
       "      <th>mean</th>\n",
       "      <td>30.321381</td>\n",
       "      <td>29.920856</td>\n",
       "      <td>28.219081</td>\n",
       "      <td>29.078864</td>\n",
       "      <td>28.478022</td>\n",
       "    </tr>\n",
       "    <tr>\n",
       "      <th>std</th>\n",
       "      <td>3.064950</td>\n",
       "      <td>3.066386</td>\n",
       "      <td>3.253464</td>\n",
       "      <td>3.150279</td>\n",
       "      <td>3.188925</td>\n",
       "    </tr>\n",
       "    <tr>\n",
       "      <th>min</th>\n",
       "      <td>21.000000</td>\n",
       "      <td>20.000000</td>\n",
       "      <td>18.000000</td>\n",
       "      <td>20.000000</td>\n",
       "      <td>18.000000</td>\n",
       "    </tr>\n",
       "    <tr>\n",
       "      <th>25%</th>\n",
       "      <td>28.000000</td>\n",
       "      <td>28.000000</td>\n",
       "      <td>26.000000</td>\n",
       "      <td>27.000000</td>\n",
       "      <td>26.000000</td>\n",
       "    </tr>\n",
       "    <tr>\n",
       "      <th>50%</th>\n",
       "      <td>30.000000</td>\n",
       "      <td>30.000000</td>\n",
       "      <td>28.000000</td>\n",
       "      <td>29.000000</td>\n",
       "      <td>29.000000</td>\n",
       "    </tr>\n",
       "    <tr>\n",
       "      <th>75%</th>\n",
       "      <td>32.000000</td>\n",
       "      <td>32.000000</td>\n",
       "      <td>30.000000</td>\n",
       "      <td>31.000000</td>\n",
       "      <td>31.000000</td>\n",
       "    </tr>\n",
       "    <tr>\n",
       "      <th>max</th>\n",
       "      <td>39.000000</td>\n",
       "      <td>38.000000</td>\n",
       "      <td>41.000000</td>\n",
       "      <td>37.000000</td>\n",
       "      <td>37.000000</td>\n",
       "    </tr>\n",
       "  </tbody>\n",
       "</table>\n",
       "</div>"
      ],
      "text/plain": [
       "cluster_km           0           1            2           3           4\n",
       "count       753.000000  935.000000  1132.000000  634.000000  546.000000\n",
       "mean         30.321381   29.920856    28.219081   29.078864   28.478022\n",
       "std           3.064950    3.066386     3.253464    3.150279    3.188925\n",
       "min          21.000000   20.000000    18.000000   20.000000   18.000000\n",
       "25%          28.000000   28.000000    26.000000   27.000000   26.000000\n",
       "50%          30.000000   30.000000    28.000000   29.000000   29.000000\n",
       "75%          32.000000   32.000000    30.000000   31.000000   31.000000\n",
       "max          39.000000   38.000000    41.000000   37.000000   37.000000"
      ]
     },
     "metadata": {},
     "output_type": "display_data"
    },
    {
     "name": "stdout",
     "output_type": "stream",
     "text": [
      "\n",
      "\n",
      "Распределение переменной Avg_additional_charges_total по кластерам\n"
     ]
    },
    {
     "data": {
      "text/html": [
       "<div>\n",
       "<style scoped>\n",
       "    .dataframe tbody tr th:only-of-type {\n",
       "        vertical-align: middle;\n",
       "    }\n",
       "\n",
       "    .dataframe tbody tr th {\n",
       "        vertical-align: top;\n",
       "    }\n",
       "\n",
       "    .dataframe thead th {\n",
       "        text-align: right;\n",
       "    }\n",
       "</style>\n",
       "<table border=\"1\" class=\"dataframe\">\n",
       "  <thead>\n",
       "    <tr style=\"text-align: right;\">\n",
       "      <th>cluster_km</th>\n",
       "      <th>0</th>\n",
       "      <th>1</th>\n",
       "      <th>2</th>\n",
       "      <th>3</th>\n",
       "      <th>4</th>\n",
       "    </tr>\n",
       "  </thead>\n",
       "  <tbody>\n",
       "    <tr>\n",
       "      <th>count</th>\n",
       "      <td>753.000000</td>\n",
       "      <td>935.000000</td>\n",
       "      <td>1132.000000</td>\n",
       "      <td>634.000000</td>\n",
       "      <td>546.000000</td>\n",
       "    </tr>\n",
       "    <tr>\n",
       "      <th>mean</th>\n",
       "      <td>163.013091</td>\n",
       "      <td>164.982551</td>\n",
       "      <td>131.371696</td>\n",
       "      <td>140.097349</td>\n",
       "      <td>134.126172</td>\n",
       "    </tr>\n",
       "    <tr>\n",
       "      <th>std</th>\n",
       "      <td>103.639795</td>\n",
       "      <td>100.712986</td>\n",
       "      <td>87.167852</td>\n",
       "      <td>91.812233</td>\n",
       "      <td>93.408449</td>\n",
       "    </tr>\n",
       "    <tr>\n",
       "      <th>min</th>\n",
       "      <td>0.510545</td>\n",
       "      <td>0.251606</td>\n",
       "      <td>0.171862</td>\n",
       "      <td>0.148205</td>\n",
       "      <td>0.972250</td>\n",
       "    </tr>\n",
       "    <tr>\n",
       "      <th>25%</th>\n",
       "      <td>79.595289</td>\n",
       "      <td>83.032710</td>\n",
       "      <td>60.582695</td>\n",
       "      <td>62.365274</td>\n",
       "      <td>59.171116</td>\n",
       "    </tr>\n",
       "    <tr>\n",
       "      <th>50%</th>\n",
       "      <td>148.434052</td>\n",
       "      <td>160.802279</td>\n",
       "      <td>118.864739</td>\n",
       "      <td>129.997807</td>\n",
       "      <td>124.439167</td>\n",
       "    </tr>\n",
       "    <tr>\n",
       "      <th>75%</th>\n",
       "      <td>230.770807</td>\n",
       "      <td>236.344431</td>\n",
       "      <td>188.065491</td>\n",
       "      <td>207.134563</td>\n",
       "      <td>190.955085</td>\n",
       "    </tr>\n",
       "    <tr>\n",
       "      <th>max</th>\n",
       "      <td>476.432655</td>\n",
       "      <td>552.590740</td>\n",
       "      <td>496.172222</td>\n",
       "      <td>411.711309</td>\n",
       "      <td>534.256182</td>\n",
       "    </tr>\n",
       "  </tbody>\n",
       "</table>\n",
       "</div>"
      ],
      "text/plain": [
       "cluster_km           0           1            2           3           4\n",
       "count       753.000000  935.000000  1132.000000  634.000000  546.000000\n",
       "mean        163.013091  164.982551   131.371696  140.097349  134.126172\n",
       "std         103.639795  100.712986    87.167852   91.812233   93.408449\n",
       "min           0.510545    0.251606     0.171862    0.148205    0.972250\n",
       "25%          79.595289   83.032710    60.582695   62.365274   59.171116\n",
       "50%         148.434052  160.802279   118.864739  129.997807  124.439167\n",
       "75%         230.770807  236.344431   188.065491  207.134563  190.955085\n",
       "max         476.432655  552.590740   496.172222  411.711309  534.256182"
      ]
     },
     "metadata": {},
     "output_type": "display_data"
    },
    {
     "name": "stdout",
     "output_type": "stream",
     "text": [
      "\n",
      "\n",
      "Распределение переменной Month_to_end_contract по кластерам\n"
     ]
    },
    {
     "data": {
      "text/html": [
       "<div>\n",
       "<style scoped>\n",
       "    .dataframe tbody tr th:only-of-type {\n",
       "        vertical-align: middle;\n",
       "    }\n",
       "\n",
       "    .dataframe tbody tr th {\n",
       "        vertical-align: top;\n",
       "    }\n",
       "\n",
       "    .dataframe thead th {\n",
       "        text-align: right;\n",
       "    }\n",
       "</style>\n",
       "<table border=\"1\" class=\"dataframe\">\n",
       "  <thead>\n",
       "    <tr style=\"text-align: right;\">\n",
       "      <th>cluster_km</th>\n",
       "      <th>0</th>\n",
       "      <th>1</th>\n",
       "      <th>2</th>\n",
       "      <th>3</th>\n",
       "      <th>4</th>\n",
       "    </tr>\n",
       "  </thead>\n",
       "  <tbody>\n",
       "    <tr>\n",
       "      <th>count</th>\n",
       "      <td>753.000000</td>\n",
       "      <td>935.000000</td>\n",
       "      <td>1132.000000</td>\n",
       "      <td>634.000000</td>\n",
       "      <td>546.000000</td>\n",
       "    </tr>\n",
       "    <tr>\n",
       "      <th>mean</th>\n",
       "      <td>2.664011</td>\n",
       "      <td>10.869519</td>\n",
       "      <td>1.902827</td>\n",
       "      <td>2.881703</td>\n",
       "      <td>2.089744</td>\n",
       "    </tr>\n",
       "    <tr>\n",
       "      <th>std</th>\n",
       "      <td>2.392918</td>\n",
       "      <td>1.756018</td>\n",
       "      <td>1.910303</td>\n",
       "      <td>2.299161</td>\n",
       "      <td>2.257141</td>\n",
       "    </tr>\n",
       "    <tr>\n",
       "      <th>min</th>\n",
       "      <td>1.000000</td>\n",
       "      <td>2.000000</td>\n",
       "      <td>1.000000</td>\n",
       "      <td>1.000000</td>\n",
       "      <td>1.000000</td>\n",
       "    </tr>\n",
       "    <tr>\n",
       "      <th>25%</th>\n",
       "      <td>1.000000</td>\n",
       "      <td>10.000000</td>\n",
       "      <td>1.000000</td>\n",
       "      <td>1.000000</td>\n",
       "      <td>1.000000</td>\n",
       "    </tr>\n",
       "    <tr>\n",
       "      <th>50%</th>\n",
       "      <td>1.000000</td>\n",
       "      <td>12.000000</td>\n",
       "      <td>1.000000</td>\n",
       "      <td>1.000000</td>\n",
       "      <td>1.000000</td>\n",
       "    </tr>\n",
       "    <tr>\n",
       "      <th>75%</th>\n",
       "      <td>6.000000</td>\n",
       "      <td>12.000000</td>\n",
       "      <td>1.000000</td>\n",
       "      <td>6.000000</td>\n",
       "      <td>1.000000</td>\n",
       "    </tr>\n",
       "    <tr>\n",
       "      <th>max</th>\n",
       "      <td>12.000000</td>\n",
       "      <td>12.000000</td>\n",
       "      <td>12.000000</td>\n",
       "      <td>6.000000</td>\n",
       "      <td>12.000000</td>\n",
       "    </tr>\n",
       "  </tbody>\n",
       "</table>\n",
       "</div>"
      ],
      "text/plain": [
       "cluster_km           0           1            2           3           4\n",
       "count       753.000000  935.000000  1132.000000  634.000000  546.000000\n",
       "mean          2.664011   10.869519     1.902827    2.881703    2.089744\n",
       "std           2.392918    1.756018     1.910303    2.299161    2.257141\n",
       "min           1.000000    2.000000     1.000000    1.000000    1.000000\n",
       "25%           1.000000   10.000000     1.000000    1.000000    1.000000\n",
       "50%           1.000000   12.000000     1.000000    1.000000    1.000000\n",
       "75%           6.000000   12.000000     1.000000    6.000000    1.000000\n",
       "max          12.000000   12.000000    12.000000    6.000000   12.000000"
      ]
     },
     "metadata": {},
     "output_type": "display_data"
    },
    {
     "name": "stdout",
     "output_type": "stream",
     "text": [
      "\n",
      "\n",
      "Распределение переменной Lifetime по кластерам\n"
     ]
    },
    {
     "data": {
      "text/html": [
       "<div>\n",
       "<style scoped>\n",
       "    .dataframe tbody tr th:only-of-type {\n",
       "        vertical-align: middle;\n",
       "    }\n",
       "\n",
       "    .dataframe tbody tr th {\n",
       "        vertical-align: top;\n",
       "    }\n",
       "\n",
       "    .dataframe thead th {\n",
       "        text-align: right;\n",
       "    }\n",
       "</style>\n",
       "<table border=\"1\" class=\"dataframe\">\n",
       "  <thead>\n",
       "    <tr style=\"text-align: right;\">\n",
       "      <th>cluster_km</th>\n",
       "      <th>0</th>\n",
       "      <th>1</th>\n",
       "      <th>2</th>\n",
       "      <th>3</th>\n",
       "      <th>4</th>\n",
       "    </tr>\n",
       "  </thead>\n",
       "  <tbody>\n",
       "    <tr>\n",
       "      <th>count</th>\n",
       "      <td>753.000000</td>\n",
       "      <td>935.000000</td>\n",
       "      <td>1132.000000</td>\n",
       "      <td>634.000000</td>\n",
       "      <td>546.000000</td>\n",
       "    </tr>\n",
       "    <tr>\n",
       "      <th>mean</th>\n",
       "      <td>5.183267</td>\n",
       "      <td>4.706952</td>\n",
       "      <td>2.450530</td>\n",
       "      <td>3.610410</td>\n",
       "      <td>2.805861</td>\n",
       "    </tr>\n",
       "    <tr>\n",
       "      <th>std</th>\n",
       "      <td>4.322244</td>\n",
       "      <td>3.908442</td>\n",
       "      <td>2.837825</td>\n",
       "      <td>3.694232</td>\n",
       "      <td>3.130032</td>\n",
       "    </tr>\n",
       "    <tr>\n",
       "      <th>min</th>\n",
       "      <td>0.000000</td>\n",
       "      <td>0.000000</td>\n",
       "      <td>0.000000</td>\n",
       "      <td>0.000000</td>\n",
       "      <td>0.000000</td>\n",
       "    </tr>\n",
       "    <tr>\n",
       "      <th>25%</th>\n",
       "      <td>2.000000</td>\n",
       "      <td>2.000000</td>\n",
       "      <td>1.000000</td>\n",
       "      <td>1.000000</td>\n",
       "      <td>1.000000</td>\n",
       "    </tr>\n",
       "    <tr>\n",
       "      <th>50%</th>\n",
       "      <td>4.000000</td>\n",
       "      <td>4.000000</td>\n",
       "      <td>2.000000</td>\n",
       "      <td>3.000000</td>\n",
       "      <td>2.000000</td>\n",
       "    </tr>\n",
       "    <tr>\n",
       "      <th>75%</th>\n",
       "      <td>7.000000</td>\n",
       "      <td>6.000000</td>\n",
       "      <td>3.000000</td>\n",
       "      <td>5.000000</td>\n",
       "      <td>4.000000</td>\n",
       "    </tr>\n",
       "    <tr>\n",
       "      <th>max</th>\n",
       "      <td>29.000000</td>\n",
       "      <td>31.000000</td>\n",
       "      <td>22.000000</td>\n",
       "      <td>24.000000</td>\n",
       "      <td>24.000000</td>\n",
       "    </tr>\n",
       "  </tbody>\n",
       "</table>\n",
       "</div>"
      ],
      "text/plain": [
       "cluster_km           0           1            2           3           4\n",
       "count       753.000000  935.000000  1132.000000  634.000000  546.000000\n",
       "mean          5.183267    4.706952     2.450530    3.610410    2.805861\n",
       "std           4.322244    3.908442     2.837825    3.694232    3.130032\n",
       "min           0.000000    0.000000     0.000000    0.000000    0.000000\n",
       "25%           2.000000    2.000000     1.000000    1.000000    1.000000\n",
       "50%           4.000000    4.000000     2.000000    3.000000    2.000000\n",
       "75%           7.000000    6.000000     3.000000    5.000000    4.000000\n",
       "max          29.000000   31.000000    22.000000   24.000000   24.000000"
      ]
     },
     "metadata": {},
     "output_type": "display_data"
    },
    {
     "name": "stdout",
     "output_type": "stream",
     "text": [
      "\n",
      "\n",
      "Распределение переменной Avg_class_frequency_total по кластерам\n"
     ]
    },
    {
     "data": {
      "text/html": [
       "<div>\n",
       "<style scoped>\n",
       "    .dataframe tbody tr th:only-of-type {\n",
       "        vertical-align: middle;\n",
       "    }\n",
       "\n",
       "    .dataframe tbody tr th {\n",
       "        vertical-align: top;\n",
       "    }\n",
       "\n",
       "    .dataframe thead th {\n",
       "        text-align: right;\n",
       "    }\n",
       "</style>\n",
       "<table border=\"1\" class=\"dataframe\">\n",
       "  <thead>\n",
       "    <tr style=\"text-align: right;\">\n",
       "      <th>cluster_km</th>\n",
       "      <th>0</th>\n",
       "      <th>1</th>\n",
       "      <th>2</th>\n",
       "      <th>3</th>\n",
       "      <th>4</th>\n",
       "    </tr>\n",
       "  </thead>\n",
       "  <tbody>\n",
       "    <tr>\n",
       "      <th>count</th>\n",
       "      <td>753.000000</td>\n",
       "      <td>935.000000</td>\n",
       "      <td>1132.000000</td>\n",
       "      <td>634.000000</td>\n",
       "      <td>546.000000</td>\n",
       "    </tr>\n",
       "    <tr>\n",
       "      <th>mean</th>\n",
       "      <td>2.922966</td>\n",
       "      <td>1.994082</td>\n",
       "      <td>1.305629</td>\n",
       "      <td>1.682177</td>\n",
       "      <td>1.659607</td>\n",
       "    </tr>\n",
       "    <tr>\n",
       "      <th>std</th>\n",
       "      <td>0.708810</td>\n",
       "      <td>0.965562</td>\n",
       "      <td>0.637992</td>\n",
       "      <td>0.828559</td>\n",
       "      <td>0.835615</td>\n",
       "    </tr>\n",
       "    <tr>\n",
       "      <th>min</th>\n",
       "      <td>1.129123</td>\n",
       "      <td>0.000000</td>\n",
       "      <td>0.000000</td>\n",
       "      <td>0.000000</td>\n",
       "      <td>0.000000</td>\n",
       "    </tr>\n",
       "    <tr>\n",
       "      <th>25%</th>\n",
       "      <td>2.412063</td>\n",
       "      <td>1.303755</td>\n",
       "      <td>0.852997</td>\n",
       "      <td>1.094088</td>\n",
       "      <td>1.054747</td>\n",
       "    </tr>\n",
       "    <tr>\n",
       "      <th>50%</th>\n",
       "      <td>2.823535</td>\n",
       "      <td>2.037569</td>\n",
       "      <td>1.340453</td>\n",
       "      <td>1.700033</td>\n",
       "      <td>1.602536</td>\n",
       "    </tr>\n",
       "    <tr>\n",
       "      <th>75%</th>\n",
       "      <td>3.368606</td>\n",
       "      <td>2.692005</td>\n",
       "      <td>1.778186</td>\n",
       "      <td>2.295887</td>\n",
       "      <td>2.201152</td>\n",
       "    </tr>\n",
       "    <tr>\n",
       "      <th>max</th>\n",
       "      <td>6.023668</td>\n",
       "      <td>5.079242</td>\n",
       "      <td>2.910890</td>\n",
       "      <td>3.521418</td>\n",
       "      <td>3.898184</td>\n",
       "    </tr>\n",
       "  </tbody>\n",
       "</table>\n",
       "</div>"
      ],
      "text/plain": [
       "cluster_km           0           1            2           3           4\n",
       "count       753.000000  935.000000  1132.000000  634.000000  546.000000\n",
       "mean          2.922966    1.994082     1.305629    1.682177    1.659607\n",
       "std           0.708810    0.965562     0.637992    0.828559    0.835615\n",
       "min           1.129123    0.000000     0.000000    0.000000    0.000000\n",
       "25%           2.412063    1.303755     0.852997    1.094088    1.054747\n",
       "50%           2.823535    2.037569     1.340453    1.700033    1.602536\n",
       "75%           3.368606    2.692005     1.778186    2.295887    2.201152\n",
       "max           6.023668    5.079242     2.910890    3.521418    3.898184"
      ]
     },
     "metadata": {},
     "output_type": "display_data"
    },
    {
     "name": "stdout",
     "output_type": "stream",
     "text": [
      "\n",
      "\n",
      "Распределение переменной Avg_class_frequency_current_month по кластерам\n"
     ]
    },
    {
     "data": {
      "text/html": [
       "<div>\n",
       "<style scoped>\n",
       "    .dataframe tbody tr th:only-of-type {\n",
       "        vertical-align: middle;\n",
       "    }\n",
       "\n",
       "    .dataframe tbody tr th {\n",
       "        vertical-align: top;\n",
       "    }\n",
       "\n",
       "    .dataframe thead th {\n",
       "        text-align: right;\n",
       "    }\n",
       "</style>\n",
       "<table border=\"1\" class=\"dataframe\">\n",
       "  <thead>\n",
       "    <tr style=\"text-align: right;\">\n",
       "      <th>cluster_km</th>\n",
       "      <th>0</th>\n",
       "      <th>1</th>\n",
       "      <th>2</th>\n",
       "      <th>3</th>\n",
       "      <th>4</th>\n",
       "    </tr>\n",
       "  </thead>\n",
       "  <tbody>\n",
       "    <tr>\n",
       "      <th>count</th>\n",
       "      <td>753.000000</td>\n",
       "      <td>935.000000</td>\n",
       "      <td>1132.000000</td>\n",
       "      <td>634.000000</td>\n",
       "      <td>546.000000</td>\n",
       "    </tr>\n",
       "    <tr>\n",
       "      <th>mean</th>\n",
       "      <td>2.927890</td>\n",
       "      <td>1.985368</td>\n",
       "      <td>1.070777</td>\n",
       "      <td>1.565955</td>\n",
       "      <td>1.469327</td>\n",
       "    </tr>\n",
       "    <tr>\n",
       "      <th>std</th>\n",
       "      <td>0.718197</td>\n",
       "      <td>0.969592</td>\n",
       "      <td>0.666168</td>\n",
       "      <td>0.900867</td>\n",
       "      <td>0.928308</td>\n",
       "    </tr>\n",
       "    <tr>\n",
       "      <th>min</th>\n",
       "      <td>1.070853</td>\n",
       "      <td>0.000000</td>\n",
       "      <td>0.000000</td>\n",
       "      <td>0.000000</td>\n",
       "      <td>0.000000</td>\n",
       "    </tr>\n",
       "    <tr>\n",
       "      <th>25%</th>\n",
       "      <td>2.406633</td>\n",
       "      <td>1.307831</td>\n",
       "      <td>0.546117</td>\n",
       "      <td>0.915362</td>\n",
       "      <td>0.779772</td>\n",
       "    </tr>\n",
       "    <tr>\n",
       "      <th>50%</th>\n",
       "      <td>2.849407</td>\n",
       "      <td>2.030109</td>\n",
       "      <td>1.105748</td>\n",
       "      <td>1.590482</td>\n",
       "      <td>1.428180</td>\n",
       "    </tr>\n",
       "    <tr>\n",
       "      <th>75%</th>\n",
       "      <td>3.364540</td>\n",
       "      <td>2.686021</td>\n",
       "      <td>1.585381</td>\n",
       "      <td>2.260126</td>\n",
       "      <td>2.117589</td>\n",
       "    </tr>\n",
       "    <tr>\n",
       "      <th>max</th>\n",
       "      <td>6.146783</td>\n",
       "      <td>4.976680</td>\n",
       "      <td>2.812503</td>\n",
       "      <td>3.555315</td>\n",
       "      <td>3.943236</td>\n",
       "    </tr>\n",
       "  </tbody>\n",
       "</table>\n",
       "</div>"
      ],
      "text/plain": [
       "cluster_km           0           1            2           3           4\n",
       "count       753.000000  935.000000  1132.000000  634.000000  546.000000\n",
       "mean          2.927890    1.985368     1.070777    1.565955    1.469327\n",
       "std           0.718197    0.969592     0.666168    0.900867    0.928308\n",
       "min           1.070853    0.000000     0.000000    0.000000    0.000000\n",
       "25%           2.406633    1.307831     0.546117    0.915362    0.779772\n",
       "50%           2.849407    2.030109     1.105748    1.590482    1.428180\n",
       "75%           3.364540    2.686021     1.585381    2.260126    2.117589\n",
       "max           6.146783    4.976680     2.812503    3.555315    3.943236"
      ]
     },
     "metadata": {},
     "output_type": "display_data"
    },
    {
     "name": "stdout",
     "output_type": "stream",
     "text": [
      "\n",
      "\n",
      "Распределение переменной Churn по кластерам\n"
     ]
    },
    {
     "data": {
      "text/html": [
       "<div>\n",
       "<style scoped>\n",
       "    .dataframe tbody tr th:only-of-type {\n",
       "        vertical-align: middle;\n",
       "    }\n",
       "\n",
       "    .dataframe tbody tr th {\n",
       "        vertical-align: top;\n",
       "    }\n",
       "\n",
       "    .dataframe thead th {\n",
       "        text-align: right;\n",
       "    }\n",
       "</style>\n",
       "<table border=\"1\" class=\"dataframe\">\n",
       "  <thead>\n",
       "    <tr style=\"text-align: right;\">\n",
       "      <th>cluster_km</th>\n",
       "      <th>0</th>\n",
       "      <th>1</th>\n",
       "      <th>2</th>\n",
       "      <th>3</th>\n",
       "      <th>4</th>\n",
       "    </tr>\n",
       "  </thead>\n",
       "  <tbody>\n",
       "    <tr>\n",
       "      <th>count</th>\n",
       "      <td>753.000000</td>\n",
       "      <td>935.000000</td>\n",
       "      <td>1132.000000</td>\n",
       "      <td>634.000000</td>\n",
       "      <td>546.000000</td>\n",
       "    </tr>\n",
       "    <tr>\n",
       "      <th>mean</th>\n",
       "      <td>0.057105</td>\n",
       "      <td>0.022460</td>\n",
       "      <td>0.516784</td>\n",
       "      <td>0.263407</td>\n",
       "      <td>0.448718</td>\n",
       "    </tr>\n",
       "    <tr>\n",
       "      <th>std</th>\n",
       "      <td>0.232197</td>\n",
       "      <td>0.148253</td>\n",
       "      <td>0.499939</td>\n",
       "      <td>0.440829</td>\n",
       "      <td>0.497819</td>\n",
       "    </tr>\n",
       "    <tr>\n",
       "      <th>min</th>\n",
       "      <td>0.000000</td>\n",
       "      <td>0.000000</td>\n",
       "      <td>0.000000</td>\n",
       "      <td>0.000000</td>\n",
       "      <td>0.000000</td>\n",
       "    </tr>\n",
       "    <tr>\n",
       "      <th>25%</th>\n",
       "      <td>0.000000</td>\n",
       "      <td>0.000000</td>\n",
       "      <td>0.000000</td>\n",
       "      <td>0.000000</td>\n",
       "      <td>0.000000</td>\n",
       "    </tr>\n",
       "    <tr>\n",
       "      <th>50%</th>\n",
       "      <td>0.000000</td>\n",
       "      <td>0.000000</td>\n",
       "      <td>1.000000</td>\n",
       "      <td>0.000000</td>\n",
       "      <td>0.000000</td>\n",
       "    </tr>\n",
       "    <tr>\n",
       "      <th>75%</th>\n",
       "      <td>0.000000</td>\n",
       "      <td>0.000000</td>\n",
       "      <td>1.000000</td>\n",
       "      <td>1.000000</td>\n",
       "      <td>1.000000</td>\n",
       "    </tr>\n",
       "    <tr>\n",
       "      <th>max</th>\n",
       "      <td>1.000000</td>\n",
       "      <td>1.000000</td>\n",
       "      <td>1.000000</td>\n",
       "      <td>1.000000</td>\n",
       "      <td>1.000000</td>\n",
       "    </tr>\n",
       "  </tbody>\n",
       "</table>\n",
       "</div>"
      ],
      "text/plain": [
       "cluster_km           0           1            2           3           4\n",
       "count       753.000000  935.000000  1132.000000  634.000000  546.000000\n",
       "mean          0.057105    0.022460     0.516784    0.263407    0.448718\n",
       "std           0.232197    0.148253     0.499939    0.440829    0.497819\n",
       "min           0.000000    0.000000     0.000000    0.000000    0.000000\n",
       "25%           0.000000    0.000000     0.000000    0.000000    0.000000\n",
       "50%           0.000000    0.000000     1.000000    0.000000    0.000000\n",
       "75%           0.000000    0.000000     1.000000    1.000000    1.000000\n",
       "max           1.000000    1.000000     1.000000    1.000000    1.000000"
      ]
     },
     "metadata": {},
     "output_type": "display_data"
    },
    {
     "name": "stdout",
     "output_type": "stream",
     "text": [
      "\n",
      "\n"
     ]
    }
   ],
   "source": [
    "for col in df.drop(columns=['cluster_km']).columns:\n",
    "    print('Распределение переменной', col, 'по кластерам')\n",
    "    display(df.groupby('cluster_km')[col].describe().transpose())\n",
    "    print('\\n')"
   ]
  },
  {
   "cell_type": "code",
   "execution_count": 15,
   "metadata": {
    "scrolled": true,
    "pycharm": {
     "name": "#%%\n"
    }
   },
   "outputs": [
    {
     "name": "stdout",
     "output_type": "stream",
     "text": [
      "Распределение переменной gender по кластерам\n"
     ]
    },
    {
     "data": {
      "image/png": "[encoded data removed]",
      "text/plain": [
       "<Figure size 432x288 with 1 Axes>"
      ]
     },
     "metadata": {
      "needs_background": "light"
     },
     "output_type": "display_data"
    },
    {
     "name": "stdout",
     "output_type": "stream",
     "text": [
      "Распределение переменной Near_Location по кластерам\n"
     ]
    },
    {
     "data": {
      "image/png": "[encoded data removed]",
      "text/plain": [
       "<Figure size 432x288 with 1 Axes>"
      ]
     },
     "metadata": {
      "needs_background": "light"
     },
     "output_type": "display_data"
    },
    {
     "name": "stdout",
     "output_type": "stream",
     "text": [
      "Распределение переменной Partner по кластерам\n"
     ]
    },
    {
     "data": {
      "image/png": "[encoded data removed]",
      "text/plain": [
       "<Figure size 432x288 with 1 Axes>"
      ]
     },
     "metadata": {
      "needs_background": "light"
     },
     "output_type": "display_data"
    },
    {
     "name": "stdout",
     "output_type": "stream",
     "text": [
      "Распределение переменной Promo_friends по кластерам\n"
     ]
    },
    {
     "data": {
      "image/png": "[encoded data removed]",
      "text/plain": [
       "<Figure size 432x288 with 1 Axes>"
      ]
     },
     "metadata": {
      "needs_background": "light"
     },
     "output_type": "display_data"
    },
    {
     "name": "stdout",
     "output_type": "stream",
     "text": [
      "Распределение переменной Phone по кластерам\n"
     ]
    },
    {
     "data": {
      "image/png": "[encoded data removed]",
      "text/plain": [
       "<Figure size 432x288 with 1 Axes>"
      ]
     },
     "metadata": {
      "needs_background": "light"
     },
     "output_type": "display_data"
    },
    {
     "name": "stdout",
     "output_type": "stream",
     "text": [
      "Распределение переменной Contract_period по кластерам\n"
     ]
    },
    {
     "data": {
      "image/png": "[encoded data removed]",
      "text/plain": [
       "<Figure size 432x288 with 1 Axes>"
      ]
     },
     "metadata": {
      "needs_background": "light"
     },
     "output_type": "display_data"
    },
    {
     "name": "stdout",
     "output_type": "stream",
     "text": [
      "Распределение переменной Group_visits по кластерам\n"
     ]
    },
    {
     "data": {
      "image/png": "[encoded data removed]",
      "text/plain": [
       "<Figure size 432x288 with 1 Axes>"
      ]
     },
     "metadata": {
      "needs_background": "light"
     },
     "output_type": "display_data"
    },
    {
     "name": "stdout",
     "output_type": "stream",
     "text": [
      "Распределение переменной Month_to_end_contract по кластерам\n"
     ]
    },
    {
     "data": {
      "image/png": "[encoded data removed]",
      "text/plain": [
       "<Figure size 432x288 with 1 Axes>"
      ]
     },
     "metadata": {
      "needs_background": "light"
     },
     "output_type": "display_data"
    },
    {
     "name": "stdout",
     "output_type": "stream",
     "text": [
      "Распределение переменной Churn по кластерам\n"
     ]
    },
    {
     "data": {
      "image/png": "[encoded data removed]",
      "text/plain": [
       "<Figure size 432x288 with 1 Axes>"
      ]
     },
     "metadata": {
      "needs_background": "light"
     },
     "output_type": "display_data"
    }
   ],
   "source": [
    "for var in ['gender', 'Near_Location', 'Partner', 'Promo_friends', 'Phone', 'Contract_period', 'Group_visits'\n",
    "            , 'Month_to_end_contract', 'Churn']:\n",
    "    print(f'Распределение переменной {var} по кластерам')\n",
    "    sns.countplot(data = df, x = var, hue = 'cluster_km')\n",
    "    plt.show()"
   ]
  },
  {
   "cell_type": "code",
   "execution_count": 16,
   "metadata": {
    "scrolled": true,
    "pycharm": {
     "name": "#%%\n"
    }
   },
   "outputs": [
    {
     "name": "stdout",
     "output_type": "stream",
     "text": [
      "Распределение переменной Age по кластерам\n"
     ]
    },
    {
     "data": {
      "image/png": "[encoded data removed]",
      "text/plain": [
       "<Figure size 432x288 with 1 Axes>"
      ]
     },
     "metadata": {
      "needs_background": "light"
     },
     "output_type": "display_data"
    },
    {
     "name": "stdout",
     "output_type": "stream",
     "text": [
      "Распределение переменной Avg_additional_charges_total по кластерам\n"
     ]
    },
    {
     "data": {
      "image/png": "[encoded data removed]",
      "text/plain": [
       "<Figure size 432x288 with 1 Axes>"
      ]
     },
     "metadata": {
      "needs_background": "light"
     },
     "output_type": "display_data"
    },
    {
     "name": "stdout",
     "output_type": "stream",
     "text": [
      "Распределение переменной Lifetime по кластерам\n"
     ]
    },
    {
     "data": {
      "image/png": "[encoded data removed]",
      "text/plain": [
       "<Figure size 432x288 with 1 Axes>"
      ]
     },
     "metadata": {
      "needs_background": "light"
     },
     "output_type": "display_data"
    },
    {
     "name": "stdout",
     "output_type": "stream",
     "text": [
      "Распределение переменной Avg_class_frequency_total по кластерам\n"
     ]
    },
    {
     "data": {
      "image/png": "[encoded data removed]",
      "text/plain": [
       "<Figure size 432x288 with 1 Axes>"
      ]
     },
     "metadata": {
      "needs_background": "light"
     },
     "output_type": "display_data"
    },
    {
     "name": "stdout",
     "output_type": "stream",
     "text": [
      "Распределение переменной Avg_class_frequency_current_month по кластерам\n"
     ]
    },
    {
     "data": {
      "image/png": "[encoded data removed]",
      "text/plain": [
       "<Figure size 432x288 with 1 Axes>"
      ]
     },
     "metadata": {
      "needs_background": "light"
     },
     "output_type": "display_data"
    }
   ],
   "source": [
    "for var in ['Age', 'Avg_additional_charges_total', 'Lifetime', 'Avg_class_frequency_total'\n",
    "            , 'Avg_class_frequency_current_month']:\n",
    "    print(f'Распределение переменной {var} по кластерам')\n",
    "    sns.boxplot(x ='cluster_km',y = var, data = df)\n",
    "    plt.show()"
   ]
  },
  {
   "cell_type": "markdown",
   "metadata": {
    "pycharm": {
     "name": "#%% md\n"
    }
   },
   "source": [
    "Как уже было отмечено, наиболее склонны к оттоку кластеры 2 (~52%) и 4 (около 45%). Также проблематичным выглядит 3 кластер - около четверти (26%) клиентов в нём прекратили пользоваться услугами зала.\n",
    "\n",
    "Самые надёжные кластеры - нулевой и первый, с долей ушедших пользователей в 6% и 2% соответственно."
   ]
  },
  {
   "cell_type": "markdown",
   "metadata": {
    "pycharm": {
     "name": "#%% md\n"
    }
   },
   "source": [
    "## Выводы и базовые рекомендации по работе с клиентами\n",
    "\n",
    "Сформулируйте основные выводы и предложите рекомендации для стратегии взаимодействия с клиентами и их удержания.\n",
    "Не описывайте стратегию детально: достаточно 3-4 важных принципов и примеров их реализации в виде определённых маркетинговых действий.\n",
    "\n",
    "Основные выводы:\n",
    "* У фитнес-центра неплохие показатели удержания: отток в 25% довольно большой, однако 75% не прекращают пользоваться услугами клуба во время действия абонемента.\n",
    "* Клиенты клуба сравнительно молодые - средний возраст близок к 30 годам.\n",
    "* Большинство клиентов либо проживают в одном районе с центром, либо работают в этом районе.\n",
    "\n",
    "Что касается клиентов, склонных к оттоку, можно рекомендовать следующие действия для их удержания:\n",
    "    \n",
    "    1) Расширение партнёрской сети. Клиенты, пользующиеся корпоративным тарифом в целом менее склонны к тому, чтобы прекратить пользоваться услугами центра.\n",
    "    2) Расширение реферальной программы. Действующим клиентам центра можно предлагать дополнительные преимущества за приведённых друзей: бесплатное занятие с тренером центра, символическую скидку на продление абонемента и т.п.\n",
    "    3) Более активная работа с клиентами, купившими краткосрочный абонемент: информирование об имеющихся групповых программах может оказать благоприятный эффект. В целом, задача состоит в формировании привычки посещения центра - увеличении показателя посещений в неделю.\n",
    "    4) Стоит рассмотреть возможность для досрочного продления абонемента. Клиенты, чей абонемент подходит к концу, с большей вероятностью перестанут посещать центр ещё до окончания абонемента. Особые условия и информирование по телефону / в мессенджерах и т.д. заблаговременно (в зависимости от срока действия абонемента - хотя бы за неделю для клиентов с самым коротким абонементом и за 1-2 месяца для клиентов с абонементом на 6/12 месяцев) потенциально позволит повысить удержание клиентов с высоким риском оттока.\n",
    "    \n",
    "Реализация этих мер позволит сократить отток клиентов."
   ]
  }
 ],
 "metadata": {
  "ExecuteTimeLog": [
   {
    "duration": 1369,
    "start_time": "2022-03-15T19:22:58.749Z"
   },
   {
    "duration": 55,
    "start_time": "2022-03-15T19:23:12.364Z"
   },
   {
    "duration": 32,
    "start_time": "2022-03-15T19:23:16.901Z"
   },
   {
    "duration": 23,
    "start_time": "2022-03-15T19:27:21.585Z"
   },
   {
    "duration": 12,
    "start_time": "2022-03-15T19:27:24.459Z"
   },
   {
    "duration": 86,
    "start_time": "2022-03-15T19:27:33.459Z"
   },
   {
    "duration": 24,
    "start_time": "2022-03-15T19:32:21.430Z"
   },
   {
    "duration": 24,
    "start_time": "2022-03-15T19:32:45.138Z"
   },
   {
    "duration": 285,
    "start_time": "2022-03-16T15:45:55.912Z"
   },
   {
    "duration": 1306,
    "start_time": "2022-03-16T15:46:02.127Z"
   },
   {
    "duration": 21,
    "start_time": "2022-03-16T15:46:03.437Z"
   },
   {
    "duration": 41,
    "start_time": "2022-03-16T15:46:03.465Z"
   },
   {
    "duration": 10,
    "start_time": "2022-03-16T15:46:03.509Z"
   },
   {
    "duration": 96,
    "start_time": "2022-03-16T15:46:03.522Z"
   },
   {
    "duration": 25,
    "start_time": "2022-03-16T15:46:03.620Z"
   },
   {
    "duration": 549,
    "start_time": "2022-03-16T15:46:03.648Z"
   },
   {
    "duration": 2431,
    "start_time": "2022-03-16T15:46:11.296Z"
   },
   {
    "duration": 2488,
    "start_time": "2022-03-16T15:46:17.576Z"
   },
   {
    "duration": 2534,
    "start_time": "2022-03-16T15:46:38.792Z"
   },
   {
    "duration": 2429,
    "start_time": "2022-03-16T15:47:26.734Z"
   },
   {
    "duration": 2675,
    "start_time": "2022-03-16T15:47:40.357Z"
   },
   {
    "duration": 3410,
    "start_time": "2022-03-16T15:48:03.517Z"
   },
   {
    "duration": 371,
    "start_time": "2022-03-16T15:48:25.381Z"
   },
   {
    "duration": 1028,
    "start_time": "2022-03-16T15:48:34.234Z"
   },
   {
    "duration": 233,
    "start_time": "2022-03-16T15:48:48.187Z"
   },
   {
    "duration": 1196,
    "start_time": "2022-03-19T08:16:53.663Z"
   },
   {
    "duration": 57,
    "start_time": "2022-03-19T08:16:54.862Z"
   },
   {
    "duration": 21,
    "start_time": "2022-03-19T08:16:54.921Z"
   },
   {
    "duration": 12,
    "start_time": "2022-03-19T08:16:54.943Z"
   },
   {
    "duration": 59,
    "start_time": "2022-03-19T08:16:54.957Z"
   },
   {
    "duration": 19,
    "start_time": "2022-03-19T08:16:55.018Z"
   },
   {
    "duration": 1512,
    "start_time": "2022-03-19T08:16:55.039Z"
   },
   {
    "duration": 1637,
    "start_time": "2022-03-19T08:16:56.552Z"
   },
   {
    "duration": 21,
    "start_time": "2022-03-19T08:18:54.360Z"
   },
   {
    "duration": 92,
    "start_time": "2022-03-19T08:24:11.085Z"
   },
   {
    "duration": 59,
    "start_time": "2022-03-19T08:24:29.100Z"
   },
   {
    "duration": 1537,
    "start_time": "2022-03-19T08:24:33.579Z"
   },
   {
    "duration": 117,
    "start_time": "2022-03-19T08:24:50.268Z"
   },
   {
    "duration": 1570,
    "start_time": "2022-03-19T08:25:40.727Z"
   },
   {
    "duration": 1482,
    "start_time": "2022-03-19T08:25:50.193Z"
   },
   {
    "duration": 1488,
    "start_time": "2022-03-19T08:26:23.216Z"
   },
   {
    "duration": 1563,
    "start_time": "2022-03-19T08:26:31.832Z"
   },
   {
    "duration": 1486,
    "start_time": "2022-03-19T08:26:40.437Z"
   },
   {
    "duration": 74,
    "start_time": "2022-03-19T08:32:03.378Z"
   },
   {
    "duration": 9,
    "start_time": "2022-03-19T08:32:14.938Z"
   },
   {
    "duration": 379,
    "start_time": "2022-03-19T08:32:46.847Z"
   },
   {
    "duration": 6,
    "start_time": "2022-03-19T08:32:52.863Z"
   },
   {
    "duration": 28,
    "start_time": "2022-03-19T08:53:39.482Z"
   },
   {
    "duration": 5,
    "start_time": "2022-03-19T08:54:20.429Z"
   },
   {
    "duration": 977,
    "start_time": "2022-03-19T08:54:23.537Z"
   },
   {
    "duration": 4,
    "start_time": "2022-03-19T08:56:15.940Z"
   },
   {
    "duration": 1675,
    "start_time": "2022-03-19T08:56:21.967Z"
   },
   {
    "duration": 2984,
    "start_time": "2022-03-19T09:04:08.152Z"
   },
   {
    "duration": 14,
    "start_time": "2022-03-19T10:54:50.502Z"
   },
   {
    "duration": 5,
    "start_time": "2022-03-19T10:55:01.591Z"
   },
   {
    "duration": 879,
    "start_time": "2022-03-19T10:55:05.032Z"
   },
   {
    "duration": 1867,
    "start_time": "2022-03-19T10:55:13.204Z"
   },
   {
    "duration": 1332,
    "start_time": "2022-03-19T10:55:38.747Z"
   },
   {
    "duration": 1659,
    "start_time": "2022-03-20T09:14:12.124Z"
   },
   {
    "duration": 18,
    "start_time": "2022-03-20T09:14:13.785Z"
   },
   {
    "duration": 21,
    "start_time": "2022-03-20T09:14:13.807Z"
   },
   {
    "duration": 16,
    "start_time": "2022-03-20T09:14:13.830Z"
   },
   {
    "duration": 43,
    "start_time": "2022-03-20T09:14:13.848Z"
   },
   {
    "duration": 15,
    "start_time": "2022-03-20T09:14:13.893Z"
   },
   {
    "duration": 1588,
    "start_time": "2022-03-20T09:14:13.910Z"
   },
   {
    "duration": 1638,
    "start_time": "2022-03-20T09:14:15.500Z"
   },
   {
    "duration": 1484,
    "start_time": "2022-03-20T09:14:17.140Z"
   },
   {
    "duration": 1419,
    "start_time": "2022-03-20T09:14:18.625Z"
   },
   {
    "duration": 1256,
    "start_time": "2022-03-20T09:14:52.108Z"
   },
   {
    "duration": 1365,
    "start_time": "2022-03-20T09:14:58.740Z"
   },
   {
    "duration": 1340,
    "start_time": "2022-03-20T09:15:10.543Z"
   },
   {
    "duration": 110,
    "start_time": "2022-03-20T09:15:32.153Z"
   },
   {
    "duration": 868,
    "start_time": "2022-03-20T09:15:42.472Z"
   },
   {
    "duration": 1295,
    "start_time": "2022-03-20T09:15:56.885Z"
   },
   {
    "duration": 1373,
    "start_time": "2022-03-20T09:16:04.774Z"
   },
   {
    "duration": 1556,
    "start_time": "2022-03-20T09:16:14.737Z"
   },
   {
    "duration": 1201,
    "start_time": "2022-03-20T09:16:20.170Z"
   },
   {
    "duration": 14,
    "start_time": "2022-03-20T09:17:17.234Z"
   },
   {
    "duration": 4,
    "start_time": "2022-03-20T09:18:37.680Z"
   },
   {
    "duration": 4,
    "start_time": "2022-03-20T09:18:42.884Z"
   },
   {
    "duration": 17,
    "start_time": "2022-03-20T09:19:00.228Z"
   },
   {
    "duration": 576,
    "start_time": "2022-03-20T09:19:13.202Z"
   },
   {
    "duration": 109585,
    "start_time": "2022-03-20T09:19:23.116Z"
   },
   {
    "duration": 11,
    "start_time": "2022-03-20T09:25:43.962Z"
   },
   {
    "duration": 21,
    "start_time": "2022-03-20T09:26:07.389Z"
   },
   {
    "duration": 1096,
    "start_time": "2022-03-20T09:26:10.642Z"
   },
   {
    "duration": 1399,
    "start_time": "2022-03-20T09:26:24.666Z"
   },
   {
    "duration": 1577,
    "start_time": "2022-03-20T09:26:33.973Z"
   },
   {
    "duration": 2141,
    "start_time": "2022-03-20T09:53:00.615Z"
   },
   {
    "duration": 31,
    "start_time": "2022-03-20T09:54:14.713Z"
   },
   {
    "duration": 35,
    "start_time": "2022-03-20T09:54:38.552Z"
   },
   {
    "duration": 24,
    "start_time": "2022-03-20T09:54:56.908Z"
   },
   {
    "duration": 1828,
    "start_time": "2022-03-20T09:55:11.963Z"
   },
   {
    "duration": 146,
    "start_time": "2022-03-20T09:58:11.094Z"
   },
   {
    "duration": 140,
    "start_time": "2022-03-20T09:58:30.541Z"
   },
   {
    "duration": 10,
    "start_time": "2022-03-20T09:59:07.330Z"
   },
   {
    "duration": 22,
    "start_time": "2022-03-20T09:59:21.138Z"
   },
   {
    "duration": 342,
    "start_time": "2022-03-20T10:00:29.908Z"
   },
   {
    "duration": 312,
    "start_time": "2022-03-20T10:00:54.687Z"
   },
   {
    "duration": 303,
    "start_time": "2022-03-20T10:01:00.675Z"
   },
   {
    "duration": 11,
    "start_time": "2022-03-20T10:19:51.509Z"
   },
   {
    "duration": 313,
    "start_time": "2022-03-20T10:20:08.833Z"
   },
   {
    "duration": 2078,
    "start_time": "2022-03-20T20:18:13.371Z"
   },
   {
    "duration": 22,
    "start_time": "2022-03-20T20:18:15.451Z"
   },
   {
    "duration": 21,
    "start_time": "2022-03-20T20:18:15.475Z"
   },
   {
    "duration": 16,
    "start_time": "2022-03-20T20:18:15.499Z"
   },
   {
    "duration": 44,
    "start_time": "2022-03-20T20:18:15.517Z"
   },
   {
    "duration": 16,
    "start_time": "2022-03-20T20:18:15.563Z"
   },
   {
    "duration": 1622,
    "start_time": "2022-03-20T20:18:15.581Z"
   },
   {
    "duration": 1704,
    "start_time": "2022-03-20T20:18:17.205Z"
   },
   {
    "duration": 1541,
    "start_time": "2022-03-20T20:18:18.911Z"
   },
   {
    "duration": 1523,
    "start_time": "2022-03-20T20:18:20.455Z"
   },
   {
    "duration": 674,
    "start_time": "2022-03-20T20:18:21.980Z"
   },
   {
    "duration": 117064,
    "start_time": "2022-03-20T20:18:22.656Z"
   },
   {
    "duration": 1599,
    "start_time": "2022-03-20T20:20:19.722Z"
   },
   {
    "duration": 334,
    "start_time": "2022-03-20T20:20:21.323Z"
   },
   {
    "duration": 56,
    "start_time": "2022-03-21T17:00:08.555Z"
   },
   {
    "duration": 2063,
    "start_time": "2022-03-21T17:00:16.471Z"
   },
   {
    "duration": 25,
    "start_time": "2022-03-21T17:00:18.537Z"
   },
   {
    "duration": 23,
    "start_time": "2022-03-21T17:00:18.564Z"
   },
   {
    "duration": 19,
    "start_time": "2022-03-21T17:00:18.589Z"
   },
   {
    "duration": 55,
    "start_time": "2022-03-21T17:00:18.611Z"
   },
   {
    "duration": 18,
    "start_time": "2022-03-21T17:00:18.668Z"
   },
   {
    "duration": 1582,
    "start_time": "2022-03-21T17:00:18.700Z"
   },
   {
    "duration": 1726,
    "start_time": "2022-03-21T17:00:20.284Z"
   },
   {
    "duration": 1484,
    "start_time": "2022-03-21T17:00:22.012Z"
   },
   {
    "duration": 1562,
    "start_time": "2022-03-21T17:00:23.500Z"
   },
   {
    "duration": 94,
    "start_time": "2022-03-21T17:00:30.557Z"
   },
   {
    "duration": 616,
    "start_time": "2022-03-21T17:00:51.994Z"
   },
   {
    "duration": 110980,
    "start_time": "2022-03-21T17:01:08.349Z"
   },
   {
    "duration": 637,
    "start_time": "2022-03-21T17:12:15.614Z"
   },
   {
    "duration": 1441,
    "start_time": "2022-03-21T17:12:48.988Z"
   },
   {
    "duration": 354,
    "start_time": "2022-03-21T17:30:42.855Z"
   },
   {
    "duration": 12,
    "start_time": "2022-03-21T17:31:59.052Z"
   },
   {
    "duration": 14,
    "start_time": "2022-03-21T17:32:16.519Z"
   },
   {
    "duration": 180,
    "start_time": "2022-03-21T17:32:23.688Z"
   },
   {
    "duration": 10,
    "start_time": "2022-03-21T17:38:53.722Z"
   },
   {
    "duration": 1563,
    "start_time": "2022-03-21T17:39:00.750Z"
   },
   {
    "duration": 1306,
    "start_time": "2022-03-21T17:43:06.250Z"
   },
   {
    "duration": 526,
    "start_time": "2022-03-21T17:43:35.477Z"
   },
   {
    "duration": 929,
    "start_time": "2022-03-21T17:43:44.461Z"
   },
   {
    "duration": 1704,
    "start_time": "2022-03-21T17:44:21.891Z"
   },
   {
    "duration": 773,
    "start_time": "2022-03-21T17:44:24.806Z"
   },
   {
    "duration": 2100,
    "start_time": "2022-03-21T17:45:19.466Z"
   },
   {
    "duration": 19,
    "start_time": "2022-03-21T17:45:21.568Z"
   },
   {
    "duration": 24,
    "start_time": "2022-03-21T17:45:21.589Z"
   },
   {
    "duration": 14,
    "start_time": "2022-03-21T17:45:21.615Z"
   },
   {
    "duration": 53,
    "start_time": "2022-03-21T17:45:21.632Z"
   },
   {
    "duration": 30,
    "start_time": "2022-03-21T17:45:21.687Z"
   },
   {
    "duration": 1643,
    "start_time": "2022-03-21T17:45:21.719Z"
   },
   {
    "duration": 1745,
    "start_time": "2022-03-21T17:45:23.365Z"
   },
   {
    "duration": 1452,
    "start_time": "2022-03-21T17:45:25.111Z"
   },
   {
    "duration": 1511,
    "start_time": "2022-03-21T17:45:26.565Z"
   },
   {
    "duration": 632,
    "start_time": "2022-03-21T17:45:28.078Z"
   },
   {
    "duration": 1795,
    "start_time": "2022-03-21T17:49:08.880Z"
   },
   {
    "duration": 19,
    "start_time": "2022-03-21T17:49:10.677Z"
   },
   {
    "duration": 24,
    "start_time": "2022-03-21T17:49:10.698Z"
   },
   {
    "duration": 15,
    "start_time": "2022-03-21T17:49:10.724Z"
   },
   {
    "duration": 70,
    "start_time": "2022-03-21T17:49:10.741Z"
   },
   {
    "duration": 16,
    "start_time": "2022-03-21T17:49:10.812Z"
   },
   {
    "duration": 1587,
    "start_time": "2022-03-21T17:49:10.830Z"
   },
   {
    "duration": 1848,
    "start_time": "2022-03-21T17:49:12.418Z"
   },
   {
    "duration": 1515,
    "start_time": "2022-03-21T17:49:14.268Z"
   },
   {
    "duration": 1575,
    "start_time": "2022-03-21T17:49:15.785Z"
   },
   {
    "duration": 653,
    "start_time": "2022-03-21T17:49:17.361Z"
   },
   {
    "duration": 111953,
    "start_time": "2022-03-21T17:49:18.015Z"
   },
   {
    "duration": 1639,
    "start_time": "2022-03-21T17:51:09.970Z"
   },
   {
    "duration": 347,
    "start_time": "2022-03-21T17:51:11.612Z"
   },
   {
    "duration": 1914,
    "start_time": "2022-03-21T17:51:11.961Z"
   },
   {
    "duration": 805,
    "start_time": "2022-03-21T17:51:13.876Z"
   }
  ],
  "kernelspec": {
   "display_name": "Python 3 (ipykernel)",
   "language": "python",
   "name": "python3"
  },
  "language_info": {
   "codemirror_mode": {
    "name": "ipython",
    "version": 3
   },
   "file_extension": ".py",
   "mimetype": "text/x-python",
   "name": "python",
   "nbconvert_exporter": "python",
   "pygments_lexer": "ipython3",
   "version": "3.9.5"
  },
  "toc": {
   "base_numbering": 1,
   "nav_menu": {},
   "number_sections": true,
   "sideBar": true,
   "skip_h1_title": true,
   "title_cell": "Table of Contents",
   "title_sidebar": "Contents",
   "toc_cell": false,
   "toc_position": {},
   "toc_section_display": true,
   "toc_window_display": false
  }
 },
 "nbformat": 4,
 "nbformat_minor": 2
}