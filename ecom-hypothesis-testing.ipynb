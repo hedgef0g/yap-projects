{
 "cells": [
  {
   "cell_type": "markdown",
   "metadata": {
    "pycharm": {
     "name": "#%% md\n"
    }
   },
   "source": [
    "# Проверка гипотез для увеличения выручки интернет-магазина"
   ]
  },
  {
   "cell_type": "markdown",
   "metadata": {
    "pycharm": {
     "name": "#%% md\n"
    }
   },
   "source": [
    "**Оглавление**\n",
    "\n",
    "* [Информация о проекте](#Информация-о-проекте)\n",
    "    * [Бизнес-задача](#Бизнес-задача)\n",
    "    * [План выполнения проекта](#План-выполнения-проекта)\n",
    "    * [Описание данных](#Описание-данных)\n",
    "* [Подготовка проекта к анализу](#Подготовка-проекта-к-анализу)\n",
    "* [Приоритизация гипотез](#Приоритизация-гипотез)\n",
    "    * [Расчёт ICE / RICE показателей для гипотез](#Расчёт-ICE-/-RICE-показателей-для-гипотез)\n",
    "    * [Анализ приоритизации по фреймворкам ICE и RICE](#Анализ-приоритизации-по-фреймворкам-ICE-и-RICE)\n",
    "* [Анализ A/B-теста](#Анализ-A/B-теста)\n",
    "    * [Проверка и подготовка данных](#Проверка-и-подготовка-данных)\n",
    "    * [Анализ результатов A/B-теста](#Анализ-результатов-A/B-теста)\n",
    "    * [Итоги анализа A/B-теста](#Итоги-анализа-A/B-теста)\n",
    "* [Общий вывод](#Общий-вывод)"
   ]
  },
  {
   "cell_type": "markdown",
   "metadata": {
    "pycharm": {
     "name": "#%% md\n"
    }
   },
   "source": [
    "## Информация о проекте\n",
    "\n",
    "### Бизнес-задача\n",
    "Подготовить план действий по удержанию клиентов\n",
    "\n",
    "Совместно с отделом маркетинга подготовлены 9 гипотез для увеличения выручки. Необходимо провести их приоритизацию, после чего провести A/B тест и проанализировать результаты.\n",
    "\n",
    "\n",
    "### Исследовательские задачи\n",
    "\n",
    "**Первая часть**.\n",
    "* Применить фреймворк ICE для приоритизации гипотез. Отсортировать их по убыванию приоритета.\n",
    "* Применить фреймворк RICE для приоритизации гипотез. Отсортировать их по убыванию приоритета.\n",
    "* Указать, как изменилась приоритизация гипотез при применении RICE вместо ICE. Объяснить, почему так произошло.\n",
    "\n",
    "============================================================================================================================\n",
    "\n",
    "**Вторая часть**.\n",
    "Проанализировать A/B-тест:\n",
    "\n",
    "*    Построить график кумулятивной выручки по группам. Сделать выводы и предположения.\n",
    "*    Построить график кумулятивного среднего чека по группам. Сделать выводы и предположения.\n",
    "*    Построить график относительного изменения кумулятивного среднего чека группы B к группе A. Сделать выводы и предположения.\n",
    "*    Построить график кумулятивной конверсии по группам. Сделать выводы и предположения.\n",
    "*    Построить график относительного изменения кумулятивной конверсии группы B к группе A. Сделать выводы и предположения.\n",
    "*    Построить точечный график количества заказов по пользователям. Сделать выводы и предположения.\n",
    "*    Посчитать 95-й и 99-й перцентили количества заказов на пользователя. Выбрать границу для определения аномальных пользователей.\n",
    "*    Построить точечный график стоимостей заказов. Сделать выводы и предположения.\n",
    "*    Посчитать 95-й и 99-й перцентили стоимости заказов. Выбрать границу для определения аномальных заказов.\n",
    "*    Посчитать статистическую значимость различий в конверсии между группами по «сырым» данным. Сделать выводы и предположения.\n",
    "*    Посчитать статистическую значимость различий в среднем чеке заказа между группами по «сырым» данным. Сделать выводы и предположения.\n",
    "*    Посчитать статистическую значимость различий в конверсии между группами по «очищенным» данным. Сделать выводы и предположения.\n",
    "*    Посчитать статистическую значимость различий в среднем чеке заказа между группами по «очищенным» данным. Сделать выводы и предположения.\n",
    "*    Принять решение по результатам теста и объяснить его. Варианты решений: \n",
    "        - Остановить тест, зафиксировать победу одной из групп. \n",
    "        - Остановить тест, зафиксировать отсутствие различий между группами. \n",
    "        - Продолжить тест."
   ]
  },
  {
   "cell_type": "markdown",
   "metadata": {
    "pycharm": {
     "name": "#%% md\n"
    }
   },
   "source": [
    "### Описание данных\n",
    "\n",
    "Данные для **первой части**:\n",
    "\n",
    "Файл `hypothesis.csv` (информация о гипотезах)\n",
    "\n",
    "* `Hypothesis` — краткое описание гипотезы;\n",
    "* `Reach` — охват пользователей по 10-балльной шкале;\n",
    "* `Impact` — влияние на пользователей по 10-балльной шкале;\n",
    "* `Confidence` — уверенность в гипотезе по 10-балльной шкале;\n",
    "* `Efforts` — затраты ресурсов на проверку гипотезы по 10-балльной шкале. Чем больше значение Efforts, тем дороже проверка гипотезы.\n",
    "\n",
    "============================================================================================================================\n",
    "\n",
    "Данные для **второй части**:\n",
    "\n",
    "Файл `orders.csv` (информация о заказах)\n",
    "\n",
    "* `transactionId` — идентификатор заказа;\n",
    "* `visitorId` — идентификатор пользователя, совершившего заказ;\n",
    "* `date` — дата, когда был совершён заказ;\n",
    "* `revenue` — выручка заказа;\n",
    "* `group` — группа A/B-теста, в которую попал заказ.\n",
    "\n",
    "Файл `visitors.csv` (информация о посетителях)\n",
    "\n",
    "* `date` — дата;\n",
    "* `group` — группа A/B-теста;\n",
    "* `visitors` — количество пользователей в указанную дату в указанной группе A/B-теста"
   ]
  },
  {
   "cell_type": "markdown",
   "metadata": {
    "pycharm": {
     "name": "#%% md\n"
    }
   },
   "source": [
    "## Подготовка проекта к анализу\n",
    "\n",
    "Подключим необходимые библиотеки и откроем файлы с данными."
   ]
  },
  {
   "cell_type": "code",
   "execution_count": 1,
   "metadata": {
    "pycharm": {
     "name": "#%%\n"
    }
   },
   "outputs": [],
   "source": [
    "# подключаем необходимые библиотеки\n",
    "import pandas as pd\n",
    "import datetime as dt\n",
    "import numpy as np\n",
    "import matplotlib.pyplot as plt\n",
    "from pandas.plotting import register_matplotlib_converters\n",
    "import warnings\n",
    "# конвертеры, которые позволяют использовать типы pandas в matplotlib  \n",
    "register_matplotlib_converters()\n",
    "import scipy.stats as stats"
   ]
  },
  {
   "cell_type": "code",
   "execution_count": 2,
   "metadata": {
    "pycharm": {
     "name": "#%%\n"
    }
   },
   "outputs": [
    {
     "data": {
      "text/html": [
       "<div>\n",
       "<style scoped>\n",
       "    .dataframe tbody tr th:only-of-type {\n",
       "        vertical-align: middle;\n",
       "    }\n",
       "\n",
       "    .dataframe tbody tr th {\n",
       "        vertical-align: top;\n",
       "    }\n",
       "\n",
       "    .dataframe thead th {\n",
       "        text-align: right;\n",
       "    }\n",
       "</style>\n",
       "<table border=\"1\" class=\"dataframe\">\n",
       "  <thead>\n",
       "    <tr style=\"text-align: right;\">\n",
       "      <th></th>\n",
       "      <th>Hypothesis</th>\n",
       "      <th>Reach</th>\n",
       "      <th>Impact</th>\n",
       "      <th>Confidence</th>\n",
       "      <th>Efforts</th>\n",
       "    </tr>\n",
       "  </thead>\n",
       "  <tbody>\n",
       "    <tr>\n",
       "      <td>0</td>\n",
       "      <td>Добавить два новых канала привлечения трафика,...</td>\n",
       "      <td>3</td>\n",
       "      <td>10</td>\n",
       "      <td>8</td>\n",
       "      <td>6</td>\n",
       "    </tr>\n",
       "    <tr>\n",
       "      <td>1</td>\n",
       "      <td>Запустить собственную службу доставки, что сок...</td>\n",
       "      <td>2</td>\n",
       "      <td>5</td>\n",
       "      <td>4</td>\n",
       "      <td>10</td>\n",
       "    </tr>\n",
       "    <tr>\n",
       "      <td>2</td>\n",
       "      <td>Добавить блоки рекомендаций товаров на сайт ин...</td>\n",
       "      <td>8</td>\n",
       "      <td>3</td>\n",
       "      <td>7</td>\n",
       "      <td>3</td>\n",
       "    </tr>\n",
       "    <tr>\n",
       "      <td>3</td>\n",
       "      <td>Изменить структура категорий, что увеличит кон...</td>\n",
       "      <td>8</td>\n",
       "      <td>3</td>\n",
       "      <td>3</td>\n",
       "      <td>8</td>\n",
       "    </tr>\n",
       "    <tr>\n",
       "      <td>4</td>\n",
       "      <td>Изменить цвет фона главной страницы, чтобы уве...</td>\n",
       "      <td>3</td>\n",
       "      <td>1</td>\n",
       "      <td>1</td>\n",
       "      <td>1</td>\n",
       "    </tr>\n",
       "    <tr>\n",
       "      <td>5</td>\n",
       "      <td>Добавить страницу отзывов клиентов о магазине,...</td>\n",
       "      <td>3</td>\n",
       "      <td>2</td>\n",
       "      <td>2</td>\n",
       "      <td>3</td>\n",
       "    </tr>\n",
       "    <tr>\n",
       "      <td>6</td>\n",
       "      <td>Показать на главной странице баннеры с актуаль...</td>\n",
       "      <td>5</td>\n",
       "      <td>3</td>\n",
       "      <td>8</td>\n",
       "      <td>3</td>\n",
       "    </tr>\n",
       "    <tr>\n",
       "      <td>7</td>\n",
       "      <td>Добавить форму подписки на все основные страни...</td>\n",
       "      <td>10</td>\n",
       "      <td>7</td>\n",
       "      <td>8</td>\n",
       "      <td>5</td>\n",
       "    </tr>\n",
       "    <tr>\n",
       "      <td>8</td>\n",
       "      <td>Запустить акцию, дающую скидку на товар в день...</td>\n",
       "      <td>1</td>\n",
       "      <td>9</td>\n",
       "      <td>9</td>\n",
       "      <td>5</td>\n",
       "    </tr>\n",
       "  </tbody>\n",
       "</table>\n",
       "</div>"
      ],
      "text/plain": [
       "                                          Hypothesis  Reach  Impact  \\\n",
       "0  Добавить два новых канала привлечения трафика,...      3      10   \n",
       "1  Запустить собственную службу доставки, что сок...      2       5   \n",
       "2  Добавить блоки рекомендаций товаров на сайт ин...      8       3   \n",
       "3  Изменить структура категорий, что увеличит кон...      8       3   \n",
       "4  Изменить цвет фона главной страницы, чтобы уве...      3       1   \n",
       "5  Добавить страницу отзывов клиентов о магазине,...      3       2   \n",
       "6  Показать на главной странице баннеры с актуаль...      5       3   \n",
       "7  Добавить форму подписки на все основные страни...     10       7   \n",
       "8  Запустить акцию, дающую скидку на товар в день...      1       9   \n",
       "\n",
       "   Confidence  Efforts  \n",
       "0           8        6  \n",
       "1           4       10  \n",
       "2           7        3  \n",
       "3           3        8  \n",
       "4           1        1  \n",
       "5           2        3  \n",
       "6           8        3  \n",
       "7           8        5  \n",
       "8           9        5  "
      ]
     },
     "execution_count": 2,
     "metadata": {},
     "output_type": "execute_result"
    }
   ],
   "source": [
    "hypothesis = pd.read_csv(input('Введите путь к файлу: '))\n",
    "hypothesis"
   ]
  },
  {
   "cell_type": "markdown",
   "metadata": {
    "pycharm": {
     "name": "#%% md\n"
    }
   },
   "source": [
    "<div class=\"alert alert-info\"> <b>Комментарий студента:</b> Готово - решил в эксепт сделать пользовательский инпут, не люблю явно прописывать локальные пути :)</div>"
   ]
  },
  {
   "cell_type": "markdown",
   "metadata": {
    "pycharm": {
     "name": "#%% md\n"
    }
   },
   "source": [
    "<div class=\"alert alert-success\">\n",
    "<h2> Комментарий ревьюера: вторая итерация ревью <a class=\"tocSkip\"> </h2>\n",
    "\n",
    "<b>Все отлично!👍:</b> \n",
    "    \n",
    "Да, так тоже можно, даже более оптимальный вариант:)"
   ]
  },
  {
   "cell_type": "code",
   "execution_count": 3,
   "metadata": {
    "pycharm": {
     "name": "#%%\n"
    }
   },
   "outputs": [
    {
     "data": {
      "text/html": [
       "<div>\n",
       "<style scoped>\n",
       "    .dataframe tbody tr th:only-of-type {\n",
       "        vertical-align: middle;\n",
       "    }\n",
       "\n",
       "    .dataframe tbody tr th {\n",
       "        vertical-align: top;\n",
       "    }\n",
       "\n",
       "    .dataframe thead th {\n",
       "        text-align: right;\n",
       "    }\n",
       "</style>\n",
       "<table border=\"1\" class=\"dataframe\">\n",
       "  <thead>\n",
       "    <tr style=\"text-align: right;\">\n",
       "      <th></th>\n",
       "      <th>transactionId</th>\n",
       "      <th>visitorId</th>\n",
       "      <th>date</th>\n",
       "      <th>revenue</th>\n",
       "      <th>group</th>\n",
       "    </tr>\n",
       "  </thead>\n",
       "  <tbody>\n",
       "    <tr>\n",
       "      <td>0</td>\n",
       "      <td>3667963787</td>\n",
       "      <td>3312258926</td>\n",
       "      <td>2019-08-15</td>\n",
       "      <td>1650</td>\n",
       "      <td>B</td>\n",
       "    </tr>\n",
       "    <tr>\n",
       "      <td>1</td>\n",
       "      <td>2804400009</td>\n",
       "      <td>3642806036</td>\n",
       "      <td>2019-08-15</td>\n",
       "      <td>730</td>\n",
       "      <td>B</td>\n",
       "    </tr>\n",
       "    <tr>\n",
       "      <td>2</td>\n",
       "      <td>2961555356</td>\n",
       "      <td>4069496402</td>\n",
       "      <td>2019-08-15</td>\n",
       "      <td>400</td>\n",
       "      <td>A</td>\n",
       "    </tr>\n",
       "    <tr>\n",
       "      <td>3</td>\n",
       "      <td>3797467345</td>\n",
       "      <td>1196621759</td>\n",
       "      <td>2019-08-15</td>\n",
       "      <td>9759</td>\n",
       "      <td>B</td>\n",
       "    </tr>\n",
       "    <tr>\n",
       "      <td>4</td>\n",
       "      <td>2282983706</td>\n",
       "      <td>2322279887</td>\n",
       "      <td>2019-08-15</td>\n",
       "      <td>2308</td>\n",
       "      <td>B</td>\n",
       "    </tr>\n",
       "  </tbody>\n",
       "</table>\n",
       "</div>"
      ],
      "text/plain": [
       "   transactionId   visitorId        date  revenue group\n",
       "0     3667963787  3312258926  2019-08-15     1650     B\n",
       "1     2804400009  3642806036  2019-08-15      730     B\n",
       "2     2961555356  4069496402  2019-08-15      400     A\n",
       "3     3797467345  1196621759  2019-08-15     9759     B\n",
       "4     2282983706  2322279887  2019-08-15     2308     B"
      ]
     },
     "execution_count": 3,
     "metadata": {},
     "output_type": "execute_result"
    }
   ],
   "source": [
    "try:\n",
    "    orders = pd.read_csv('/datasets/orders.csv')\n",
    "except:\n",
    "    path = input('Введите путь к файлу: ')\n",
    "    orders = pd.read_csv(path)\n",
    "orders.head()"
   ]
  },
  {
   "cell_type": "code",
   "execution_count": 4,
   "metadata": {
    "pycharm": {
     "name": "#%%\n"
    }
   },
   "outputs": [
    {
     "data": {
      "text/html": [
       "<div>\n",
       "<style scoped>\n",
       "    .dataframe tbody tr th:only-of-type {\n",
       "        vertical-align: middle;\n",
       "    }\n",
       "\n",
       "    .dataframe tbody tr th {\n",
       "        vertical-align: top;\n",
       "    }\n",
       "\n",
       "    .dataframe thead th {\n",
       "        text-align: right;\n",
       "    }\n",
       "</style>\n",
       "<table border=\"1\" class=\"dataframe\">\n",
       "  <thead>\n",
       "    <tr style=\"text-align: right;\">\n",
       "      <th></th>\n",
       "      <th>date</th>\n",
       "      <th>group</th>\n",
       "      <th>visitors</th>\n",
       "    </tr>\n",
       "  </thead>\n",
       "  <tbody>\n",
       "    <tr>\n",
       "      <td>0</td>\n",
       "      <td>2019-08-01</td>\n",
       "      <td>A</td>\n",
       "      <td>719</td>\n",
       "    </tr>\n",
       "    <tr>\n",
       "      <td>1</td>\n",
       "      <td>2019-08-02</td>\n",
       "      <td>A</td>\n",
       "      <td>619</td>\n",
       "    </tr>\n",
       "    <tr>\n",
       "      <td>2</td>\n",
       "      <td>2019-08-03</td>\n",
       "      <td>A</td>\n",
       "      <td>507</td>\n",
       "    </tr>\n",
       "    <tr>\n",
       "      <td>3</td>\n",
       "      <td>2019-08-04</td>\n",
       "      <td>A</td>\n",
       "      <td>717</td>\n",
       "    </tr>\n",
       "    <tr>\n",
       "      <td>4</td>\n",
       "      <td>2019-08-05</td>\n",
       "      <td>A</td>\n",
       "      <td>756</td>\n",
       "    </tr>\n",
       "  </tbody>\n",
       "</table>\n",
       "</div>"
      ],
      "text/plain": [
       "         date group  visitors\n",
       "0  2019-08-01     A       719\n",
       "1  2019-08-02     A       619\n",
       "2  2019-08-03     A       507\n",
       "3  2019-08-04     A       717\n",
       "4  2019-08-05     A       756"
      ]
     },
     "execution_count": 4,
     "metadata": {},
     "output_type": "execute_result"
    }
   ],
   "source": [
    "try:\n",
    "    visitors = pd.read_csv('/datasets/visitors.csv')\n",
    "except:\n",
    "    path = input('Введите путь к файлу: ')\n",
    "    visitors = pd.read_csv(path)\n",
    "visitors.head()"
   ]
  },
  {
   "cell_type": "markdown",
   "metadata": {
    "pycharm": {
     "name": "#%% md\n"
    }
   },
   "source": [
    "Файлы с данными загружены и готовы к работе.\n",
    "\n",
    "Таблица, необходимая для выполнения первой части проекта, не нуждается в дополнительной проверке или предобработке, поэтому выполним задачи первой части, отложив проверку данных для второй."
   ]
  },
  {
   "cell_type": "markdown",
   "metadata": {
    "pycharm": {
     "name": "#%% md\n"
    }
   },
   "source": [
    "## Приоритизация гипотез\n",
    "\n",
    "### Расчёт ICE / RICE показателей для гипотез\n",
    "\n",
    "Для начала рассчитаем показатель ICE. Напомним, что ICE рассчитывается по следующей формуле:\n",
    "\n",
    "$$ICE = \\frac{Impact * Confidence}{Efforts}$$"
   ]
  },
  {
   "cell_type": "code",
   "execution_count": 5,
   "metadata": {
    "pycharm": {
     "name": "#%%\n"
    }
   },
   "outputs": [
    {
     "data": {
      "text/html": [
       "<style  type=\"text/css\" >\n",
       "    #T_0d1db31a_9264_11ec_9f19_02420a39450crow0_col1 {\n",
       "            background-color:  #3b4cc0;\n",
       "            color:  #f1f1f1;\n",
       "        }    #T_0d1db31a_9264_11ec_9f19_02420a39450crow0_col2 {\n",
       "            background-color:  #d95847;\n",
       "            color:  #000000;\n",
       "        }    #T_0d1db31a_9264_11ec_9f19_02420a39450crow0_col3 {\n",
       "            background-color:  #b40426;\n",
       "            color:  #f1f1f1;\n",
       "        }    #T_0d1db31a_9264_11ec_9f19_02420a39450crow0_col4 {\n",
       "            background-color:  #cdd9ec;\n",
       "            color:  #000000;\n",
       "        }    #T_0d1db31a_9264_11ec_9f19_02420a39450crow0_col5 {\n",
       "            background-color:  #b40426;\n",
       "            color:  #f1f1f1;\n",
       "        }    #T_0d1db31a_9264_11ec_9f19_02420a39450crow1_col1 {\n",
       "            background-color:  #82a6fb;\n",
       "            color:  #000000;\n",
       "        }    #T_0d1db31a_9264_11ec_9f19_02420a39450crow1_col2 {\n",
       "            background-color:  #b40426;\n",
       "            color:  #f1f1f1;\n",
       "        }    #T_0d1db31a_9264_11ec_9f19_02420a39450crow1_col3 {\n",
       "            background-color:  #dd5f4b;\n",
       "            color:  #000000;\n",
       "        }    #T_0d1db31a_9264_11ec_9f19_02420a39450crow1_col4 {\n",
       "            background-color:  #ead4c8;\n",
       "            color:  #000000;\n",
       "        }    #T_0d1db31a_9264_11ec_9f19_02420a39450crow1_col5 {\n",
       "            background-color:  #ec7f63;\n",
       "            color:  #000000;\n",
       "        }    #T_0d1db31a_9264_11ec_9f19_02420a39450crow2_col1 {\n",
       "            background-color:  #b40426;\n",
       "            color:  #f1f1f1;\n",
       "        }    #T_0d1db31a_9264_11ec_9f19_02420a39450crow2_col2 {\n",
       "            background-color:  #f7b89c;\n",
       "            color:  #000000;\n",
       "        }    #T_0d1db31a_9264_11ec_9f19_02420a39450crow2_col3 {\n",
       "            background-color:  #dd5f4b;\n",
       "            color:  #000000;\n",
       "        }    #T_0d1db31a_9264_11ec_9f19_02420a39450crow2_col4 {\n",
       "            background-color:  #cdd9ec;\n",
       "            color:  #000000;\n",
       "        }    #T_0d1db31a_9264_11ec_9f19_02420a39450crow2_col5 {\n",
       "            background-color:  #f7b79b;\n",
       "            color:  #000000;\n",
       "        }    #T_0d1db31a_9264_11ec_9f19_02420a39450crow3_col1 {\n",
       "            background-color:  #cdd9ec;\n",
       "            color:  #000000;\n",
       "        }    #T_0d1db31a_9264_11ec_9f19_02420a39450crow3_col2 {\n",
       "            background-color:  #82a6fb;\n",
       "            color:  #000000;\n",
       "        }    #T_0d1db31a_9264_11ec_9f19_02420a39450crow3_col3 {\n",
       "            background-color:  #dd5f4b;\n",
       "            color:  #000000;\n",
       "        }    #T_0d1db31a_9264_11ec_9f19_02420a39450crow3_col4 {\n",
       "            background-color:  #82a6fb;\n",
       "            color:  #000000;\n",
       "        }    #T_0d1db31a_9264_11ec_9f19_02420a39450crow3_col5 {\n",
       "            background-color:  #d2dbe8;\n",
       "            color:  #000000;\n",
       "        }    #T_0d1db31a_9264_11ec_9f19_02420a39450crow4_col1 {\n",
       "            background-color:  #f18d6f;\n",
       "            color:  #000000;\n",
       "        }    #T_0d1db31a_9264_11ec_9f19_02420a39450crow4_col2 {\n",
       "            background-color:  #82a6fb;\n",
       "            color:  #000000;\n",
       "        }    #T_0d1db31a_9264_11ec_9f19_02420a39450crow4_col3 {\n",
       "            background-color:  #f4987a;\n",
       "            color:  #000000;\n",
       "        }    #T_0d1db31a_9264_11ec_9f19_02420a39450crow4_col4 {\n",
       "            background-color:  #82a6fb;\n",
       "            color:  #000000;\n",
       "        }    #T_0d1db31a_9264_11ec_9f19_02420a39450crow4_col5 {\n",
       "            background-color:  #bfd3f6;\n",
       "            color:  #000000;\n",
       "        }    #T_0d1db31a_9264_11ec_9f19_02420a39450crow5_col1 {\n",
       "            background-color:  #5d7ce6;\n",
       "            color:  #000000;\n",
       "        }    #T_0d1db31a_9264_11ec_9f19_02420a39450crow5_col2 {\n",
       "            background-color:  #cdd9ec;\n",
       "            color:  #000000;\n",
       "        }    #T_0d1db31a_9264_11ec_9f19_02420a39450crow5_col3 {\n",
       "            background-color:  #b9d0f9;\n",
       "            color:  #000000;\n",
       "        }    #T_0d1db31a_9264_11ec_9f19_02420a39450crow5_col4 {\n",
       "            background-color:  #b40426;\n",
       "            color:  #f1f1f1;\n",
       "        }    #T_0d1db31a_9264_11ec_9f19_02420a39450crow5_col5 {\n",
       "            background-color:  #4e68d8;\n",
       "            color:  #000000;\n",
       "        }    #T_0d1db31a_9264_11ec_9f19_02420a39450crow6_col1 {\n",
       "            background-color:  #82a6fb;\n",
       "            color:  #000000;\n",
       "        }    #T_0d1db31a_9264_11ec_9f19_02420a39450crow6_col2 {\n",
       "            background-color:  #5d7ce6;\n",
       "            color:  #000000;\n",
       "        }    #T_0d1db31a_9264_11ec_9f19_02420a39450crow6_col3 {\n",
       "            background-color:  #6282ea;\n",
       "            color:  #000000;\n",
       "        }    #T_0d1db31a_9264_11ec_9f19_02420a39450crow6_col4 {\n",
       "            background-color:  #82a6fb;\n",
       "            color:  #000000;\n",
       "        }    #T_0d1db31a_9264_11ec_9f19_02420a39450crow6_col5 {\n",
       "            background-color:  #4055c8;\n",
       "            color:  #f1f1f1;\n",
       "        }    #T_0d1db31a_9264_11ec_9f19_02420a39450crow7_col1 {\n",
       "            background-color:  #f18d6f;\n",
       "            color:  #000000;\n",
       "        }    #T_0d1db31a_9264_11ec_9f19_02420a39450crow7_col2 {\n",
       "            background-color:  #82a6fb;\n",
       "            color:  #000000;\n",
       "        }    #T_0d1db31a_9264_11ec_9f19_02420a39450crow7_col3 {\n",
       "            background-color:  #8db0fe;\n",
       "            color:  #000000;\n",
       "        }    #T_0d1db31a_9264_11ec_9f19_02420a39450crow7_col4 {\n",
       "            background-color:  #f18d6f;\n",
       "            color:  #000000;\n",
       "        }    #T_0d1db31a_9264_11ec_9f19_02420a39450crow7_col5 {\n",
       "            background-color:  #3d50c3;\n",
       "            color:  #f1f1f1;\n",
       "        }    #T_0d1db31a_9264_11ec_9f19_02420a39450crow8_col1 {\n",
       "            background-color:  #82a6fb;\n",
       "            color:  #000000;\n",
       "        }    #T_0d1db31a_9264_11ec_9f19_02420a39450crow8_col2 {\n",
       "            background-color:  #3b4cc0;\n",
       "            color:  #f1f1f1;\n",
       "        }    #T_0d1db31a_9264_11ec_9f19_02420a39450crow8_col3 {\n",
       "            background-color:  #3b4cc0;\n",
       "            color:  #f1f1f1;\n",
       "        }    #T_0d1db31a_9264_11ec_9f19_02420a39450crow8_col4 {\n",
       "            background-color:  #3b4cc0;\n",
       "            color:  #f1f1f1;\n",
       "        }    #T_0d1db31a_9264_11ec_9f19_02420a39450crow8_col5 {\n",
       "            background-color:  #3b4cc0;\n",
       "            color:  #f1f1f1;\n",
       "        }</style><table id=\"T_0d1db31a_9264_11ec_9f19_02420a39450c\" ><thead>    <tr>        <th class=\"blank level0\" ></th>        <th class=\"col_heading level0 col0\" >Hypothesis</th>        <th class=\"col_heading level0 col1\" >Reach</th>        <th class=\"col_heading level0 col2\" >Impact</th>        <th class=\"col_heading level0 col3\" >Confidence</th>        <th class=\"col_heading level0 col4\" >Efforts</th>        <th class=\"col_heading level0 col5\" >ICE</th>    </tr></thead><tbody>\n",
       "                <tr>\n",
       "                        <th id=\"T_0d1db31a_9264_11ec_9f19_02420a39450clevel0_row0\" class=\"row_heading level0 row0\" >8</th>\n",
       "                        <td id=\"T_0d1db31a_9264_11ec_9f19_02420a39450crow0_col0\" class=\"data row0 col0\" >Запустить акцию, дающую скидку на товар в день рождения</td>\n",
       "                        <td id=\"T_0d1db31a_9264_11ec_9f19_02420a39450crow0_col1\" class=\"data row0 col1\" >1</td>\n",
       "                        <td id=\"T_0d1db31a_9264_11ec_9f19_02420a39450crow0_col2\" class=\"data row0 col2\" >9</td>\n",
       "                        <td id=\"T_0d1db31a_9264_11ec_9f19_02420a39450crow0_col3\" class=\"data row0 col3\" >9</td>\n",
       "                        <td id=\"T_0d1db31a_9264_11ec_9f19_02420a39450crow0_col4\" class=\"data row0 col4\" >5</td>\n",
       "                        <td id=\"T_0d1db31a_9264_11ec_9f19_02420a39450crow0_col5\" class=\"data row0 col5\" >16.2</td>\n",
       "            </tr>\n",
       "            <tr>\n",
       "                        <th id=\"T_0d1db31a_9264_11ec_9f19_02420a39450clevel0_row1\" class=\"row_heading level0 row1\" >0</th>\n",
       "                        <td id=\"T_0d1db31a_9264_11ec_9f19_02420a39450crow1_col0\" class=\"data row1 col0\" >Добавить два новых канала привлечения трафика, что позволит привлекать на 30% больше пользователей</td>\n",
       "                        <td id=\"T_0d1db31a_9264_11ec_9f19_02420a39450crow1_col1\" class=\"data row1 col1\" >3</td>\n",
       "                        <td id=\"T_0d1db31a_9264_11ec_9f19_02420a39450crow1_col2\" class=\"data row1 col2\" >10</td>\n",
       "                        <td id=\"T_0d1db31a_9264_11ec_9f19_02420a39450crow1_col3\" class=\"data row1 col3\" >8</td>\n",
       "                        <td id=\"T_0d1db31a_9264_11ec_9f19_02420a39450crow1_col4\" class=\"data row1 col4\" >6</td>\n",
       "                        <td id=\"T_0d1db31a_9264_11ec_9f19_02420a39450crow1_col5\" class=\"data row1 col5\" >13.3333</td>\n",
       "            </tr>\n",
       "            <tr>\n",
       "                        <th id=\"T_0d1db31a_9264_11ec_9f19_02420a39450clevel0_row2\" class=\"row_heading level0 row2\" >7</th>\n",
       "                        <td id=\"T_0d1db31a_9264_11ec_9f19_02420a39450crow2_col0\" class=\"data row2 col0\" >Добавить форму подписки на все основные страницы, чтобы собрать базу клиентов для email-рассылок</td>\n",
       "                        <td id=\"T_0d1db31a_9264_11ec_9f19_02420a39450crow2_col1\" class=\"data row2 col1\" >10</td>\n",
       "                        <td id=\"T_0d1db31a_9264_11ec_9f19_02420a39450crow2_col2\" class=\"data row2 col2\" >7</td>\n",
       "                        <td id=\"T_0d1db31a_9264_11ec_9f19_02420a39450crow2_col3\" class=\"data row2 col3\" >8</td>\n",
       "                        <td id=\"T_0d1db31a_9264_11ec_9f19_02420a39450crow2_col4\" class=\"data row2 col4\" >5</td>\n",
       "                        <td id=\"T_0d1db31a_9264_11ec_9f19_02420a39450crow2_col5\" class=\"data row2 col5\" >11.2</td>\n",
       "            </tr>\n",
       "            <tr>\n",
       "                        <th id=\"T_0d1db31a_9264_11ec_9f19_02420a39450clevel0_row3\" class=\"row_heading level0 row3\" >6</th>\n",
       "                        <td id=\"T_0d1db31a_9264_11ec_9f19_02420a39450crow3_col0\" class=\"data row3 col0\" >Показать на главной странице баннеры с актуальными акциями и распродажами, чтобы увеличить конверсию</td>\n",
       "                        <td id=\"T_0d1db31a_9264_11ec_9f19_02420a39450crow3_col1\" class=\"data row3 col1\" >5</td>\n",
       "                        <td id=\"T_0d1db31a_9264_11ec_9f19_02420a39450crow3_col2\" class=\"data row3 col2\" >3</td>\n",
       "                        <td id=\"T_0d1db31a_9264_11ec_9f19_02420a39450crow3_col3\" class=\"data row3 col3\" >8</td>\n",
       "                        <td id=\"T_0d1db31a_9264_11ec_9f19_02420a39450crow3_col4\" class=\"data row3 col4\" >3</td>\n",
       "                        <td id=\"T_0d1db31a_9264_11ec_9f19_02420a39450crow3_col5\" class=\"data row3 col5\" >8</td>\n",
       "            </tr>\n",
       "            <tr>\n",
       "                        <th id=\"T_0d1db31a_9264_11ec_9f19_02420a39450clevel0_row4\" class=\"row_heading level0 row4\" >2</th>\n",
       "                        <td id=\"T_0d1db31a_9264_11ec_9f19_02420a39450crow4_col0\" class=\"data row4 col0\" >Добавить блоки рекомендаций товаров на сайт интернет магазина, чтобы повысить конверсию и средний чек заказа</td>\n",
       "                        <td id=\"T_0d1db31a_9264_11ec_9f19_02420a39450crow4_col1\" class=\"data row4 col1\" >8</td>\n",
       "                        <td id=\"T_0d1db31a_9264_11ec_9f19_02420a39450crow4_col2\" class=\"data row4 col2\" >3</td>\n",
       "                        <td id=\"T_0d1db31a_9264_11ec_9f19_02420a39450crow4_col3\" class=\"data row4 col3\" >7</td>\n",
       "                        <td id=\"T_0d1db31a_9264_11ec_9f19_02420a39450crow4_col4\" class=\"data row4 col4\" >3</td>\n",
       "                        <td id=\"T_0d1db31a_9264_11ec_9f19_02420a39450crow4_col5\" class=\"data row4 col5\" >7</td>\n",
       "            </tr>\n",
       "            <tr>\n",
       "                        <th id=\"T_0d1db31a_9264_11ec_9f19_02420a39450clevel0_row5\" class=\"row_heading level0 row5\" >1</th>\n",
       "                        <td id=\"T_0d1db31a_9264_11ec_9f19_02420a39450crow5_col0\" class=\"data row5 col0\" >Запустить собственную службу доставки, что сократит срок доставки заказов</td>\n",
       "                        <td id=\"T_0d1db31a_9264_11ec_9f19_02420a39450crow5_col1\" class=\"data row5 col1\" >2</td>\n",
       "                        <td id=\"T_0d1db31a_9264_11ec_9f19_02420a39450crow5_col2\" class=\"data row5 col2\" >5</td>\n",
       "                        <td id=\"T_0d1db31a_9264_11ec_9f19_02420a39450crow5_col3\" class=\"data row5 col3\" >4</td>\n",
       "                        <td id=\"T_0d1db31a_9264_11ec_9f19_02420a39450crow5_col4\" class=\"data row5 col4\" >10</td>\n",
       "                        <td id=\"T_0d1db31a_9264_11ec_9f19_02420a39450crow5_col5\" class=\"data row5 col5\" >2</td>\n",
       "            </tr>\n",
       "            <tr>\n",
       "                        <th id=\"T_0d1db31a_9264_11ec_9f19_02420a39450clevel0_row6\" class=\"row_heading level0 row6\" >5</th>\n",
       "                        <td id=\"T_0d1db31a_9264_11ec_9f19_02420a39450crow6_col0\" class=\"data row6 col0\" >Добавить страницу отзывов клиентов о магазине, что позволит увеличить количество заказов</td>\n",
       "                        <td id=\"T_0d1db31a_9264_11ec_9f19_02420a39450crow6_col1\" class=\"data row6 col1\" >3</td>\n",
       "                        <td id=\"T_0d1db31a_9264_11ec_9f19_02420a39450crow6_col2\" class=\"data row6 col2\" >2</td>\n",
       "                        <td id=\"T_0d1db31a_9264_11ec_9f19_02420a39450crow6_col3\" class=\"data row6 col3\" >2</td>\n",
       "                        <td id=\"T_0d1db31a_9264_11ec_9f19_02420a39450crow6_col4\" class=\"data row6 col4\" >3</td>\n",
       "                        <td id=\"T_0d1db31a_9264_11ec_9f19_02420a39450crow6_col5\" class=\"data row6 col5\" >1.33333</td>\n",
       "            </tr>\n",
       "            <tr>\n",
       "                        <th id=\"T_0d1db31a_9264_11ec_9f19_02420a39450clevel0_row7\" class=\"row_heading level0 row7\" >3</th>\n",
       "                        <td id=\"T_0d1db31a_9264_11ec_9f19_02420a39450crow7_col0\" class=\"data row7 col0\" >Изменить структура категорий, что увеличит конверсию, т.к. пользователи быстрее найдут нужный товар</td>\n",
       "                        <td id=\"T_0d1db31a_9264_11ec_9f19_02420a39450crow7_col1\" class=\"data row7 col1\" >8</td>\n",
       "                        <td id=\"T_0d1db31a_9264_11ec_9f19_02420a39450crow7_col2\" class=\"data row7 col2\" >3</td>\n",
       "                        <td id=\"T_0d1db31a_9264_11ec_9f19_02420a39450crow7_col3\" class=\"data row7 col3\" >3</td>\n",
       "                        <td id=\"T_0d1db31a_9264_11ec_9f19_02420a39450crow7_col4\" class=\"data row7 col4\" >8</td>\n",
       "                        <td id=\"T_0d1db31a_9264_11ec_9f19_02420a39450crow7_col5\" class=\"data row7 col5\" >1.125</td>\n",
       "            </tr>\n",
       "            <tr>\n",
       "                        <th id=\"T_0d1db31a_9264_11ec_9f19_02420a39450clevel0_row8\" class=\"row_heading level0 row8\" >4</th>\n",
       "                        <td id=\"T_0d1db31a_9264_11ec_9f19_02420a39450crow8_col0\" class=\"data row8 col0\" >Изменить цвет фона главной страницы, чтобы увеличить вовлеченность пользователей</td>\n",
       "                        <td id=\"T_0d1db31a_9264_11ec_9f19_02420a39450crow8_col1\" class=\"data row8 col1\" >3</td>\n",
       "                        <td id=\"T_0d1db31a_9264_11ec_9f19_02420a39450crow8_col2\" class=\"data row8 col2\" >1</td>\n",
       "                        <td id=\"T_0d1db31a_9264_11ec_9f19_02420a39450crow8_col3\" class=\"data row8 col3\" >1</td>\n",
       "                        <td id=\"T_0d1db31a_9264_11ec_9f19_02420a39450crow8_col4\" class=\"data row8 col4\" >1</td>\n",
       "                        <td id=\"T_0d1db31a_9264_11ec_9f19_02420a39450crow8_col5\" class=\"data row8 col5\" >1</td>\n",
       "            </tr>\n",
       "    </tbody></table>"
      ],
      "text/plain": [
       "<pandas.io.formats.style.Styler at 0x7fe7605b2ed0>"
      ]
     },
     "execution_count": 5,
     "metadata": {},
     "output_type": "execute_result"
    }
   ],
   "source": [
    "pd.set_option(\"max_colwidth\", max(hypothesis['Hypothesis'].apply(len))+1)\n",
    "\n",
    "hypothesis['ICE'] = hypothesis['Impact'] * hypothesis['Confidence'] / hypothesis['Efforts']\n",
    "hypothesis = hypothesis.sort_values(by='ICE', ascending=False)\n",
    "hypothesis.style.background_gradient(cmap ='coolwarm')"
   ]
  },
  {
   "cell_type": "markdown",
   "metadata": {
    "pycharm": {
     "name": "#%% md\n"
    }
   },
   "source": [
    "Дополнительно рассчитаем для каждой гипотезы показатель RICE, его формула следующая:\n",
    "\n",
    "\n",
    "$$RICE = \\frac{Rearch * Impact * Confidence}{Efforts}$$"
   ]
  },
  {
   "cell_type": "code",
   "execution_count": 6,
   "metadata": {
    "pycharm": {
     "name": "#%%\n"
    }
   },
   "outputs": [
    {
     "data": {
      "text/html": [
       "<style  type=\"text/css\" >\n",
       "    #T_0d27f938_9264_11ec_9f19_02420a39450crow0_col1 {\n",
       "            background-color:  #b40426;\n",
       "            color:  #f1f1f1;\n",
       "        }    #T_0d27f938_9264_11ec_9f19_02420a39450crow0_col2 {\n",
       "            background-color:  #f7b89c;\n",
       "            color:  #000000;\n",
       "        }    #T_0d27f938_9264_11ec_9f19_02420a39450crow0_col3 {\n",
       "            background-color:  #dd5f4b;\n",
       "            color:  #000000;\n",
       "        }    #T_0d27f938_9264_11ec_9f19_02420a39450crow0_col4 {\n",
       "            background-color:  #cdd9ec;\n",
       "            color:  #000000;\n",
       "        }    #T_0d27f938_9264_11ec_9f19_02420a39450crow0_col5 {\n",
       "            background-color:  #f7b79b;\n",
       "            color:  #000000;\n",
       "        }    #T_0d27f938_9264_11ec_9f19_02420a39450crow0_col6 {\n",
       "            background-color:  #b40426;\n",
       "            color:  #f1f1f1;\n",
       "        }    #T_0d27f938_9264_11ec_9f19_02420a39450crow1_col1 {\n",
       "            background-color:  #f18d6f;\n",
       "            color:  #000000;\n",
       "        }    #T_0d27f938_9264_11ec_9f19_02420a39450crow1_col2 {\n",
       "            background-color:  #82a6fb;\n",
       "            color:  #000000;\n",
       "        }    #T_0d27f938_9264_11ec_9f19_02420a39450crow1_col3 {\n",
       "            background-color:  #f4987a;\n",
       "            color:  #000000;\n",
       "        }    #T_0d27f938_9264_11ec_9f19_02420a39450crow1_col4 {\n",
       "            background-color:  #82a6fb;\n",
       "            color:  #000000;\n",
       "        }    #T_0d27f938_9264_11ec_9f19_02420a39450crow1_col5 {\n",
       "            background-color:  #bfd3f6;\n",
       "            color:  #000000;\n",
       "        }    #T_0d27f938_9264_11ec_9f19_02420a39450crow1_col6 {\n",
       "            background-color:  #d9dce1;\n",
       "            color:  #000000;\n",
       "        }    #T_0d27f938_9264_11ec_9f19_02420a39450crow2_col1 {\n",
       "            background-color:  #82a6fb;\n",
       "            color:  #000000;\n",
       "        }    #T_0d27f938_9264_11ec_9f19_02420a39450crow2_col2 {\n",
       "            background-color:  #b40426;\n",
       "            color:  #f1f1f1;\n",
       "        }    #T_0d27f938_9264_11ec_9f19_02420a39450crow2_col3 {\n",
       "            background-color:  #dd5f4b;\n",
       "            color:  #000000;\n",
       "        }    #T_0d27f938_9264_11ec_9f19_02420a39450crow2_col4 {\n",
       "            background-color:  #ead4c8;\n",
       "            color:  #000000;\n",
       "        }    #T_0d27f938_9264_11ec_9f19_02420a39450crow2_col5 {\n",
       "            background-color:  #ec7f63;\n",
       "            color:  #000000;\n",
       "        }    #T_0d27f938_9264_11ec_9f19_02420a39450crow2_col6 {\n",
       "            background-color:  #abc8fd;\n",
       "            color:  #000000;\n",
       "        }    #T_0d27f938_9264_11ec_9f19_02420a39450crow3_col1 {\n",
       "            background-color:  #cdd9ec;\n",
       "            color:  #000000;\n",
       "        }    #T_0d27f938_9264_11ec_9f19_02420a39450crow3_col2 {\n",
       "            background-color:  #82a6fb;\n",
       "            color:  #000000;\n",
       "        }    #T_0d27f938_9264_11ec_9f19_02420a39450crow3_col3 {\n",
       "            background-color:  #dd5f4b;\n",
       "            color:  #000000;\n",
       "        }    #T_0d27f938_9264_11ec_9f19_02420a39450crow3_col4 {\n",
       "            background-color:  #82a6fb;\n",
       "            color:  #000000;\n",
       "        }    #T_0d27f938_9264_11ec_9f19_02420a39450crow3_col5 {\n",
       "            background-color:  #d2dbe8;\n",
       "            color:  #000000;\n",
       "        }    #T_0d27f938_9264_11ec_9f19_02420a39450crow3_col6 {\n",
       "            background-color:  #abc8fd;\n",
       "            color:  #000000;\n",
       "        }    #T_0d27f938_9264_11ec_9f19_02420a39450crow4_col1 {\n",
       "            background-color:  #3b4cc0;\n",
       "            color:  #f1f1f1;\n",
       "        }    #T_0d27f938_9264_11ec_9f19_02420a39450crow4_col2 {\n",
       "            background-color:  #d95847;\n",
       "            color:  #000000;\n",
       "        }    #T_0d27f938_9264_11ec_9f19_02420a39450crow4_col3 {\n",
       "            background-color:  #b40426;\n",
       "            color:  #f1f1f1;\n",
       "        }    #T_0d27f938_9264_11ec_9f19_02420a39450crow4_col4 {\n",
       "            background-color:  #cdd9ec;\n",
       "            color:  #000000;\n",
       "        }    #T_0d27f938_9264_11ec_9f19_02420a39450crow4_col5 {\n",
       "            background-color:  #b40426;\n",
       "            color:  #f1f1f1;\n",
       "        }    #T_0d27f938_9264_11ec_9f19_02420a39450crow4_col6 {\n",
       "            background-color:  #6180e9;\n",
       "            color:  #000000;\n",
       "        }    #T_0d27f938_9264_11ec_9f19_02420a39450crow5_col1 {\n",
       "            background-color:  #f18d6f;\n",
       "            color:  #000000;\n",
       "        }    #T_0d27f938_9264_11ec_9f19_02420a39450crow5_col2 {\n",
       "            background-color:  #82a6fb;\n",
       "            color:  #000000;\n",
       "        }    #T_0d27f938_9264_11ec_9f19_02420a39450crow5_col3 {\n",
       "            background-color:  #8db0fe;\n",
       "            color:  #000000;\n",
       "        }    #T_0d27f938_9264_11ec_9f19_02420a39450crow5_col4 {\n",
       "            background-color:  #f18d6f;\n",
       "            color:  #000000;\n",
       "        }    #T_0d27f938_9264_11ec_9f19_02420a39450crow5_col5 {\n",
       "            background-color:  #3d50c3;\n",
       "            color:  #f1f1f1;\n",
       "        }    #T_0d27f938_9264_11ec_9f19_02420a39450crow5_col6 {\n",
       "            background-color:  #4b64d5;\n",
       "            color:  #f1f1f1;\n",
       "        }    #T_0d27f938_9264_11ec_9f19_02420a39450crow6_col1 {\n",
       "            background-color:  #5d7ce6;\n",
       "            color:  #000000;\n",
       "        }    #T_0d27f938_9264_11ec_9f19_02420a39450crow6_col2 {\n",
       "            background-color:  #cdd9ec;\n",
       "            color:  #000000;\n",
       "        }    #T_0d27f938_9264_11ec_9f19_02420a39450crow6_col3 {\n",
       "            background-color:  #b9d0f9;\n",
       "            color:  #000000;\n",
       "        }    #T_0d27f938_9264_11ec_9f19_02420a39450crow6_col4 {\n",
       "            background-color:  #b40426;\n",
       "            color:  #f1f1f1;\n",
       "        }    #T_0d27f938_9264_11ec_9f19_02420a39450crow6_col5 {\n",
       "            background-color:  #4e68d8;\n",
       "            color:  #000000;\n",
       "        }    #T_0d27f938_9264_11ec_9f19_02420a39450crow6_col6 {\n",
       "            background-color:  #3d50c3;\n",
       "            color:  #f1f1f1;\n",
       "        }    #T_0d27f938_9264_11ec_9f19_02420a39450crow7_col1 {\n",
       "            background-color:  #82a6fb;\n",
       "            color:  #000000;\n",
       "        }    #T_0d27f938_9264_11ec_9f19_02420a39450crow7_col2 {\n",
       "            background-color:  #5d7ce6;\n",
       "            color:  #000000;\n",
       "        }    #T_0d27f938_9264_11ec_9f19_02420a39450crow7_col3 {\n",
       "            background-color:  #6282ea;\n",
       "            color:  #000000;\n",
       "        }    #T_0d27f938_9264_11ec_9f19_02420a39450crow7_col4 {\n",
       "            background-color:  #82a6fb;\n",
       "            color:  #000000;\n",
       "        }    #T_0d27f938_9264_11ec_9f19_02420a39450crow7_col5 {\n",
       "            background-color:  #4055c8;\n",
       "            color:  #f1f1f1;\n",
       "        }    #T_0d27f938_9264_11ec_9f19_02420a39450crow7_col6 {\n",
       "            background-color:  #3d50c3;\n",
       "            color:  #f1f1f1;\n",
       "        }    #T_0d27f938_9264_11ec_9f19_02420a39450crow8_col1 {\n",
       "            background-color:  #82a6fb;\n",
       "            color:  #000000;\n",
       "        }    #T_0d27f938_9264_11ec_9f19_02420a39450crow8_col2 {\n",
       "            background-color:  #3b4cc0;\n",
       "            color:  #f1f1f1;\n",
       "        }    #T_0d27f938_9264_11ec_9f19_02420a39450crow8_col3 {\n",
       "            background-color:  #3b4cc0;\n",
       "            color:  #f1f1f1;\n",
       "        }    #T_0d27f938_9264_11ec_9f19_02420a39450crow8_col4 {\n",
       "            background-color:  #3b4cc0;\n",
       "            color:  #f1f1f1;\n",
       "        }    #T_0d27f938_9264_11ec_9f19_02420a39450crow8_col5 {\n",
       "            background-color:  #3b4cc0;\n",
       "            color:  #f1f1f1;\n",
       "        }    #T_0d27f938_9264_11ec_9f19_02420a39450crow8_col6 {\n",
       "            background-color:  #3b4cc0;\n",
       "            color:  #f1f1f1;\n",
       "        }</style><table id=\"T_0d27f938_9264_11ec_9f19_02420a39450c\" ><thead>    <tr>        <th class=\"blank level0\" ></th>        <th class=\"col_heading level0 col0\" >Hypothesis</th>        <th class=\"col_heading level0 col1\" >Reach</th>        <th class=\"col_heading level0 col2\" >Impact</th>        <th class=\"col_heading level0 col3\" >Confidence</th>        <th class=\"col_heading level0 col4\" >Efforts</th>        <th class=\"col_heading level0 col5\" >ICE</th>        <th class=\"col_heading level0 col6\" >RICE</th>    </tr></thead><tbody>\n",
       "                <tr>\n",
       "                        <th id=\"T_0d27f938_9264_11ec_9f19_02420a39450clevel0_row0\" class=\"row_heading level0 row0\" >7</th>\n",
       "                        <td id=\"T_0d27f938_9264_11ec_9f19_02420a39450crow0_col0\" class=\"data row0 col0\" >Добавить форму подписки на все основные страницы, чтобы собрать базу клиентов для email-рассылок</td>\n",
       "                        <td id=\"T_0d27f938_9264_11ec_9f19_02420a39450crow0_col1\" class=\"data row0 col1\" >10</td>\n",
       "                        <td id=\"T_0d27f938_9264_11ec_9f19_02420a39450crow0_col2\" class=\"data row0 col2\" >7</td>\n",
       "                        <td id=\"T_0d27f938_9264_11ec_9f19_02420a39450crow0_col3\" class=\"data row0 col3\" >8</td>\n",
       "                        <td id=\"T_0d27f938_9264_11ec_9f19_02420a39450crow0_col4\" class=\"data row0 col4\" >5</td>\n",
       "                        <td id=\"T_0d27f938_9264_11ec_9f19_02420a39450crow0_col5\" class=\"data row0 col5\" >11.2</td>\n",
       "                        <td id=\"T_0d27f938_9264_11ec_9f19_02420a39450crow0_col6\" class=\"data row0 col6\" >112</td>\n",
       "            </tr>\n",
       "            <tr>\n",
       "                        <th id=\"T_0d27f938_9264_11ec_9f19_02420a39450clevel0_row1\" class=\"row_heading level0 row1\" >2</th>\n",
       "                        <td id=\"T_0d27f938_9264_11ec_9f19_02420a39450crow1_col0\" class=\"data row1 col0\" >Добавить блоки рекомендаций товаров на сайт интернет магазина, чтобы повысить конверсию и средний чек заказа</td>\n",
       "                        <td id=\"T_0d27f938_9264_11ec_9f19_02420a39450crow1_col1\" class=\"data row1 col1\" >8</td>\n",
       "                        <td id=\"T_0d27f938_9264_11ec_9f19_02420a39450crow1_col2\" class=\"data row1 col2\" >3</td>\n",
       "                        <td id=\"T_0d27f938_9264_11ec_9f19_02420a39450crow1_col3\" class=\"data row1 col3\" >7</td>\n",
       "                        <td id=\"T_0d27f938_9264_11ec_9f19_02420a39450crow1_col4\" class=\"data row1 col4\" >3</td>\n",
       "                        <td id=\"T_0d27f938_9264_11ec_9f19_02420a39450crow1_col5\" class=\"data row1 col5\" >7</td>\n",
       "                        <td id=\"T_0d27f938_9264_11ec_9f19_02420a39450crow1_col6\" class=\"data row1 col6\" >56</td>\n",
       "            </tr>\n",
       "            <tr>\n",
       "                        <th id=\"T_0d27f938_9264_11ec_9f19_02420a39450clevel0_row2\" class=\"row_heading level0 row2\" >0</th>\n",
       "                        <td id=\"T_0d27f938_9264_11ec_9f19_02420a39450crow2_col0\" class=\"data row2 col0\" >Добавить два новых канала привлечения трафика, что позволит привлекать на 30% больше пользователей</td>\n",
       "                        <td id=\"T_0d27f938_9264_11ec_9f19_02420a39450crow2_col1\" class=\"data row2 col1\" >3</td>\n",
       "                        <td id=\"T_0d27f938_9264_11ec_9f19_02420a39450crow2_col2\" class=\"data row2 col2\" >10</td>\n",
       "                        <td id=\"T_0d27f938_9264_11ec_9f19_02420a39450crow2_col3\" class=\"data row2 col3\" >8</td>\n",
       "                        <td id=\"T_0d27f938_9264_11ec_9f19_02420a39450crow2_col4\" class=\"data row2 col4\" >6</td>\n",
       "                        <td id=\"T_0d27f938_9264_11ec_9f19_02420a39450crow2_col5\" class=\"data row2 col5\" >13.3333</td>\n",
       "                        <td id=\"T_0d27f938_9264_11ec_9f19_02420a39450crow2_col6\" class=\"data row2 col6\" >40</td>\n",
       "            </tr>\n",
       "            <tr>\n",
       "                        <th id=\"T_0d27f938_9264_11ec_9f19_02420a39450clevel0_row3\" class=\"row_heading level0 row3\" >6</th>\n",
       "                        <td id=\"T_0d27f938_9264_11ec_9f19_02420a39450crow3_col0\" class=\"data row3 col0\" >Показать на главной странице баннеры с актуальными акциями и распродажами, чтобы увеличить конверсию</td>\n",
       "                        <td id=\"T_0d27f938_9264_11ec_9f19_02420a39450crow3_col1\" class=\"data row3 col1\" >5</td>\n",
       "                        <td id=\"T_0d27f938_9264_11ec_9f19_02420a39450crow3_col2\" class=\"data row3 col2\" >3</td>\n",
       "                        <td id=\"T_0d27f938_9264_11ec_9f19_02420a39450crow3_col3\" class=\"data row3 col3\" >8</td>\n",
       "                        <td id=\"T_0d27f938_9264_11ec_9f19_02420a39450crow3_col4\" class=\"data row3 col4\" >3</td>\n",
       "                        <td id=\"T_0d27f938_9264_11ec_9f19_02420a39450crow3_col5\" class=\"data row3 col5\" >8</td>\n",
       "                        <td id=\"T_0d27f938_9264_11ec_9f19_02420a39450crow3_col6\" class=\"data row3 col6\" >40</td>\n",
       "            </tr>\n",
       "            <tr>\n",
       "                        <th id=\"T_0d27f938_9264_11ec_9f19_02420a39450clevel0_row4\" class=\"row_heading level0 row4\" >8</th>\n",
       "                        <td id=\"T_0d27f938_9264_11ec_9f19_02420a39450crow4_col0\" class=\"data row4 col0\" >Запустить акцию, дающую скидку на товар в день рождения</td>\n",
       "                        <td id=\"T_0d27f938_9264_11ec_9f19_02420a39450crow4_col1\" class=\"data row4 col1\" >1</td>\n",
       "                        <td id=\"T_0d27f938_9264_11ec_9f19_02420a39450crow4_col2\" class=\"data row4 col2\" >9</td>\n",
       "                        <td id=\"T_0d27f938_9264_11ec_9f19_02420a39450crow4_col3\" class=\"data row4 col3\" >9</td>\n",
       "                        <td id=\"T_0d27f938_9264_11ec_9f19_02420a39450crow4_col4\" class=\"data row4 col4\" >5</td>\n",
       "                        <td id=\"T_0d27f938_9264_11ec_9f19_02420a39450crow4_col5\" class=\"data row4 col5\" >16.2</td>\n",
       "                        <td id=\"T_0d27f938_9264_11ec_9f19_02420a39450crow4_col6\" class=\"data row4 col6\" >16.2</td>\n",
       "            </tr>\n",
       "            <tr>\n",
       "                        <th id=\"T_0d27f938_9264_11ec_9f19_02420a39450clevel0_row5\" class=\"row_heading level0 row5\" >3</th>\n",
       "                        <td id=\"T_0d27f938_9264_11ec_9f19_02420a39450crow5_col0\" class=\"data row5 col0\" >Изменить структура категорий, что увеличит конверсию, т.к. пользователи быстрее найдут нужный товар</td>\n",
       "                        <td id=\"T_0d27f938_9264_11ec_9f19_02420a39450crow5_col1\" class=\"data row5 col1\" >8</td>\n",
       "                        <td id=\"T_0d27f938_9264_11ec_9f19_02420a39450crow5_col2\" class=\"data row5 col2\" >3</td>\n",
       "                        <td id=\"T_0d27f938_9264_11ec_9f19_02420a39450crow5_col3\" class=\"data row5 col3\" >3</td>\n",
       "                        <td id=\"T_0d27f938_9264_11ec_9f19_02420a39450crow5_col4\" class=\"data row5 col4\" >8</td>\n",
       "                        <td id=\"T_0d27f938_9264_11ec_9f19_02420a39450crow5_col5\" class=\"data row5 col5\" >1.125</td>\n",
       "                        <td id=\"T_0d27f938_9264_11ec_9f19_02420a39450crow5_col6\" class=\"data row5 col6\" >9</td>\n",
       "            </tr>\n",
       "            <tr>\n",
       "                        <th id=\"T_0d27f938_9264_11ec_9f19_02420a39450clevel0_row6\" class=\"row_heading level0 row6\" >1</th>\n",
       "                        <td id=\"T_0d27f938_9264_11ec_9f19_02420a39450crow6_col0\" class=\"data row6 col0\" >Запустить собственную службу доставки, что сократит срок доставки заказов</td>\n",
       "                        <td id=\"T_0d27f938_9264_11ec_9f19_02420a39450crow6_col1\" class=\"data row6 col1\" >2</td>\n",
       "                        <td id=\"T_0d27f938_9264_11ec_9f19_02420a39450crow6_col2\" class=\"data row6 col2\" >5</td>\n",
       "                        <td id=\"T_0d27f938_9264_11ec_9f19_02420a39450crow6_col3\" class=\"data row6 col3\" >4</td>\n",
       "                        <td id=\"T_0d27f938_9264_11ec_9f19_02420a39450crow6_col4\" class=\"data row6 col4\" >10</td>\n",
       "                        <td id=\"T_0d27f938_9264_11ec_9f19_02420a39450crow6_col5\" class=\"data row6 col5\" >2</td>\n",
       "                        <td id=\"T_0d27f938_9264_11ec_9f19_02420a39450crow6_col6\" class=\"data row6 col6\" >4</td>\n",
       "            </tr>\n",
       "            <tr>\n",
       "                        <th id=\"T_0d27f938_9264_11ec_9f19_02420a39450clevel0_row7\" class=\"row_heading level0 row7\" >5</th>\n",
       "                        <td id=\"T_0d27f938_9264_11ec_9f19_02420a39450crow7_col0\" class=\"data row7 col0\" >Добавить страницу отзывов клиентов о магазине, что позволит увеличить количество заказов</td>\n",
       "                        <td id=\"T_0d27f938_9264_11ec_9f19_02420a39450crow7_col1\" class=\"data row7 col1\" >3</td>\n",
       "                        <td id=\"T_0d27f938_9264_11ec_9f19_02420a39450crow7_col2\" class=\"data row7 col2\" >2</td>\n",
       "                        <td id=\"T_0d27f938_9264_11ec_9f19_02420a39450crow7_col3\" class=\"data row7 col3\" >2</td>\n",
       "                        <td id=\"T_0d27f938_9264_11ec_9f19_02420a39450crow7_col4\" class=\"data row7 col4\" >3</td>\n",
       "                        <td id=\"T_0d27f938_9264_11ec_9f19_02420a39450crow7_col5\" class=\"data row7 col5\" >1.33333</td>\n",
       "                        <td id=\"T_0d27f938_9264_11ec_9f19_02420a39450crow7_col6\" class=\"data row7 col6\" >4</td>\n",
       "            </tr>\n",
       "            <tr>\n",
       "                        <th id=\"T_0d27f938_9264_11ec_9f19_02420a39450clevel0_row8\" class=\"row_heading level0 row8\" >4</th>\n",
       "                        <td id=\"T_0d27f938_9264_11ec_9f19_02420a39450crow8_col0\" class=\"data row8 col0\" >Изменить цвет фона главной страницы, чтобы увеличить вовлеченность пользователей</td>\n",
       "                        <td id=\"T_0d27f938_9264_11ec_9f19_02420a39450crow8_col1\" class=\"data row8 col1\" >3</td>\n",
       "                        <td id=\"T_0d27f938_9264_11ec_9f19_02420a39450crow8_col2\" class=\"data row8 col2\" >1</td>\n",
       "                        <td id=\"T_0d27f938_9264_11ec_9f19_02420a39450crow8_col3\" class=\"data row8 col3\" >1</td>\n",
       "                        <td id=\"T_0d27f938_9264_11ec_9f19_02420a39450crow8_col4\" class=\"data row8 col4\" >1</td>\n",
       "                        <td id=\"T_0d27f938_9264_11ec_9f19_02420a39450crow8_col5\" class=\"data row8 col5\" >1</td>\n",
       "                        <td id=\"T_0d27f938_9264_11ec_9f19_02420a39450crow8_col6\" class=\"data row8 col6\" >3</td>\n",
       "            </tr>\n",
       "    </tbody></table>"
      ],
      "text/plain": [
       "<pandas.io.formats.style.Styler at 0x7fe76045c0d0>"
      ]
     },
     "execution_count": 6,
     "metadata": {},
     "output_type": "execute_result"
    }
   ],
   "source": [
    "hypothesis['RICE'] = hypothesis['Reach'] * hypothesis['Impact'] * hypothesis['Confidence'] / hypothesis['Efforts']\n",
    "hypothesis = hypothesis.sort_values(by='RICE', ascending=False)\n",
    "hypothesis.style.background_gradient(cmap ='coolwarm')"
   ]
  },
  {
   "cell_type": "markdown",
   "metadata": {
    "pycharm": {
     "name": "#%% md\n"
    }
   },
   "source": [
    "Добавим ранги для каждой гипотезы и посмотрим на их изменение."
   ]
  },
  {
   "cell_type": "code",
   "execution_count": 7,
   "metadata": {
    "pycharm": {
     "name": "#%%\n"
    }
   },
   "outputs": [
    {
     "data": {
      "text/html": [
       "<style  type=\"text/css\" >\n",
       "    #T_0d3629f4_9264_11ec_9f19_02420a39450crow0_col1 {\n",
       "            background-color:  #b40426;\n",
       "            color:  #f1f1f1;\n",
       "        }    #T_0d3629f4_9264_11ec_9f19_02420a39450crow0_col2 {\n",
       "            background-color:  #f7b89c;\n",
       "            color:  #000000;\n",
       "        }    #T_0d3629f4_9264_11ec_9f19_02420a39450crow0_col3 {\n",
       "            background-color:  #dd5f4b;\n",
       "            color:  #000000;\n",
       "        }    #T_0d3629f4_9264_11ec_9f19_02420a39450crow0_col4 {\n",
       "            background-color:  #cdd9ec;\n",
       "            color:  #000000;\n",
       "        }    #T_0d3629f4_9264_11ec_9f19_02420a39450crow0_col5 {\n",
       "            background-color:  #f7b79b;\n",
       "            color:  #000000;\n",
       "        }    #T_0d3629f4_9264_11ec_9f19_02420a39450crow0_col6 {\n",
       "            background-color:  #b40426;\n",
       "            color:  #f1f1f1;\n",
       "        }    #T_0d3629f4_9264_11ec_9f19_02420a39450crow0_col7 {\n",
       "            background-color:  #8db0fe;\n",
       "            color:  #000000;\n",
       "        }    #T_0d3629f4_9264_11ec_9f19_02420a39450crow0_col8 {\n",
       "            background-color:  #3b4cc0;\n",
       "            color:  #f1f1f1;\n",
       "        }    #T_0d3629f4_9264_11ec_9f19_02420a39450crow0_col9 {\n",
       "            background-color:  #e26952;\n",
       "            color:  #000000;\n",
       "        }    #T_0d3629f4_9264_11ec_9f19_02420a39450crow1_col1 {\n",
       "            background-color:  #f18d6f;\n",
       "            color:  #000000;\n",
       "        }    #T_0d3629f4_9264_11ec_9f19_02420a39450crow1_col2 {\n",
       "            background-color:  #82a6fb;\n",
       "            color:  #000000;\n",
       "        }    #T_0d3629f4_9264_11ec_9f19_02420a39450crow1_col3 {\n",
       "            background-color:  #f4987a;\n",
       "            color:  #000000;\n",
       "        }    #T_0d3629f4_9264_11ec_9f19_02420a39450crow1_col4 {\n",
       "            background-color:  #82a6fb;\n",
       "            color:  #000000;\n",
       "        }    #T_0d3629f4_9264_11ec_9f19_02420a39450crow1_col5 {\n",
       "            background-color:  #bfd3f6;\n",
       "            color:  #000000;\n",
       "        }    #T_0d3629f4_9264_11ec_9f19_02420a39450crow1_col6 {\n",
       "            background-color:  #d9dce1;\n",
       "            color:  #000000;\n",
       "        }    #T_0d3629f4_9264_11ec_9f19_02420a39450crow1_col7 {\n",
       "            background-color:  #dddcdc;\n",
       "            color:  #000000;\n",
       "        }    #T_0d3629f4_9264_11ec_9f19_02420a39450crow1_col8 {\n",
       "            background-color:  #6282ea;\n",
       "            color:  #000000;\n",
       "        }    #T_0d3629f4_9264_11ec_9f19_02420a39450crow1_col9 {\n",
       "            background-color:  #b40426;\n",
       "            color:  #f1f1f1;\n",
       "        }    #T_0d3629f4_9264_11ec_9f19_02420a39450crow2_col1 {\n",
       "            background-color:  #82a6fb;\n",
       "            color:  #000000;\n",
       "        }    #T_0d3629f4_9264_11ec_9f19_02420a39450crow2_col2 {\n",
       "            background-color:  #b40426;\n",
       "            color:  #f1f1f1;\n",
       "        }    #T_0d3629f4_9264_11ec_9f19_02420a39450crow2_col3 {\n",
       "            background-color:  #dd5f4b;\n",
       "            color:  #000000;\n",
       "        }    #T_0d3629f4_9264_11ec_9f19_02420a39450crow2_col4 {\n",
       "            background-color:  #ead4c8;\n",
       "            color:  #000000;\n",
       "        }    #T_0d3629f4_9264_11ec_9f19_02420a39450crow2_col5 {\n",
       "            background-color:  #ec7f63;\n",
       "            color:  #000000;\n",
       "        }    #T_0d3629f4_9264_11ec_9f19_02420a39450crow2_col6 {\n",
       "            background-color:  #abc8fd;\n",
       "            color:  #000000;\n",
       "        }    #T_0d3629f4_9264_11ec_9f19_02420a39450crow2_col7 {\n",
       "            background-color:  #6282ea;\n",
       "            color:  #000000;\n",
       "        }    #T_0d3629f4_9264_11ec_9f19_02420a39450crow2_col8 {\n",
       "            background-color:  #8db0fe;\n",
       "            color:  #000000;\n",
       "        }    #T_0d3629f4_9264_11ec_9f19_02420a39450crow2_col9 {\n",
       "            background-color:  #c9d7f0;\n",
       "            color:  #000000;\n",
       "        }    #T_0d3629f4_9264_11ec_9f19_02420a39450crow3_col1 {\n",
       "            background-color:  #cdd9ec;\n",
       "            color:  #000000;\n",
       "        }    #T_0d3629f4_9264_11ec_9f19_02420a39450crow3_col2 {\n",
       "            background-color:  #82a6fb;\n",
       "            color:  #000000;\n",
       "        }    #T_0d3629f4_9264_11ec_9f19_02420a39450crow3_col3 {\n",
       "            background-color:  #dd5f4b;\n",
       "            color:  #000000;\n",
       "        }    #T_0d3629f4_9264_11ec_9f19_02420a39450crow3_col4 {\n",
       "            background-color:  #82a6fb;\n",
       "            color:  #000000;\n",
       "        }    #T_0d3629f4_9264_11ec_9f19_02420a39450crow3_col5 {\n",
       "            background-color:  #d2dbe8;\n",
       "            color:  #000000;\n",
       "        }    #T_0d3629f4_9264_11ec_9f19_02420a39450crow3_col6 {\n",
       "            background-color:  #abc8fd;\n",
       "            color:  #000000;\n",
       "        }    #T_0d3629f4_9264_11ec_9f19_02420a39450crow3_col7 {\n",
       "            background-color:  #b9d0f9;\n",
       "            color:  #000000;\n",
       "        }    #T_0d3629f4_9264_11ec_9f19_02420a39450crow3_col8 {\n",
       "            background-color:  #b9d0f9;\n",
       "            color:  #000000;\n",
       "        }    #T_0d3629f4_9264_11ec_9f19_02420a39450crow3_col9 {\n",
       "            background-color:  #edd1c2;\n",
       "            color:  #000000;\n",
       "        }    #T_0d3629f4_9264_11ec_9f19_02420a39450crow4_col1 {\n",
       "            background-color:  #3b4cc0;\n",
       "            color:  #f1f1f1;\n",
       "        }    #T_0d3629f4_9264_11ec_9f19_02420a39450crow4_col2 {\n",
       "            background-color:  #d95847;\n",
       "            color:  #000000;\n",
       "        }    #T_0d3629f4_9264_11ec_9f19_02420a39450crow4_col3 {\n",
       "            background-color:  #b40426;\n",
       "            color:  #f1f1f1;\n",
       "        }    #T_0d3629f4_9264_11ec_9f19_02420a39450crow4_col4 {\n",
       "            background-color:  #cdd9ec;\n",
       "            color:  #000000;\n",
       "        }    #T_0d3629f4_9264_11ec_9f19_02420a39450crow4_col5 {\n",
       "            background-color:  #b40426;\n",
       "            color:  #f1f1f1;\n",
       "        }    #T_0d3629f4_9264_11ec_9f19_02420a39450crow4_col6 {\n",
       "            background-color:  #6180e9;\n",
       "            color:  #000000;\n",
       "        }    #T_0d3629f4_9264_11ec_9f19_02420a39450crow4_col7 {\n",
       "            background-color:  #3b4cc0;\n",
       "            color:  #f1f1f1;\n",
       "        }    #T_0d3629f4_9264_11ec_9f19_02420a39450crow4_col8 {\n",
       "            background-color:  #dddcdc;\n",
       "            color:  #000000;\n",
       "        }    #T_0d3629f4_9264_11ec_9f19_02420a39450crow4_col9 {\n",
       "            background-color:  #3b4cc0;\n",
       "            color:  #f1f1f1;\n",
       "        }    #T_0d3629f4_9264_11ec_9f19_02420a39450crow5_col1 {\n",
       "            background-color:  #f18d6f;\n",
       "            color:  #000000;\n",
       "        }    #T_0d3629f4_9264_11ec_9f19_02420a39450crow5_col2 {\n",
       "            background-color:  #82a6fb;\n",
       "            color:  #000000;\n",
       "        }    #T_0d3629f4_9264_11ec_9f19_02420a39450crow5_col3 {\n",
       "            background-color:  #8db0fe;\n",
       "            color:  #000000;\n",
       "        }    #T_0d3629f4_9264_11ec_9f19_02420a39450crow5_col4 {\n",
       "            background-color:  #f18d6f;\n",
       "            color:  #000000;\n",
       "        }    #T_0d3629f4_9264_11ec_9f19_02420a39450crow5_col5 {\n",
       "            background-color:  #3d50c3;\n",
       "            color:  #f1f1f1;\n",
       "        }    #T_0d3629f4_9264_11ec_9f19_02420a39450crow5_col6 {\n",
       "            background-color:  #4b64d5;\n",
       "            color:  #f1f1f1;\n",
       "        }    #T_0d3629f4_9264_11ec_9f19_02420a39450crow5_col7 {\n",
       "            background-color:  #dd5f4b;\n",
       "            color:  #000000;\n",
       "        }    #T_0d3629f4_9264_11ec_9f19_02420a39450crow5_col8 {\n",
       "            background-color:  #f5c4ac;\n",
       "            color:  #000000;\n",
       "        }    #T_0d3629f4_9264_11ec_9f19_02420a39450crow5_col9 {\n",
       "            background-color:  #e26952;\n",
       "            color:  #000000;\n",
       "        }    #T_0d3629f4_9264_11ec_9f19_02420a39450crow6_col1 {\n",
       "            background-color:  #5d7ce6;\n",
       "            color:  #000000;\n",
       "        }    #T_0d3629f4_9264_11ec_9f19_02420a39450crow6_col2 {\n",
       "            background-color:  #cdd9ec;\n",
       "            color:  #000000;\n",
       "        }    #T_0d3629f4_9264_11ec_9f19_02420a39450crow6_col3 {\n",
       "            background-color:  #b9d0f9;\n",
       "            color:  #000000;\n",
       "        }    #T_0d3629f4_9264_11ec_9f19_02420a39450crow6_col4 {\n",
       "            background-color:  #b40426;\n",
       "            color:  #f1f1f1;\n",
       "        }    #T_0d3629f4_9264_11ec_9f19_02420a39450crow6_col5 {\n",
       "            background-color:  #4e68d8;\n",
       "            color:  #000000;\n",
       "        }    #T_0d3629f4_9264_11ec_9f19_02420a39450crow6_col6 {\n",
       "            background-color:  #3d50c3;\n",
       "            color:  #f1f1f1;\n",
       "        }    #T_0d3629f4_9264_11ec_9f19_02420a39450crow6_col7 {\n",
       "            background-color:  #f5c4ac;\n",
       "            color:  #000000;\n",
       "        }    #T_0d3629f4_9264_11ec_9f19_02420a39450crow6_col8 {\n",
       "            background-color:  #f4987a;\n",
       "            color:  #000000;\n",
       "        }    #T_0d3629f4_9264_11ec_9f19_02420a39450crow6_col9 {\n",
       "            background-color:  #c9d7f0;\n",
       "            color:  #000000;\n",
       "        }    #T_0d3629f4_9264_11ec_9f19_02420a39450crow7_col1 {\n",
       "            background-color:  #82a6fb;\n",
       "            color:  #000000;\n",
       "        }    #T_0d3629f4_9264_11ec_9f19_02420a39450crow7_col2 {\n",
       "            background-color:  #5d7ce6;\n",
       "            color:  #000000;\n",
       "        }    #T_0d3629f4_9264_11ec_9f19_02420a39450crow7_col3 {\n",
       "            background-color:  #6282ea;\n",
       "            color:  #000000;\n",
       "        }    #T_0d3629f4_9264_11ec_9f19_02420a39450crow7_col4 {\n",
       "            background-color:  #82a6fb;\n",
       "            color:  #000000;\n",
       "        }    #T_0d3629f4_9264_11ec_9f19_02420a39450crow7_col5 {\n",
       "            background-color:  #4055c8;\n",
       "            color:  #f1f1f1;\n",
       "        }    #T_0d3629f4_9264_11ec_9f19_02420a39450crow7_col6 {\n",
       "            background-color:  #3d50c3;\n",
       "            color:  #f1f1f1;\n",
       "        }    #T_0d3629f4_9264_11ec_9f19_02420a39450crow7_col7 {\n",
       "            background-color:  #f4987a;\n",
       "            color:  #000000;\n",
       "        }    #T_0d3629f4_9264_11ec_9f19_02420a39450crow7_col8 {\n",
       "            background-color:  #dd5f4b;\n",
       "            color:  #000000;\n",
       "        }    #T_0d3629f4_9264_11ec_9f19_02420a39450crow7_col9 {\n",
       "            background-color:  #c9d7f0;\n",
       "            color:  #000000;\n",
       "        }    #T_0d3629f4_9264_11ec_9f19_02420a39450crow8_col1 {\n",
       "            background-color:  #82a6fb;\n",
       "            color:  #000000;\n",
       "        }    #T_0d3629f4_9264_11ec_9f19_02420a39450crow8_col2 {\n",
       "            background-color:  #3b4cc0;\n",
       "            color:  #f1f1f1;\n",
       "        }    #T_0d3629f4_9264_11ec_9f19_02420a39450crow8_col3 {\n",
       "            background-color:  #3b4cc0;\n",
       "            color:  #f1f1f1;\n",
       "        }    #T_0d3629f4_9264_11ec_9f19_02420a39450crow8_col4 {\n",
       "            background-color:  #3b4cc0;\n",
       "            color:  #f1f1f1;\n",
       "        }    #T_0d3629f4_9264_11ec_9f19_02420a39450crow8_col5 {\n",
       "            background-color:  #3b4cc0;\n",
       "            color:  #f1f1f1;\n",
       "        }    #T_0d3629f4_9264_11ec_9f19_02420a39450crow8_col6 {\n",
       "            background-color:  #3b4cc0;\n",
       "            color:  #f1f1f1;\n",
       "        }    #T_0d3629f4_9264_11ec_9f19_02420a39450crow8_col7 {\n",
       "            background-color:  #b40426;\n",
       "            color:  #f1f1f1;\n",
       "        }    #T_0d3629f4_9264_11ec_9f19_02420a39450crow8_col8 {\n",
       "            background-color:  #b40426;\n",
       "            color:  #f1f1f1;\n",
       "        }    #T_0d3629f4_9264_11ec_9f19_02420a39450crow8_col9 {\n",
       "            background-color:  #edd1c2;\n",
       "            color:  #000000;\n",
       "        }</style><table id=\"T_0d3629f4_9264_11ec_9f19_02420a39450c\" ><thead>    <tr>        <th class=\"blank level0\" ></th>        <th class=\"col_heading level0 col0\" >Hypothesis</th>        <th class=\"col_heading level0 col1\" >Reach</th>        <th class=\"col_heading level0 col2\" >Impact</th>        <th class=\"col_heading level0 col3\" >Confidence</th>        <th class=\"col_heading level0 col4\" >Efforts</th>        <th class=\"col_heading level0 col5\" >ICE</th>        <th class=\"col_heading level0 col6\" >RICE</th>        <th class=\"col_heading level0 col7\" >ICE_rank</th>        <th class=\"col_heading level0 col8\" >RICE_rank</th>        <th class=\"col_heading level0 col9\" >delta</th>    </tr></thead><tbody>\n",
       "                <tr>\n",
       "                        <th id=\"T_0d3629f4_9264_11ec_9f19_02420a39450clevel0_row0\" class=\"row_heading level0 row0\" >7</th>\n",
       "                        <td id=\"T_0d3629f4_9264_11ec_9f19_02420a39450crow0_col0\" class=\"data row0 col0\" >Добавить форму подписки на все основные страницы, чтобы собрать базу клиентов для email-рассылок</td>\n",
       "                        <td id=\"T_0d3629f4_9264_11ec_9f19_02420a39450crow0_col1\" class=\"data row0 col1\" >10</td>\n",
       "                        <td id=\"T_0d3629f4_9264_11ec_9f19_02420a39450crow0_col2\" class=\"data row0 col2\" >7</td>\n",
       "                        <td id=\"T_0d3629f4_9264_11ec_9f19_02420a39450crow0_col3\" class=\"data row0 col3\" >8</td>\n",
       "                        <td id=\"T_0d3629f4_9264_11ec_9f19_02420a39450crow0_col4\" class=\"data row0 col4\" >5</td>\n",
       "                        <td id=\"T_0d3629f4_9264_11ec_9f19_02420a39450crow0_col5\" class=\"data row0 col5\" >11.2</td>\n",
       "                        <td id=\"T_0d3629f4_9264_11ec_9f19_02420a39450crow0_col6\" class=\"data row0 col6\" >112</td>\n",
       "                        <td id=\"T_0d3629f4_9264_11ec_9f19_02420a39450crow0_col7\" class=\"data row0 col7\" >3</td>\n",
       "                        <td id=\"T_0d3629f4_9264_11ec_9f19_02420a39450crow0_col8\" class=\"data row0 col8\" >1</td>\n",
       "                        <td id=\"T_0d3629f4_9264_11ec_9f19_02420a39450crow0_col9\" class=\"data row0 col9\" >2</td>\n",
       "            </tr>\n",
       "            <tr>\n",
       "                        <th id=\"T_0d3629f4_9264_11ec_9f19_02420a39450clevel0_row1\" class=\"row_heading level0 row1\" >2</th>\n",
       "                        <td id=\"T_0d3629f4_9264_11ec_9f19_02420a39450crow1_col0\" class=\"data row1 col0\" >Добавить блоки рекомендаций товаров на сайт интернет магазина, чтобы повысить конверсию и средний чек заказа</td>\n",
       "                        <td id=\"T_0d3629f4_9264_11ec_9f19_02420a39450crow1_col1\" class=\"data row1 col1\" >8</td>\n",
       "                        <td id=\"T_0d3629f4_9264_11ec_9f19_02420a39450crow1_col2\" class=\"data row1 col2\" >3</td>\n",
       "                        <td id=\"T_0d3629f4_9264_11ec_9f19_02420a39450crow1_col3\" class=\"data row1 col3\" >7</td>\n",
       "                        <td id=\"T_0d3629f4_9264_11ec_9f19_02420a39450crow1_col4\" class=\"data row1 col4\" >3</td>\n",
       "                        <td id=\"T_0d3629f4_9264_11ec_9f19_02420a39450crow1_col5\" class=\"data row1 col5\" >7</td>\n",
       "                        <td id=\"T_0d3629f4_9264_11ec_9f19_02420a39450crow1_col6\" class=\"data row1 col6\" >56</td>\n",
       "                        <td id=\"T_0d3629f4_9264_11ec_9f19_02420a39450crow1_col7\" class=\"data row1 col7\" >5</td>\n",
       "                        <td id=\"T_0d3629f4_9264_11ec_9f19_02420a39450crow1_col8\" class=\"data row1 col8\" >2</td>\n",
       "                        <td id=\"T_0d3629f4_9264_11ec_9f19_02420a39450crow1_col9\" class=\"data row1 col9\" >3</td>\n",
       "            </tr>\n",
       "            <tr>\n",
       "                        <th id=\"T_0d3629f4_9264_11ec_9f19_02420a39450clevel0_row2\" class=\"row_heading level0 row2\" >0</th>\n",
       "                        <td id=\"T_0d3629f4_9264_11ec_9f19_02420a39450crow2_col0\" class=\"data row2 col0\" >Добавить два новых канала привлечения трафика, что позволит привлекать на 30% больше пользователей</td>\n",
       "                        <td id=\"T_0d3629f4_9264_11ec_9f19_02420a39450crow2_col1\" class=\"data row2 col1\" >3</td>\n",
       "                        <td id=\"T_0d3629f4_9264_11ec_9f19_02420a39450crow2_col2\" class=\"data row2 col2\" >10</td>\n",
       "                        <td id=\"T_0d3629f4_9264_11ec_9f19_02420a39450crow2_col3\" class=\"data row2 col3\" >8</td>\n",
       "                        <td id=\"T_0d3629f4_9264_11ec_9f19_02420a39450crow2_col4\" class=\"data row2 col4\" >6</td>\n",
       "                        <td id=\"T_0d3629f4_9264_11ec_9f19_02420a39450crow2_col5\" class=\"data row2 col5\" >13.3333</td>\n",
       "                        <td id=\"T_0d3629f4_9264_11ec_9f19_02420a39450crow2_col6\" class=\"data row2 col6\" >40</td>\n",
       "                        <td id=\"T_0d3629f4_9264_11ec_9f19_02420a39450crow2_col7\" class=\"data row2 col7\" >2</td>\n",
       "                        <td id=\"T_0d3629f4_9264_11ec_9f19_02420a39450crow2_col8\" class=\"data row2 col8\" >3</td>\n",
       "                        <td id=\"T_0d3629f4_9264_11ec_9f19_02420a39450crow2_col9\" class=\"data row2 col9\" >-1</td>\n",
       "            </tr>\n",
       "            <tr>\n",
       "                        <th id=\"T_0d3629f4_9264_11ec_9f19_02420a39450clevel0_row3\" class=\"row_heading level0 row3\" >6</th>\n",
       "                        <td id=\"T_0d3629f4_9264_11ec_9f19_02420a39450crow3_col0\" class=\"data row3 col0\" >Показать на главной странице баннеры с актуальными акциями и распродажами, чтобы увеличить конверсию</td>\n",
       "                        <td id=\"T_0d3629f4_9264_11ec_9f19_02420a39450crow3_col1\" class=\"data row3 col1\" >5</td>\n",
       "                        <td id=\"T_0d3629f4_9264_11ec_9f19_02420a39450crow3_col2\" class=\"data row3 col2\" >3</td>\n",
       "                        <td id=\"T_0d3629f4_9264_11ec_9f19_02420a39450crow3_col3\" class=\"data row3 col3\" >8</td>\n",
       "                        <td id=\"T_0d3629f4_9264_11ec_9f19_02420a39450crow3_col4\" class=\"data row3 col4\" >3</td>\n",
       "                        <td id=\"T_0d3629f4_9264_11ec_9f19_02420a39450crow3_col5\" class=\"data row3 col5\" >8</td>\n",
       "                        <td id=\"T_0d3629f4_9264_11ec_9f19_02420a39450crow3_col6\" class=\"data row3 col6\" >40</td>\n",
       "                        <td id=\"T_0d3629f4_9264_11ec_9f19_02420a39450crow3_col7\" class=\"data row3 col7\" >4</td>\n",
       "                        <td id=\"T_0d3629f4_9264_11ec_9f19_02420a39450crow3_col8\" class=\"data row3 col8\" >4</td>\n",
       "                        <td id=\"T_0d3629f4_9264_11ec_9f19_02420a39450crow3_col9\" class=\"data row3 col9\" >0</td>\n",
       "            </tr>\n",
       "            <tr>\n",
       "                        <th id=\"T_0d3629f4_9264_11ec_9f19_02420a39450clevel0_row4\" class=\"row_heading level0 row4\" >8</th>\n",
       "                        <td id=\"T_0d3629f4_9264_11ec_9f19_02420a39450crow4_col0\" class=\"data row4 col0\" >Запустить акцию, дающую скидку на товар в день рождения</td>\n",
       "                        <td id=\"T_0d3629f4_9264_11ec_9f19_02420a39450crow4_col1\" class=\"data row4 col1\" >1</td>\n",
       "                        <td id=\"T_0d3629f4_9264_11ec_9f19_02420a39450crow4_col2\" class=\"data row4 col2\" >9</td>\n",
       "                        <td id=\"T_0d3629f4_9264_11ec_9f19_02420a39450crow4_col3\" class=\"data row4 col3\" >9</td>\n",
       "                        <td id=\"T_0d3629f4_9264_11ec_9f19_02420a39450crow4_col4\" class=\"data row4 col4\" >5</td>\n",
       "                        <td id=\"T_0d3629f4_9264_11ec_9f19_02420a39450crow4_col5\" class=\"data row4 col5\" >16.2</td>\n",
       "                        <td id=\"T_0d3629f4_9264_11ec_9f19_02420a39450crow4_col6\" class=\"data row4 col6\" >16.2</td>\n",
       "                        <td id=\"T_0d3629f4_9264_11ec_9f19_02420a39450crow4_col7\" class=\"data row4 col7\" >1</td>\n",
       "                        <td id=\"T_0d3629f4_9264_11ec_9f19_02420a39450crow4_col8\" class=\"data row4 col8\" >5</td>\n",
       "                        <td id=\"T_0d3629f4_9264_11ec_9f19_02420a39450crow4_col9\" class=\"data row4 col9\" >-4</td>\n",
       "            </tr>\n",
       "            <tr>\n",
       "                        <th id=\"T_0d3629f4_9264_11ec_9f19_02420a39450clevel0_row5\" class=\"row_heading level0 row5\" >3</th>\n",
       "                        <td id=\"T_0d3629f4_9264_11ec_9f19_02420a39450crow5_col0\" class=\"data row5 col0\" >Изменить структура категорий, что увеличит конверсию, т.к. пользователи быстрее найдут нужный товар</td>\n",
       "                        <td id=\"T_0d3629f4_9264_11ec_9f19_02420a39450crow5_col1\" class=\"data row5 col1\" >8</td>\n",
       "                        <td id=\"T_0d3629f4_9264_11ec_9f19_02420a39450crow5_col2\" class=\"data row5 col2\" >3</td>\n",
       "                        <td id=\"T_0d3629f4_9264_11ec_9f19_02420a39450crow5_col3\" class=\"data row5 col3\" >3</td>\n",
       "                        <td id=\"T_0d3629f4_9264_11ec_9f19_02420a39450crow5_col4\" class=\"data row5 col4\" >8</td>\n",
       "                        <td id=\"T_0d3629f4_9264_11ec_9f19_02420a39450crow5_col5\" class=\"data row5 col5\" >1.125</td>\n",
       "                        <td id=\"T_0d3629f4_9264_11ec_9f19_02420a39450crow5_col6\" class=\"data row5 col6\" >9</td>\n",
       "                        <td id=\"T_0d3629f4_9264_11ec_9f19_02420a39450crow5_col7\" class=\"data row5 col7\" >8</td>\n",
       "                        <td id=\"T_0d3629f4_9264_11ec_9f19_02420a39450crow5_col8\" class=\"data row5 col8\" >6</td>\n",
       "                        <td id=\"T_0d3629f4_9264_11ec_9f19_02420a39450crow5_col9\" class=\"data row5 col9\" >2</td>\n",
       "            </tr>\n",
       "            <tr>\n",
       "                        <th id=\"T_0d3629f4_9264_11ec_9f19_02420a39450clevel0_row6\" class=\"row_heading level0 row6\" >1</th>\n",
       "                        <td id=\"T_0d3629f4_9264_11ec_9f19_02420a39450crow6_col0\" class=\"data row6 col0\" >Запустить собственную службу доставки, что сократит срок доставки заказов</td>\n",
       "                        <td id=\"T_0d3629f4_9264_11ec_9f19_02420a39450crow6_col1\" class=\"data row6 col1\" >2</td>\n",
       "                        <td id=\"T_0d3629f4_9264_11ec_9f19_02420a39450crow6_col2\" class=\"data row6 col2\" >5</td>\n",
       "                        <td id=\"T_0d3629f4_9264_11ec_9f19_02420a39450crow6_col3\" class=\"data row6 col3\" >4</td>\n",
       "                        <td id=\"T_0d3629f4_9264_11ec_9f19_02420a39450crow6_col4\" class=\"data row6 col4\" >10</td>\n",
       "                        <td id=\"T_0d3629f4_9264_11ec_9f19_02420a39450crow6_col5\" class=\"data row6 col5\" >2</td>\n",
       "                        <td id=\"T_0d3629f4_9264_11ec_9f19_02420a39450crow6_col6\" class=\"data row6 col6\" >4</td>\n",
       "                        <td id=\"T_0d3629f4_9264_11ec_9f19_02420a39450crow6_col7\" class=\"data row6 col7\" >6</td>\n",
       "                        <td id=\"T_0d3629f4_9264_11ec_9f19_02420a39450crow6_col8\" class=\"data row6 col8\" >7</td>\n",
       "                        <td id=\"T_0d3629f4_9264_11ec_9f19_02420a39450crow6_col9\" class=\"data row6 col9\" >-1</td>\n",
       "            </tr>\n",
       "            <tr>\n",
       "                        <th id=\"T_0d3629f4_9264_11ec_9f19_02420a39450clevel0_row7\" class=\"row_heading level0 row7\" >5</th>\n",
       "                        <td id=\"T_0d3629f4_9264_11ec_9f19_02420a39450crow7_col0\" class=\"data row7 col0\" >Добавить страницу отзывов клиентов о магазине, что позволит увеличить количество заказов</td>\n",
       "                        <td id=\"T_0d3629f4_9264_11ec_9f19_02420a39450crow7_col1\" class=\"data row7 col1\" >3</td>\n",
       "                        <td id=\"T_0d3629f4_9264_11ec_9f19_02420a39450crow7_col2\" class=\"data row7 col2\" >2</td>\n",
       "                        <td id=\"T_0d3629f4_9264_11ec_9f19_02420a39450crow7_col3\" class=\"data row7 col3\" >2</td>\n",
       "                        <td id=\"T_0d3629f4_9264_11ec_9f19_02420a39450crow7_col4\" class=\"data row7 col4\" >3</td>\n",
       "                        <td id=\"T_0d3629f4_9264_11ec_9f19_02420a39450crow7_col5\" class=\"data row7 col5\" >1.33333</td>\n",
       "                        <td id=\"T_0d3629f4_9264_11ec_9f19_02420a39450crow7_col6\" class=\"data row7 col6\" >4</td>\n",
       "                        <td id=\"T_0d3629f4_9264_11ec_9f19_02420a39450crow7_col7\" class=\"data row7 col7\" >7</td>\n",
       "                        <td id=\"T_0d3629f4_9264_11ec_9f19_02420a39450crow7_col8\" class=\"data row7 col8\" >8</td>\n",
       "                        <td id=\"T_0d3629f4_9264_11ec_9f19_02420a39450crow7_col9\" class=\"data row7 col9\" >-1</td>\n",
       "            </tr>\n",
       "            <tr>\n",
       "                        <th id=\"T_0d3629f4_9264_11ec_9f19_02420a39450clevel0_row8\" class=\"row_heading level0 row8\" >4</th>\n",
       "                        <td id=\"T_0d3629f4_9264_11ec_9f19_02420a39450crow8_col0\" class=\"data row8 col0\" >Изменить цвет фона главной страницы, чтобы увеличить вовлеченность пользователей</td>\n",
       "                        <td id=\"T_0d3629f4_9264_11ec_9f19_02420a39450crow8_col1\" class=\"data row8 col1\" >3</td>\n",
       "                        <td id=\"T_0d3629f4_9264_11ec_9f19_02420a39450crow8_col2\" class=\"data row8 col2\" >1</td>\n",
       "                        <td id=\"T_0d3629f4_9264_11ec_9f19_02420a39450crow8_col3\" class=\"data row8 col3\" >1</td>\n",
       "                        <td id=\"T_0d3629f4_9264_11ec_9f19_02420a39450crow8_col4\" class=\"data row8 col4\" >1</td>\n",
       "                        <td id=\"T_0d3629f4_9264_11ec_9f19_02420a39450crow8_col5\" class=\"data row8 col5\" >1</td>\n",
       "                        <td id=\"T_0d3629f4_9264_11ec_9f19_02420a39450crow8_col6\" class=\"data row8 col6\" >3</td>\n",
       "                        <td id=\"T_0d3629f4_9264_11ec_9f19_02420a39450crow8_col7\" class=\"data row8 col7\" >9</td>\n",
       "                        <td id=\"T_0d3629f4_9264_11ec_9f19_02420a39450crow8_col8\" class=\"data row8 col8\" >9</td>\n",
       "                        <td id=\"T_0d3629f4_9264_11ec_9f19_02420a39450crow8_col9\" class=\"data row8 col9\" >0</td>\n",
       "            </tr>\n",
       "    </tbody></table>"
      ],
      "text/plain": [
       "<pandas.io.formats.style.Styler at 0x7fe76019cd50>"
      ]
     },
     "execution_count": 7,
     "metadata": {},
     "output_type": "execute_result"
    }
   ],
   "source": [
    "hypothesis['ICE_rank'] = hypothesis['ICE'].rank(ascending=False)\n",
    "hypothesis['RICE_rank'] = hypothesis['RICE'].rank(method='first', ascending=False)\n",
    "hypothesis['delta'] = hypothesis['ICE_rank'] - hypothesis['RICE_rank']\n",
    "hypothesis.style.background_gradient(cmap ='coolwarm')"
   ]
  },
  {
   "cell_type": "markdown",
   "metadata": {
    "pycharm": {
     "name": "#%% md\n"
    }
   },
   "source": [
    "### Анализ приоритизации по фреймворкам ICE и RICE\n",
    "\n",
    "При оценке гипотез по фреймворку **ICE**, топ-3 гипотез, направленных на увеличение выручки интернет-магазина, следующие:\n",
    "\n",
    "<ol>\n",
    "<li>Запустить акцию, дающую скидку на товар в день рождения;\n",
    "\n",
    "<li>Добавить два новых канала привлечения трафика, что позволит привлекать на 30% больше пользователей;\n",
    "\n",
    "<li>Добавить форму подписки на все основные страницы, чтобы собрать базу клиентов для email-рассылок.\n",
    "</ol>\n",
    "<br>\n",
    "При оценке приоритетов методом <b>RICE</b> картина меняется, топ-3 выглядит следующим образом:\n",
    "\n",
    "<ol>\n",
    "<li>Добавить форму подписки на все основные страницы, чтобы собрать базу клиентов для email-рассылок;\n",
    "\n",
    "<li>Добавить блоки рекомендаций товаров на сайт интернет магазина, чтобы повысить конверсию и средний чек заказа;\n",
    "\n",
    "<li>Добавить два новых канала привлечения трафика, что позволит привлекать на 30% больше пользователей.\n",
    "</ol>\n",
    "<br>\n",
    "Причина, по которой рейтинг гипотез меняется, заключается во влиянии показателя охвата. Нетрудно заметить, что из топа исчезла гипотеза об увеличении прибыли за счёт акции, дающей скидку в день рождения - её охват минимальный.\n",
    "\n",
    "С другой стороны, сравнимая с ней по показателям `Impact`, `Confidence` и `Efforts` гипотеза об увеличении выручки за счёт составления базы клиентов для email-рассылок путём добавления формы подписки на все основные страницы обладает максимальным показателем `Reach`, что и позволяет ей - довольно уверенно! - захватить лидерство.\n",
    "\n",
    "И, конечно, не стоит отказываться от новых каналов привлечения трафика - эта гипотеза стабильно вошла в топ-3 при рассчёте индекса по обоим фреймворкам."
   ]
  },
  {
   "cell_type": "markdown",
   "metadata": {
    "pycharm": {
     "name": "#%% md\n"
    }
   },
   "source": [
    "## Анализ A/B-теста\n",
    "\n",
    "### Проверка и подготовка данных\n",
    "\n",
    "На втором шаге проекта мы загрузили данные, необходимые для анализа - но отложили их проверку до окончания первой части. Вернёмся к ней - проверим типы данных, наличие дубликатов и пропусков в предоставленных файлах."
   ]
  },
  {
   "cell_type": "code",
   "execution_count": 8,
   "metadata": {
    "pycharm": {
     "name": "#%%\n"
    }
   },
   "outputs": [
    {
     "name": "stdout",
     "output_type": "stream",
     "text": [
      "Проверка данных на дубликаты:\n",
      "\tВ таблице с заказами обнаружено 0 дубликатов\n",
      "\tВ таблице с посетителями обнаружено 0 дубликатов\n"
     ]
    }
   ],
   "source": [
    "print('Проверка данных на дубликаты:')\n",
    "print(f\"\\tВ таблице с заказами обнаружено {orders.duplicated().sum()} дубликатов\")\n",
    "print(f\"\\tВ таблице с посетителями обнаружено {visitors.duplicated().sum()} дубликатов\")"
   ]
  },
  {
   "cell_type": "code",
   "execution_count": 9,
   "metadata": {
    "pycharm": {
     "name": "#%%\n"
    }
   },
   "outputs": [
    {
     "name": "stdout",
     "output_type": "stream",
     "text": [
      "<class 'pandas.core.frame.DataFrame'>\n",
      "RangeIndex: 1197 entries, 0 to 1196\n",
      "Data columns (total 5 columns):\n",
      "transactionId    1197 non-null int64\n",
      "visitorId        1197 non-null int64\n",
      "date             1197 non-null object\n",
      "revenue          1197 non-null int64\n",
      "group            1197 non-null object\n",
      "dtypes: int64(3), object(2)\n",
      "memory usage: 46.9+ KB\n"
     ]
    },
    {
     "data": {
      "text/plain": [
       "None"
      ]
     },
     "metadata": {},
     "output_type": "display_data"
    }
   ],
   "source": [
    "display(orders.info())"
   ]
  },
  {
   "cell_type": "code",
   "execution_count": 10,
   "metadata": {
    "pycharm": {
     "name": "#%%\n"
    }
   },
   "outputs": [],
   "source": [
    "orders['date'] = orders['date'].map(\n",
    "    lambda x: dt.datetime.strptime(x, '%Y-%m-%d')\n",
    ")"
   ]
  },
  {
   "cell_type": "code",
   "execution_count": 11,
   "metadata": {
    "pycharm": {
     "name": "#%%\n"
    }
   },
   "outputs": [
    {
     "name": "stdout",
     "output_type": "stream",
     "text": [
      "<class 'pandas.core.frame.DataFrame'>\n",
      "RangeIndex: 62 entries, 0 to 61\n",
      "Data columns (total 3 columns):\n",
      "date        62 non-null object\n",
      "group       62 non-null object\n",
      "visitors    62 non-null int64\n",
      "dtypes: int64(1), object(2)\n",
      "memory usage: 1.6+ KB\n"
     ]
    },
    {
     "data": {
      "text/plain": [
       "None"
      ]
     },
     "metadata": {},
     "output_type": "display_data"
    }
   ],
   "source": [
    "display(visitors.info())"
   ]
  },
  {
   "cell_type": "code",
   "execution_count": 12,
   "metadata": {
    "pycharm": {
     "name": "#%%\n"
    }
   },
   "outputs": [],
   "source": [
    "visitors['date'] = visitors['date'].map(\n",
    "    lambda x: dt.datetime.strptime(x, '%Y-%m-%d')\n",
    ")"
   ]
  },
  {
   "cell_type": "markdown",
   "metadata": {
    "pycharm": {
     "name": "#%% md\n"
    }
   },
   "source": [
    "Дополнительно выполним проверку групп на пересекающихся пользователей."
   ]
  },
  {
   "cell_type": "code",
   "execution_count": 13,
   "metadata": {
    "scrolled": true,
    "pycharm": {
     "name": "#%%\n"
    }
   },
   "outputs": [
    {
     "data": {
      "text/plain": [
       "58"
      ]
     },
     "execution_count": 13,
     "metadata": {},
     "output_type": "execute_result"
    }
   ],
   "source": [
    "len(orders.groupby('visitorId').agg({'group':'nunique'}).reset_index().query('group > 1'))"
   ]
  },
  {
   "cell_type": "code",
   "execution_count": 14,
   "metadata": {
    "pycharm": {
     "name": "#%%\n"
    }
   },
   "outputs": [],
   "source": [
    "users_to_clean = orders.groupby('visitorId').agg({'group':'nunique'}).reset_index().query('group > 1')['visitorId']"
   ]
  },
  {
   "cell_type": "code",
   "execution_count": 15,
   "metadata": {
    "pycharm": {
     "name": "#%%\n"
    }
   },
   "outputs": [
    {
     "name": "stdout",
     "output_type": "stream",
     "text": [
      "Всего заказов от проблемных покупателей: 181\n",
      "Доля заказов от проблемных покупателей: 0.15121136173767752\n"
     ]
    }
   ],
   "source": [
    "print('Всего заказов от проблемных покупателей:', len(orders[orders['visitorId'].isin(users_to_clean)]))\n",
    "print('Доля заказов от проблемных покупателей:', len(orders[orders['visitorId'].isin(users_to_clean)])/len(orders))"
   ]
  },
  {
   "cell_type": "markdown",
   "metadata": {
    "pycharm": {
     "name": "#%% md\n"
    }
   },
   "source": [
    "58 пользователей попали и в группу A, и в группу B - в общей сложности они совершили 181 заказ - 15% от общего числа заказов. Это неприятно: потери в 15% - довольно значительные для того, чтобы просто вычистить информацию об этих покупках, с другой стороны, пересечение групп сильно влияет на результаты теста.\n",
    "\n",
    "Удалим записи о таких заказах.\n",
    "Таблицу с числом визитов изменять не будем - в нашем распоряжении нет \"сырых\" данных о пользовательских визитах."
   ]
  },
  {
   "cell_type": "code",
   "execution_count": 16,
   "metadata": {
    "pycharm": {
     "name": "#%%\n"
    }
   },
   "outputs": [],
   "source": [
    "orders = orders[~orders['visitorId'].isin(users_to_clean)]"
   ]
  },
  {
   "cell_type": "markdown",
   "metadata": {
    "pycharm": {
     "name": "#%% md\n"
    }
   },
   "source": [
    "В предоставленных для анализа данных не обнаружено ни дубликатов, ни пропусков, однако нашли пересекающихся пользователей в контрольной и тестовой группах - исключили из анализа данные о заказах этих пользователей.\n",
    "\n",
    "В обоих датафреймах привели дату к более удобному для работы формату.\n",
    "\n",
    "Прежде чем приступить к анализу, подготовим несколько агрегированных таблиц."
   ]
  },
  {
   "cell_type": "code",
   "execution_count": 17,
   "metadata": {
    "pycharm": {
     "name": "#%%\n"
    }
   },
   "outputs": [],
   "source": [
    "# пересекаем группы и даты заказов\n",
    "datesGroups = orders[['date', 'group']].drop_duplicates()"
   ]
  },
  {
   "cell_type": "code",
   "execution_count": 18,
   "metadata": {
    "pycharm": {
     "name": "#%%\n"
    }
   },
   "outputs": [],
   "source": [
    "# агрегируем данные о заказах\n",
    "ordersAggregated = datesGroups.apply(\n",
    "    lambda x: orders[\n",
    "        np.logical_and(\n",
    "            orders['date'] <= x['date'], orders['group'] == x['group']\n",
    "        )\n",
    "    ].agg(\n",
    "        {\n",
    "            'date': 'max',\n",
    "            'group': 'max',\n",
    "            'transactionId': 'nunique',\n",
    "            'visitorId': 'nunique',\n",
    "            'revenue': 'sum',\n",
    "        }\n",
    "    ),\n",
    "    axis=1,\n",
    ").sort_values(by=['date', 'group'])"
   ]
  },
  {
   "cell_type": "code",
   "execution_count": 19,
   "metadata": {
    "pycharm": {
     "name": "#%%\n"
    }
   },
   "outputs": [],
   "source": [
    "# агрегируем данные о посетителях\n",
    "visitorsAggregated = datesGroups.apply(\n",
    "    lambda x: visitors[\n",
    "        np.logical_and(\n",
    "            visitors['date'] <= x['date'], visitors['group'] == x['group']\n",
    "        )\n",
    "    ].agg({'date': 'max', 'group': 'max', 'visitors': 'sum'}),\n",
    "    axis=1,\n",
    ").sort_values(by=['date', 'group'])"
   ]
  },
  {
   "cell_type": "code",
   "execution_count": 20,
   "metadata": {
    "pycharm": {
     "name": "#%%\n"
    }
   },
   "outputs": [],
   "source": [
    "# считаем кумулятивные данные и задаём названия столбцов в датафрейме cumulativeData\n",
    "cumulativeData = ordersAggregated.merge(\n",
    "    visitorsAggregated, left_on=['date', 'group'], right_on=['date', 'group']\n",
    ")\n",
    "cumulativeData.columns = [\n",
    "    'date',\n",
    "    'group',\n",
    "    'orders',\n",
    "    'buyers',\n",
    "    'revenue',\n",
    "    'visitors',\n",
    "]"
   ]
  },
  {
   "cell_type": "code",
   "execution_count": 21,
   "metadata": {
    "pycharm": {
     "name": "#%%\n"
    }
   },
   "outputs": [],
   "source": [
    "# считаем кумулятивную выручку в группах A и B\n",
    "cumulativeRevenueA = cumulativeData[cumulativeData['group']=='A'][['date','revenue', 'orders']]\n",
    "cumulativeRevenueB = cumulativeData[cumulativeData['group']=='B'][['date','revenue', 'orders']]"
   ]
  },
  {
   "cell_type": "code",
   "execution_count": 22,
   "metadata": {
    "pycharm": {
     "name": "#%%\n"
    }
   },
   "outputs": [],
   "source": [
    "# объединяем данные о кумулятивной выручке\n",
    "mergedCumulativeRevenue = cumulativeRevenueA.merge(cumulativeRevenueB, how='outer', on='date', suffixes=['A', 'B'])"
   ]
  },
  {
   "cell_type": "code",
   "execution_count": 23,
   "metadata": {
    "pycharm": {
     "name": "#%%\n"
    }
   },
   "outputs": [],
   "source": [
    "# считаем конверсию на кумулятивных данных\n",
    "cumulativeData['conversion'] = (\n",
    "    cumulativeData['orders'] / cumulativeData['visitors']\n",
    ")"
   ]
  },
  {
   "cell_type": "code",
   "execution_count": 24,
   "metadata": {
    "pycharm": {
     "name": "#%%\n"
    }
   },
   "outputs": [],
   "source": [
    "# разделяем данные о кумулятивной конверсии по подгруппам\n",
    "cumulativeDataA = cumulativeData[cumulativeData['group'] == 'A']\n",
    "cumulativeDataB = cumulativeData[cumulativeData['group'] == 'B']"
   ]
  },
  {
   "cell_type": "code",
   "execution_count": 25,
   "metadata": {
    "pycharm": {
     "name": "#%%\n"
    }
   },
   "outputs": [],
   "source": [
    "# приводим кумулятивную конверсию к удобному для анализу виду\n",
    "mergedCumulativeConversions = cumulativeDataA[['date','conversion']] \\\n",
    "    .merge(cumulativeDataB[['date','conversion']], how='outer', on='date', suffixes=['A','B'])"
   ]
  },
  {
   "cell_type": "code",
   "execution_count": 26,
   "metadata": {
    "pycharm": {
     "name": "#%%\n"
    }
   },
   "outputs": [],
   "source": [
    "# считаем количество заказов на пользователя и задаём названия столбцов в получившемся датафрейме\n",
    "ordersByUsers = (\n",
    "    orders.groupby('visitorId', as_index=False)\n",
    "    .agg({'transactionId': pd.Series.nunique})\n",
    ")\n",
    "ordersByUsers.columns = ['userId', 'orders']"
   ]
  },
  {
   "cell_type": "code",
   "execution_count": 27,
   "metadata": {
    "pycharm": {
     "name": "#%%\n"
    }
   },
   "outputs": [],
   "source": [
    "# считаем количество посетителей в группе A в день\n",
    "visitorsADaily = visitors[visitors['group'] == 'A'][['date', 'visitors']]\n",
    "visitorsADaily.columns = ['date', 'visitorsPerDateA']"
   ]
  },
  {
   "cell_type": "code",
   "execution_count": 28,
   "metadata": {
    "pycharm": {
     "name": "#%%\n"
    }
   },
   "outputs": [],
   "source": [
    "# считаем кумулятивное число посетителей в группе A по дням\n",
    "visitorsACummulative = visitorsADaily.apply(\n",
    "    lambda x: visitorsADaily[visitorsADaily['date'] <= x['date']].agg(\n",
    "        {'date': 'max', 'visitorsPerDateA': 'sum'}\n",
    "    ),\n",
    "    axis=1,\n",
    ")\n",
    "visitorsACummulative.columns = ['date', 'visitorsCummulativeA']"
   ]
  },
  {
   "cell_type": "code",
   "execution_count": 29,
   "metadata": {
    "pycharm": {
     "name": "#%%\n"
    }
   },
   "outputs": [],
   "source": [
    "# считаем количество посетителей в группе B в день\n",
    "visitorsBDaily = visitors[visitors['group'] == 'B'][['date', 'visitors']]\n",
    "visitorsBDaily.columns = ['date', 'visitorsPerDateB']"
   ]
  },
  {
   "cell_type": "code",
   "execution_count": 30,
   "metadata": {
    "pycharm": {
     "name": "#%%\n"
    }
   },
   "outputs": [],
   "source": [
    "# считаем кумулятивное число посетителей в группе B по дням\n",
    "visitorsBCummulative = visitorsBDaily.apply(\n",
    "    lambda x: visitorsBDaily[visitorsBDaily['date'] <= x['date']].agg(\n",
    "        {'date': 'max', 'visitorsPerDateB': 'sum'}\n",
    "    ),\n",
    "    axis=1,\n",
    ")\n",
    "visitorsBCummulative.columns = ['date', 'visitorsCummulativeB']"
   ]
  },
  {
   "cell_type": "code",
   "execution_count": 31,
   "metadata": {
    "pycharm": {
     "name": "#%%\n"
    }
   },
   "outputs": [],
   "source": [
    "# считаем количество заказов в группе A в день\n",
    "ordersADaily = (\n",
    "    orders[orders['group'] == 'A'][['date', 'transactionId', 'visitorId', 'revenue']]\n",
    "    .groupby('date', as_index=False)\n",
    "    .agg({'transactionId': pd.Series.nunique, 'revenue': 'sum'})\n",
    ")\n",
    "ordersADaily.columns = ['date', 'ordersPerDateA', 'revenuePerDateA']"
   ]
  },
  {
   "cell_type": "code",
   "execution_count": 32,
   "metadata": {
    "pycharm": {
     "name": "#%%\n"
    }
   },
   "outputs": [],
   "source": [
    "# считаем кумулятивное число заказов в группе A по дням\n",
    "ordersACummulative = ordersADaily.apply(\n",
    "    lambda x: ordersADaily[ordersADaily['date'] <= x['date']].agg(\n",
    "        {'date': 'max', 'ordersPerDateA': 'sum', 'revenuePerDateA': 'sum'}\n",
    "    ),\n",
    "    axis=1,\n",
    ").sort_values(by=['date'])\n",
    "ordersACummulative.columns = [\n",
    "    'date',\n",
    "    'ordersCummulativeA',\n",
    "    'revenueCummulativeA',\n",
    "]"
   ]
  },
  {
   "cell_type": "code",
   "execution_count": 33,
   "metadata": {
    "pycharm": {
     "name": "#%%\n"
    }
   },
   "outputs": [],
   "source": [
    "# считаем количество заказов в группе B в день\n",
    "ordersBDaily = (\n",
    "    orders[orders['group'] == 'B'][['date', 'transactionId', 'visitorId', 'revenue']]\n",
    "    .groupby('date', as_index=False)\n",
    "    .agg({'transactionId': pd.Series.nunique, 'revenue': 'sum'})\n",
    ")\n",
    "ordersBDaily.columns = ['date', 'ordersPerDateB', 'revenuePerDateB']"
   ]
  },
  {
   "cell_type": "code",
   "execution_count": 34,
   "metadata": {
    "pycharm": {
     "name": "#%%\n"
    }
   },
   "outputs": [],
   "source": [
    "# считаем кумулятивное число заказов в группе B по дням\n",
    "ordersBCummulative = ordersBDaily.apply(\n",
    "    lambda x: ordersBDaily[ordersBDaily['date'] <= x['date']].agg(\n",
    "        {'date': 'max', 'ordersPerDateB': 'sum', 'revenuePerDateB': 'sum'}\n",
    "    ),\n",
    "    axis=1,\n",
    ").sort_values(by=['date'])\n",
    "ordersBCummulative.columns = [\n",
    "    'date',\n",
    "    'ordersCummulativeB',\n",
    "    'revenueCummulativeB',\n",
    "]"
   ]
  },
  {
   "cell_type": "code",
   "execution_count": 35,
   "metadata": {
    "pycharm": {
     "name": "#%%\n"
    }
   },
   "outputs": [],
   "source": [
    "# считаем количество заказов на пользователя в группе A\n",
    "ordersByUsersA = (\n",
    "    orders[orders['group'] == 'A']\n",
    "    .groupby('visitorId', as_index=False)\n",
    "    .agg({'transactionId': pd.Series.nunique})\n",
    ")\n",
    "ordersByUsersA.columns = ['userId', 'orders']"
   ]
  },
  {
   "cell_type": "code",
   "execution_count": 36,
   "metadata": {
    "pycharm": {
     "name": "#%%\n"
    }
   },
   "outputs": [],
   "source": [
    "# считаем количество заказов на пользователя в группе B\n",
    "ordersByUsersB = (\n",
    "    orders[orders['group'] == 'B']\n",
    "    .groupby('visitorId', as_index=False)\n",
    "    .agg({'transactionId': pd.Series.nunique})\n",
    ")\n",
    "ordersByUsersB.columns = ['userId', 'orders'] "
   ]
  },
  {
   "cell_type": "code",
   "execution_count": 37,
   "metadata": {
    "pycharm": {
     "name": "#%%\n"
    }
   },
   "outputs": [],
   "source": [
    "# собираем общую таблицу с агрегированными данными\n",
    "data = (\n",
    "    ordersADaily.merge(\n",
    "        ordersBDaily, left_on='date', right_on='date', how='left'\n",
    "    )\n",
    "    .merge(ordersACummulative, left_on='date', right_on='date', how='left')\n",
    "    .merge(ordersBCummulative, left_on='date', right_on='date', how='left')\n",
    "    .merge(visitorsADaily, left_on='date', right_on='date', how='left')\n",
    "    .merge(visitorsBDaily, left_on='date', right_on='date', how='left')\n",
    "    .merge(visitorsACummulative, left_on='date', right_on='date', how='left')\n",
    "    .merge(visitorsBCummulative, left_on='date', right_on='date', how='left')\n",
    ")"
   ]
  },
  {
   "cell_type": "code",
   "execution_count": 38,
   "metadata": {
    "pycharm": {
     "name": "#%%\n"
    }
   },
   "outputs": [],
   "source": [
    "# объявим переменные sampleA и sampleB, в которых пользователям с заказами будет \n",
    "# соответствовать число заказов пользователя, а пользователям без заказов — нули.\n",
    "\n",
    "sampleA = pd.concat([ordersByUsersA['orders'],pd.Series(\n",
    "    0, index=np.arange(data['visitorsPerDateA'].sum() - len(ordersByUsersA['orders'])), name='orders')],axis=0)\n",
    "\n",
    "sampleB = pd.concat([ordersByUsersB['orders'],pd.Series(\n",
    "    0, index=np.arange(data['visitorsPerDateB'].sum() - len(ordersByUsersB['orders'])), name='orders')],axis=0)"
   ]
  },
  {
   "cell_type": "markdown",
   "metadata": {
    "pycharm": {
     "name": "#%% md\n"
    }
   },
   "source": [
    "**Итог:**\n",
    "\n",
    "В предоставленных для анализа данных не обнаружено ни дубликатов, ни пропусков. Приведение данных к нужному типу выполнено.\n",
    "\n",
    "Промежуточные таблицы для анализа созданы - можно приступать непосредственно к анализу результатов A/B-теста."
   ]
  },
  {
   "cell_type": "markdown",
   "metadata": {
    "pycharm": {
     "name": "#%% md\n"
    }
   },
   "source": [
    "### Анализ результатов A/B-теста\n",
    "\n",
    "В данном разделе нам предстоит решить множество задач - будем выполнять их последовательно."
   ]
  },
  {
   "cell_type": "code",
   "execution_count": 39,
   "metadata": {
    "pycharm": {
     "name": "#%%\n"
    }
   },
   "outputs": [
    {
     "data": {
      "image/png": "[encoded data removed]",
      "text/plain": [
       "<Figure size 432x288 with 1 Axes>"
      ]
     },
     "metadata": {
      "needs_background": "light"
     },
     "output_type": "display_data"
    }
   ],
   "source": [
    "# построим график кумулятивной выручки по группам\n",
    "\n",
    "plt.plot(cumulativeRevenueA['date'], cumulativeRevenueA['revenue'], label='A')\n",
    "plt.plot(cumulativeRevenueB['date'], cumulativeRevenueB['revenue'], label='B')\n",
    "plt.title('Кумулятивная выручка по группам')\n",
    "plt.xticks(rotation=45)\n",
    "plt.legend()\n",
    "plt.show()"
   ]
  },
  {
   "cell_type": "markdown",
   "metadata": {
    "pycharm": {
     "name": "#%% md\n"
    }
   },
   "source": [
    "**Выводы и предположения:**\n",
    "* Кумулятивная выручка в тестовой группе показывает резкий скачок между 18 и 19 августа.\n",
    "* В дальнейшем тренда не меняется, и кумулятивная выручка растёт в обеих группах.\n",
    "* Такое поведение может быть обусловлено выбросом - либо слишком крупной покупкой, либо всплеском в числе покупок.\n",
    "\n",
    "Продолжим анализ."
   ]
  },
  {
   "cell_type": "code",
   "execution_count": 40,
   "metadata": {
    "pycharm": {
     "name": "#%%\n"
    }
   },
   "outputs": [
    {
     "data": {
      "image/png": "[encoded data removed]",
      "text/plain": [
       "<Figure size 432x288 with 1 Axes>"
      ]
     },
     "metadata": {
      "needs_background": "light"
     },
     "output_type": "display_data"
    }
   ],
   "source": [
    "# построим график кумулятивного среднего чека по группам\n",
    "\n",
    "plt.plot(cumulativeRevenueA['date'], cumulativeRevenueA['revenue']/cumulativeRevenueA['orders'], label='A')\n",
    "plt.plot(cumulativeRevenueB['date'], cumulativeRevenueB['revenue']/cumulativeRevenueB['orders'], label='B')\n",
    "plt.title('Кумулятивный средний чек по группам')\n",
    "plt.xticks(rotation=45)\n",
    "plt.legend() \n",
    "plt.show()"
   ]
  },
  {
   "cell_type": "markdown",
   "metadata": {
    "pycharm": {
     "name": "#%% md\n"
    }
   },
   "source": [
    "**Выводы и предположения:**\n",
    "* Кумулятивный средний чек варьируется в период до 18 августа, после чего выходит на (относительное) плато.\n",
    "* Кумулятивный средний чек в тестовой группе резко вырастает 18 августа.\n",
    "* Гипотеза о наличии выброса в тестовой группе получает дополнительное эмпирическое подтверждение.\n",
    "\n",
    "Продолжим анализ."
   ]
  },
  {
   "cell_type": "code",
   "execution_count": 41,
   "metadata": {
    "pycharm": {
     "name": "#%%\n"
    }
   },
   "outputs": [
    {
     "data": {
      "image/png": "[encoded data removed]",
      "text/plain": [
       "<Figure size 432x288 with 1 Axes>"
      ]
     },
     "metadata": {
      "needs_background": "light"
     },
     "output_type": "display_data"
    }
   ],
   "source": [
    "# построим график относительного изменения кумулятивного среднего чека группы B к группе A\n",
    "\n",
    "plt.plot(mergedCumulativeRevenue['date'], \n",
    "         (mergedCumulativeRevenue['revenueB']\n",
    "          /mergedCumulativeRevenue['ordersB'])\n",
    "         /(mergedCumulativeRevenue['revenueA']\n",
    "           /mergedCumulativeRevenue['ordersA'])-1)\n",
    "plt.axhline(y=0, color='black', linestyle='--') \n",
    "plt.title('Относительное изменение кумулятивного\\nсреднего чека группы B к группе A')\n",
    "plt.xticks(rotation=45)\n",
    "plt.show()"
   ]
  },
  {
   "cell_type": "markdown",
   "metadata": {
    "pycharm": {
     "name": "#%% md\n"
    }
   },
   "source": [
    "**Выводы и предположения:**\n",
    "* Кумулятивный средний чек снова подсвечивает проблему, наблюдаемую на предыдущих графиках - резкое изменение 18 августа.\n",
    "* Добавляем ещё одно эмпирическое свидетельство к предположению о наличии выброса в группе B.\n",
    "\n",
    "Продолжим анализ."
   ]
  },
  {
   "cell_type": "code",
   "execution_count": 42,
   "metadata": {
    "pycharm": {
     "name": "#%%\n"
    }
   },
   "outputs": [
    {
     "data": {
      "image/png": "[encoded data removed]",
      "text/plain": [
       "<Figure size 432x288 with 1 Axes>"
      ]
     },
     "metadata": {
      "needs_background": "light"
     },
     "output_type": "display_data"
    }
   ],
   "source": [
    "# построим график кумулятивной конверсии по группам\n",
    "\n",
    "plt.plot(cumulativeDataA['date'], cumulativeDataA['conversion'], label='A')\n",
    "plt.plot(cumulativeDataB['date'], cumulativeDataB['conversion'], label='B')\n",
    "plt.title('Кумулятивная конверсия по группам')\n",
    "plt.legend()\n",
    "plt.xticks(rotation=45)\n",
    "plt.show()"
   ]
  },
  {
   "cell_type": "markdown",
   "metadata": {
    "pycharm": {
     "name": "#%% md\n"
    }
   },
   "source": [
    "**Выводы и предположения:**\n",
    "* После колебания первых нескольких дней теста, конверсия в группе B стабильно выше, чем в группе A.\n",
    "* В отличие от предыдущих показателей, график кумулятивной конверсии не отражает влияния выбросов 18 августа.\n",
    "* Вероятно, что выброс, заметный на предыдущих графиках, скорее обусловлен стоимостью отдельной покупки.\n",
    "\n",
    "Продолжим анализ."
   ]
  },
  {
   "cell_type": "code",
   "execution_count": 43,
   "metadata": {
    "pycharm": {
     "name": "#%%\n"
    }
   },
   "outputs": [
    {
     "data": {
      "image/png": "[encoded data removed]",
      "text/plain": [
       "<Figure size 432x288 with 1 Axes>"
      ]
     },
     "metadata": {
      "needs_background": "light"
     },
     "output_type": "display_data"
    }
   ],
   "source": [
    "# построим график относительного изменения кумулятивной конверсии группы B к группе A\n",
    "\n",
    "plt.plot(cumulativeData['date'].unique(), cumulativeDataB.reset_index()['conversion']/cumulativeDataA.reset_index()['conversion']-1, label='Относительный прирост конверсии\\nгруппы B относительно группы A')\n",
    "plt.axhline(y=0, color='black', linestyle='--') \n",
    "plt.axhline(y=0.2, color='grey', linestyle='--') \n",
    "plt.title('Относительный прирост конверсии\\nгруппы B относительно группы A')\n",
    "plt.legend()\n",
    "plt.xticks(rotation=45)\n",
    "plt.show()"
   ]
  },
  {
   "cell_type": "markdown",
   "metadata": {
    "pycharm": {
     "name": "#%% md\n"
    }
   },
   "source": [
    "**Выводы и предположения:**\n",
    "* В первые дни теста конверсия в группе B была ниже, чем в контрольной, однако уже со второй недели стала её превышать и к концу месяца стаблизировалась на уровне ~115-118% от конверсии контрольной.\n",
    "\n",
    "Продолжим анализ."
   ]
  },
  {
   "cell_type": "code",
   "execution_count": 44,
   "metadata": {
    "scrolled": false,
    "pycharm": {
     "name": "#%%\n"
    }
   },
   "outputs": [
    {
     "data": {
      "image/png": "[encoded data removed]",
      "text/plain": [
       "<Figure size 432x288 with 1 Axes>"
      ]
     },
     "metadata": {
      "needs_background": "light"
     },
     "output_type": "display_data"
    }
   ],
   "source": [
    "# построим точечный график количества заказов по пользователям\n",
    "\n",
    "x_values = pd.Series(range(0, len(ordersByUsers)))\n",
    "\n",
    "plt.scatter(x_values, ordersByUsers['orders'])\n",
    "plt.title('Количество заказов по пользователям')\n",
    "plt.show()"
   ]
  },
  {
   "cell_type": "markdown",
   "metadata": {
    "pycharm": {
     "name": "#%% md\n"
    }
   },
   "source": [
    "**Выводы и предположения:**\n",
    "* Подавляющее большинство пользователей совершило 1 или 2 заказа.\n",
    "* Явных выбросов нет - есть группа пользователей, совершивших 3 заказа, однако маловероятно, что на метрики влияют именно они.\n",
    "\n",
    "Продолжим анализ: посчитаем 95-й и 99-й процентили количества заказов на пользователя, выберем границу для определения аномальных пользователей."
   ]
  },
  {
   "cell_type": "code",
   "execution_count": 45,
   "metadata": {
    "pycharm": {
     "name": "#%%\n"
    }
   },
   "outputs": [
    {
     "name": "stdout",
     "output_type": "stream",
     "text": [
      "[1. 2.]\n"
     ]
    }
   ],
   "source": [
    "# считаем процентили\n",
    "\n",
    "print(np.percentile(ordersByUsers['orders'], [95, 99])) "
   ]
  },
  {
   "cell_type": "markdown",
   "metadata": {
    "pycharm": {
     "name": "#%% md\n"
    }
   },
   "source": [
    "95% пользователей совершили не более одной покупки, 99% - не более 2-х.\n",
    "\n",
    "Остановимся на границе в 2 заказа - исходя из предшествующего анализа, ключевое влияние оказывает скорее стоимость конкретного заказа, чем число заказов на одного пользователя. \n",
    "\n",
    "Проверим это на следующих шагах."
   ]
  },
  {
   "cell_type": "code",
   "execution_count": 46,
   "metadata": {
    "pycharm": {
     "name": "#%%\n"
    }
   },
   "outputs": [
    {
     "data": {
      "image/png": "[encoded data removed]",
      "text/plain": [
       "<Figure size 432x288 with 1 Axes>"
      ]
     },
     "metadata": {
      "needs_background": "light"
     },
     "output_type": "display_data"
    }
   ],
   "source": [
    "# построим точечный график стоимостей заказов\n",
    "\n",
    "x_values = pd.Series(range(0, len(orders['revenue'])))\n",
    "plt.scatter(x_values, orders['revenue'])\n",
    "plt.title('Стоимость заказов')\n",
    "plt.show()"
   ]
  },
  {
   "cell_type": "markdown",
   "metadata": {
    "pycharm": {
     "name": "#%% md\n"
    }
   },
   "source": [
    "**Выводы и предположения:**\n",
    "* Выброс, влиявший на данные, найден - мы обнаружили заказ, стоимость которого превосходит стоимость любого другого заказа кратно.\n",
    "* Предположительно, удаление этого заказа из базы позволит проанализировать результаты теста точнее.\n",
    "\n",
    "Продолжим анализ: посчитаем 95-й и 99-й процентили стоимости заказов, выберем границу для определения аномальной стоимости."
   ]
  },
  {
   "cell_type": "code",
   "execution_count": 47,
   "metadata": {
    "pycharm": {
     "name": "#%%\n"
    }
   },
   "outputs": [
    {
     "name": "stdout",
     "output_type": "stream",
     "text": [
      "[26785. 53904.]\n"
     ]
    }
   ],
   "source": [
    "# считаем процентили\n",
    "\n",
    "print(np.percentile(orders['revenue'], [95, 99]))"
   ]
  },
  {
   "cell_type": "markdown",
   "metadata": {
    "pycharm": {
     "name": "#%% md\n"
    }
   },
   "source": [
    "95% заказов ограничены стоимостью в 26 785 рублей, 99% - дешевле 53 904 рублей.\n",
    "\n",
    "Основной фокус нашего внимания - это выручка, таким образом имеет смысл выбрать более строгий критерий для отсечения выбросов по показателю стоимости заказов.\n",
    "\n",
    "Ограничим стоимость границей в 26 785 руб. и продолжим анализ - нам предстоит рассчитать статистическую значимость на \"сырых\" и на очищенных данных, после чего принять решение по результатам теста."
   ]
  },
  {
   "cell_type": "code",
   "execution_count": 48,
   "metadata": {
    "pycharm": {
     "name": "#%%\n"
    }
   },
   "outputs": [
    {
     "name": "stdout",
     "output_type": "stream",
     "text": [
      "Вводные:\n",
      "\tH0: В конверсии между группами отличий нет\n",
      "\tH1: В конверсии между группами есть отличия\n",
      "\ta: 0.05\n",
      "\n",
      "Результаты:\n",
      "\tp-value: 0.00551\n",
      "\tОтносительное различие: 0.160\n",
      "\n",
      "Отвергаем H0 - различия есть.\n"
     ]
    }
   ],
   "source": [
    "# посчитаем статистическую значимость различий в конверсии между группами по «сырым» данным\n",
    "\n",
    "print('Вводные:\\n\\tH0: В конверсии между группами отличий нет\\n\\tH1: В конверсии между группами есть отличия\\n\\ta: 0.05\\n')\n",
    "print('Результаты:\\n\\tp-value:', '{0:.5f}'.format(stats.mannwhitneyu(sampleA, sampleB)[1]))\n",
    "print('\\tОтносительное различие:', \"{0:.3f}\\n\".format((data['ordersPerDateB'].sum()/data['visitorsPerDateB'].sum())/(data['ordersPerDateA'].sum()/data['visitorsPerDateA'].sum())-1))\n",
    "if stats.mannwhitneyu(sampleA, sampleB)[1] < 0.05:\n",
    "    print('Отвергаем H0 - различия есть.')\n",
    "else:\n",
    "    print('Недостаточно оснований для того, чтобы отвергнуть H0.')"
   ]
  },
  {
   "cell_type": "markdown",
   "metadata": {
    "pycharm": {
     "name": "#%% md\n"
    }
   },
   "source": [
    "**Выводы и предположения:**\n",
    "* На сырых данных отличия в конверсии есть - относительное различие составляет около 16% - неплохой результат\n",
    "* Однако не забываем, что нам предстоит выполнить очистку данных перед принятием итогового решения.\n",
    "\n",
    "Продолжим анализ."
   ]
  },
  {
   "cell_type": "code",
   "execution_count": 49,
   "metadata": {
    "pycharm": {
     "name": "#%%\n"
    }
   },
   "outputs": [
    {
     "name": "stdout",
     "output_type": "stream",
     "text": [
      "Вводные:\n",
      "\tH0: В среднем чеке между группами отличий нет\n",
      "\tH1: В среднем чеке между группами есть отличия\n",
      "\ta: 0.05\n",
      "\n",
      "Результаты:\n",
      "\tp-value: 0.415\n",
      "\tОтносительное различие: 0.287\n",
      "Недостаточно оснований для того, чтобы отвергнуть H0.\n"
     ]
    }
   ],
   "source": [
    "# посчитаем статистическую значимость различий в среднем чеке заказа между группами по «сырым» данным\n",
    "\n",
    "print('Вводные:\\n\\tH0: В среднем чеке между группами отличий нет\\n\\tH1: В среднем чеке между группами есть отличия\\n\\ta: 0.05\\n')\n",
    "print('Результаты:\\n\\tp-value:', '{0:.3f}'.format(stats.mannwhitneyu(orders[orders['group']=='A']['revenue'], orders[orders['group']=='B']['revenue'])[1]))\n",
    "print('\\tОтносительное различие:', '{0:.3f}'.format(orders[orders['group']=='B']['revenue'].mean()/orders[orders['group']=='A']['revenue'].mean()-1))\n",
    "if stats.mannwhitneyu(orders[orders['group']=='A']['revenue'], orders[orders['group']=='B']['revenue'])[1] < 0.05:\n",
    "    print('Отвергаем H0 - различия есть.')\n",
    "else:\n",
    "    print('Недостаточно оснований для того, чтобы отвергнуть H0.')"
   ]
  },
  {
   "cell_type": "markdown",
   "metadata": {
    "pycharm": {
     "name": "#%% md\n"
    }
   },
   "source": [
    "**Выводы и предположения:**\n",
    "* Теста Манна-Уитини говорит, что мы не можем отвергнуть нулевую гипотезу, следовательно между группами нет отличий.\n",
    "* Тем не менее, именно на средний чек очистка данных от выбросов должна повлиять в первую очередь.\n",
    "\n",
    "Продолжим анализ. Нам осталось очистить данные, повторить расчёт значимых отличий и принять итоговое решение.\n",
    "\n",
    "Напомним, что количество заказов на пользователя ограничим уровнем \"не более двух\", а стоимость заказа - \"не более 26 785\"."
   ]
  },
  {
   "cell_type": "code",
   "execution_count": 50,
   "metadata": {
    "pycharm": {
     "name": "#%%\n"
    }
   },
   "outputs": [],
   "source": [
    "# подготовим \"фильтрующие\" наборы данных\n",
    "\n",
    "usersWithManyOrders = pd.concat(\n",
    "    [\n",
    "        ordersByUsersA[ordersByUsersA['orders'] > 2]['userId'],\n",
    "        ordersByUsersB[ordersByUsersB['orders'] > 2]['userId'],\n",
    "    ],\n",
    "    axis=0,\n",
    ")\n",
    "usersWithExpensiveOrders = orders[orders['revenue'] > 26785]['visitorId']\n",
    "abnormalUsers = (\n",
    "    pd.concat([usersWithManyOrders, usersWithExpensiveOrders], axis=0)\n",
    "    .drop_duplicates()\n",
    "    .sort_values()\n",
    ")"
   ]
  },
  {
   "cell_type": "code",
   "execution_count": 51,
   "metadata": {
    "pycharm": {
     "name": "#%%\n"
    }
   },
   "outputs": [],
   "source": [
    "# подготовим отфильтрованные наборы данных\n",
    "\n",
    "sampleAFiltered = pd.concat(\n",
    "    [\n",
    "        ordersByUsersA[\n",
    "            np.logical_not(ordersByUsersA['userId'].isin(abnormalUsers))\n",
    "        ]['orders'],\n",
    "        pd.Series(\n",
    "            0,\n",
    "            index=np.arange(\n",
    "                data['visitorsPerDateA'].sum() - len(ordersByUsersA['orders'])\n",
    "            ),\n",
    "            name='orders',\n",
    "        ),\n",
    "    ],\n",
    "    axis=0,\n",
    ")\n",
    "\n",
    "sampleBFiltered = pd.concat(\n",
    "    [\n",
    "        ordersByUsersB[\n",
    "            np.logical_not(ordersByUsersB['userId'].isin(abnormalUsers))\n",
    "        ]['orders'],\n",
    "        pd.Series(\n",
    "            0,\n",
    "            index=np.arange(\n",
    "                data['visitorsPerDateB'].sum() - len(ordersByUsersB['orders'])\n",
    "            ),\n",
    "            name='orders',\n",
    "        ),\n",
    "    ],\n",
    "    axis=0,\n",
    ")"
   ]
  },
  {
   "cell_type": "code",
   "execution_count": 52,
   "metadata": {
    "scrolled": false,
    "pycharm": {
     "name": "#%%\n"
    }
   },
   "outputs": [
    {
     "name": "stdout",
     "output_type": "stream",
     "text": [
      "Вводные:\n",
      "\tH0: В конверсии между группами отличий нет\n",
      "\tH1: В конверсии между группами есть отличия\n",
      "\ta: 0.05\n",
      "\n",
      "Результаты:\n",
      "\tp-value: 0.00618\n",
      "\tОтносительное различие: 0.182\n",
      "\n",
      "Отвергаем H0 - различия есть.\n"
     ]
    }
   ],
   "source": [
    "# посчитаем статистическую значимость различий в конверсии между группами по очищенным данным\n",
    "\n",
    "print('Вводные:\\n\\tH0: В конверсии между группами отличий нет\\n\\tH1: В конверсии между группами есть отличия\\n\\ta: 0.05\\n')\n",
    "print('Результаты:\\n\\tp-value:', '{0:.5f}'.format(stats.mannwhitneyu(sampleAFiltered, sampleBFiltered)[1]))\n",
    "print('\\tОтносительное различие:', \"{0:.3f}\\n\".format(sampleBFiltered.mean()/sampleAFiltered.mean()-1))\n",
    "if stats.mannwhitneyu(sampleAFiltered, sampleBFiltered)[1] < 0.05:\n",
    "    print('Отвергаем H0 - различия есть.')\n",
    "else:\n",
    "    print('Недостаточно оснований для того, чтобы отвергнуть H0.')"
   ]
  },
  {
   "cell_type": "markdown",
   "metadata": {
    "pycharm": {
     "name": "#%% md\n"
    }
   },
   "source": [
    "**Выводы и предположения:**\n",
    "* После чистки данных основной вывод относительно конверсии в группах A и B не изменился - различия есть.\n",
    "\n",
    "Продолжим анализ. Что произошло со средним чеком после очистки?"
   ]
  },
  {
   "cell_type": "code",
   "execution_count": 53,
   "metadata": {
    "pycharm": {
     "name": "#%%\n"
    }
   },
   "outputs": [
    {
     "name": "stdout",
     "output_type": "stream",
     "text": [
      "Вводные:\n",
      "\tH0: В среднем чеке между группами отличий нет\n",
      "\tH1: В среднем чеке между группами есть отличия\n",
      "\ta: 0.05\n",
      "\n",
      "Результаты:\n",
      "\tp-value: 0.323\n",
      "\tОтносительное различие: -0.048\n",
      "Недостаточно оснований для того, чтобы отвергнуть H0.\n"
     ]
    }
   ],
   "source": [
    "# посчитаем статистическую значимость различий в среднем чеке заказа между группами по очищенным данным\n",
    "\n",
    "print('Вводные:\\n\\tH0: В среднем чеке между группами отличий нет\\n\\tH1: В среднем чеке между группами есть отличия\\n\\ta: 0.05\\n')\n",
    "print('Результаты:\\n\\tp-value:', \n",
    "    '{0:.3f}'.format(\n",
    "        stats.mannwhitneyu(\n",
    "            orders[\n",
    "                np.logical_and(\n",
    "                    orders['group'] == 'A',\n",
    "                    np.logical_not(orders['visitorId'].isin(abnormalUsers)),\n",
    "                )\n",
    "            ]['revenue'],\n",
    "            orders[\n",
    "                np.logical_and(\n",
    "                    orders['group'] == 'B',\n",
    "                    np.logical_not(orders['visitorId'].isin(abnormalUsers)),\n",
    "                )\n",
    "            ]['revenue'],\n",
    "        )[1]\n",
    "    )\n",
    ")\n",
    "\n",
    "print('\\tОтносительное различие:',\n",
    "    \"{0:.3f}\".format(\n",
    "        orders[\n",
    "            np.logical_and(\n",
    "                orders['group'] == 'B',\n",
    "                np.logical_not(orders['visitorId'].isin(abnormalUsers)),\n",
    "            )\n",
    "        ]['revenue'].mean()\n",
    "        / orders[\n",
    "            np.logical_and(\n",
    "                orders['group'] == 'A',\n",
    "                np.logical_not(orders['visitorId'].isin(abnormalUsers)),\n",
    "            )\n",
    "        ]['revenue'].mean()\n",
    "        - 1\n",
    "    )\n",
    ")\n",
    "if stats.mannwhitneyu(\n",
    "            orders[\n",
    "                np.logical_and(\n",
    "                    orders['group'] == 'A',\n",
    "                    np.logical_not(orders['visitorId'].isin(abnormalUsers)),\n",
    "                )\n",
    "            ]['revenue'],\n",
    "            orders[\n",
    "                np.logical_and(\n",
    "                    orders['group'] == 'B',\n",
    "                    np.logical_not(orders['visitorId'].isin(abnormalUsers)),\n",
    "                )\n",
    "            ]['revenue'],\n",
    "        )[1] < 0.05:\n",
    "    print('Отвергаем H0 - различия есть.')\n",
    "else:\n",
    "    print('Недостаточно оснований для того, чтобы отвергнуть H0.')"
   ]
  },
  {
   "cell_type": "markdown",
   "metadata": {
    "pycharm": {
     "name": "#%% md\n"
    }
   },
   "source": [
    "**Выводы и предположения:**\n",
    "* Хотя средний чек и претерпел серьёзные изменения после очистки, на результаты статистического теста это не повлияло - в среднем чеке между группами отличий нет.\n",
    "\n",
    "Анализ завершён."
   ]
  },
  {
   "cell_type": "markdown",
   "metadata": {
    "pycharm": {
     "name": "#%% md\n"
    }
   },
   "source": [
    "### Итоги анализа A/B-теста\n",
    "\n",
    "* Обнаружены значимые отличия **в конверсии** между тестовой и контрольной группами - конверсия в тестовой группе значимо выше.\n",
    "* Значимых отличий **в среднем чеке** между группами после очистки данных не обнаружено.\n",
    "* Реомендуем **остановить тест и зафиксировать победу группы B** - показатели среднего чека и конверсии в целом стабилизировались, ожидать дальнейших кардинальных изменений в показателях не стоит."
   ]
  },
  {
   "cell_type": "markdown",
   "metadata": {
    "pycharm": {
     "name": "#%% md\n"
    }
   },
   "source": [
    "## Общий вывод\n",
    "\n",
    "Проект состоял из двух частей: оценки гипотез и анализа результатов A/B-теста.\n",
    "\n",
    "В первой части рекомендовано остановить выбор на следующих гипотезах - обе показывают сильные результаты при расчётах приоритета по методам ICE и RICE:\n",
    "* Добавить форму подписки на все основные страницы, чтобы собрать базу клиентов для email-рассылок;\n",
    "* Добавить два новых канала привлечения трафика, что позволит привлекать на 30% больше пользователей.\n",
    "\n",
    "Во второй части рекомендовано зафиксировать победу группы B, так как в этой группе наблюдается значимо более высокая конверсия, чем в группе A, и показатели в группах в целом стабилизировались. Отдельно отметим, что в ходе эксперимента не зафиксировано значимых отличий между группами в среднем чеке."
   ]
  }
 ],
 "metadata": {
  "ExecuteTimeLog": [
   {
    "duration": 1210,
    "start_time": "2022-02-17T19:53:28.602Z"
   },
   {
    "duration": 24,
    "start_time": "2022-02-17T19:57:03.170Z"
   },
   {
    "duration": 17,
    "start_time": "2022-02-17T19:57:19.770Z"
   },
   {
    "duration": 26,
    "start_time": "2022-02-17T19:57:58.749Z"
   },
   {
    "duration": 17,
    "start_time": "2022-02-17T19:58:31.937Z"
   },
   {
    "duration": 483,
    "start_time": "2022-02-17T20:04:59.686Z"
   },
   {
    "duration": 14,
    "start_time": "2022-02-17T20:05:06.111Z"
   },
   {
    "duration": 15,
    "start_time": "2022-02-17T20:05:52.601Z"
   },
   {
    "duration": 6,
    "start_time": "2022-02-17T20:10:01.920Z"
   },
   {
    "duration": 4,
    "start_time": "2022-02-17T20:10:14.273Z"
   },
   {
    "duration": 5,
    "start_time": "2022-02-17T20:11:01.763Z"
   },
   {
    "duration": 4,
    "start_time": "2022-02-17T20:11:15.834Z"
   },
   {
    "duration": 5,
    "start_time": "2022-02-17T20:13:06.872Z"
   },
   {
    "duration": 324,
    "start_time": "2022-02-18T15:29:13.162Z"
   },
   {
    "duration": 1445,
    "start_time": "2022-02-18T15:29:16.794Z"
   },
   {
    "duration": 26,
    "start_time": "2022-02-18T15:29:18.243Z"
   },
   {
    "duration": 48,
    "start_time": "2022-02-18T15:29:18.272Z"
   },
   {
    "duration": 21,
    "start_time": "2022-02-18T15:29:18.323Z"
   },
   {
    "duration": 21,
    "start_time": "2022-02-18T15:29:18.347Z"
   },
   {
    "duration": 19,
    "start_time": "2022-02-18T15:29:18.371Z"
   },
   {
    "duration": 11,
    "start_time": "2022-02-18T15:29:20.830Z"
   },
   {
    "duration": 9,
    "start_time": "2022-02-18T15:29:25.928Z"
   },
   {
    "duration": 7,
    "start_time": "2022-02-18T15:29:52.899Z"
   },
   {
    "duration": 12,
    "start_time": "2022-02-18T15:30:53.427Z"
   },
   {
    "duration": 397,
    "start_time": "2022-02-18T15:31:23.982Z"
   },
   {
    "duration": 12,
    "start_time": "2022-02-18T15:31:47.048Z"
   },
   {
    "duration": 13,
    "start_time": "2022-02-18T15:31:57.147Z"
   },
   {
    "duration": 12,
    "start_time": "2022-02-18T15:32:00.536Z"
   },
   {
    "duration": 10,
    "start_time": "2022-02-18T15:32:17.233Z"
   },
   {
    "duration": 4,
    "start_time": "2022-02-18T15:36:56.458Z"
   },
   {
    "duration": 7510,
    "start_time": "2022-02-18T15:47:07.884Z"
   },
   {
    "duration": 7842,
    "start_time": "2022-02-18T15:47:43.072Z"
   },
   {
    "duration": 1356,
    "start_time": "2022-02-18T15:48:51.746Z"
   },
   {
    "duration": 1671,
    "start_time": "2022-02-18T15:49:10.121Z"
   },
   {
    "duration": 18,
    "start_time": "2022-02-18T15:49:34.915Z"
   },
   {
    "duration": 1327,
    "start_time": "2022-02-18T15:49:38.287Z"
   },
   {
    "duration": 5,
    "start_time": "2022-02-18T15:49:49.693Z"
   },
   {
    "duration": 8,
    "start_time": "2022-02-18T15:55:00.887Z"
   },
   {
    "duration": 314,
    "start_time": "2022-02-18T15:55:02.705Z"
   },
   {
    "duration": 289,
    "start_time": "2022-02-18T15:55:04.782Z"
   },
   {
    "duration": 11,
    "start_time": "2022-02-18T15:55:06.653Z"
   },
   {
    "duration": 5,
    "start_time": "2022-02-18T15:55:08.762Z"
   },
   {
    "duration": 10,
    "start_time": "2022-02-18T15:55:10.661Z"
   },
   {
    "duration": 11,
    "start_time": "2022-02-18T15:55:12.870Z"
   },
   {
    "duration": 7,
    "start_time": "2022-02-18T15:55:14.657Z"
   },
   {
    "duration": 11,
    "start_time": "2022-02-18T15:55:16.390Z"
   },
   {
    "duration": 20,
    "start_time": "2022-02-18T15:55:25.315Z"
   },
   {
    "duration": 14,
    "start_time": "2022-02-18T15:55:33.526Z"
   },
   {
    "duration": 19,
    "start_time": "2022-02-18T15:55:41.784Z"
   },
   {
    "duration": 330,
    "start_time": "2022-02-18T15:57:04.786Z"
   },
   {
    "duration": 339,
    "start_time": "2022-02-18T15:57:28.771Z"
   },
   {
    "duration": 354,
    "start_time": "2022-02-18T15:57:33.679Z"
   },
   {
    "duration": 328,
    "start_time": "2022-02-18T15:57:43.949Z"
   },
   {
    "duration": 337,
    "start_time": "2022-02-18T15:57:52.342Z"
   },
   {
    "duration": 358,
    "start_time": "2022-02-18T15:58:23.094Z"
   },
   {
    "duration": 384,
    "start_time": "2022-02-18T16:03:17.001Z"
   },
   {
    "duration": 418,
    "start_time": "2022-02-18T16:06:53.964Z"
   },
   {
    "duration": 467,
    "start_time": "2022-02-18T16:06:59.268Z"
   },
   {
    "duration": 4,
    "start_time": "2022-02-18T16:09:39.754Z"
   },
   {
    "duration": 312,
    "start_time": "2022-02-18T16:10:32.249Z"
   },
   {
    "duration": 363,
    "start_time": "2022-02-18T16:10:43.495Z"
   },
   {
    "duration": 366,
    "start_time": "2022-02-18T16:10:53.682Z"
   },
   {
    "duration": 2050,
    "start_time": "2022-02-18T16:14:40.871Z"
   },
   {
    "duration": 409,
    "start_time": "2022-02-18T16:15:45.041Z"
   },
   {
    "duration": 295,
    "start_time": "2022-02-18T16:16:44.154Z"
   },
   {
    "duration": 205,
    "start_time": "2022-02-18T16:16:58.073Z"
   },
   {
    "duration": 519,
    "start_time": "2022-02-18T16:17:03.567Z"
   },
   {
    "duration": 416,
    "start_time": "2022-02-18T16:17:32.648Z"
   },
   {
    "duration": 736,
    "start_time": "2022-02-19T07:33:56.607Z"
   },
   {
    "duration": 35,
    "start_time": "2022-02-19T07:33:57.345Z"
   },
   {
    "duration": 49,
    "start_time": "2022-02-19T07:33:57.383Z"
   },
   {
    "duration": 20,
    "start_time": "2022-02-19T07:33:57.434Z"
   },
   {
    "duration": 17,
    "start_time": "2022-02-19T07:33:57.456Z"
   },
   {
    "duration": 25,
    "start_time": "2022-02-19T07:33:57.476Z"
   },
   {
    "duration": 9,
    "start_time": "2022-02-19T07:33:57.503Z"
   },
   {
    "duration": 8,
    "start_time": "2022-02-19T07:33:57.514Z"
   },
   {
    "duration": 15,
    "start_time": "2022-02-19T07:33:57.525Z"
   },
   {
    "duration": 12,
    "start_time": "2022-02-19T07:33:57.570Z"
   },
   {
    "duration": 7,
    "start_time": "2022-02-19T07:33:57.585Z"
   },
   {
    "duration": 9,
    "start_time": "2022-02-19T07:33:57.593Z"
   },
   {
    "duration": 226,
    "start_time": "2022-02-19T07:33:57.604Z"
   },
   {
    "duration": 191,
    "start_time": "2022-02-19T07:33:57.832Z"
   },
   {
    "duration": 7,
    "start_time": "2022-02-19T07:33:58.025Z"
   },
   {
    "duration": 9,
    "start_time": "2022-02-19T07:33:58.034Z"
   },
   {
    "duration": 28,
    "start_time": "2022-02-19T07:33:58.044Z"
   },
   {
    "duration": 18,
    "start_time": "2022-02-19T07:33:58.074Z"
   },
   {
    "duration": 7,
    "start_time": "2022-02-19T07:33:58.094Z"
   },
   {
    "duration": 10,
    "start_time": "2022-02-19T07:33:58.103Z"
   },
   {
    "duration": 15,
    "start_time": "2022-02-19T07:33:58.115Z"
   },
   {
    "duration": 175,
    "start_time": "2022-02-19T07:33:58.132Z"
   },
   {
    "duration": 267,
    "start_time": "2022-02-19T07:33:58.309Z"
   },
   {
    "duration": 252,
    "start_time": "2022-02-19T07:33:58.577Z"
   },
   {
    "duration": 383,
    "start_time": "2022-02-19T07:33:58.831Z"
   },
   {
    "duration": 318,
    "start_time": "2022-02-19T07:33:59.216Z"
   },
   {
    "duration": 338,
    "start_time": "2022-02-19T07:33:59.538Z"
   },
   {
    "duration": 5,
    "start_time": "2022-02-19T07:48:11.321Z"
   },
   {
    "duration": 341,
    "start_time": "2022-02-19T07:53:26.186Z"
   },
   {
    "duration": 314,
    "start_time": "2022-02-19T07:53:33.378Z"
   },
   {
    "duration": 279,
    "start_time": "2022-02-19T07:53:50.015Z"
   },
   {
    "duration": 317,
    "start_time": "2022-02-19T07:54:05.443Z"
   },
   {
    "duration": 4,
    "start_time": "2022-02-19T07:57:27.319Z"
   },
   {
    "duration": 6,
    "start_time": "2022-02-19T08:20:37.523Z"
   },
   {
    "duration": 60,
    "start_time": "2022-02-19T08:20:42.930Z"
   },
   {
    "duration": 5,
    "start_time": "2022-02-19T08:20:48.863Z"
   },
   {
    "duration": 62,
    "start_time": "2022-02-19T08:20:52.897Z"
   },
   {
    "duration": 276,
    "start_time": "2022-02-19T08:20:58.417Z"
   },
   {
    "duration": 7496,
    "start_time": "2022-02-19T08:21:39.137Z"
   },
   {
    "duration": 23,
    "start_time": "2022-02-19T08:21:57.453Z"
   },
   {
    "duration": 67,
    "start_time": "2022-02-19T08:22:08.674Z"
   },
   {
    "duration": 15,
    "start_time": "2022-02-19T08:22:30.949Z"
   },
   {
    "duration": 69,
    "start_time": "2022-02-19T08:22:32.586Z"
   },
   {
    "duration": 28,
    "start_time": "2022-02-19T08:22:45.577Z"
   },
   {
    "duration": 260,
    "start_time": "2022-02-19T08:22:47.845Z"
   },
   {
    "duration": 64,
    "start_time": "2022-02-19T08:23:26.412Z"
   },
   {
    "duration": 71,
    "start_time": "2022-02-19T08:23:34.240Z"
   },
   {
    "duration": 277,
    "start_time": "2022-02-19T08:23:36.019Z"
   },
   {
    "duration": 391,
    "start_time": "2022-02-19T08:24:02.841Z"
   },
   {
    "duration": 13,
    "start_time": "2022-02-19T08:24:07.047Z"
   },
   {
    "duration": 12,
    "start_time": "2022-02-19T08:26:32.524Z"
   },
   {
    "duration": 16,
    "start_time": "2022-02-19T08:28:11.821Z"
   },
   {
    "duration": 16,
    "start_time": "2022-02-19T08:28:47.454Z"
   },
   {
    "duration": 16,
    "start_time": "2022-02-19T08:29:10.285Z"
   },
   {
    "duration": 18,
    "start_time": "2022-02-19T08:29:57.073Z"
   },
   {
    "duration": 17,
    "start_time": "2022-02-19T08:30:02.447Z"
   },
   {
    "duration": 18,
    "start_time": "2022-02-19T08:30:14.257Z"
   },
   {
    "duration": 18,
    "start_time": "2022-02-19T13:20:30.889Z"
   },
   {
    "duration": 6,
    "start_time": "2022-02-19T13:22:32.538Z"
   },
   {
    "duration": 5,
    "start_time": "2022-02-19T13:22:48.001Z"
   },
   {
    "duration": 6,
    "start_time": "2022-02-19T13:29:22.501Z"
   },
   {
    "duration": 15,
    "start_time": "2022-02-19T13:32:47.668Z"
   },
   {
    "duration": 6473,
    "start_time": "2022-02-19T13:37:41.347Z"
   },
   {
    "duration": 6669,
    "start_time": "2022-02-19T13:37:55.597Z"
   },
   {
    "duration": 6580,
    "start_time": "2022-02-19T13:38:15.195Z"
   },
   {
    "duration": 8,
    "start_time": "2022-02-19T13:38:27.620Z"
   },
   {
    "duration": 14,
    "start_time": "2022-02-19T13:38:39.935Z"
   },
   {
    "duration": 10,
    "start_time": "2022-02-19T13:38:48.111Z"
   },
   {
    "duration": 10,
    "start_time": "2022-02-19T13:41:16.376Z"
   },
   {
    "duration": 13,
    "start_time": "2022-02-19T13:41:18.663Z"
   },
   {
    "duration": 11,
    "start_time": "2022-02-19T13:42:15.816Z"
   },
   {
    "duration": 9,
    "start_time": "2022-02-19T13:42:17.467Z"
   },
   {
    "duration": 13,
    "start_time": "2022-02-19T13:42:20.262Z"
   },
   {
    "duration": 6675,
    "start_time": "2022-02-19T13:42:27.207Z"
   },
   {
    "duration": 15,
    "start_time": "2022-02-19T13:42:55.953Z"
   },
   {
    "duration": 97,
    "start_time": "2022-02-19T13:44:21.773Z"
   },
   {
    "duration": 22,
    "start_time": "2022-02-19T13:44:26.063Z"
   },
   {
    "duration": 22,
    "start_time": "2022-02-19T13:45:07.361Z"
   },
   {
    "duration": 91,
    "start_time": "2022-02-19T13:59:14.127Z"
   },
   {
    "duration": 1151,
    "start_time": "2022-02-19T14:11:48.678Z"
   },
   {
    "duration": 36,
    "start_time": "2022-02-19T14:11:49.831Z"
   },
   {
    "duration": 82,
    "start_time": "2022-02-19T14:11:49.871Z"
   },
   {
    "duration": 21,
    "start_time": "2022-02-19T14:11:49.955Z"
   },
   {
    "duration": 12,
    "start_time": "2022-02-19T14:11:49.978Z"
   },
   {
    "duration": 13,
    "start_time": "2022-02-19T14:11:49.992Z"
   },
   {
    "duration": 10,
    "start_time": "2022-02-19T14:11:50.008Z"
   },
   {
    "duration": 11,
    "start_time": "2022-02-19T14:11:50.020Z"
   },
   {
    "duration": 45,
    "start_time": "2022-02-19T14:11:50.033Z"
   },
   {
    "duration": 14,
    "start_time": "2022-02-19T14:11:50.079Z"
   },
   {
    "duration": 6,
    "start_time": "2022-02-19T14:11:50.094Z"
   },
   {
    "duration": 11,
    "start_time": "2022-02-19T14:11:50.101Z"
   },
   {
    "duration": 224,
    "start_time": "2022-02-19T14:11:50.114Z"
   },
   {
    "duration": 170,
    "start_time": "2022-02-19T14:11:50.339Z"
   },
   {
    "duration": 7,
    "start_time": "2022-02-19T14:11:50.510Z"
   },
   {
    "duration": 24,
    "start_time": "2022-02-19T14:11:50.519Z"
   },
   {
    "duration": 9,
    "start_time": "2022-02-19T14:11:50.545Z"
   },
   {
    "duration": 8,
    "start_time": "2022-02-19T14:11:50.556Z"
   },
   {
    "duration": 9,
    "start_time": "2022-02-19T14:11:50.565Z"
   },
   {
    "duration": 18,
    "start_time": "2022-02-19T14:11:50.576Z"
   },
   {
    "duration": 123,
    "start_time": "2022-02-19T14:11:50.596Z"
   },
   {
    "duration": 4,
    "start_time": "2022-02-19T14:11:50.723Z"
   },
   {
    "duration": 79,
    "start_time": "2022-02-19T14:11:50.730Z"
   },
   {
    "duration": 12,
    "start_time": "2022-02-19T14:11:50.811Z"
   },
   {
    "duration": 68,
    "start_time": "2022-02-19T14:11:50.825Z"
   },
   {
    "duration": 22,
    "start_time": "2022-02-19T14:11:50.895Z"
   },
   {
    "duration": 85,
    "start_time": "2022-02-19T14:11:50.920Z"
   },
   {
    "duration": 16,
    "start_time": "2022-02-19T14:11:51.007Z"
   },
   {
    "duration": 79,
    "start_time": "2022-02-19T14:11:51.025Z"
   },
   {
    "duration": 75,
    "start_time": "2022-02-19T14:11:51.106Z"
   },
   {
    "duration": 91,
    "start_time": "2022-02-19T14:11:51.183Z"
   },
   {
    "duration": 25,
    "start_time": "2022-02-19T14:11:51.275Z"
   },
   {
    "duration": 6,
    "start_time": "2022-02-19T14:11:51.302Z"
   },
   {
    "duration": 269,
    "start_time": "2022-02-19T14:11:51.310Z"
   },
   {
    "duration": 235,
    "start_time": "2022-02-19T14:11:51.581Z"
   },
   {
    "duration": 305,
    "start_time": "2022-02-19T14:11:51.818Z"
   },
   {
    "duration": 247,
    "start_time": "2022-02-19T14:11:52.124Z"
   },
   {
    "duration": 312,
    "start_time": "2022-02-19T14:11:52.373Z"
   },
   {
    "duration": 4,
    "start_time": "2022-02-19T14:11:52.687Z"
   },
   {
    "duration": 320,
    "start_time": "2022-02-19T14:11:52.693Z"
   },
   {
    "duration": 5,
    "start_time": "2022-02-19T14:11:53.015Z"
   },
   {
    "duration": 14,
    "start_time": "2022-02-19T14:11:53.022Z"
   },
   {
    "duration": 35,
    "start_time": "2022-02-19T14:11:53.038Z"
   },
   {
    "duration": 10,
    "start_time": "2022-02-19T14:11:53.074Z"
   },
   {
    "duration": 11,
    "start_time": "2022-02-19T14:11:53.086Z"
   },
   {
    "duration": 17,
    "start_time": "2022-02-19T14:11:53.098Z"
   },
   {
    "duration": 21,
    "start_time": "2022-02-19T14:11:53.117Z"
   },
   {
    "duration": 1314,
    "start_time": "2022-02-19T19:45:44.238Z"
   },
   {
    "duration": 20,
    "start_time": "2022-02-19T19:45:45.554Z"
   },
   {
    "duration": 26,
    "start_time": "2022-02-19T19:45:45.576Z"
   },
   {
    "duration": 15,
    "start_time": "2022-02-19T19:45:45.604Z"
   },
   {
    "duration": 19,
    "start_time": "2022-02-19T19:45:45.621Z"
   },
   {
    "duration": 12,
    "start_time": "2022-02-19T19:45:45.641Z"
   },
   {
    "duration": 12,
    "start_time": "2022-02-19T19:45:45.655Z"
   },
   {
    "duration": 7,
    "start_time": "2022-02-19T19:45:45.669Z"
   },
   {
    "duration": 13,
    "start_time": "2022-02-19T19:45:45.679Z"
   },
   {
    "duration": 11,
    "start_time": "2022-02-19T19:45:45.693Z"
   },
   {
    "duration": 26,
    "start_time": "2022-02-19T19:45:45.706Z"
   },
   {
    "duration": 9,
    "start_time": "2022-02-19T19:45:45.734Z"
   },
   {
    "duration": 199,
    "start_time": "2022-02-19T19:45:45.744Z"
   },
   {
    "duration": 188,
    "start_time": "2022-02-19T19:45:45.945Z"
   },
   {
    "duration": 7,
    "start_time": "2022-02-19T19:45:46.135Z"
   },
   {
    "duration": 11,
    "start_time": "2022-02-19T19:45:46.144Z"
   },
   {
    "duration": 7,
    "start_time": "2022-02-19T19:45:46.157Z"
   },
   {
    "duration": 6,
    "start_time": "2022-02-19T19:45:46.165Z"
   },
   {
    "duration": 7,
    "start_time": "2022-02-19T19:45:46.172Z"
   },
   {
    "duration": 9,
    "start_time": "2022-02-19T19:45:46.180Z"
   },
   {
    "duration": 141,
    "start_time": "2022-02-19T19:45:46.191Z"
   },
   {
    "duration": 5,
    "start_time": "2022-02-19T19:45:46.334Z"
   },
   {
    "duration": 59,
    "start_time": "2022-02-19T19:45:46.342Z"
   },
   {
    "duration": 6,
    "start_time": "2022-02-19T19:45:46.403Z"
   },
   {
    "duration": 83,
    "start_time": "2022-02-19T19:45:46.410Z"
   },
   {
    "duration": 16,
    "start_time": "2022-02-19T19:45:46.495Z"
   },
   {
    "duration": 89,
    "start_time": "2022-02-19T19:45:46.513Z"
   },
   {
    "duration": 33,
    "start_time": "2022-02-19T19:45:46.604Z"
   },
   {
    "duration": 75,
    "start_time": "2022-02-19T19:45:46.639Z"
   },
   {
    "duration": 84,
    "start_time": "2022-02-19T19:45:46.716Z"
   },
   {
    "duration": 90,
    "start_time": "2022-02-19T19:45:46.803Z"
   },
   {
    "duration": 37,
    "start_time": "2022-02-19T19:45:46.895Z"
   },
   {
    "duration": 6,
    "start_time": "2022-02-19T19:45:46.935Z"
   },
   {
    "duration": 273,
    "start_time": "2022-02-19T19:45:46.943Z"
   },
   {
    "duration": 218,
    "start_time": "2022-02-19T19:45:47.218Z"
   },
   {
    "duration": 312,
    "start_time": "2022-02-19T19:45:47.437Z"
   },
   {
    "duration": 219,
    "start_time": "2022-02-19T19:45:47.751Z"
   },
   {
    "duration": 269,
    "start_time": "2022-02-19T19:45:47.971Z"
   },
   {
    "duration": 5,
    "start_time": "2022-02-19T19:45:48.241Z"
   },
   {
    "duration": 288,
    "start_time": "2022-02-19T19:45:48.248Z"
   },
   {
    "duration": 3,
    "start_time": "2022-02-19T19:45:48.538Z"
   },
   {
    "duration": 16,
    "start_time": "2022-02-19T19:45:48.543Z"
   },
   {
    "duration": 13,
    "start_time": "2022-02-19T19:45:48.560Z"
   },
   {
    "duration": 9,
    "start_time": "2022-02-19T19:45:48.575Z"
   },
   {
    "duration": 9,
    "start_time": "2022-02-19T19:45:48.585Z"
   },
   {
    "duration": 44,
    "start_time": "2022-02-19T19:45:48.596Z"
   },
   {
    "duration": 20,
    "start_time": "2022-02-19T19:45:48.642Z"
   },
   {
    "duration": 1476,
    "start_time": "2022-02-20T11:39:02.215Z"
   },
   {
    "duration": 10587,
    "start_time": "2022-02-20T11:39:05.112Z"
   },
   {
    "duration": 2879,
    "start_time": "2022-02-20T11:39:22.091Z"
   },
   {
    "duration": 7681,
    "start_time": "2022-02-20T11:40:48.510Z"
   },
   {
    "duration": 7,
    "start_time": "2022-02-20T11:45:01.039Z"
   },
   {
    "duration": 7,
    "start_time": "2022-02-20T11:45:08.194Z"
   },
   {
    "duration": 23,
    "start_time": "2022-02-20T11:45:16.386Z"
   },
   {
    "duration": 19,
    "start_time": "2022-02-20T11:45:20.130Z"
   },
   {
    "duration": 18,
    "start_time": "2022-02-20T11:45:41.210Z"
   },
   {
    "duration": 27,
    "start_time": "2022-02-20T11:45:49.055Z"
   },
   {
    "duration": 17,
    "start_time": "2022-02-20T11:46:07.032Z"
   },
   {
    "duration": 19,
    "start_time": "2022-02-20T11:46:09.983Z"
   },
   {
    "duration": 6,
    "start_time": "2022-02-20T11:54:17.674Z"
   },
   {
    "duration": 92,
    "start_time": "2022-02-20T11:54:37.594Z"
   },
   {
    "duration": 5,
    "start_time": "2022-02-20T11:54:42.436Z"
   },
   {
    "duration": 6,
    "start_time": "2022-02-20T11:54:46.701Z"
   },
   {
    "duration": 298,
    "start_time": "2022-02-20T11:54:54.230Z"
   },
   {
    "duration": 343,
    "start_time": "2022-02-20T11:54:58.282Z"
   },
   {
    "duration": 301,
    "start_time": "2022-02-20T11:55:08.759Z"
   },
   {
    "duration": 288,
    "start_time": "2022-02-20T11:55:10.777Z"
   },
   {
    "duration": 301,
    "start_time": "2022-02-20T11:55:12.948Z"
   },
   {
    "duration": 6,
    "start_time": "2022-02-20T11:55:54.629Z"
   },
   {
    "duration": 276,
    "start_time": "2022-02-20T11:56:05.303Z"
   },
   {
    "duration": 6,
    "start_time": "2022-02-20T11:56:14.875Z"
   },
   {
    "duration": 25,
    "start_time": "2022-02-20T11:56:40.421Z"
   },
   {
    "duration": 28,
    "start_time": "2022-02-20T11:57:09.095Z"
   },
   {
    "duration": 32,
    "start_time": "2022-02-20T11:57:59.978Z"
   },
   {
    "duration": 40,
    "start_time": "2022-02-20T11:58:33.923Z"
   },
   {
    "duration": 46,
    "start_time": "2022-02-20T11:58:43.787Z"
   },
   {
    "duration": 48,
    "start_time": "2022-02-20T11:58:49.433Z"
   },
   {
    "duration": 24,
    "start_time": "2022-02-20T11:59:09.546Z"
   },
   {
    "duration": 20,
    "start_time": "2022-02-20T11:59:26.782Z"
   },
   {
    "duration": 3,
    "start_time": "2022-02-20T11:59:45.138Z"
   },
   {
    "duration": 277,
    "start_time": "2022-02-20T11:59:47.009Z"
   },
   {
    "duration": 1348,
    "start_time": "2022-02-20T11:59:59.200Z"
   },
   {
    "duration": 32,
    "start_time": "2022-02-20T12:00:00.551Z"
   },
   {
    "duration": 49,
    "start_time": "2022-02-20T12:00:00.587Z"
   },
   {
    "duration": 52,
    "start_time": "2022-02-20T12:00:00.638Z"
   },
   {
    "duration": 29,
    "start_time": "2022-02-20T12:00:02.279Z"
   },
   {
    "duration": 38,
    "start_time": "2022-02-20T12:00:10.678Z"
   },
   {
    "duration": 36,
    "start_time": "2022-02-20T12:00:17.318Z"
   },
   {
    "duration": 43,
    "start_time": "2022-02-20T12:00:18.607Z"
   },
   {
    "duration": 1357,
    "start_time": "2022-02-20T12:00:29.477Z"
   },
   {
    "duration": 28,
    "start_time": "2022-02-20T12:00:30.837Z"
   },
   {
    "duration": 47,
    "start_time": "2022-02-20T12:00:30.867Z"
   },
   {
    "duration": 20,
    "start_time": "2022-02-20T12:00:30.917Z"
   },
   {
    "duration": 36,
    "start_time": "2022-02-20T12:00:30.940Z"
   },
   {
    "duration": 37,
    "start_time": "2022-02-20T12:00:48.032Z"
   },
   {
    "duration": 84,
    "start_time": "2022-02-20T12:01:29.765Z"
   },
   {
    "duration": 1399,
    "start_time": "2022-02-20T12:01:35.121Z"
   },
   {
    "duration": 1349,
    "start_time": "2022-02-20T12:01:51.294Z"
   },
   {
    "duration": 29,
    "start_time": "2022-02-20T12:01:52.646Z"
   },
   {
    "duration": 36,
    "start_time": "2022-02-20T12:01:52.679Z"
   },
   {
    "duration": 21,
    "start_time": "2022-02-20T12:01:52.718Z"
   },
   {
    "duration": 33,
    "start_time": "2022-02-20T12:01:52.742Z"
   },
   {
    "duration": 7,
    "start_time": "2022-02-20T12:02:30.337Z"
   },
   {
    "duration": 7,
    "start_time": "2022-02-20T12:02:43.698Z"
   },
   {
    "duration": 14,
    "start_time": "2022-02-20T12:03:29.848Z"
   },
   {
    "duration": 11,
    "start_time": "2022-02-20T12:04:45.633Z"
   },
   {
    "duration": 24,
    "start_time": "2022-02-20T12:07:20.008Z"
   },
   {
    "duration": 7865,
    "start_time": "2022-02-20T12:10:54.549Z"
   },
   {
    "duration": 1394,
    "start_time": "2022-02-20T12:11:10.335Z"
   },
   {
    "duration": 32,
    "start_time": "2022-02-20T12:11:11.731Z"
   },
   {
    "duration": 48,
    "start_time": "2022-02-20T12:11:11.767Z"
   },
   {
    "duration": 19,
    "start_time": "2022-02-20T12:11:11.817Z"
   },
   {
    "duration": 19,
    "start_time": "2022-02-20T12:11:11.838Z"
   },
   {
    "duration": 16,
    "start_time": "2022-02-20T12:11:11.859Z"
   },
   {
    "duration": 24,
    "start_time": "2022-02-20T12:11:14.315Z"
   },
   {
    "duration": 21,
    "start_time": "2022-02-20T12:11:24.646Z"
   },
   {
    "duration": 8,
    "start_time": "2022-02-20T12:11:37.728Z"
   },
   {
    "duration": 22,
    "start_time": "2022-02-20T12:11:43.943Z"
   },
   {
    "duration": 21,
    "start_time": "2022-02-20T12:12:14.168Z"
   },
   {
    "duration": 692,
    "start_time": "2022-02-20T12:13:47.712Z"
   },
   {
    "duration": 69,
    "start_time": "2022-02-20T12:14:30.759Z"
   },
   {
    "duration": 60,
    "start_time": "2022-02-20T12:14:42.940Z"
   },
   {
    "duration": 452,
    "start_time": "2022-02-20T12:15:04.104Z"
   },
   {
    "duration": 747,
    "start_time": "2022-02-20T12:15:26.258Z"
   },
   {
    "duration": 86,
    "start_time": "2022-02-20T12:15:41.475Z"
   },
   {
    "duration": 421,
    "start_time": "2022-02-20T12:15:49.637Z"
   },
   {
    "duration": 60,
    "start_time": "2022-02-20T12:15:54.750Z"
   },
   {
    "duration": 23,
    "start_time": "2022-02-20T12:16:14.106Z"
   },
   {
    "duration": 8,
    "start_time": "2022-02-20T12:16:30.289Z"
   },
   {
    "duration": 19,
    "start_time": "2022-02-20T12:16:41.423Z"
   },
   {
    "duration": 18,
    "start_time": "2022-02-20T12:16:51.762Z"
   },
   {
    "duration": 453,
    "start_time": "2022-02-20T12:17:18.080Z"
   },
   {
    "duration": 20,
    "start_time": "2022-02-20T12:17:35.988Z"
   },
   {
    "duration": 1186,
    "start_time": "2022-02-20T12:18:02.629Z"
   },
   {
    "duration": 1394,
    "start_time": "2022-02-20T12:18:33.478Z"
   },
   {
    "duration": 27,
    "start_time": "2022-02-20T12:18:34.875Z"
   },
   {
    "duration": 40,
    "start_time": "2022-02-20T12:18:34.906Z"
   },
   {
    "duration": 25,
    "start_time": "2022-02-20T12:18:34.950Z"
   },
   {
    "duration": 877,
    "start_time": "2022-02-20T12:18:34.978Z"
   },
   {
    "duration": 100,
    "start_time": "2022-02-20T12:18:35.863Z"
   },
   {
    "duration": 65,
    "start_time": "2022-02-20T12:18:35.966Z"
   },
   {
    "duration": 21,
    "start_time": "2022-02-20T12:47:11.751Z"
   },
   {
    "duration": 21,
    "start_time": "2022-02-20T12:47:26.848Z"
   },
   {
    "duration": 20,
    "start_time": "2022-02-20T12:48:16.886Z"
   },
   {
    "duration": 18,
    "start_time": "2022-02-20T12:49:02.301Z"
   },
   {
    "duration": 23,
    "start_time": "2022-02-20T12:49:26.086Z"
   },
   {
    "duration": 25,
    "start_time": "2022-02-20T12:49:37.780Z"
   },
   {
    "duration": 524,
    "start_time": "2022-02-20T12:49:45.523Z"
   },
   {
    "duration": 15,
    "start_time": "2022-02-20T12:49:57.068Z"
   },
   {
    "duration": 21,
    "start_time": "2022-02-20T12:51:27.761Z"
   },
   {
    "duration": 16,
    "start_time": "2022-02-20T12:52:08.909Z"
   },
   {
    "duration": 313,
    "start_time": "2022-02-20T12:54:53.239Z"
   },
   {
    "duration": 15,
    "start_time": "2022-02-20T12:56:02.529Z"
   },
   {
    "duration": 325,
    "start_time": "2022-02-20T12:56:31.494Z"
   },
   {
    "duration": 11,
    "start_time": "2022-02-20T12:56:37.605Z"
   },
   {
    "duration": 292,
    "start_time": "2022-02-20T12:56:39.870Z"
   },
   {
    "duration": 14,
    "start_time": "2022-02-20T12:57:47.098Z"
   },
   {
    "duration": 287,
    "start_time": "2022-02-20T12:57:55.032Z"
   },
   {
    "duration": 127,
    "start_time": "2022-02-20T12:58:12.498Z"
   },
   {
    "duration": 326,
    "start_time": "2022-02-20T12:58:18.135Z"
   },
   {
    "duration": 298,
    "start_time": "2022-02-20T12:58:27.693Z"
   },
   {
    "duration": 273,
    "start_time": "2022-02-20T12:58:33.377Z"
   },
   {
    "duration": 343,
    "start_time": "2022-02-20T12:58:41.694Z"
   },
   {
    "duration": 291,
    "start_time": "2022-02-20T12:59:13.563Z"
   },
   {
    "duration": 23,
    "start_time": "2022-02-20T12:59:59.812Z"
   },
   {
    "duration": 8,
    "start_time": "2022-02-20T13:00:21.022Z"
   },
   {
    "duration": 10,
    "start_time": "2022-02-20T13:02:15.121Z"
   },
   {
    "duration": 363,
    "start_time": "2022-02-20T13:08:40.186Z"
   },
   {
    "duration": 284,
    "start_time": "2022-02-20T13:08:46.229Z"
   },
   {
    "duration": 8063,
    "start_time": "2022-02-20T13:08:54.029Z"
   },
   {
    "duration": 8559,
    "start_time": "2022-02-20T13:09:03.957Z"
   },
   {
    "duration": 7385,
    "start_time": "2022-02-20T13:09:27.496Z"
   },
   {
    "duration": 17,
    "start_time": "2022-02-20T13:09:45.623Z"
   },
   {
    "duration": 17,
    "start_time": "2022-02-20T13:10:11.406Z"
   },
   {
    "duration": 17,
    "start_time": "2022-02-20T13:10:23.676Z"
   },
   {
    "duration": 27,
    "start_time": "2022-02-20T13:14:29.946Z"
   },
   {
    "duration": 6,
    "start_time": "2022-02-20T13:14:39.953Z"
   },
   {
    "duration": 318,
    "start_time": "2022-02-20T13:18:40.049Z"
   },
   {
    "duration": 8,
    "start_time": "2022-02-20T13:18:48.362Z"
   },
   {
    "duration": 28,
    "start_time": "2022-02-20T13:18:48.373Z"
   },
   {
    "duration": 31,
    "start_time": "2022-02-20T13:18:48.404Z"
   },
   {
    "duration": 40,
    "start_time": "2022-02-20T13:18:48.437Z"
   },
   {
    "duration": 48,
    "start_time": "2022-02-20T13:18:48.480Z"
   },
   {
    "duration": 80,
    "start_time": "2022-02-20T13:18:48.531Z"
   },
   {
    "duration": 93,
    "start_time": "2022-02-20T13:18:48.613Z"
   },
   {
    "duration": 10,
    "start_time": "2022-02-20T13:18:48.710Z"
   },
   {
    "duration": 39,
    "start_time": "2022-02-20T13:18:48.725Z"
   },
   {
    "duration": 33,
    "start_time": "2022-02-20T13:18:48.768Z"
   },
   {
    "duration": 11,
    "start_time": "2022-02-20T13:18:48.803Z"
   },
   {
    "duration": 6,
    "start_time": "2022-02-20T13:18:48.817Z"
   },
   {
    "duration": 50,
    "start_time": "2022-02-20T13:18:48.825Z"
   },
   {
    "duration": 14,
    "start_time": "2022-02-20T13:18:48.879Z"
   },
   {
    "duration": 9,
    "start_time": "2022-02-20T13:18:48.897Z"
   },
   {
    "duration": 9,
    "start_time": "2022-02-20T13:18:48.908Z"
   },
   {
    "duration": 42,
    "start_time": "2022-02-20T13:18:48.919Z"
   },
   {
    "duration": 388,
    "start_time": "2022-02-20T13:18:48.965Z"
   },
   {
    "duration": 298,
    "start_time": "2022-02-20T13:18:49.355Z"
   },
   {
    "duration": 15,
    "start_time": "2022-02-20T13:18:49.655Z"
   },
   {
    "duration": 18,
    "start_time": "2022-02-20T13:18:49.673Z"
   },
   {
    "duration": 10,
    "start_time": "2022-02-20T13:18:49.694Z"
   },
   {
    "duration": 7,
    "start_time": "2022-02-20T13:18:49.708Z"
   },
   {
    "duration": 61,
    "start_time": "2022-02-20T13:18:49.717Z"
   },
   {
    "duration": 5,
    "start_time": "2022-02-20T13:20:02.235Z"
   },
   {
    "duration": 27,
    "start_time": "2022-02-20T13:20:02.242Z"
   },
   {
    "duration": 35,
    "start_time": "2022-02-20T13:20:02.273Z"
   },
   {
    "duration": 24,
    "start_time": "2022-02-20T13:20:02.311Z"
   },
   {
    "duration": 52,
    "start_time": "2022-02-20T13:20:02.362Z"
   },
   {
    "duration": 90,
    "start_time": "2022-02-20T13:20:02.416Z"
   },
   {
    "duration": 94,
    "start_time": "2022-02-20T13:20:02.508Z"
   },
   {
    "duration": 11,
    "start_time": "2022-02-20T13:20:02.604Z"
   },
   {
    "duration": 14,
    "start_time": "2022-02-20T13:20:02.619Z"
   },
   {
    "duration": 48,
    "start_time": "2022-02-20T13:20:02.636Z"
   },
   {
    "duration": 16,
    "start_time": "2022-02-20T13:20:02.687Z"
   },
   {
    "duration": 6,
    "start_time": "2022-02-20T13:20:02.705Z"
   },
   {
    "duration": 18,
    "start_time": "2022-02-20T13:20:02.713Z"
   },
   {
    "duration": 16,
    "start_time": "2022-02-20T13:20:02.763Z"
   },
   {
    "duration": 13,
    "start_time": "2022-02-20T13:20:02.782Z"
   },
   {
    "duration": 16,
    "start_time": "2022-02-20T13:20:02.798Z"
   },
   {
    "duration": 13,
    "start_time": "2022-02-20T13:20:02.817Z"
   },
   {
    "duration": 354,
    "start_time": "2022-02-20T13:20:02.833Z"
   },
   {
    "duration": 297,
    "start_time": "2022-02-20T13:20:03.190Z"
   },
   {
    "duration": 9,
    "start_time": "2022-02-20T13:20:03.490Z"
   },
   {
    "duration": 48,
    "start_time": "2022-02-20T13:20:03.502Z"
   },
   {
    "duration": 41,
    "start_time": "2022-02-20T13:20:03.552Z"
   },
   {
    "duration": 23,
    "start_time": "2022-02-20T13:20:03.596Z"
   },
   {
    "duration": 17,
    "start_time": "2022-02-20T13:20:03.621Z"
   },
   {
    "duration": 49,
    "start_time": "2022-02-20T13:20:03.640Z"
   },
   {
    "duration": 260,
    "start_time": "2022-02-20T13:20:03.694Z"
   },
   {
    "duration": 13,
    "start_time": "2022-02-20T13:20:03.957Z"
   },
   {
    "duration": 151,
    "start_time": "2022-02-20T13:20:03.974Z"
   },
   {
    "duration": 12,
    "start_time": "2022-02-20T13:20:04.128Z"
   },
   {
    "duration": 145,
    "start_time": "2022-02-20T13:20:04.143Z"
   },
   {
    "duration": 20,
    "start_time": "2022-02-20T13:20:04.291Z"
   },
   {
    "duration": 160,
    "start_time": "2022-02-20T13:20:04.314Z"
   },
   {
    "duration": 27,
    "start_time": "2022-02-20T13:20:04.478Z"
   },
   {
    "duration": 125,
    "start_time": "2022-02-20T13:20:04.507Z"
   },
   {
    "duration": 148,
    "start_time": "2022-02-20T13:20:04.635Z"
   },
   {
    "duration": 144,
    "start_time": "2022-02-20T13:20:04.786Z"
   },
   {
    "duration": 56,
    "start_time": "2022-02-20T13:20:04.932Z"
   },
   {
    "duration": 9,
    "start_time": "2022-02-20T13:20:04.990Z"
   },
   {
    "duration": 383,
    "start_time": "2022-02-20T13:20:05.002Z"
   },
   {
    "duration": 378,
    "start_time": "2022-02-20T13:20:05.388Z"
   },
   {
    "duration": 472,
    "start_time": "2022-02-20T13:20:05.769Z"
   },
   {
    "duration": 384,
    "start_time": "2022-02-20T13:20:06.243Z"
   },
   {
    "duration": 370,
    "start_time": "2022-02-20T13:20:20.668Z"
   },
   {
    "duration": 579,
    "start_time": "2022-02-20T13:20:33.156Z"
   },
   {
    "duration": 8,
    "start_time": "2022-02-20T13:20:55.814Z"
   },
   {
    "duration": 10,
    "start_time": "2022-02-20T13:21:07.636Z"
   },
   {
    "duration": 7,
    "start_time": "2022-02-20T13:21:17.137Z"
   },
   {
    "duration": 20,
    "start_time": "2022-02-20T13:21:24.660Z"
   },
   {
    "duration": 12,
    "start_time": "2022-02-20T13:21:42.842Z"
   },
   {
    "duration": 11,
    "start_time": "2022-02-20T13:21:57.949Z"
   },
   {
    "duration": 9,
    "start_time": "2022-02-20T13:22:13.342Z"
   },
   {
    "duration": 303,
    "start_time": "2022-02-20T13:22:22.143Z"
   },
   {
    "duration": 391,
    "start_time": "2022-02-20T13:22:31.592Z"
   },
   {
    "duration": 298,
    "start_time": "2022-02-20T13:22:39.717Z"
   },
   {
    "duration": 320,
    "start_time": "2022-02-20T13:22:44.775Z"
   },
   {
    "duration": 7,
    "start_time": "2022-02-20T13:23:09.449Z"
   },
   {
    "duration": 367,
    "start_time": "2022-02-20T13:23:30.140Z"
   },
   {
    "duration": 366,
    "start_time": "2022-02-20T13:23:43.941Z"
   },
   {
    "duration": 688,
    "start_time": "2022-02-20T13:24:11.260Z"
   },
   {
    "duration": 530,
    "start_time": "2022-02-20T13:24:45.853Z"
   },
   {
    "duration": 1449,
    "start_time": "2022-02-20T13:25:21.887Z"
   },
   {
    "duration": 41,
    "start_time": "2022-02-20T13:25:23.339Z"
   },
   {
    "duration": 35,
    "start_time": "2022-02-20T13:25:23.385Z"
   },
   {
    "duration": 24,
    "start_time": "2022-02-20T13:25:23.423Z"
   },
   {
    "duration": 737,
    "start_time": "2022-02-20T13:25:23.450Z"
   },
   {
    "duration": 75,
    "start_time": "2022-02-20T13:25:24.190Z"
   },
   {
    "duration": 98,
    "start_time": "2022-02-20T13:25:24.269Z"
   },
   {
    "duration": 13,
    "start_time": "2022-02-20T13:25:24.373Z"
   },
   {
    "duration": 12,
    "start_time": "2022-02-20T13:25:24.389Z"
   },
   {
    "duration": 20,
    "start_time": "2022-02-20T13:25:24.404Z"
   },
   {
    "duration": 18,
    "start_time": "2022-02-20T13:25:24.462Z"
   },
   {
    "duration": 9,
    "start_time": "2022-02-20T13:25:24.483Z"
   },
   {
    "duration": 17,
    "start_time": "2022-02-20T13:25:24.494Z"
   },
   {
    "duration": 11,
    "start_time": "2022-02-20T13:25:24.514Z"
   },
   {
    "duration": 12,
    "start_time": "2022-02-20T13:25:24.560Z"
   },
   {
    "duration": 10,
    "start_time": "2022-02-20T13:25:24.576Z"
   },
   {
    "duration": 14,
    "start_time": "2022-02-20T13:25:24.589Z"
   },
   {
    "duration": 395,
    "start_time": "2022-02-20T13:25:24.606Z"
   },
   {
    "duration": 318,
    "start_time": "2022-02-20T13:25:25.004Z"
   },
   {
    "duration": 10,
    "start_time": "2022-02-20T13:25:25.325Z"
   },
   {
    "duration": 26,
    "start_time": "2022-02-20T13:25:25.338Z"
   },
   {
    "duration": 12,
    "start_time": "2022-02-20T13:25:25.367Z"
   },
   {
    "duration": 5,
    "start_time": "2022-02-20T13:25:25.388Z"
   },
   {
    "duration": 8,
    "start_time": "2022-02-20T13:25:25.398Z"
   },
   {
    "duration": 11,
    "start_time": "2022-02-20T13:25:25.409Z"
   },
   {
    "duration": 317,
    "start_time": "2022-02-20T13:25:25.462Z"
   },
   {
    "duration": 8,
    "start_time": "2022-02-20T13:25:25.783Z"
   },
   {
    "duration": 143,
    "start_time": "2022-02-20T13:25:25.794Z"
   },
   {
    "duration": 23,
    "start_time": "2022-02-20T13:25:25.940Z"
   },
   {
    "duration": 140,
    "start_time": "2022-02-20T13:25:25.967Z"
   },
   {
    "duration": 32,
    "start_time": "2022-02-20T13:25:26.110Z"
   },
   {
    "duration": 129,
    "start_time": "2022-02-20T13:25:26.161Z"
   },
   {
    "duration": 23,
    "start_time": "2022-02-20T13:25:26.293Z"
   },
   {
    "duration": 144,
    "start_time": "2022-02-20T13:25:26.319Z"
   },
   {
    "duration": 135,
    "start_time": "2022-02-20T13:25:26.467Z"
   },
   {
    "duration": 166,
    "start_time": "2022-02-20T13:25:26.605Z"
   },
   {
    "duration": 40,
    "start_time": "2022-02-20T13:25:26.777Z"
   },
   {
    "duration": 9,
    "start_time": "2022-02-20T13:25:26.819Z"
   },
   {
    "duration": 403,
    "start_time": "2022-02-20T13:25:26.831Z"
   },
   {
    "duration": 382,
    "start_time": "2022-02-20T13:25:27.236Z"
   },
   {
    "duration": 505,
    "start_time": "2022-02-20T13:25:27.621Z"
   },
   {
    "duration": 364,
    "start_time": "2022-02-20T13:25:28.128Z"
   },
   {
    "duration": 445,
    "start_time": "2022-02-20T13:25:28.495Z"
   },
   {
    "duration": 434,
    "start_time": "2022-02-20T13:25:28.942Z"
   },
   {
    "duration": 6,
    "start_time": "2022-02-20T13:25:29.379Z"
   },
   {
    "duration": 510,
    "start_time": "2022-02-20T13:25:29.387Z"
   },
   {
    "duration": 7,
    "start_time": "2022-02-20T13:25:29.900Z"
   },
   {
    "duration": 444,
    "start_time": "2022-02-20T13:27:58.843Z"
   },
   {
    "duration": 16,
    "start_time": "2022-02-20T13:29:06.584Z"
   },
   {
    "duration": 20,
    "start_time": "2022-02-20T13:29:36.073Z"
   },
   {
    "duration": 12,
    "start_time": "2022-02-20T13:29:47.106Z"
   },
   {
    "duration": 16,
    "start_time": "2022-02-20T13:29:48.969Z"
   },
   {
    "duration": 17,
    "start_time": "2022-02-20T13:29:51.446Z"
   },
   {
    "duration": 40,
    "start_time": "2022-02-20T13:29:56.454Z"
   },
   {
    "duration": 1434,
    "start_time": "2022-02-20T13:33:19.105Z"
   },
   {
    "duration": 35,
    "start_time": "2022-02-20T13:33:20.542Z"
   },
   {
    "duration": 33,
    "start_time": "2022-02-20T13:33:20.581Z"
   },
   {
    "duration": 18,
    "start_time": "2022-02-20T13:33:20.616Z"
   },
   {
    "duration": 699,
    "start_time": "2022-02-20T13:33:20.637Z"
   },
   {
    "duration": 66,
    "start_time": "2022-02-20T13:33:21.339Z"
   },
   {
    "duration": 92,
    "start_time": "2022-02-20T13:33:21.408Z"
   },
   {
    "duration": 12,
    "start_time": "2022-02-20T13:33:21.507Z"
   },
   {
    "duration": 39,
    "start_time": "2022-02-20T13:33:21.522Z"
   },
   {
    "duration": 25,
    "start_time": "2022-02-20T13:33:21.565Z"
   },
   {
    "duration": 15,
    "start_time": "2022-02-20T13:33:21.593Z"
   },
   {
    "duration": 11,
    "start_time": "2022-02-20T13:33:21.610Z"
   },
   {
    "duration": 49,
    "start_time": "2022-02-20T13:33:21.623Z"
   },
   {
    "duration": 13,
    "start_time": "2022-02-20T13:33:21.675Z"
   },
   {
    "duration": 9,
    "start_time": "2022-02-20T13:33:21.690Z"
   },
   {
    "duration": 9,
    "start_time": "2022-02-20T13:33:21.701Z"
   },
   {
    "duration": 10,
    "start_time": "2022-02-20T13:33:21.712Z"
   },
   {
    "duration": 384,
    "start_time": "2022-02-20T13:33:21.724Z"
   },
   {
    "duration": 298,
    "start_time": "2022-02-20T13:33:22.111Z"
   },
   {
    "duration": 10,
    "start_time": "2022-02-20T13:33:22.411Z"
   },
   {
    "duration": 16,
    "start_time": "2022-02-20T13:33:22.423Z"
   },
   {
    "duration": 25,
    "start_time": "2022-02-20T13:33:22.442Z"
   },
   {
    "duration": 18,
    "start_time": "2022-02-20T13:33:22.477Z"
   },
   {
    "duration": 9,
    "start_time": "2022-02-20T13:33:22.499Z"
   },
   {
    "duration": 14,
    "start_time": "2022-02-20T13:33:22.511Z"
   },
   {
    "duration": 239,
    "start_time": "2022-02-20T13:33:22.528Z"
   },
   {
    "duration": 10,
    "start_time": "2022-02-20T13:33:22.770Z"
   },
   {
    "duration": 124,
    "start_time": "2022-02-20T13:33:22.783Z"
   },
   {
    "duration": 8,
    "start_time": "2022-02-20T13:33:22.909Z"
   },
   {
    "duration": 121,
    "start_time": "2022-02-20T13:33:22.919Z"
   },
   {
    "duration": 31,
    "start_time": "2022-02-20T13:33:23.043Z"
   },
   {
    "duration": 133,
    "start_time": "2022-02-20T13:33:23.077Z"
   },
   {
    "duration": 26,
    "start_time": "2022-02-20T13:33:23.213Z"
   },
   {
    "duration": 139,
    "start_time": "2022-02-20T13:33:23.242Z"
   },
   {
    "duration": 120,
    "start_time": "2022-02-20T13:33:23.384Z"
   },
   {
    "duration": 135,
    "start_time": "2022-02-20T13:33:23.506Z"
   },
   {
    "duration": 51,
    "start_time": "2022-02-20T13:33:23.644Z"
   },
   {
    "duration": 9,
    "start_time": "2022-02-20T13:33:23.698Z"
   },
   {
    "duration": 398,
    "start_time": "2022-02-20T13:33:23.709Z"
   },
   {
    "duration": 368,
    "start_time": "2022-02-20T13:33:24.110Z"
   },
   {
    "duration": 463,
    "start_time": "2022-02-20T13:33:24.481Z"
   },
   {
    "duration": 398,
    "start_time": "2022-02-20T13:33:24.946Z"
   },
   {
    "duration": 507,
    "start_time": "2022-02-20T13:33:25.347Z"
   },
   {
    "duration": 437,
    "start_time": "2022-02-20T13:33:25.857Z"
   },
   {
    "duration": 7,
    "start_time": "2022-02-20T13:33:26.297Z"
   },
   {
    "duration": 520,
    "start_time": "2022-02-20T13:33:26.307Z"
   },
   {
    "duration": 6,
    "start_time": "2022-02-20T13:33:26.830Z"
   },
   {
    "duration": 43,
    "start_time": "2022-02-20T13:33:26.838Z"
   },
   {
    "duration": 25,
    "start_time": "2022-02-20T13:33:26.884Z"
   },
   {
    "duration": 13,
    "start_time": "2022-02-20T13:33:26.911Z"
   },
   {
    "duration": 51,
    "start_time": "2022-02-20T13:33:26.926Z"
   },
   {
    "duration": 16,
    "start_time": "2022-02-20T13:33:26.979Z"
   },
   {
    "duration": 64,
    "start_time": "2022-02-20T13:33:26.997Z"
   },
   {
    "duration": 1402,
    "start_time": "2022-02-20T13:34:34.860Z"
   },
   {
    "duration": 30,
    "start_time": "2022-02-20T13:34:36.266Z"
   },
   {
    "duration": 30,
    "start_time": "2022-02-20T13:34:36.300Z"
   },
   {
    "duration": 18,
    "start_time": "2022-02-20T13:34:36.333Z"
   },
   {
    "duration": 659,
    "start_time": "2022-02-20T13:34:36.365Z"
   },
   {
    "duration": 76,
    "start_time": "2022-02-20T13:34:37.027Z"
   },
   {
    "duration": 96,
    "start_time": "2022-02-20T13:34:37.106Z"
   },
   {
    "duration": 11,
    "start_time": "2022-02-20T13:34:37.206Z"
   },
   {
    "duration": 13,
    "start_time": "2022-02-20T13:34:37.220Z"
   },
   {
    "duration": 54,
    "start_time": "2022-02-20T13:34:37.235Z"
   },
   {
    "duration": 9,
    "start_time": "2022-02-20T13:34:37.292Z"
   },
   {
    "duration": 7,
    "start_time": "2022-02-20T13:34:37.304Z"
   },
   {
    "duration": 56,
    "start_time": "2022-02-20T13:34:37.313Z"
   },
   {
    "duration": 19,
    "start_time": "2022-02-20T13:34:37.373Z"
   },
   {
    "duration": 9,
    "start_time": "2022-02-20T13:34:37.395Z"
   },
   {
    "duration": 6,
    "start_time": "2022-02-20T13:34:37.406Z"
   },
   {
    "duration": 7,
    "start_time": "2022-02-20T13:34:37.414Z"
   },
   {
    "duration": 341,
    "start_time": "2022-02-20T13:34:37.460Z"
   },
   {
    "duration": 320,
    "start_time": "2022-02-20T13:34:37.804Z"
   },
   {
    "duration": 10,
    "start_time": "2022-02-20T13:34:38.126Z"
   },
   {
    "duration": 33,
    "start_time": "2022-02-20T13:34:38.138Z"
   },
   {
    "duration": 14,
    "start_time": "2022-02-20T13:34:38.175Z"
   },
   {
    "duration": 6,
    "start_time": "2022-02-20T13:34:38.195Z"
   },
   {
    "duration": 11,
    "start_time": "2022-02-20T13:34:38.204Z"
   },
   {
    "duration": 15,
    "start_time": "2022-02-20T13:34:38.217Z"
   },
   {
    "duration": 250,
    "start_time": "2022-02-20T13:34:38.234Z"
   },
   {
    "duration": 7,
    "start_time": "2022-02-20T13:34:38.486Z"
   },
   {
    "duration": 123,
    "start_time": "2022-02-20T13:34:38.496Z"
   },
   {
    "duration": 14,
    "start_time": "2022-02-20T13:34:38.622Z"
   },
   {
    "duration": 123,
    "start_time": "2022-02-20T13:34:38.638Z"
   },
   {
    "duration": 34,
    "start_time": "2022-02-20T13:34:38.765Z"
   },
   {
    "duration": 120,
    "start_time": "2022-02-20T13:34:38.802Z"
   },
   {
    "duration": 41,
    "start_time": "2022-02-20T13:34:38.925Z"
   },
   {
    "duration": 122,
    "start_time": "2022-02-20T13:34:38.970Z"
   },
   {
    "duration": 124,
    "start_time": "2022-02-20T13:34:39.095Z"
   },
   {
    "duration": 156,
    "start_time": "2022-02-20T13:34:39.222Z"
   },
   {
    "duration": 40,
    "start_time": "2022-02-20T13:34:39.381Z"
   },
   {
    "duration": 9,
    "start_time": "2022-02-20T13:34:39.423Z"
   },
   {
    "duration": 387,
    "start_time": "2022-02-20T13:34:39.434Z"
   },
   {
    "duration": 365,
    "start_time": "2022-02-20T13:34:39.823Z"
   },
   {
    "duration": 483,
    "start_time": "2022-02-20T13:34:40.191Z"
   },
   {
    "duration": 375,
    "start_time": "2022-02-20T13:34:40.677Z"
   },
   {
    "duration": 497,
    "start_time": "2022-02-20T13:34:41.055Z"
   },
   {
    "duration": 439,
    "start_time": "2022-02-20T13:34:41.555Z"
   },
   {
    "duration": 6,
    "start_time": "2022-02-20T13:34:41.997Z"
   },
   {
    "duration": 501,
    "start_time": "2022-02-20T13:34:42.005Z"
   },
   {
    "duration": 6,
    "start_time": "2022-02-20T13:34:42.509Z"
   },
   {
    "duration": 18,
    "start_time": "2022-02-20T13:34:42.517Z"
   },
   {
    "duration": 26,
    "start_time": "2022-02-20T13:34:42.563Z"
   },
   {
    "duration": 19,
    "start_time": "2022-02-20T13:34:42.591Z"
   },
   {
    "duration": 18,
    "start_time": "2022-02-20T13:34:42.612Z"
   },
   {
    "duration": 45,
    "start_time": "2022-02-20T13:34:42.633Z"
   },
   {
    "duration": 30,
    "start_time": "2022-02-20T13:34:42.681Z"
   },
   {
    "duration": 32,
    "start_time": "2022-02-20T13:36:30.254Z"
   },
   {
    "duration": 504,
    "start_time": "2022-02-20T13:38:33.977Z"
   },
   {
    "duration": 475,
    "start_time": "2022-02-20T13:38:46.757Z"
   },
   {
    "duration": 13,
    "start_time": "2022-02-20T13:41:12.677Z"
   },
   {
    "duration": 15,
    "start_time": "2022-02-20T13:41:14.151Z"
   },
   {
    "duration": 17,
    "start_time": "2022-02-20T13:41:16.978Z"
   },
   {
    "duration": 31,
    "start_time": "2022-02-20T13:41:20.715Z"
   },
   {
    "duration": 1526,
    "start_time": "2022-02-20T13:43:47.730Z"
   },
   {
    "duration": 34,
    "start_time": "2022-02-20T13:43:49.261Z"
   },
   {
    "duration": 31,
    "start_time": "2022-02-20T13:43:49.299Z"
   },
   {
    "duration": 20,
    "start_time": "2022-02-20T13:43:49.334Z"
   },
   {
    "duration": 722,
    "start_time": "2022-02-20T13:43:49.361Z"
   },
   {
    "duration": 50,
    "start_time": "2022-02-20T13:43:50.086Z"
   },
   {
    "duration": 66,
    "start_time": "2022-02-20T13:43:50.163Z"
   },
   {
    "duration": 37,
    "start_time": "2022-02-20T13:43:50.235Z"
   },
   {
    "duration": 23,
    "start_time": "2022-02-20T13:43:50.276Z"
   },
   {
    "duration": 21,
    "start_time": "2022-02-20T13:43:50.303Z"
   },
   {
    "duration": 42,
    "start_time": "2022-02-20T13:43:50.327Z"
   },
   {
    "duration": 15,
    "start_time": "2022-02-20T13:43:50.373Z"
   },
   {
    "duration": 21,
    "start_time": "2022-02-20T13:43:50.391Z"
   },
   {
    "duration": 11,
    "start_time": "2022-02-20T13:43:50.414Z"
   },
   {
    "duration": 46,
    "start_time": "2022-02-20T13:43:50.427Z"
   },
   {
    "duration": 12,
    "start_time": "2022-02-20T13:43:50.476Z"
   },
   {
    "duration": 10,
    "start_time": "2022-02-20T13:43:50.491Z"
   },
   {
    "duration": 508,
    "start_time": "2022-02-20T13:43:50.503Z"
   },
   {
    "duration": 298,
    "start_time": "2022-02-20T13:43:51.014Z"
   },
   {
    "duration": 11,
    "start_time": "2022-02-20T13:43:51.315Z"
   },
   {
    "duration": 35,
    "start_time": "2022-02-20T13:43:51.329Z"
   },
   {
    "duration": 14,
    "start_time": "2022-02-20T13:43:51.367Z"
   },
   {
    "duration": 24,
    "start_time": "2022-02-20T13:43:51.387Z"
   },
   {
    "duration": 28,
    "start_time": "2022-02-20T13:43:51.414Z"
   },
   {
    "duration": 20,
    "start_time": "2022-02-20T13:43:51.445Z"
   },
   {
    "duration": 245,
    "start_time": "2022-02-20T13:43:51.469Z"
   },
   {
    "duration": 8,
    "start_time": "2022-02-20T13:43:51.717Z"
   },
   {
    "duration": 136,
    "start_time": "2022-02-20T13:43:51.728Z"
   },
   {
    "duration": 33,
    "start_time": "2022-02-20T13:43:51.867Z"
   },
   {
    "duration": 182,
    "start_time": "2022-02-20T13:43:51.903Z"
   },
   {
    "duration": 35,
    "start_time": "2022-02-20T13:43:52.088Z"
   },
   {
    "duration": 146,
    "start_time": "2022-02-20T13:43:52.126Z"
   },
   {
    "duration": 48,
    "start_time": "2022-02-20T13:43:52.276Z"
   },
   {
    "duration": 123,
    "start_time": "2022-02-20T13:43:52.326Z"
   },
   {
    "duration": 127,
    "start_time": "2022-02-20T13:43:52.452Z"
   },
   {
    "duration": 167,
    "start_time": "2022-02-20T13:43:52.581Z"
   },
   {
    "duration": 53,
    "start_time": "2022-02-20T13:43:52.762Z"
   },
   {
    "duration": 10,
    "start_time": "2022-02-20T13:43:52.817Z"
   },
   {
    "duration": 414,
    "start_time": "2022-02-20T13:43:52.829Z"
   },
   {
    "duration": 521,
    "start_time": "2022-02-20T13:43:53.246Z"
   },
   {
    "duration": 530,
    "start_time": "2022-02-20T13:43:53.775Z"
   },
   {
    "duration": 426,
    "start_time": "2022-02-20T13:43:54.308Z"
   },
   {
    "duration": 635,
    "start_time": "2022-02-20T13:43:54.737Z"
   },
   {
    "duration": 442,
    "start_time": "2022-02-20T13:43:55.375Z"
   },
   {
    "duration": 7,
    "start_time": "2022-02-20T13:43:55.820Z"
   },
   {
    "duration": 568,
    "start_time": "2022-02-20T13:43:55.830Z"
   },
   {
    "duration": 6,
    "start_time": "2022-02-20T13:43:56.400Z"
   },
   {
    "duration": 18,
    "start_time": "2022-02-20T13:43:56.409Z"
   },
   {
    "duration": 60,
    "start_time": "2022-02-20T13:43:56.430Z"
   },
   {
    "duration": 16,
    "start_time": "2022-02-20T13:43:56.492Z"
   },
   {
    "duration": 14,
    "start_time": "2022-02-20T13:43:56.511Z"
   },
   {
    "duration": 48,
    "start_time": "2022-02-20T13:43:56.528Z"
   },
   {
    "duration": 32,
    "start_time": "2022-02-20T13:43:56.580Z"
   },
   {
    "duration": 1393,
    "start_time": "2022-02-20T15:43:27.613Z"
   },
   {
    "duration": 30,
    "start_time": "2022-02-20T15:43:29.010Z"
   },
   {
    "duration": 45,
    "start_time": "2022-02-20T15:43:29.044Z"
   },
   {
    "duration": 25,
    "start_time": "2022-02-20T15:43:29.093Z"
   },
   {
    "duration": 86506,
    "start_time": "2022-02-20T15:43:29.120Z"
   },
   {
    "duration": 56,
    "start_time": "2022-02-20T15:44:55.629Z"
   },
   {
    "duration": 91,
    "start_time": "2022-02-20T15:44:55.688Z"
   },
   {
    "duration": 13,
    "start_time": "2022-02-20T15:44:55.786Z"
   },
   {
    "duration": 37,
    "start_time": "2022-02-20T15:44:55.802Z"
   },
   {
    "duration": 24,
    "start_time": "2022-02-20T15:44:55.842Z"
   },
   {
    "duration": 11,
    "start_time": "2022-02-20T15:44:55.868Z"
   },
   {
    "duration": 6,
    "start_time": "2022-02-20T15:44:55.882Z"
   },
   {
    "duration": 49,
    "start_time": "2022-02-20T15:44:55.890Z"
   },
   {
    "duration": 12,
    "start_time": "2022-02-20T15:44:55.942Z"
   },
   {
    "duration": 8,
    "start_time": "2022-02-20T15:44:55.957Z"
   },
   {
    "duration": 15,
    "start_time": "2022-02-20T15:44:55.968Z"
   },
   {
    "duration": 41,
    "start_time": "2022-02-20T15:44:55.987Z"
   },
   {
    "duration": 359,
    "start_time": "2022-02-20T15:44:56.030Z"
   },
   {
    "duration": 299,
    "start_time": "2022-02-20T15:44:56.391Z"
   },
   {
    "duration": 12,
    "start_time": "2022-02-20T15:44:56.693Z"
   },
   {
    "duration": 10,
    "start_time": "2022-02-20T15:44:56.726Z"
   },
   {
    "duration": 11,
    "start_time": "2022-02-20T15:44:56.738Z"
   },
   {
    "duration": 6,
    "start_time": "2022-02-20T15:44:56.755Z"
   },
   {
    "duration": 12,
    "start_time": "2022-02-20T15:44:56.764Z"
   },
   {
    "duration": 47,
    "start_time": "2022-02-20T15:44:56.779Z"
   },
   {
    "duration": 209,
    "start_time": "2022-02-20T15:44:56.829Z"
   },
   {
    "duration": 7,
    "start_time": "2022-02-20T15:44:57.040Z"
   },
   {
    "duration": 114,
    "start_time": "2022-02-20T15:44:57.049Z"
   },
   {
    "duration": 12,
    "start_time": "2022-02-20T15:44:57.165Z"
   },
   {
    "duration": 110,
    "start_time": "2022-02-20T15:44:57.180Z"
   },
   {
    "duration": 37,
    "start_time": "2022-02-20T15:44:57.293Z"
   },
   {
    "duration": 114,
    "start_time": "2022-02-20T15:44:57.332Z"
   },
   {
    "duration": 27,
    "start_time": "2022-02-20T15:44:57.449Z"
   },
   {
    "duration": 125,
    "start_time": "2022-02-20T15:44:57.479Z"
   },
   {
    "duration": 129,
    "start_time": "2022-02-20T15:44:57.607Z"
   },
   {
    "duration": 129,
    "start_time": "2022-02-20T15:44:57.739Z"
   },
   {
    "duration": 58,
    "start_time": "2022-02-20T15:44:57.871Z"
   },
   {
    "duration": 8,
    "start_time": "2022-02-20T15:44:57.932Z"
   },
   {
    "duration": 372,
    "start_time": "2022-02-20T15:44:57.943Z"
   },
   {
    "duration": 375,
    "start_time": "2022-02-20T15:44:58.318Z"
   },
   {
    "duration": 506,
    "start_time": "2022-02-20T15:44:58.695Z"
   },
   {
    "duration": 461,
    "start_time": "2022-02-20T15:44:59.204Z"
   },
   {
    "duration": 505,
    "start_time": "2022-02-20T15:44:59.669Z"
   },
   {
    "duration": 470,
    "start_time": "2022-02-20T15:45:00.177Z"
   },
   {
    "duration": 7,
    "start_time": "2022-02-20T15:45:00.650Z"
   },
   {
    "duration": 688,
    "start_time": "2022-02-20T15:45:00.660Z"
   },
   {
    "duration": 6,
    "start_time": "2022-02-20T15:45:01.351Z"
   },
   {
    "duration": 26,
    "start_time": "2022-02-20T15:45:01.359Z"
   },
   {
    "duration": 58,
    "start_time": "2022-02-20T15:45:01.388Z"
   },
   {
    "duration": 15,
    "start_time": "2022-02-20T15:45:01.449Z"
   },
   {
    "duration": 22,
    "start_time": "2022-02-20T15:45:01.467Z"
   },
   {
    "duration": 42,
    "start_time": "2022-02-20T15:45:01.491Z"
   },
   {
    "duration": 39,
    "start_time": "2022-02-20T15:45:01.536Z"
   }
  ],
  "kernelspec": {
   "display_name": "Python 3 (ipykernel)",
   "language": "python",
   "name": "python3"
  },
  "language_info": {
   "codemirror_mode": {
    "name": "ipython",
    "version": 3
   },
   "file_extension": ".py",
   "mimetype": "text/x-python",
   "name": "python",
   "nbconvert_exporter": "python",
   "pygments_lexer": "ipython3",
   "version": "3.9.5"
  },
  "toc": {
   "base_numbering": 1,
   "nav_menu": {},
   "number_sections": true,
   "sideBar": true,
   "skip_h1_title": true,
   "title_cell": "Table of Contents",
   "title_sidebar": "Contents",
   "toc_cell": false,
   "toc_position": {},
   "toc_section_display": true,
   "toc_window_display": false
  }
 },
 "nbformat": 4,
 "nbformat_minor": 2
}