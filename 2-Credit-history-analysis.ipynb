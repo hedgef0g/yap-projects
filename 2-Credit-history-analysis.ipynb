{
 "cells": [
  {
   "cell_type": "markdown",
   "metadata": {},
   "source": [
    "# Исследование надёжности заёмщиков\n",
    "\n",
    "Заказчиком этого проекты выступил кредитный отдел банка. \n",
    "Была поставлена задача разобраться, влияет ли семейное положение и количество детей клиента на факт погашения кредита в срок. Входные данные от банка — статистика о платёжеспособности клиентов.\n",
    "\n",
    "Результаты исследования планируется участь при построении модели **кредитного скоринга** — специальной системы, которая оценивает способность потенциального заёмщика вернуть кредит банку.\n",
    "\n",
    "**В рамках исследования необходимо ответить на несколько вопросов:**\n",
    "\n",
    "    Есть ли зависимость между наличием детей и возвратом кредита в срок?\n",
    "    Есть ли зависимость между семейным положением и возвратом кредита в срок?\n",
    "    Есть ли зависимость между уровнем дохода и возвратом кредита в срок?\n",
    "    Как разные цели кредита влияют на его возврат в срок?\n",
    "    \n",
    "В заключение сформулируем общий вывод по результатам исследования."
   ]
  },
  {
   "cell_type": "markdown",
   "metadata": {},
   "source": [
    "## Шаг 1. Откройте файл с данными и изучите общую информацию"
   ]
  },
  {
   "cell_type": "code",
   "execution_count": 1,
   "metadata": {},
   "outputs": [],
   "source": [
    "# сначала подключим библиотеки, которые понадобятся нам в процессе анализа данных\n",
    "import pandas as pd # импортируем pandas - основной пакет, используемый при анализе\n",
    "from pymystem3 import Mystem # импортируем лемматизатор для слов на русском\n",
    "from collections import Counter # модуль Counter для подсчёта количества лем\n",
    "m = Mystem()"
   ]
  },
  {
   "cell_type": "code",
   "execution_count": 2,
   "metadata": {},
   "outputs": [
    {
     "name": "stdout",
     "output_type": "stream",
     "text": [
      "<class 'pandas.core.frame.DataFrame'>\n",
      "RangeIndex: 21525 entries, 0 to 21524\n",
      "Data columns (total 12 columns):\n",
      "children            21525 non-null int64\n",
      "days_employed       19351 non-null float64\n",
      "dob_years           21525 non-null int64\n",
      "education           21525 non-null object\n",
      "education_id        21525 non-null int64\n",
      "family_status       21525 non-null object\n",
      "family_status_id    21525 non-null int64\n",
      "gender              21525 non-null object\n",
      "income_type         21525 non-null object\n",
      "debt                21525 non-null int64\n",
      "total_income        19351 non-null float64\n",
      "purpose             21525 non-null object\n",
      "dtypes: float64(2), int64(5), object(5)\n",
      "memory usage: 2.0+ MB\n"
     ]
    }
   ],
   "source": [
    "# загрузим файл с данными \n",
    "df = pd.read_csv('this string intentionally replaces actual source')\n",
    "df.info() # и изучим общую информацию"
   ]
  },
  {
   "cell_type": "markdown",
   "metadata": {},
   "source": [
    "Согласно документации к данным:\n",
    "\n",
    "*    `children` — количество детей в семье\n",
    "*    `days_employed` — общий трудовой стаж в днях\n",
    "*    `dob_years` — возраст клиента в годах\n",
    "*    `education` — уровень образования клиента\n",
    "*    `education_id` — идентификатор уровня образования\n",
    "*    `family_status` — семейное положение\n",
    "*    `family_status_id` — идентификатор семейного положения\n",
    "*    `gender` — пол клиента\n",
    "*    `income_type` — тип занятости\n",
    "*    `debt` — имел ли задолженность по возврату кредитов\n",
    "*    `total_income` — ежемесячный доход\n",
    "*    `purpose` — цель получения кредита"
   ]
  },
  {
   "cell_type": "code",
   "execution_count": 3,
   "metadata": {},
   "outputs": [
    {
     "data": {
      "text/html": [
       "<div>\n",
       "<style scoped>\n",
       "    .dataframe tbody tr th:only-of-type {\n",
       "        vertical-align: middle;\n",
       "    }\n",
       "\n",
       "    .dataframe tbody tr th {\n",
       "        vertical-align: top;\n",
       "    }\n",
       "\n",
       "    .dataframe thead th {\n",
       "        text-align: right;\n",
       "    }\n",
       "</style>\n",
       "<table border=\"1\" class=\"dataframe\">\n",
       "  <thead>\n",
       "    <tr style=\"text-align: right;\">\n",
       "      <th></th>\n",
       "      <th>children</th>\n",
       "      <th>days_employed</th>\n",
       "      <th>dob_years</th>\n",
       "      <th>education</th>\n",
       "      <th>education_id</th>\n",
       "      <th>family_status</th>\n",
       "      <th>family_status_id</th>\n",
       "      <th>gender</th>\n",
       "      <th>income_type</th>\n",
       "      <th>debt</th>\n",
       "      <th>total_income</th>\n",
       "      <th>purpose</th>\n",
       "    </tr>\n",
       "  </thead>\n",
       "  <tbody>\n",
       "    <tr>\n",
       "      <td>0</td>\n",
       "      <td>1</td>\n",
       "      <td>-8437.673028</td>\n",
       "      <td>42</td>\n",
       "      <td>высшее</td>\n",
       "      <td>0</td>\n",
       "      <td>женат / замужем</td>\n",
       "      <td>0</td>\n",
       "      <td>F</td>\n",
       "      <td>сотрудник</td>\n",
       "      <td>0</td>\n",
       "      <td>253875.639453</td>\n",
       "      <td>покупка жилья</td>\n",
       "    </tr>\n",
       "    <tr>\n",
       "      <td>1</td>\n",
       "      <td>1</td>\n",
       "      <td>-4024.803754</td>\n",
       "      <td>36</td>\n",
       "      <td>среднее</td>\n",
       "      <td>1</td>\n",
       "      <td>женат / замужем</td>\n",
       "      <td>0</td>\n",
       "      <td>F</td>\n",
       "      <td>сотрудник</td>\n",
       "      <td>0</td>\n",
       "      <td>112080.014102</td>\n",
       "      <td>приобретение автомобиля</td>\n",
       "    </tr>\n",
       "    <tr>\n",
       "      <td>2</td>\n",
       "      <td>0</td>\n",
       "      <td>-5623.422610</td>\n",
       "      <td>33</td>\n",
       "      <td>Среднее</td>\n",
       "      <td>1</td>\n",
       "      <td>женат / замужем</td>\n",
       "      <td>0</td>\n",
       "      <td>M</td>\n",
       "      <td>сотрудник</td>\n",
       "      <td>0</td>\n",
       "      <td>145885.952297</td>\n",
       "      <td>покупка жилья</td>\n",
       "    </tr>\n",
       "    <tr>\n",
       "      <td>3</td>\n",
       "      <td>3</td>\n",
       "      <td>-4124.747207</td>\n",
       "      <td>32</td>\n",
       "      <td>среднее</td>\n",
       "      <td>1</td>\n",
       "      <td>женат / замужем</td>\n",
       "      <td>0</td>\n",
       "      <td>M</td>\n",
       "      <td>сотрудник</td>\n",
       "      <td>0</td>\n",
       "      <td>267628.550329</td>\n",
       "      <td>дополнительное образование</td>\n",
       "    </tr>\n",
       "    <tr>\n",
       "      <td>4</td>\n",
       "      <td>0</td>\n",
       "      <td>340266.072047</td>\n",
       "      <td>53</td>\n",
       "      <td>среднее</td>\n",
       "      <td>1</td>\n",
       "      <td>гражданский брак</td>\n",
       "      <td>1</td>\n",
       "      <td>F</td>\n",
       "      <td>пенсионер</td>\n",
       "      <td>0</td>\n",
       "      <td>158616.077870</td>\n",
       "      <td>сыграть свадьбу</td>\n",
       "    </tr>\n",
       "    <tr>\n",
       "      <td>5</td>\n",
       "      <td>0</td>\n",
       "      <td>-926.185831</td>\n",
       "      <td>27</td>\n",
       "      <td>высшее</td>\n",
       "      <td>0</td>\n",
       "      <td>гражданский брак</td>\n",
       "      <td>1</td>\n",
       "      <td>M</td>\n",
       "      <td>компаньон</td>\n",
       "      <td>0</td>\n",
       "      <td>255763.565419</td>\n",
       "      <td>покупка жилья</td>\n",
       "    </tr>\n",
       "    <tr>\n",
       "      <td>6</td>\n",
       "      <td>0</td>\n",
       "      <td>-2879.202052</td>\n",
       "      <td>43</td>\n",
       "      <td>высшее</td>\n",
       "      <td>0</td>\n",
       "      <td>женат / замужем</td>\n",
       "      <td>0</td>\n",
       "      <td>F</td>\n",
       "      <td>компаньон</td>\n",
       "      <td>0</td>\n",
       "      <td>240525.971920</td>\n",
       "      <td>операции с жильем</td>\n",
       "    </tr>\n",
       "    <tr>\n",
       "      <td>7</td>\n",
       "      <td>0</td>\n",
       "      <td>-152.779569</td>\n",
       "      <td>50</td>\n",
       "      <td>СРЕДНЕЕ</td>\n",
       "      <td>1</td>\n",
       "      <td>женат / замужем</td>\n",
       "      <td>0</td>\n",
       "      <td>M</td>\n",
       "      <td>сотрудник</td>\n",
       "      <td>0</td>\n",
       "      <td>135823.934197</td>\n",
       "      <td>образование</td>\n",
       "    </tr>\n",
       "    <tr>\n",
       "      <td>8</td>\n",
       "      <td>2</td>\n",
       "      <td>-6929.865299</td>\n",
       "      <td>35</td>\n",
       "      <td>ВЫСШЕЕ</td>\n",
       "      <td>0</td>\n",
       "      <td>гражданский брак</td>\n",
       "      <td>1</td>\n",
       "      <td>F</td>\n",
       "      <td>сотрудник</td>\n",
       "      <td>0</td>\n",
       "      <td>95856.832424</td>\n",
       "      <td>на проведение свадьбы</td>\n",
       "    </tr>\n",
       "    <tr>\n",
       "      <td>9</td>\n",
       "      <td>0</td>\n",
       "      <td>-2188.756445</td>\n",
       "      <td>41</td>\n",
       "      <td>среднее</td>\n",
       "      <td>1</td>\n",
       "      <td>женат / замужем</td>\n",
       "      <td>0</td>\n",
       "      <td>M</td>\n",
       "      <td>сотрудник</td>\n",
       "      <td>0</td>\n",
       "      <td>144425.938277</td>\n",
       "      <td>покупка жилья для семьи</td>\n",
       "    </tr>\n",
       "  </tbody>\n",
       "</table>\n",
       "</div>"
      ],
      "text/plain": [
       "   children  days_employed  dob_years education  education_id  \\\n",
       "0         1   -8437.673028         42    высшее             0   \n",
       "1         1   -4024.803754         36   среднее             1   \n",
       "2         0   -5623.422610         33   Среднее             1   \n",
       "3         3   -4124.747207         32   среднее             1   \n",
       "4         0  340266.072047         53   среднее             1   \n",
       "5         0    -926.185831         27    высшее             0   \n",
       "6         0   -2879.202052         43    высшее             0   \n",
       "7         0    -152.779569         50   СРЕДНЕЕ             1   \n",
       "8         2   -6929.865299         35    ВЫСШЕЕ             0   \n",
       "9         0   -2188.756445         41   среднее             1   \n",
       "\n",
       "      family_status  family_status_id gender income_type  debt   total_income  \\\n",
       "0   женат / замужем                 0      F   сотрудник     0  253875.639453   \n",
       "1   женат / замужем                 0      F   сотрудник     0  112080.014102   \n",
       "2   женат / замужем                 0      M   сотрудник     0  145885.952297   \n",
       "3   женат / замужем                 0      M   сотрудник     0  267628.550329   \n",
       "4  гражданский брак                 1      F   пенсионер     0  158616.077870   \n",
       "5  гражданский брак                 1      M   компаньон     0  255763.565419   \n",
       "6   женат / замужем                 0      F   компаньон     0  240525.971920   \n",
       "7   женат / замужем                 0      M   сотрудник     0  135823.934197   \n",
       "8  гражданский брак                 1      F   сотрудник     0   95856.832424   \n",
       "9   женат / замужем                 0      M   сотрудник     0  144425.938277   \n",
       "\n",
       "                      purpose  \n",
       "0               покупка жилья  \n",
       "1     приобретение автомобиля  \n",
       "2               покупка жилья  \n",
       "3  дополнительное образование  \n",
       "4             сыграть свадьбу  \n",
       "5               покупка жилья  \n",
       "6           операции с жильем  \n",
       "7                 образование  \n",
       "8       на проведение свадьбы  \n",
       "9     покупка жилья для семьи  "
      ]
     },
     "metadata": {},
     "output_type": "display_data"
    },
    {
     "data": {
      "text/html": [
       "<div>\n",
       "<style scoped>\n",
       "    .dataframe tbody tr th:only-of-type {\n",
       "        vertical-align: middle;\n",
       "    }\n",
       "\n",
       "    .dataframe tbody tr th {\n",
       "        vertical-align: top;\n",
       "    }\n",
       "\n",
       "    .dataframe thead th {\n",
       "        text-align: right;\n",
       "    }\n",
       "</style>\n",
       "<table border=\"1\" class=\"dataframe\">\n",
       "  <thead>\n",
       "    <tr style=\"text-align: right;\">\n",
       "      <th></th>\n",
       "      <th>children</th>\n",
       "      <th>days_employed</th>\n",
       "      <th>dob_years</th>\n",
       "      <th>education</th>\n",
       "      <th>education_id</th>\n",
       "      <th>family_status</th>\n",
       "      <th>family_status_id</th>\n",
       "      <th>gender</th>\n",
       "      <th>income_type</th>\n",
       "      <th>debt</th>\n",
       "      <th>total_income</th>\n",
       "      <th>purpose</th>\n",
       "    </tr>\n",
       "  </thead>\n",
       "  <tbody>\n",
       "    <tr>\n",
       "      <td>21520</td>\n",
       "      <td>1</td>\n",
       "      <td>-4529.316663</td>\n",
       "      <td>43</td>\n",
       "      <td>среднее</td>\n",
       "      <td>1</td>\n",
       "      <td>гражданский брак</td>\n",
       "      <td>1</td>\n",
       "      <td>F</td>\n",
       "      <td>компаньон</td>\n",
       "      <td>0</td>\n",
       "      <td>224791.862382</td>\n",
       "      <td>операции с жильем</td>\n",
       "    </tr>\n",
       "    <tr>\n",
       "      <td>21521</td>\n",
       "      <td>0</td>\n",
       "      <td>343937.404131</td>\n",
       "      <td>67</td>\n",
       "      <td>среднее</td>\n",
       "      <td>1</td>\n",
       "      <td>женат / замужем</td>\n",
       "      <td>0</td>\n",
       "      <td>F</td>\n",
       "      <td>пенсионер</td>\n",
       "      <td>0</td>\n",
       "      <td>155999.806512</td>\n",
       "      <td>сделка с автомобилем</td>\n",
       "    </tr>\n",
       "    <tr>\n",
       "      <td>21522</td>\n",
       "      <td>1</td>\n",
       "      <td>-2113.346888</td>\n",
       "      <td>38</td>\n",
       "      <td>среднее</td>\n",
       "      <td>1</td>\n",
       "      <td>гражданский брак</td>\n",
       "      <td>1</td>\n",
       "      <td>M</td>\n",
       "      <td>сотрудник</td>\n",
       "      <td>1</td>\n",
       "      <td>89672.561153</td>\n",
       "      <td>недвижимость</td>\n",
       "    </tr>\n",
       "    <tr>\n",
       "      <td>21523</td>\n",
       "      <td>3</td>\n",
       "      <td>-3112.481705</td>\n",
       "      <td>38</td>\n",
       "      <td>среднее</td>\n",
       "      <td>1</td>\n",
       "      <td>женат / замужем</td>\n",
       "      <td>0</td>\n",
       "      <td>M</td>\n",
       "      <td>сотрудник</td>\n",
       "      <td>1</td>\n",
       "      <td>244093.050500</td>\n",
       "      <td>на покупку своего автомобиля</td>\n",
       "    </tr>\n",
       "    <tr>\n",
       "      <td>21524</td>\n",
       "      <td>2</td>\n",
       "      <td>-1984.507589</td>\n",
       "      <td>40</td>\n",
       "      <td>среднее</td>\n",
       "      <td>1</td>\n",
       "      <td>женат / замужем</td>\n",
       "      <td>0</td>\n",
       "      <td>F</td>\n",
       "      <td>сотрудник</td>\n",
       "      <td>0</td>\n",
       "      <td>82047.418899</td>\n",
       "      <td>на покупку автомобиля</td>\n",
       "    </tr>\n",
       "  </tbody>\n",
       "</table>\n",
       "</div>"
      ],
      "text/plain": [
       "       children  days_employed  dob_years education  education_id  \\\n",
       "21520         1   -4529.316663         43   среднее             1   \n",
       "21521         0  343937.404131         67   среднее             1   \n",
       "21522         1   -2113.346888         38   среднее             1   \n",
       "21523         3   -3112.481705         38   среднее             1   \n",
       "21524         2   -1984.507589         40   среднее             1   \n",
       "\n",
       "          family_status  family_status_id gender income_type  debt  \\\n",
       "21520  гражданский брак                 1      F   компаньон     0   \n",
       "21521   женат / замужем                 0      F   пенсионер     0   \n",
       "21522  гражданский брак                 1      M   сотрудник     1   \n",
       "21523   женат / замужем                 0      M   сотрудник     1   \n",
       "21524   женат / замужем                 0      F   сотрудник     0   \n",
       "\n",
       "        total_income                       purpose  \n",
       "21520  224791.862382             операции с жильем  \n",
       "21521  155999.806512          сделка с автомобилем  \n",
       "21522   89672.561153                  недвижимость  \n",
       "21523  244093.050500  на покупку своего автомобиля  \n",
       "21524   82047.418899         на покупку автомобиля  "
      ]
     },
     "metadata": {},
     "output_type": "display_data"
    }
   ],
   "source": [
    "\"\"\"\n",
    "смотрю на первые 10 строк датафрейма - хотелось бы сразу увидеть, \n",
    "что необычного в столбцах days_employed и total_income\n",
    "\"\"\"\n",
    "display(df.head(10))\n",
    "\n",
    "# заодно взглянем и на последние 5\n",
    "display(df.tail())"
   ]
  },
  {
   "cell_type": "markdown",
   "metadata": {},
   "source": [
    "**Вывод**"
   ]
  },
  {
   "cell_type": "markdown",
   "metadata": {},
   "source": [
    "В предоставленном для анализа файле:\n",
    "\n",
    "    12 столбцов (переменных)\n",
    "    21525 строк (записей/наблюдений)\n",
    "    \n",
    "Целочисленных и строковых переменных в таблице поровну: по 5 каждого вида. Ещё два столбца - **трудовой стаж в днях** и **общий доход** - вещественные числа.\n",
    "Стиль в названии колонок не нарушен.\n",
    "\n",
    "Вещественный тип данных в столбце `days_employed` вызывает подозрения - хранение дробных дней выглядит излишним.\n",
    "При этом, в обоих столбцах не достаёт около двух тысяч наблюдений - вероятно, пропущенные данные хранятся как \"вещественные числа\" NaN.\n",
    "\n",
    "Первые и последние строки таблицы не дали прямого ответа о наличии NaN в двух интересующих нас переменных, но ярко обозначили **наличие отрицательных значений** в общем трудовом стаже в днях. Также следует обратить внимание на слишком большие (по модулю) значения в этой переменной: уже в 4 строке наблюдаем запись с 340266 днями стажа - это 932 года. Значения нелогичны - нужно будет перепроверить. Гипотеза: стаж представлен в часах, а не днях.\n",
    "\n",
    "Обращает на себя внимание и столбец \"**education**\" - значения в нём не приведены к одному регистру.\n",
    "\n",
    "В каждой строке таблицы — данные об отдельном клиента банка. Большая часть колонок описывает самого клиента: возраст, пол, образование и т.д. Столбец `purpose` содержит информацию о цели кредита.\n",
    "\n",
    "Предварительно можно утверждать, что, данных достаточно для проверки гипотез. Но в данных видны проблемы: отрицательные значения стажа, пропуски, разный регистр значений в строковых переменных.\n",
    "\n",
    "Чтобы двигаться дальше, нужно устранить проблемы в данных."
   ]
  },
  {
   "cell_type": "markdown",
   "metadata": {},
   "source": [
    "## Шаг 2. Предобработка данных"
   ]
  },
  {
   "cell_type": "markdown",
   "metadata": {},
   "source": [
    "### Обработка пропусков"
   ]
  },
  {
   "cell_type": "markdown",
   "metadata": {},
   "source": [
    "Сначала подсчитаем количество пропусков в каждой колонке."
   ]
  },
  {
   "cell_type": "code",
   "execution_count": 4,
   "metadata": {},
   "outputs": [
    {
     "name": "stdout",
     "output_type": "stream",
     "text": [
      "children               0\n",
      "days_employed       2174\n",
      "dob_years              0\n",
      "education              0\n",
      "education_id           0\n",
      "family_status          0\n",
      "family_status_id       0\n",
      "gender                 0\n",
      "income_type            0\n",
      "debt                   0\n",
      "total_income        2174\n",
      "purpose                0\n",
      "dtype: int64\n"
     ]
    }
   ],
   "source": [
    "print(df.isna().sum())"
   ]
  },
  {
   "cell_type": "markdown",
   "metadata": {},
   "source": [
    "Равное количество пропусков в переменных `days_employed` и `total_income` наводит на мысль о том, что пропуски неслучайны. Взглянем на строки, в которых есть пропуски."
   ]
  },
  {
   "cell_type": "code",
   "execution_count": 5,
   "metadata": {},
   "outputs": [
    {
     "data": {
      "text/html": [
       "<div>\n",
       "<style scoped>\n",
       "    .dataframe tbody tr th:only-of-type {\n",
       "        vertical-align: middle;\n",
       "    }\n",
       "\n",
       "    .dataframe tbody tr th {\n",
       "        vertical-align: top;\n",
       "    }\n",
       "\n",
       "    .dataframe thead th {\n",
       "        text-align: right;\n",
       "    }\n",
       "</style>\n",
       "<table border=\"1\" class=\"dataframe\">\n",
       "  <thead>\n",
       "    <tr style=\"text-align: right;\">\n",
       "      <th></th>\n",
       "      <th>children</th>\n",
       "      <th>days_employed</th>\n",
       "      <th>dob_years</th>\n",
       "      <th>education</th>\n",
       "      <th>education_id</th>\n",
       "      <th>family_status</th>\n",
       "      <th>family_status_id</th>\n",
       "      <th>gender</th>\n",
       "      <th>income_type</th>\n",
       "      <th>debt</th>\n",
       "      <th>total_income</th>\n",
       "      <th>purpose</th>\n",
       "    </tr>\n",
       "  </thead>\n",
       "  <tbody>\n",
       "    <tr>\n",
       "      <td>12</td>\n",
       "      <td>0</td>\n",
       "      <td>NaN</td>\n",
       "      <td>65</td>\n",
       "      <td>среднее</td>\n",
       "      <td>1</td>\n",
       "      <td>гражданский брак</td>\n",
       "      <td>1</td>\n",
       "      <td>M</td>\n",
       "      <td>пенсионер</td>\n",
       "      <td>0</td>\n",
       "      <td>NaN</td>\n",
       "      <td>сыграть свадьбу</td>\n",
       "    </tr>\n",
       "    <tr>\n",
       "      <td>26</td>\n",
       "      <td>0</td>\n",
       "      <td>NaN</td>\n",
       "      <td>41</td>\n",
       "      <td>среднее</td>\n",
       "      <td>1</td>\n",
       "      <td>женат / замужем</td>\n",
       "      <td>0</td>\n",
       "      <td>M</td>\n",
       "      <td>госслужащий</td>\n",
       "      <td>0</td>\n",
       "      <td>NaN</td>\n",
       "      <td>образование</td>\n",
       "    </tr>\n",
       "    <tr>\n",
       "      <td>29</td>\n",
       "      <td>0</td>\n",
       "      <td>NaN</td>\n",
       "      <td>63</td>\n",
       "      <td>среднее</td>\n",
       "      <td>1</td>\n",
       "      <td>Не женат / не замужем</td>\n",
       "      <td>4</td>\n",
       "      <td>F</td>\n",
       "      <td>пенсионер</td>\n",
       "      <td>0</td>\n",
       "      <td>NaN</td>\n",
       "      <td>строительство жилой недвижимости</td>\n",
       "    </tr>\n",
       "    <tr>\n",
       "      <td>41</td>\n",
       "      <td>0</td>\n",
       "      <td>NaN</td>\n",
       "      <td>50</td>\n",
       "      <td>среднее</td>\n",
       "      <td>1</td>\n",
       "      <td>женат / замужем</td>\n",
       "      <td>0</td>\n",
       "      <td>F</td>\n",
       "      <td>госслужащий</td>\n",
       "      <td>0</td>\n",
       "      <td>NaN</td>\n",
       "      <td>сделка с подержанным автомобилем</td>\n",
       "    </tr>\n",
       "    <tr>\n",
       "      <td>55</td>\n",
       "      <td>0</td>\n",
       "      <td>NaN</td>\n",
       "      <td>54</td>\n",
       "      <td>среднее</td>\n",
       "      <td>1</td>\n",
       "      <td>гражданский брак</td>\n",
       "      <td>1</td>\n",
       "      <td>F</td>\n",
       "      <td>пенсионер</td>\n",
       "      <td>1</td>\n",
       "      <td>NaN</td>\n",
       "      <td>сыграть свадьбу</td>\n",
       "    </tr>\n",
       "    <tr>\n",
       "      <td>...</td>\n",
       "      <td>...</td>\n",
       "      <td>...</td>\n",
       "      <td>...</td>\n",
       "      <td>...</td>\n",
       "      <td>...</td>\n",
       "      <td>...</td>\n",
       "      <td>...</td>\n",
       "      <td>...</td>\n",
       "      <td>...</td>\n",
       "      <td>...</td>\n",
       "      <td>...</td>\n",
       "      <td>...</td>\n",
       "    </tr>\n",
       "    <tr>\n",
       "      <td>21489</td>\n",
       "      <td>2</td>\n",
       "      <td>NaN</td>\n",
       "      <td>47</td>\n",
       "      <td>Среднее</td>\n",
       "      <td>1</td>\n",
       "      <td>женат / замужем</td>\n",
       "      <td>0</td>\n",
       "      <td>M</td>\n",
       "      <td>компаньон</td>\n",
       "      <td>0</td>\n",
       "      <td>NaN</td>\n",
       "      <td>сделка с автомобилем</td>\n",
       "    </tr>\n",
       "    <tr>\n",
       "      <td>21495</td>\n",
       "      <td>1</td>\n",
       "      <td>NaN</td>\n",
       "      <td>50</td>\n",
       "      <td>среднее</td>\n",
       "      <td>1</td>\n",
       "      <td>гражданский брак</td>\n",
       "      <td>1</td>\n",
       "      <td>F</td>\n",
       "      <td>сотрудник</td>\n",
       "      <td>0</td>\n",
       "      <td>NaN</td>\n",
       "      <td>свадьба</td>\n",
       "    </tr>\n",
       "    <tr>\n",
       "      <td>21497</td>\n",
       "      <td>0</td>\n",
       "      <td>NaN</td>\n",
       "      <td>48</td>\n",
       "      <td>ВЫСШЕЕ</td>\n",
       "      <td>0</td>\n",
       "      <td>женат / замужем</td>\n",
       "      <td>0</td>\n",
       "      <td>F</td>\n",
       "      <td>компаньон</td>\n",
       "      <td>0</td>\n",
       "      <td>NaN</td>\n",
       "      <td>строительство недвижимости</td>\n",
       "    </tr>\n",
       "    <tr>\n",
       "      <td>21502</td>\n",
       "      <td>1</td>\n",
       "      <td>NaN</td>\n",
       "      <td>42</td>\n",
       "      <td>среднее</td>\n",
       "      <td>1</td>\n",
       "      <td>женат / замужем</td>\n",
       "      <td>0</td>\n",
       "      <td>F</td>\n",
       "      <td>сотрудник</td>\n",
       "      <td>0</td>\n",
       "      <td>NaN</td>\n",
       "      <td>строительство жилой недвижимости</td>\n",
       "    </tr>\n",
       "    <tr>\n",
       "      <td>21510</td>\n",
       "      <td>2</td>\n",
       "      <td>NaN</td>\n",
       "      <td>28</td>\n",
       "      <td>среднее</td>\n",
       "      <td>1</td>\n",
       "      <td>женат / замужем</td>\n",
       "      <td>0</td>\n",
       "      <td>F</td>\n",
       "      <td>сотрудник</td>\n",
       "      <td>0</td>\n",
       "      <td>NaN</td>\n",
       "      <td>приобретение автомобиля</td>\n",
       "    </tr>\n",
       "  </tbody>\n",
       "</table>\n",
       "<p>2174 rows × 12 columns</p>\n",
       "</div>"
      ],
      "text/plain": [
       "       children  days_employed  dob_years education  education_id  \\\n",
       "12            0            NaN         65   среднее             1   \n",
       "26            0            NaN         41   среднее             1   \n",
       "29            0            NaN         63   среднее             1   \n",
       "41            0            NaN         50   среднее             1   \n",
       "55            0            NaN         54   среднее             1   \n",
       "...         ...            ...        ...       ...           ...   \n",
       "21489         2            NaN         47   Среднее             1   \n",
       "21495         1            NaN         50   среднее             1   \n",
       "21497         0            NaN         48    ВЫСШЕЕ             0   \n",
       "21502         1            NaN         42   среднее             1   \n",
       "21510         2            NaN         28   среднее             1   \n",
       "\n",
       "               family_status  family_status_id gender  income_type  debt  \\\n",
       "12          гражданский брак                 1      M    пенсионер     0   \n",
       "26           женат / замужем                 0      M  госслужащий     0   \n",
       "29     Не женат / не замужем                 4      F    пенсионер     0   \n",
       "41           женат / замужем                 0      F  госслужащий     0   \n",
       "55          гражданский брак                 1      F    пенсионер     1   \n",
       "...                      ...               ...    ...          ...   ...   \n",
       "21489        женат / замужем                 0      M    компаньон     0   \n",
       "21495       гражданский брак                 1      F    сотрудник     0   \n",
       "21497        женат / замужем                 0      F    компаньон     0   \n",
       "21502        женат / замужем                 0      F    сотрудник     0   \n",
       "21510        женат / замужем                 0      F    сотрудник     0   \n",
       "\n",
       "       total_income                           purpose  \n",
       "12              NaN                   сыграть свадьбу  \n",
       "26              NaN                       образование  \n",
       "29              NaN  строительство жилой недвижимости  \n",
       "41              NaN  сделка с подержанным автомобилем  \n",
       "55              NaN                   сыграть свадьбу  \n",
       "...             ...                               ...  \n",
       "21489           NaN              сделка с автомобилем  \n",
       "21495           NaN                           свадьба  \n",
       "21497           NaN        строительство недвижимости  \n",
       "21502           NaN  строительство жилой недвижимости  \n",
       "21510           NaN           приобретение автомобиля  \n",
       "\n",
       "[2174 rows x 12 columns]"
      ]
     },
     "metadata": {},
     "output_type": "display_data"
    }
   ],
   "source": [
    "display(df[df['days_employed'].isna()])"
   ]
  },
  {
   "cell_type": "markdown",
   "metadata": {},
   "source": [
    "Дополнительно проверим, во всех ли строках с пропуском стажа пропущена информация о доходе."
   ]
  },
  {
   "cell_type": "code",
   "execution_count": 6,
   "metadata": {},
   "outputs": [
    {
     "name": "stdout",
     "output_type": "stream",
     "text": [
      "[nan]\n"
     ]
    }
   ],
   "source": [
    "print(df[df['days_employed'].isna()]['total_income'].unique())"
   ]
  },
  {
   "cell_type": "markdown",
   "metadata": {},
   "source": [
    "Пропуски неслучайны - NaN в стаже соответствует NaN в ежемесячном доходе, во всех случаях без исключения.\n",
    "Прежде, чем избавиться от пропусков, проверим, есть ли в интересующих нас колонках нулевые значения."
   ]
  },
  {
   "cell_type": "code",
   "execution_count": 7,
   "metadata": {},
   "outputs": [
    {
     "name": "stdout",
     "output_type": "stream",
     "text": [
      "В столбце `days_employed` 0 нулевых значений\n",
      "В столбце `total_income` 0 нулевых значений\n"
     ]
    }
   ],
   "source": [
    "print(f\"В столбце `days_employed` {df[df['days_employed'] == 0]['days_employed'].count()} нулевых значений\")\n",
    "print(f\"В столбце `total_income` {df[df['total_income'] == 0]['total_income'].count()} нулевых значений\")"
   ]
  },
  {
   "cell_type": "markdown",
   "metadata": {},
   "source": [
    "В обоих столбцах нулевые значения отсутствуют. Можем заменить пропуски в них на 0."
   ]
  },
  {
   "cell_type": "code",
   "execution_count": 8,
   "metadata": {},
   "outputs": [
    {
     "name": "stdout",
     "output_type": "stream",
     "text": [
      "<class 'pandas.core.frame.DataFrame'>\n",
      "RangeIndex: 21525 entries, 0 to 21524\n",
      "Data columns (total 12 columns):\n",
      "children            21525 non-null int64\n",
      "days_employed       21525 non-null float64\n",
      "dob_years           21525 non-null int64\n",
      "education           21525 non-null object\n",
      "education_id        21525 non-null int64\n",
      "family_status       21525 non-null object\n",
      "family_status_id    21525 non-null int64\n",
      "gender              21525 non-null object\n",
      "income_type         21525 non-null object\n",
      "debt                21525 non-null int64\n",
      "total_income        21525 non-null float64\n",
      "purpose             21525 non-null object\n",
      "dtypes: float64(2), int64(5), object(5)\n",
      "memory usage: 2.0+ MB\n"
     ]
    }
   ],
   "source": [
    "# заменяем значения NaN на 0\n",
    "df = df.fillna(0)\n",
    "# проверяем, остались ли в таблице пропуски\n",
    "df.info()"
   ]
  },
  {
   "cell_type": "markdown",
   "metadata": {},
   "source": [
    "Пропущенных значений в датафрейме не осталось. Подведём промежуточный итог."
   ]
  },
  {
   "cell_type": "markdown",
   "metadata": {},
   "source": [
    "**Вывод**"
   ]
  },
  {
   "cell_type": "markdown",
   "metadata": {},
   "source": [
    "В предоставленных данных обнаружены пропущенные значения в столбцах `days_employed` (трудовой стаж в днях) и `total_income` (ежемесячный доход).\n",
    "Пропуски неслучайны и могут быть заменены на 0 в обоих столбцах - у людей без трудового стажа нет дохода. В реальной ситуации было бы логично обратиться к источнику данных и уточнить, по возможности, причину пропусков. В учебном проекте, в контексте оценки кредитоспособности клиента отсутствие данных о стаже и доходе может быть приравнено к отсутствию стажа и дохода. \n",
    "\n",
    "Продолжим предварительную обработку данных и наведём порядок в типах данных."
   ]
  },
  {
   "cell_type": "markdown",
   "metadata": {},
   "source": [
    "### Замена типа данных"
   ]
  },
  {
   "cell_type": "markdown",
   "metadata": {},
   "source": [
    "После избавления от значений NaN в столбцах `days_employed` (трудовой стаж в днях) и `total_income` (ежемесячный доход) можно изменить тип данных в этих столбцах - больше нет необходимости хранить \"вещественный\" NaN, а избыточная точность в числе знаков после запятой только затрудняет анализ.\n",
    "\n",
    "Чтобы выбрать подходящий тип данных для каждого из столбцов, проверим, как распределены в них значения."
   ]
  },
  {
   "cell_type": "code",
   "execution_count": 9,
   "metadata": {},
   "outputs": [
    {
     "name": "stdout",
     "output_type": "stream",
     "text": [
      "Минимальное значение трудового стажа: -18388.949900568383 дней\n",
      "Максимальное значение трудового стажа: 401755.40047533 дней\n",
      "Минимальное значение ежемесячного дохода: 0.0 рублей\n",
      "Максимальное значение ежемесячного дохода: 2265604.028722744 рублей\n"
     ]
    }
   ],
   "source": [
    "print(f\"Минимальное значение трудового стажа: {df['days_employed'].min()} дней\")\n",
    "print(f\"Максимальное значение трудового стажа: {df['days_employed'].max()} дней\")\n",
    "\n",
    "print(f\"Минимальное значение ежемесячного дохода: {df['total_income'].min()} рублей\")\n",
    "print(f\"Максимальное значение ежемесячного дохода: {df['total_income'].max()} рублей\")"
   ]
  },
  {
   "cell_type": "markdown",
   "metadata": {},
   "source": [
    "Проверка максимальных и минимальных значений напомнила о том, что необходимо навести порядок с трудовым стажем - отрицательным он быть не может, равно как не может превышать разумную продолжительность жизни. Прежде чем заменить отрицательные значения в столбце проверим, сколько их и какому ежемесячному доходу они соответствуют."
   ]
  },
  {
   "cell_type": "code",
   "execution_count": 10,
   "metadata": {},
   "outputs": [
    {
     "name": "stdout",
     "output_type": "stream",
     "text": [
      "В таблице 15906 отрицательных значений трудового стажа.\n"
     ]
    },
    {
     "data": {
      "text/html": [
       "<div>\n",
       "<style scoped>\n",
       "    .dataframe tbody tr th:only-of-type {\n",
       "        vertical-align: middle;\n",
       "    }\n",
       "\n",
       "    .dataframe tbody tr th {\n",
       "        vertical-align: top;\n",
       "    }\n",
       "\n",
       "    .dataframe thead th {\n",
       "        text-align: right;\n",
       "    }\n",
       "</style>\n",
       "<table border=\"1\" class=\"dataframe\">\n",
       "  <thead>\n",
       "    <tr style=\"text-align: right;\">\n",
       "      <th></th>\n",
       "      <th>days_employed</th>\n",
       "      <th>total_income</th>\n",
       "    </tr>\n",
       "  </thead>\n",
       "  <tbody>\n",
       "    <tr>\n",
       "      <td>0</td>\n",
       "      <td>-8437.673028</td>\n",
       "      <td>253875.639453</td>\n",
       "    </tr>\n",
       "    <tr>\n",
       "      <td>1</td>\n",
       "      <td>-4024.803754</td>\n",
       "      <td>112080.014102</td>\n",
       "    </tr>\n",
       "    <tr>\n",
       "      <td>2</td>\n",
       "      <td>-5623.422610</td>\n",
       "      <td>145885.952297</td>\n",
       "    </tr>\n",
       "    <tr>\n",
       "      <td>3</td>\n",
       "      <td>-4124.747207</td>\n",
       "      <td>267628.550329</td>\n",
       "    </tr>\n",
       "    <tr>\n",
       "      <td>5</td>\n",
       "      <td>-926.185831</td>\n",
       "      <td>255763.565419</td>\n",
       "    </tr>\n",
       "    <tr>\n",
       "      <td>...</td>\n",
       "      <td>...</td>\n",
       "      <td>...</td>\n",
       "    </tr>\n",
       "    <tr>\n",
       "      <td>21519</td>\n",
       "      <td>-2351.431934</td>\n",
       "      <td>115949.039788</td>\n",
       "    </tr>\n",
       "    <tr>\n",
       "      <td>21520</td>\n",
       "      <td>-4529.316663</td>\n",
       "      <td>224791.862382</td>\n",
       "    </tr>\n",
       "    <tr>\n",
       "      <td>21522</td>\n",
       "      <td>-2113.346888</td>\n",
       "      <td>89672.561153</td>\n",
       "    </tr>\n",
       "    <tr>\n",
       "      <td>21523</td>\n",
       "      <td>-3112.481705</td>\n",
       "      <td>244093.050500</td>\n",
       "    </tr>\n",
       "    <tr>\n",
       "      <td>21524</td>\n",
       "      <td>-1984.507589</td>\n",
       "      <td>82047.418899</td>\n",
       "    </tr>\n",
       "  </tbody>\n",
       "</table>\n",
       "<p>15906 rows × 2 columns</p>\n",
       "</div>"
      ],
      "text/plain": [
       "       days_employed   total_income\n",
       "0       -8437.673028  253875.639453\n",
       "1       -4024.803754  112080.014102\n",
       "2       -5623.422610  145885.952297\n",
       "3       -4124.747207  267628.550329\n",
       "5        -926.185831  255763.565419\n",
       "...              ...            ...\n",
       "21519   -2351.431934  115949.039788\n",
       "21520   -4529.316663  224791.862382\n",
       "21522   -2113.346888   89672.561153\n",
       "21523   -3112.481705  244093.050500\n",
       "21524   -1984.507589   82047.418899\n",
       "\n",
       "[15906 rows x 2 columns]"
      ]
     },
     "metadata": {},
     "output_type": "display_data"
    }
   ],
   "source": [
    "print(f\"В таблице {df[df['days_employed'] < 0]['days_employed'].count()} отрицательных значений трудового стажа.\")\n",
    "display(df[df['days_employed'] < 0][['days_employed', 'total_income']])"
   ]
  },
  {
   "cell_type": "markdown",
   "metadata": {},
   "source": [
    "Отрицательных значений стажа в днях много - при этом, им соответствуют ненулевые значения дохода.\n",
    "Установить природу ошибки затруднительно. Учитывая количество строк с отрицательными значениями стажа - разумно предположить ошибку при выгрузке данных. Проверим дополнительно минимальное положительное и максимальное отрицательное значение стажа."
   ]
  },
  {
   "cell_type": "code",
   "execution_count": 11,
   "metadata": {},
   "outputs": [
    {
     "name": "stdout",
     "output_type": "stream",
     "text": [
      "328728.72060451825\n",
      "-24.14163324048118\n"
     ]
    }
   ],
   "source": [
    "print(df[df['days_employed']>0]['days_employed'].min())\n",
    "print(df[df['days_employed']<0]['days_employed'].max())"
   ]
  },
  {
   "cell_type": "markdown",
   "metadata": {},
   "source": [
    "Проверка показала, что в переменной `days_employed` нет значений по модулю меньших 24 - что равняется одному дню. Гипотеза об ошибочном представлении данных в часах подтверждается.\n",
    "\n",
    "Можем внести необходимые коррективы: избавиться от отрицательных значений, привести значения к заявленному виду (дням) и изменить тип данных в переменных на целые числа."
   ]
  },
  {
   "cell_type": "code",
   "execution_count": 12,
   "metadata": {},
   "outputs": [
    {
     "name": "stdout",
     "output_type": "stream",
     "text": [
      "<class 'pandas.core.frame.DataFrame'>\n",
      "RangeIndex: 21525 entries, 0 to 21524\n",
      "Data columns (total 12 columns):\n",
      "children            21525 non-null int64\n",
      "days_employed       21525 non-null int64\n",
      "dob_years           21525 non-null int64\n",
      "education           21525 non-null object\n",
      "education_id        21525 non-null int64\n",
      "family_status       21525 non-null object\n",
      "family_status_id    21525 non-null int64\n",
      "gender              21525 non-null object\n",
      "income_type         21525 non-null object\n",
      "debt                21525 non-null int64\n",
      "total_income        21525 non-null int64\n",
      "purpose             21525 non-null object\n",
      "dtypes: int64(7), object(5)\n",
      "memory usage: 2.0+ MB\n"
     ]
    },
    {
     "data": {
      "text/html": [
       "<div>\n",
       "<style scoped>\n",
       "    .dataframe tbody tr th:only-of-type {\n",
       "        vertical-align: middle;\n",
       "    }\n",
       "\n",
       "    .dataframe tbody tr th {\n",
       "        vertical-align: top;\n",
       "    }\n",
       "\n",
       "    .dataframe thead th {\n",
       "        text-align: right;\n",
       "    }\n",
       "</style>\n",
       "<table border=\"1\" class=\"dataframe\">\n",
       "  <thead>\n",
       "    <tr style=\"text-align: right;\">\n",
       "      <th></th>\n",
       "      <th>children</th>\n",
       "      <th>days_employed</th>\n",
       "      <th>dob_years</th>\n",
       "      <th>education</th>\n",
       "      <th>education_id</th>\n",
       "      <th>family_status</th>\n",
       "      <th>family_status_id</th>\n",
       "      <th>gender</th>\n",
       "      <th>income_type</th>\n",
       "      <th>debt</th>\n",
       "      <th>total_income</th>\n",
       "      <th>purpose</th>\n",
       "    </tr>\n",
       "  </thead>\n",
       "  <tbody>\n",
       "    <tr>\n",
       "      <td>0</td>\n",
       "      <td>1</td>\n",
       "      <td>351</td>\n",
       "      <td>42</td>\n",
       "      <td>высшее</td>\n",
       "      <td>0</td>\n",
       "      <td>женат / замужем</td>\n",
       "      <td>0</td>\n",
       "      <td>F</td>\n",
       "      <td>сотрудник</td>\n",
       "      <td>0</td>\n",
       "      <td>253875</td>\n",
       "      <td>покупка жилья</td>\n",
       "    </tr>\n",
       "    <tr>\n",
       "      <td>1</td>\n",
       "      <td>1</td>\n",
       "      <td>167</td>\n",
       "      <td>36</td>\n",
       "      <td>среднее</td>\n",
       "      <td>1</td>\n",
       "      <td>женат / замужем</td>\n",
       "      <td>0</td>\n",
       "      <td>F</td>\n",
       "      <td>сотрудник</td>\n",
       "      <td>0</td>\n",
       "      <td>112080</td>\n",
       "      <td>приобретение автомобиля</td>\n",
       "    </tr>\n",
       "    <tr>\n",
       "      <td>2</td>\n",
       "      <td>0</td>\n",
       "      <td>234</td>\n",
       "      <td>33</td>\n",
       "      <td>Среднее</td>\n",
       "      <td>1</td>\n",
       "      <td>женат / замужем</td>\n",
       "      <td>0</td>\n",
       "      <td>M</td>\n",
       "      <td>сотрудник</td>\n",
       "      <td>0</td>\n",
       "      <td>145885</td>\n",
       "      <td>покупка жилья</td>\n",
       "    </tr>\n",
       "    <tr>\n",
       "      <td>3</td>\n",
       "      <td>3</td>\n",
       "      <td>171</td>\n",
       "      <td>32</td>\n",
       "      <td>среднее</td>\n",
       "      <td>1</td>\n",
       "      <td>женат / замужем</td>\n",
       "      <td>0</td>\n",
       "      <td>M</td>\n",
       "      <td>сотрудник</td>\n",
       "      <td>0</td>\n",
       "      <td>267628</td>\n",
       "      <td>дополнительное образование</td>\n",
       "    </tr>\n",
       "    <tr>\n",
       "      <td>4</td>\n",
       "      <td>0</td>\n",
       "      <td>14177</td>\n",
       "      <td>53</td>\n",
       "      <td>среднее</td>\n",
       "      <td>1</td>\n",
       "      <td>гражданский брак</td>\n",
       "      <td>1</td>\n",
       "      <td>F</td>\n",
       "      <td>пенсионер</td>\n",
       "      <td>0</td>\n",
       "      <td>158616</td>\n",
       "      <td>сыграть свадьбу</td>\n",
       "    </tr>\n",
       "  </tbody>\n",
       "</table>\n",
       "</div>"
      ],
      "text/plain": [
       "   children  days_employed  dob_years education  education_id  \\\n",
       "0         1            351         42    высшее             0   \n",
       "1         1            167         36   среднее             1   \n",
       "2         0            234         33   Среднее             1   \n",
       "3         3            171         32   среднее             1   \n",
       "4         0          14177         53   среднее             1   \n",
       "\n",
       "      family_status  family_status_id gender income_type  debt  total_income  \\\n",
       "0   женат / замужем                 0      F   сотрудник     0        253875   \n",
       "1   женат / замужем                 0      F   сотрудник     0        112080   \n",
       "2   женат / замужем                 0      M   сотрудник     0        145885   \n",
       "3   женат / замужем                 0      M   сотрудник     0        267628   \n",
       "4  гражданский брак                 1      F   пенсионер     0        158616   \n",
       "\n",
       "                      purpose  \n",
       "0               покупка жилья  \n",
       "1     приобретение автомобиля  \n",
       "2               покупка жилья  \n",
       "3  дополнительное образование  \n",
       "4             сыграть свадьбу  "
      ]
     },
     "metadata": {},
     "output_type": "display_data"
    }
   ],
   "source": [
    "# создадим функцию, которая приведёт значение в колонке к положительному количеству дней\n",
    "def normalize_data(value):\n",
    "    if value < 0:\n",
    "        return value / (-24)\n",
    "    return value / 24\n",
    "\n",
    "df['days_employed'] = df['days_employed'].apply(normalize_data) # применим функцию ко всем значениям колонки `days_employed`\n",
    "\n",
    "# преобразуем значения в столбцах `days_employed` и `total_income` в целые числа методом astype, дающим возможность указать\n",
    "# конкретный тип переменной на выходе\n",
    "df[['days_employed', 'total_income']] = df[['days_employed', 'total_income']].astype('int')\n",
    "\n",
    "# проверим, сработало ли наше решение - снова обратимся к информации о df и посмотрим на первые строки таблицы\n",
    "df.info()\n",
    "display(df.head())"
   ]
  },
  {
   "cell_type": "markdown",
   "metadata": {},
   "source": [
    "**Вывод**"
   ]
  },
  {
   "cell_type": "markdown",
   "metadata": {},
   "source": [
    "Обнаружили две переменные, в которых данные были представленны в виде вещественных чисел: `days_employed` и `total_income`.\n",
    "Преобразовали значения в целые числа методом `astype()`, дающим возможность указать необходимый конкретный тип значения на выходе.\n",
    "Дополнительно обработали значения в переменной `days_employed` - избавились от отрицательных значений и привели к заявленному содержанию - дням вместо часов.\n",
    "\n",
    "Можем приступить к обработке дубликатов."
   ]
  },
  {
   "cell_type": "markdown",
   "metadata": {},
   "source": [
    "### Обработка дубликатов"
   ]
  },
  {
   "cell_type": "markdown",
   "metadata": {},
   "source": [
    "В предоставленной базе нет уникальных идентификаторов клиентов. Проверить дублирующиеся строки в этих условиях непросто. \n",
    "В любом случе, нашего внимания требует переменная `education` - в ней очевидно наличие разных регистров для записи одной и той же информации.\n",
    "\n",
    "Также проверим остальные переменные типа object, хранящие строковые данные - `family_status` и `income_type`, на всякий случай взглянем на значения в столбце `gender`. Столбец `purpose` потребует дополнительной обработки."
   ]
  },
  {
   "cell_type": "markdown",
   "metadata": {},
   "source": [
    "Начнём с переменной `education` - приведём значения к одному регистру и проверим, какие значения `education` каким значения `education_id` соответствуют."
   ]
  },
  {
   "cell_type": "code",
   "execution_count": 13,
   "metadata": {},
   "outputs": [
    {
     "name": "stdout",
     "output_type": "stream",
     "text": [
      "education_id\n",
      "0                 [высшее]\n",
      "1                [среднее]\n",
      "2    [неоконченное высшее]\n",
      "3              [начальное]\n",
      "4         [ученая степень]\n",
      "Name: education, dtype: object\n"
     ]
    }
   ],
   "source": [
    "df['education'] = df['education'].str.lower()\n",
    "\n",
    "print(df.groupby('education_id')['education'].unique())"
   ]
  },
  {
   "cell_type": "markdown",
   "metadata": {},
   "source": [
    "После обработки каждому значению `education_id` соответствует ровно одно значение `education`. Можно перейти к остальным столбцам."
   ]
  },
  {
   "cell_type": "code",
   "execution_count": 14,
   "metadata": {},
   "outputs": [
    {
     "name": "stdout",
     "output_type": "stream",
     "text": [
      "Уникальные значения в столбце family_status: ['женат / замужем' 'гражданский брак' 'вдовец / вдова' 'в разводе'\n",
      " 'Не женат / не замужем']\n",
      "\n",
      "Уникальные значения в столбце income_type: ['сотрудник' 'пенсионер' 'компаньон' 'госслужащий' 'безработный'\n",
      " 'предприниматель' 'студент' 'в декрете']\n",
      "\n",
      "Уникальные значения в столбце gender: ['F' 'M' 'XNA']\n",
      "\n"
     ]
    }
   ],
   "source": [
    "for column in ['family_status', 'income_type', 'gender']:\n",
    "    print(f\"Уникальные значения в столбце {column}: {df[column].unique()}\\n\")"
   ]
  },
  {
   "cell_type": "markdown",
   "metadata": {},
   "source": [
    "В столбцах `family_status` и `income_type` скрытых дубликатов не обнаружено. В столбце `gender` присутствует значение **XNA** - проверим, сколько таких строк и чем они отличаются от остальных."
   ]
  },
  {
   "cell_type": "code",
   "execution_count": 15,
   "metadata": {},
   "outputs": [
    {
     "data": {
      "text/html": [
       "<div>\n",
       "<style scoped>\n",
       "    .dataframe tbody tr th:only-of-type {\n",
       "        vertical-align: middle;\n",
       "    }\n",
       "\n",
       "    .dataframe tbody tr th {\n",
       "        vertical-align: top;\n",
       "    }\n",
       "\n",
       "    .dataframe thead th {\n",
       "        text-align: right;\n",
       "    }\n",
       "</style>\n",
       "<table border=\"1\" class=\"dataframe\">\n",
       "  <thead>\n",
       "    <tr style=\"text-align: right;\">\n",
       "      <th></th>\n",
       "      <th>children</th>\n",
       "      <th>days_employed</th>\n",
       "      <th>dob_years</th>\n",
       "      <th>education</th>\n",
       "      <th>education_id</th>\n",
       "      <th>family_status</th>\n",
       "      <th>family_status_id</th>\n",
       "      <th>gender</th>\n",
       "      <th>income_type</th>\n",
       "      <th>debt</th>\n",
       "      <th>total_income</th>\n",
       "      <th>purpose</th>\n",
       "    </tr>\n",
       "  </thead>\n",
       "  <tbody>\n",
       "    <tr>\n",
       "      <td>10701</td>\n",
       "      <td>0</td>\n",
       "      <td>98</td>\n",
       "      <td>24</td>\n",
       "      <td>неоконченное высшее</td>\n",
       "      <td>2</td>\n",
       "      <td>гражданский брак</td>\n",
       "      <td>1</td>\n",
       "      <td>XNA</td>\n",
       "      <td>компаньон</td>\n",
       "      <td>0</td>\n",
       "      <td>203905</td>\n",
       "      <td>покупка недвижимости</td>\n",
       "    </tr>\n",
       "  </tbody>\n",
       "</table>\n",
       "</div>"
      ],
      "text/plain": [
       "       children  days_employed  dob_years            education  education_id  \\\n",
       "10701         0             98         24  неоконченное высшее             2   \n",
       "\n",
       "          family_status  family_status_id gender income_type  debt  \\\n",
       "10701  гражданский брак                 1    XNA   компаньон     0   \n",
       "\n",
       "       total_income               purpose  \n",
       "10701        203905  покупка недвижимости  "
      ]
     },
     "metadata": {},
     "output_type": "display_data"
    }
   ],
   "source": [
    "display(df[df['gender'] == 'XNA'])"
   ]
  },
  {
   "cell_type": "markdown",
   "metadata": {},
   "source": [
    "Строка, в которой переменная `gender` принимает значение **XNA** в наборе данных одна - её можно исключить из анализа."
   ]
  },
  {
   "cell_type": "code",
   "execution_count": 16,
   "metadata": {},
   "outputs": [
    {
     "name": "stdout",
     "output_type": "stream",
     "text": [
      "<class 'pandas.core.frame.DataFrame'>\n",
      "Int64Index: 21524 entries, 0 to 21524\n",
      "Data columns (total 12 columns):\n",
      "children            21524 non-null int64\n",
      "days_employed       21524 non-null int64\n",
      "dob_years           21524 non-null int64\n",
      "education           21524 non-null object\n",
      "education_id        21524 non-null int64\n",
      "family_status       21524 non-null object\n",
      "family_status_id    21524 non-null int64\n",
      "gender              21524 non-null object\n",
      "income_type         21524 non-null object\n",
      "debt                21524 non-null int64\n",
      "total_income        21524 non-null int64\n",
      "purpose             21524 non-null object\n",
      "dtypes: int64(7), object(5)\n",
      "memory usage: 2.1+ MB\n"
     ]
    }
   ],
   "source": [
    "df = df[df['gender'] != 'XNA']\n",
    "df.info()"
   ]
  },
  {
   "cell_type": "markdown",
   "metadata": {},
   "source": [
    "Наконец, попробуем оценить существование проблем в переменной `purpose`. Подсчитаем количество уникальных значений и оценим, сколько ответов приходится на каждое из них."
   ]
  },
  {
   "cell_type": "code",
   "execution_count": 17,
   "metadata": {},
   "outputs": [
    {
     "name": "stdout",
     "output_type": "stream",
     "text": [
      "Всего уникальных значений в purpose: 38\n",
      "\n",
      "свадьба                                   797\n",
      "на проведение свадьбы                     777\n",
      "сыграть свадьбу                           774\n",
      "операции с недвижимостью                  676\n",
      "покупка коммерческой недвижимости         664\n",
      "операции с жильем                         653\n",
      "покупка жилья для сдачи                   653\n",
      "операции с коммерческой недвижимостью     651\n",
      "жилье                                     647\n",
      "покупка жилья                             647\n",
      "покупка жилья для семьи                   641\n",
      "строительство собственной недвижимости    635\n",
      "недвижимость                              634\n",
      "операции со своей недвижимостью           630\n",
      "строительство жилой недвижимости          626\n",
      "покупка недвижимости                      623\n",
      "покупка своего жилья                      620\n",
      "строительство недвижимости                620\n",
      "ремонт жилью                              612\n",
      "покупка жилой недвижимости                607\n",
      "на покупку своего автомобиля              505\n",
      "заняться высшим образованием              496\n",
      "автомобиль                                495\n",
      "сделка с подержанным автомобилем          489\n",
      "свой автомобиль                           480\n",
      "на покупку подержанного автомобиля        479\n",
      "автомобили                                478\n",
      "на покупку автомобиля                     472\n",
      "приобретение автомобиля                   462\n",
      "дополнительное образование                462\n",
      "сделка с автомобилем                      455\n",
      "высшее образование                        453\n",
      "получение дополнительного образования     447\n",
      "образование                               447\n",
      "получение образования                     443\n",
      "профильное образование                    436\n",
      "получение высшего образования             426\n",
      "заняться образованием                     412\n",
      "Name: purpose, dtype: int64\n"
     ]
    }
   ],
   "source": [
    "print(f\"Всего уникальных значений в purpose: {len(df['purpose'].unique())}\")\n",
    "print('')\n",
    "print(df['purpose'].value_counts())"
   ]
  },
  {
   "cell_type": "markdown",
   "metadata": {},
   "source": [
    "Очевидна необходимость дополнительной обработки значений в столбце `purpose` - для более подробного анализа необходимо провести лемматизацию."
   ]
  },
  {
   "cell_type": "markdown",
   "metadata": {},
   "source": [
    "**Вывод**"
   ]
  },
  {
   "cell_type": "markdown",
   "metadata": {},
   "source": [
    "В процессе обработки дубликатов обнаружили и исправили расхождение регистров записи в переменной `education`, нашли уникальное значение **XNA** (вероятный пропуск) в переменной `gender` - строку с этим значением отфильтровали.\n",
    "Подтвердили необходимость проведения лемматизации значений в столбце `purpose` для продолжения анализа и ответов на поставленные вопросы."
   ]
  },
  {
   "cell_type": "markdown",
   "metadata": {},
   "source": [
    "### Лемматизация"
   ]
  },
  {
   "cell_type": "markdown",
   "metadata": {},
   "source": [
    "Проведение лемматизации необходимо для того, чтобы сгруппировать значения в переменной `purpose`. На первый взгляд видны несколько общих позиций:\n",
    "* Получение образования\n",
    "* Покупка автомобиля\n",
    "* Сделки с недвижимостью (коммерческой и жилой - эти две позиции стоит разделять)\n",
    "* Свадьба\n",
    "\n",
    "Ручная обработка для перегруппировки 38 уникальных значений возможна, но при существовании автоматических инструментов неоправданна. \n",
    "Сохраним лемматизированные строки из переменной `purpose` для каждой строки в новую переменную `purpose_list`."
   ]
  },
  {
   "cell_type": "code",
   "execution_count": 18,
   "metadata": {},
   "outputs": [
    {
     "name": "stdout",
     "output_type": "stream",
     "text": [
      "0                             [покупка,  , жилье, \\n]\n",
      "1                   [приобретение,  , автомобиль, \\n]\n",
      "2                             [покупка,  , жилье, \\n]\n",
      "3                [дополнительный,  , образование, \\n]\n",
      "4                           [сыграть,  , свадьба, \\n]\n",
      "                             ...                     \n",
      "21520                  [операция,  , с,  , жилье, \\n]\n",
      "21521               [сделка,  , с,  , автомобиль, \\n]\n",
      "21522                              [недвижимость, \\n]\n",
      "21523    [на,  , покупка,  , свой,  , автомобиль, \\n]\n",
      "21524             [на,  , покупка,  , автомобиль, \\n]\n",
      "Name: purpose_list, Length: 21524, dtype: object\n"
     ]
    }
   ],
   "source": [
    "df_processed = df\n",
    "df_processed['purpose_list'] = df['purpose'].apply(m.lemmatize)\n",
    "print(df_processed['purpose_list'])"
   ]
  },
  {
   "cell_type": "markdown",
   "metadata": {},
   "source": [
    "Необходимо также оценить, сколько значений каждой леммы получилось в наборе данных.\n",
    "Для этого стоит составить список всех лемм, встречающихся в получившихся списках. "
   ]
  },
  {
   "cell_type": "code",
   "execution_count": 19,
   "metadata": {},
   "outputs": [
    {
     "name": "stdout",
     "output_type": "stream",
     "text": [
      "Counter({' ': 33676, '\\n': 21524, 'недвижимость': 6366, 'покупка': 5911, 'жилье': 4473, 'автомобиль': 4315, 'образование': 4022, 'с': 2924, 'операция': 2610, 'свадьба': 2348, 'свой': 2235, 'на': 2233, 'строительство': 1881, 'высокий': 1375, 'получение': 1316, 'коммерческий': 1315, 'для': 1294, 'жилой': 1233, 'сделка': 944, 'дополнительный': 909, 'заниматься': 908, 'проведение': 777, 'сыграть': 774, 'сдача': 653, 'семья': 641, 'собственный': 635, 'со': 630, 'ремонт': 612, 'подержанный': 489, 'подержать': 479, 'приобретение': 462, 'профильный': 436})\n"
     ]
    }
   ],
   "source": [
    "# небольшой чит - методу explode() нас ещё не учили, но он удобен - разворачивает список.\n",
    "print(Counter(df_processed['purpose_list'].explode()))"
   ]
  },
  {
   "cell_type": "markdown",
   "metadata": {},
   "source": [
    "Полученный список значений позволяет провести категоризацию данных."
   ]
  },
  {
   "cell_type": "markdown",
   "metadata": {},
   "source": [
    "**Вывод**"
   ]
  },
  {
   "cell_type": "markdown",
   "metadata": {},
   "source": [
    "Провели лемматизацию значений переменной `purpose`, на выходе для каждой строки получили список с леммами, хранящийся в переменной `purpose_list`. После категоризации данных исходны и новый столбцы можно будет удалить."
   ]
  },
  {
   "cell_type": "markdown",
   "metadata": {},
   "source": [
    "### Категоризация данных"
   ]
  },
  {
   "cell_type": "markdown",
   "metadata": {},
   "source": [
    "Сохранённые в `purpose_list` списки дают нам возможность категоризировать цели кредита. Для этого напишем функцию, которая на вход будет получать список `purpose_list` для каждой строки и на его основе присваивать ту или иную категорию.\n",
    "\n",
    "Определимся с набором категорий:\n",
    "* Образование\n",
    "* Автомобиль\n",
    "* Свадьба\n",
    "* Ремонт (жилья)\n",
    "* Жилая недвижимость\n",
    "* Коммерческая и другая недвижимость\n",
    "\n",
    "Номера категорий определим на отрезке [1:6].\n",
    "\n",
    "Предусмотрим также значение для непредусмотренных случаев - **Other**, такому значению будет соответствовать NaN для облегчения оценки качества категоризации."
   ]
  },
  {
   "cell_type": "code",
   "execution_count": 20,
   "metadata": {},
   "outputs": [
    {
     "name": "stdout",
     "output_type": "stream",
     "text": [
      "коммерческая и другая недвижимость    5133\n",
      "жилая недвижимость                    5094\n",
      "автомобиль                            4315\n",
      "образование                           4022\n",
      "свадьба                               2348\n",
      "ремонт                                 612\n",
      "Name: purpose_category, dtype: int64\n"
     ]
    }
   ],
   "source": [
    "def categorize(row):\n",
    "    try:\n",
    "        if 'образование' in row['purpose_list']:\n",
    "            return 'образование'\n",
    "        if 'автомобиль' in row['purpose_list']:\n",
    "            return 'автомобиль'\n",
    "        if 'свадьба' in row['purpose_list']:\n",
    "            return 'свадьба'\n",
    "        if 'ремонт' in row['purpose_list']:\n",
    "            return 'ремонт'\n",
    "        if 'жилье' in row['purpose_list'] or 'недвижимость' in row['purpose_list']:\n",
    "            if 'жилье' in row['purpose_list'] or 'жилой' in row['purpose_list']:\n",
    "                return 'жилая недвижимость'\n",
    "            return 'коммерческая и другая недвижимость'\n",
    "\n",
    "    except:\n",
    "        return float('nan')\n",
    "    \n",
    "df_processed['purpose_category'] = df_processed.apply(categorize, axis = 1)\n",
    "print(df_processed['purpose_category'].value_counts())"
   ]
  },
  {
   "cell_type": "markdown",
   "metadata": {},
   "source": [
    "Присвоим получившимся категориям заранее определённые коды (в порядке их определения)."
   ]
  },
  {
   "cell_type": "code",
   "execution_count": 21,
   "metadata": {},
   "outputs": [
    {
     "name": "stdout",
     "output_type": "stream",
     "text": [
      "6    5133\n",
      "5    5094\n",
      "2    4315\n",
      "1    4022\n",
      "3    2348\n",
      "4     612\n",
      "Name: purpose_id, dtype: int64\n"
     ]
    }
   ],
   "source": [
    "def encode(row):\n",
    "    if 'образование' in row['purpose_category']:\n",
    "        return 1\n",
    "    if 'автомобиль' in row['purpose_category']:\n",
    "        return 2\n",
    "    if 'свадьба' in row['purpose_category']:\n",
    "        return 3\n",
    "    if 'ремонт' in row['purpose_category']:\n",
    "        return 4\n",
    "    if 'жилая недвижимость' in row['purpose_category']:\n",
    "        return 5\n",
    "    if 'коммерческая и другая недвижимость' in row['purpose_category']:\n",
    "        return 6\n",
    "    return float('nan')\n",
    "\n",
    "df_processed['purpose_id'] = df_processed.apply(encode, axis = 1)\n",
    "df_processed.drop(labels = ['purpose', 'purpose_list'], axis = 1)\n",
    "print(df_processed['purpose_id'].value_counts())"
   ]
  },
  {
   "cell_type": "markdown",
   "metadata": {},
   "source": [
    "Исходя из вопросов, поставленных в исследовании, категоризируем также переменную `children` - в исходном виде в переменной сохранено количество детей, а нас интересует сам факт их наличия."
   ]
  },
  {
   "cell_type": "code",
   "execution_count": 22,
   "metadata": {},
   "outputs": [
    {
     "name": "stdout",
     "output_type": "stream",
     "text": [
      "not exist    14195\n",
      "exist         7329\n",
      "Name: children_exist, dtype: int64\n"
     ]
    }
   ],
   "source": [
    "def children_presence(row):\n",
    "    try:\n",
    "        if row['children'] > 0:\n",
    "            return 'exist'\n",
    "        return 'not exist'\n",
    "    except:\n",
    "        return float('nan')\n",
    "df_processed['children_exist'] = df_processed.apply(children_presence, axis = 1)\n",
    "print(df_processed['children_exist'].value_counts())"
   ]
  },
  {
   "cell_type": "markdown",
   "metadata": {},
   "source": [
    "Также нам необходимо категоризировать значения уровня дохода, чтобы ответить на вопрос о влиянии дохода на возврат кредита в срок. Для начала оценим разброс значений в столбце - проверим минимальное отличное от нуля значение, медиану, среднее и максимум."
   ]
  },
  {
   "cell_type": "code",
   "execution_count": 23,
   "metadata": {},
   "outputs": [
    {
     "name": "stdout",
     "output_type": "stream",
     "text": [
      "Минимальное значение ненулевого дохода:  20667\n",
      "Медианное значение ненулевого дохода:  145011.0\n",
      "Среднее значение ненулевого дохода:  167419.91627906976\n",
      "Максимальное значение ненулевого дохода:  2265604\n"
     ]
    }
   ],
   "source": [
    "print('Минимальное значение ненулевого дохода: ', df_processed[df_processed['total_income'] > 0]['total_income'].min())\n",
    "print('Медианное значение ненулевого дохода: ', df_processed[df_processed['total_income'] > 0]['total_income'].sort_values().median())\n",
    "print('Среднее значение ненулевого дохода: ', df_processed[df_processed['total_income'] > 0]['total_income'].mean())\n",
    "print('Максимальное значение ненулевого дохода: ', df_processed[df_processed['total_income'] > 0]['total_income'].max())"
   ]
  },
  {
   "cell_type": "markdown",
   "metadata": {},
   "source": [
    "Среднее значение ненулевого дохода несколько завышено - но надо сказать, что мы избавились от нулевых значений при его расчёте, а также отметить, что для среднего значения дохода это довольно стандартная ситуация.\n",
    "\n",
    "Воспользуемся этими четырьмя значениями, чтобы создать категориальную переменную. Определим следующие категории:\n",
    "* `total_income` = 0 - нет дохода или данные отсутствуют\n",
    "* 0 < `total_income` < медианного значения - низкий доход\n",
    "* Медианное значение <= `total_income` <= среднее значение - средний доход\n",
    "* `total income` > среднего значения - высокий доход"
   ]
  },
  {
   "cell_type": "code",
   "execution_count": 24,
   "metadata": {},
   "outputs": [
    {
     "data": {
      "text/html": [
       "<div>\n",
       "<style scoped>\n",
       "    .dataframe tbody tr th:only-of-type {\n",
       "        vertical-align: middle;\n",
       "    }\n",
       "\n",
       "    .dataframe tbody tr th {\n",
       "        vertical-align: top;\n",
       "    }\n",
       "\n",
       "    .dataframe thead th {\n",
       "        text-align: right;\n",
       "    }\n",
       "</style>\n",
       "<table border=\"1\" class=\"dataframe\">\n",
       "  <thead>\n",
       "    <tr style=\"text-align: right;\">\n",
       "      <th></th>\n",
       "      <th>total_income</th>\n",
       "      <th>income_category</th>\n",
       "    </tr>\n",
       "  </thead>\n",
       "  <tbody>\n",
       "    <tr>\n",
       "      <td>0</td>\n",
       "      <td>253875</td>\n",
       "      <td>Высокий доход</td>\n",
       "    </tr>\n",
       "    <tr>\n",
       "      <td>1</td>\n",
       "      <td>112080</td>\n",
       "      <td>Низкий доход</td>\n",
       "    </tr>\n",
       "    <tr>\n",
       "      <td>2</td>\n",
       "      <td>145885</td>\n",
       "      <td>Средний доход</td>\n",
       "    </tr>\n",
       "    <tr>\n",
       "      <td>3</td>\n",
       "      <td>267628</td>\n",
       "      <td>Высокий доход</td>\n",
       "    </tr>\n",
       "    <tr>\n",
       "      <td>4</td>\n",
       "      <td>158616</td>\n",
       "      <td>Средний доход</td>\n",
       "    </tr>\n",
       "    <tr>\n",
       "      <td>...</td>\n",
       "      <td>...</td>\n",
       "      <td>...</td>\n",
       "    </tr>\n",
       "    <tr>\n",
       "      <td>21520</td>\n",
       "      <td>224791</td>\n",
       "      <td>Высокий доход</td>\n",
       "    </tr>\n",
       "    <tr>\n",
       "      <td>21521</td>\n",
       "      <td>155999</td>\n",
       "      <td>Средний доход</td>\n",
       "    </tr>\n",
       "    <tr>\n",
       "      <td>21522</td>\n",
       "      <td>89672</td>\n",
       "      <td>Низкий доход</td>\n",
       "    </tr>\n",
       "    <tr>\n",
       "      <td>21523</td>\n",
       "      <td>244093</td>\n",
       "      <td>Высокий доход</td>\n",
       "    </tr>\n",
       "    <tr>\n",
       "      <td>21524</td>\n",
       "      <td>82047</td>\n",
       "      <td>Низкий доход</td>\n",
       "    </tr>\n",
       "  </tbody>\n",
       "</table>\n",
       "<p>21524 rows × 2 columns</p>\n",
       "</div>"
      ],
      "text/plain": [
       "       total_income income_category\n",
       "0            253875   Высокий доход\n",
       "1            112080    Низкий доход\n",
       "2            145885   Средний доход\n",
       "3            267628   Высокий доход\n",
       "4            158616   Средний доход\n",
       "...             ...             ...\n",
       "21520        224791   Высокий доход\n",
       "21521        155999   Средний доход\n",
       "21522         89672    Низкий доход\n",
       "21523        244093   Высокий доход\n",
       "21524         82047    Низкий доход\n",
       "\n",
       "[21524 rows x 2 columns]"
      ]
     },
     "metadata": {},
     "output_type": "display_data"
    }
   ],
   "source": [
    "income_median = df_processed[df_processed['total_income'] > 0]['total_income'].sort_values().median()\n",
    "income_mean = df_processed[df_processed['total_income'] > 0]['total_income'].mean()\n",
    "\n",
    "def income_cat(row):\n",
    "    if row['total_income'] == 0:\n",
    "        return 'Нулевой / нет данных'\n",
    "    elif row['total_income'] < income_median:\n",
    "        return 'Низкий доход'\n",
    "    elif row['total_income'] <= income_mean:\n",
    "        return 'Средний доход'\n",
    "    return 'Высокий доход'\n",
    "\n",
    "df_processed['income_category'] = df_processed.apply(income_cat, axis = 1)\n",
    "display(df_processed[['total_income', 'income_category']])"
   ]
  },
  {
   "cell_type": "markdown",
   "metadata": {},
   "source": [
    "**Вывод**"
   ]
  },
  {
   "cell_type": "markdown",
   "metadata": {},
   "source": [
    "Лемматизировали переменную `purpose`, выделили 6 категорий кредитов, сохранив их в `purpose_category`. Каждой категории присвоили номер и сохранили его в `purpose_id`.\n",
    "\n",
    "Категоризировали наличие детей и показатель дохода.\n",
    "\n",
    "Можно приступать к следующему шагу: ответить на вопросы исследования."
   ]
  },
  {
   "cell_type": "markdown",
   "metadata": {},
   "source": [
    "## Шаг 3. Ответьте на вопросы"
   ]
  },
  {
   "cell_type": "markdown",
   "metadata": {},
   "source": [
    "- Есть ли зависимость между наличием детей и возвратом кредита в срок?"
   ]
  },
  {
   "cell_type": "code",
   "execution_count": 25,
   "metadata": {},
   "outputs": [
    {
     "data": {
      "text/html": [
       "<div>\n",
       "<style scoped>\n",
       "    .dataframe tbody tr th:only-of-type {\n",
       "        vertical-align: middle;\n",
       "    }\n",
       "\n",
       "    .dataframe tbody tr th {\n",
       "        vertical-align: top;\n",
       "    }\n",
       "\n",
       "    .dataframe thead tr th {\n",
       "        text-align: left;\n",
       "    }\n",
       "\n",
       "    .dataframe thead tr:last-of-type th {\n",
       "        text-align: right;\n",
       "    }\n",
       "</style>\n",
       "<table border=\"1\" class=\"dataframe\">\n",
       "  <thead>\n",
       "    <tr>\n",
       "      <th></th>\n",
       "      <th>count</th>\n",
       "      <th>sum</th>\n",
       "      <th>ratio</th>\n",
       "    </tr>\n",
       "    <tr>\n",
       "      <th></th>\n",
       "      <th>debt</th>\n",
       "      <th>debt</th>\n",
       "      <th></th>\n",
       "    </tr>\n",
       "    <tr>\n",
       "      <th>children_exist</th>\n",
       "      <th></th>\n",
       "      <th></th>\n",
       "      <th></th>\n",
       "    </tr>\n",
       "  </thead>\n",
       "  <tbody>\n",
       "    <tr>\n",
       "      <td>exist</td>\n",
       "      <td>7329</td>\n",
       "      <td>677</td>\n",
       "      <td>0.092373</td>\n",
       "    </tr>\n",
       "    <tr>\n",
       "      <td>not exist</td>\n",
       "      <td>14195</td>\n",
       "      <td>1064</td>\n",
       "      <td>0.074956</td>\n",
       "    </tr>\n",
       "  </tbody>\n",
       "</table>\n",
       "</div>"
      ],
      "text/plain": [
       "                count   sum     ratio\n",
       "                 debt  debt          \n",
       "children_exist                       \n",
       "exist            7329   677  0.092373\n",
       "not exist       14195  1064  0.074956"
      ]
     },
     "metadata": {},
     "output_type": "display_data"
    }
   ],
   "source": [
    "children_pivot = df_processed.pivot_table(index = 'children_exist', values = 'debt', aggfunc = ['count', 'sum'])\n",
    "children_pivot['ratio'] = children_pivot['sum'] / children_pivot['count']\n",
    "display(children_pivot)"
   ]
  },
  {
   "cell_type": "markdown",
   "metadata": {},
   "source": [
    "**Вывод**"
   ]
  },
  {
   "cell_type": "markdown",
   "metadata": {},
   "source": [
    "Среди клиентов с детьми 9% имеют просроченный кредит, тогда как среди заёмщиков без детей доля просрочек составляет 7.5%. Зависимость между наличием детей и возвратом кредита в срок существует *(хорошо бы проверить результат z-тестом, например, но с учётом размера выборки 1.5 п.п. разницы на таком удалении от 50% вероятно будут значимы)*."
   ]
  },
  {
   "cell_type": "markdown",
   "metadata": {},
   "source": [
    "- Есть ли зависимость между семейным положением и возвратом кредита в срок?"
   ]
  },
  {
   "cell_type": "code",
   "execution_count": 26,
   "metadata": {},
   "outputs": [
    {
     "data": {
      "text/html": [
       "<div>\n",
       "<style scoped>\n",
       "    .dataframe tbody tr th:only-of-type {\n",
       "        vertical-align: middle;\n",
       "    }\n",
       "\n",
       "    .dataframe tbody tr th {\n",
       "        vertical-align: top;\n",
       "    }\n",
       "\n",
       "    .dataframe thead th {\n",
       "        text-align: right;\n",
       "    }\n",
       "</style>\n",
       "<table border=\"1\" class=\"dataframe\">\n",
       "  <thead>\n",
       "    <tr style=\"text-align: right;\">\n",
       "      <th></th>\n",
       "      <th>debt</th>\n",
       "    </tr>\n",
       "    <tr>\n",
       "      <th>family_status</th>\n",
       "      <th></th>\n",
       "    </tr>\n",
       "  </thead>\n",
       "  <tbody>\n",
       "    <tr>\n",
       "      <td>Не женат / не замужем</td>\n",
       "      <td>0.097405</td>\n",
       "    </tr>\n",
       "    <tr>\n",
       "      <td>в разводе</td>\n",
       "      <td>0.071130</td>\n",
       "    </tr>\n",
       "    <tr>\n",
       "      <td>вдовец / вдова</td>\n",
       "      <td>0.065625</td>\n",
       "    </tr>\n",
       "    <tr>\n",
       "      <td>гражданский брак</td>\n",
       "      <td>0.092912</td>\n",
       "    </tr>\n",
       "    <tr>\n",
       "      <td>женат / замужем</td>\n",
       "      <td>0.075202</td>\n",
       "    </tr>\n",
       "  </tbody>\n",
       "</table>\n",
       "</div>"
      ],
      "text/plain": [
       "                           debt\n",
       "family_status                  \n",
       "Не женат / не замужем  0.097405\n",
       "в разводе              0.071130\n",
       "вдовец / вдова         0.065625\n",
       "гражданский брак       0.092912\n",
       "женат / замужем        0.075202"
      ]
     },
     "metadata": {},
     "output_type": "display_data"
    }
   ],
   "source": [
    "family_status_pivot = df_processed.pivot_table(index = 'family_status', values = 'debt', aggfunc = 'sum') \\\n",
    "                        / df_processed.pivot_table(index = 'family_status', values = 'debt', aggfunc = 'count')\n",
    "display(family_status_pivot)"
   ]
  },
  {
   "cell_type": "markdown",
   "metadata": {},
   "source": [
    "**Вывод**"
   ]
  },
  {
   "cell_type": "markdown",
   "metadata": {},
   "source": [
    "Наиболее высокий процент невозврата кредита в срок наблюдается у клиентов, не состоящих в браке или сожительствующих (*термин \"гражданский брак\" неудачный - он описывает собственно зарегистрированный в органах ЗАГС брак, в противоположность или дополнение церковному*). \n",
    "\n",
    "Среди разведённых и находящихся в браке доля должников по кредитам около 7%, а рекордсмены по возвратам - вдовцы и вдовы, здесь доля просроченных платежей составляет 6.5%.\n",
    "\n",
    "Зависимость между семейным положением и возвратом кредита в срок есть (*учтём здесь, что на возврат кредита в срок может влиять возраст заёмщика - с высокой долей вероятности, именно молодёжь не состоит в браке или сожительствует, тогда как в остальных группах средний возраст весьма вероятно выше*)."
   ]
  },
  {
   "cell_type": "markdown",
   "metadata": {},
   "source": [
    "- Есть ли зависимость между уровнем дохода и возвратом кредита в срок?"
   ]
  },
  {
   "cell_type": "code",
   "execution_count": 27,
   "metadata": {},
   "outputs": [
    {
     "data": {
      "text/html": [
       "<div>\n",
       "<style scoped>\n",
       "    .dataframe tbody tr th:only-of-type {\n",
       "        vertical-align: middle;\n",
       "    }\n",
       "\n",
       "    .dataframe tbody tr th {\n",
       "        vertical-align: top;\n",
       "    }\n",
       "\n",
       "    .dataframe thead th {\n",
       "        text-align: right;\n",
       "    }\n",
       "</style>\n",
       "<table border=\"1\" class=\"dataframe\">\n",
       "  <thead>\n",
       "    <tr style=\"text-align: right;\">\n",
       "      <th></th>\n",
       "      <th>debt</th>\n",
       "    </tr>\n",
       "    <tr>\n",
       "      <th>income_category</th>\n",
       "      <th></th>\n",
       "    </tr>\n",
       "  </thead>\n",
       "  <tbody>\n",
       "    <tr>\n",
       "      <td>Высокий доход</td>\n",
       "      <td>0.076160</td>\n",
       "    </tr>\n",
       "    <tr>\n",
       "      <td>Низкий доход</td>\n",
       "      <td>0.083101</td>\n",
       "    </tr>\n",
       "    <tr>\n",
       "      <td>Нулевой / нет данных</td>\n",
       "      <td>0.078197</td>\n",
       "    </tr>\n",
       "    <tr>\n",
       "      <td>Средний доход</td>\n",
       "      <td>0.089761</td>\n",
       "    </tr>\n",
       "  </tbody>\n",
       "</table>\n",
       "</div>"
      ],
      "text/plain": [
       "                          debt\n",
       "income_category               \n",
       "Высокий доход         0.076160\n",
       "Низкий доход          0.083101\n",
       "Нулевой / нет данных  0.078197\n",
       "Средний доход         0.089761"
      ]
     },
     "metadata": {},
     "output_type": "display_data"
    }
   ],
   "source": [
    "income_pivot = df_processed.pivot_table(index = 'income_category', values = 'debt', aggfunc = 'sum') \\\n",
    "                        / df_processed.pivot_table(index = 'income_category', values = 'debt', aggfunc = 'count')\n",
    "display(income_pivot)"
   ]
  },
  {
   "cell_type": "markdown",
   "metadata": {},
   "source": [
    "**Вывод**"
   ]
  },
  {
   "cell_type": "markdown",
   "metadata": {},
   "source": [
    "Согласно предоставленным данным, зависимость между доходом и возвратом кредита в срок есть, хотя и не очень значительная. Заёмщики с низким и средним доходом с несколько большей вероятностью имеют просроченный кредит.\n",
    "\n",
    "Любопытно, что заёмщики, о доходе которых данных нет в целом показыают сравнительно низкую долю кредитов, не возвращённых в срок - 7.8%. Лучше них выглядят только люди с высоким доходом - среди них доля просроченных кредитов - 7.6%."
   ]
  },
  {
   "cell_type": "markdown",
   "metadata": {},
   "source": [
    "- Как разные цели кредита влияют на его возврат в срок?"
   ]
  },
  {
   "cell_type": "code",
   "execution_count": 28,
   "metadata": {},
   "outputs": [
    {
     "data": {
      "text/html": [
       "<div>\n",
       "<style scoped>\n",
       "    .dataframe tbody tr th:only-of-type {\n",
       "        vertical-align: middle;\n",
       "    }\n",
       "\n",
       "    .dataframe tbody tr th {\n",
       "        vertical-align: top;\n",
       "    }\n",
       "\n",
       "    .dataframe thead th {\n",
       "        text-align: right;\n",
       "    }\n",
       "</style>\n",
       "<table border=\"1\" class=\"dataframe\">\n",
       "  <thead>\n",
       "    <tr style=\"text-align: right;\">\n",
       "      <th></th>\n",
       "      <th>debt</th>\n",
       "    </tr>\n",
       "    <tr>\n",
       "      <th>purpose_category</th>\n",
       "      <th></th>\n",
       "    </tr>\n",
       "  </thead>\n",
       "  <tbody>\n",
       "    <tr>\n",
       "      <td>автомобиль</td>\n",
       "      <td>0.093395</td>\n",
       "    </tr>\n",
       "    <tr>\n",
       "      <td>жилая недвижимость</td>\n",
       "      <td>0.071064</td>\n",
       "    </tr>\n",
       "    <tr>\n",
       "      <td>коммерческая и другая недвижимость</td>\n",
       "      <td>0.075005</td>\n",
       "    </tr>\n",
       "    <tr>\n",
       "      <td>образование</td>\n",
       "      <td>0.091994</td>\n",
       "    </tr>\n",
       "    <tr>\n",
       "      <td>ремонт</td>\n",
       "      <td>0.057190</td>\n",
       "    </tr>\n",
       "    <tr>\n",
       "      <td>свадьба</td>\n",
       "      <td>0.079216</td>\n",
       "    </tr>\n",
       "  </tbody>\n",
       "</table>\n",
       "</div>"
      ],
      "text/plain": [
       "                                        debt\n",
       "purpose_category                            \n",
       "автомобиль                          0.093395\n",
       "жилая недвижимость                  0.071064\n",
       "коммерческая и другая недвижимость  0.075005\n",
       "образование                         0.091994\n",
       "ремонт                              0.057190\n",
       "свадьба                             0.079216"
      ]
     },
     "metadata": {},
     "output_type": "display_data"
    }
   ],
   "source": [
    "purpose_pivot = df_processed.pivot_table(index = 'purpose_category', values = 'debt', aggfunc = 'sum') \\\n",
    "                        / df_processed.pivot_table(index = 'purpose_category', values = 'debt', aggfunc = 'count')\n",
    "display(purpose_pivot)"
   ]
  },
  {
   "cell_type": "markdown",
   "metadata": {},
   "source": [
    "**Вывод**"
   ]
  },
  {
   "cell_type": "markdown",
   "metadata": {},
   "source": [
    "Наилучший уровень возврата в срок у кредитов, выданных на ремонт - лишь 5.7% кредитов с этой целью просрочены. За ними следует жилая недвижимость (7.1%), а замыкает тройку лидеров коммерческая недвижимость (7.5%).\n",
    "\n",
    "Доля просроченных кредитов на свадьбу составляет 7.9% - мы уже знаем, что люди, состоящие в браке, более склонны платить вовремя.\n",
    "\n",
    "Антилидеры рейтинга - кредиты на автомобиль и образование. В обоих случаях доля просроченных кредитов превышает 9%. Здесь я радуюсь за себя - на обучение в Практикуме брать кредит не пришлось, а до получения прав ещё несколько месяцев. По крайней мере, в ближайшее время мне не грозит оказаться тем единственным должником из 11 заёмщиков. "
   ]
  },
  {
   "cell_type": "markdown",
   "metadata": {},
   "source": [
    "## Шаг 4. Общий вывод"
   ]
  },
  {
   "cell_type": "markdown",
   "metadata": {},
   "source": [
    "В ходе исследования надёжности заёмщиков мы провели предварительную обработку предоставленных данных и проверили наличие зависимости между некоторыми характеристиками заёмщиков (либо самих кредитов) и возвратом кредита в срок.\n",
    "\n",
    "По каждому показателю зависимость так или иначе обнаружена:\n",
    "* Невозврат кредита в срок более распространён среди тех заёмщиков, кто ещё не создал полноценную семью и либо сожительствует с партнёром, либо не состоит в постоянных отношениях.\n",
    "* При этом, дети в семье делают возврат кредита в срок более сложной задачей - доля просроченных кредитов среди заёмщиков с детьми выше, чем среди бездетных, на 1.5 процентных пункта.\n",
    "* Заёмщики с высоким доходом более склонны возвращать кредиты в срок в сравнение с заёмщиками со средними или низкими доходами. Любопытно, что для тех случаев, когда у банка нет данных о доходах, также наблюдается меньшая доля просроченных кредитов.\n",
    "* Самые безопасные для банка кредиты связаны с недвижимостью: кредиты взятые на ремонт, покупку жилья или коммерческой недвижимости (вероятно, в силу обеспечения этой самой недвижимостью) возвращаются лучше, чем кредиты на автомобиль или образование."
   ]
  }
 ],
 "metadata": {
  "kernelspec": {
   "display_name": "Python 3 (ipykernel)",
   "language": "python",
   "name": "python3"
  },
  "language_info": {
   "codemirror_mode": {
    "name": "ipython",
    "version": 3
   },
   "file_extension": ".py",
   "mimetype": "text/x-python",
   "name": "python",
   "nbconvert_exporter": "python",
   "pygments_lexer": "ipython3",
   "version": "3.8.12"
  },
  "toc": {
   "base_numbering": 1,
   "nav_menu": {
    "height": "291px",
    "width": "431px"
   },
   "number_sections": true,
   "sideBar": true,
   "skip_h1_title": true,
   "title_cell": "Table of Contents",
   "title_sidebar": "Contents",
   "toc_cell": false,
   "toc_position": {},
   "toc_section_display": true,
   "toc_window_display": false
  }
 },
 "nbformat": 4,
 "nbformat_minor": 4
}
