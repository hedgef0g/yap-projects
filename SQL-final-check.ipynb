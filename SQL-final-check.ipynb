{
 "cells": [
  {
   "cell_type": "markdown",
   "source": [
    "## Описание исследования\n",
    "\n",
    "* Преамбула: Коронавирус застал мир врасплох, изменив привычный порядок вещей. В свободное время жители городов больше не выходят на улицу, не посещают кафе и торговые центры. Зато стало больше времени для книг. Это заметили стартаперы — и бросились создавать приложения для тех, кто любит читать. Наша компания решила быть на волне и купила крупный сервис для чтения книг по подписке.\n",
    "\n",
    "* Цель: Сформулировать ценностное предложение для нового продукта - сервиса для чтения книг по подписке.\n",
    "\n",
    "* Задача: проанализировать полученную базу данных с информацией о книгах, издательствах и авторах, а также с пользовательскими обзорами книг.\n",
    "\n",
    "\n",
    "**Описание данных**\n",
    "\n",
    "Таблица `books` - содержит данные о книгах:\n",
    "* `book_id` — идентификатор книги;\n",
    "* `author_id` — идентификатор автора;\n",
    "* `title` — название книги;\n",
    "* `num_pages` — количество страниц;\n",
    "* `publication_date` — дата публикации книги;\n",
    "* `publisher_id` — идентификатор издателя.\n",
    "\n",
    "Таблица `authors` - содержит данные об авторах:\n",
    "* `author_id` — идентификатор автора;\n",
    "* `author` — имя автора.\n",
    "\n",
    "Таблица `publishers` - содержит данные об издательствах:\n",
    "* `SQL2publisher_id` — идентификатор издательства;\n",
    "* `publisher` — название издательства;\n",
    "\n",
    "Таблица `ratings` - содержит данные о пользовательских оценках книг:\n",
    "* `rating_id` — идентификатор оценки;\n",
    "* `book_id` — идентификатор книги;\n",
    "* `username` — имя пользователя, оставившего оценку;\n",
    "* `rating` — оценка книги.\n",
    "\n",
    "Таблица `reviews` - содержит данные о пользовательских обзорах на книги:\n",
    "* `review_id` — идентификатор обзора;\n",
    "* `book_id` — идентификатор книги;\n",
    "* `username` — имя пользователя, написавшего обзор;\n",
    "* `text` — текст обзора."
   ],
   "metadata": {
    "collapsed": false,
    "pycharm": {
     "name": "#%% md\n"
    }
   }
  },
  {
   "cell_type": "code",
   "execution_count": 1,
   "metadata": {
    "collapsed": true,
    "pycharm": {
     "name": "#%%\n"
    }
   },
   "outputs": [],
   "source": [
    "# импортируем библиотеки\n",
    "import pandas as pd\n",
    "from sqlalchemy import create_engine\n",
    "\n",
    "# устанавливаем параметры\n",
    "db_config = {'user': 'praktikum_student',  # имя пользователя\n",
    "             'pwd': 'Sdf4$2;d-d30pp',  # пароль\n",
    "             'host': 'rc1b-wcoijxj3yxfsf3fs.mdb.yandexcloud.net',\n",
    "             'port': 6432,  # порт подключения\n",
    "             'db': 'data-analyst-final-project-db'}  # название базы данных\n",
    "connection_string = 'postgresql://{}:{}@{}:{}/{}'.format(db_config['user'],\n",
    "                                                         db_config['pwd'],\n",
    "                                                         db_config['host'],\n",
    "                                                         db_config['port'],\n",
    "                                                         db_config['db'])\n",
    "# сохраняем коннектор\n",
    "engine = create_engine(connection_string, connect_args={'sslmode': 'require'})"
   ]
  },
  {
   "cell_type": "code",
   "execution_count": 2,
   "outputs": [
    {
     "name": "stdout",
     "output_type": "stream",
     "text": [
      "\n",
      "Обзор таблицы books\n"
     ]
    },
    {
     "data": {
      "text/plain": "   book_id  author_id                                              title  \\\n0        1        546                                       'Salem's Lot   \n1        2        465                 1 000 Places to See Before You Die   \n2        3        407  13 Little Blue Envelopes (Little Blue Envelope...   \n3        4         82  1491: New Revelations of the Americas Before C...   \n4        5        125                                               1776   \n5        6        257               1st to Die (Women's Murder Club  #1)   \n6        7        258               2nd Chance (Women's Murder Club  #2)   \n7        8        260              4th of July (Women's Murder Club  #4)   \n8        9        563                                   A Beautiful Mind   \n9       10        445                                 A Bend in the Road   \n\n   num_pages publication_date  publisher_id  \n0        594       2005-11-01            93  \n1        992       2003-05-22           336  \n2        322       2010-12-21           135  \n3        541       2006-10-10           309  \n4        386       2006-07-04           268  \n5        424       2005-05-20           116  \n6        400       2005-05-20           116  \n7        448       2006-06-01           318  \n8        461       2002-02-04           104  \n9        341       2005-04-01           116  ",
      "text/html": "<div>\n<style scoped>\n    .dataframe tbody tr th:only-of-type {\n        vertical-align: middle;\n    }\n\n    .dataframe tbody tr th {\n        vertical-align: top;\n    }\n\n    .dataframe thead th {\n        text-align: right;\n    }\n</style>\n<table border=\"1\" class=\"dataframe\">\n  <thead>\n    <tr style=\"text-align: right;\">\n      <th></th>\n      <th>book_id</th>\n      <th>author_id</th>\n      <th>title</th>\n      <th>num_pages</th>\n      <th>publication_date</th>\n      <th>publisher_id</th>\n    </tr>\n  </thead>\n  <tbody>\n    <tr>\n      <th>0</th>\n      <td>1</td>\n      <td>546</td>\n      <td>'Salem's Lot</td>\n      <td>594</td>\n      <td>2005-11-01</td>\n      <td>93</td>\n    </tr>\n    <tr>\n      <th>1</th>\n      <td>2</td>\n      <td>465</td>\n      <td>1 000 Places to See Before You Die</td>\n      <td>992</td>\n      <td>2003-05-22</td>\n      <td>336</td>\n    </tr>\n    <tr>\n      <th>2</th>\n      <td>3</td>\n      <td>407</td>\n      <td>13 Little Blue Envelopes (Little Blue Envelope...</td>\n      <td>322</td>\n      <td>2010-12-21</td>\n      <td>135</td>\n    </tr>\n    <tr>\n      <th>3</th>\n      <td>4</td>\n      <td>82</td>\n      <td>1491: New Revelations of the Americas Before C...</td>\n      <td>541</td>\n      <td>2006-10-10</td>\n      <td>309</td>\n    </tr>\n    <tr>\n      <th>4</th>\n      <td>5</td>\n      <td>125</td>\n      <td>1776</td>\n      <td>386</td>\n      <td>2006-07-04</td>\n      <td>268</td>\n    </tr>\n    <tr>\n      <th>5</th>\n      <td>6</td>\n      <td>257</td>\n      <td>1st to Die (Women's Murder Club  #1)</td>\n      <td>424</td>\n      <td>2005-05-20</td>\n      <td>116</td>\n    </tr>\n    <tr>\n      <th>6</th>\n      <td>7</td>\n      <td>258</td>\n      <td>2nd Chance (Women's Murder Club  #2)</td>\n      <td>400</td>\n      <td>2005-05-20</td>\n      <td>116</td>\n    </tr>\n    <tr>\n      <th>7</th>\n      <td>8</td>\n      <td>260</td>\n      <td>4th of July (Women's Murder Club  #4)</td>\n      <td>448</td>\n      <td>2006-06-01</td>\n      <td>318</td>\n    </tr>\n    <tr>\n      <th>8</th>\n      <td>9</td>\n      <td>563</td>\n      <td>A Beautiful Mind</td>\n      <td>461</td>\n      <td>2002-02-04</td>\n      <td>104</td>\n    </tr>\n    <tr>\n      <th>9</th>\n      <td>10</td>\n      <td>445</td>\n      <td>A Bend in the Road</td>\n      <td>341</td>\n      <td>2005-04-01</td>\n      <td>116</td>\n    </tr>\n  </tbody>\n</table>\n</div>"
     },
     "metadata": {},
     "output_type": "display_data"
    },
    {
     "name": "stdout",
     "output_type": "stream",
     "text": [
      "===============\n",
      "\n",
      "Обзор таблицы authors\n"
     ]
    },
    {
     "data": {
      "text/plain": "   author_id                                author\n0          1                            A.S. Byatt\n1          2        Aesop/Laura Harris/Laura Gibbs\n2          3                       Agatha Christie\n3          4                         Alan Brennert\n4          5              Alan Moore/David   Lloyd\n5          6                            Alan Paton\n6          7           Albert Camus/Justin O'Brien\n7          8                         Aldous Huxley\n8          9    Aldous Huxley/Christopher Hitchens\n9         10  Aleksandr Solzhenitsyn/H.T. Willetts",
      "text/html": "<div>\n<style scoped>\n    .dataframe tbody tr th:only-of-type {\n        vertical-align: middle;\n    }\n\n    .dataframe tbody tr th {\n        vertical-align: top;\n    }\n\n    .dataframe thead th {\n        text-align: right;\n    }\n</style>\n<table border=\"1\" class=\"dataframe\">\n  <thead>\n    <tr style=\"text-align: right;\">\n      <th></th>\n      <th>author_id</th>\n      <th>author</th>\n    </tr>\n  </thead>\n  <tbody>\n    <tr>\n      <th>0</th>\n      <td>1</td>\n      <td>A.S. Byatt</td>\n    </tr>\n    <tr>\n      <th>1</th>\n      <td>2</td>\n      <td>Aesop/Laura Harris/Laura Gibbs</td>\n    </tr>\n    <tr>\n      <th>2</th>\n      <td>3</td>\n      <td>Agatha Christie</td>\n    </tr>\n    <tr>\n      <th>3</th>\n      <td>4</td>\n      <td>Alan Brennert</td>\n    </tr>\n    <tr>\n      <th>4</th>\n      <td>5</td>\n      <td>Alan Moore/David   Lloyd</td>\n    </tr>\n    <tr>\n      <th>5</th>\n      <td>6</td>\n      <td>Alan Paton</td>\n    </tr>\n    <tr>\n      <th>6</th>\n      <td>7</td>\n      <td>Albert Camus/Justin O'Brien</td>\n    </tr>\n    <tr>\n      <th>7</th>\n      <td>8</td>\n      <td>Aldous Huxley</td>\n    </tr>\n    <tr>\n      <th>8</th>\n      <td>9</td>\n      <td>Aldous Huxley/Christopher Hitchens</td>\n    </tr>\n    <tr>\n      <th>9</th>\n      <td>10</td>\n      <td>Aleksandr Solzhenitsyn/H.T. Willetts</td>\n    </tr>\n  </tbody>\n</table>\n</div>"
     },
     "metadata": {},
     "output_type": "display_data"
    },
    {
     "name": "stdout",
     "output_type": "stream",
     "text": [
      "===============\n",
      "\n",
      "Обзор таблицы publishers\n"
     ]
    },
    {
     "data": {
      "text/plain": "   publisher_id                                publisher\n0             1                                      Ace\n1             2                                 Ace Book\n2             3                                Ace Books\n3             4                            Ace Hardcover\n4             5        Addison Wesley Publishing Company\n5             6                                  Aladdin\n6             7                       Aladdin Paperbacks\n7             8                             Albin Michel\n8             9                          Alfred A. Knopf\n9            10  Alfred A. Knopf Books for Young Readers",
      "text/html": "<div>\n<style scoped>\n    .dataframe tbody tr th:only-of-type {\n        vertical-align: middle;\n    }\n\n    .dataframe tbody tr th {\n        vertical-align: top;\n    }\n\n    .dataframe thead th {\n        text-align: right;\n    }\n</style>\n<table border=\"1\" class=\"dataframe\">\n  <thead>\n    <tr style=\"text-align: right;\">\n      <th></th>\n      <th>publisher_id</th>\n      <th>publisher</th>\n    </tr>\n  </thead>\n  <tbody>\n    <tr>\n      <th>0</th>\n      <td>1</td>\n      <td>Ace</td>\n    </tr>\n    <tr>\n      <th>1</th>\n      <td>2</td>\n      <td>Ace Book</td>\n    </tr>\n    <tr>\n      <th>2</th>\n      <td>3</td>\n      <td>Ace Books</td>\n    </tr>\n    <tr>\n      <th>3</th>\n      <td>4</td>\n      <td>Ace Hardcover</td>\n    </tr>\n    <tr>\n      <th>4</th>\n      <td>5</td>\n      <td>Addison Wesley Publishing Company</td>\n    </tr>\n    <tr>\n      <th>5</th>\n      <td>6</td>\n      <td>Aladdin</td>\n    </tr>\n    <tr>\n      <th>6</th>\n      <td>7</td>\n      <td>Aladdin Paperbacks</td>\n    </tr>\n    <tr>\n      <th>7</th>\n      <td>8</td>\n      <td>Albin Michel</td>\n    </tr>\n    <tr>\n      <th>8</th>\n      <td>9</td>\n      <td>Alfred A. Knopf</td>\n    </tr>\n    <tr>\n      <th>9</th>\n      <td>10</td>\n      <td>Alfred A. Knopf Books for Young Readers</td>\n    </tr>\n  </tbody>\n</table>\n</div>"
     },
     "metadata": {},
     "output_type": "display_data"
    },
    {
     "name": "stdout",
     "output_type": "stream",
     "text": [
      "===============\n",
      "\n",
      "Обзор таблицы ratings\n"
     ]
    },
    {
     "data": {
      "text/plain": "   rating_id  book_id       username  rating\n0          1        1     ryanfranco       4\n1          2        1  grantpatricia       2\n2          3        1   brandtandrea       5\n3          4        2       lorichen       3\n4          5        2    mariokeller       2\n5          6        3  johnsonamanda       4\n6          7        3    scotttamara       5\n7          8        3    lesliegibbs       5\n8          9        4    abbottjames       5\n9         10        4   valenciaanne       4",
      "text/html": "<div>\n<style scoped>\n    .dataframe tbody tr th:only-of-type {\n        vertical-align: middle;\n    }\n\n    .dataframe tbody tr th {\n        vertical-align: top;\n    }\n\n    .dataframe thead th {\n        text-align: right;\n    }\n</style>\n<table border=\"1\" class=\"dataframe\">\n  <thead>\n    <tr style=\"text-align: right;\">\n      <th></th>\n      <th>rating_id</th>\n      <th>book_id</th>\n      <th>username</th>\n      <th>rating</th>\n    </tr>\n  </thead>\n  <tbody>\n    <tr>\n      <th>0</th>\n      <td>1</td>\n      <td>1</td>\n      <td>ryanfranco</td>\n      <td>4</td>\n    </tr>\n    <tr>\n      <th>1</th>\n      <td>2</td>\n      <td>1</td>\n      <td>grantpatricia</td>\n      <td>2</td>\n    </tr>\n    <tr>\n      <th>2</th>\n      <td>3</td>\n      <td>1</td>\n      <td>brandtandrea</td>\n      <td>5</td>\n    </tr>\n    <tr>\n      <th>3</th>\n      <td>4</td>\n      <td>2</td>\n      <td>lorichen</td>\n      <td>3</td>\n    </tr>\n    <tr>\n      <th>4</th>\n      <td>5</td>\n      <td>2</td>\n      <td>mariokeller</td>\n      <td>2</td>\n    </tr>\n    <tr>\n      <th>5</th>\n      <td>6</td>\n      <td>3</td>\n      <td>johnsonamanda</td>\n      <td>4</td>\n    </tr>\n    <tr>\n      <th>6</th>\n      <td>7</td>\n      <td>3</td>\n      <td>scotttamara</td>\n      <td>5</td>\n    </tr>\n    <tr>\n      <th>7</th>\n      <td>8</td>\n      <td>3</td>\n      <td>lesliegibbs</td>\n      <td>5</td>\n    </tr>\n    <tr>\n      <th>8</th>\n      <td>9</td>\n      <td>4</td>\n      <td>abbottjames</td>\n      <td>5</td>\n    </tr>\n    <tr>\n      <th>9</th>\n      <td>10</td>\n      <td>4</td>\n      <td>valenciaanne</td>\n      <td>4</td>\n    </tr>\n  </tbody>\n</table>\n</div>"
     },
     "metadata": {},
     "output_type": "display_data"
    },
    {
     "name": "stdout",
     "output_type": "stream",
     "text": [
      "===============\n",
      "\n",
      "Обзор таблицы reviews\n"
     ]
    },
    {
     "data": {
      "text/plain": "   review_id  book_id       username  \\\n0          1        1   brandtandrea   \n1          2        1     ryanfranco   \n2          3        2       lorichen   \n3          4        3  johnsonamanda   \n4          5        3    scotttamara   \n5          6        3    lesliegibbs   \n6          7        4   valenciaanne   \n7          8        4    abbottjames   \n8          9        5        npowers   \n9         10        5        staylor   \n\n                                                text  \n0  Mention society tell send professor analysis. ...  \n1  Foot glass pretty audience hit themselves. Amo...  \n2  Listen treat keep worry. Miss husband tax but ...  \n3  Finally month interesting blue could nature cu...  \n4  Nation purpose heavy give wait song will. List...  \n5           Analysis no several cause international.  \n6  One there cost another. Say type save. With pe...  \n7  Within enough mother. There at system full rec...  \n8  Thank now focus realize economy focus fly. Ite...  \n9  Game push lot reduce where remember. Including...  ",
      "text/html": "<div>\n<style scoped>\n    .dataframe tbody tr th:only-of-type {\n        vertical-align: middle;\n    }\n\n    .dataframe tbody tr th {\n        vertical-align: top;\n    }\n\n    .dataframe thead th {\n        text-align: right;\n    }\n</style>\n<table border=\"1\" class=\"dataframe\">\n  <thead>\n    <tr style=\"text-align: right;\">\n      <th></th>\n      <th>review_id</th>\n      <th>book_id</th>\n      <th>username</th>\n      <th>text</th>\n    </tr>\n  </thead>\n  <tbody>\n    <tr>\n      <th>0</th>\n      <td>1</td>\n      <td>1</td>\n      <td>brandtandrea</td>\n      <td>Mention society tell send professor analysis. ...</td>\n    </tr>\n    <tr>\n      <th>1</th>\n      <td>2</td>\n      <td>1</td>\n      <td>ryanfranco</td>\n      <td>Foot glass pretty audience hit themselves. Amo...</td>\n    </tr>\n    <tr>\n      <th>2</th>\n      <td>3</td>\n      <td>2</td>\n      <td>lorichen</td>\n      <td>Listen treat keep worry. Miss husband tax but ...</td>\n    </tr>\n    <tr>\n      <th>3</th>\n      <td>4</td>\n      <td>3</td>\n      <td>johnsonamanda</td>\n      <td>Finally month interesting blue could nature cu...</td>\n    </tr>\n    <tr>\n      <th>4</th>\n      <td>5</td>\n      <td>3</td>\n      <td>scotttamara</td>\n      <td>Nation purpose heavy give wait song will. List...</td>\n    </tr>\n    <tr>\n      <th>5</th>\n      <td>6</td>\n      <td>3</td>\n      <td>lesliegibbs</td>\n      <td>Analysis no several cause international.</td>\n    </tr>\n    <tr>\n      <th>6</th>\n      <td>7</td>\n      <td>4</td>\n      <td>valenciaanne</td>\n      <td>One there cost another. Say type save. With pe...</td>\n    </tr>\n    <tr>\n      <th>7</th>\n      <td>8</td>\n      <td>4</td>\n      <td>abbottjames</td>\n      <td>Within enough mother. There at system full rec...</td>\n    </tr>\n    <tr>\n      <th>8</th>\n      <td>9</td>\n      <td>5</td>\n      <td>npowers</td>\n      <td>Thank now focus realize economy focus fly. Ite...</td>\n    </tr>\n    <tr>\n      <th>9</th>\n      <td>10</td>\n      <td>5</td>\n      <td>staylor</td>\n      <td>Game push lot reduce where remember. Including...</td>\n    </tr>\n  </tbody>\n</table>\n</div>"
     },
     "metadata": {},
     "output_type": "display_data"
    },
    {
     "name": "stdout",
     "output_type": "stream",
     "text": [
      "===============\n"
     ]
    }
   ],
   "source": [
    "# Выведем первые строки из каждой таблицы\n",
    "\n",
    "for table in ['books', 'authors', 'publishers', 'ratings', 'reviews']:\n",
    "    print(\"\")\n",
    "    query = f\"\"\"SELECT * FROM {table} LIMIT 10\"\"\"\n",
    "    print(f\"Обзор таблицы {table}\")\n",
    "    display(pd.io.sql.read_sql(query, con=engine))\n",
    "    print('=' * 15)"
   ],
   "metadata": {
    "collapsed": false,
    "pycharm": {
     "name": "#%%\n"
    }
   }
  },
  {
   "cell_type": "code",
   "execution_count": 3,
   "outputs": [
    {
     "data": {
      "text/plain": "   books_since_2000\n0               819",
      "text/html": "<div>\n<style scoped>\n    .dataframe tbody tr th:only-of-type {\n        vertical-align: middle;\n    }\n\n    .dataframe tbody tr th {\n        vertical-align: top;\n    }\n\n    .dataframe thead th {\n        text-align: right;\n    }\n</style>\n<table border=\"1\" class=\"dataframe\">\n  <thead>\n    <tr style=\"text-align: right;\">\n      <th></th>\n      <th>books_since_2000</th>\n    </tr>\n  </thead>\n  <tbody>\n    <tr>\n      <th>0</th>\n      <td>819</td>\n    </tr>\n  </tbody>\n</table>\n</div>"
     },
     "metadata": {},
     "output_type": "display_data"
    }
   ],
   "source": [
    "# Посчитайте, сколько книг вышло после 1 января 2000 года;\n",
    "\n",
    "query = \"\"\"SELECT COUNT(*) AS books_since_2000 FROM books WHERE publication_date > '2000-01-01'\"\"\"\n",
    "display(pd.io.sql.read_sql(query, con=engine))"
   ],
   "metadata": {
    "collapsed": false,
    "pycharm": {
     "name": "#%%\n"
    }
   }
  },
  {
   "cell_type": "markdown",
   "source": [
    "Всего в базе 819 книг, вышедших **после** 1 января 2000 года. Довольно скромный показатель."
   ],
   "metadata": {
    "collapsed": false,
    "pycharm": {
     "name": "#%% md\n"
    }
   }
  },
  {
   "cell_type": "code",
   "execution_count": 4,
   "outputs": [
    {
     "data": {
      "text/plain": "                                                 title  reviews  avg_rating\n0                        A Dirty Job (Grim Reaper  #1)       16        5.00\n1                A Fistful of Charms (The Hollows  #4)        4        5.00\n2            A Woman of Substance (Emma Harte Saga #1)        4        5.00\n3                      Act of Treason (Mitch Rapp  #9)        4        5.00\n4                                        Alas  Babylon        4        5.00\n..                                                 ...      ...         ...\n988  The World Is Flat: A Brief History of the Twen...       12        2.25\n989                                      Drowning Ruth        9        2.00\n990                  His Excellency: George Washington        4        2.00\n991                                              Junky        4        2.00\n992                               Harvesting the Heart        4        1.50\n\n[993 rows x 3 columns]",
      "text/html": "<div>\n<style scoped>\n    .dataframe tbody tr th:only-of-type {\n        vertical-align: middle;\n    }\n\n    .dataframe tbody tr th {\n        vertical-align: top;\n    }\n\n    .dataframe thead th {\n        text-align: right;\n    }\n</style>\n<table border=\"1\" class=\"dataframe\">\n  <thead>\n    <tr style=\"text-align: right;\">\n      <th></th>\n      <th>title</th>\n      <th>reviews</th>\n      <th>avg_rating</th>\n    </tr>\n  </thead>\n  <tbody>\n    <tr>\n      <th>0</th>\n      <td>A Dirty Job (Grim Reaper  #1)</td>\n      <td>16</td>\n      <td>5.00</td>\n    </tr>\n    <tr>\n      <th>1</th>\n      <td>A Fistful of Charms (The Hollows  #4)</td>\n      <td>4</td>\n      <td>5.00</td>\n    </tr>\n    <tr>\n      <th>2</th>\n      <td>A Woman of Substance (Emma Harte Saga #1)</td>\n      <td>4</td>\n      <td>5.00</td>\n    </tr>\n    <tr>\n      <th>3</th>\n      <td>Act of Treason (Mitch Rapp  #9)</td>\n      <td>4</td>\n      <td>5.00</td>\n    </tr>\n    <tr>\n      <th>4</th>\n      <td>Alas  Babylon</td>\n      <td>4</td>\n      <td>5.00</td>\n    </tr>\n    <tr>\n      <th>...</th>\n      <td>...</td>\n      <td>...</td>\n      <td>...</td>\n    </tr>\n    <tr>\n      <th>988</th>\n      <td>The World Is Flat: A Brief History of the Twen...</td>\n      <td>12</td>\n      <td>2.25</td>\n    </tr>\n    <tr>\n      <th>989</th>\n      <td>Drowning Ruth</td>\n      <td>9</td>\n      <td>2.00</td>\n    </tr>\n    <tr>\n      <th>990</th>\n      <td>His Excellency: George Washington</td>\n      <td>4</td>\n      <td>2.00</td>\n    </tr>\n    <tr>\n      <th>991</th>\n      <td>Junky</td>\n      <td>4</td>\n      <td>2.00</td>\n    </tr>\n    <tr>\n      <th>992</th>\n      <td>Harvesting the Heart</td>\n      <td>4</td>\n      <td>1.50</td>\n    </tr>\n  </tbody>\n</table>\n<p>993 rows × 3 columns</p>\n</div>"
     },
     "metadata": {},
     "output_type": "display_data"
    }
   ],
   "source": [
    "# Для каждой книги посчитайте количество обзоров и среднюю оценку;\n",
    "\n",
    "query = \"\"\"SELECT title, COUNT(review_id) AS reviews, AVG(rating) AS avg_rating\n",
    "FROM books\n",
    "JOIN reviews USING (book_id)\n",
    "JOIN ratings USING (book_id)\n",
    "GROUP BY title\n",
    "ORDER BY avg_rating DESC, title\"\"\"\n",
    "display(pd.io.sql.read_sql(query, con=engine))"
   ],
   "metadata": {
    "collapsed": false,
    "pycharm": {
     "name": "#%%\n"
    }
   }
  },
  {
   "cell_type": "markdown",
   "source": [
    "Книг слишком много для того, чтобы оценить всю таблицу одним взглядом, но по первым и последним строкам можно сделать вывод: средний рейтинг варьируется от 1.5 до 5.0, а также можно предположить, что усреднённый в свою очередь, он будет ближе к 5 баллам, чем к 1.5."
   ],
   "metadata": {
    "collapsed": false,
    "pycharm": {
     "name": "#%% md\n"
    }
   }
  },
  {
   "cell_type": "code",
   "execution_count": 5,
   "outputs": [
    {
     "data": {
      "text/plain": "       publisher  published_books\n0  Penguin Books               42",
      "text/html": "<div>\n<style scoped>\n    .dataframe tbody tr th:only-of-type {\n        vertical-align: middle;\n    }\n\n    .dataframe tbody tr th {\n        vertical-align: top;\n    }\n\n    .dataframe thead th {\n        text-align: right;\n    }\n</style>\n<table border=\"1\" class=\"dataframe\">\n  <thead>\n    <tr style=\"text-align: right;\">\n      <th></th>\n      <th>publisher</th>\n      <th>published_books</th>\n    </tr>\n  </thead>\n  <tbody>\n    <tr>\n      <th>0</th>\n      <td>Penguin Books</td>\n      <td>42</td>\n    </tr>\n  </tbody>\n</table>\n</div>"
     },
     "metadata": {},
     "output_type": "display_data"
    }
   ],
   "source": [
    "# Определите издательство, которое выпустило наибольшее число книг толще 50 страниц — так вы исключите из анализа брошюры;\n",
    "\n",
    "query = \"\"\"WITH a AS (\n",
    "SELECT publisher, COUNT(book_id) AS published_books\n",
    "FROM publishers\n",
    "JOIN books USING (publisher_id)\n",
    "WHERE num_pages > 50\n",
    "GROUP BY 1)\n",
    "SELECT *\n",
    "FROM a\n",
    "WHERE published_books = (SELECT MAX(published_books) FROM a)\"\"\"\n",
    "display(pd.io.sql.read_sql(query, con=engine))"
   ],
   "metadata": {
    "collapsed": false,
    "pycharm": {
     "name": "#%%\n"
    }
   }
  },
  {
   "cell_type": "markdown",
   "source": [
    "Где-то в Готэме плачет Бэтмен. Где-то икнул подниматель пингвинов. Где-то выходит из душа Пен-Пен. Где-то мистер Поппер не досчитался пингвина. Где-то ухмыльнулся 1 (прописью: один) Линус Торвальд.\n",
    "\n",
    "Издательство Пингвин лидирует по количеству изданных \"толстых\" книг с показателем, который по чистой случайности равен ответу на главный вопрос жизни, вселенной и вообще."
   ],
   "metadata": {
    "collapsed": false,
    "pycharm": {
     "name": "#%% md\n"
    }
   }
  },
  {
   "cell_type": "code",
   "execution_count": 6,
   "outputs": [
    {
     "data": {
      "text/plain": "                       author    rating\n0  J.K. Rowling/Mary GrandPré  4.287097",
      "text/html": "<div>\n<style scoped>\n    .dataframe tbody tr th:only-of-type {\n        vertical-align: middle;\n    }\n\n    .dataframe tbody tr th {\n        vertical-align: top;\n    }\n\n    .dataframe thead th {\n        text-align: right;\n    }\n</style>\n<table border=\"1\" class=\"dataframe\">\n  <thead>\n    <tr style=\"text-align: right;\">\n      <th></th>\n      <th>author</th>\n      <th>rating</th>\n    </tr>\n  </thead>\n  <tbody>\n    <tr>\n      <th>0</th>\n      <td>J.K. Rowling/Mary GrandPré</td>\n      <td>4.287097</td>\n    </tr>\n  </tbody>\n</table>\n</div>"
     },
     "metadata": {},
     "output_type": "display_data"
    }
   ],
   "source": [
    "# Определите автора с самой высокой средней оценкой книг — учитывайте только книги с 50 и более оценками;\n",
    "\n",
    "query = \"\"\"WITH a AS (\n",
    "    SELECT book_id, COUNT(rating_id) AS n_ratings\n",
    "    FROM books\n",
    "    JOIN ratings USING (book_id)\n",
    "    GROUP BY 1),\n",
    "b AS (\n",
    "    SELECT author, AVG(rating) AS rating\n",
    "    FROM authors\n",
    "    JOIN books USING (author_id)\n",
    "    JOIN ratings USING (book_id)\n",
    "    WHERE book_id IN (SELECT book_id FROM a WHERE n_ratings >= 50)\n",
    "    GROUP BY author)\n",
    "SELECT *\n",
    "FROM b\n",
    "WHERE rating = (SELECT MAX(rating) FROM b)\"\"\"\n",
    "display(pd.io.sql.read_sql(query, con=engine))"
   ],
   "metadata": {
    "collapsed": false,
    "pycharm": {
     "name": "#%%\n"
    }
   }
  },
  {
   "cell_type": "markdown",
   "source": [
    "Все любят Гарри Поттера.\n",
    "Особенно Джоан Роулинг, занявшая первую строчку в списке авторов с самыми высокооценёнными книгами."
   ],
   "metadata": {
    "collapsed": false,
    "pycharm": {
     "name": "#%% md\n"
    }
   }
  },
  {
   "cell_type": "code",
   "execution_count": 7,
   "outputs": [
    {
     "data": {
      "text/plain": "   avg_reviews\n0    24.333333",
      "text/html": "<div>\n<style scoped>\n    .dataframe tbody tr th:only-of-type {\n        vertical-align: middle;\n    }\n\n    .dataframe tbody tr th {\n        vertical-align: top;\n    }\n\n    .dataframe thead th {\n        text-align: right;\n    }\n</style>\n<table border=\"1\" class=\"dataframe\">\n  <thead>\n    <tr style=\"text-align: right;\">\n      <th></th>\n      <th>avg_reviews</th>\n    </tr>\n  </thead>\n  <tbody>\n    <tr>\n      <th>0</th>\n      <td>24.333333</td>\n    </tr>\n  </tbody>\n</table>\n</div>"
     },
     "metadata": {},
     "output_type": "display_data"
    }
   ],
   "source": [
    "# Посчитайте среднее количество обзоров от пользователей, которые поставили больше 50 оценок.\n",
    "\n",
    "query = \"\"\"WITH a AS (\n",
    "    SELECT username, COUNT(review_id) AS n_reviews\n",
    "    FROM reviews\n",
    "    WHERE username IN (\n",
    "        SELECT username\n",
    "        FROM ratings\n",
    "        GROUP BY username\n",
    "        HAVING COUNT(rating_id) > 50)\n",
    "    GROUP BY username)\n",
    "SELECT AVG(n_reviews) AS avg_reviews\n",
    "FROM a\n",
    "\"\"\"\n",
    "display(pd.io.sql.read_sql(query, con=engine))"
   ],
   "metadata": {
    "collapsed": false,
    "pycharm": {
     "name": "#%%\n"
    }
   }
  },
  {
   "cell_type": "markdown",
   "source": [
    "Мы не знаем, что пишут такие активные пользователи в обзорах, но мы точно знаем, что писать обзоры сложнее, чем просто выставлять оценки: среди пользователей, которые поставили больше 50 оценок, среднее количество обзоров - ~24.3."
   ],
   "metadata": {
    "collapsed": false,
    "pycharm": {
     "name": "#%% md\n"
    }
   }
  }
 ],
 "metadata": {
  "kernelspec": {
   "display_name": "Python 3",
   "language": "python",
   "name": "python3"
  },
  "language_info": {
   "codemirror_mode": {
    "name": "ipython",
    "version": 2
   },
   "file_extension": ".py",
   "mimetype": "text/x-python",
   "name": "python",
   "nbconvert_exporter": "python",
   "pygments_lexer": "ipython2",
   "version": "2.7.6"
  }
 },
 "nbformat": 4,
 "nbformat_minor": 0
}