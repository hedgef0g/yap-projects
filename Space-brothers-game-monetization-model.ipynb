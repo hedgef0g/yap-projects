{
 "cells": [
  {
   "cell_type": "markdown",
   "metadata": {
    "pycharm": {
     "name": "#%% md\n"
    }
   },
   "source": [
    "### Материалы\n",
    "\n",
    "1. Презентация: https://mega.nz/file/4JMxmQQa#r1FTUl2Msak7de3Q6En8Zcje6LMuSlp1iaiIAXwt50Y\n",
    "2. Дашборд: https://public.tableau.com/views/Space_brothers_16525259773400/Dashboard1?:language=en-US&publish=yes&:display_count=n&:origin=viz_share_link"
   ]
  },
  {
   "cell_type": "markdown",
   "metadata": {
    "pycharm": {
     "name": "#%% md\n"
    }
   },
   "source": [
    "# \"Космические братья\" - формирование модели монетизации\n",
    "\n",
    "**Оглавление**\n",
    "1. [Задачи проекта](#Задачи-проекта)\n",
    "2. [Загрузка файлов с данными и изучение общей информации о них](#Загрузка-и-обзор-данных)\n",
    "3. [Подготовка данных](#Подготовка-данных)\n",
    "4. [Исследовательский анализ данных](#Исследовательский-анализ-данных)\n",
    "5. [Проверка гипотез](#Проверка-гипотез)\n",
    "6. [Описание и оценка модели монетизации](#Описание-и-оценка-модели-монетизации)\n",
    "7. [Общий вывод](#Общий-вывод)"
   ]
  },
  {
   "cell_type": "markdown",
   "metadata": {
    "pycharm": {
     "name": "#%% md\n"
    }
   },
   "source": [
    "## Задачи проекта\n",
    "\n",
    "Основная задача проекта - сформировать модель монетизации игрового приложения.\n",
    "\n",
    "Необходимо выбрать оптимальное время для запуска рекламы. С учётом расходов на продвижение игры, рассчитать её окупаемость при разных сценариях.\n",
    "\n",
    "В рамках выполнения обозначенных задач:\n",
    "1. Проведём исследовательский анализ данных.\n",
    "2. Проанализируем влияние событий на совершение целевого события.\n",
    "3. Проверим статистические гипотезы (различия времени прохождения уровня между пользователями, которые заканчивают уровень через реализацию проекта, и пользователями, которые заканчивают уровень победой над другим игроком, другие релевантные гипотезы).\n",
    "\n",
    "Зафиксируем следующее:\n",
    "* Целевым событием является завершение первого уровня;\n",
    "* Прибыль от одного показа рекламы составляет 0.07 условных единиц."
   ]
  },
  {
   "cell_type": "markdown",
   "metadata": {
    "pycharm": {
     "name": "#%% md\n"
    }
   },
   "source": [
    "## Загрузка и обзор данных\n",
    "\n",
    "Всего в проекте представлены три набора данных.\n",
    "\n",
    "Основной датасет содержит данные о событиях, совершенных в мобильной игре «Космические братья». В ней пользователи строят свою космическую программу и пытаются преуспеть в нелёгком деле колонизации галактики.\n",
    "Основная монетизация игры — только планируется. Но предполагается, что в приложении будет происходить показ рекламы на экране с выбором типа объекта для постройки.\n",
    "\n",
    "В датасете представлены данные по игре пользователей на первом уровне. Завершение первого уровня требует от игрока выполнения одного из двух условий:\n",
    "1. Победа над первым врагом\n",
    "2. Реализация проекта - разработка орбитальной сборки спутников\n",
    "\n",
    "В датасете содержатся данные первых пользователей приложения — когорты пользователей, которые начали пользоваться приложением в период с 4 по 10 мая включительно.\n",
    "\n",
    "Датасет `game_actions.csv`:\n",
    "* `event_datetime` — время события;\n",
    "* `event` — одно из трёх событий:\n",
    "    1. `building` — объект построен,\n",
    "    2. `finished_stage_1` — первый уровень завершён,\n",
    "    3. `project` — проект завершён;\n",
    "* `building_type` — один из трёх типов здания:\n",
    "    1. `assembly_shop` — сборочный цех,\n",
    "    2. `spaceport` — космопорт,\n",
    "    3. `research_center` — исследовательский центр;\n",
    "* `user_id` — идентификатор пользователя;\n",
    "* `project_type` — тип реализованного проекта;\n",
    "\n",
    "Помимо основного датасета есть два датасета с информацией о рекламных активностях. Они также помогут в решении задачи.\n",
    "\n",
    "Датасет `ad_cost.csv` содержит колонки:\n",
    "* `day` - день, в который был совершен клик по объявлению\n",
    "* `source` - источник трафика\n",
    "* `cost` - стоимость кликов\n",
    "\n",
    "Датасет `user_source.csv` содержит колонки:\n",
    "* `user_id` - идентификатор пользователя\n",
    "* `source` - источников, с которого пришёл пользователь, установивший приложение"
   ]
  },
  {
   "cell_type": "code",
   "execution_count": 1,
   "metadata": {
    "pycharm": {
     "name": "#%%\n"
    }
   },
   "outputs": [],
   "source": [
    "# Подключение библиотек для анализа\n",
    "import pandas as pd\n",
    "from matplotlib import pyplot as plt\n",
    "import seaborn as sns\n",
    "from scipy import stats as st"
   ]
  },
  {
   "cell_type": "code",
   "execution_count": 2,
   "metadata": {
    "pycharm": {
     "name": "#%%\n"
    }
   },
   "outputs": [],
   "source": [
    "try:\n",
    "    game_actions = pd.read_csv('/datasets/game_actions.csv')\n",
    "    ad_cost = pd.read_csv('/datasets/ad_costs.csv')\n",
    "    user_source = pd.read_csv('/datasets/user_source.csv')\n",
    "except:\n",
    "    game_actions = pd.read_csv(input('Введите путь к файлу game_actions.csv: '))\n",
    "    ad_cost = pd.read_csv(input('Введите путь к файлу ad_cost.csv: '))\n",
    "    user_source = pd.read_csv(input('Введите путь к файлу user_source.csv: '))"
   ]
  },
  {
   "cell_type": "code",
   "execution_count": 3,
   "metadata": {
    "pycharm": {
     "name": "#%%\n"
    }
   },
   "outputs": [
    {
     "name": "stdout",
     "output_type": "stream",
     "text": [
      "Обзор набора данных game_actions\n",
      "\n",
      "<class 'pandas.core.frame.DataFrame'>\n",
      "RangeIndex: 135640 entries, 0 to 135639\n",
      "Data columns (total 5 columns):\n",
      " #   Column          Non-Null Count   Dtype \n",
      "---  ------          --------------   ----- \n",
      " 0   event_datetime  135640 non-null  object\n",
      " 1   event           135640 non-null  object\n",
      " 2   building_type   127957 non-null  object\n",
      " 3   user_id         135640 non-null  object\n",
      " 4   project_type    1866 non-null    object\n",
      "dtypes: object(5)\n",
      "memory usage: 5.2+ MB\n"
     ]
    },
    {
     "data": {
      "text/html": [
       "<div>\n",
       "<style scoped>\n",
       "    .dataframe tbody tr th:only-of-type {\n",
       "        vertical-align: middle;\n",
       "    }\n",
       "\n",
       "    .dataframe tbody tr th {\n",
       "        vertical-align: top;\n",
       "    }\n",
       "\n",
       "    .dataframe thead th {\n",
       "        text-align: right;\n",
       "    }\n",
       "</style>\n",
       "<table border=\"1\" class=\"dataframe\">\n",
       "  <thead>\n",
       "    <tr style=\"text-align: right;\">\n",
       "      <th></th>\n",
       "      <th>event_datetime</th>\n",
       "      <th>event</th>\n",
       "      <th>building_type</th>\n",
       "      <th>user_id</th>\n",
       "      <th>project_type</th>\n",
       "    </tr>\n",
       "  </thead>\n",
       "  <tbody>\n",
       "    <tr>\n",
       "      <th>0</th>\n",
       "      <td>2020-05-04 00:00:01</td>\n",
       "      <td>building</td>\n",
       "      <td>assembly_shop</td>\n",
       "      <td>55e92310-cb8e-4754-b622-597e124b03de</td>\n",
       "      <td>NaN</td>\n",
       "    </tr>\n",
       "    <tr>\n",
       "      <th>1</th>\n",
       "      <td>2020-05-04 00:00:03</td>\n",
       "      <td>building</td>\n",
       "      <td>assembly_shop</td>\n",
       "      <td>c07b1c10-f477-44dc-81dc-ec82254b1347</td>\n",
       "      <td>NaN</td>\n",
       "    </tr>\n",
       "    <tr>\n",
       "      <th>2</th>\n",
       "      <td>2020-05-04 00:00:16</td>\n",
       "      <td>building</td>\n",
       "      <td>assembly_shop</td>\n",
       "      <td>6edd42cc-e753-4ff6-a947-2107cd560710</td>\n",
       "      <td>NaN</td>\n",
       "    </tr>\n",
       "    <tr>\n",
       "      <th>3</th>\n",
       "      <td>2020-05-04 00:00:16</td>\n",
       "      <td>building</td>\n",
       "      <td>assembly_shop</td>\n",
       "      <td>92c69003-d60a-444a-827f-8cc51bf6bf4c</td>\n",
       "      <td>NaN</td>\n",
       "    </tr>\n",
       "    <tr>\n",
       "      <th>4</th>\n",
       "      <td>2020-05-04 00:00:35</td>\n",
       "      <td>building</td>\n",
       "      <td>assembly_shop</td>\n",
       "      <td>cdc6bb92-0ccb-4490-9866-ef142f09139d</td>\n",
       "      <td>NaN</td>\n",
       "    </tr>\n",
       "  </tbody>\n",
       "</table>\n",
       "</div>"
      ],
      "text/plain": [
       "        event_datetime     event  building_type  \\\n",
       "0  2020-05-04 00:00:01  building  assembly_shop   \n",
       "1  2020-05-04 00:00:03  building  assembly_shop   \n",
       "2  2020-05-04 00:00:16  building  assembly_shop   \n",
       "3  2020-05-04 00:00:16  building  assembly_shop   \n",
       "4  2020-05-04 00:00:35  building  assembly_shop   \n",
       "\n",
       "                                user_id project_type  \n",
       "0  55e92310-cb8e-4754-b622-597e124b03de          NaN  \n",
       "1  c07b1c10-f477-44dc-81dc-ec82254b1347          NaN  \n",
       "2  6edd42cc-e753-4ff6-a947-2107cd560710          NaN  \n",
       "3  92c69003-d60a-444a-827f-8cc51bf6bf4c          NaN  \n",
       "4  cdc6bb92-0ccb-4490-9866-ef142f09139d          NaN  "
      ]
     },
     "metadata": {},
     "output_type": "display_data"
    },
    {
     "name": "stdout",
     "output_type": "stream",
     "text": [
      "=========================\n",
      "\n",
      "Обзор набора данных ad_cost\n",
      "\n",
      "<class 'pandas.core.frame.DataFrame'>\n",
      "RangeIndex: 28 entries, 0 to 27\n",
      "Data columns (total 3 columns):\n",
      " #   Column  Non-Null Count  Dtype  \n",
      "---  ------  --------------  -----  \n",
      " 0   source  28 non-null     object \n",
      " 1   day     28 non-null     object \n",
      " 2   cost    28 non-null     float64\n",
      "dtypes: float64(1), object(2)\n",
      "memory usage: 800.0+ bytes\n"
     ]
    },
    {
     "data": {
      "text/html": [
       "<div>\n",
       "<style scoped>\n",
       "    .dataframe tbody tr th:only-of-type {\n",
       "        vertical-align: middle;\n",
       "    }\n",
       "\n",
       "    .dataframe tbody tr th {\n",
       "        vertical-align: top;\n",
       "    }\n",
       "\n",
       "    .dataframe thead th {\n",
       "        text-align: right;\n",
       "    }\n",
       "</style>\n",
       "<table border=\"1\" class=\"dataframe\">\n",
       "  <thead>\n",
       "    <tr style=\"text-align: right;\">\n",
       "      <th></th>\n",
       "      <th>source</th>\n",
       "      <th>day</th>\n",
       "      <th>cost</th>\n",
       "    </tr>\n",
       "  </thead>\n",
       "  <tbody>\n",
       "    <tr>\n",
       "      <th>0</th>\n",
       "      <td>facebook_ads</td>\n",
       "      <td>2020-05-03</td>\n",
       "      <td>935.882786</td>\n",
       "    </tr>\n",
       "    <tr>\n",
       "      <th>1</th>\n",
       "      <td>facebook_ads</td>\n",
       "      <td>2020-05-04</td>\n",
       "      <td>548.354480</td>\n",
       "    </tr>\n",
       "    <tr>\n",
       "      <th>2</th>\n",
       "      <td>facebook_ads</td>\n",
       "      <td>2020-05-05</td>\n",
       "      <td>260.185754</td>\n",
       "    </tr>\n",
       "    <tr>\n",
       "      <th>3</th>\n",
       "      <td>facebook_ads</td>\n",
       "      <td>2020-05-06</td>\n",
       "      <td>177.982200</td>\n",
       "    </tr>\n",
       "    <tr>\n",
       "      <th>4</th>\n",
       "      <td>facebook_ads</td>\n",
       "      <td>2020-05-07</td>\n",
       "      <td>111.766796</td>\n",
       "    </tr>\n",
       "  </tbody>\n",
       "</table>\n",
       "</div>"
      ],
      "text/plain": [
       "         source         day        cost\n",
       "0  facebook_ads  2020-05-03  935.882786\n",
       "1  facebook_ads  2020-05-04  548.354480\n",
       "2  facebook_ads  2020-05-05  260.185754\n",
       "3  facebook_ads  2020-05-06  177.982200\n",
       "4  facebook_ads  2020-05-07  111.766796"
      ]
     },
     "metadata": {},
     "output_type": "display_data"
    },
    {
     "name": "stdout",
     "output_type": "stream",
     "text": [
      "=========================\n",
      "\n",
      "Обзор набора данных user_source\n",
      "\n",
      "<class 'pandas.core.frame.DataFrame'>\n",
      "RangeIndex: 13576 entries, 0 to 13575\n",
      "Data columns (total 2 columns):\n",
      " #   Column   Non-Null Count  Dtype \n",
      "---  ------   --------------  ----- \n",
      " 0   user_id  13576 non-null  object\n",
      " 1   source   13576 non-null  object\n",
      "dtypes: object(2)\n",
      "memory usage: 212.2+ KB\n"
     ]
    },
    {
     "data": {
      "text/html": [
       "<div>\n",
       "<style scoped>\n",
       "    .dataframe tbody tr th:only-of-type {\n",
       "        vertical-align: middle;\n",
       "    }\n",
       "\n",
       "    .dataframe tbody tr th {\n",
       "        vertical-align: top;\n",
       "    }\n",
       "\n",
       "    .dataframe thead th {\n",
       "        text-align: right;\n",
       "    }\n",
       "</style>\n",
       "<table border=\"1\" class=\"dataframe\">\n",
       "  <thead>\n",
       "    <tr style=\"text-align: right;\">\n",
       "      <th></th>\n",
       "      <th>user_id</th>\n",
       "      <th>source</th>\n",
       "    </tr>\n",
       "  </thead>\n",
       "  <tbody>\n",
       "    <tr>\n",
       "      <th>0</th>\n",
       "      <td>0001f83c-c6ac-4621-b7f0-8a28b283ac30</td>\n",
       "      <td>facebook_ads</td>\n",
       "    </tr>\n",
       "    <tr>\n",
       "      <th>1</th>\n",
       "      <td>00151b4f-ba38-44a8-a650-d7cf130a0105</td>\n",
       "      <td>yandex_direct</td>\n",
       "    </tr>\n",
       "    <tr>\n",
       "      <th>2</th>\n",
       "      <td>001aaea6-3d14-43f1-8ca8-7f48820f17aa</td>\n",
       "      <td>youtube_channel_reklama</td>\n",
       "    </tr>\n",
       "    <tr>\n",
       "      <th>3</th>\n",
       "      <td>001d39dc-366c-4021-9604-6a3b9ff01e25</td>\n",
       "      <td>instagram_new_adverts</td>\n",
       "    </tr>\n",
       "    <tr>\n",
       "      <th>4</th>\n",
       "      <td>002f508f-67b6-479f-814b-b05f00d4e995</td>\n",
       "      <td>facebook_ads</td>\n",
       "    </tr>\n",
       "  </tbody>\n",
       "</table>\n",
       "</div>"
      ],
      "text/plain": [
       "                                user_id                   source\n",
       "0  0001f83c-c6ac-4621-b7f0-8a28b283ac30             facebook_ads\n",
       "1  00151b4f-ba38-44a8-a650-d7cf130a0105            yandex_direct\n",
       "2  001aaea6-3d14-43f1-8ca8-7f48820f17aa  youtube_channel_reklama\n",
       "3  001d39dc-366c-4021-9604-6a3b9ff01e25    instagram_new_adverts\n",
       "4  002f508f-67b6-479f-814b-b05f00d4e995             facebook_ads"
      ]
     },
     "metadata": {},
     "output_type": "display_data"
    },
    {
     "name": "stdout",
     "output_type": "stream",
     "text": [
      "=========================\n",
      "\n"
     ]
    }
   ],
   "source": [
    "# Т.к. датасета 3 - пробежимся по ним циклом.\n",
    "for key, value in {'game_actions': game_actions, 'ad_cost': ad_cost, 'user_source': user_source}.items():\n",
    "    print(f\"Обзор набора данных {key}\", end='\\n\\n')\n",
    "    value.info()\n",
    "    display(value.head())\n",
    "    print(\"=\" * 25, end='\\n\\n')"
   ]
  },
  {
   "cell_type": "markdown",
   "metadata": {
    "pycharm": {
     "name": "#%% md\n"
    }
   },
   "source": [
    "### Промежуточный вывод\n",
    "\n",
    "* В наборе данных с игровыми действиями ~136 000 записей. В полях с датой, типом события и пользовательским ID пропусков нет, однако они присутствуют в типе постройки (в незначительном количестве) и типе проекта (большинство записей не являются записями о проекте).\n",
    "\n",
    "* В наборе данных со стоимостью привлечения пользователей - 28 (7 дней и, предположительно, 4 источника) записей о стоимости, дне привлечения и источнике, пропусков не обнаружено.\n",
    "\n",
    "* В наборе данных о конкретном источнике привлечения пользователей 13 576 записей. Пропусков не обнаружено.\n",
    "\n",
    "Можно перейти к этапу подготовки данных."
   ]
  },
  {
   "cell_type": "markdown",
   "metadata": {
    "pycharm": {
     "name": "#%% md\n"
    }
   },
   "source": [
    "## Подготовка данных\n",
    "\n",
    "Этап подготовки данных традиционно включает в себя следующие шаги:\n",
    "\n",
    "* Замена названий столбцов (приведение к нижнему регистру);\n",
    "* Преобразование данных в нужные типы;\n",
    "* Обработка пропусков:\n",
    "    - Заполнение / отказ от заполнения пропусков с объяснением причин;\n",
    "    - Анализ возможных причин появления пропусков.\n",
    "* Обработка дубликатов.\n",
    "\n",
    "Ни в одном из представленных наборов данных нет необходимости производить замену названий столбцов.\n",
    "Столбцы `event_datetime` и `day` в наборах данных `game_actions` и `ad_costs` соответственно преобразуем в `datetime`, после чего займёмся обработкой пропусков."
   ]
  },
  {
   "cell_type": "code",
   "execution_count": 4,
   "metadata": {
    "pycharm": {
     "name": "#%%\n"
    }
   },
   "outputs": [],
   "source": [
    "game_actions['event_datetime'] = pd.to_datetime(game_actions['event_datetime'])\n",
    "ad_cost['day'] = pd.to_datetime(ad_cost['day'])"
   ]
  },
  {
   "cell_type": "markdown",
   "metadata": {
    "pycharm": {
     "name": "#%% md\n"
    }
   },
   "source": [
    "На этапе загрузки и ознакомления с данными обнаружили пропуски в двух столбцах набора данных `game_actions`: `building_type` и `project_type`.\n",
    "Теоретически, пропуски должны объясняться записями в `event`. Проверим эту догадку."
   ]
  },
  {
   "cell_type": "code",
   "execution_count": 5,
   "metadata": {
    "pycharm": {
     "name": "#%%\n"
    }
   },
   "outputs": [
    {
     "data": {
      "text/plain": [
       "finished_stage_1    5817\n",
       "project             1866\n",
       "Name: event, dtype: int64"
      ]
     },
     "metadata": {},
     "output_type": "display_data"
    },
    {
     "data": {
      "text/plain": [
       "building            127957\n",
       "finished_stage_1      5817\n",
       "Name: event, dtype: int64"
      ]
     },
     "metadata": {},
     "output_type": "display_data"
    }
   ],
   "source": [
    "# Проверка пропусков в building_type\n",
    "display(game_actions[game_actions['building_type'].isna()]['event'].value_counts())\n",
    "\n",
    "# Проверка пропусков в project_type\n",
    "display(game_actions[game_actions['project_type'].isna()]['event'].value_counts())"
   ]
  },
  {
   "cell_type": "markdown",
   "metadata": {
    "pycharm": {
     "name": "#%% md\n"
    }
   },
   "source": [
    "В обоих случаях видим, что пропускам в переменной соответствуют объясняющие её типы событий - окончание первого этапа и проект / постройка для типа постройки / типа проекта соответственно. Так как все рассматриваемые переменные - категориальные, пропуски можно не заполнять. Сами по себе они могут выступать удобным фильтром.\n",
    "\n",
    "Выполним проверку на существование дубликатов в предоставленных записях."
   ]
  },
  {
   "cell_type": "code",
   "execution_count": 6,
   "metadata": {
    "pycharm": {
     "name": "#%%\n"
    }
   },
   "outputs": [
    {
     "data": {
      "text/html": [
       "<div>\n",
       "<style scoped>\n",
       "    .dataframe tbody tr th:only-of-type {\n",
       "        vertical-align: middle;\n",
       "    }\n",
       "\n",
       "    .dataframe tbody tr th {\n",
       "        vertical-align: top;\n",
       "    }\n",
       "\n",
       "    .dataframe thead th {\n",
       "        text-align: right;\n",
       "    }\n",
       "</style>\n",
       "<table border=\"1\" class=\"dataframe\">\n",
       "  <thead>\n",
       "    <tr style=\"text-align: right;\">\n",
       "      <th></th>\n",
       "      <th>event_datetime</th>\n",
       "      <th>event</th>\n",
       "      <th>building_type</th>\n",
       "      <th>user_id</th>\n",
       "      <th>project_type</th>\n",
       "    </tr>\n",
       "  </thead>\n",
       "  <tbody>\n",
       "    <tr>\n",
       "      <th>74891</th>\n",
       "      <td>2020-05-10 18:41:56</td>\n",
       "      <td>building</td>\n",
       "      <td>research_center</td>\n",
       "      <td>c9af55d2-b0ae-4bb4-b3d5-f32aa9ac03af</td>\n",
       "      <td>NaN</td>\n",
       "    </tr>\n",
       "  </tbody>\n",
       "</table>\n",
       "</div>"
      ],
      "text/plain": [
       "           event_datetime     event    building_type  \\\n",
       "74891 2020-05-10 18:41:56  building  research_center   \n",
       "\n",
       "                                    user_id project_type  \n",
       "74891  c9af55d2-b0ae-4bb4-b3d5-f32aa9ac03af          NaN  "
      ]
     },
     "metadata": {},
     "output_type": "display_data"
    },
    {
     "data": {
      "text/html": [
       "<div>\n",
       "<style scoped>\n",
       "    .dataframe tbody tr th:only-of-type {\n",
       "        vertical-align: middle;\n",
       "    }\n",
       "\n",
       "    .dataframe tbody tr th {\n",
       "        vertical-align: top;\n",
       "    }\n",
       "\n",
       "    .dataframe thead th {\n",
       "        text-align: right;\n",
       "    }\n",
       "</style>\n",
       "<table border=\"1\" class=\"dataframe\">\n",
       "  <thead>\n",
       "    <tr style=\"text-align: right;\">\n",
       "      <th></th>\n",
       "      <th>source</th>\n",
       "      <th>day</th>\n",
       "      <th>cost</th>\n",
       "    </tr>\n",
       "  </thead>\n",
       "  <tbody>\n",
       "  </tbody>\n",
       "</table>\n",
       "</div>"
      ],
      "text/plain": [
       "Empty DataFrame\n",
       "Columns: [source, day, cost]\n",
       "Index: []"
      ]
     },
     "metadata": {},
     "output_type": "display_data"
    },
    {
     "data": {
      "text/html": [
       "<div>\n",
       "<style scoped>\n",
       "    .dataframe tbody tr th:only-of-type {\n",
       "        vertical-align: middle;\n",
       "    }\n",
       "\n",
       "    .dataframe tbody tr th {\n",
       "        vertical-align: top;\n",
       "    }\n",
       "\n",
       "    .dataframe thead th {\n",
       "        text-align: right;\n",
       "    }\n",
       "</style>\n",
       "<table border=\"1\" class=\"dataframe\">\n",
       "  <thead>\n",
       "    <tr style=\"text-align: right;\">\n",
       "      <th></th>\n",
       "      <th>user_id</th>\n",
       "      <th>source</th>\n",
       "    </tr>\n",
       "  </thead>\n",
       "  <tbody>\n",
       "  </tbody>\n",
       "</table>\n",
       "</div>"
      ],
      "text/plain": [
       "Empty DataFrame\n",
       "Columns: [user_id, source]\n",
       "Index: []"
      ]
     },
     "metadata": {},
     "output_type": "display_data"
    }
   ],
   "source": [
    "for df in (game_actions, ad_cost, user_source):\n",
    "    display(df[df.duplicated()])"
   ]
  },
  {
   "cell_type": "markdown",
   "metadata": {
    "pycharm": {
     "name": "#%% md\n"
    }
   },
   "source": [
    "Во всей базе обнаружен один полный дубликат - в информации о пользовательских действиях. Избавимся от него, после чего можем перейти к исследовательскому анализу данных."
   ]
  },
  {
   "cell_type": "code",
   "execution_count": 7,
   "metadata": {
    "pycharm": {
     "name": "#%%\n"
    }
   },
   "outputs": [],
   "source": [
    "game_actions = game_actions.drop_duplicates()"
   ]
  },
  {
   "cell_type": "markdown",
   "metadata": {
    "pycharm": {
     "name": "#%% md\n"
    }
   },
   "source": [
    "## Исследовательский анализ данных\n",
    "\n",
    "В рамках исследовательского анализа данныз оценим следующие показатели:\n",
    "\n",
    "* Количество пользователей по дням;\n",
    "* Количество совершённых действий по дням;\n",
    "* Общий отток пользователей;\n",
    "* Доля пользователей, совершивших целевое действие (перешли на следующий уровень);\n",
    "* Доли PvE и PvP-ориентированных игроков."
   ]
  },
  {
   "cell_type": "code",
   "execution_count": 8,
   "metadata": {
    "pycharm": {
     "name": "#%%\n"
    }
   },
   "outputs": [
    {
     "data": {
      "text/html": [
       "<div>\n",
       "<style scoped>\n",
       "    .dataframe tbody tr th:only-of-type {\n",
       "        vertical-align: middle;\n",
       "    }\n",
       "\n",
       "    .dataframe tbody tr th {\n",
       "        vertical-align: top;\n",
       "    }\n",
       "\n",
       "    .dataframe thead th {\n",
       "        text-align: right;\n",
       "    }\n",
       "</style>\n",
       "<table border=\"1\" class=\"dataframe\">\n",
       "  <thead>\n",
       "    <tr style=\"text-align: right;\">\n",
       "      <th></th>\n",
       "      <th>count_actions</th>\n",
       "      <th>unique_users</th>\n",
       "    </tr>\n",
       "    <tr>\n",
       "      <th>event_datetime</th>\n",
       "      <th></th>\n",
       "      <th></th>\n",
       "    </tr>\n",
       "  </thead>\n",
       "  <tbody>\n",
       "    <tr>\n",
       "      <th>2020-05-04</th>\n",
       "      <td>8171</td>\n",
       "      <td>5860</td>\n",
       "    </tr>\n",
       "    <tr>\n",
       "      <th>2020-05-05</th>\n",
       "      <td>9055</td>\n",
       "      <td>6382</td>\n",
       "    </tr>\n",
       "    <tr>\n",
       "      <th>2020-05-06</th>\n",
       "      <td>9925</td>\n",
       "      <td>6854</td>\n",
       "    </tr>\n",
       "    <tr>\n",
       "      <th>2020-05-07</th>\n",
       "      <td>10858</td>\n",
       "      <td>7384</td>\n",
       "    </tr>\n",
       "    <tr>\n",
       "      <th>2020-05-08</th>\n",
       "      <td>12059</td>\n",
       "      <td>7891</td>\n",
       "    </tr>\n",
       "    <tr>\n",
       "      <th>2020-05-09</th>\n",
       "      <td>13129</td>\n",
       "      <td>8394</td>\n",
       "    </tr>\n",
       "    <tr>\n",
       "      <th>2020-05-10</th>\n",
       "      <td>15207</td>\n",
       "      <td>9219</td>\n",
       "    </tr>\n",
       "    <tr>\n",
       "      <th>2020-05-11</th>\n",
       "      <td>8185</td>\n",
       "      <td>5995</td>\n",
       "    </tr>\n",
       "    <tr>\n",
       "      <th>2020-05-12</th>\n",
       "      <td>7918</td>\n",
       "      <td>5776</td>\n",
       "    </tr>\n",
       "    <tr>\n",
       "      <th>2020-05-13</th>\n",
       "      <td>7624</td>\n",
       "      <td>5632</td>\n",
       "    </tr>\n",
       "    <tr>\n",
       "      <th>2020-05-14</th>\n",
       "      <td>6830</td>\n",
       "      <td>5102</td>\n",
       "    </tr>\n",
       "    <tr>\n",
       "      <th>2020-05-15</th>\n",
       "      <td>5952</td>\n",
       "      <td>4493</td>\n",
       "    </tr>\n",
       "    <tr>\n",
       "      <th>2020-05-16</th>\n",
       "      <td>5099</td>\n",
       "      <td>3874</td>\n",
       "    </tr>\n",
       "    <tr>\n",
       "      <th>2020-05-17</th>\n",
       "      <td>3955</td>\n",
       "      <td>3056</td>\n",
       "    </tr>\n",
       "    <tr>\n",
       "      <th>2020-05-18</th>\n",
       "      <td>2847</td>\n",
       "      <td>2255</td>\n",
       "    </tr>\n",
       "    <tr>\n",
       "      <th>2020-05-19</th>\n",
       "      <td>2319</td>\n",
       "      <td>1852</td>\n",
       "    </tr>\n",
       "    <tr>\n",
       "      <th>2020-05-20</th>\n",
       "      <td>1837</td>\n",
       "      <td>1480</td>\n",
       "    </tr>\n",
       "    <tr>\n",
       "      <th>2020-05-21</th>\n",
       "      <td>1370</td>\n",
       "      <td>1077</td>\n",
       "    </tr>\n",
       "    <tr>\n",
       "      <th>2020-05-22</th>\n",
       "      <td>946</td>\n",
       "      <td>764</td>\n",
       "    </tr>\n",
       "    <tr>\n",
       "      <th>2020-05-23</th>\n",
       "      <td>707</td>\n",
       "      <td>549</td>\n",
       "    </tr>\n",
       "    <tr>\n",
       "      <th>2020-05-24</th>\n",
       "      <td>491</td>\n",
       "      <td>402</td>\n",
       "    </tr>\n",
       "    <tr>\n",
       "      <th>2020-05-25</th>\n",
       "      <td>382</td>\n",
       "      <td>305</td>\n",
       "    </tr>\n",
       "    <tr>\n",
       "      <th>2020-05-26</th>\n",
       "      <td>262</td>\n",
       "      <td>205</td>\n",
       "    </tr>\n",
       "    <tr>\n",
       "      <th>2020-05-27</th>\n",
       "      <td>180</td>\n",
       "      <td>139</td>\n",
       "    </tr>\n",
       "    <tr>\n",
       "      <th>2020-05-28</th>\n",
       "      <td>118</td>\n",
       "      <td>91</td>\n",
       "    </tr>\n",
       "    <tr>\n",
       "      <th>2020-05-29</th>\n",
       "      <td>79</td>\n",
       "      <td>65</td>\n",
       "    </tr>\n",
       "    <tr>\n",
       "      <th>2020-05-30</th>\n",
       "      <td>44</td>\n",
       "      <td>36</td>\n",
       "    </tr>\n",
       "    <tr>\n",
       "      <th>2020-05-31</th>\n",
       "      <td>29</td>\n",
       "      <td>22</td>\n",
       "    </tr>\n",
       "    <tr>\n",
       "      <th>2020-06-01</th>\n",
       "      <td>20</td>\n",
       "      <td>16</td>\n",
       "    </tr>\n",
       "    <tr>\n",
       "      <th>2020-06-02</th>\n",
       "      <td>15</td>\n",
       "      <td>11</td>\n",
       "    </tr>\n",
       "    <tr>\n",
       "      <th>2020-06-03</th>\n",
       "      <td>11</td>\n",
       "      <td>9</td>\n",
       "    </tr>\n",
       "    <tr>\n",
       "      <th>2020-06-04</th>\n",
       "      <td>10</td>\n",
       "      <td>7</td>\n",
       "    </tr>\n",
       "    <tr>\n",
       "      <th>2020-06-05</th>\n",
       "      <td>5</td>\n",
       "      <td>4</td>\n",
       "    </tr>\n",
       "  </tbody>\n",
       "</table>\n",
       "</div>"
      ],
      "text/plain": [
       "                count_actions  unique_users\n",
       "event_datetime                             \n",
       "2020-05-04               8171          5860\n",
       "2020-05-05               9055          6382\n",
       "2020-05-06               9925          6854\n",
       "2020-05-07              10858          7384\n",
       "2020-05-08              12059          7891\n",
       "2020-05-09              13129          8394\n",
       "2020-05-10              15207          9219\n",
       "2020-05-11               8185          5995\n",
       "2020-05-12               7918          5776\n",
       "2020-05-13               7624          5632\n",
       "2020-05-14               6830          5102\n",
       "2020-05-15               5952          4493\n",
       "2020-05-16               5099          3874\n",
       "2020-05-17               3955          3056\n",
       "2020-05-18               2847          2255\n",
       "2020-05-19               2319          1852\n",
       "2020-05-20               1837          1480\n",
       "2020-05-21               1370          1077\n",
       "2020-05-22                946           764\n",
       "2020-05-23                707           549\n",
       "2020-05-24                491           402\n",
       "2020-05-25                382           305\n",
       "2020-05-26                262           205\n",
       "2020-05-27                180           139\n",
       "2020-05-28                118            91\n",
       "2020-05-29                 79            65\n",
       "2020-05-30                 44            36\n",
       "2020-05-31                 29            22\n",
       "2020-06-01                 20            16\n",
       "2020-06-02                 15            11\n",
       "2020-06-03                 11             9\n",
       "2020-06-04                 10             7\n",
       "2020-06-05                  5             4"
      ]
     },
     "execution_count": 8,
     "metadata": {},
     "output_type": "execute_result"
    }
   ],
   "source": [
    "# Расчёт количества активных пользователей и числа действий, ими совершённых\n",
    "\n",
    "game_actions.set_index('event_datetime') \\\n",
    "    .pivot_table(index=pd.Grouper(freq='d'), \n",
    "                 values=['user_id', 'event'], \n",
    "                 aggfunc={'user_id':pd.Series.nunique, 'event':'count'}) \\\n",
    "    .rename(columns={'event':'count_actions', 'user_id':'unique_users'})"
   ]
  },
  {
   "cell_type": "markdown",
   "metadata": {
    "pycharm": {
     "name": "#%% md\n"
    }
   },
   "source": [
    "Число пользователей и совершаемых ими действий достигает максимума 10 мая - в последний день рекламной кампании, после чего одномоментно резко снижается и продолжает снижаться вплоть до конца доступного для анализа периода - на графике ниже также показаны оба показателя."
   ]
  },
  {
   "cell_type": "code",
   "execution_count": 9,
   "metadata": {
    "pycharm": {
     "name": "#%%\n"
    }
   },
   "outputs": [
    {
     "data": {
      "image/png": "[encoded data removed]",
      "text/plain": [
       "<Figure size 1080x360 with 1 Axes>"
      ]
     },
     "metadata": {
      "needs_background": "light"
     },
     "output_type": "display_data"
    }
   ],
   "source": [
    "plt.figure(figsize=(15, 5))\n",
    "sns.lineplot(data=game_actions.set_index('event_datetime') \\\n",
    "    .pivot_table(index=pd.Grouper(freq='d'), \n",
    "                 values=['user_id', 'event'], \n",
    "                 aggfunc={'user_id':pd.Series.nunique, 'event':'count'}) \\\n",
    "    .rename(columns={'event':'count_actions', 'user_id':'unique_users'}))\n",
    "plt.title('Число пользователей и пользовательских действий')\n",
    "plt.xlabel('Дата');"
   ]
  },
  {
   "cell_type": "markdown",
   "metadata": {
    "pycharm": {
     "name": "#%% md\n"
    }
   },
   "source": [
    "Оценим число пользователей, совершивших целевое действие, и общий отток пользователей - в целях нашего анализа будем считать \"потеряным\" пользователя, НЕ совершившего целевого действия."
   ]
  },
  {
   "cell_type": "code",
   "execution_count": 10,
   "metadata": {
    "pycharm": {
     "name": "#%%\n"
    }
   },
   "outputs": [
    {
     "name": "stdout",
     "output_type": "stream",
     "text": [
      "Совершили целевое действие 5817 пользователей, что составляет 42.8% от всех.\n",
      "Отток составил 7759 пользователей.\n"
     ]
    }
   ],
   "source": [
    "target = game_actions[game_actions['event']=='finished_stage_1']['user_id'].nunique()\n",
    "total = game_actions['user_id'].nunique()\n",
    "\n",
    "print(f\"Совершили целевое действие {target} пользователей, что составляет {target / total * 100:.1f}% от всех.\\nОтток составил {total - target} пользователей.\")"
   ]
  },
  {
   "cell_type": "markdown",
   "metadata": {
    "pycharm": {
     "name": "#%% md\n"
    }
   },
   "source": [
    "Менее половины пользователей совершили целевое действие. В отсутствие базы для сравнения нельзя сделать вывод, насколько хорош этот показатель, поэтому пока просто его зафиксируем.\n",
    "\n",
    "Среди совершивших целевое действие оценим доли PvE и PvP-ориентированных игроков. Так как в логах нет информации о сражениях, будем считать, что выполненное пользователем целевое действие \"завершение первого уровня\" без записи о реализации проекта является маркером PvP-ориентированности игрока."
   ]
  },
  {
   "cell_type": "code",
   "execution_count": 11,
   "metadata": {
    "pycharm": {
     "name": "#%%\n"
    },
    "scrolled": true
   },
   "outputs": [
    {
     "name": "stdout",
     "output_type": "stream",
     "text": [
      "Доля PvE-игроков: 32.1%\n",
      "Доля PvP-игроков: 67.9%\n"
     ]
    }
   ],
   "source": [
    "completers = game_actions[game_actions['event'] == 'finished_stage_1']['user_id'].drop_duplicates()\n",
    "pve_completers = game_actions[game_actions['event'] == 'project']['user_id'].drop_duplicates()\n",
    "pvp_completers = completers[~completers.isin(pve_completers)]\n",
    "\n",
    "print(f\"Доля PvE-игроков: {len(pve_completers) / len(completers) * 100:.1f}%\\nДоля PvP-игроков: {len(pvp_completers) / len(completers) * 100:.1f}%\")"
   ]
  },
  {
   "cell_type": "markdown",
   "metadata": {
    "pycharm": {
     "name": "#%% md\n"
    }
   },
   "source": [
    "Игроков, перешедших на следующий уровень за счёт победы над другим игроком - около 2/3 от всех, совершивших действие. Кажется, нам нужно задуматься о введении в сюжет игры Каина и Авеля.\n",
    "\n",
    "Для того, чтобы дальнейшие шаги выполнялись эффективнее, создадим отдельный датафрейм с пользовательской информацией: помимо источника привлечения, зафиксируем стоимость его привлечения, дату регистрации (первого совершённого действия), флаг и дату завершения первого уровня, а также характеристику стиля игры (PvE, PvP, undefined для тех, пользователей, определить стиль которых невозможно).\n",
    "\n",
    "Кроме того, необходимо проанализировать и два других доступных набора данных, чтобы получить понимание об эффективности маркетинговых расходов."
   ]
  },
  {
   "cell_type": "code",
   "execution_count": 12,
   "metadata": {
    "pycharm": {
     "name": "#%%\n"
    }
   },
   "outputs": [
    {
     "data": {
      "text/html": [
       "<div>\n",
       "<style scoped>\n",
       "    .dataframe tbody tr th:only-of-type {\n",
       "        vertical-align: middle;\n",
       "    }\n",
       "\n",
       "    .dataframe tbody tr th {\n",
       "        vertical-align: top;\n",
       "    }\n",
       "\n",
       "    .dataframe thead th {\n",
       "        text-align: right;\n",
       "    }\n",
       "</style>\n",
       "<table border=\"1\" class=\"dataframe\">\n",
       "  <thead>\n",
       "    <tr style=\"text-align: right;\">\n",
       "      <th></th>\n",
       "      <th>user_id</th>\n",
       "      <th>source</th>\n",
       "      <th>reg_date</th>\n",
       "      <th>cost</th>\n",
       "      <th>target_achieved</th>\n",
       "      <th>date_target</th>\n",
       "      <th>strategy</th>\n",
       "    </tr>\n",
       "  </thead>\n",
       "  <tbody>\n",
       "    <tr>\n",
       "      <th>0</th>\n",
       "      <td>0001f83c-c6ac-4621-b7f0-8a28b283ac30</td>\n",
       "      <td>facebook_ads</td>\n",
       "      <td>2020-05-05</td>\n",
       "      <td>0.754162</td>\n",
       "      <td>False</td>\n",
       "      <td>NaT</td>\n",
       "      <td>undefined</td>\n",
       "    </tr>\n",
       "    <tr>\n",
       "      <th>1</th>\n",
       "      <td>01303c2e-7de1-4742-8c3e-daf182b67b9f</td>\n",
       "      <td>facebook_ads</td>\n",
       "      <td>2020-05-05</td>\n",
       "      <td>0.754162</td>\n",
       "      <td>False</td>\n",
       "      <td>NaT</td>\n",
       "      <td>undefined</td>\n",
       "    </tr>\n",
       "    <tr>\n",
       "      <th>2</th>\n",
       "      <td>0136963c-c45c-4edb-92d8-205bd50a4d36</td>\n",
       "      <td>facebook_ads</td>\n",
       "      <td>2020-05-05</td>\n",
       "      <td>0.754162</td>\n",
       "      <td>True</td>\n",
       "      <td>2020-05-25 08:56:48</td>\n",
       "      <td>PvE</td>\n",
       "    </tr>\n",
       "    <tr>\n",
       "      <th>3</th>\n",
       "      <td>018793d6-38c8-450a-bd54-8c181d920f1a</td>\n",
       "      <td>facebook_ads</td>\n",
       "      <td>2020-05-05</td>\n",
       "      <td>0.754162</td>\n",
       "      <td>True</td>\n",
       "      <td>2020-05-24 23:52:53</td>\n",
       "      <td>PvE</td>\n",
       "    </tr>\n",
       "    <tr>\n",
       "      <th>4</th>\n",
       "      <td>01e2b256-4519-493f-b010-4a90a2755245</td>\n",
       "      <td>facebook_ads</td>\n",
       "      <td>2020-05-05</td>\n",
       "      <td>0.754162</td>\n",
       "      <td>False</td>\n",
       "      <td>NaT</td>\n",
       "      <td>undefined</td>\n",
       "    </tr>\n",
       "    <tr>\n",
       "      <th>...</th>\n",
       "      <td>...</td>\n",
       "      <td>...</td>\n",
       "      <td>...</td>\n",
       "      <td>...</td>\n",
       "      <td>...</td>\n",
       "      <td>...</td>\n",
       "      <td>...</td>\n",
       "    </tr>\n",
       "    <tr>\n",
       "      <th>13571</th>\n",
       "      <td>f904bb06-e8f9-4aef-8773-5a47f12ac103</td>\n",
       "      <td>yandex_direct</td>\n",
       "      <td>2020-05-07</td>\n",
       "      <td>0.478784</td>\n",
       "      <td>False</td>\n",
       "      <td>NaT</td>\n",
       "      <td>undefined</td>\n",
       "    </tr>\n",
       "    <tr>\n",
       "      <th>13572</th>\n",
       "      <td>fa1ffc17-0032-4b4d-ac0d-6c75b890db9e</td>\n",
       "      <td>yandex_direct</td>\n",
       "      <td>2020-05-07</td>\n",
       "      <td>0.478784</td>\n",
       "      <td>True</td>\n",
       "      <td>2020-05-24 12:50:48</td>\n",
       "      <td>PvE</td>\n",
       "    </tr>\n",
       "    <tr>\n",
       "      <th>13573</th>\n",
       "      <td>fd7d35ce-430b-40e0-a325-9d2b27b425e5</td>\n",
       "      <td>yandex_direct</td>\n",
       "      <td>2020-05-07</td>\n",
       "      <td>0.478784</td>\n",
       "      <td>True</td>\n",
       "      <td>2020-05-25 00:18:28</td>\n",
       "      <td>PvP</td>\n",
       "    </tr>\n",
       "    <tr>\n",
       "      <th>13574</th>\n",
       "      <td>fec9a806-0291-4d46-914b-e4dd14ad3864</td>\n",
       "      <td>yandex_direct</td>\n",
       "      <td>2020-05-07</td>\n",
       "      <td>0.478784</td>\n",
       "      <td>False</td>\n",
       "      <td>NaT</td>\n",
       "      <td>undefined</td>\n",
       "    </tr>\n",
       "    <tr>\n",
       "      <th>13575</th>\n",
       "      <td>ff77733a-62a1-4d5b-9eb5-034222f24609</td>\n",
       "      <td>yandex_direct</td>\n",
       "      <td>2020-05-07</td>\n",
       "      <td>0.478784</td>\n",
       "      <td>False</td>\n",
       "      <td>NaT</td>\n",
       "      <td>undefined</td>\n",
       "    </tr>\n",
       "  </tbody>\n",
       "</table>\n",
       "<p>13576 rows × 7 columns</p>\n",
       "</div>"
      ],
      "text/plain": [
       "                                    user_id         source   reg_date  \\\n",
       "0      0001f83c-c6ac-4621-b7f0-8a28b283ac30   facebook_ads 2020-05-05   \n",
       "1      01303c2e-7de1-4742-8c3e-daf182b67b9f   facebook_ads 2020-05-05   \n",
       "2      0136963c-c45c-4edb-92d8-205bd50a4d36   facebook_ads 2020-05-05   \n",
       "3      018793d6-38c8-450a-bd54-8c181d920f1a   facebook_ads 2020-05-05   \n",
       "4      01e2b256-4519-493f-b010-4a90a2755245   facebook_ads 2020-05-05   \n",
       "...                                     ...            ...        ...   \n",
       "13571  f904bb06-e8f9-4aef-8773-5a47f12ac103  yandex_direct 2020-05-07   \n",
       "13572  fa1ffc17-0032-4b4d-ac0d-6c75b890db9e  yandex_direct 2020-05-07   \n",
       "13573  fd7d35ce-430b-40e0-a325-9d2b27b425e5  yandex_direct 2020-05-07   \n",
       "13574  fec9a806-0291-4d46-914b-e4dd14ad3864  yandex_direct 2020-05-07   \n",
       "13575  ff77733a-62a1-4d5b-9eb5-034222f24609  yandex_direct 2020-05-07   \n",
       "\n",
       "           cost  target_achieved         date_target   strategy  \n",
       "0      0.754162            False                 NaT  undefined  \n",
       "1      0.754162            False                 NaT  undefined  \n",
       "2      0.754162             True 2020-05-25 08:56:48        PvE  \n",
       "3      0.754162             True 2020-05-24 23:52:53        PvE  \n",
       "4      0.754162            False                 NaT  undefined  \n",
       "...         ...              ...                 ...        ...  \n",
       "13571  0.478784            False                 NaT  undefined  \n",
       "13572  0.478784             True 2020-05-24 12:50:48        PvE  \n",
       "13573  0.478784             True 2020-05-25 00:18:28        PvP  \n",
       "13574  0.478784            False                 NaT  undefined  \n",
       "13575  0.478784            False                 NaT  undefined  \n",
       "\n",
       "[13576 rows x 7 columns]"
      ]
     },
     "execution_count": 12,
     "metadata": {},
     "output_type": "execute_result"
    }
   ],
   "source": [
    "# копируем датафрейм с источником для каждого пользоователя\n",
    "users = user_source\n",
    "\n",
    "# добавляем пользователю дату регистрации\n",
    "users = users.merge(pd.Series(game_actions.groupby('user_id')['event_datetime'].min() - pd.to_timedelta(1, unit='d')).dt.date.to_frame(), \n",
    "                    left_on = 'user_id', \n",
    "                    right_index = True).rename(columns={'event_datetime':'reg_date'})\n",
    "\n",
    "users['reg_date'] = pd.to_datetime(users['reg_date'])\n",
    "\n",
    "temp = users.pivot_table(index=['reg_date', 'source'], values='user_id', aggfunc='count').reset_index() \\\n",
    "    .merge(ad_cost, left_on=['reg_date', 'source'], right_on=['day', 'source'])\n",
    "\n",
    "temp['per_user'] = temp['cost'] / temp['user_id']\n",
    "\n",
    "users = users.merge(temp[['source', 'day', 'per_user']], \n",
    "                 left_on=['source', 'reg_date'], \n",
    "                 right_on=['source', 'day']).rename(columns={'per_user':'cost'})\n",
    "\n",
    "# добавляем флаг прохождения первого уровня\n",
    "users['target_achieved'] = users['user_id'].isin(completers)\n",
    "\n",
    "# добавляем дату прохождения первого уровня\n",
    "users = users.merge(game_actions[game_actions['event']=='finished_stage_1'][['user_id','event_datetime']], on = 'user_id', how = 'left').rename(columns={'event_datetime':'date_target'})\n",
    "\n",
    "# добавляем стратегию\n",
    "users['strategy'] = users.apply(lambda x: 'PvP' if x['user_id'] in list(pvp_completers) \n",
    "                                else 'PvE' if x['user_id'] in list(pve_completers) \n",
    "                                else 'undefined', axis=1)\n",
    "\n",
    "# избавляемся от ненужных переменных и выводим получившийся датафрейм для обзора\n",
    "users = users.drop(columns=['day'])\n",
    "del temp\n",
    "\n",
    "users"
   ]
  },
  {
   "cell_type": "markdown",
   "metadata": {
    "pycharm": {
     "name": "#%% md\n"
    }
   },
   "source": [
    "Собрали полный датафрейм с информацией о пользователях. Проведём также исследовательский анализ оставшихся датафреймов - `user_source` и `ad_cost`."
   ]
  },
  {
   "cell_type": "code",
   "execution_count": 13,
   "metadata": {
    "pycharm": {
     "name": "#%%\n"
    }
   },
   "outputs": [
    {
     "data": {
      "image/png": "[encoded data removed]",
      "text/plain": [
       "<Figure size 1080x360 with 1 Axes>"
      ]
     },
     "metadata": {
      "needs_background": "light"
     },
     "output_type": "display_data"
    }
   ],
   "source": [
    "plt.figure(figsize=(15, 5))\n",
    "sns.lineplot(data=ad_cost, x='day', y='cost', hue='source')\n",
    "plt.title('Стоимость привлечения пользователей (суммарная) по каналам по дням');"
   ]
  },
  {
   "cell_type": "code",
   "execution_count": 14,
   "metadata": {
    "pycharm": {
     "name": "#%%\n"
    }
   },
   "outputs": [
    {
     "data": {
      "image/png": "[encoded data removed]",
      "text/plain": [
       "<Figure size 1080x360 with 1 Axes>"
      ]
     },
     "metadata": {
      "needs_background": "light"
     },
     "output_type": "display_data"
    }
   ],
   "source": [
    "plt.figure(figsize=(15, 5))\n",
    "sns.lineplot(data=users[['reg_date', 'cost', 'source']].drop_duplicates(), x='reg_date', y='cost', hue='source')\n",
    "plt.title('Стоимость привлечения одного пользователя по каналам по дням');"
   ]
  },
  {
   "cell_type": "code",
   "execution_count": 15,
   "metadata": {
    "pycharm": {
     "name": "#%%\n"
    }
   },
   "outputs": [
    {
     "data": {
      "image/png": "[encoded data removed]",
      "text/plain": [
       "<Figure size 1080x360 with 1 Axes>"
      ]
     },
     "metadata": {
      "needs_background": "light"
     },
     "output_type": "display_data"
    }
   ],
   "source": [
    "plt.figure(figsize=(15, 5))\n",
    "sns.barplot(data=user_source.pivot_table(index='source', values='user_id', aggfunc='count').reset_index(), x='source', y='user_id')\n",
    "plt.title('Число привлечённых пользователей по каналам');"
   ]
  },
  {
   "cell_type": "markdown",
   "metadata": {
    "pycharm": {
     "name": "#%% md\n"
    }
   },
   "source": [
    "Большинство источников трафика не отличаются по суммарной стоимости привлечения - выделяется только YouTube (стоимость всех лидов из него примерно в 2 раза ниже). По этому показателю все источники показывают аналогичную динамику.\n",
    "\n",
    "Однако для более корректной оценки необходимо учитывать стоимость привлечения одного лида - и по ней картина несколько отличается. YouTube остаётся наиболее дешёвым каналом, следует за ним Яндекс.Директ, а продукты компании Meta - наиболее дорогие. _Не беда - через пару лет их заблокируют в России!_\n",
    "\n",
    "Наибольшее число лидов приносит реклама в Яндекс.Директ - около 5000 за всё время кампании. Три других источника (Facebook, Instagram и Youtube) принесли около 3000 пользователей каждый."
   ]
  },
  {
   "cell_type": "markdown",
   "metadata": {
    "pycharm": {
     "name": "#%% md\n"
    }
   },
   "source": [
    "### Промежуточный вывод\n",
    "\n",
    "* Число пользователей и совершаемых ими действий достигает максимума 10 мая - в последний день рекламной кампании, после чего снижается.\n",
    "* Менее половины пользователей совершили целевое действие.\n",
    "* Игроков, перешедших на следующий уровень за счёт победы над другим игроком - около 2/3 от всех, совершивших целевое действие.\n",
    "* Большинство источников трафика не отличаются по суммарной стоимости привлечения и динамики этой стоимости - выделяется только YouTube (стоимость всех лидов из него примерно в 2 раза ниже).\n",
    "* В пересчёте же на одного пользователя, стоимость каналов существенно отличаются. Наиболее дешёвым источником остаётся YouTube, однако Яндекс.Директ надёжно удерживает второе место, тогда как Facebook и Instagram отличаются сравнительно высокой стоимостью лида.\n",
    "* Наибольшее число лидов приносит реклама в Яндекс.Директ, три других источника (Facebook, Instagram и Youtube) практически не отличаются друг от друга.\n",
    "* В результате шага собрали полный датафрейм с информацией о пользователях.\n",
    "\n",
    "Исследовательский анализ данных можно считать завершённым. Перейдём к проверке гипотез."
   ]
  },
  {
   "cell_type": "markdown",
   "metadata": {
    "pycharm": {
     "name": "#%% md\n"
    }
   },
   "source": [
    "## Проверка гипотез\n",
    "\n",
    "Основная гипотеза, которую нам необходимо проверить - различие времени прохождения уровня между пользователями, которые заканчивают уровень через реализацию проекта, и пользователями, которые заканчивают уровень победой над другим игроком (PvE- и PvP-ориентрованные соответственно).\n",
    "\n",
    "Сформулируем статистическую гипотезу:\n",
    "* H0: Различий в среднем времени прохождения уровня между PvE- и PvP-ориентированными игроками нет.\n",
    "* H1: Различия в среднем времени прохождения уровня между PvE- и PvP-ориентированными игроками есть.\n",
    "\n",
    "Сравнивать будем **среднее** время прохождения уровня в днях, поэтому проведём t-тест.\n",
    "\n",
    "Уровень значимости (a) установим равным `0.05`.\n",
    "\n",
    "Прежде всего, необходимо рассчитать время прохождения уровня в днях для каждого пользователя."
   ]
  },
  {
   "cell_type": "markdown",
   "metadata": {
    "pycharm": {
     "name": "#%% md\n"
    }
   },
   "source": [
    "<div class=\"alert alert-warning\">\n",
    "    <p><b>Комментарий тимлида: </b></p>\n",
    "    \n",
    "Формулируемые стат. тесты должны быть согласованы с используемыми стат. критериями. Ниже ты используешь t-тест, он проверяет гипотезу о равенстве средних значений (оценок мат. ожиданя). Следовательно, стат. гипотезы должны быть относительно среднего времени прохождения.\n",
    "    \n",
    "> H0: Различий в **среднем** времени прохождения уровня между PvE- и PvP-ориентированными игроками нет.    \n",
    "    \n",
    "Если бы мы использовали z-тест, то строили бы гипотезы относительно долей и т.д.\n",
    "</div>\n"
   ]
  },
  {
   "cell_type": "code",
   "execution_count": 16,
   "metadata": {
    "pycharm": {
     "name": "#%%\n"
    }
   },
   "outputs": [
    {
     "name": "stderr",
     "output_type": "stream",
     "text": [
      "/tmp/ipykernel_142/4125536354.py:2: SettingWithCopyWarning: \n",
      "A value is trying to be set on a copy of a slice from a DataFrame.\n",
      "Try using .loc[row_indexer,col_indexer] = value instead\n",
      "\n",
      "See the caveats in the documentation: https://pandas.pydata.org/pandas-docs/stable/user_guide/indexing.html#returning-a-view-versus-a-copy\n",
      "  users_for_test['days_to_achieve'] = (users_for_test['date_target'].dt.date - users_for_test['reg_date'].dt.date).dt.days\n"
     ]
    }
   ],
   "source": [
    "users_for_test = users[users['target_achieved']]\n",
    "users_for_test['days_to_achieve'] = (users_for_test['date_target'].dt.date - users_for_test['reg_date'].dt.date).dt.days"
   ]
  },
  {
   "cell_type": "code",
   "execution_count": 17,
   "metadata": {
    "pycharm": {
     "name": "#%%\n"
    }
   },
   "outputs": [
    {
     "data": {
      "text/html": [
       "<div>\n",
       "<style scoped>\n",
       "    .dataframe tbody tr th:only-of-type {\n",
       "        vertical-align: middle;\n",
       "    }\n",
       "\n",
       "    .dataframe tbody tr th {\n",
       "        vertical-align: top;\n",
       "    }\n",
       "\n",
       "    .dataframe thead tr th {\n",
       "        text-align: left;\n",
       "    }\n",
       "\n",
       "    .dataframe thead tr:last-of-type th {\n",
       "        text-align: right;\n",
       "    }\n",
       "</style>\n",
       "<table border=\"1\" class=\"dataframe\">\n",
       "  <thead>\n",
       "    <tr>\n",
       "      <th></th>\n",
       "      <th colspan=\"3\" halign=\"left\">days_to_achieve</th>\n",
       "    </tr>\n",
       "    <tr>\n",
       "      <th></th>\n",
       "      <th>mean</th>\n",
       "      <th>std</th>\n",
       "      <th>var</th>\n",
       "    </tr>\n",
       "    <tr>\n",
       "      <th>strategy</th>\n",
       "      <th></th>\n",
       "      <th></th>\n",
       "      <th></th>\n",
       "    </tr>\n",
       "  </thead>\n",
       "  <tbody>\n",
       "    <tr>\n",
       "      <th>PvE</th>\n",
       "      <td>14.396570</td>\n",
       "      <td>3.522622</td>\n",
       "      <td>12.408868</td>\n",
       "    </tr>\n",
       "    <tr>\n",
       "      <th>PvP</th>\n",
       "      <td>12.058466</td>\n",
       "      <td>4.104875</td>\n",
       "      <td>16.849999</td>\n",
       "    </tr>\n",
       "  </tbody>\n",
       "</table>\n",
       "</div>"
      ],
      "text/plain": [
       "         days_to_achieve                     \n",
       "                    mean       std        var\n",
       "strategy                                     \n",
       "PvE            14.396570  3.522622  12.408868\n",
       "PvP            12.058466  4.104875  16.849999"
      ]
     },
     "execution_count": 17,
     "metadata": {},
     "output_type": "execute_result"
    }
   ],
   "source": [
    "users_for_test.drop(columns=['cost','target_achieved']).groupby('strategy').agg(['mean','std','var'], axis=1)"
   ]
  },
  {
   "cell_type": "markdown",
   "metadata": {
    "pycharm": {
     "name": "#%% md\n"
    }
   },
   "source": [
    "Дополнительно визуализируем распределение дней."
   ]
  },
  {
   "cell_type": "code",
   "execution_count": 18,
   "metadata": {
    "pycharm": {
     "name": "#%%\n"
    },
    "scrolled": true
   },
   "outputs": [
    {
     "data": {
      "image/png": "[encoded data removed]",
      "text/plain": [
       "<Figure size 1080x360 with 1 Axes>"
      ]
     },
     "metadata": {
      "needs_background": "light"
     },
     "output_type": "display_data"
    }
   ],
   "source": [
    "plt.figure(figsize=(15,5))\n",
    "sns.histplot(data=users_for_test, x='days_to_achieve', hue='strategy', stat='density', common_norm=False, bins=15);\n",
    "plt.title('Распределение количества дней до достижения цели уровня');"
   ]
  },
  {
   "cell_type": "markdown",
   "metadata": {
    "pycharm": {
     "name": "#%% md\n"
    }
   },
   "source": [
    "И показатель среднего, и гистограмма распределения дней до достижения цели уровня показывают определённые различия во времени этого достижения между двумя группами. Кроме того, распределения формой напоминают нормальное.\n",
    "\n",
    "Выполним проверку гипотезы."
   ]
  },
  {
   "cell_type": "code",
   "execution_count": 19,
   "metadata": {
    "pycharm": {
     "name": "#%%\n"
    }
   },
   "outputs": [
    {
     "name": "stdout",
     "output_type": "stream",
     "text": [
      "Среднее время прохождение уровня в днях, PvE: 14.40\n",
      "Среднее время прохождение уровня в днях, PvP: 12.06\n",
      "p-значение: 0.000\n",
      "Отвергаем нулевую гипотезу: среднее время прохождения уровня при PvE и PvP стратегиях отличается\n"
     ]
    }
   ],
   "source": [
    "alpha = .05 # критический уровень статистической значимости\n",
    "# если p-value окажется меньше него - отвегнем гипотезу\n",
    "\n",
    "results = st.ttest_ind(\n",
    "    list(users_for_test.query(\"strategy=='PvE'\")['days_to_achieve']), \n",
    "    list(users_for_test.query(\"strategy=='PvP'\")['days_to_achieve']))\n",
    "\n",
    "print(f\"\"\"Среднее время прохождение уровня в днях, PvE: {users_for_test.query(\"strategy=='PvE'\")['days_to_achieve'].mean():.2f}\"\"\")\n",
    "print(f\"\"\"Среднее время прохождение уровня в днях, PvP: {users_for_test.query(\"strategy=='PvP'\")['days_to_achieve'].mean():.2f}\"\"\")\n",
    "print(f'p-значение: {results.pvalue:.3f}')\n",
    "\n",
    "if results.pvalue < alpha:\n",
    "    print(\"Отвергаем нулевую гипотезу: среднее время прохождения уровня при PvE и PvP стратегиях отличается\")\n",
    "else:\n",
    "    print(\"Не получилось отвергнуть нулевую гипотезу: среднее время прохождения уровня при PvE и PvP стратегиях не отличается\") "
   ]
  },
  {
   "cell_type": "markdown",
   "metadata": {
    "pycharm": {
     "name": "#%% md\n"
    }
   },
   "source": [
    "Игроки, ориентированные на PvP проходят уровень быстрее - вероятно, придётся поработать либо над балансом, либо над удержанием таких игроков.\n",
    "\n",
    "Проверим ещё одну гипотезу: отличается ли количество построенных зданий у PvP и PvE-ориентированных игроков? Число построек важно, так как текущий план монетизации предусматривает показ рекламных объявлений при открытии меню строительства.\n",
    "\n",
    "Сформулируем статистическую гипотезу:\n",
    "* H0: Различий в среднем количестве построенных зданий между PvE- и PvP-ориентированными игроками нет.\n",
    "* H1: Различия в среднем количестве построенных зданий между PvE- и PvP-ориентированными игроками есть.\n",
    "\n",
    "Сравнивать будем **среднее** количество построенных данных, поэтому снова проведём t-тест.\n",
    "\n",
    "Уровень значимости (a) снова установим равным `0.05`."
   ]
  },
  {
   "cell_type": "code",
   "execution_count": 20,
   "metadata": {
    "pycharm": {
     "name": "#%%\n"
    }
   },
   "outputs": [
    {
     "name": "stdout",
     "output_type": "stream",
     "text": [
      "Среднее число построек на уровне, PvE: 12.65\n",
      "Среднее число построек на уровне, PvP: 9.41\n",
      "p-значение: 0.000\n",
      "Отвергаем нулевую гипотезу: среднее число построек при PvE и PvP стратегиях отличается\n"
     ]
    }
   ],
   "source": [
    "alpha = .05 # критический уровень статистической значимости\n",
    "# если p-value окажется меньше него - отвегнем гипотезу\n",
    "\n",
    "results = st.ttest_ind(\n",
    "    list(game_actions.query(\"user_id in @pvp_completers & event == 'building'\").groupby('user_id')['event'].count()), \n",
    "    list(game_actions.query(\"user_id in @pve_completers & event == 'building'\").groupby('user_id')['event'].count()))\n",
    "\n",
    "print(f\"\"\"Среднее число построек на уровне, PvE: {game_actions.query(\"user_id in @pve_completers & event == 'building'\").groupby('user_id')['event'].count().mean():.2f}\"\"\")\n",
    "print(f\"\"\"Среднее число построек на уровне, PvP: {game_actions.query(\"user_id in @pvp_completers & event == 'building'\").groupby('user_id')['event'].count().mean():.2f}\"\"\")\n",
    "print(f'p-значение: {results.pvalue:.3f}')\n",
    "\n",
    "if results.pvalue < alpha:\n",
    "    print(\"Отвергаем нулевую гипотезу: среднее число построек при PvE и PvP стратегиях отличается\")\n",
    "else:\n",
    "    print(\"Не получилось отвергнуть нулевую гипотезу: среднее число построек при PvE и PvP стратегиях не отличается\") "
   ]
  },
  {
   "cell_type": "markdown",
   "metadata": {
    "pycharm": {
     "name": "#%% md\n"
    }
   },
   "source": [
    "Вполне ожидаемо PvP-ориентированные игроки менее склонны к строительству."
   ]
  },
  {
   "cell_type": "markdown",
   "metadata": {
    "pycharm": {
     "name": "#%% md\n"
    }
   },
   "source": [
    "### Промежуточный вывод\n",
    "\n",
    "На этом этапе проверили две гипотезы:\n",
    "* Гипотеза о различии во времени прохождения уровня между PvP- и PvE-ориентированными игроками подтвердилась;\n",
    "* Гипотеза о различии в количестве построек между PvP- и PvE-ориентированными игроками также подтвердилась.\n",
    "\n",
    "Компании следует рассмотреть возможность внести изменения в баланс, чтобы сподвигнуть PvP-игроков больше строить и задержать их на уровне на более продолжительное время.\n",
    "\n",
    "Можем перейти к разработки модели монетизации."
   ]
  },
  {
   "cell_type": "markdown",
   "metadata": {
    "pycharm": {
     "name": "#%% md\n"
    }
   },
   "source": [
    "## Описание и оценка модели монетизации\n",
    "\n",
    "На данный момент монетизация в игре не введена. Планируется показывать пользователю рекламу на экране строительства при выборе типа постройки.\n",
    "\n",
    "Прибыль с одного показа рекламы - 0.07 условных единиц.\n",
    "\n",
    "В первую очередь проработаем этот вариант - посмотрим, обеспечивает ли он окупаемость. \n",
    "\n",
    "Для этого:\n",
    "\n",
    "    1) Для каждого пользователя посчитаем количество построек;\n",
    "    2) Посчитаем прибыль с одного пользователя;\n",
    "    3) Посчитаем разницу между прибылью и затратами на привлечение пользователя;\n",
    "    4) Оценим окупаемость в целом, а также в подгруппах: PvE vs PvP, каналы привлечения.\n",
    "    \n",
    "Вне зависимости от того, обеспечивает ли изначальная стратегия окупаемость, рассмотрим альтернативные варианты."
   ]
  },
  {
   "cell_type": "code",
   "execution_count": 21,
   "metadata": {
    "pycharm": {
     "name": "#%%\n"
    }
   },
   "outputs": [],
   "source": [
    "users = users.merge(game_actions.pivot_table(index='user_id', values='building_type', aggfunc='count') \\\n",
    "                    .reset_index(), on='user_id').rename(columns={'building_type':'buildings'})"
   ]
  },
  {
   "cell_type": "code",
   "execution_count": 22,
   "metadata": {
    "pycharm": {
     "name": "#%%\n"
    }
   },
   "outputs": [
    {
     "data": {
      "text/html": [
       "<div>\n",
       "<style scoped>\n",
       "    .dataframe tbody tr th:only-of-type {\n",
       "        vertical-align: middle;\n",
       "    }\n",
       "\n",
       "    .dataframe tbody tr th {\n",
       "        vertical-align: top;\n",
       "    }\n",
       "\n",
       "    .dataframe thead th {\n",
       "        text-align: right;\n",
       "    }\n",
       "</style>\n",
       "<table border=\"1\" class=\"dataframe\">\n",
       "  <thead>\n",
       "    <tr style=\"text-align: right;\">\n",
       "      <th></th>\n",
       "      <th>user_id</th>\n",
       "      <th>source</th>\n",
       "      <th>reg_date</th>\n",
       "      <th>cost</th>\n",
       "      <th>target_achieved</th>\n",
       "      <th>date_target</th>\n",
       "      <th>strategy</th>\n",
       "      <th>buildings</th>\n",
       "      <th>revenue</th>\n",
       "      <th>profit</th>\n",
       "    </tr>\n",
       "  </thead>\n",
       "  <tbody>\n",
       "    <tr>\n",
       "      <th>0</th>\n",
       "      <td>0001f83c-c6ac-4621-b7f0-8a28b283ac30</td>\n",
       "      <td>facebook_ads</td>\n",
       "      <td>2020-05-05</td>\n",
       "      <td>0.754162</td>\n",
       "      <td>False</td>\n",
       "      <td>NaT</td>\n",
       "      <td>undefined</td>\n",
       "      <td>13</td>\n",
       "      <td>0.91</td>\n",
       "      <td>0.155838</td>\n",
       "    </tr>\n",
       "    <tr>\n",
       "      <th>1</th>\n",
       "      <td>01303c2e-7de1-4742-8c3e-daf182b67b9f</td>\n",
       "      <td>facebook_ads</td>\n",
       "      <td>2020-05-05</td>\n",
       "      <td>0.754162</td>\n",
       "      <td>False</td>\n",
       "      <td>NaT</td>\n",
       "      <td>undefined</td>\n",
       "      <td>4</td>\n",
       "      <td>0.28</td>\n",
       "      <td>-0.474162</td>\n",
       "    </tr>\n",
       "    <tr>\n",
       "      <th>2</th>\n",
       "      <td>0136963c-c45c-4edb-92d8-205bd50a4d36</td>\n",
       "      <td>facebook_ads</td>\n",
       "      <td>2020-05-05</td>\n",
       "      <td>0.754162</td>\n",
       "      <td>True</td>\n",
       "      <td>2020-05-25 08:56:48</td>\n",
       "      <td>PvE</td>\n",
       "      <td>10</td>\n",
       "      <td>0.70</td>\n",
       "      <td>-0.054162</td>\n",
       "    </tr>\n",
       "    <tr>\n",
       "      <th>3</th>\n",
       "      <td>018793d6-38c8-450a-bd54-8c181d920f1a</td>\n",
       "      <td>facebook_ads</td>\n",
       "      <td>2020-05-05</td>\n",
       "      <td>0.754162</td>\n",
       "      <td>True</td>\n",
       "      <td>2020-05-24 23:52:53</td>\n",
       "      <td>PvE</td>\n",
       "      <td>12</td>\n",
       "      <td>0.84</td>\n",
       "      <td>0.085838</td>\n",
       "    </tr>\n",
       "    <tr>\n",
       "      <th>4</th>\n",
       "      <td>01e2b256-4519-493f-b010-4a90a2755245</td>\n",
       "      <td>facebook_ads</td>\n",
       "      <td>2020-05-05</td>\n",
       "      <td>0.754162</td>\n",
       "      <td>False</td>\n",
       "      <td>NaT</td>\n",
       "      <td>undefined</td>\n",
       "      <td>9</td>\n",
       "      <td>0.63</td>\n",
       "      <td>-0.124162</td>\n",
       "    </tr>\n",
       "    <tr>\n",
       "      <th>...</th>\n",
       "      <td>...</td>\n",
       "      <td>...</td>\n",
       "      <td>...</td>\n",
       "      <td>...</td>\n",
       "      <td>...</td>\n",
       "      <td>...</td>\n",
       "      <td>...</td>\n",
       "      <td>...</td>\n",
       "      <td>...</td>\n",
       "      <td>...</td>\n",
       "    </tr>\n",
       "    <tr>\n",
       "      <th>13571</th>\n",
       "      <td>f904bb06-e8f9-4aef-8773-5a47f12ac103</td>\n",
       "      <td>yandex_direct</td>\n",
       "      <td>2020-05-07</td>\n",
       "      <td>0.478784</td>\n",
       "      <td>False</td>\n",
       "      <td>NaT</td>\n",
       "      <td>undefined</td>\n",
       "      <td>5</td>\n",
       "      <td>0.35</td>\n",
       "      <td>-0.128784</td>\n",
       "    </tr>\n",
       "    <tr>\n",
       "      <th>13572</th>\n",
       "      <td>fa1ffc17-0032-4b4d-ac0d-6c75b890db9e</td>\n",
       "      <td>yandex_direct</td>\n",
       "      <td>2020-05-07</td>\n",
       "      <td>0.478784</td>\n",
       "      <td>True</td>\n",
       "      <td>2020-05-24 12:50:48</td>\n",
       "      <td>PvE</td>\n",
       "      <td>10</td>\n",
       "      <td>0.70</td>\n",
       "      <td>0.221216</td>\n",
       "    </tr>\n",
       "    <tr>\n",
       "      <th>13573</th>\n",
       "      <td>fd7d35ce-430b-40e0-a325-9d2b27b425e5</td>\n",
       "      <td>yandex_direct</td>\n",
       "      <td>2020-05-07</td>\n",
       "      <td>0.478784</td>\n",
       "      <td>True</td>\n",
       "      <td>2020-05-25 00:18:28</td>\n",
       "      <td>PvP</td>\n",
       "      <td>8</td>\n",
       "      <td>0.56</td>\n",
       "      <td>0.081216</td>\n",
       "    </tr>\n",
       "    <tr>\n",
       "      <th>13574</th>\n",
       "      <td>fec9a806-0291-4d46-914b-e4dd14ad3864</td>\n",
       "      <td>yandex_direct</td>\n",
       "      <td>2020-05-07</td>\n",
       "      <td>0.478784</td>\n",
       "      <td>False</td>\n",
       "      <td>NaT</td>\n",
       "      <td>undefined</td>\n",
       "      <td>10</td>\n",
       "      <td>0.70</td>\n",
       "      <td>0.221216</td>\n",
       "    </tr>\n",
       "    <tr>\n",
       "      <th>13575</th>\n",
       "      <td>ff77733a-62a1-4d5b-9eb5-034222f24609</td>\n",
       "      <td>yandex_direct</td>\n",
       "      <td>2020-05-07</td>\n",
       "      <td>0.478784</td>\n",
       "      <td>False</td>\n",
       "      <td>NaT</td>\n",
       "      <td>undefined</td>\n",
       "      <td>3</td>\n",
       "      <td>0.21</td>\n",
       "      <td>-0.268784</td>\n",
       "    </tr>\n",
       "  </tbody>\n",
       "</table>\n",
       "<p>13576 rows × 10 columns</p>\n",
       "</div>"
      ],
      "text/plain": [
       "                                    user_id         source   reg_date  \\\n",
       "0      0001f83c-c6ac-4621-b7f0-8a28b283ac30   facebook_ads 2020-05-05   \n",
       "1      01303c2e-7de1-4742-8c3e-daf182b67b9f   facebook_ads 2020-05-05   \n",
       "2      0136963c-c45c-4edb-92d8-205bd50a4d36   facebook_ads 2020-05-05   \n",
       "3      018793d6-38c8-450a-bd54-8c181d920f1a   facebook_ads 2020-05-05   \n",
       "4      01e2b256-4519-493f-b010-4a90a2755245   facebook_ads 2020-05-05   \n",
       "...                                     ...            ...        ...   \n",
       "13571  f904bb06-e8f9-4aef-8773-5a47f12ac103  yandex_direct 2020-05-07   \n",
       "13572  fa1ffc17-0032-4b4d-ac0d-6c75b890db9e  yandex_direct 2020-05-07   \n",
       "13573  fd7d35ce-430b-40e0-a325-9d2b27b425e5  yandex_direct 2020-05-07   \n",
       "13574  fec9a806-0291-4d46-914b-e4dd14ad3864  yandex_direct 2020-05-07   \n",
       "13575  ff77733a-62a1-4d5b-9eb5-034222f24609  yandex_direct 2020-05-07   \n",
       "\n",
       "           cost  target_achieved         date_target   strategy  buildings  \\\n",
       "0      0.754162            False                 NaT  undefined         13   \n",
       "1      0.754162            False                 NaT  undefined          4   \n",
       "2      0.754162             True 2020-05-25 08:56:48        PvE         10   \n",
       "3      0.754162             True 2020-05-24 23:52:53        PvE         12   \n",
       "4      0.754162            False                 NaT  undefined          9   \n",
       "...         ...              ...                 ...        ...        ...   \n",
       "13571  0.478784            False                 NaT  undefined          5   \n",
       "13572  0.478784             True 2020-05-24 12:50:48        PvE         10   \n",
       "13573  0.478784             True 2020-05-25 00:18:28        PvP          8   \n",
       "13574  0.478784            False                 NaT  undefined         10   \n",
       "13575  0.478784            False                 NaT  undefined          3   \n",
       "\n",
       "       revenue    profit  \n",
       "0         0.91  0.155838  \n",
       "1         0.28 -0.474162  \n",
       "2         0.70 -0.054162  \n",
       "3         0.84  0.085838  \n",
       "4         0.63 -0.124162  \n",
       "...        ...       ...  \n",
       "13571     0.35 -0.128784  \n",
       "13572     0.70  0.221216  \n",
       "13573     0.56  0.081216  \n",
       "13574     0.70  0.221216  \n",
       "13575     0.21 -0.268784  \n",
       "\n",
       "[13576 rows x 10 columns]"
      ]
     },
     "execution_count": 22,
     "metadata": {},
     "output_type": "execute_result"
    }
   ],
   "source": [
    "users['revenue'] = users['buildings'] * 0.07\n",
    "users['profit'] = users['revenue'] - users['cost']\n",
    "users"
   ]
  },
  {
   "cell_type": "code",
   "execution_count": 23,
   "metadata": {
    "pycharm": {
     "name": "#%%\n"
    }
   },
   "outputs": [
    {
     "name": "stdout",
     "output_type": "stream",
     "text": [
      "Общая прибыль при показе рекламы: 1353.34\n"
     ]
    }
   ],
   "source": [
    "print(f\"Общая прибыль при показе рекламы: {users['profit'].sum():.2f}\")"
   ]
  },
  {
   "cell_type": "code",
   "execution_count": 24,
   "metadata": {
    "pycharm": {
     "name": "#%%\n"
    },
    "scrolled": true
   },
   "outputs": [
    {
     "data": {
      "text/html": [
       "<div>\n",
       "<style scoped>\n",
       "    .dataframe tbody tr th:only-of-type {\n",
       "        vertical-align: middle;\n",
       "    }\n",
       "\n",
       "    .dataframe tbody tr th {\n",
       "        vertical-align: top;\n",
       "    }\n",
       "\n",
       "    .dataframe thead th {\n",
       "        text-align: right;\n",
       "    }\n",
       "</style>\n",
       "<table border=\"1\" class=\"dataframe\">\n",
       "  <thead>\n",
       "    <tr style=\"text-align: right;\">\n",
       "      <th></th>\n",
       "      <th>profit</th>\n",
       "    </tr>\n",
       "  </thead>\n",
       "  <tbody>\n",
       "    <tr>\n",
       "      <th>facebook_ads</th>\n",
       "      <td>-311.734643</td>\n",
       "    </tr>\n",
       "    <tr>\n",
       "      <th>instagram_new_adverts</th>\n",
       "      <td>65.608309</td>\n",
       "    </tr>\n",
       "    <tr>\n",
       "      <th>yandex_direct</th>\n",
       "      <td>919.128551</td>\n",
       "    </tr>\n",
       "    <tr>\n",
       "      <th>youtube_channel_reklama</th>\n",
       "      <td>680.340796</td>\n",
       "    </tr>\n",
       "    <tr>\n",
       "      <th>PvE</th>\n",
       "      <td>599.201983</td>\n",
       "    </tr>\n",
       "    <tr>\n",
       "      <th>PvP</th>\n",
       "      <td>397.817317</td>\n",
       "    </tr>\n",
       "    <tr>\n",
       "      <th>undefined</th>\n",
       "      <td>356.323714</td>\n",
       "    </tr>\n",
       "  </tbody>\n",
       "</table>\n",
       "</div>"
      ],
      "text/plain": [
       "                             profit\n",
       "facebook_ads            -311.734643\n",
       "instagram_new_adverts     65.608309\n",
       "yandex_direct            919.128551\n",
       "youtube_channel_reklama  680.340796\n",
       "PvE                      599.201983\n",
       "PvP                      397.817317\n",
       "undefined                356.323714"
      ]
     },
     "execution_count": 24,
     "metadata": {},
     "output_type": "execute_result"
    }
   ],
   "source": [
    "pd.concat([users.pivot_table(index='source', values='profit', aggfunc='sum'), \n",
    "          users.pivot_table(index='strategy', values='profit', aggfunc='sum')])"
   ]
  },
  {
   "cell_type": "markdown",
   "metadata": {
    "pycharm": {
     "name": "#%% md\n"
    }
   },
   "source": [
    "В целом, рассматриваемая стратегия обеспечивает игре \"Космические братья\" окупаемость, но потенциально рекламная нагрузка в ней слишком велика.\n",
    "\n",
    "У нас есть запас по прибыли - можем рассчитать дополнительные варианты монетизации, вплоть до чистого уровня окупаемости (\"выхода в ноль\")."
   ]
  },
  {
   "cell_type": "code",
   "execution_count": 25,
   "metadata": {
    "pycharm": {
     "name": "#%%\n"
    }
   },
   "outputs": [
    {
     "name": "stdout",
     "output_type": "stream",
     "text": [
      "В среднем пользователь строит 9 зданий.\n",
      "Средняя стоимость привлечения пользователя равна 0.56 у.е. - столько необходимо получать с пользователя в среднем для достижения окупаемости.\n",
      "Общая стоимость привлечения пользователей составила 7603.58 у.е.\n",
      "Чтобы выйти на этот уровень необходимо в среднем показать 8 рекламных роликов.\n"
     ]
    }
   ],
   "source": [
    "print(f\"В среднем пользователь строит {game_actions[game_actions['event']=='building'].groupby('user_id')['event'].count().mean():.0f} зданий.\")\n",
    "print(f\"Средняя стоимость привлечения пользователя равна {users['cost'].mean():.2f} у.е. - столько необходимо получать с пользователя в среднем для достижения окупаемости.\")\n",
    "print(f\"Общая стоимость привлечения пользователей составила {users['cost'].sum():.2f} у.е.\")\n",
    "print(f\"Чтобы выйти на этот уровень необходимо в среднем показать {users['cost'].sum() / users['cost'].count() / 0.07:.0f} рекламных роликов.\")"
   ]
  },
  {
   "cell_type": "markdown",
   "metadata": {
    "pycharm": {
     "name": "#%% md\n"
    }
   },
   "source": [
    "Запас по прибыли оказался небольшим - рассчитаем прибыль от продукта при условии показа рекламных роликов, начиная со второй постройки."
   ]
  },
  {
   "cell_type": "code",
   "execution_count": 26,
   "metadata": {
    "pycharm": {
     "name": "#%%\n"
    }
   },
   "outputs": [
    {
     "name": "stdout",
     "output_type": "stream",
     "text": [
      "Общая прибыль при альтернативной стратегии: 403.02\n"
     ]
    },
    {
     "data": {
      "text/html": [
       "<div>\n",
       "<style scoped>\n",
       "    .dataframe tbody tr th:only-of-type {\n",
       "        vertical-align: middle;\n",
       "    }\n",
       "\n",
       "    .dataframe tbody tr th {\n",
       "        vertical-align: top;\n",
       "    }\n",
       "\n",
       "    .dataframe thead th {\n",
       "        text-align: right;\n",
       "    }\n",
       "</style>\n",
       "<table border=\"1\" class=\"dataframe\">\n",
       "  <thead>\n",
       "    <tr style=\"text-align: right;\">\n",
       "      <th></th>\n",
       "      <th>profit</th>\n",
       "    </tr>\n",
       "  </thead>\n",
       "  <tbody>\n",
       "    <tr>\n",
       "      <th>facebook_ads</th>\n",
       "      <td>-502.554643</td>\n",
       "    </tr>\n",
       "    <tr>\n",
       "      <th>instagram_new_adverts</th>\n",
       "      <td>-168.681691</td>\n",
       "    </tr>\n",
       "    <tr>\n",
       "      <th>yandex_direct</th>\n",
       "      <td>581.938551</td>\n",
       "    </tr>\n",
       "    <tr>\n",
       "      <th>youtube_channel_reklama</th>\n",
       "      <td>492.320796</td>\n",
       "    </tr>\n",
       "    <tr>\n",
       "      <th>PvE</th>\n",
       "      <td>468.581983</td>\n",
       "    </tr>\n",
       "    <tr>\n",
       "      <th>PvP</th>\n",
       "      <td>121.247317</td>\n",
       "    </tr>\n",
       "    <tr>\n",
       "      <th>undefined</th>\n",
       "      <td>-186.806286</td>\n",
       "    </tr>\n",
       "  </tbody>\n",
       "</table>\n",
       "</div>"
      ],
      "text/plain": [
       "                             profit\n",
       "facebook_ads            -502.554643\n",
       "instagram_new_adverts   -168.681691\n",
       "yandex_direct            581.938551\n",
       "youtube_channel_reklama  492.320796\n",
       "PvE                      468.581983\n",
       "PvP                      121.247317\n",
       "undefined               -186.806286"
      ]
     },
     "execution_count": 26,
     "metadata": {},
     "output_type": "execute_result"
    }
   ],
   "source": [
    "users_alt = users.copy()\n",
    "users_alt['buildings'] = users_alt['buildings'] - 1 # уменьшаем количество показов рекламы\n",
    "users_alt['buildings'].replace(-1, 0) # но отрицательного числа построек быть не может, поэтому заменяем -1 на 0\n",
    "users_alt['revenue'] = users_alt['buildings'] * 0.07\n",
    "users_alt['profit'] = users_alt['revenue'] - users_alt['cost']\n",
    "\n",
    "print(f\"Общая прибыль при альтернативной стратегии: {users_alt['profit'].sum():.2f}\")\n",
    "\n",
    "pd.concat([users_alt.pivot_table(index='source', values='profit', aggfunc='sum'), \n",
    "          users_alt.pivot_table(index='strategy', values='profit', aggfunc='sum')])"
   ]
  },
  {
   "cell_type": "markdown",
   "metadata": {
    "pycharm": {
     "name": "#%% md\n"
    }
   },
   "source": [
    "При альтернативной рекламной стратегии всё ещё окупаются вовлечённые игроки - выполнившие целевое действие, вне зависимости от собственной игровой стратегии. Однако те, кто не завершил первый уровень, перестают окупаться, аналогично перестаёт окупаться и Instagram как рекламная платформа.\n",
    "\n",
    "Дальнейшее снижение рекламной нагрузки, вероятно, приведёт к потере окупаемости PvP-ориентированных игроков - что лишь усиливает рекомендацию скорректировать баланс игры.\n",
    "\n",
    "Что, если снизить рекламную нагрузку ещё сильнее? Повторим те же манипуляции."
   ]
  },
  {
   "cell_type": "code",
   "execution_count": 27,
   "metadata": {
    "pycharm": {
     "name": "#%%\n"
    }
   },
   "outputs": [
    {
     "name": "stdout",
     "output_type": "stream",
     "text": [
      "Общая прибыль при стратегии показа рекламы с третьего экрана постройки: -547.30\n"
     ]
    },
    {
     "data": {
      "text/html": [
       "<div>\n",
       "<style scoped>\n",
       "    .dataframe tbody tr th:only-of-type {\n",
       "        vertical-align: middle;\n",
       "    }\n",
       "\n",
       "    .dataframe tbody tr th {\n",
       "        vertical-align: top;\n",
       "    }\n",
       "\n",
       "    .dataframe thead th {\n",
       "        text-align: right;\n",
       "    }\n",
       "</style>\n",
       "<table border=\"1\" class=\"dataframe\">\n",
       "  <thead>\n",
       "    <tr style=\"text-align: right;\">\n",
       "      <th></th>\n",
       "      <th>profit</th>\n",
       "    </tr>\n",
       "  </thead>\n",
       "  <tbody>\n",
       "    <tr>\n",
       "      <th>facebook_ads</th>\n",
       "      <td>-693.374643</td>\n",
       "    </tr>\n",
       "    <tr>\n",
       "      <th>instagram_new_adverts</th>\n",
       "      <td>-402.971691</td>\n",
       "    </tr>\n",
       "    <tr>\n",
       "      <th>yandex_direct</th>\n",
       "      <td>244.748551</td>\n",
       "    </tr>\n",
       "    <tr>\n",
       "      <th>youtube_channel_reklama</th>\n",
       "      <td>304.300796</td>\n",
       "    </tr>\n",
       "    <tr>\n",
       "      <th>PvE</th>\n",
       "      <td>337.961983</td>\n",
       "    </tr>\n",
       "    <tr>\n",
       "      <th>PvP</th>\n",
       "      <td>-155.322683</td>\n",
       "    </tr>\n",
       "    <tr>\n",
       "      <th>undefined</th>\n",
       "      <td>-729.936286</td>\n",
       "    </tr>\n",
       "  </tbody>\n",
       "</table>\n",
       "</div>"
      ],
      "text/plain": [
       "                             profit\n",
       "facebook_ads            -693.374643\n",
       "instagram_new_adverts   -402.971691\n",
       "yandex_direct            244.748551\n",
       "youtube_channel_reklama  304.300796\n",
       "PvE                      337.961983\n",
       "PvP                     -155.322683\n",
       "undefined               -729.936286"
      ]
     },
     "execution_count": 27,
     "metadata": {},
     "output_type": "execute_result"
    }
   ],
   "source": [
    "users_alt['buildings'] = users_alt['buildings'] - 1 # уменьшаем количество показов рекламы\n",
    "users_alt['buildings'].replace(-1, 0) # но отрицательного числа построек быть не может, поэтому заменяем -1 на 0\n",
    "users_alt['revenue'] = users_alt['buildings'] * 0.07\n",
    "users_alt['profit'] = users_alt['revenue'] - users_alt['cost']\n",
    "\n",
    "print(f\"Общая прибыль при стратегии показа рекламы с третьего экрана постройки: {users_alt['profit'].sum():.2f}\")\n",
    "\n",
    "pd.concat([users_alt.pivot_table(index='source', values='profit', aggfunc='sum'), \n",
    "          users_alt.pivot_table(index='strategy', values='profit', aggfunc='sum')])"
   ]
  },
  {
   "cell_type": "markdown",
   "metadata": {
    "pycharm": {
     "name": "#%% md\n"
    }
   },
   "source": [
    "Как и ожидалось, PvP-игроки перестают окупаться, как перестаёт окупаться и игра в целом. Из позитивных моментов стоит отметить, что два канала привлечения всё ещё остаются прибыльными.\n",
    "\n",
    "Выполним ещё одну - чисто гипотетическую - проверку: исключим \"дорогие\" каналы и проверим, насколько изменятся результаты второй альтернативной стратегии."
   ]
  },
  {
   "cell_type": "code",
   "execution_count": 28,
   "metadata": {
    "pycharm": {
     "name": "#%%\n"
    }
   },
   "outputs": [
    {
     "name": "stdout",
     "output_type": "stream",
     "text": [
      "Общая прибыль при стратегии показа рекламы с третьего экрана постройки: 549.05\n"
     ]
    },
    {
     "data": {
      "text/html": [
       "<div>\n",
       "<style scoped>\n",
       "    .dataframe tbody tr th:only-of-type {\n",
       "        vertical-align: middle;\n",
       "    }\n",
       "\n",
       "    .dataframe tbody tr th {\n",
       "        vertical-align: top;\n",
       "    }\n",
       "\n",
       "    .dataframe thead th {\n",
       "        text-align: right;\n",
       "    }\n",
       "</style>\n",
       "<table border=\"1\" class=\"dataframe\">\n",
       "  <thead>\n",
       "    <tr style=\"text-align: right;\">\n",
       "      <th></th>\n",
       "      <th>profit</th>\n",
       "    </tr>\n",
       "  </thead>\n",
       "  <tbody>\n",
       "    <tr>\n",
       "      <th>yandex_direct</th>\n",
       "      <td>244.748551</td>\n",
       "    </tr>\n",
       "    <tr>\n",
       "      <th>youtube_channel_reklama</th>\n",
       "      <td>304.300796</td>\n",
       "    </tr>\n",
       "    <tr>\n",
       "      <th>PvE</th>\n",
       "      <td>303.379655</td>\n",
       "    </tr>\n",
       "    <tr>\n",
       "      <th>PvP</th>\n",
       "      <td>172.809728</td>\n",
       "    </tr>\n",
       "    <tr>\n",
       "      <th>undefined</th>\n",
       "      <td>72.859964</td>\n",
       "    </tr>\n",
       "  </tbody>\n",
       "</table>\n",
       "</div>"
      ],
      "text/plain": [
       "                             profit\n",
       "yandex_direct            244.748551\n",
       "youtube_channel_reklama  304.300796\n",
       "PvE                      303.379655\n",
       "PvP                      172.809728\n",
       "undefined                 72.859964"
      ]
     },
     "execution_count": 28,
     "metadata": {},
     "output_type": "execute_result"
    }
   ],
   "source": [
    "print(f\"Общая прибыль при стратегии показа рекламы с третьего экрана постройки: {users_alt[users_alt['source'].isin(['yandex_direct', 'youtube_channel_reklama'])]['profit'].sum():.2f}\")\n",
    "\n",
    "pd.concat([users_alt[users_alt['source'].isin(['yandex_direct', 'youtube_channel_reklama'])].pivot_table(index='source', values='profit', aggfunc='sum'), \n",
    "          users_alt[users_alt['source'].isin(['yandex_direct', 'youtube_channel_reklama'])].pivot_table(index='strategy', values='profit', aggfunc='sum')])"
   ]
  },
  {
   "cell_type": "markdown",
   "metadata": {
    "pycharm": {
     "name": "#%% md\n"
    }
   },
   "source": [
    "Без наиболее дорогих каналов игра остаётся на уровне окупаемости даже при условии показа рекламы начиная с третьей постройки - дополнительный аргумент в пользу перераспределения рекламных бюджетов."
   ]
  },
  {
   "cell_type": "markdown",
   "metadata": {
    "pycharm": {
     "name": "#%% md\n"
    }
   },
   "source": [
    "### Промежуточный вывод\n",
    "\n",
    "Рассматриваемая стратегия может быть признана успешной: она обеспечивает прибыль как в целом, так и в большинстве разрезов.\n",
    "\n",
    "Единственное исключение - Facebook как источник трафика, привлечение пользователя в этом канале обходится слишком дорого при выбранной модели.\n",
    "\n",
    "Рассмотрели также альтернативные варианты:\n",
    "\n",
    "* При условии сохранения распределения рекламных бюджетов и неизменности баланса для PvP-игроков, стратегия показа рекламы начиная со второго экрана всё ещё обеспечивает окупаемость игры в целом, ценой окупаемости PvP-игроков и Instagram как источника трафика.\n",
    "\n",
    "* При условии исключения наиболее дорогостоящих источников трафика, окупаемой является и стратегия показа рекламы начиная с третьего экрана строительства (неокупаемая в текущих условиях на всей выборке).\n",
    "\n",
    "Подведём итоги."
   ]
  },
  {
   "cell_type": "markdown",
   "metadata": {
    "pycharm": {
     "name": "#%% md\n"
    }
   },
   "source": [
    "## Общий вывод\n",
    "\n",
    "За время работы над проектом установили несколько моментов:\n",
    "\n",
    "* Существуют различия между PvP- и PvE-ориентированными игроками:\n",
    "    - PvP-ориентированные игроки тратят меньше времени на прохождение первого уровня;\n",
    "    - PvP-ориентированные игроки возводят меньше построек на уровне.\n",
    "* Отток пользователей на первом уровне составляет около 60%;\n",
    "* Предложенная модель монетизации обеспечивает прибыльность продукту в целом.\n",
    "\n",
    "Говоря о модели монетизации, стоит отметить, что для одной из групп игроков модель не работает: привлечённые в Facebook пользователи слишком дороги и не окупаются.\n",
    "Кроме того:\n",
    "* Стратегия показа рекламы со второго экрана позволяет игре окупаться в состоянии \"as is\", без изменений в балансе и перераспределения маркетинговых бюджетов;\n",
    "* При условии исключения наиболее дорогостоящих источников трафика, окупаемой является и стратегия показа рекламы начиная с третьего экрана строительства, не обеспечивающая окупаемости в данный момент.\n",
    "\n",
    "Рекомендация для компании - пересмотреть баланс игры с целью усложнения PvP-компоненты, чтобы мотивировать игроков, придерживающихся этой стратегии, проводить в игре больше времени и возводить больше построек.\n",
    "\n",
    "Кроме того, стоит отказаться от рекламы в Facebook - перераспределить бюджеты в пользу более прибыльных каналов (в первую очередь, яндекс.директ, затем - ютуб)."
   ]
  }
 ],
 "metadata": {
  "ExecuteTimeLog": [
   {
    "duration": 2318,
    "start_time": "2022-05-07T15:12:10.874Z"
   },
   {
    "duration": 148539,
    "start_time": "2022-05-07T15:15:20.545Z"
   },
   {
    "duration": 8,
    "start_time": "2022-05-07T15:17:53.041Z"
   },
   {
    "duration": 1296,
    "start_time": "2022-05-10T15:56:01.648Z"
   },
   {
    "duration": 698,
    "start_time": "2022-05-10T15:56:07.293Z"
   },
   {
    "duration": 2,
    "start_time": "2022-05-10T16:01:18.899Z"
   },
   {
    "duration": 233,
    "start_time": "2022-05-10T16:01:18.905Z"
   },
   {
    "duration": 63,
    "start_time": "2022-05-10T16:01:19.140Z"
   },
   {
    "duration": 51,
    "start_time": "2022-05-10T16:01:19.205Z"
   },
   {
    "duration": 46,
    "start_time": "2022-05-10T16:01:19.258Z"
   },
   {
    "duration": 90,
    "start_time": "2022-05-10T16:01:19.305Z"
   },
   {
    "duration": 74,
    "start_time": "2022-05-10T16:01:19.397Z"
   },
   {
    "duration": 55,
    "start_time": "2022-05-10T16:01:19.472Z"
   },
   {
    "duration": 1425,
    "start_time": "2022-05-10T16:01:39.983Z"
   },
   {
    "duration": 316,
    "start_time": "2022-05-10T16:01:41.410Z"
   },
   {
    "duration": 94,
    "start_time": "2022-05-10T16:01:41.728Z"
   },
   {
    "duration": 56,
    "start_time": "2022-05-10T16:01:41.824Z"
   },
   {
    "duration": 40,
    "start_time": "2022-05-10T16:01:41.882Z"
   },
   {
    "duration": 87,
    "start_time": "2022-05-10T16:01:41.923Z"
   },
   {
    "duration": 79,
    "start_time": "2022-05-10T16:01:42.012Z"
   },
   {
    "duration": 88,
    "start_time": "2022-05-10T16:19:12.149Z"
   },
   {
    "duration": 9,
    "start_time": "2022-05-10T16:19:16.658Z"
   },
   {
    "duration": 9,
    "start_time": "2022-05-10T16:19:32.309Z"
   },
   {
    "duration": 58,
    "start_time": "2022-05-10T16:19:41.112Z"
   },
   {
    "duration": 20,
    "start_time": "2022-05-10T16:22:24.069Z"
   },
   {
    "duration": 43,
    "start_time": "2022-05-10T16:22:55.361Z"
   },
   {
    "duration": 48,
    "start_time": "2022-05-10T16:23:01.660Z"
   },
   {
    "duration": 13,
    "start_time": "2022-05-10T16:26:44.657Z"
   },
   {
    "duration": 12,
    "start_time": "2022-05-10T16:26:51.101Z"
   },
   {
    "duration": 15,
    "start_time": "2022-05-10T16:26:56.569Z"
   },
   {
    "duration": 16,
    "start_time": "2022-05-10T16:27:00.402Z"
   },
   {
    "duration": 16,
    "start_time": "2022-05-10T16:27:51.750Z"
   },
   {
    "duration": 15,
    "start_time": "2022-05-10T16:27:56.161Z"
   },
   {
    "duration": 24,
    "start_time": "2022-05-10T16:28:00.362Z"
   },
   {
    "duration": 35,
    "start_time": "2022-05-10T16:29:06.878Z"
   },
   {
    "duration": 27,
    "start_time": "2022-05-10T16:29:20.079Z"
   },
   {
    "duration": 23,
    "start_time": "2022-05-10T16:29:41.188Z"
   },
   {
    "duration": 18,
    "start_time": "2022-05-10T16:29:50.423Z"
   },
   {
    "duration": 32,
    "start_time": "2022-05-10T16:29:59.908Z"
   },
   {
    "duration": 31,
    "start_time": "2022-05-10T16:30:16.753Z"
   },
   {
    "duration": 27,
    "start_time": "2022-05-10T16:30:23.300Z"
   },
   {
    "duration": 25,
    "start_time": "2022-05-10T16:30:27.401Z"
   },
   {
    "duration": 26,
    "start_time": "2022-05-10T16:31:24.609Z"
   },
   {
    "duration": 74,
    "start_time": "2022-05-10T16:31:59.507Z"
   },
   {
    "duration": 67,
    "start_time": "2022-05-10T16:34:13.402Z"
   },
   {
    "duration": 67,
    "start_time": "2022-05-10T16:34:29.302Z"
   },
   {
    "duration": 68,
    "start_time": "2022-05-10T16:34:43.760Z"
   },
   {
    "duration": 66,
    "start_time": "2022-05-10T16:34:51.681Z"
   },
   {
    "duration": 263,
    "start_time": "2022-05-10T16:39:40.158Z"
   },
   {
    "duration": 279,
    "start_time": "2022-05-10T16:39:56.199Z"
   },
   {
    "duration": 266,
    "start_time": "2022-05-10T16:41:02.515Z"
   },
   {
    "duration": 260,
    "start_time": "2022-05-10T16:41:10.974Z"
   },
   {
    "duration": 111,
    "start_time": "2022-05-10T16:42:37.406Z"
   },
   {
    "duration": 19,
    "start_time": "2022-05-10T16:42:41.007Z"
   },
   {
    "duration": 22,
    "start_time": "2022-05-10T16:42:57.082Z"
   },
   {
    "duration": 14,
    "start_time": "2022-05-10T16:43:13.759Z"
   },
   {
    "duration": 33,
    "start_time": "2022-05-10T16:43:50.066Z"
   },
   {
    "duration": 34,
    "start_time": "2022-05-10T16:46:18.433Z"
   },
   {
    "duration": 12,
    "start_time": "2022-05-10T16:55:37.820Z"
   },
   {
    "duration": 11,
    "start_time": "2022-05-10T16:55:38.218Z"
   },
   {
    "duration": 36,
    "start_time": "2022-05-10T16:55:47.839Z"
   },
   {
    "duration": 13,
    "start_time": "2022-05-10T17:38:07.155Z"
   },
   {
    "duration": 15,
    "start_time": "2022-05-10T17:38:15.943Z"
   },
   {
    "duration": 22,
    "start_time": "2022-05-10T17:39:54.538Z"
   },
   {
    "duration": 34,
    "start_time": "2022-05-10T17:40:08.692Z"
   },
   {
    "duration": 43,
    "start_time": "2022-05-10T17:40:45.458Z"
   },
   {
    "duration": 426,
    "start_time": "2022-05-10T17:42:48.784Z"
   },
   {
    "duration": 34,
    "start_time": "2022-05-10T17:43:18.705Z"
   },
   {
    "duration": 32,
    "start_time": "2022-05-10T17:43:24.801Z"
   },
   {
    "duration": 25,
    "start_time": "2022-05-10T17:43:39.193Z"
   },
   {
    "duration": 24,
    "start_time": "2022-05-10T17:43:45.377Z"
   },
   {
    "duration": 22,
    "start_time": "2022-05-10T17:44:10.854Z"
   },
   {
    "duration": 22,
    "start_time": "2022-05-10T17:44:19.727Z"
   },
   {
    "duration": 20,
    "start_time": "2022-05-10T17:44:26.317Z"
   },
   {
    "duration": 107,
    "start_time": "2022-05-10T17:44:47.432Z"
   },
   {
    "duration": 20,
    "start_time": "2022-05-10T17:44:51.190Z"
   },
   {
    "duration": 19,
    "start_time": "2022-05-10T17:44:56.821Z"
   },
   {
    "duration": 155,
    "start_time": "2022-05-10T17:45:01.895Z"
   },
   {
    "duration": 23,
    "start_time": "2022-05-10T17:45:06.410Z"
   },
   {
    "duration": 23,
    "start_time": "2022-05-10T17:45:19.197Z"
   },
   {
    "duration": 18,
    "start_time": "2022-05-10T17:45:38.598Z"
   },
   {
    "duration": 29,
    "start_time": "2022-05-10T17:46:06.696Z"
   },
   {
    "duration": 29,
    "start_time": "2022-05-10T17:46:18.749Z"
   },
   {
    "duration": 782,
    "start_time": "2022-05-10T17:46:39.068Z"
   },
   {
    "duration": 24,
    "start_time": "2022-05-10T17:47:40.445Z"
   },
   {
    "duration": 4,
    "start_time": "2022-05-10T17:47:59.768Z"
   },
   {
    "duration": 25,
    "start_time": "2022-05-10T17:48:03.360Z"
   },
   {
    "duration": 34,
    "start_time": "2022-05-10T17:48:13.445Z"
   },
   {
    "duration": 20,
    "start_time": "2022-05-10T17:48:47.307Z"
   },
   {
    "duration": 22,
    "start_time": "2022-05-10T17:49:46.979Z"
   },
   {
    "duration": 31,
    "start_time": "2022-05-10T17:50:50.231Z"
   },
   {
    "duration": 29,
    "start_time": "2022-05-10T17:51:05.335Z"
   },
   {
    "duration": 99,
    "start_time": "2022-05-10T17:51:14.000Z"
   },
   {
    "duration": 93,
    "start_time": "2022-05-10T17:51:20.935Z"
   },
   {
    "duration": 8,
    "start_time": "2022-05-10T17:51:53.503Z"
   },
   {
    "duration": 5,
    "start_time": "2022-05-10T17:52:06.738Z"
   },
   {
    "duration": 7,
    "start_time": "2022-05-10T17:52:31.566Z"
   },
   {
    "duration": 14,
    "start_time": "2022-05-10T17:52:59.409Z"
   },
   {
    "duration": 8,
    "start_time": "2022-05-10T17:53:06.099Z"
   },
   {
    "duration": 14,
    "start_time": "2022-05-10T17:53:56.041Z"
   },
   {
    "duration": 13,
    "start_time": "2022-05-10T17:54:05.190Z"
   },
   {
    "duration": 669,
    "start_time": "2022-05-10T17:55:24.670Z"
   },
   {
    "duration": 15,
    "start_time": "2022-05-10T17:55:29.737Z"
   },
   {
    "duration": 7,
    "start_time": "2022-05-10T17:55:36.493Z"
   },
   {
    "duration": 7,
    "start_time": "2022-05-10T17:55:44.885Z"
   },
   {
    "duration": 104,
    "start_time": "2022-05-10T17:56:12.641Z"
   },
   {
    "duration": 11,
    "start_time": "2022-05-10T17:56:19.938Z"
   },
   {
    "duration": 10,
    "start_time": "2022-05-10T17:56:28.042Z"
   },
   {
    "duration": 6,
    "start_time": "2022-05-10T17:56:33.177Z"
   },
   {
    "duration": 9,
    "start_time": "2022-05-10T17:56:40.067Z"
   },
   {
    "duration": 100,
    "start_time": "2022-05-10T17:56:44.479Z"
   },
   {
    "duration": 6,
    "start_time": "2022-05-10T17:56:48.693Z"
   },
   {
    "duration": 7,
    "start_time": "2022-05-10T17:57:29.308Z"
   },
   {
    "duration": 7,
    "start_time": "2022-05-10T17:57:43.653Z"
   },
   {
    "duration": 23,
    "start_time": "2022-05-10T18:00:23.735Z"
   },
   {
    "duration": 10,
    "start_time": "2022-05-10T20:02:17.090Z"
   },
   {
    "duration": 8,
    "start_time": "2022-05-10T20:02:32.804Z"
   },
   {
    "duration": 1177,
    "start_time": "2022-05-10T20:02:42.521Z"
   },
   {
    "duration": 222,
    "start_time": "2022-05-10T20:02:43.700Z"
   },
   {
    "duration": 72,
    "start_time": "2022-05-10T20:02:43.924Z"
   },
   {
    "duration": 55,
    "start_time": "2022-05-10T20:02:43.997Z"
   },
   {
    "duration": 38,
    "start_time": "2022-05-10T20:02:44.054Z"
   },
   {
    "duration": 81,
    "start_time": "2022-05-10T20:02:44.094Z"
   },
   {
    "duration": 102,
    "start_time": "2022-05-10T20:02:44.177Z"
   },
   {
    "duration": 86,
    "start_time": "2022-05-10T20:02:44.281Z"
   },
   {
    "duration": 291,
    "start_time": "2022-05-10T20:02:44.368Z"
   },
   {
    "duration": 35,
    "start_time": "2022-05-10T20:02:44.663Z"
   },
   {
    "duration": 20,
    "start_time": "2022-05-10T20:02:44.700Z"
   },
   {
    "duration": 160,
    "start_time": "2022-05-10T20:02:44.722Z"
   },
   {
    "duration": 0,
    "start_time": "2022-05-10T20:02:44.884Z"
   },
   {
    "duration": 12,
    "start_time": "2022-05-10T20:02:54.978Z"
   },
   {
    "duration": 10,
    "start_time": "2022-05-10T20:03:01.073Z"
   },
   {
    "duration": 5,
    "start_time": "2022-05-10T20:03:16.400Z"
   },
   {
    "duration": 5,
    "start_time": "2022-05-10T20:03:41.907Z"
   },
   {
    "duration": 8,
    "start_time": "2022-05-10T20:04:21.235Z"
   },
   {
    "duration": 10,
    "start_time": "2022-05-10T20:04:25.818Z"
   },
   {
    "duration": 38,
    "start_time": "2022-05-10T20:05:44.517Z"
   },
   {
    "duration": 48,
    "start_time": "2022-05-10T20:06:02.620Z"
   },
   {
    "duration": 19,
    "start_time": "2022-05-10T20:06:10.838Z"
   },
   {
    "duration": 12,
    "start_time": "2022-05-10T20:06:16.005Z"
   },
   {
    "duration": 59,
    "start_time": "2022-05-10T20:06:23.010Z"
   },
   {
    "duration": 11,
    "start_time": "2022-05-10T20:06:31.777Z"
   },
   {
    "duration": 12,
    "start_time": "2022-05-10T20:07:31.228Z"
   },
   {
    "duration": 50,
    "start_time": "2022-05-10T20:07:46.294Z"
   },
   {
    "duration": 56,
    "start_time": "2022-05-10T20:07:49.628Z"
   },
   {
    "duration": 11,
    "start_time": "2022-05-10T20:08:06.396Z"
   },
   {
    "duration": 36,
    "start_time": "2022-05-10T20:08:21.800Z"
   },
   {
    "duration": 10,
    "start_time": "2022-05-10T20:08:26.189Z"
   },
   {
    "duration": 13,
    "start_time": "2022-05-10T20:08:49.215Z"
   },
   {
    "duration": 53,
    "start_time": "2022-05-10T20:08:52.730Z"
   },
   {
    "duration": 69,
    "start_time": "2022-05-10T20:08:59.839Z"
   },
   {
    "duration": 68,
    "start_time": "2022-05-10T20:09:04.018Z"
   },
   {
    "duration": 38,
    "start_time": "2022-05-10T20:09:17.694Z"
   },
   {
    "duration": 39,
    "start_time": "2022-05-10T20:09:23.893Z"
   },
   {
    "duration": 43,
    "start_time": "2022-05-10T20:09:35.220Z"
   },
   {
    "duration": 9,
    "start_time": "2022-05-10T20:09:40.212Z"
   },
   {
    "duration": 42,
    "start_time": "2022-05-10T20:09:54.180Z"
   },
   {
    "duration": 39,
    "start_time": "2022-05-10T20:10:02.574Z"
   },
   {
    "duration": 53,
    "start_time": "2022-05-10T20:10:10.321Z"
   },
   {
    "duration": 42,
    "start_time": "2022-05-10T20:10:25.670Z"
   },
   {
    "duration": 61,
    "start_time": "2022-05-10T20:10:30.319Z"
   },
   {
    "duration": 45,
    "start_time": "2022-05-10T20:11:12.878Z"
   },
   {
    "duration": 49,
    "start_time": "2022-05-10T20:11:21.675Z"
   },
   {
    "duration": 4,
    "start_time": "2022-05-10T20:11:55.448Z"
   },
   {
    "duration": 59,
    "start_time": "2022-05-10T20:11:57.548Z"
   },
   {
    "duration": 14,
    "start_time": "2022-05-10T20:12:03.168Z"
   },
   {
    "duration": 3,
    "start_time": "2022-05-10T20:12:08.420Z"
   },
   {
    "duration": 13,
    "start_time": "2022-05-10T20:12:10.187Z"
   },
   {
    "duration": 12,
    "start_time": "2022-05-10T20:12:24.432Z"
   },
   {
    "duration": 226,
    "start_time": "2022-05-10T20:12:37.261Z"
   },
   {
    "duration": 5,
    "start_time": "2022-05-10T20:12:43.164Z"
   },
   {
    "duration": 8,
    "start_time": "2022-05-10T20:12:45.093Z"
   },
   {
    "duration": 1019,
    "start_time": "2022-05-10T20:12:49.121Z"
   },
   {
    "duration": 1162,
    "start_time": "2022-05-10T20:12:59.076Z"
   },
   {
    "duration": 254,
    "start_time": "2022-05-10T20:13:00.240Z"
   },
   {
    "duration": 77,
    "start_time": "2022-05-10T20:13:00.496Z"
   },
   {
    "duration": 74,
    "start_time": "2022-05-10T20:13:00.575Z"
   },
   {
    "duration": 59,
    "start_time": "2022-05-10T20:13:00.652Z"
   },
   {
    "duration": 94,
    "start_time": "2022-05-10T20:13:00.712Z"
   },
   {
    "duration": 83,
    "start_time": "2022-05-10T20:13:00.807Z"
   },
   {
    "duration": 97,
    "start_time": "2022-05-10T20:13:00.892Z"
   },
   {
    "duration": 288,
    "start_time": "2022-05-10T20:13:00.990Z"
   },
   {
    "duration": 37,
    "start_time": "2022-05-10T20:13:01.281Z"
   },
   {
    "duration": 49,
    "start_time": "2022-05-10T20:13:01.320Z"
   },
   {
    "duration": 9,
    "start_time": "2022-05-10T20:13:01.371Z"
   },
   {
    "duration": 19,
    "start_time": "2022-05-10T20:13:01.381Z"
   },
   {
    "duration": 16,
    "start_time": "2022-05-10T20:13:01.402Z"
   },
   {
    "duration": 4,
    "start_time": "2022-05-10T20:13:01.420Z"
   },
   {
    "duration": 24,
    "start_time": "2022-05-10T20:13:01.425Z"
   },
   {
    "duration": 112,
    "start_time": "2022-05-10T20:13:01.452Z"
   },
   {
    "duration": 0,
    "start_time": "2022-05-10T20:13:01.566Z"
   },
   {
    "duration": 0,
    "start_time": "2022-05-10T20:13:01.568Z"
   },
   {
    "duration": 0,
    "start_time": "2022-05-10T20:13:01.569Z"
   },
   {
    "duration": 2,
    "start_time": "2022-05-10T20:13:13.513Z"
   },
   {
    "duration": 59,
    "start_time": "2022-05-10T20:13:16.042Z"
   },
   {
    "duration": 9,
    "start_time": "2022-05-10T20:13:22.861Z"
   },
   {
    "duration": 9,
    "start_time": "2022-05-10T20:13:27.675Z"
   },
   {
    "duration": 3,
    "start_time": "2022-05-10T20:14:50.757Z"
   },
   {
    "duration": 38,
    "start_time": "2022-05-10T20:14:53.449Z"
   },
   {
    "duration": 38,
    "start_time": "2022-05-10T20:15:10.336Z"
   },
   {
    "duration": 38,
    "start_time": "2022-05-10T20:16:27.124Z"
   },
   {
    "duration": 38,
    "start_time": "2022-05-10T20:16:41.401Z"
   },
   {
    "duration": 45,
    "start_time": "2022-05-10T20:16:48.373Z"
   },
   {
    "duration": 47,
    "start_time": "2022-05-10T20:17:52.341Z"
   },
   {
    "duration": 9,
    "start_time": "2022-05-10T20:18:01.274Z"
   },
   {
    "duration": 119,
    "start_time": "2022-05-10T20:19:07.115Z"
   },
   {
    "duration": 47,
    "start_time": "2022-05-10T20:19:16.126Z"
   },
   {
    "duration": 17,
    "start_time": "2022-05-10T20:19:42.059Z"
   },
   {
    "duration": 21,
    "start_time": "2022-05-10T20:22:45.898Z"
   },
   {
    "duration": 9,
    "start_time": "2022-05-10T20:23:56.279Z"
   },
   {
    "duration": 34,
    "start_time": "2022-05-10T20:24:00.971Z"
   },
   {
    "duration": 32,
    "start_time": "2022-05-10T20:25:11.525Z"
   },
   {
    "duration": 31,
    "start_time": "2022-05-10T20:25:36.976Z"
   },
   {
    "duration": 29,
    "start_time": "2022-05-10T20:26:43.402Z"
   },
   {
    "duration": 10,
    "start_time": "2022-05-10T20:26:49.842Z"
   },
   {
    "duration": 12,
    "start_time": "2022-05-10T20:26:53.763Z"
   },
   {
    "duration": 15,
    "start_time": "2022-05-10T20:27:19.085Z"
   },
   {
    "duration": 7,
    "start_time": "2022-05-10T20:27:32.086Z"
   },
   {
    "duration": 12,
    "start_time": "2022-05-10T20:27:35.181Z"
   },
   {
    "duration": 11,
    "start_time": "2022-05-10T20:27:39.971Z"
   },
   {
    "duration": 51,
    "start_time": "2022-05-10T20:28:24.719Z"
   },
   {
    "duration": 12,
    "start_time": "2022-05-10T20:28:29.301Z"
   },
   {
    "duration": 4,
    "start_time": "2022-05-10T20:28:32.845Z"
   },
   {
    "duration": 12,
    "start_time": "2022-05-10T20:28:35.311Z"
   },
   {
    "duration": 12,
    "start_time": "2022-05-10T20:28:39.570Z"
   },
   {
    "duration": 18,
    "start_time": "2022-05-10T20:28:43.877Z"
   },
   {
    "duration": 57,
    "start_time": "2022-05-10T20:29:58.850Z"
   },
   {
    "duration": 63,
    "start_time": "2022-05-10T20:31:10.116Z"
   },
   {
    "duration": 64,
    "start_time": "2022-05-10T20:32:38.005Z"
   },
   {
    "duration": 21,
    "start_time": "2022-05-10T20:33:48.290Z"
   },
   {
    "duration": 13,
    "start_time": "2022-05-10T20:35:48.077Z"
   },
   {
    "duration": 94,
    "start_time": "2022-05-10T20:36:25.502Z"
   },
   {
    "duration": 10,
    "start_time": "2022-05-10T20:36:30.838Z"
   },
   {
    "duration": 123,
    "start_time": "2022-05-10T20:36:45.124Z"
   },
   {
    "duration": 10,
    "start_time": "2022-05-10T20:36:59.434Z"
   },
   {
    "duration": 38,
    "start_time": "2022-05-10T20:37:50.256Z"
   },
   {
    "duration": 42,
    "start_time": "2022-05-10T20:38:06.278Z"
   },
   {
    "duration": 45,
    "start_time": "2022-05-10T20:38:34.646Z"
   },
   {
    "duration": 40,
    "start_time": "2022-05-10T20:38:47.988Z"
   },
   {
    "duration": 43,
    "start_time": "2022-05-10T20:38:58.134Z"
   },
   {
    "duration": 38,
    "start_time": "2022-05-10T20:39:02.442Z"
   },
   {
    "duration": 46,
    "start_time": "2022-05-10T20:39:10.382Z"
   },
   {
    "duration": 42,
    "start_time": "2022-05-10T20:39:30.384Z"
   },
   {
    "duration": 39,
    "start_time": "2022-05-10T20:39:33.590Z"
   },
   {
    "duration": 39,
    "start_time": "2022-05-10T20:39:40.407Z"
   },
   {
    "duration": 410,
    "start_time": "2022-05-10T20:39:56.313Z"
   },
   {
    "duration": 384,
    "start_time": "2022-05-10T20:40:56.824Z"
   },
   {
    "duration": 401,
    "start_time": "2022-05-10T20:41:11.911Z"
   },
   {
    "duration": 406,
    "start_time": "2022-05-10T20:41:24.452Z"
   },
   {
    "duration": 37,
    "start_time": "2022-05-10T20:41:34.058Z"
   },
   {
    "duration": 18,
    "start_time": "2022-05-10T20:42:29.537Z"
   },
   {
    "duration": 79,
    "start_time": "2022-05-10T20:42:46.274Z"
   },
   {
    "duration": 430,
    "start_time": "2022-05-10T20:44:33.908Z"
   },
   {
    "duration": 33,
    "start_time": "2022-05-10T20:44:41.365Z"
   },
   {
    "duration": 15,
    "start_time": "2022-05-10T20:44:44.475Z"
   },
   {
    "duration": 9,
    "start_time": "2022-05-10T20:45:03.693Z"
   },
   {
    "duration": 7,
    "start_time": "2022-05-10T20:45:07.621Z"
   },
   {
    "duration": 408,
    "start_time": "2022-05-10T20:45:38.179Z"
   },
   {
    "duration": 404,
    "start_time": "2022-05-10T20:45:50.119Z"
   },
   {
    "duration": 38,
    "start_time": "2022-05-10T20:46:18.111Z"
   },
   {
    "duration": 23,
    "start_time": "2022-05-10T20:46:29.153Z"
   },
   {
    "duration": 23,
    "start_time": "2022-05-10T20:46:37.965Z"
   },
   {
    "duration": 128,
    "start_time": "2022-05-10T20:49:34.467Z"
   },
   {
    "duration": 126,
    "start_time": "2022-05-10T20:49:48.752Z"
   },
   {
    "duration": 95,
    "start_time": "2022-05-10T20:50:22.425Z"
   },
   {
    "duration": 795,
    "start_time": "2022-05-10T20:50:28.006Z"
   },
   {
    "duration": 6,
    "start_time": "2022-05-10T20:50:40.981Z"
   },
   {
    "duration": 5,
    "start_time": "2022-05-10T20:51:02.189Z"
   },
   {
    "duration": 5,
    "start_time": "2022-05-10T20:51:15.258Z"
   },
   {
    "duration": 11,
    "start_time": "2022-05-10T20:51:29.309Z"
   },
   {
    "duration": 6,
    "start_time": "2022-05-10T20:51:35.888Z"
   },
   {
    "duration": 7,
    "start_time": "2022-05-10T20:51:41.948Z"
   },
   {
    "duration": 7,
    "start_time": "2022-05-10T20:51:45.270Z"
   },
   {
    "duration": 16,
    "start_time": "2022-05-10T20:51:50.151Z"
   },
   {
    "duration": 7,
    "start_time": "2022-05-10T20:51:53.385Z"
   },
   {
    "duration": 6,
    "start_time": "2022-05-10T20:52:39.470Z"
   },
   {
    "duration": 1215,
    "start_time": "2022-05-10T20:52:49.582Z"
   },
   {
    "duration": 13,
    "start_time": "2022-05-10T20:52:58.067Z"
   },
   {
    "duration": 6,
    "start_time": "2022-05-10T20:53:16.917Z"
   },
   {
    "duration": 98,
    "start_time": "2022-05-10T20:53:37.920Z"
   },
   {
    "duration": 12,
    "start_time": "2022-05-10T20:53:44.319Z"
   },
   {
    "duration": 5,
    "start_time": "2022-05-10T20:53:51.402Z"
   },
   {
    "duration": 3232,
    "start_time": "2022-05-10T20:54:03.233Z"
   },
   {
    "duration": 4774,
    "start_time": "2022-05-10T20:55:07.490Z"
   },
   {
    "duration": 5,
    "start_time": "2022-05-10T20:55:56.064Z"
   },
   {
    "duration": 4718,
    "start_time": "2022-05-10T20:56:11.103Z"
   },
   {
    "duration": 6,
    "start_time": "2022-05-10T20:56:17.991Z"
   },
   {
    "duration": 49,
    "start_time": "2022-05-11T15:32:58.027Z"
   },
   {
    "duration": 1432,
    "start_time": "2022-05-11T15:33:06.797Z"
   },
   {
    "duration": 248,
    "start_time": "2022-05-11T15:33:08.231Z"
   },
   {
    "duration": 72,
    "start_time": "2022-05-11T15:33:08.481Z"
   },
   {
    "duration": 60,
    "start_time": "2022-05-11T15:33:08.555Z"
   },
   {
    "duration": 40,
    "start_time": "2022-05-11T15:33:08.616Z"
   },
   {
    "duration": 91,
    "start_time": "2022-05-11T15:33:08.657Z"
   },
   {
    "duration": 74,
    "start_time": "2022-05-11T15:33:08.750Z"
   },
   {
    "duration": 93,
    "start_time": "2022-05-11T15:33:08.826Z"
   },
   {
    "duration": 312,
    "start_time": "2022-05-11T15:33:08.921Z"
   },
   {
    "duration": 39,
    "start_time": "2022-05-11T15:33:09.235Z"
   },
   {
    "duration": 42,
    "start_time": "2022-05-11T15:33:09.276Z"
   },
   {
    "duration": 84,
    "start_time": "2022-05-11T15:33:09.319Z"
   },
   {
    "duration": 0,
    "start_time": "2022-05-11T15:33:09.404Z"
   },
   {
    "duration": 5438,
    "start_time": "2022-05-11T15:33:13.179Z"
   },
   {
    "duration": 1626,
    "start_time": "2022-05-11T15:33:18.766Z"
   },
   {
    "duration": 15,
    "start_time": "2022-05-11T15:33:32.916Z"
   },
   {
    "duration": 20,
    "start_time": "2022-05-11T15:44:43.816Z"
   },
   {
    "duration": 36,
    "start_time": "2022-05-11T15:45:01.381Z"
   },
   {
    "duration": 36,
    "start_time": "2022-05-11T15:45:16.284Z"
   },
   {
    "duration": 5597,
    "start_time": "2022-05-11T15:46:04.900Z"
   },
   {
    "duration": 11,
    "start_time": "2022-05-11T15:50:58.361Z"
   },
   {
    "duration": 11,
    "start_time": "2022-05-11T15:51:05.578Z"
   },
   {
    "duration": 8,
    "start_time": "2022-05-11T15:51:29.823Z"
   },
   {
    "duration": 10,
    "start_time": "2022-05-11T15:52:01.295Z"
   },
   {
    "duration": 225,
    "start_time": "2022-05-11T15:52:07.183Z"
   },
   {
    "duration": 14,
    "start_time": "2022-05-11T15:52:15.841Z"
   },
   {
    "duration": 12,
    "start_time": "2022-05-11T15:52:19.828Z"
   },
   {
    "duration": 20,
    "start_time": "2022-05-11T15:52:30.963Z"
   },
   {
    "duration": 161,
    "start_time": "2022-05-11T15:54:23.100Z"
   },
   {
    "duration": 133,
    "start_time": "2022-05-11T15:54:29.411Z"
   },
   {
    "duration": 11,
    "start_time": "2022-05-11T15:54:43.710Z"
   },
   {
    "duration": 15,
    "start_time": "2022-05-11T15:54:53.528Z"
   },
   {
    "duration": 10,
    "start_time": "2022-05-11T15:55:02.576Z"
   },
   {
    "duration": 278,
    "start_time": "2022-05-11T15:55:20.576Z"
   },
   {
    "duration": 15,
    "start_time": "2022-05-11T15:55:52.457Z"
   },
   {
    "duration": 15,
    "start_time": "2022-05-11T15:55:55.772Z"
   },
   {
    "duration": 294,
    "start_time": "2022-05-11T15:55:59.482Z"
   },
   {
    "duration": 303,
    "start_time": "2022-05-11T15:56:16.960Z"
   },
   {
    "duration": 91,
    "start_time": "2022-05-11T15:57:32.486Z"
   },
   {
    "duration": 11,
    "start_time": "2022-05-11T15:57:37.089Z"
   },
   {
    "duration": 14,
    "start_time": "2022-05-11T15:57:45.688Z"
   },
   {
    "duration": 311,
    "start_time": "2022-05-11T15:58:10.299Z"
   },
   {
    "duration": 284,
    "start_time": "2022-05-11T15:59:45.295Z"
   },
   {
    "duration": 348,
    "start_time": "2022-05-11T15:59:56.838Z"
   },
   {
    "duration": 296,
    "start_time": "2022-05-11T16:00:08.979Z"
   },
   {
    "duration": 279,
    "start_time": "2022-05-11T16:00:20.237Z"
   },
   {
    "duration": 82,
    "start_time": "2022-05-11T16:02:42.797Z"
   },
   {
    "duration": 296,
    "start_time": "2022-05-11T16:02:46.798Z"
   },
   {
    "duration": 307,
    "start_time": "2022-05-11T16:03:04.029Z"
   },
   {
    "duration": 396,
    "start_time": "2022-05-11T16:03:16.167Z"
   },
   {
    "duration": 308,
    "start_time": "2022-05-11T16:03:28.835Z"
   },
   {
    "duration": 307,
    "start_time": "2022-05-11T16:03:52.929Z"
   },
   {
    "duration": 5,
    "start_time": "2022-05-11T16:04:03.537Z"
   },
   {
    "duration": 299,
    "start_time": "2022-05-11T16:04:12.158Z"
   },
   {
    "duration": 4,
    "start_time": "2022-05-11T16:04:15.982Z"
   },
   {
    "duration": 272,
    "start_time": "2022-05-11T16:06:55.250Z"
   },
   {
    "duration": 5,
    "start_time": "2022-05-11T16:07:13.905Z"
   },
   {
    "duration": 248,
    "start_time": "2022-05-11T16:07:47.444Z"
   },
   {
    "duration": 246,
    "start_time": "2022-05-11T16:07:54.331Z"
   },
   {
    "duration": 353,
    "start_time": "2022-05-11T16:08:00.037Z"
   },
   {
    "duration": 253,
    "start_time": "2022-05-11T16:08:28.972Z"
   },
   {
    "duration": 257,
    "start_time": "2022-05-11T16:09:03.647Z"
   },
   {
    "duration": 9,
    "start_time": "2022-05-11T16:10:31.049Z"
   },
   {
    "duration": 7,
    "start_time": "2022-05-11T16:11:05.593Z"
   },
   {
    "duration": 115,
    "start_time": "2022-05-11T16:11:11.797Z"
   },
   {
    "duration": 13,
    "start_time": "2022-05-11T16:11:16.918Z"
   },
   {
    "duration": 13,
    "start_time": "2022-05-11T16:11:21.001Z"
   },
   {
    "duration": 13,
    "start_time": "2022-05-11T16:11:25.034Z"
   },
   {
    "duration": 120,
    "start_time": "2022-05-11T16:12:02.570Z"
   },
   {
    "duration": 18,
    "start_time": "2022-05-11T16:12:18.059Z"
   },
   {
    "duration": 4,
    "start_time": "2022-05-11T16:12:26.209Z"
   },
   {
    "duration": 8,
    "start_time": "2022-05-11T16:12:33.254Z"
   },
   {
    "duration": 9,
    "start_time": "2022-05-11T16:13:04.964Z"
   },
   {
    "duration": 26,
    "start_time": "2022-05-11T16:13:08.670Z"
   },
   {
    "duration": 13,
    "start_time": "2022-05-11T16:13:15.413Z"
   },
   {
    "duration": 22,
    "start_time": "2022-05-11T16:13:24.476Z"
   },
   {
    "duration": 21,
    "start_time": "2022-05-11T16:13:30.870Z"
   },
   {
    "duration": 17,
    "start_time": "2022-05-11T16:13:34.486Z"
   },
   {
    "duration": 22,
    "start_time": "2022-05-11T16:13:46.837Z"
   },
   {
    "duration": 128,
    "start_time": "2022-05-11T16:13:59.785Z"
   },
   {
    "duration": 139,
    "start_time": "2022-05-11T16:14:12.257Z"
   },
   {
    "duration": 139,
    "start_time": "2022-05-11T16:14:46.118Z"
   },
   {
    "duration": 384,
    "start_time": "2022-05-11T16:44:36.211Z"
   },
   {
    "duration": 139,
    "start_time": "2022-05-11T16:45:03.058Z"
   },
   {
    "duration": 204,
    "start_time": "2022-05-11T16:45:05.786Z"
   },
   {
    "duration": 12,
    "start_time": "2022-05-11T16:45:17.335Z"
   },
   {
    "duration": 328,
    "start_time": "2022-05-11T16:45:21.836Z"
   },
   {
    "duration": 3,
    "start_time": "2022-05-11T16:52:23.003Z"
   },
   {
    "duration": 22,
    "start_time": "2022-05-11T16:57:16.108Z"
   },
   {
    "duration": 14,
    "start_time": "2022-05-11T16:57:51.376Z"
   },
   {
    "duration": 9,
    "start_time": "2022-05-11T16:58:00.364Z"
   },
   {
    "duration": 13,
    "start_time": "2022-05-11T16:59:25.799Z"
   },
   {
    "duration": 11,
    "start_time": "2022-05-11T17:01:01.651Z"
   },
   {
    "duration": 11,
    "start_time": "2022-05-11T17:01:23.552Z"
   },
   {
    "duration": 12,
    "start_time": "2022-05-11T17:01:42.930Z"
   },
   {
    "duration": 107,
    "start_time": "2022-05-11T17:02:07.197Z"
   },
   {
    "duration": 19,
    "start_time": "2022-05-11T17:02:29.724Z"
   },
   {
    "duration": 41,
    "start_time": "2022-05-11T17:02:44.160Z"
   },
   {
    "duration": 21,
    "start_time": "2022-05-11T17:03:50.095Z"
   },
   {
    "duration": 14,
    "start_time": "2022-05-11T17:04:10.347Z"
   },
   {
    "duration": 12,
    "start_time": "2022-05-11T17:04:16.223Z"
   },
   {
    "duration": 26,
    "start_time": "2022-05-11T17:04:59.058Z"
   },
   {
    "duration": 26,
    "start_time": "2022-05-11T17:05:06.942Z"
   },
   {
    "duration": 20,
    "start_time": "2022-05-11T17:05:52.533Z"
   },
   {
    "duration": 26,
    "start_time": "2022-05-11T17:06:01.936Z"
   },
   {
    "duration": 11,
    "start_time": "2022-05-11T17:06:18.417Z"
   },
   {
    "duration": 11,
    "start_time": "2022-05-11T17:06:22.077Z"
   },
   {
    "duration": 7,
    "start_time": "2022-05-11T17:07:08.449Z"
   },
   {
    "duration": 17,
    "start_time": "2022-05-11T17:07:21.329Z"
   },
   {
    "duration": 35,
    "start_time": "2022-05-11T17:07:27.241Z"
   },
   {
    "duration": 28,
    "start_time": "2022-05-11T17:07:40.887Z"
   },
   {
    "duration": 33,
    "start_time": "2022-05-11T17:07:49.708Z"
   },
   {
    "duration": 24,
    "start_time": "2022-05-11T17:08:08.589Z"
   },
   {
    "duration": 27,
    "start_time": "2022-05-11T17:08:28.161Z"
   },
   {
    "duration": 25,
    "start_time": "2022-05-11T17:08:39.482Z"
   },
   {
    "duration": 23,
    "start_time": "2022-05-11T17:08:51.401Z"
   },
   {
    "duration": 27,
    "start_time": "2022-05-11T17:09:04.848Z"
   },
   {
    "duration": 10,
    "start_time": "2022-05-11T17:09:51.708Z"
   },
   {
    "duration": 44,
    "start_time": "2022-05-11T17:09:58.553Z"
   },
   {
    "duration": 25,
    "start_time": "2022-05-11T17:10:05.910Z"
   },
   {
    "duration": 31,
    "start_time": "2022-05-11T17:10:20.607Z"
   },
   {
    "duration": 40,
    "start_time": "2022-05-11T17:10:32.204Z"
   },
   {
    "duration": 20,
    "start_time": "2022-05-11T17:10:41.846Z"
   },
   {
    "duration": 25,
    "start_time": "2022-05-11T17:10:53.679Z"
   },
   {
    "duration": 26,
    "start_time": "2022-05-11T17:21:24.555Z"
   },
   {
    "duration": 26,
    "start_time": "2022-05-11T17:21:32.400Z"
   },
   {
    "duration": 63,
    "start_time": "2022-05-11T17:22:28.622Z"
   },
   {
    "duration": 49,
    "start_time": "2022-05-11T17:22:36.500Z"
   },
   {
    "duration": 37,
    "start_time": "2022-05-11T17:23:09.875Z"
   },
   {
    "duration": 28,
    "start_time": "2022-05-11T17:23:17.471Z"
   },
   {
    "duration": 22,
    "start_time": "2022-05-11T17:23:24.853Z"
   },
   {
    "duration": 31,
    "start_time": "2022-05-11T17:24:17.911Z"
   },
   {
    "duration": 77,
    "start_time": "2022-05-11T17:24:35.880Z"
   },
   {
    "duration": 23,
    "start_time": "2022-05-11T17:24:45.503Z"
   },
   {
    "duration": 10,
    "start_time": "2022-05-11T17:24:50.354Z"
   },
   {
    "duration": 83,
    "start_time": "2022-05-11T17:25:05.268Z"
   },
   {
    "duration": 23,
    "start_time": "2022-05-11T17:25:08.934Z"
   },
   {
    "duration": 249,
    "start_time": "2022-05-11T17:27:15.911Z"
   },
   {
    "duration": 151,
    "start_time": "2022-05-11T17:27:30.630Z"
   },
   {
    "duration": 8,
    "start_time": "2022-05-11T17:27:39.559Z"
   },
   {
    "duration": 74592,
    "start_time": "2022-05-11T17:27:42.338Z"
   },
   {
    "duration": 138,
    "start_time": "2022-05-11T17:55:29.829Z"
   },
   {
    "duration": 162,
    "start_time": "2022-05-11T17:55:47.675Z"
   },
   {
    "duration": 160,
    "start_time": "2022-05-11T17:55:56.941Z"
   },
   {
    "duration": 180,
    "start_time": "2022-05-11T17:56:19.759Z"
   },
   {
    "duration": 11,
    "start_time": "2022-05-11T17:56:54.256Z"
   },
   {
    "duration": 11,
    "start_time": "2022-05-11T17:56:58.520Z"
   },
   {
    "duration": 235,
    "start_time": "2022-05-11T17:57:19.019Z"
   },
   {
    "duration": 1145,
    "start_time": "2022-05-11T17:57:29.496Z"
   },
   {
    "duration": 393,
    "start_time": "2022-05-11T17:57:57.777Z"
   },
   {
    "duration": 416,
    "start_time": "2022-05-11T17:58:04.987Z"
   },
   {
    "duration": 358,
    "start_time": "2022-05-11T17:58:50.633Z"
   },
   {
    "duration": 373,
    "start_time": "2022-05-11T18:01:34.007Z"
   },
   {
    "duration": 21,
    "start_time": "2022-05-11T18:05:33.581Z"
   },
   {
    "duration": 12,
    "start_time": "2022-05-11T18:06:39.800Z"
   },
   {
    "duration": 19,
    "start_time": "2022-05-11T18:06:46.273Z"
   },
   {
    "duration": 17,
    "start_time": "2022-05-11T18:07:00.387Z"
   },
   {
    "duration": 8,
    "start_time": "2022-05-11T18:07:09.924Z"
   },
   {
    "duration": 7,
    "start_time": "2022-05-11T18:07:37.128Z"
   },
   {
    "duration": 7,
    "start_time": "2022-05-11T18:07:42.260Z"
   },
   {
    "duration": 10,
    "start_time": "2022-05-11T18:10:28.161Z"
   },
   {
    "duration": 63,
    "start_time": "2022-05-11T18:12:52.028Z"
   },
   {
    "duration": 17,
    "start_time": "2022-05-11T18:14:02.369Z"
   },
   {
    "duration": 111,
    "start_time": "2022-05-11T18:15:05.211Z"
   },
   {
    "duration": 18,
    "start_time": "2022-05-11T18:15:51.407Z"
   },
   {
    "duration": 18,
    "start_time": "2022-05-11T18:16:23.281Z"
   },
   {
    "duration": 89,
    "start_time": "2022-05-11T18:16:48.640Z"
   },
   {
    "duration": 67,
    "start_time": "2022-05-11T18:16:53.131Z"
   },
   {
    "duration": 18,
    "start_time": "2022-05-11T18:16:56.349Z"
   },
   {
    "duration": 18,
    "start_time": "2022-05-11T18:17:00.674Z"
   },
   {
    "duration": 1179,
    "start_time": "2022-05-11T18:17:25.043Z"
   },
   {
    "duration": 239,
    "start_time": "2022-05-11T18:17:26.224Z"
   },
   {
    "duration": 70,
    "start_time": "2022-05-11T18:17:26.465Z"
   },
   {
    "duration": 38,
    "start_time": "2022-05-11T18:17:26.537Z"
   },
   {
    "duration": 62,
    "start_time": "2022-05-11T18:17:26.577Z"
   },
   {
    "duration": 85,
    "start_time": "2022-05-11T18:17:26.640Z"
   },
   {
    "duration": 80,
    "start_time": "2022-05-11T18:17:26.727Z"
   },
   {
    "duration": 99,
    "start_time": "2022-05-11T18:17:26.809Z"
   },
   {
    "duration": 402,
    "start_time": "2022-05-11T18:17:26.910Z"
   },
   {
    "duration": 38,
    "start_time": "2022-05-11T18:17:27.316Z"
   },
   {
    "duration": 25,
    "start_time": "2022-05-11T18:17:27.357Z"
   },
   {
    "duration": 5425,
    "start_time": "2022-05-11T18:17:27.408Z"
   },
   {
    "duration": 336,
    "start_time": "2022-05-11T18:17:32.835Z"
   },
   {
    "duration": 160,
    "start_time": "2022-05-11T18:17:33.173Z"
   },
   {
    "duration": 22,
    "start_time": "2022-05-11T18:17:33.335Z"
   },
   {
    "duration": 17,
    "start_time": "2022-05-11T18:17:33.359Z"
   },
   {
    "duration": 398,
    "start_time": "2022-05-11T18:17:33.378Z"
   },
   {
    "duration": 30,
    "start_time": "2022-05-11T18:17:33.778Z"
   },
   {
    "duration": 13,
    "start_time": "2022-05-11T18:41:48.114Z"
   },
   {
    "duration": 129,
    "start_time": "2022-05-11T18:42:22.309Z"
   },
   {
    "duration": 24,
    "start_time": "2022-05-11T18:42:27.203Z"
   },
   {
    "duration": 35,
    "start_time": "2022-05-11T18:43:14.176Z"
   },
   {
    "duration": 30,
    "start_time": "2022-05-11T18:43:17.669Z"
   },
   {
    "duration": 33,
    "start_time": "2022-05-11T18:43:34.129Z"
   },
   {
    "duration": 218,
    "start_time": "2022-05-11T18:44:18.339Z"
   },
   {
    "duration": 56,
    "start_time": "2022-05-11T18:45:04.849Z"
   },
   {
    "duration": 47,
    "start_time": "2022-05-11T18:45:24.026Z"
   },
   {
    "duration": 90,
    "start_time": "2022-05-11T18:47:37.929Z"
   },
   {
    "duration": 53,
    "start_time": "2022-05-12T16:34:32.237Z"
   },
   {
    "duration": 1749,
    "start_time": "2022-05-12T16:34:38.506Z"
   },
   {
    "duration": 867,
    "start_time": "2022-05-12T16:34:40.257Z"
   },
   {
    "duration": 72,
    "start_time": "2022-05-12T16:34:41.125Z"
   },
   {
    "duration": 57,
    "start_time": "2022-05-12T16:34:41.199Z"
   },
   {
    "duration": 38,
    "start_time": "2022-05-12T16:34:41.259Z"
   },
   {
    "duration": 96,
    "start_time": "2022-05-12T16:34:41.298Z"
   },
   {
    "duration": 79,
    "start_time": "2022-05-12T16:34:41.396Z"
   },
   {
    "duration": 106,
    "start_time": "2022-05-12T16:34:41.476Z"
   },
   {
    "duration": 406,
    "start_time": "2022-05-12T16:34:41.584Z"
   },
   {
    "duration": 55,
    "start_time": "2022-05-12T16:34:41.992Z"
   },
   {
    "duration": 25,
    "start_time": "2022-05-12T16:34:42.052Z"
   },
   {
    "duration": 5726,
    "start_time": "2022-05-12T16:34:42.079Z"
   },
   {
    "duration": 323,
    "start_time": "2022-05-12T16:34:47.807Z"
   },
   {
    "duration": 163,
    "start_time": "2022-05-12T16:34:48.132Z"
   },
   {
    "duration": 20,
    "start_time": "2022-05-12T16:34:48.297Z"
   },
   {
    "duration": 31,
    "start_time": "2022-05-12T16:34:48.318Z"
   },
   {
    "duration": 351,
    "start_time": "2022-05-12T16:34:48.350Z"
   },
   {
    "duration": 17,
    "start_time": "2022-05-12T16:34:48.703Z"
   },
   {
    "duration": 111,
    "start_time": "2022-05-12T16:34:48.722Z"
   },
   {
    "duration": 51,
    "start_time": "2022-05-12T16:34:48.850Z"
   },
   {
    "duration": 48,
    "start_time": "2022-05-12T16:35:14.211Z"
   },
   {
    "duration": 23,
    "start_time": "2022-05-12T16:35:20.040Z"
   },
   {
    "duration": 121,
    "start_time": "2022-05-12T16:36:04.956Z"
   },
   {
    "duration": 18,
    "start_time": "2022-05-12T16:36:07.260Z"
   },
   {
    "duration": 160,
    "start_time": "2022-05-12T16:36:18.317Z"
   },
   {
    "duration": 110,
    "start_time": "2022-05-12T16:36:32.659Z"
   },
   {
    "duration": 119,
    "start_time": "2022-05-12T16:36:54.990Z"
   },
   {
    "duration": 19,
    "start_time": "2022-05-12T16:36:59.068Z"
   },
   {
    "duration": 47,
    "start_time": "2022-05-12T16:37:13.789Z"
   },
   {
    "duration": 60,
    "start_time": "2022-05-12T16:37:45.924Z"
   },
   {
    "duration": 47,
    "start_time": "2022-05-12T16:38:06.119Z"
   },
   {
    "duration": 45,
    "start_time": "2022-05-12T16:38:37.299Z"
   },
   {
    "duration": 217,
    "start_time": "2022-05-12T16:38:53.261Z"
   },
   {
    "duration": 59,
    "start_time": "2022-05-12T16:39:05.420Z"
   },
   {
    "duration": 47,
    "start_time": "2022-05-12T16:39:19.355Z"
   },
   {
    "duration": 47,
    "start_time": "2022-05-12T16:39:25.583Z"
   },
   {
    "duration": 47,
    "start_time": "2022-05-12T16:39:44.161Z"
   },
   {
    "duration": 159,
    "start_time": "2022-05-12T16:39:57.444Z"
   },
   {
    "duration": 13,
    "start_time": "2022-05-12T16:40:41.939Z"
   },
   {
    "duration": 9,
    "start_time": "2022-05-12T16:40:50.182Z"
   },
   {
    "duration": 10,
    "start_time": "2022-05-12T16:40:53.307Z"
   },
   {
    "duration": 90,
    "start_time": "2022-05-12T16:41:01.111Z"
   },
   {
    "duration": 52,
    "start_time": "2022-05-12T16:41:08.858Z"
   },
   {
    "duration": 55,
    "start_time": "2022-05-12T16:41:32.340Z"
   },
   {
    "duration": 147,
    "start_time": "2022-05-12T16:42:00.142Z"
   },
   {
    "duration": 139,
    "start_time": "2022-05-12T16:42:15.303Z"
   },
   {
    "duration": 201,
    "start_time": "2022-05-12T16:42:21.407Z"
   },
   {
    "duration": 77,
    "start_time": "2022-05-12T16:42:37.288Z"
   },
   {
    "duration": 63,
    "start_time": "2022-05-12T16:42:53.372Z"
   },
   {
    "duration": 83,
    "start_time": "2022-05-12T16:43:05.194Z"
   },
   {
    "duration": 3159,
    "start_time": "2022-05-12T16:45:36.825Z"
   },
   {
    "duration": 6678,
    "start_time": "2022-05-12T16:45:42.428Z"
   },
   {
    "duration": 2603,
    "start_time": "2022-05-12T16:45:49.108Z"
   },
   {
    "duration": 2906,
    "start_time": "2022-05-12T16:46:00.622Z"
   },
   {
    "duration": 5931,
    "start_time": "2022-05-12T16:46:08.460Z"
   },
   {
    "duration": 2532,
    "start_time": "2022-05-12T16:46:14.393Z"
   },
   {
    "duration": 91,
    "start_time": "2022-05-12T16:46:22.898Z"
   },
   {
    "duration": 5809,
    "start_time": "2022-05-12T16:46:27.006Z"
   },
   {
    "duration": 87,
    "start_time": "2022-05-12T16:46:32.818Z"
   },
   {
    "duration": 6039,
    "start_time": "2022-05-12T16:47:11.940Z"
   },
   {
    "duration": 85,
    "start_time": "2022-05-12T16:47:23.836Z"
   },
   {
    "duration": 9,
    "start_time": "2022-05-12T16:51:22.001Z"
   },
   {
    "duration": 12,
    "start_time": "2022-05-12T16:51:29.343Z"
   },
   {
    "duration": 10,
    "start_time": "2022-05-12T16:51:32.108Z"
   },
   {
    "duration": 15,
    "start_time": "2022-05-12T16:54:21.192Z"
   },
   {
    "duration": 19,
    "start_time": "2022-05-12T16:54:42.698Z"
   },
   {
    "duration": 20,
    "start_time": "2022-05-12T16:54:50.318Z"
   },
   {
    "duration": 25,
    "start_time": "2022-05-12T16:56:14.676Z"
   },
   {
    "duration": 21,
    "start_time": "2022-05-12T16:57:40.819Z"
   },
   {
    "duration": 66,
    "start_time": "2022-05-12T16:58:11.653Z"
   },
   {
    "duration": 5893,
    "start_time": "2022-05-12T17:00:34.264Z"
   },
   {
    "duration": 17,
    "start_time": "2022-05-12T17:01:05.382Z"
   },
   {
    "duration": 5862,
    "start_time": "2022-05-12T17:01:48.886Z"
   },
   {
    "duration": 23,
    "start_time": "2022-05-12T17:02:00.182Z"
   },
   {
    "duration": 24,
    "start_time": "2022-05-12T17:02:25.893Z"
   },
   {
    "duration": 30,
    "start_time": "2022-05-12T17:04:05.342Z"
   },
   {
    "duration": 14,
    "start_time": "2022-05-12T17:04:47.568Z"
   },
   {
    "duration": 8,
    "start_time": "2022-05-12T17:04:57.178Z"
   },
   {
    "duration": 17,
    "start_time": "2022-05-12T17:05:14.003Z"
   },
   {
    "duration": 25,
    "start_time": "2022-05-12T17:07:43.157Z"
   },
   {
    "duration": 5774,
    "start_time": "2022-05-12T17:09:09.657Z"
   },
   {
    "duration": 6125,
    "start_time": "2022-05-12T17:09:26.757Z"
   },
   {
    "duration": 1251,
    "start_time": "2022-05-12T17:11:31.713Z"
   },
   {
    "duration": 248,
    "start_time": "2022-05-12T17:11:32.966Z"
   },
   {
    "duration": 71,
    "start_time": "2022-05-12T17:11:33.215Z"
   },
   {
    "duration": 60,
    "start_time": "2022-05-12T17:11:33.289Z"
   },
   {
    "duration": 41,
    "start_time": "2022-05-12T17:11:33.351Z"
   },
   {
    "duration": 96,
    "start_time": "2022-05-12T17:11:33.393Z"
   },
   {
    "duration": 83,
    "start_time": "2022-05-12T17:11:33.491Z"
   },
   {
    "duration": 92,
    "start_time": "2022-05-12T17:11:33.575Z"
   },
   {
    "duration": 394,
    "start_time": "2022-05-12T17:11:33.669Z"
   },
   {
    "duration": 39,
    "start_time": "2022-05-12T17:11:34.066Z"
   },
   {
    "duration": 37,
    "start_time": "2022-05-12T17:11:34.107Z"
   },
   {
    "duration": 5246,
    "start_time": "2022-05-12T17:11:34.146Z"
   },
   {
    "duration": 258,
    "start_time": "2022-05-12T17:11:39.394Z"
   },
   {
    "duration": 151,
    "start_time": "2022-05-12T17:11:39.654Z"
   },
   {
    "duration": 23,
    "start_time": "2022-05-12T17:11:39.807Z"
   },
   {
    "duration": 29,
    "start_time": "2022-05-12T17:11:39.832Z"
   },
   {
    "duration": 443,
    "start_time": "2022-05-12T17:11:39.863Z"
   },
   {
    "duration": 19,
    "start_time": "2022-05-12T17:11:40.308Z"
   },
   {
    "duration": 114,
    "start_time": "2022-05-12T17:11:40.329Z"
   },
   {
    "duration": 61,
    "start_time": "2022-05-12T17:11:40.445Z"
   },
   {
    "duration": 41,
    "start_time": "2022-05-12T17:11:40.508Z"
   },
   {
    "duration": 55,
    "start_time": "2022-05-12T17:11:40.551Z"
   },
   {
    "duration": 6,
    "start_time": "2022-05-12T17:12:44.117Z"
   },
   {
    "duration": 4,
    "start_time": "2022-05-12T17:18:14.097Z"
   },
   {
    "duration": 6,
    "start_time": "2022-05-12T17:18:23.508Z"
   },
   {
    "duration": 110,
    "start_time": "2022-05-12T17:19:28.639Z"
   },
   {
    "duration": 18,
    "start_time": "2022-05-12T17:19:32.296Z"
   },
   {
    "duration": 27,
    "start_time": "2022-05-12T17:20:01.187Z"
   },
   {
    "duration": 15,
    "start_time": "2022-05-12T17:20:26.106Z"
   },
   {
    "duration": 155,
    "start_time": "2022-05-12T17:21:21.927Z"
   },
   {
    "duration": 142,
    "start_time": "2022-05-12T17:21:27.175Z"
   },
   {
    "duration": 20,
    "start_time": "2022-05-12T17:21:32.656Z"
   },
   {
    "duration": 30,
    "start_time": "2022-05-12T17:22:02.487Z"
   },
   {
    "duration": 21,
    "start_time": "2022-05-12T17:22:17.695Z"
   },
   {
    "duration": 1264,
    "start_time": "2022-05-12T17:44:09.509Z"
   },
   {
    "duration": 777,
    "start_time": "2022-05-12T17:44:10.776Z"
   },
   {
    "duration": 87,
    "start_time": "2022-05-12T17:44:11.555Z"
   },
   {
    "duration": 41,
    "start_time": "2022-05-12T17:44:11.645Z"
   },
   {
    "duration": 57,
    "start_time": "2022-05-12T17:44:11.688Z"
   },
   {
    "duration": 77,
    "start_time": "2022-05-12T17:44:11.747Z"
   },
   {
    "duration": 72,
    "start_time": "2022-05-12T17:44:11.842Z"
   },
   {
    "duration": 103,
    "start_time": "2022-05-12T17:44:11.916Z"
   },
   {
    "duration": 374,
    "start_time": "2022-05-12T17:44:12.021Z"
   },
   {
    "duration": 47,
    "start_time": "2022-05-12T17:44:12.398Z"
   },
   {
    "duration": 26,
    "start_time": "2022-05-12T17:44:12.447Z"
   },
   {
    "duration": 5369,
    "start_time": "2022-05-12T17:44:12.475Z"
   },
   {
    "duration": 254,
    "start_time": "2022-05-12T17:44:17.846Z"
   },
   {
    "duration": 152,
    "start_time": "2022-05-12T17:44:18.102Z"
   },
   {
    "duration": 21,
    "start_time": "2022-05-12T17:44:18.256Z"
   },
   {
    "duration": 20,
    "start_time": "2022-05-12T17:44:18.279Z"
   },
   {
    "duration": 444,
    "start_time": "2022-05-12T17:44:18.301Z"
   },
   {
    "duration": 19,
    "start_time": "2022-05-12T17:44:18.747Z"
   },
   {
    "duration": 123,
    "start_time": "2022-05-12T17:44:18.768Z"
   },
   {
    "duration": 73,
    "start_time": "2022-05-12T17:44:18.893Z"
   },
   {
    "duration": 21,
    "start_time": "2022-05-12T17:44:18.968Z"
   },
   {
    "duration": 3,
    "start_time": "2022-05-12T17:44:18.991Z"
   },
   {
    "duration": 23,
    "start_time": "2022-05-12T17:44:18.996Z"
   },
   {
    "duration": 48,
    "start_time": "2022-05-13T15:48:43.085Z"
   },
   {
    "duration": 1899,
    "start_time": "2022-05-13T15:48:54.909Z"
   },
   {
    "duration": 377,
    "start_time": "2022-05-13T15:48:56.812Z"
   },
   {
    "duration": 121,
    "start_time": "2022-05-13T15:48:57.191Z"
   },
   {
    "duration": 57,
    "start_time": "2022-05-13T15:48:57.314Z"
   },
   {
    "duration": 54,
    "start_time": "2022-05-13T15:48:57.373Z"
   },
   {
    "duration": 81,
    "start_time": "2022-05-13T15:48:57.429Z"
   },
   {
    "duration": 60,
    "start_time": "2022-05-13T15:48:57.512Z"
   },
   {
    "duration": 102,
    "start_time": "2022-05-13T15:48:57.573Z"
   },
   {
    "duration": 342,
    "start_time": "2022-05-13T15:48:57.677Z"
   },
   {
    "duration": 36,
    "start_time": "2022-05-13T15:48:58.023Z"
   },
   {
    "duration": 21,
    "start_time": "2022-05-13T15:48:58.060Z"
   },
   {
    "duration": 4970,
    "start_time": "2022-05-13T15:48:58.100Z"
   },
   {
    "duration": 239,
    "start_time": "2022-05-13T15:49:03.071Z"
   },
   {
    "duration": 135,
    "start_time": "2022-05-13T15:49:03.311Z"
   },
   {
    "duration": 20,
    "start_time": "2022-05-13T15:49:03.448Z"
   },
   {
    "duration": 32,
    "start_time": "2022-05-13T15:49:03.469Z"
   },
   {
    "duration": 254,
    "start_time": "2022-05-13T15:49:03.503Z"
   },
   {
    "duration": 203,
    "start_time": "2022-05-13T15:49:10.933Z"
   },
   {
    "duration": 238,
    "start_time": "2022-05-13T15:49:17.354Z"
   },
   {
    "duration": 388,
    "start_time": "2022-05-13T15:49:24.806Z"
   },
   {
    "duration": 212,
    "start_time": "2022-05-13T15:49:33.365Z"
   },
   {
    "duration": 111,
    "start_time": "2022-05-13T15:54:34.796Z"
   },
   {
    "duration": 13,
    "start_time": "2022-05-13T15:55:27.524Z"
   },
   {
    "duration": 228,
    "start_time": "2022-05-13T15:56:09.509Z"
   },
   {
    "duration": 69,
    "start_time": "2022-05-13T16:06:09.064Z"
   },
   {
    "duration": 47,
    "start_time": "2022-05-13T16:06:29.133Z"
   },
   {
    "duration": 47,
    "start_time": "2022-05-13T16:07:30.026Z"
   },
   {
    "duration": 50,
    "start_time": "2022-05-13T16:08:20.822Z"
   },
   {
    "duration": 45,
    "start_time": "2022-05-13T16:08:30.086Z"
   },
   {
    "duration": 46,
    "start_time": "2022-05-13T16:09:46.009Z"
   },
   {
    "duration": 47,
    "start_time": "2022-05-13T16:11:57.113Z"
   },
   {
    "duration": 44,
    "start_time": "2022-05-13T16:13:24.855Z"
   },
   {
    "duration": 48,
    "start_time": "2022-05-13T16:13:45.294Z"
   },
   {
    "duration": 46,
    "start_time": "2022-05-13T16:13:51.549Z"
   },
   {
    "duration": 49,
    "start_time": "2022-05-13T16:15:08.876Z"
   },
   {
    "duration": 48,
    "start_time": "2022-05-13T16:15:25.044Z"
   },
   {
    "duration": 3089,
    "start_time": "2022-05-13T16:19:10.197Z"
   },
   {
    "duration": 21,
    "start_time": "2022-05-13T16:19:25.695Z"
   },
   {
    "duration": 1352,
    "start_time": "2022-05-13T16:19:50.626Z"
   },
   {
    "duration": 244,
    "start_time": "2022-05-13T16:19:51.980Z"
   },
   {
    "duration": 76,
    "start_time": "2022-05-13T16:19:52.226Z"
   },
   {
    "duration": 38,
    "start_time": "2022-05-13T16:19:52.304Z"
   },
   {
    "duration": 76,
    "start_time": "2022-05-13T16:19:52.343Z"
   },
   {
    "duration": 121,
    "start_time": "2022-05-13T16:19:52.421Z"
   },
   {
    "duration": 112,
    "start_time": "2022-05-13T16:19:52.544Z"
   },
   {
    "duration": 131,
    "start_time": "2022-05-13T16:19:52.658Z"
   },
   {
    "duration": 582,
    "start_time": "2022-05-13T16:19:52.791Z"
   },
   {
    "duration": 52,
    "start_time": "2022-05-13T16:19:53.377Z"
   },
   {
    "duration": 23,
    "start_time": "2022-05-13T16:19:53.430Z"
   },
   {
    "duration": 4896,
    "start_time": "2022-05-13T16:19:53.454Z"
   },
   {
    "duration": 226,
    "start_time": "2022-05-13T16:19:58.352Z"
   },
   {
    "duration": 230,
    "start_time": "2022-05-13T16:19:58.580Z"
   },
   {
    "duration": 190,
    "start_time": "2022-05-13T16:19:58.812Z"
   },
   {
    "duration": 20,
    "start_time": "2022-05-13T16:19:59.004Z"
   },
   {
    "duration": 15,
    "start_time": "2022-05-13T16:19:59.026Z"
   },
   {
    "duration": 224,
    "start_time": "2022-05-13T16:19:59.043Z"
   },
   {
    "duration": 16,
    "start_time": "2022-05-13T16:19:59.270Z"
   },
   {
    "duration": 87,
    "start_time": "2022-05-13T16:19:59.299Z"
   },
   {
    "duration": 56,
    "start_time": "2022-05-13T16:19:59.400Z"
   },
   {
    "duration": 22,
    "start_time": "2022-05-13T16:19:59.458Z"
   },
   {
    "duration": 21,
    "start_time": "2022-05-13T16:19:59.481Z"
   },
   {
    "duration": 25,
    "start_time": "2022-05-13T16:19:59.504Z"
   },
   {
    "duration": 89,
    "start_time": "2022-05-13T16:19:59.531Z"
   },
   {
    "duration": 31,
    "start_time": "2022-05-13T16:20:02.395Z"
   },
   {
    "duration": 26,
    "start_time": "2022-05-13T16:20:46.985Z"
   },
   {
    "duration": 5,
    "start_time": "2022-05-13T16:21:40.569Z"
   },
   {
    "duration": 5,
    "start_time": "2022-05-13T16:21:48.540Z"
   },
   {
    "duration": 5,
    "start_time": "2022-05-13T16:21:53.975Z"
   },
   {
    "duration": 1206,
    "start_time": "2022-05-13T16:23:33.082Z"
   },
   {
    "duration": 245,
    "start_time": "2022-05-13T16:23:34.290Z"
   },
   {
    "duration": 65,
    "start_time": "2022-05-13T16:23:34.537Z"
   },
   {
    "duration": 34,
    "start_time": "2022-05-13T16:23:34.604Z"
   },
   {
    "duration": 55,
    "start_time": "2022-05-13T16:23:34.640Z"
   },
   {
    "duration": 68,
    "start_time": "2022-05-13T16:23:34.697Z"
   },
   {
    "duration": 73,
    "start_time": "2022-05-13T16:23:34.767Z"
   },
   {
    "duration": 88,
    "start_time": "2022-05-13T16:23:34.842Z"
   },
   {
    "duration": 349,
    "start_time": "2022-05-13T16:23:34.931Z"
   },
   {
    "duration": 40,
    "start_time": "2022-05-13T16:23:35.282Z"
   },
   {
    "duration": 22,
    "start_time": "2022-05-13T16:23:35.323Z"
   },
   {
    "duration": 4812,
    "start_time": "2022-05-13T16:23:35.347Z"
   },
   {
    "duration": 227,
    "start_time": "2022-05-13T16:23:40.161Z"
   },
   {
    "duration": 232,
    "start_time": "2022-05-13T16:23:40.390Z"
   },
   {
    "duration": 194,
    "start_time": "2022-05-13T16:23:40.624Z"
   },
   {
    "duration": 19,
    "start_time": "2022-05-13T16:23:40.820Z"
   },
   {
    "duration": 15,
    "start_time": "2022-05-13T16:23:40.841Z"
   },
   {
    "duration": 226,
    "start_time": "2022-05-13T16:23:40.858Z"
   },
   {
    "duration": 25,
    "start_time": "2022-05-13T16:23:41.086Z"
   },
   {
    "duration": 97,
    "start_time": "2022-05-13T16:23:41.113Z"
   },
   {
    "duration": 55,
    "start_time": "2022-05-13T16:23:41.212Z"
   },
   {
    "duration": 39,
    "start_time": "2022-05-13T16:23:41.269Z"
   },
   {
    "duration": 3,
    "start_time": "2022-05-13T16:23:41.310Z"
   },
   {
    "duration": 21,
    "start_time": "2022-05-13T16:23:41.315Z"
   },
   {
    "duration": 69,
    "start_time": "2022-05-13T16:23:41.337Z"
   },
   {
    "duration": 22,
    "start_time": "2022-05-13T16:23:41.407Z"
   },
   {
    "duration": 33,
    "start_time": "2022-05-13T16:30:52.794Z"
   },
   {
    "duration": 25,
    "start_time": "2022-05-13T16:35:16.341Z"
   },
   {
    "duration": 1131,
    "start_time": "2022-05-13T16:57:36.540Z"
   },
   {
    "duration": 246,
    "start_time": "2022-05-13T16:57:37.673Z"
   },
   {
    "duration": 88,
    "start_time": "2022-05-13T16:57:37.921Z"
   },
   {
    "duration": 61,
    "start_time": "2022-05-13T16:57:38.012Z"
   },
   {
    "duration": 80,
    "start_time": "2022-05-13T16:57:38.075Z"
   },
   {
    "duration": 124,
    "start_time": "2022-05-13T16:57:38.157Z"
   },
   {
    "duration": 106,
    "start_time": "2022-05-13T16:57:38.284Z"
   },
   {
    "duration": 122,
    "start_time": "2022-05-13T16:57:38.392Z"
   },
   {
    "duration": 567,
    "start_time": "2022-05-13T16:57:38.516Z"
   },
   {
    "duration": 60,
    "start_time": "2022-05-13T16:57:39.087Z"
   },
   {
    "duration": 34,
    "start_time": "2022-05-13T16:57:39.149Z"
   },
   {
    "duration": 11113,
    "start_time": "2022-05-13T16:57:39.200Z"
   },
   {
    "duration": 362,
    "start_time": "2022-05-13T16:57:50.315Z"
   },
   {
    "duration": 371,
    "start_time": "2022-05-13T16:57:50.679Z"
   },
   {
    "duration": 290,
    "start_time": "2022-05-13T16:57:51.052Z"
   },
   {
    "duration": 19,
    "start_time": "2022-05-13T16:57:51.344Z"
   },
   {
    "duration": 16,
    "start_time": "2022-05-13T16:57:51.365Z"
   },
   {
    "duration": 208,
    "start_time": "2022-05-13T16:57:51.399Z"
   },
   {
    "duration": 24,
    "start_time": "2022-05-13T16:57:51.608Z"
   },
   {
    "duration": 171,
    "start_time": "2022-05-13T16:57:51.634Z"
   },
   {
    "duration": 106,
    "start_time": "2022-05-13T16:57:51.807Z"
   },
   {
    "duration": 31,
    "start_time": "2022-05-13T16:57:51.915Z"
   },
   {
    "duration": 4,
    "start_time": "2022-05-13T16:57:51.948Z"
   },
   {
    "duration": 56,
    "start_time": "2022-05-13T16:57:51.954Z"
   },
   {
    "duration": 91,
    "start_time": "2022-05-13T16:57:52.012Z"
   },
   {
    "duration": 24,
    "start_time": "2022-05-13T16:57:52.105Z"
   },
   {
    "duration": 20,
    "start_time": "2022-05-13T16:57:52.130Z"
   },
   {
    "duration": 52,
    "start_time": "2022-05-13T16:57:52.153Z"
   }
  ],
  "kernelspec": {
   "display_name": "Python 3 (ipykernel)",
   "language": "python",
   "name": "python3"
  },
  "language_info": {
   "codemirror_mode": {
    "name": "ipython",
    "version": 3
   },
   "file_extension": ".py",
   "mimetype": "text/x-python",
   "name": "python",
   "nbconvert_exporter": "python",
   "pygments_lexer": "ipython3",
   "version": "3.9.7"
  },
  "toc": {
   "base_numbering": 1,
   "nav_menu": {},
   "number_sections": true,
   "sideBar": true,
   "skip_h1_title": true,
   "title_cell": "Table of Contents",
   "title_sidebar": "Contents",
   "toc_cell": false,
   "toc_position": {},
   "toc_section_display": true,
   "toc_window_display": false
  }
 },
 "nbformat": 4,
 "nbformat_minor": 2
}