{
 "cells": [
  {
   "cell_type": "markdown",
   "metadata": {
    "pycharm": {
     "name": "#%% md\n"
    }
   },
   "source": [
    "# Исследование надёжности заёмщиков\n",
    "\n",
    "Заказчик — кредитный отдел банка. Нужно разобраться, влияет ли семейное положение и количество детей клиента на факт погашения кредита в срок. Входные данные от банка — статистика о платёжеспособности клиентов.\n",
    "\n",
    "Результаты исследования будут учтены при построении модели **кредитного скоринга** — специальной системы, которая оценивает способность потенциального заёмщика вернуть кредит банку.\n",
    "\n",
    "**В рамках исследования ответим на несколько вопросов:**\n",
    "\n",
    "* Есть ли зависимость между наличием детей и возвратом кредита в срок?\n",
    "* Есть ли зависимость между семейным положением и возвратом кредита в срок?\n",
    "* Есть ли зависимость между уровнем дохода и возвратом кредита в срок?\n",
    "* Как разные цели кредита влияют на его возврат в срок?\n",
    "    \n",
    "В заключение сформулируем общий вывод по результатам исследования."
   ]
  },
  {
   "cell_type": "markdown",
   "source": [
    "## Шаг 1. Загрузка и первичный обзор данных"
   ],
   "metadata": {
    "collapsed": false,
    "pycharm": {
     "name": "#%% md\n"
    }
   }
  },
  {
   "cell_type": "code",
   "execution_count": 1,
   "metadata": {
    "pycharm": {
     "name": "#%%\n"
    }
   },
   "outputs": [],
   "source": [
    "# сначала подключим библиотеки, которые понадобятся нам в процессе анализа данных\n",
    "import pandas as pd # импортируем pandas - основной пакет, используемый при анализе\n",
    "from pymystem3 import Mystem # импортируем лемматизатор для слов на русском\n",
    "from collections import Counter # модуль Counter для подсчёта количества лем\n",
    "m = Mystem()"
   ]
  },
  {
   "cell_type": "code",
   "execution_count": 2,
   "metadata": {
    "pycharm": {
     "name": "#%%\n"
    }
   },
   "outputs": [
    {
     "name": "stdout",
     "output_type": "stream",
     "text": [
      "<class 'pandas.core.frame.DataFrame'>\n",
      "RangeIndex: 21525 entries, 0 to 21524\n",
      "Data columns (total 12 columns):\n",
      "children            21525 non-null int64\n",
      "days_employed       19351 non-null float64\n",
      "dob_years           21525 non-null int64\n",
      "education           21525 non-null object\n",
      "education_id        21525 non-null int64\n",
      "family_status       21525 non-null object\n",
      "family_status_id    21525 non-null int64\n",
      "gender              21525 non-null object\n",
      "income_type         21525 non-null object\n",
      "debt                21525 non-null int64\n",
      "total_income        19351 non-null float64\n",
      "purpose             21525 non-null object\n",
      "dtypes: float64(2), int64(5), object(5)\n",
      "memory usage: 2.0+ MB\n"
     ]
    }
   ],
   "source": [
    "# загрузим файл с данными \n",
    "df = pd.read_csv(input())\n",
    "df.info() # и изучим общую информацию"
   ]
  },
  {
   "cell_type": "markdown",
   "metadata": {
    "pycharm": {
     "name": "#%% md\n"
    }
   },
   "source": [
    "Согласно документации к данным:\n",
    "\n",
    "*    `children` — количество детей в семье\n",
    "*    `days_employed` — общий трудовой стаж в днях\n",
    "*    `dob_years` — возраст клиента в годах\n",
    "*    `education` — уровень образования клиента\n",
    "*    `education_id` — идентификатор уровня образования\n",
    "*    `family_status` — семейное положение\n",
    "*    `family_status_id` — идентификатор семейного положения\n",
    "*    `gender` — пол клиента\n",
    "*    `income_type` — тип занятости\n",
    "*    `debt` — имел ли задолженность по возврату кредитов\n",
    "*    `total_income` — ежемесячный доход\n",
    "*    `purpose` — цель получения кредита"
   ]
  },
  {
   "cell_type": "code",
   "execution_count": 3,
   "metadata": {
    "scrolled": false,
    "pycharm": {
     "name": "#%%\n"
    }
   },
   "outputs": [
    {
     "data": {
      "text/html": [
       "<div>\n",
       "<style scoped>\n",
       "    .dataframe tbody tr th:only-of-type {\n",
       "        vertical-align: middle;\n",
       "    }\n",
       "\n",
       "    .dataframe tbody tr th {\n",
       "        vertical-align: top;\n",
       "    }\n",
       "\n",
       "    .dataframe thead th {\n",
       "        text-align: right;\n",
       "    }\n",
       "</style>\n",
       "<table border=\"1\" class=\"dataframe\">\n",
       "  <thead>\n",
       "    <tr style=\"text-align: right;\">\n",
       "      <th></th>\n",
       "      <th>children</th>\n",
       "      <th>days_employed</th>\n",
       "      <th>dob_years</th>\n",
       "      <th>education</th>\n",
       "      <th>education_id</th>\n",
       "      <th>family_status</th>\n",
       "      <th>family_status_id</th>\n",
       "      <th>gender</th>\n",
       "      <th>income_type</th>\n",
       "      <th>debt</th>\n",
       "      <th>total_income</th>\n",
       "      <th>purpose</th>\n",
       "    </tr>\n",
       "  </thead>\n",
       "  <tbody>\n",
       "    <tr>\n",
       "      <td>0</td>\n",
       "      <td>1</td>\n",
       "      <td>-8437.673028</td>\n",
       "      <td>42</td>\n",
       "      <td>высшее</td>\n",
       "      <td>0</td>\n",
       "      <td>женат / замужем</td>\n",
       "      <td>0</td>\n",
       "      <td>F</td>\n",
       "      <td>сотрудник</td>\n",
       "      <td>0</td>\n",
       "      <td>253875.639453</td>\n",
       "      <td>покупка жилья</td>\n",
       "    </tr>\n",
       "    <tr>\n",
       "      <td>1</td>\n",
       "      <td>1</td>\n",
       "      <td>-4024.803754</td>\n",
       "      <td>36</td>\n",
       "      <td>среднее</td>\n",
       "      <td>1</td>\n",
       "      <td>женат / замужем</td>\n",
       "      <td>0</td>\n",
       "      <td>F</td>\n",
       "      <td>сотрудник</td>\n",
       "      <td>0</td>\n",
       "      <td>112080.014102</td>\n",
       "      <td>приобретение автомобиля</td>\n",
       "    </tr>\n",
       "    <tr>\n",
       "      <td>2</td>\n",
       "      <td>0</td>\n",
       "      <td>-5623.422610</td>\n",
       "      <td>33</td>\n",
       "      <td>Среднее</td>\n",
       "      <td>1</td>\n",
       "      <td>женат / замужем</td>\n",
       "      <td>0</td>\n",
       "      <td>M</td>\n",
       "      <td>сотрудник</td>\n",
       "      <td>0</td>\n",
       "      <td>145885.952297</td>\n",
       "      <td>покупка жилья</td>\n",
       "    </tr>\n",
       "    <tr>\n",
       "      <td>3</td>\n",
       "      <td>3</td>\n",
       "      <td>-4124.747207</td>\n",
       "      <td>32</td>\n",
       "      <td>среднее</td>\n",
       "      <td>1</td>\n",
       "      <td>женат / замужем</td>\n",
       "      <td>0</td>\n",
       "      <td>M</td>\n",
       "      <td>сотрудник</td>\n",
       "      <td>0</td>\n",
       "      <td>267628.550329</td>\n",
       "      <td>дополнительное образование</td>\n",
       "    </tr>\n",
       "    <tr>\n",
       "      <td>4</td>\n",
       "      <td>0</td>\n",
       "      <td>340266.072047</td>\n",
       "      <td>53</td>\n",
       "      <td>среднее</td>\n",
       "      <td>1</td>\n",
       "      <td>гражданский брак</td>\n",
       "      <td>1</td>\n",
       "      <td>F</td>\n",
       "      <td>пенсионер</td>\n",
       "      <td>0</td>\n",
       "      <td>158616.077870</td>\n",
       "      <td>сыграть свадьбу</td>\n",
       "    </tr>\n",
       "    <tr>\n",
       "      <td>5</td>\n",
       "      <td>0</td>\n",
       "      <td>-926.185831</td>\n",
       "      <td>27</td>\n",
       "      <td>высшее</td>\n",
       "      <td>0</td>\n",
       "      <td>гражданский брак</td>\n",
       "      <td>1</td>\n",
       "      <td>M</td>\n",
       "      <td>компаньон</td>\n",
       "      <td>0</td>\n",
       "      <td>255763.565419</td>\n",
       "      <td>покупка жилья</td>\n",
       "    </tr>\n",
       "    <tr>\n",
       "      <td>6</td>\n",
       "      <td>0</td>\n",
       "      <td>-2879.202052</td>\n",
       "      <td>43</td>\n",
       "      <td>высшее</td>\n",
       "      <td>0</td>\n",
       "      <td>женат / замужем</td>\n",
       "      <td>0</td>\n",
       "      <td>F</td>\n",
       "      <td>компаньон</td>\n",
       "      <td>0</td>\n",
       "      <td>240525.971920</td>\n",
       "      <td>операции с жильем</td>\n",
       "    </tr>\n",
       "    <tr>\n",
       "      <td>7</td>\n",
       "      <td>0</td>\n",
       "      <td>-152.779569</td>\n",
       "      <td>50</td>\n",
       "      <td>СРЕДНЕЕ</td>\n",
       "      <td>1</td>\n",
       "      <td>женат / замужем</td>\n",
       "      <td>0</td>\n",
       "      <td>M</td>\n",
       "      <td>сотрудник</td>\n",
       "      <td>0</td>\n",
       "      <td>135823.934197</td>\n",
       "      <td>образование</td>\n",
       "    </tr>\n",
       "    <tr>\n",
       "      <td>8</td>\n",
       "      <td>2</td>\n",
       "      <td>-6929.865299</td>\n",
       "      <td>35</td>\n",
       "      <td>ВЫСШЕЕ</td>\n",
       "      <td>0</td>\n",
       "      <td>гражданский брак</td>\n",
       "      <td>1</td>\n",
       "      <td>F</td>\n",
       "      <td>сотрудник</td>\n",
       "      <td>0</td>\n",
       "      <td>95856.832424</td>\n",
       "      <td>на проведение свадьбы</td>\n",
       "    </tr>\n",
       "    <tr>\n",
       "      <td>9</td>\n",
       "      <td>0</td>\n",
       "      <td>-2188.756445</td>\n",
       "      <td>41</td>\n",
       "      <td>среднее</td>\n",
       "      <td>1</td>\n",
       "      <td>женат / замужем</td>\n",
       "      <td>0</td>\n",
       "      <td>M</td>\n",
       "      <td>сотрудник</td>\n",
       "      <td>0</td>\n",
       "      <td>144425.938277</td>\n",
       "      <td>покупка жилья для семьи</td>\n",
       "    </tr>\n",
       "  </tbody>\n",
       "</table>\n",
       "</div>"
      ],
      "text/plain": [
       "   children  days_employed  dob_years education  education_id  \\\n",
       "0         1   -8437.673028         42    высшее             0   \n",
       "1         1   -4024.803754         36   среднее             1   \n",
       "2         0   -5623.422610         33   Среднее             1   \n",
       "3         3   -4124.747207         32   среднее             1   \n",
       "4         0  340266.072047         53   среднее             1   \n",
       "5         0    -926.185831         27    высшее             0   \n",
       "6         0   -2879.202052         43    высшее             0   \n",
       "7         0    -152.779569         50   СРЕДНЕЕ             1   \n",
       "8         2   -6929.865299         35    ВЫСШЕЕ             0   \n",
       "9         0   -2188.756445         41   среднее             1   \n",
       "\n",
       "      family_status  family_status_id gender income_type  debt   total_income  \\\n",
       "0   женат / замужем                 0      F   сотрудник     0  253875.639453   \n",
       "1   женат / замужем                 0      F   сотрудник     0  112080.014102   \n",
       "2   женат / замужем                 0      M   сотрудник     0  145885.952297   \n",
       "3   женат / замужем                 0      M   сотрудник     0  267628.550329   \n",
       "4  гражданский брак                 1      F   пенсионер     0  158616.077870   \n",
       "5  гражданский брак                 1      M   компаньон     0  255763.565419   \n",
       "6   женат / замужем                 0      F   компаньон     0  240525.971920   \n",
       "7   женат / замужем                 0      M   сотрудник     0  135823.934197   \n",
       "8  гражданский брак                 1      F   сотрудник     0   95856.832424   \n",
       "9   женат / замужем                 0      M   сотрудник     0  144425.938277   \n",
       "\n",
       "                      purpose  \n",
       "0               покупка жилья  \n",
       "1     приобретение автомобиля  \n",
       "2               покупка жилья  \n",
       "3  дополнительное образование  \n",
       "4             сыграть свадьбу  \n",
       "5               покупка жилья  \n",
       "6           операции с жильем  \n",
       "7                 образование  \n",
       "8       на проведение свадьбы  \n",
       "9     покупка жилья для семьи  "
      ]
     },
     "metadata": {},
     "output_type": "display_data"
    },
    {
     "data": {
      "text/html": [
       "<div>\n",
       "<style scoped>\n",
       "    .dataframe tbody tr th:only-of-type {\n",
       "        vertical-align: middle;\n",
       "    }\n",
       "\n",
       "    .dataframe tbody tr th {\n",
       "        vertical-align: top;\n",
       "    }\n",
       "\n",
       "    .dataframe thead th {\n",
       "        text-align: right;\n",
       "    }\n",
       "</style>\n",
       "<table border=\"1\" class=\"dataframe\">\n",
       "  <thead>\n",
       "    <tr style=\"text-align: right;\">\n",
       "      <th></th>\n",
       "      <th>children</th>\n",
       "      <th>days_employed</th>\n",
       "      <th>dob_years</th>\n",
       "      <th>education</th>\n",
       "      <th>education_id</th>\n",
       "      <th>family_status</th>\n",
       "      <th>family_status_id</th>\n",
       "      <th>gender</th>\n",
       "      <th>income_type</th>\n",
       "      <th>debt</th>\n",
       "      <th>total_income</th>\n",
       "      <th>purpose</th>\n",
       "    </tr>\n",
       "  </thead>\n",
       "  <tbody>\n",
       "    <tr>\n",
       "      <td>21520</td>\n",
       "      <td>1</td>\n",
       "      <td>-4529.316663</td>\n",
       "      <td>43</td>\n",
       "      <td>среднее</td>\n",
       "      <td>1</td>\n",
       "      <td>гражданский брак</td>\n",
       "      <td>1</td>\n",
       "      <td>F</td>\n",
       "      <td>компаньон</td>\n",
       "      <td>0</td>\n",
       "      <td>224791.862382</td>\n",
       "      <td>операции с жильем</td>\n",
       "    </tr>\n",
       "    <tr>\n",
       "      <td>21521</td>\n",
       "      <td>0</td>\n",
       "      <td>343937.404131</td>\n",
       "      <td>67</td>\n",
       "      <td>среднее</td>\n",
       "      <td>1</td>\n",
       "      <td>женат / замужем</td>\n",
       "      <td>0</td>\n",
       "      <td>F</td>\n",
       "      <td>пенсионер</td>\n",
       "      <td>0</td>\n",
       "      <td>155999.806512</td>\n",
       "      <td>сделка с автомобилем</td>\n",
       "    </tr>\n",
       "    <tr>\n",
       "      <td>21522</td>\n",
       "      <td>1</td>\n",
       "      <td>-2113.346888</td>\n",
       "      <td>38</td>\n",
       "      <td>среднее</td>\n",
       "      <td>1</td>\n",
       "      <td>гражданский брак</td>\n",
       "      <td>1</td>\n",
       "      <td>M</td>\n",
       "      <td>сотрудник</td>\n",
       "      <td>1</td>\n",
       "      <td>89672.561153</td>\n",
       "      <td>недвижимость</td>\n",
       "    </tr>\n",
       "    <tr>\n",
       "      <td>21523</td>\n",
       "      <td>3</td>\n",
       "      <td>-3112.481705</td>\n",
       "      <td>38</td>\n",
       "      <td>среднее</td>\n",
       "      <td>1</td>\n",
       "      <td>женат / замужем</td>\n",
       "      <td>0</td>\n",
       "      <td>M</td>\n",
       "      <td>сотрудник</td>\n",
       "      <td>1</td>\n",
       "      <td>244093.050500</td>\n",
       "      <td>на покупку своего автомобиля</td>\n",
       "    </tr>\n",
       "    <tr>\n",
       "      <td>21524</td>\n",
       "      <td>2</td>\n",
       "      <td>-1984.507589</td>\n",
       "      <td>40</td>\n",
       "      <td>среднее</td>\n",
       "      <td>1</td>\n",
       "      <td>женат / замужем</td>\n",
       "      <td>0</td>\n",
       "      <td>F</td>\n",
       "      <td>сотрудник</td>\n",
       "      <td>0</td>\n",
       "      <td>82047.418899</td>\n",
       "      <td>на покупку автомобиля</td>\n",
       "    </tr>\n",
       "  </tbody>\n",
       "</table>\n",
       "</div>"
      ],
      "text/plain": [
       "       children  days_employed  dob_years education  education_id  \\\n",
       "21520         1   -4529.316663         43   среднее             1   \n",
       "21521         0  343937.404131         67   среднее             1   \n",
       "21522         1   -2113.346888         38   среднее             1   \n",
       "21523         3   -3112.481705         38   среднее             1   \n",
       "21524         2   -1984.507589         40   среднее             1   \n",
       "\n",
       "          family_status  family_status_id gender income_type  debt  \\\n",
       "21520  гражданский брак                 1      F   компаньон     0   \n",
       "21521   женат / замужем                 0      F   пенсионер     0   \n",
       "21522  гражданский брак                 1      M   сотрудник     1   \n",
       "21523   женат / замужем                 0      M   сотрудник     1   \n",
       "21524   женат / замужем                 0      F   сотрудник     0   \n",
       "\n",
       "        total_income                       purpose  \n",
       "21520  224791.862382             операции с жильем  \n",
       "21521  155999.806512          сделка с автомобилем  \n",
       "21522   89672.561153                  недвижимость  \n",
       "21523  244093.050500  на покупку своего автомобиля  \n",
       "21524   82047.418899         на покупку автомобиля  "
      ]
     },
     "metadata": {},
     "output_type": "display_data"
    }
   ],
   "source": [
    "# Смотрю на первые 10 строк датафрейма - хотелось бы сразу увидеть, что необычного в столбцах days_employed и total_income\n",
    "display(df.head(10))\n",
    "\n",
    "# заодно взглянем и на последние 5\n",
    "display(df.tail())"
   ]
  },
  {
   "cell_type": "markdown",
   "metadata": {
    "pycharm": {
     "name": "#%% md\n"
    }
   },
   "source": [
    "**Вывод**\n",
    "\n",
    "В предоставленном для анализа файле:\n",
    "\n",
    "* 12 столбцов (переменных)\n",
    "* 21525 строк (записей/наблюдений)\n",
    "    \n",
    "Целочисленных и строковых переменных в таблице поровну: по 5 каждого вида. Ещё два столбца - **трудовой стаж в днях** и **общий доход** - вещественные числа.\n",
    "Стиль в названии колонок не нарушен.\n",
    "\n",
    "Вещественный тип данных в столбце `days_employed` вызывает подозрения - хранение дробных дней выглядит излишним.\n",
    "При этом, в обоих столбцах не достаёт около двух тысяч наблюдений - вероятно, пропущенные данные хранятся как \"вещественные числа\" NaN.\n",
    "\n",
    "Первые и последние строки таблицы не дали прямого ответа о наличии NaN в двух интересующих нас переменных, но ярко обозначили **наличие отрицательных значений** в общем трудовом стаже в днях. Также следует обратить внимание на слишком большие (по модулю) значения в этой переменной: уже в 4 строке наблюдаем запись с 340266 днями стажа - это 932 года. Значения нелогичны - нужно будет перепроверить. Гипотеза: стаж представлен в часах, а не днях.\n",
    "\n",
    "Обращает на себя внимание и столбец \"**education**\" - значения в нём не приведены к одному регистру.\n",
    "\n",
    "В каждой строке таблицы — данные об отдельном клиента банка. Большая часть колонок описывает самого клиента: возраст, пол, образование и т.д. Столбец `purpose` содержит информацию о цели кредита.\n",
    "\n",
    "Предварительно можно утверждать, что, данных достаточно для проверки гипотез. Но в данных видны проблемы: отрицательные значения стажа, пропуски, разный регистр значений в строковых переменных.\n",
    "\n",
    "Чтобы двигаться дальше, нужно устранить проблемы в данных."
   ]
  },
  {
   "cell_type": "markdown",
   "metadata": {
    "pycharm": {
     "name": "#%% md\n"
    }
   },
   "source": [
    "## Шаг 2. Предобработка данных\n",
    "\n",
    "### Обработка пропусков\n",
    "\n",
    "Сначала подсчитаем количество пропусков в каждой колонке."
   ]
  },
  {
   "cell_type": "code",
   "execution_count": 4,
   "metadata": {
    "pycharm": {
     "name": "#%%\n"
    }
   },
   "outputs": [
    {
     "name": "stdout",
     "output_type": "stream",
     "text": [
      "children               0\n",
      "days_employed       2174\n",
      "dob_years              0\n",
      "education              0\n",
      "education_id           0\n",
      "family_status          0\n",
      "family_status_id       0\n",
      "gender                 0\n",
      "income_type            0\n",
      "debt                   0\n",
      "total_income        2174\n",
      "purpose                0\n",
      "dtype: int64\n"
     ]
    }
   ],
   "source": [
    "print(df.isna().sum())"
   ]
  },
  {
   "cell_type": "markdown",
   "metadata": {
    "pycharm": {
     "name": "#%% md\n"
    }
   },
   "source": [
    "Равное количество пропусков в переменных `days_employed` и `total_income` наводит на мысль о том, что пропуски неслучайны. Взглянем на строки, в которых есть пропуски."
   ]
  },
  {
   "cell_type": "code",
   "execution_count": 5,
   "metadata": {
    "pycharm": {
     "name": "#%%\n"
    }
   },
   "outputs": [
    {
     "data": {
      "text/html": [
       "<div>\n",
       "<style scoped>\n",
       "    .dataframe tbody tr th:only-of-type {\n",
       "        vertical-align: middle;\n",
       "    }\n",
       "\n",
       "    .dataframe tbody tr th {\n",
       "        vertical-align: top;\n",
       "    }\n",
       "\n",
       "    .dataframe thead th {\n",
       "        text-align: right;\n",
       "    }\n",
       "</style>\n",
       "<table border=\"1\" class=\"dataframe\">\n",
       "  <thead>\n",
       "    <tr style=\"text-align: right;\">\n",
       "      <th></th>\n",
       "      <th>children</th>\n",
       "      <th>days_employed</th>\n",
       "      <th>dob_years</th>\n",
       "      <th>education</th>\n",
       "      <th>education_id</th>\n",
       "      <th>family_status</th>\n",
       "      <th>family_status_id</th>\n",
       "      <th>gender</th>\n",
       "      <th>income_type</th>\n",
       "      <th>debt</th>\n",
       "      <th>total_income</th>\n",
       "      <th>purpose</th>\n",
       "    </tr>\n",
       "  </thead>\n",
       "  <tbody>\n",
       "    <tr>\n",
       "      <td>12</td>\n",
       "      <td>0</td>\n",
       "      <td>NaN</td>\n",
       "      <td>65</td>\n",
       "      <td>среднее</td>\n",
       "      <td>1</td>\n",
       "      <td>гражданский брак</td>\n",
       "      <td>1</td>\n",
       "      <td>M</td>\n",
       "      <td>пенсионер</td>\n",
       "      <td>0</td>\n",
       "      <td>NaN</td>\n",
       "      <td>сыграть свадьбу</td>\n",
       "    </tr>\n",
       "    <tr>\n",
       "      <td>26</td>\n",
       "      <td>0</td>\n",
       "      <td>NaN</td>\n",
       "      <td>41</td>\n",
       "      <td>среднее</td>\n",
       "      <td>1</td>\n",
       "      <td>женат / замужем</td>\n",
       "      <td>0</td>\n",
       "      <td>M</td>\n",
       "      <td>госслужащий</td>\n",
       "      <td>0</td>\n",
       "      <td>NaN</td>\n",
       "      <td>образование</td>\n",
       "    </tr>\n",
       "    <tr>\n",
       "      <td>29</td>\n",
       "      <td>0</td>\n",
       "      <td>NaN</td>\n",
       "      <td>63</td>\n",
       "      <td>среднее</td>\n",
       "      <td>1</td>\n",
       "      <td>Не женат / не замужем</td>\n",
       "      <td>4</td>\n",
       "      <td>F</td>\n",
       "      <td>пенсионер</td>\n",
       "      <td>0</td>\n",
       "      <td>NaN</td>\n",
       "      <td>строительство жилой недвижимости</td>\n",
       "    </tr>\n",
       "    <tr>\n",
       "      <td>41</td>\n",
       "      <td>0</td>\n",
       "      <td>NaN</td>\n",
       "      <td>50</td>\n",
       "      <td>среднее</td>\n",
       "      <td>1</td>\n",
       "      <td>женат / замужем</td>\n",
       "      <td>0</td>\n",
       "      <td>F</td>\n",
       "      <td>госслужащий</td>\n",
       "      <td>0</td>\n",
       "      <td>NaN</td>\n",
       "      <td>сделка с подержанным автомобилем</td>\n",
       "    </tr>\n",
       "    <tr>\n",
       "      <td>55</td>\n",
       "      <td>0</td>\n",
       "      <td>NaN</td>\n",
       "      <td>54</td>\n",
       "      <td>среднее</td>\n",
       "      <td>1</td>\n",
       "      <td>гражданский брак</td>\n",
       "      <td>1</td>\n",
       "      <td>F</td>\n",
       "      <td>пенсионер</td>\n",
       "      <td>1</td>\n",
       "      <td>NaN</td>\n",
       "      <td>сыграть свадьбу</td>\n",
       "    </tr>\n",
       "    <tr>\n",
       "      <td>...</td>\n",
       "      <td>...</td>\n",
       "      <td>...</td>\n",
       "      <td>...</td>\n",
       "      <td>...</td>\n",
       "      <td>...</td>\n",
       "      <td>...</td>\n",
       "      <td>...</td>\n",
       "      <td>...</td>\n",
       "      <td>...</td>\n",
       "      <td>...</td>\n",
       "      <td>...</td>\n",
       "      <td>...</td>\n",
       "    </tr>\n",
       "    <tr>\n",
       "      <td>21489</td>\n",
       "      <td>2</td>\n",
       "      <td>NaN</td>\n",
       "      <td>47</td>\n",
       "      <td>Среднее</td>\n",
       "      <td>1</td>\n",
       "      <td>женат / замужем</td>\n",
       "      <td>0</td>\n",
       "      <td>M</td>\n",
       "      <td>компаньон</td>\n",
       "      <td>0</td>\n",
       "      <td>NaN</td>\n",
       "      <td>сделка с автомобилем</td>\n",
       "    </tr>\n",
       "    <tr>\n",
       "      <td>21495</td>\n",
       "      <td>1</td>\n",
       "      <td>NaN</td>\n",
       "      <td>50</td>\n",
       "      <td>среднее</td>\n",
       "      <td>1</td>\n",
       "      <td>гражданский брак</td>\n",
       "      <td>1</td>\n",
       "      <td>F</td>\n",
       "      <td>сотрудник</td>\n",
       "      <td>0</td>\n",
       "      <td>NaN</td>\n",
       "      <td>свадьба</td>\n",
       "    </tr>\n",
       "    <tr>\n",
       "      <td>21497</td>\n",
       "      <td>0</td>\n",
       "      <td>NaN</td>\n",
       "      <td>48</td>\n",
       "      <td>ВЫСШЕЕ</td>\n",
       "      <td>0</td>\n",
       "      <td>женат / замужем</td>\n",
       "      <td>0</td>\n",
       "      <td>F</td>\n",
       "      <td>компаньон</td>\n",
       "      <td>0</td>\n",
       "      <td>NaN</td>\n",
       "      <td>строительство недвижимости</td>\n",
       "    </tr>\n",
       "    <tr>\n",
       "      <td>21502</td>\n",
       "      <td>1</td>\n",
       "      <td>NaN</td>\n",
       "      <td>42</td>\n",
       "      <td>среднее</td>\n",
       "      <td>1</td>\n",
       "      <td>женат / замужем</td>\n",
       "      <td>0</td>\n",
       "      <td>F</td>\n",
       "      <td>сотрудник</td>\n",
       "      <td>0</td>\n",
       "      <td>NaN</td>\n",
       "      <td>строительство жилой недвижимости</td>\n",
       "    </tr>\n",
       "    <tr>\n",
       "      <td>21510</td>\n",
       "      <td>2</td>\n",
       "      <td>NaN</td>\n",
       "      <td>28</td>\n",
       "      <td>среднее</td>\n",
       "      <td>1</td>\n",
       "      <td>женат / замужем</td>\n",
       "      <td>0</td>\n",
       "      <td>F</td>\n",
       "      <td>сотрудник</td>\n",
       "      <td>0</td>\n",
       "      <td>NaN</td>\n",
       "      <td>приобретение автомобиля</td>\n",
       "    </tr>\n",
       "  </tbody>\n",
       "</table>\n",
       "<p>2174 rows × 12 columns</p>\n",
       "</div>"
      ],
      "text/plain": [
       "       children  days_employed  dob_years education  education_id  \\\n",
       "12            0            NaN         65   среднее             1   \n",
       "26            0            NaN         41   среднее             1   \n",
       "29            0            NaN         63   среднее             1   \n",
       "41            0            NaN         50   среднее             1   \n",
       "55            0            NaN         54   среднее             1   \n",
       "...         ...            ...        ...       ...           ...   \n",
       "21489         2            NaN         47   Среднее             1   \n",
       "21495         1            NaN         50   среднее             1   \n",
       "21497         0            NaN         48    ВЫСШЕЕ             0   \n",
       "21502         1            NaN         42   среднее             1   \n",
       "21510         2            NaN         28   среднее             1   \n",
       "\n",
       "               family_status  family_status_id gender  income_type  debt  \\\n",
       "12          гражданский брак                 1      M    пенсионер     0   \n",
       "26           женат / замужем                 0      M  госслужащий     0   \n",
       "29     Не женат / не замужем                 4      F    пенсионер     0   \n",
       "41           женат / замужем                 0      F  госслужащий     0   \n",
       "55          гражданский брак                 1      F    пенсионер     1   \n",
       "...                      ...               ...    ...          ...   ...   \n",
       "21489        женат / замужем                 0      M    компаньон     0   \n",
       "21495       гражданский брак                 1      F    сотрудник     0   \n",
       "21497        женат / замужем                 0      F    компаньон     0   \n",
       "21502        женат / замужем                 0      F    сотрудник     0   \n",
       "21510        женат / замужем                 0      F    сотрудник     0   \n",
       "\n",
       "       total_income                           purpose  \n",
       "12              NaN                   сыграть свадьбу  \n",
       "26              NaN                       образование  \n",
       "29              NaN  строительство жилой недвижимости  \n",
       "41              NaN  сделка с подержанным автомобилем  \n",
       "55              NaN                   сыграть свадьбу  \n",
       "...             ...                               ...  \n",
       "21489           NaN              сделка с автомобилем  \n",
       "21495           NaN                           свадьба  \n",
       "21497           NaN        строительство недвижимости  \n",
       "21502           NaN  строительство жилой недвижимости  \n",
       "21510           NaN           приобретение автомобиля  \n",
       "\n",
       "[2174 rows x 12 columns]"
      ]
     },
     "metadata": {},
     "output_type": "display_data"
    }
   ],
   "source": [
    "display(df[df['days_employed'].isna()])"
   ]
  },
  {
   "cell_type": "markdown",
   "metadata": {
    "pycharm": {
     "name": "#%% md\n"
    }
   },
   "source": [
    "Дополнительно проверим, во всех ли строках с пропуском стажа пропущена информация о доходе."
   ]
  },
  {
   "cell_type": "code",
   "execution_count": 6,
   "metadata": {
    "pycharm": {
     "name": "#%%\n"
    }
   },
   "outputs": [
    {
     "name": "stdout",
     "output_type": "stream",
     "text": [
      "[nan]\n"
     ]
    }
   ],
   "source": [
    "print(df[df['days_employed'].isna()]['total_income'].unique())"
   ]
  },
  {
   "cell_type": "markdown",
   "metadata": {
    "pycharm": {
     "name": "#%% md\n"
    }
   },
   "source": [
    "Пропуски неслучайны - NaN в стаже соответствует NaN в ежемесячном доходе, во всех случаях без исключения. \n",
    "\n",
    "Заполним пропуски - для каждой строки знаем тип дохода и можем использовать эту информацию для поиска подходящего значения.\n",
    "Заполнить значение дохода можем сразу, тогда как для заполнения трудового стажа необходимо будет в первую очередь выполнить предобработку этого столбца."
   ]
  },
  {
   "cell_type": "code",
   "execution_count": 7,
   "metadata": {
    "scrolled": false,
    "pycharm": {
     "name": "#%%\n"
    }
   },
   "outputs": [
    {
     "name": "stdout",
     "output_type": "stream",
     "text": [
      "                        median           mean  mean - median\n",
      "income_type                                                 \n",
      "безработный      131339.751676  131339.751676       0.000000\n",
      "в декрете         53829.130729   53829.130729       0.000000\n",
      "госслужащий      150447.935283  170898.309923   20450.374640\n",
      "компаньон        172357.950966  202417.461462   30059.510496\n",
      "пенсионер        118514.486412  137127.465690   18612.979279\n",
      "предприниматель  499163.144947  499163.144947       0.000000\n",
      "сотрудник        142594.396847  161380.260488   18785.863640\n",
      "студент           98201.625314   98201.625314       0.000000\n"
     ]
    }
   ],
   "source": [
    "median_income_by_income_type = df.sort_values('total_income').groupby('income_type')['total_income'].median().rename('median')\n",
    "mean_income_by_income_type = df.groupby('income_type')['total_income'].mean().rename('mean')\n",
    "income_by_type_diff = (mean_income_by_income_type - median_income_by_income_type).rename('mean - median')\n",
    "\n",
    "print(pd.concat([median_income_by_income_type, mean_income_by_income_type, income_by_type_diff], axis=1))"
   ]
  },
  {
   "cell_type": "markdown",
   "metadata": {
    "pycharm": {
     "name": "#%% md\n"
    }
   },
   "source": [
    "Видим, что среднее значение дохода выше среди госслужащих, компаньонов, пенсионеров и сотрудников. Показатель среднего чувствительнее к выбросам - более логичным выбором для заполнения кажется медианное значение, воспользуемся им."
   ]
  },
  {
   "cell_type": "code",
   "execution_count": 8,
   "metadata": {
    "pycharm": {
     "name": "#%%\n"
    }
   },
   "outputs": [],
   "source": [
    "for value in df['income_type'].unique():\n",
    "    df.loc[df.loc[:,'income_type'] == value, 'total_income'] = df.loc[df.loc[:,'income_type'] == value, 'total_income'].fillna(median_income_by_income_type[value])"
   ]
  },
  {
   "cell_type": "markdown",
   "metadata": {
    "pycharm": {
     "name": "#%% md\n"
    }
   },
   "source": [
    "Проверим результат заполнения - убедимся, что пропущенных значений в столбце `total_income` не осталось, а также в том, что медианное значение не изменилось."
   ]
  },
  {
   "cell_type": "code",
   "execution_count": 9,
   "metadata": {
    "pycharm": {
     "name": "#%%\n"
    }
   },
   "outputs": [
    {
     "name": "stdout",
     "output_type": "stream",
     "text": [
      "В столбце `total_income` 0 нулевых значений\n",
      "\n",
      "                 original_median     new_median  difference\n",
      "income_type                                                \n",
      "безработный        131339.751676  131339.751676         0.0\n",
      "в декрете           53829.130729   53829.130729         0.0\n",
      "госслужащий        150447.935283  150447.935283         0.0\n",
      "компаньон          172357.950966  172357.950966         0.0\n",
      "пенсионер          118514.486412  118514.486412         0.0\n",
      "предприниматель    499163.144947  499163.144947         0.0\n",
      "сотрудник          142594.396847  142594.396847         0.0\n",
      "студент             98201.625314   98201.625314         0.0\n"
     ]
    }
   ],
   "source": [
    "median_income_by_filled_income_type = df.sort_values('total_income').groupby('income_type')['total_income'].median().rename('new_median')\n",
    "\n",
    "print(f\"В столбце `total_income` {df['total_income'].isna().sum()} нулевых значений\")\n",
    "print()\n",
    "print(pd.concat([median_income_by_income_type.rename('original_median'), median_income_by_filled_income_type, (median_income_by_income_type - median_income_by_filled_income_type).rename('difference')], axis=1))"
   ]
  },
  {
   "cell_type": "markdown",
   "metadata": {
    "pycharm": {
     "name": "#%% md\n"
    }
   },
   "source": [
    "Заполнение пропусков в столбце `income_type` выполнено успешно. После обработки значений стажа работы воспользуемся тем же методом для заполнения пропусков в нём.\n",
    "\n",
    "**Вывод**\n",
    "\n",
    "В предоставленных данных обнаружены пропущенные значения в столбцах `days_employed` (трудовой стаж в днях) и `total_income` (ежемесячный доход).\n",
    "В реальной ситуации было бы логично обратиться к источнику данных и уточнить, по возможности, причину пропусков. В учебном проекте заполним значения медианой, как более устойчивым к выбросам показателем. Предобработка столбца `total_income` выполнена, тем же методом воспользуемся для обработки трудового стажа после избавления от отрицательных и слишком больших значений.\n",
    "\n",
    "Пока продолжим предварительную обработку данных и наведём порядок в типах данных."
   ]
  },
  {
   "cell_type": "markdown",
   "metadata": {
    "pycharm": {
     "name": "#%% md\n"
    }
   },
   "source": [
    "### Замена типа данных\n",
    "\n",
    "После избавления от значений NaN в столбцах `days_employed` (трудовой стаж в днях) и `total_income` (ежемесячный доход) можно изменить тип данных в этих столбцах - больше нет необходимости хранить \"вещественный\" NaN, а избыточная точность в числе знаков после запятой только затрудняет анализ.\n",
    "\n",
    "Чтобы выбрать подходящий тип данных для каждого из столбцов, проверим, как распределены в них значения."
   ]
  },
  {
   "cell_type": "code",
   "execution_count": 10,
   "metadata": {
    "pycharm": {
     "name": "#%%\n"
    }
   },
   "outputs": [
    {
     "name": "stdout",
     "output_type": "stream",
     "text": [
      "Минимальное значение трудового стажа: -18388.949900568383 дней\n",
      "Максимальное значение трудового стажа: 401755.40047533 дней\n",
      "Минимальное значение ежемесячного дохода: 20667.26379327158 рублей\n",
      "Максимальное значение ежемесячного дохода: 2265604.028722744 рублей\n"
     ]
    }
   ],
   "source": [
    "print(f\"Минимальное значение трудового стажа: {df['days_employed'].min()} дней\")\n",
    "print(f\"Максимальное значение трудового стажа: {df['days_employed'].max()} дней\")\n",
    "\n",
    "print(f\"Минимальное значение ежемесячного дохода: {df['total_income'].min()} рублей\")\n",
    "print(f\"Максимальное значение ежемесячного дохода: {df['total_income'].max()} рублей\")"
   ]
  },
  {
   "cell_type": "markdown",
   "metadata": {
    "pycharm": {
     "name": "#%% md\n"
    }
   },
   "source": [
    "Проверка максимальных и минимальных значений напомнила о том, что необходимо навести порядок с трудовым стажем - отрицательным он быть не может, равно как не может превышать разумную продолжительность жизни. Прежде чем заменить отрицательные значения в столбце проверим, сколько их."
   ]
  },
  {
   "cell_type": "code",
   "execution_count": 11,
   "metadata": {
    "pycharm": {
     "name": "#%%\n"
    }
   },
   "outputs": [
    {
     "name": "stdout",
     "output_type": "stream",
     "text": [
      "В таблице 15906 отрицательных значений трудового стажа.\n"
     ]
    }
   ],
   "source": [
    "print(f\"В таблице {df[df['days_employed'] < 0]['days_employed'].count()} отрицательных значений трудового стажа.\")"
   ]
  },
  {
   "cell_type": "markdown",
   "metadata": {
    "pycharm": {
     "name": "#%% md\n"
    }
   },
   "source": [
    "Отрицательных значений стажа в днях много - при этом, им соответствуют ненулевые значения дохода.\n",
    "Установить природу ошибки затруднительно. Учитывая количество строк с отрицательными значениями стажа - разумно предположить ошибку при выгрузке данных. Проверим дополнительно минимальное положительное и максимальное отрицательное значение стажа."
   ]
  },
  {
   "cell_type": "code",
   "execution_count": 12,
   "metadata": {
    "pycharm": {
     "name": "#%%\n"
    }
   },
   "outputs": [
    {
     "name": "stdout",
     "output_type": "stream",
     "text": [
      "328728.72060451825\n",
      "-24.14163324048118\n"
     ]
    }
   ],
   "source": [
    "print(df[df['days_employed']>0]['days_employed'].min())\n",
    "print(df[df['days_employed']<0]['days_employed'].max())"
   ]
  },
  {
   "cell_type": "markdown",
   "metadata": {
    "pycharm": {
     "name": "#%% md\n"
    }
   },
   "source": [
    "Проверка показала, что в переменной `days_employed` положительные значения превышают продолжительность жизни человека, тогда как отрицательные не выходят за эту границу и для них достаточно заменить знак.\n",
    "\n",
    "Можем внести необходимые коррективы: избавиться от отрицательных значений, привести значения к заявленному виду (дням), дозаполнить пропуски, обнаруженные на предыдущем этапе, и изменить тип данных в переменных на целые числа."
   ]
  },
  {
   "cell_type": "code",
   "execution_count": 13,
   "metadata": {
    "pycharm": {
     "name": "#%%\n"
    }
   },
   "outputs": [],
   "source": [
    "# создадим функцию, которая приведёт значение в колонке к положительному количеству дней\n",
    "# тут пришлось немного модифицировать функцию, потому что к этому моменту мы ещё не избавились \n",
    "# от пропусков в переменной `days_employed`.\n",
    "def normalize_data(value):\n",
    "    try:\n",
    "        if value < 0:\n",
    "            return value / (-1)\n",
    "        return value / 24\n",
    "    except:\n",
    "        return value\n",
    "\n",
    "df['days_employed'] = df['days_employed'].apply(normalize_data) # применим функцию ко всем значениям колонки `days_employed`"
   ]
  },
  {
   "cell_type": "code",
   "execution_count": 14,
   "metadata": {
    "pycharm": {
     "name": "#%%\n"
    }
   },
   "outputs": [
    {
     "name": "stdout",
     "output_type": "stream",
     "text": [
      "В столбце `days_employed` 0 нулевых значений\n"
     ]
    }
   ],
   "source": [
    "# заполним пропуски в столбце `days_employed` медианой для каждой подгруппы по типу дохода\n",
    "median_experience_by_income_type = df.sort_values('days_employed').groupby('income_type')['days_employed'].median()\n",
    "\n",
    "for value in df['income_type'].unique():\n",
    "    df.loc[df.loc[:,'income_type'] == value, 'days_employed'] = df.loc[df.loc[:,'income_type'] == value, 'days_employed'].fillna(median_experience_by_income_type[value])\n",
    "    \n",
    "# проверим, сработало ли заполнение - аналогично истории с доходом\n",
    "print(f\"В столбце `days_employed` {df['days_employed'].isna().sum()} нулевых значений\")"
   ]
  },
  {
   "cell_type": "code",
   "execution_count": 15,
   "metadata": {
    "pycharm": {
     "name": "#%%\n"
    }
   },
   "outputs": [
    {
     "name": "stdout",
     "output_type": "stream",
     "text": [
      "<class 'pandas.core.frame.DataFrame'>\n",
      "RangeIndex: 21525 entries, 0 to 21524\n",
      "Data columns (total 12 columns):\n",
      "children            21525 non-null int64\n",
      "days_employed       21525 non-null int64\n",
      "dob_years           21525 non-null int64\n",
      "education           21525 non-null object\n",
      "education_id        21525 non-null int64\n",
      "family_status       21525 non-null object\n",
      "family_status_id    21525 non-null int64\n",
      "gender              21525 non-null object\n",
      "income_type         21525 non-null object\n",
      "debt                21525 non-null int64\n",
      "total_income        21525 non-null int64\n",
      "purpose             21525 non-null object\n",
      "dtypes: int64(7), object(5)\n",
      "memory usage: 2.0+ MB\n"
     ]
    },
    {
     "data": {
      "text/html": [
       "<div>\n",
       "<style scoped>\n",
       "    .dataframe tbody tr th:only-of-type {\n",
       "        vertical-align: middle;\n",
       "    }\n",
       "\n",
       "    .dataframe tbody tr th {\n",
       "        vertical-align: top;\n",
       "    }\n",
       "\n",
       "    .dataframe thead th {\n",
       "        text-align: right;\n",
       "    }\n",
       "</style>\n",
       "<table border=\"1\" class=\"dataframe\">\n",
       "  <thead>\n",
       "    <tr style=\"text-align: right;\">\n",
       "      <th></th>\n",
       "      <th>children</th>\n",
       "      <th>days_employed</th>\n",
       "      <th>dob_years</th>\n",
       "      <th>education</th>\n",
       "      <th>education_id</th>\n",
       "      <th>family_status</th>\n",
       "      <th>family_status_id</th>\n",
       "      <th>gender</th>\n",
       "      <th>income_type</th>\n",
       "      <th>debt</th>\n",
       "      <th>total_income</th>\n",
       "      <th>purpose</th>\n",
       "    </tr>\n",
       "  </thead>\n",
       "  <tbody>\n",
       "    <tr>\n",
       "      <td>0</td>\n",
       "      <td>1</td>\n",
       "      <td>8437</td>\n",
       "      <td>42</td>\n",
       "      <td>высшее</td>\n",
       "      <td>0</td>\n",
       "      <td>женат / замужем</td>\n",
       "      <td>0</td>\n",
       "      <td>F</td>\n",
       "      <td>сотрудник</td>\n",
       "      <td>0</td>\n",
       "      <td>253875</td>\n",
       "      <td>покупка жилья</td>\n",
       "    </tr>\n",
       "    <tr>\n",
       "      <td>1</td>\n",
       "      <td>1</td>\n",
       "      <td>4024</td>\n",
       "      <td>36</td>\n",
       "      <td>среднее</td>\n",
       "      <td>1</td>\n",
       "      <td>женат / замужем</td>\n",
       "      <td>0</td>\n",
       "      <td>F</td>\n",
       "      <td>сотрудник</td>\n",
       "      <td>0</td>\n",
       "      <td>112080</td>\n",
       "      <td>приобретение автомобиля</td>\n",
       "    </tr>\n",
       "    <tr>\n",
       "      <td>2</td>\n",
       "      <td>0</td>\n",
       "      <td>5623</td>\n",
       "      <td>33</td>\n",
       "      <td>Среднее</td>\n",
       "      <td>1</td>\n",
       "      <td>женат / замужем</td>\n",
       "      <td>0</td>\n",
       "      <td>M</td>\n",
       "      <td>сотрудник</td>\n",
       "      <td>0</td>\n",
       "      <td>145885</td>\n",
       "      <td>покупка жилья</td>\n",
       "    </tr>\n",
       "    <tr>\n",
       "      <td>3</td>\n",
       "      <td>3</td>\n",
       "      <td>4124</td>\n",
       "      <td>32</td>\n",
       "      <td>среднее</td>\n",
       "      <td>1</td>\n",
       "      <td>женат / замужем</td>\n",
       "      <td>0</td>\n",
       "      <td>M</td>\n",
       "      <td>сотрудник</td>\n",
       "      <td>0</td>\n",
       "      <td>267628</td>\n",
       "      <td>дополнительное образование</td>\n",
       "    </tr>\n",
       "    <tr>\n",
       "      <td>4</td>\n",
       "      <td>0</td>\n",
       "      <td>14177</td>\n",
       "      <td>53</td>\n",
       "      <td>среднее</td>\n",
       "      <td>1</td>\n",
       "      <td>гражданский брак</td>\n",
       "      <td>1</td>\n",
       "      <td>F</td>\n",
       "      <td>пенсионер</td>\n",
       "      <td>0</td>\n",
       "      <td>158616</td>\n",
       "      <td>сыграть свадьбу</td>\n",
       "    </tr>\n",
       "  </tbody>\n",
       "</table>\n",
       "</div>"
      ],
      "text/plain": [
       "   children  days_employed  dob_years education  education_id  \\\n",
       "0         1           8437         42    высшее             0   \n",
       "1         1           4024         36   среднее             1   \n",
       "2         0           5623         33   Среднее             1   \n",
       "3         3           4124         32   среднее             1   \n",
       "4         0          14177         53   среднее             1   \n",
       "\n",
       "      family_status  family_status_id gender income_type  debt  total_income  \\\n",
       "0   женат / замужем                 0      F   сотрудник     0        253875   \n",
       "1   женат / замужем                 0      F   сотрудник     0        112080   \n",
       "2   женат / замужем                 0      M   сотрудник     0        145885   \n",
       "3   женат / замужем                 0      M   сотрудник     0        267628   \n",
       "4  гражданский брак                 1      F   пенсионер     0        158616   \n",
       "\n",
       "                      purpose  \n",
       "0               покупка жилья  \n",
       "1     приобретение автомобиля  \n",
       "2               покупка жилья  \n",
       "3  дополнительное образование  \n",
       "4             сыграть свадьбу  "
      ]
     },
     "metadata": {},
     "output_type": "display_data"
    }
   ],
   "source": [
    "# преобразуем значения в столбцах `days_employed` и `total_income` в целые числа методом astype, дающим возможность указать\n",
    "# конкретный тип переменной на выходе\n",
    "df[['days_employed', 'total_income']] = df[['days_employed', 'total_income']].astype('int')\n",
    "\n",
    "# проверим, сработало ли наше решение - снова обратимся к информации о df и посмотрим на первые строки таблицы\n",
    "df.info()\n",
    "display(df.head())"
   ]
  },
  {
   "cell_type": "markdown",
   "metadata": {
    "pycharm": {
     "name": "#%% md\n"
    }
   },
   "source": [
    "**Вывод**\n",
    "\n",
    "Обнаружили две переменные, в которых данные были представленны в виде вещественных чисел: `days_employed` и `total_income`. `days_employed` потребовал дополнительной обработки - необходимо было дозаполнить оставшиеся на прошлом этапе.\n",
    "Преобразовали значения в целые числа методом `astype()`, дающим возможность указать необходимый конкретный тип значения на выходе.\n",
    "Дополнительно обработали значения в переменной `days_employed` - избавились от отрицательных значений и привели к заявленному содержанию - дням вместо часов.\n",
    "\n",
    "Можем приступить к обработке дубликатов."
   ]
  },
  {
   "cell_type": "markdown",
   "metadata": {
    "pycharm": {
     "name": "#%% md\n"
    }
   },
   "source": []
  },
  {
   "cell_type": "code",
   "execution_count": 16,
   "metadata": {
    "pycharm": {
     "name": "#%%\n"
    }
   },
   "outputs": [
    {
     "name": "stdout",
     "output_type": "stream",
     "text": [
      "education_id\n",
      "0                 [высшее]\n",
      "1                [среднее]\n",
      "2    [неоконченное высшее]\n",
      "3              [начальное]\n",
      "4         [ученая степень]\n",
      "Name: education, dtype: object\n"
     ]
    }
   ],
   "source": [
    "df['education'] = df['education'].str.lower()\n",
    "\n",
    "print(df.groupby('education_id')['education'].unique())"
   ]
  },
  {
   "cell_type": "markdown",
   "metadata": {
    "pycharm": {
     "name": "#%% md\n"
    }
   },
   "source": [
    "После обработки каждому значению `education_id` соответствует ровно одно значение `education`. Можно перейти к остальным столбцам."
   ]
  },
  {
   "cell_type": "code",
   "execution_count": 17,
   "metadata": {
    "pycharm": {
     "name": "#%%\n"
    }
   },
   "outputs": [
    {
     "name": "stdout",
     "output_type": "stream",
     "text": [
      "Уникальные значения в столбце family_status: ['женат / замужем' 'гражданский брак' 'вдовец / вдова' 'в разводе'\n",
      " 'Не женат / не замужем']\n",
      "\n",
      "Уникальные значения в столбце income_type: ['сотрудник' 'пенсионер' 'компаньон' 'госслужащий' 'безработный'\n",
      " 'предприниматель' 'студент' 'в декрете']\n",
      "\n",
      "Уникальные значения в столбце gender: ['F' 'M' 'XNA']\n",
      "\n"
     ]
    }
   ],
   "source": [
    "for column in ['family_status', 'income_type', 'gender']:\n",
    "    print(f\"Уникальные значения в столбце {column}: {df[column].unique()}\\n\")"
   ]
  },
  {
   "cell_type": "markdown",
   "metadata": {
    "pycharm": {
     "name": "#%% md\n"
    }
   },
   "source": [
    "В столбцах `family_status` и `income_type` скрытых дубликатов не обнаружено. В столбце `gender` присутствует значение **XNA** - проверим, сколько таких строк и чем они отличаются от остальных."
   ]
  },
  {
   "cell_type": "code",
   "execution_count": 18,
   "metadata": {
    "pycharm": {
     "name": "#%%\n"
    }
   },
   "outputs": [
    {
     "data": {
      "text/html": [
       "<div>\n",
       "<style scoped>\n",
       "    .dataframe tbody tr th:only-of-type {\n",
       "        vertical-align: middle;\n",
       "    }\n",
       "\n",
       "    .dataframe tbody tr th {\n",
       "        vertical-align: top;\n",
       "    }\n",
       "\n",
       "    .dataframe thead th {\n",
       "        text-align: right;\n",
       "    }\n",
       "</style>\n",
       "<table border=\"1\" class=\"dataframe\">\n",
       "  <thead>\n",
       "    <tr style=\"text-align: right;\">\n",
       "      <th></th>\n",
       "      <th>children</th>\n",
       "      <th>days_employed</th>\n",
       "      <th>dob_years</th>\n",
       "      <th>education</th>\n",
       "      <th>education_id</th>\n",
       "      <th>family_status</th>\n",
       "      <th>family_status_id</th>\n",
       "      <th>gender</th>\n",
       "      <th>income_type</th>\n",
       "      <th>debt</th>\n",
       "      <th>total_income</th>\n",
       "      <th>purpose</th>\n",
       "    </tr>\n",
       "  </thead>\n",
       "  <tbody>\n",
       "    <tr>\n",
       "      <td>10701</td>\n",
       "      <td>0</td>\n",
       "      <td>2358</td>\n",
       "      <td>24</td>\n",
       "      <td>неоконченное высшее</td>\n",
       "      <td>2</td>\n",
       "      <td>гражданский брак</td>\n",
       "      <td>1</td>\n",
       "      <td>XNA</td>\n",
       "      <td>компаньон</td>\n",
       "      <td>0</td>\n",
       "      <td>203905</td>\n",
       "      <td>покупка недвижимости</td>\n",
       "    </tr>\n",
       "  </tbody>\n",
       "</table>\n",
       "</div>"
      ],
      "text/plain": [
       "       children  days_employed  dob_years            education  education_id  \\\n",
       "10701         0           2358         24  неоконченное высшее             2   \n",
       "\n",
       "          family_status  family_status_id gender income_type  debt  \\\n",
       "10701  гражданский брак                 1    XNA   компаньон     0   \n",
       "\n",
       "       total_income               purpose  \n",
       "10701        203905  покупка недвижимости  "
      ]
     },
     "metadata": {},
     "output_type": "display_data"
    }
   ],
   "source": [
    "display(df[df['gender'] == 'XNA'])"
   ]
  },
  {
   "cell_type": "markdown",
   "metadata": {
    "pycharm": {
     "name": "#%% md\n"
    }
   },
   "source": [
    "Строка, в которой переменная `gender` принимает значение **XNA** в наборе данных одна - её можно исключить из анализа."
   ]
  },
  {
   "cell_type": "code",
   "execution_count": 19,
   "metadata": {
    "scrolled": true,
    "pycharm": {
     "name": "#%%\n"
    }
   },
   "outputs": [
    {
     "name": "stdout",
     "output_type": "stream",
     "text": [
      "<class 'pandas.core.frame.DataFrame'>\n",
      "Int64Index: 21524 entries, 0 to 21524\n",
      "Data columns (total 12 columns):\n",
      "children            21524 non-null int64\n",
      "days_employed       21524 non-null int64\n",
      "dob_years           21524 non-null int64\n",
      "education           21524 non-null object\n",
      "education_id        21524 non-null int64\n",
      "family_status       21524 non-null object\n",
      "family_status_id    21524 non-null int64\n",
      "gender              21524 non-null object\n",
      "income_type         21524 non-null object\n",
      "debt                21524 non-null int64\n",
      "total_income        21524 non-null int64\n",
      "purpose             21524 non-null object\n",
      "dtypes: int64(7), object(5)\n",
      "memory usage: 2.1+ MB\n"
     ]
    }
   ],
   "source": [
    "df = df[df['gender'] != 'XNA']\n",
    "df.info()"
   ]
  },
  {
   "cell_type": "markdown",
   "metadata": {
    "pycharm": {
     "name": "#%% md\n"
    }
   },
   "source": [
    "Выполним также проверку переменных `dob_years` (возраст клиента) и `children`(количество детей)."
   ]
  },
  {
   "cell_type": "code",
   "execution_count": 20,
   "metadata": {
    "scrolled": true,
    "pycharm": {
     "name": "#%%\n"
    }
   },
   "outputs": [
    {
     "name": "stdout",
     "output_type": "stream",
     "text": [
      "Минимальное значение в столбце dob_years: 0\n",
      "Максимальное значение в столбце dob_years: 75\n",
      "\n",
      "Минимальное значение в столбце children: -1\n",
      "Максимальное значение в столбце children: 20\n",
      "\n"
     ]
    }
   ],
   "source": [
    "for column in ['dob_years', 'children']:\n",
    "    print(f\"Минимальное значение в столбце {column}: {df[column].min()}\")\n",
    "    print(f\"Максимальное значение в столбце {column}: {df[column].max()}\\n\")"
   ]
  },
  {
   "cell_type": "markdown",
   "metadata": {
    "pycharm": {
     "name": "#%% md\n"
    }
   },
   "source": [
    "Очевидно, что возраст заёмщика не может быть равным нулю, а количество детей -1 (*хотя я могу подогнать логику под такое значение, но это слишком уж чёрный юмор*). Вызывает вопросы и слишком большое число детей: 20. Проверим, сколько таких значений в файле с данными."
   ]
  },
  {
   "cell_type": "code",
   "execution_count": 21,
   "metadata": {
    "scrolled": true,
    "pycharm": {
     "name": "#%%\n"
    }
   },
   "outputs": [
    {
     "name": "stdout",
     "output_type": "stream",
     "text": [
      "Нулевых значений возраста в таблице: 101\n",
      "\n",
      "Распределение количества детей:\n",
      " 0     14148\n",
      " 1      4818\n",
      " 2      2055\n",
      " 3       330\n",
      " 20       76\n",
      "-1        47\n",
      " 4        41\n",
      " 5         9\n",
      "Name: children, dtype: int64\n"
     ]
    }
   ],
   "source": [
    "print(f\"Нулевых значений возраста в таблице: {df.loc[df.loc[:,'dob_years'] == 0, 'dob_years'].count()}\")\n",
    "print()\n",
    "print('Распределение количества детей:')\n",
    "print(df.loc[:,'children'].value_counts())"
   ]
  },
  {
   "cell_type": "markdown",
   "metadata": {
    "pycharm": {
     "name": "#%% md\n"
    }
   },
   "source": [
    "Предположим, что значения -1 и 20 переменной `children` - ошибки при вводе данных, и перекодируем -1 в 1, а 20 - в 2."
   ]
  },
  {
   "cell_type": "code",
   "execution_count": 22,
   "metadata": {
    "pycharm": {
     "name": "#%%\n"
    }
   },
   "outputs": [
    {
     "name": "stdout",
     "output_type": "stream",
     "text": [
      "0    14148\n",
      "1     4865\n",
      "2     2131\n",
      "3      330\n",
      "4       41\n",
      "5        9\n",
      "Name: children, dtype: int64\n"
     ]
    }
   ],
   "source": [
    "df.loc[:, 'children'] = df.loc[:, 'children'].replace({-1:1, 20:2})\n",
    "print(df.loc[:,'children'].value_counts())"
   ]
  },
  {
   "cell_type": "markdown",
   "metadata": {
    "pycharm": {
     "name": "#%% md\n"
    }
   },
   "source": [
    "Отфильтруем нулевые значения в `dob_years`."
   ]
  },
  {
   "cell_type": "code",
   "execution_count": 23,
   "metadata": {
    "pycharm": {
     "name": "#%%\n"
    }
   },
   "outputs": [],
   "source": [
    "df_processed = df.loc[df.loc[:,'dob_years'] > 0, :]"
   ]
  },
  {
   "cell_type": "markdown",
   "metadata": {
    "pycharm": {
     "name": "#%% md\n"
    }
   },
   "source": [
    "Проверим, удалось ли нам избавиться от неправильных значений в обоих столбцах."
   ]
  },
  {
   "cell_type": "code",
   "execution_count": 24,
   "metadata": {
    "scrolled": true,
    "pycharm": {
     "name": "#%%\n"
    }
   },
   "outputs": [
    {
     "name": "stdout",
     "output_type": "stream",
     "text": [
      "Нулевых значений возраста в таблице: 0\n",
      "Отрицательных значений количества детей в таблице: 0\n"
     ]
    }
   ],
   "source": [
    "print(f\"Нулевых значений возраста в таблице: {df_processed.loc[df_processed.loc[:,'dob_years'] == 0, 'dob_years'].count()}\")\n",
    "print(f\"Отрицательных значений количества детей в таблице: {df_processed.loc[df_processed.loc[:,'children'] < 0, 'children'].count()}\")"
   ]
  },
  {
   "cell_type": "markdown",
   "metadata": {
    "pycharm": {
     "name": "#%% md\n"
    }
   },
   "source": [
    "Наконец, попробуем оценить существование проблем в переменной `purpose`. Подсчитаем количество уникальных значений и оценим, сколько ответов приходится на каждое из них."
   ]
  },
  {
   "cell_type": "code",
   "execution_count": 25,
   "metadata": {
    "scrolled": false,
    "pycharm": {
     "name": "#%%\n"
    }
   },
   "outputs": [
    {
     "name": "stdout",
     "output_type": "stream",
     "text": [
      "Всего уникальных значений в purpose: 38\n",
      "\n",
      "свадьба                                   792\n",
      "на проведение свадьбы                     773\n",
      "сыграть свадьбу                           769\n",
      "операции с недвижимостью                  673\n",
      "покупка коммерческой недвижимости         661\n",
      "покупка жилья для сдачи                   651\n",
      "операции с коммерческой недвижимостью     649\n",
      "операции с жильем                         647\n",
      "жилье                                     641\n",
      "покупка жилья                             641\n",
      "покупка жилья для семьи                   640\n",
      "строительство собственной недвижимости    633\n",
      "операции со своей недвижимостью           630\n",
      "недвижимость                              630\n",
      "строительство жилой недвижимости          623\n",
      "покупка недвижимости                      620\n",
      "строительство недвижимости                620\n",
      "покупка своего жилья                      619\n",
      "ремонт жилью                              610\n",
      "покупка жилой недвижимости                604\n",
      "на покупку своего автомобиля              502\n",
      "заняться высшим образованием              493\n",
      "автомобиль                                491\n",
      "сделка с подержанным автомобилем          487\n",
      "на покупку подержанного автомобиля        479\n",
      "свой автомобиль                           477\n",
      "автомобили                                476\n",
      "на покупку автомобиля                     467\n",
      "дополнительное образование                460\n",
      "приобретение автомобиля                   460\n",
      "сделка с автомобилем                      454\n",
      "высшее образование                        450\n",
      "получение дополнительного образования     445\n",
      "образование                               444\n",
      "получение образования                     442\n",
      "профильное образование                    435\n",
      "получение высшего образования             424\n",
      "заняться образованием                     411\n",
      "Name: purpose, dtype: int64\n"
     ]
    }
   ],
   "source": [
    "print(f\"Всего уникальных значений в purpose: {len(df_processed['purpose'].unique())}\")\n",
    "print('')\n",
    "print(df_processed['purpose'].value_counts())"
   ]
  },
  {
   "cell_type": "markdown",
   "metadata": {
    "pycharm": {
     "name": "#%% md\n"
    }
   },
   "source": [
    "Очевидна необходимость дополнительной обработки значений в столбце `purpose` - для более подробного анализа необходимо провести лемматизацию.\n",
    "\n",
    "**Вывод**\n",
    "\n",
    "В процессе обработки дубликатов обнаружили и исправили расхождение регистров записи в переменной `education`, нашли уникальное значение **XNA** (вероятный пропуск) в переменной `gender` - строку с этим значением отфильтровали. Избавились от некоторого количества строк с нулевым возрастом и отрицательным количеством детей.\n",
    "Подтвердили необходимость проведения лемматизации значений в столбце `purpose` для продолжения анализа и ответов на поставленные вопросы."
   ]
  },
  {
   "cell_type": "markdown",
   "metadata": {
    "pycharm": {
     "name": "#%% md\n"
    }
   },
   "source": [
    "### Лемматизация\n",
    "\n",
    "Проведение лемматизации необходимо для того, чтобы сгруппировать значения в переменной `purpose`. На первый взгляд видны несколько общих позиций:\n",
    "* Получение образования\n",
    "* Покупка автомобиля\n",
    "* Сделки с недвижимостью (коммерческой и жилой - эти две позиции стоит разделять)\n",
    "* Свадьба\n",
    "\n",
    "Ручная обработка для перегруппировки 38 уникальных значений возможна, но при существовании автоматических инструментов неоправданна.\n",
    "Сохраним лемматизированные строки из переменной `purpose` для каждой строки в новую переменную `purpose_list`."
   ]
  },
  {
   "cell_type": "code",
   "execution_count": 26,
   "metadata": {
    "pycharm": {
     "name": "#%%\n"
    }
   },
   "outputs": [
    {
     "name": "stdout",
     "output_type": "stream",
     "text": [
      "0                             [покупка,  , жилье, \\n]\n",
      "1                   [приобретение,  , автомобиль, \\n]\n",
      "2                             [покупка,  , жилье, \\n]\n",
      "3                [дополнительный,  , образование, \\n]\n",
      "4                           [сыграть,  , свадьба, \\n]\n",
      "                             ...                     \n",
      "21520                  [операция,  , с,  , жилье, \\n]\n",
      "21521               [сделка,  , с,  , автомобиль, \\n]\n",
      "21522                              [недвижимость, \\n]\n",
      "21523    [на,  , покупка,  , свой,  , автомобиль, \\n]\n",
      "21524             [на,  , покупка,  , автомобиль, \\n]\n",
      "Name: purpose_list, Length: 21423, dtype: object\n"
     ]
    },
    {
     "name": "stderr",
     "output_type": "stream",
     "text": [
      "/opt/conda/lib/python3.7/site-packages/pandas/core/indexing.py:376: SettingWithCopyWarning: \n",
      "A value is trying to be set on a copy of a slice from a DataFrame.\n",
      "Try using .loc[row_indexer,col_indexer] = value instead\n",
      "\n",
      "See the caveats in the documentation: http://pandas.pydata.org/pandas-docs/stable/user_guide/indexing.html#returning-a-view-versus-a-copy\n",
      "  self.obj[key] = _infer_fill_value(value)\n",
      "/opt/conda/lib/python3.7/site-packages/pandas/core/indexing.py:494: SettingWithCopyWarning: \n",
      "A value is trying to be set on a copy of a slice from a DataFrame.\n",
      "Try using .loc[row_indexer,col_indexer] = value instead\n",
      "\n",
      "See the caveats in the documentation: http://pandas.pydata.org/pandas-docs/stable/user_guide/indexing.html#returning-a-view-versus-a-copy\n",
      "  self.obj[item] = s\n"
     ]
    }
   ],
   "source": [
    "df_processed.loc[:, 'purpose_list'] = df['purpose'].apply(m.lemmatize)\n",
    "print(df_processed['purpose_list'])"
   ]
  },
  {
   "cell_type": "markdown",
   "metadata": {
    "pycharm": {
     "name": "#%% md\n"
    }
   },
   "source": [
    "Необходимо также оценить, сколько значений каждой леммы получилось в наборе данных.\n",
    "Для этого стоит составить список всех лемм, встречающихся в получившихся списках. "
   ]
  },
  {
   "cell_type": "code",
   "execution_count": 27,
   "metadata": {
    "pycharm": {
     "name": "#%%\n"
    }
   },
   "outputs": [
    {
     "name": "stdout",
     "output_type": "stream",
     "text": [
      "Counter({' ': 33541, '\\n': 21423, 'недвижимость': 6343, 'покупка': 5884, 'жилье': 4449, 'автомобиль': 4293, 'образование': 4004, 'с': 2910, 'операция': 2599, 'свадьба': 2334, 'свой': 2228, 'на': 2221, 'строительство': 1876, 'высокий': 1367, 'получение': 1311, 'коммерческий': 1310, 'для': 1291, 'жилой': 1227, 'сделка': 941, 'дополнительный': 905, 'заниматься': 904, 'проведение': 773, 'сыграть': 769, 'сдача': 651, 'семья': 640, 'собственный': 633, 'со': 630, 'ремонт': 610, 'подержанный': 487, 'подержать': 479, 'приобретение': 460, 'профильный': 435})\n"
     ]
    }
   ],
   "source": [
    "# небольшой чит - методу explode() нас ещё не учили, но он удобен - разворачивает список.\n",
    "print(Counter(df_processed['purpose_list'].explode()))"
   ]
  },
  {
   "cell_type": "markdown",
   "metadata": {
    "pycharm": {
     "name": "#%% md\n"
    }
   },
   "source": [
    "Полученный список значений позволяет провести категоризацию данных.\n",
    "\n",
    "**Вывод**\n",
    "\n",
    "Провели лемматизацию значений переменной `purpose`, на выходе для каждой строки получили список с леммами, хранящийся в переменной `purpose_list`. После категоризации данных исходны и новый столбцы можно будет удалить."
   ]
  },
  {
   "cell_type": "markdown",
   "metadata": {
    "pycharm": {
     "name": "#%% md\n"
    }
   },
   "source": [
    "### Категоризация данных\n",
    "\n",
    "Сохранённые в `purpose_list` списки дают нам возможность категоризировать цели кредита. Для этого напишем функцию, которая на вход будет получать список `purpose_list` для каждой строки и на его основе присваивать ту или иную категорию.\n",
    "\n",
    "Определимся с набором категорий:\n",
    "* Образование\n",
    "* Автомобиль\n",
    "* Свадьба\n",
    "* Жилая недвижимость (включая ремонт)\n",
    "* Коммерческая и другая недвижимость\n",
    "\n",
    "Номера категорий определим на отрезке [1:5].\n",
    "\n",
    "Предусмотрим также значение для непредусмотренных случаев - **Other**, такому значению будет соответствовать NaN для облегчения оценки качества категоризации."
   ]
  },
  {
   "cell_type": "code",
   "execution_count": 28,
   "metadata": {
    "scrolled": false,
    "pycharm": {
     "name": "#%%\n"
    }
   },
   "outputs": [
    {
     "name": "stdout",
     "output_type": "stream",
     "text": [
      "жилая недвижимость                    5676\n",
      "коммерческая и другая недвижимость    5116\n",
      "автомобиль                            4293\n",
      "образование                           4004\n",
      "свадьба                               2334\n",
      "Name: purpose_category, dtype: int64\n"
     ]
    }
   ],
   "source": [
    "def categorize(row):\n",
    "    if 'образование' in row['purpose_list']:\n",
    "        return 'образование'\n",
    "    if 'автомобиль' in row['purpose_list']:\n",
    "        return 'автомобиль'\n",
    "    if 'свадьба' in row['purpose_list']:\n",
    "        return 'свадьба'\n",
    "    if 'жилье' in row['purpose_list'] or 'недвижимость' in row['purpose_list']:\n",
    "        if 'жилье' in row['purpose_list'] or 'жилой' in row['purpose_list']:\n",
    "            return 'жилая недвижимость'\n",
    "        return 'коммерческая и другая недвижимость'\n",
    "    return float('nan')\n",
    "    \n",
    "df_processed.loc[:, 'purpose_category'] = df_processed.apply(categorize, axis = 1)\n",
    "print(df_processed['purpose_category'].value_counts())"
   ]
  },
  {
   "cell_type": "markdown",
   "metadata": {
    "pycharm": {
     "name": "#%% md\n"
    }
   },
   "source": [
    "Присвоим получившимся категориям заранее определённые коды (в порядке их определения)."
   ]
  },
  {
   "cell_type": "code",
   "execution_count": 29,
   "metadata": {
    "scrolled": true,
    "pycharm": {
     "name": "#%%\n"
    }
   },
   "outputs": [
    {
     "name": "stdout",
     "output_type": "stream",
     "text": [
      "4    5676\n",
      "5    5116\n",
      "2    4293\n",
      "1    4004\n",
      "3    2334\n",
      "Name: purpose_id, dtype: int64\n"
     ]
    }
   ],
   "source": [
    "def encode(row):\n",
    "    if 'образование' in row['purpose_category']:\n",
    "        return 1\n",
    "    if 'автомобиль' in row['purpose_category']:\n",
    "        return 2\n",
    "    if 'свадьба' in row['purpose_category']:\n",
    "        return 3\n",
    "    if 'жилая недвижимость' in row['purpose_category']:\n",
    "        return 4\n",
    "    if 'коммерческая и другая недвижимость' in row['purpose_category']:\n",
    "        return 5\n",
    "    return float('nan')\n",
    "\n",
    "df_processed.loc[:, 'purpose_id'] = df_processed.apply(encode, axis = 1)\n",
    "df_processed.drop(labels = ['purpose', 'purpose_list'], axis = 1)\n",
    "print(df_processed['purpose_id'].value_counts())"
   ]
  },
  {
   "cell_type": "markdown",
   "metadata": {
    "pycharm": {
     "name": "#%% md\n"
    }
   },
   "source": [
    "Исходя из вопросов, поставленных в исследовании, категоризируем также переменную `children` - в исходном виде в переменной сохранено количество детей, данные можно сгруппировать: 1 ребёнок, 2 или больше детей."
   ]
  },
  {
   "cell_type": "code",
   "execution_count": 30,
   "metadata": {
    "pycharm": {
     "name": "#%%\n"
    }
   },
   "outputs": [
    {
     "name": "stdout",
     "output_type": "stream",
     "text": [
      "no children           14079\n",
      "1-2 children           6966\n",
      "3 or more children      378\n",
      "Name: children_exist, dtype: int64\n"
     ]
    }
   ],
   "source": [
    "def children_presence(row):\n",
    "    if row['children'] == 0:\n",
    "        return 'no children'\n",
    "    elif row['children'] <= 2:\n",
    "        return '1-2 children'\n",
    "    else:\n",
    "        return '3 or more children'\n",
    "\n",
    "df_processed.loc[:, 'children_exist'] = df_processed.apply(children_presence, axis = 1)\n",
    "print(df_processed['children_exist'].value_counts())"
   ]
  },
  {
   "cell_type": "markdown",
   "metadata": {
    "pycharm": {
     "name": "#%% md\n"
    }
   },
   "source": [
    "Также нам необходимо категоризировать значения уровня дохода, чтобы ответить на вопрос о влиянии дохода на возврат кредита в срок. Для начала оценим разброс значений в столбце - проверим минимальное отличное от нуля значение, медиану, среднее и максимум."
   ]
  },
  {
   "cell_type": "code",
   "execution_count": 31,
   "metadata": {
    "pycharm": {
     "name": "#%%\n"
    }
   },
   "outputs": [
    {
     "name": "stdout",
     "output_type": "stream",
     "text": [
      "Минимальное значение ненулевого дохода:  20667\n",
      "Медианное значение ненулевого дохода:  142594.0\n",
      "Среднее значение ненулевого дохода:  165263.42375017505\n",
      "Максимальное значение ненулевого дохода:  2265604\n"
     ]
    }
   ],
   "source": [
    "print('Минимальное значение ненулевого дохода: ', df_processed[df_processed['total_income'] > 0]['total_income'].min())\n",
    "print('Медианное значение ненулевого дохода: ', df_processed[df_processed['total_income'] > 0]['total_income'].sort_values().median())\n",
    "print('Среднее значение ненулевого дохода: ', df_processed[df_processed['total_income'] > 0]['total_income'].mean())\n",
    "print('Максимальное значение ненулевого дохода: ', df_processed[df_processed['total_income'] > 0]['total_income'].max())"
   ]
  },
  {
   "cell_type": "markdown",
   "metadata": {
    "pycharm": {
     "name": "#%% md\n"
    }
   },
   "source": [
    "Среднее значение ненулевого дохода несколько завышено - для среднего значения дохода это довольно стандартная ситуация.\n",
    "\n",
    "Воспользуемся медианой, а также дополнительно посчитаем первый и третий квартиль, чтобы разделить выборку на 4 группы по доходу:\n",
    "* `total_income` < первого квартиля - низкий доход\n",
    "* Первый квартиль <= `total_income` < медианы - ниже среднего\n",
    "* Медианное значение <= `total_income` < третьего квартиля - выше среднего\n",
    "* `total income` > третьего квартиля - высокий доход"
   ]
  },
  {
   "cell_type": "code",
   "execution_count": 32,
   "metadata": {
    "pycharm": {
     "name": "#%%\n"
    }
   },
   "outputs": [
    {
     "data": {
      "text/html": [
       "<div>\n",
       "<style scoped>\n",
       "    .dataframe tbody tr th:only-of-type {\n",
       "        vertical-align: middle;\n",
       "    }\n",
       "\n",
       "    .dataframe tbody tr th {\n",
       "        vertical-align: top;\n",
       "    }\n",
       "\n",
       "    .dataframe thead th {\n",
       "        text-align: right;\n",
       "    }\n",
       "</style>\n",
       "<table border=\"1\" class=\"dataframe\">\n",
       "  <thead>\n",
       "    <tr style=\"text-align: right;\">\n",
       "      <th></th>\n",
       "      <th>total_income</th>\n",
       "      <th>income_category</th>\n",
       "    </tr>\n",
       "  </thead>\n",
       "  <tbody>\n",
       "    <tr>\n",
       "      <td>0</td>\n",
       "      <td>253875</td>\n",
       "      <td>Высокий доход</td>\n",
       "    </tr>\n",
       "    <tr>\n",
       "      <td>1</td>\n",
       "      <td>112080</td>\n",
       "      <td>Ниже среднего</td>\n",
       "    </tr>\n",
       "    <tr>\n",
       "      <td>2</td>\n",
       "      <td>145885</td>\n",
       "      <td>Выше среднего</td>\n",
       "    </tr>\n",
       "    <tr>\n",
       "      <td>3</td>\n",
       "      <td>267628</td>\n",
       "      <td>Высокий доход</td>\n",
       "    </tr>\n",
       "    <tr>\n",
       "      <td>4</td>\n",
       "      <td>158616</td>\n",
       "      <td>Выше среднего</td>\n",
       "    </tr>\n",
       "    <tr>\n",
       "      <td>...</td>\n",
       "      <td>...</td>\n",
       "      <td>...</td>\n",
       "    </tr>\n",
       "    <tr>\n",
       "      <td>21520</td>\n",
       "      <td>224791</td>\n",
       "      <td>Высокий доход</td>\n",
       "    </tr>\n",
       "    <tr>\n",
       "      <td>21521</td>\n",
       "      <td>155999</td>\n",
       "      <td>Выше среднего</td>\n",
       "    </tr>\n",
       "    <tr>\n",
       "      <td>21522</td>\n",
       "      <td>89672</td>\n",
       "      <td>Низкий доход</td>\n",
       "    </tr>\n",
       "    <tr>\n",
       "      <td>21523</td>\n",
       "      <td>244093</td>\n",
       "      <td>Высокий доход</td>\n",
       "    </tr>\n",
       "    <tr>\n",
       "      <td>21524</td>\n",
       "      <td>82047</td>\n",
       "      <td>Низкий доход</td>\n",
       "    </tr>\n",
       "  </tbody>\n",
       "</table>\n",
       "<p>21423 rows × 2 columns</p>\n",
       "</div>"
      ],
      "text/plain": [
       "       total_income income_category\n",
       "0            253875   Высокий доход\n",
       "1            112080   Ниже среднего\n",
       "2            145885   Выше среднего\n",
       "3            267628   Высокий доход\n",
       "4            158616   Выше среднего\n",
       "...             ...             ...\n",
       "21520        224791   Высокий доход\n",
       "21521        155999   Выше среднего\n",
       "21522         89672    Низкий доход\n",
       "21523        244093   Высокий доход\n",
       "21524         82047    Низкий доход\n",
       "\n",
       "[21423 rows x 2 columns]"
      ]
     },
     "metadata": {},
     "output_type": "display_data"
    }
   ],
   "source": [
    "income_median = df_processed.loc[df_processed.loc[:, 'total_income'] > 0 , 'total_income'].sort_values().median()\n",
    "income_first_quartile = df_processed.loc[df_processed.loc[:, 'total_income'] > 0 , 'total_income'].sort_values().quantile(0.25)\n",
    "income_third_quartile = df_processed.loc[df_processed.loc[:, 'total_income'] > 0 , 'total_income'].sort_values().quantile(0.75)\n",
    "\n",
    "def income_cat(row):\n",
    "    if row['total_income'] < income_first_quartile:\n",
    "        return 'Низкий доход'\n",
    "    elif row['total_income'] < income_median:\n",
    "        return 'Ниже среднего'\n",
    "    elif row['total_income'] < income_third_quartile:\n",
    "        return 'Выше среднего'\n",
    "    return 'Высокий доход'\n",
    "\n",
    "df_processed.loc[:,'income_category'] = df_processed.apply(income_cat, axis = 1)\n",
    "display(df_processed.loc[:,('total_income', 'income_category')])"
   ]
  },
  {
   "cell_type": "markdown",
   "metadata": {
    "pycharm": {
     "name": "#%% md\n"
    }
   },
   "source": [
    "**Вывод**\n",
    "\n",
    "Лемматизировали переменную `purpose`, выделили 6 категорий кредитов, сохранив их в `purpose_category`. Каждой категории присвоили номер и сохранили его в `purpose_id`.\n",
    "\n",
    "Категоризировали наличие детей и показатель дохода.\n",
    "\n",
    "Можно приступать к следующему шагу: ответить на вопросы исследования."
   ]
  },
  {
   "cell_type": "markdown",
   "metadata": {
    "pycharm": {
     "name": "#%% md\n"
    }
   },
   "source": [
    "## Шаг 3. Ответы на вопросы"
   ]
  },
  {
   "cell_type": "markdown",
   "metadata": {
    "pycharm": {
     "name": "#%% md\n"
    }
   },
   "source": [
    "- Есть ли зависимость между наличием детей и возвратом кредита в срок?"
   ]
  },
  {
   "cell_type": "code",
   "execution_count": 33,
   "metadata": {
    "scrolled": true,
    "pycharm": {
     "name": "#%%\n"
    }
   },
   "outputs": [
    {
     "data": {
      "text/html": [
       "<div>\n",
       "<style scoped>\n",
       "    .dataframe tbody tr th:only-of-type {\n",
       "        vertical-align: middle;\n",
       "    }\n",
       "\n",
       "    .dataframe tbody tr th {\n",
       "        vertical-align: top;\n",
       "    }\n",
       "\n",
       "    .dataframe thead tr th {\n",
       "        text-align: left;\n",
       "    }\n",
       "\n",
       "    .dataframe thead tr:last-of-type th {\n",
       "        text-align: right;\n",
       "    }\n",
       "</style>\n",
       "<table border=\"1\" class=\"dataframe\">\n",
       "  <thead>\n",
       "    <tr>\n",
       "      <th></th>\n",
       "      <th>count</th>\n",
       "      <th>sum</th>\n",
       "      <th>ratio</th>\n",
       "    </tr>\n",
       "    <tr>\n",
       "      <th></th>\n",
       "      <th>debt</th>\n",
       "      <th>debt</th>\n",
       "      <th></th>\n",
       "    </tr>\n",
       "    <tr>\n",
       "      <th>children_exist</th>\n",
       "      <th></th>\n",
       "      <th></th>\n",
       "      <th></th>\n",
       "    </tr>\n",
       "  </thead>\n",
       "  <tbody>\n",
       "    <tr>\n",
       "      <td>1-2 children</td>\n",
       "      <td>6966</td>\n",
       "      <td>644</td>\n",
       "      <td>9.244904</td>\n",
       "    </tr>\n",
       "    <tr>\n",
       "      <td>3 or more children</td>\n",
       "      <td>378</td>\n",
       "      <td>31</td>\n",
       "      <td>8.201058</td>\n",
       "    </tr>\n",
       "    <tr>\n",
       "      <td>no children</td>\n",
       "      <td>14079</td>\n",
       "      <td>1058</td>\n",
       "      <td>7.514738</td>\n",
       "    </tr>\n",
       "  </tbody>\n",
       "</table>\n",
       "</div>"
      ],
      "text/plain": [
       "                    count   sum     ratio\n",
       "                     debt  debt          \n",
       "children_exist                           \n",
       "1-2 children         6966   644  9.244904\n",
       "3 or more children    378    31  8.201058\n",
       "no children         14079  1058  7.514738"
      ]
     },
     "metadata": {},
     "output_type": "display_data"
    }
   ],
   "source": [
    "children_pivot = df_processed.pivot_table(index = 'children_exist', values = 'debt', aggfunc = ['count', 'sum'])\n",
    "children_pivot['ratio'] = children_pivot['sum'] / children_pivot['count'] * 100\n",
    "display(children_pivot)"
   ]
  },
  {
   "cell_type": "markdown",
   "metadata": {
    "pycharm": {
     "name": "#%% md\n"
    }
   },
   "source": [
    "**Вывод**\n",
    "\n",
    "Среди клиентов с одним-двумя детьми около 9% имеют просроченный кредит - вне зависимости от количества детей, тогда как среди заёмщиков без детей доля просрочек составляет 7.5%. Любопытно, что среди заёмщиков с 3 и более детьми процент просроченных кредитов ниже, чем среди тех, у кого 1-2 ребёнка - хотя размер группы небольшой. Зависимость между наличием детей и возвратом кредита в срок существует *(хорошо бы проверить результат z-тестом, например, но с учётом размера выборки 1.5 п.п. разницы на таком удалении от 50% вероятно будут значимы)*."
   ]
  },
  {
   "cell_type": "markdown",
   "metadata": {
    "pycharm": {
     "name": "#%% md\n"
    }
   },
   "source": [
    "- Есть ли зависимость между семейным положением и возвратом кредита в срок?"
   ]
  },
  {
   "cell_type": "code",
   "execution_count": 34,
   "metadata": {
    "pycharm": {
     "name": "#%%\n"
    }
   },
   "outputs": [
    {
     "data": {
      "text/html": [
       "<div>\n",
       "<style scoped>\n",
       "    .dataframe tbody tr th:only-of-type {\n",
       "        vertical-align: middle;\n",
       "    }\n",
       "\n",
       "    .dataframe tbody tr th {\n",
       "        vertical-align: top;\n",
       "    }\n",
       "\n",
       "    .dataframe thead th {\n",
       "        text-align: right;\n",
       "    }\n",
       "</style>\n",
       "<table border=\"1\" class=\"dataframe\">\n",
       "  <thead>\n",
       "    <tr style=\"text-align: right;\">\n",
       "      <th></th>\n",
       "      <th>debt</th>\n",
       "    </tr>\n",
       "    <tr>\n",
       "      <th>family_status</th>\n",
       "      <th></th>\n",
       "    </tr>\n",
       "  </thead>\n",
       "  <tbody>\n",
       "    <tr>\n",
       "      <td>Не женат / не замужем</td>\n",
       "      <td>9.760458</td>\n",
       "    </tr>\n",
       "    <tr>\n",
       "      <td>в разводе</td>\n",
       "      <td>7.172996</td>\n",
       "    </tr>\n",
       "    <tr>\n",
       "      <td>вдовец / вдова</td>\n",
       "      <td>6.492147</td>\n",
       "    </tr>\n",
       "    <tr>\n",
       "      <td>гражданский брак</td>\n",
       "      <td>9.290012</td>\n",
       "    </tr>\n",
       "    <tr>\n",
       "      <td>женат / замужем</td>\n",
       "      <td>7.517638</td>\n",
       "    </tr>\n",
       "  </tbody>\n",
       "</table>\n",
       "</div>"
      ],
      "text/plain": [
       "                           debt\n",
       "family_status                  \n",
       "Не женат / не замужем  9.760458\n",
       "в разводе              7.172996\n",
       "вдовец / вдова         6.492147\n",
       "гражданский брак       9.290012\n",
       "женат / замужем        7.517638"
      ]
     },
     "metadata": {},
     "output_type": "display_data"
    }
   ],
   "source": [
    "family_status_pivot = df_processed.pivot_table(index = 'family_status', values = 'debt', aggfunc = 'sum') \\\n",
    "                        / df_processed.pivot_table(index = 'family_status', values = 'debt', aggfunc = 'count') * 100\n",
    "display(family_status_pivot)"
   ]
  },
  {
   "cell_type": "markdown",
   "metadata": {
    "pycharm": {
     "name": "#%% md\n"
    }
   },
   "source": [
    "**Вывод**\n",
    "\n",
    "Наиболее высокий процент невозврата кредита в срок наблюдается у клиентов, не состоящих в браке или сожительствующих (*термин \"гражданский брак\" неудачный - он описывает собственно зарегистрированный в органах ЗАГС брак, в противоположность или дополнение церковному*).\n",
    "\n",
    "Среди разведённых и находящихся в браке доля должников по кредитам около 7%, а рекордсмены по возвратам - вдовцы и вдовы, здесь доля просроченных платежей составляет 6.5%.\n",
    "\n",
    "Зависимость между семейным положением и возвратом кредита в срок есть (*учтём здесь, что на возврат кредита в срок может влиять возраст заёмщика - с высокой долей вероятности, именно молодёжь не состоит в браке или сожительствует, тогда как в остальных группах средний возраст весьма вероятно выше*)."
   ]
  },
  {
   "cell_type": "markdown",
   "metadata": {
    "pycharm": {
     "name": "#%% md\n"
    }
   },
   "source": [
    "- Есть ли зависимость между уровнем дохода и возвратом кредита в срок?"
   ]
  },
  {
   "cell_type": "code",
   "execution_count": 35,
   "metadata": {
    "pycharm": {
     "name": "#%%\n"
    }
   },
   "outputs": [
    {
     "data": {
      "text/html": [
       "<div>\n",
       "<style scoped>\n",
       "    .dataframe tbody tr th:only-of-type {\n",
       "        vertical-align: middle;\n",
       "    }\n",
       "\n",
       "    .dataframe tbody tr th {\n",
       "        vertical-align: top;\n",
       "    }\n",
       "\n",
       "    .dataframe thead th {\n",
       "        text-align: right;\n",
       "    }\n",
       "</style>\n",
       "<table border=\"1\" class=\"dataframe\">\n",
       "  <thead>\n",
       "    <tr style=\"text-align: right;\">\n",
       "      <th></th>\n",
       "      <th>debt</th>\n",
       "    </tr>\n",
       "    <tr>\n",
       "      <th>income_category</th>\n",
       "      <th></th>\n",
       "    </tr>\n",
       "  </thead>\n",
       "  <tbody>\n",
       "    <tr>\n",
       "      <td>Высокий доход</td>\n",
       "      <td>7.188200</td>\n",
       "    </tr>\n",
       "    <tr>\n",
       "      <td>Выше среднего</td>\n",
       "      <td>8.551069</td>\n",
       "    </tr>\n",
       "    <tr>\n",
       "      <td>Ниже среднего</td>\n",
       "      <td>8.712466</td>\n",
       "    </tr>\n",
       "    <tr>\n",
       "      <td>Низкий доход</td>\n",
       "      <td>7.935026</td>\n",
       "    </tr>\n",
       "  </tbody>\n",
       "</table>\n",
       "</div>"
      ],
      "text/plain": [
       "                     debt\n",
       "income_category          \n",
       "Высокий доход    7.188200\n",
       "Выше среднего    8.551069\n",
       "Ниже среднего    8.712466\n",
       "Низкий доход     7.935026"
      ]
     },
     "metadata": {},
     "output_type": "display_data"
    }
   ],
   "source": [
    "income_pivot = df_processed.pivot_table(index = 'income_category', values = 'debt', aggfunc = 'sum') \\\n",
    "                        / df_processed.pivot_table(index = 'income_category', values = 'debt', aggfunc = 'count') * 100\n",
    "display(income_pivot)"
   ]
  },
  {
   "cell_type": "markdown",
   "metadata": {
    "pycharm": {
     "name": "#%% md\n"
    }
   },
   "source": [
    "**Вывод**\n",
    "\n",
    "Согласно предоставленным данным, зависимость между доходом и возвратом кредита в срок есть, но она нелинейная. Заёмщики с высоким доходом имеют просроченный кредит в ~7.2% случаев, заёмщики со средним доходом - в ~7.9%.\n",
    "\n",
    "Наибольшая доля просроченного кредита наблюдается в группе с доходом ниже среднего: 8.7% заёмщиков из этой группы имеют задолженность по кредиту. Чуть лучше, хоть и незначительно, ситуация среди тех, чей доход выше среднего - здесь доля задолженностей составляет 8.55%"
   ]
  },
  {
   "cell_type": "markdown",
   "metadata": {
    "pycharm": {
     "name": "#%% md\n"
    }
   },
   "source": [
    "- Как разные цели кредита влияют на его возврат в срок?"
   ]
  },
  {
   "cell_type": "code",
   "execution_count": 36,
   "metadata": {
    "pycharm": {
     "name": "#%%\n"
    }
   },
   "outputs": [
    {
     "data": {
      "text/html": [
       "<div>\n",
       "<style scoped>\n",
       "    .dataframe tbody tr th:only-of-type {\n",
       "        vertical-align: middle;\n",
       "    }\n",
       "\n",
       "    .dataframe tbody tr th {\n",
       "        vertical-align: top;\n",
       "    }\n",
       "\n",
       "    .dataframe thead th {\n",
       "        text-align: right;\n",
       "    }\n",
       "</style>\n",
       "<table border=\"1\" class=\"dataframe\">\n",
       "  <thead>\n",
       "    <tr style=\"text-align: right;\">\n",
       "      <th></th>\n",
       "      <th>debt</th>\n",
       "    </tr>\n",
       "    <tr>\n",
       "      <th>purpose_category</th>\n",
       "      <th></th>\n",
       "    </tr>\n",
       "  </thead>\n",
       "  <tbody>\n",
       "    <tr>\n",
       "      <td>автомобиль</td>\n",
       "      <td>9.317494</td>\n",
       "    </tr>\n",
       "    <tr>\n",
       "      <td>жилая недвижимость</td>\n",
       "      <td>6.959126</td>\n",
       "    </tr>\n",
       "    <tr>\n",
       "      <td>коммерческая и другая недвижимость</td>\n",
       "      <td>7.505864</td>\n",
       "    </tr>\n",
       "    <tr>\n",
       "      <td>образование</td>\n",
       "      <td>9.240759</td>\n",
       "    </tr>\n",
       "    <tr>\n",
       "      <td>свадьба</td>\n",
       "      <td>7.883462</td>\n",
       "    </tr>\n",
       "  </tbody>\n",
       "</table>\n",
       "</div>"
      ],
      "text/plain": [
       "                                        debt\n",
       "purpose_category                            \n",
       "автомобиль                          9.317494\n",
       "жилая недвижимость                  6.959126\n",
       "коммерческая и другая недвижимость  7.505864\n",
       "образование                         9.240759\n",
       "свадьба                             7.883462"
      ]
     },
     "metadata": {},
     "output_type": "display_data"
    }
   ],
   "source": [
    "purpose_pivot = df_processed.pivot_table(index = 'purpose_category', values = 'debt', aggfunc = 'sum') \\\n",
    "                        / df_processed.pivot_table(index = 'purpose_category', values = 'debt', aggfunc = 'count') * 100\n",
    "display(purpose_pivot)"
   ]
  },
  {
   "cell_type": "markdown",
   "metadata": {
    "pycharm": {
     "name": "#%% md\n"
    }
   },
   "source": [
    "**Вывод**\n",
    "\n",
    "Кредиты на жилую недвижимость реже других бывают просрочены - лишь в около 7% случаев, также в лидерах по \"дисциплине\" заёмщика - кредиты на коммерческую недвижимость (7.5%).\n",
    "\n",
    "Доля просроченных кредитов на свадьбу составляет 7.9% - мы уже знаем, что люди, состоящие в браке, более склонны платить вовремя.\n",
    "\n",
    "Антилидеры рейтинга - кредиты на автомобиль и образование. В обоих случаях доля просроченных кредитов превышает 9%. Здесь я радуюсь за себя - на обучение в Практикуме брать кредит не пришлось, а до получения прав ещё несколько месяцев. По крайней мере, в ближайшее время мне не грозит оказаться тем единственным должником из 11 заёмщиков."
   ]
  },
  {
   "cell_type": "markdown",
   "metadata": {
    "pycharm": {
     "name": "#%% md\n"
    }
   },
   "source": [
    "## Шаг 4. Общий вывод"
   ]
  },
  {
   "cell_type": "markdown",
   "metadata": {
    "pycharm": {
     "name": "#%% md\n"
    }
   },
   "source": [
    "В ходе исследования надёжности заёмщиков мы провели предварительную обработку предоставленных данных и проверили наличие зависимости между некоторыми характеристиками заёмщиков (либо самих кредитов) и возвратом кредита в срок.\n",
    "\n",
    "По каждому показателю зависимость так или иначе обнаружена:\n",
    "* Невозврат кредита в срок более распространён среди тех заёмщиков, кто ещё не создал полноценную семью и либо сожительствует с партнёром, либо не состоит в постоянных отношениях.\n",
    "* При этом, дети в семье делают возврат кредита в срок более сложной задачей - доля просроченных кредитов среди заёмщиков с 1-2 детьми выше, чем среди бездетных, на ~1.7 процентных пункта. Семьи с 3 или более детьми более ответственны в выплате кредитов: в этой подгруппе просроченны 8.2% кредитов (vs. 9.2% в семьях с 1-2 детьми, 7.5% у заёмщиков без детей). \n",
    "* Заёмщики с высоким доходом более склонны возвращать кредиты в срок в сравнение с заёмщиками со средними или низкими доходами. Кроме того, люди с низким доходом более ответственны, чем люди с доходом выше или ниже среднего. Возможно, условный средний класс может позволить себе брать более дорогие кредиты на большие суммы, чем люди с низким доходом, что при определённых условиях может приводить к неспособности выплачивать кредит вовремя.\n",
    "* Самые безопасные для банка кредиты связаны с недвижимостью: кредиты взятые покупку жилья или коммерческой недвижимости (вероятно, в силу обеспечения этой самой недвижимостью) возвращаются лучше, чем кредиты на автомобиль или образование."
   ]
  }
 ],
 "metadata": {
  "ExecuteTimeLog": [
   {
    "duration": 129,
    "start_time": "2021-06-08T16:01:51.249Z"
   },
   {
    "duration": 127,
    "start_time": "2021-06-08T16:52:45.127Z"
   },
   {
    "duration": 127,
    "start_time": "2021-06-08T17:06:34.006Z"
   },
   {
    "duration": 135,
    "start_time": "2021-06-08T17:15:41.184Z"
   },
   {
    "duration": 118,
    "start_time": "2021-06-08T17:17:57.395Z"
   },
   {
    "duration": 114,
    "start_time": "2021-06-08T17:22:50.370Z"
   },
   {
    "duration": 117,
    "start_time": "2021-06-08T17:29:18.146Z"
   },
   {
    "duration": 130,
    "start_time": "2021-06-08T17:30:33.993Z"
   },
   {
    "duration": 126,
    "start_time": "2021-06-08T17:31:09.461Z"
   },
   {
    "duration": 357,
    "start_time": "2021-06-09T16:57:02.116Z"
   },
   {
    "duration": 713,
    "start_time": "2021-06-09T16:57:16.375Z"
   },
   {
    "duration": 248,
    "start_time": "2021-06-09T16:57:17.091Z"
   },
   {
    "duration": 48,
    "start_time": "2021-06-09T16:57:17.343Z"
   },
   {
    "duration": 32,
    "start_time": "2021-06-09T16:57:17.394Z"
   },
   {
    "duration": 35,
    "start_time": "2021-06-09T16:57:17.428Z"
   },
   {
    "duration": 7,
    "start_time": "2021-06-09T16:57:17.465Z"
   },
   {
    "duration": 304,
    "start_time": "2021-06-09T16:57:23.617Z"
   },
   {
    "duration": 93,
    "start_time": "2021-06-09T16:57:44.892Z"
   },
   {
    "duration": 20,
    "start_time": "2021-06-09T16:57:51.550Z"
   },
   {
    "duration": 22,
    "start_time": "2021-06-09T16:58:44.074Z"
   },
   {
    "duration": 25,
    "start_time": "2021-06-09T16:59:29.707Z"
   },
   {
    "duration": 216,
    "start_time": "2021-06-09T16:59:59.213Z"
   },
   {
    "duration": 320,
    "start_time": "2021-06-09T17:00:05.417Z"
   },
   {
    "duration": 390,
    "start_time": "2021-06-09T17:00:10.749Z"
   },
   {
    "duration": 20,
    "start_time": "2021-06-09T17:00:26.396Z"
   },
   {
    "duration": 19,
    "start_time": "2021-06-09T17:01:17.520Z"
   },
   {
    "duration": 20,
    "start_time": "2021-06-09T17:02:05.665Z"
   },
   {
    "duration": 24,
    "start_time": "2021-06-09T17:03:05.563Z"
   },
   {
    "duration": 25,
    "start_time": "2021-06-09T17:04:44.906Z"
   },
   {
    "duration": 25,
    "start_time": "2021-06-09T17:05:40.628Z"
   },
   {
    "duration": 33,
    "start_time": "2021-06-09T17:05:48.583Z"
   },
   {
    "duration": 25,
    "start_time": "2021-06-09T17:06:10.514Z"
   },
   {
    "duration": 26,
    "start_time": "2021-06-09T17:06:24.925Z"
   },
   {
    "duration": 97,
    "start_time": "2021-06-09T17:11:01.938Z"
   },
   {
    "duration": 7,
    "start_time": "2021-06-09T17:11:08.349Z"
   },
   {
    "duration": 6,
    "start_time": "2021-06-09T17:12:27.428Z"
   },
   {
    "duration": 59,
    "start_time": "2021-06-09T17:13:31.143Z"
   },
   {
    "duration": 61,
    "start_time": "2021-06-09T17:14:09.737Z"
   },
   {
    "duration": 3471,
    "start_time": "2021-06-09T17:14:41.025Z"
   },
   {
    "duration": 3508,
    "start_time": "2021-06-09T17:27:34.229Z"
   },
   {
    "duration": 227,
    "start_time": "2021-06-09T17:27:58.993Z"
   },
   {
    "duration": 118,
    "start_time": "2021-06-09T17:28:33.321Z"
   },
   {
    "duration": 5093,
    "start_time": "2021-06-09T17:31:29.609Z"
   },
   {
    "duration": 61,
    "start_time": "2021-06-09T17:34:43.642Z"
   },
   {
    "duration": 61,
    "start_time": "2021-06-09T17:43:52.411Z"
   },
   {
    "duration": 5,
    "start_time": "2021-06-09T17:45:06.442Z"
   },
   {
    "duration": 8,
    "start_time": "2021-06-09T17:45:23.024Z"
   },
   {
    "duration": 7,
    "start_time": "2021-06-09T17:45:40.002Z"
   },
   {
    "duration": 6,
    "start_time": "2021-06-09T17:45:46.424Z"
   },
   {
    "duration": 6,
    "start_time": "2021-06-09T17:45:49.682Z"
   },
   {
    "duration": 5,
    "start_time": "2021-06-09T17:47:08.973Z"
   },
   {
    "duration": 23,
    "start_time": "2021-06-09T17:51:04.653Z"
   },
   {
    "duration": 23,
    "start_time": "2021-06-09T17:51:17.609Z"
   },
   {
    "duration": 23,
    "start_time": "2021-06-09T17:51:22.171Z"
   },
   {
    "duration": 22,
    "start_time": "2021-06-09T17:53:19.420Z"
   },
   {
    "duration": 93,
    "start_time": "2021-06-09T17:58:01.763Z"
   },
   {
    "duration": 9,
    "start_time": "2021-06-09T17:59:31.012Z"
   },
   {
    "duration": 54,
    "start_time": "2021-06-09T18:49:25.242Z"
   },
   {
    "duration": 426,
    "start_time": "2021-06-09T18:52:46.453Z"
   },
   {
    "duration": 19,
    "start_time": "2021-06-09T18:53:29.998Z"
   },
   {
    "duration": 9,
    "start_time": "2021-06-09T18:53:52.675Z"
   },
   {
    "duration": 9,
    "start_time": "2021-06-09T18:54:07.395Z"
   },
   {
    "duration": 10,
    "start_time": "2021-06-09T18:54:17.374Z"
   },
   {
    "duration": 98,
    "start_time": "2021-06-09T18:57:06.093Z"
   },
   {
    "duration": 466,
    "start_time": "2021-06-09T18:57:15.063Z"
   },
   {
    "duration": 10,
    "start_time": "2021-06-09T18:57:46.785Z"
   },
   {
    "duration": 11,
    "start_time": "2021-06-09T18:57:57.863Z"
   },
   {
    "duration": 9,
    "start_time": "2021-06-09T18:58:03.053Z"
   },
   {
    "duration": 11,
    "start_time": "2021-06-09T18:58:10.779Z"
   },
   {
    "duration": 10,
    "start_time": "2021-06-09T18:58:15.253Z"
   },
   {
    "duration": 312,
    "start_time": "2021-06-09T18:58:41.542Z"
   },
   {
    "duration": 1266,
    "start_time": "2021-06-09T19:00:28.611Z"
   },
   {
    "duration": 1272,
    "start_time": "2021-06-09T19:00:43.127Z"
   },
   {
    "duration": 471,
    "start_time": "2021-06-09T19:01:11.574Z"
   },
   {
    "duration": 464,
    "start_time": "2021-06-09T19:02:20.598Z"
   },
   {
    "duration": 448,
    "start_time": "2021-06-09T19:07:11.434Z"
   },
   {
    "duration": 16,
    "start_time": "2021-06-09T19:08:32.120Z"
   },
   {
    "duration": 19,
    "start_time": "2021-06-09T19:08:41.727Z"
   },
   {
    "duration": 17,
    "start_time": "2021-06-09T19:09:15.872Z"
   },
   {
    "duration": 14,
    "start_time": "2021-06-09T19:09:34.015Z"
   },
   {
    "duration": 14,
    "start_time": "2021-06-09T19:09:38.382Z"
   },
   {
    "duration": 523,
    "start_time": "2021-06-09T19:09:43.220Z"
   },
   {
    "duration": 164,
    "start_time": "2021-06-09T19:10:33.598Z"
   },
   {
    "duration": 141,
    "start_time": "2021-06-09T19:11:51.117Z"
   },
   {
    "duration": 146,
    "start_time": "2021-06-09T19:12:01.307Z"
   },
   {
    "duration": 164,
    "start_time": "2021-06-09T19:14:29.122Z"
   },
   {
    "duration": 4,
    "start_time": "2021-06-09T19:15:04.703Z"
   },
   {
    "duration": 263,
    "start_time": "2021-06-09T19:15:04.710Z"
   },
   {
    "duration": 48,
    "start_time": "2021-06-09T19:15:04.976Z"
   },
   {
    "duration": 12,
    "start_time": "2021-06-09T19:15:05.026Z"
   },
   {
    "duration": 35,
    "start_time": "2021-06-09T19:15:05.040Z"
   },
   {
    "duration": 7,
    "start_time": "2021-06-09T19:15:05.077Z"
   },
   {
    "duration": 60,
    "start_time": "2021-06-09T19:15:05.086Z"
   },
   {
    "duration": 53,
    "start_time": "2021-06-09T19:15:05.149Z"
   },
   {
    "duration": 39,
    "start_time": "2021-06-09T19:15:05.204Z"
   },
   {
    "duration": 7,
    "start_time": "2021-06-09T19:15:05.245Z"
   },
   {
    "duration": 10,
    "start_time": "2021-06-09T19:15:05.254Z"
   },
   {
    "duration": 11,
    "start_time": "2021-06-09T19:15:05.266Z"
   },
   {
    "duration": 58,
    "start_time": "2021-06-09T19:15:05.279Z"
   },
   {
    "duration": 8,
    "start_time": "2021-06-09T19:15:05.339Z"
   },
   {
    "duration": 21,
    "start_time": "2021-06-09T19:15:05.349Z"
   },
   {
    "duration": 155,
    "start_time": "2021-06-09T19:15:09.651Z"
   },
   {
    "duration": 70,
    "start_time": "2021-06-09T19:15:50.268Z"
   },
   {
    "duration": 4,
    "start_time": "2021-06-09T19:16:07.779Z"
   },
   {
    "duration": 219,
    "start_time": "2021-06-09T19:16:07.785Z"
   },
   {
    "duration": 33,
    "start_time": "2021-06-09T19:16:08.007Z"
   },
   {
    "duration": 12,
    "start_time": "2021-06-09T19:16:08.043Z"
   },
   {
    "duration": 36,
    "start_time": "2021-06-09T19:16:08.057Z"
   },
   {
    "duration": 7,
    "start_time": "2021-06-09T19:16:08.125Z"
   },
   {
    "duration": 26,
    "start_time": "2021-06-09T19:16:08.135Z"
   },
   {
    "duration": 84,
    "start_time": "2021-06-09T19:16:08.164Z"
   },
   {
    "duration": 22,
    "start_time": "2021-06-09T19:16:08.251Z"
   },
   {
    "duration": 8,
    "start_time": "2021-06-09T19:16:08.275Z"
   },
   {
    "duration": 39,
    "start_time": "2021-06-09T19:16:08.286Z"
   },
   {
    "duration": 12,
    "start_time": "2021-06-09T19:16:08.327Z"
   },
   {
    "duration": 27,
    "start_time": "2021-06-09T19:16:08.341Z"
   },
   {
    "duration": 12,
    "start_time": "2021-06-09T19:16:08.370Z"
   },
   {
    "duration": 46,
    "start_time": "2021-06-09T19:16:08.385Z"
   },
   {
    "duration": 71,
    "start_time": "2021-06-09T19:16:08.434Z"
   },
   {
    "duration": 34,
    "start_time": "2021-06-09T19:16:11.269Z"
   },
   {
    "duration": 6,
    "start_time": "2021-06-09T20:23:26.298Z"
   },
   {
    "duration": 7,
    "start_time": "2021-06-09T20:23:53.867Z"
   },
   {
    "duration": 7,
    "start_time": "2021-06-09T20:24:02.481Z"
   },
   {
    "duration": 97,
    "start_time": "2021-06-09T20:30:01.514Z"
   },
   {
    "duration": 92,
    "start_time": "2021-06-09T20:31:13.517Z"
   },
   {
    "duration": 6,
    "start_time": "2021-06-09T20:31:32.425Z"
   },
   {
    "duration": 8,
    "start_time": "2021-06-09T20:33:03.076Z"
   },
   {
    "duration": 17,
    "start_time": "2021-06-09T20:36:42.917Z"
   },
   {
    "duration": 272,
    "start_time": "2021-06-09T20:37:10.214Z"
   },
   {
    "duration": 273,
    "start_time": "2021-06-09T20:37:19.120Z"
   },
   {
    "duration": 10,
    "start_time": "2021-06-09T20:38:06.165Z"
   },
   {
    "duration": 21,
    "start_time": "2021-06-09T20:41:03.692Z"
   },
   {
    "duration": 344,
    "start_time": "2021-06-09T20:44:10.140Z"
   },
   {
    "duration": 8,
    "start_time": "2021-06-09T20:44:18.704Z"
   },
   {
    "duration": 9,
    "start_time": "2021-06-09T20:45:02.686Z"
   },
   {
    "duration": 8219,
    "start_time": "2021-06-09T20:52:59.929Z"
   },
   {
    "duration": 5,
    "start_time": "2021-06-09T20:53:39.119Z"
   },
   {
    "duration": 240,
    "start_time": "2021-06-09T20:53:39.126Z"
   },
   {
    "duration": 33,
    "start_time": "2021-06-09T20:53:39.369Z"
   },
   {
    "duration": 28,
    "start_time": "2021-06-09T20:53:39.405Z"
   },
   {
    "duration": 35,
    "start_time": "2021-06-09T20:53:39.435Z"
   },
   {
    "duration": 9,
    "start_time": "2021-06-09T20:53:39.473Z"
   },
   {
    "duration": 26,
    "start_time": "2021-06-09T20:53:39.524Z"
   },
   {
    "duration": 75,
    "start_time": "2021-06-09T20:53:39.554Z"
   },
   {
    "duration": 24,
    "start_time": "2021-06-09T20:53:39.632Z"
   },
   {
    "duration": 9,
    "start_time": "2021-06-09T20:53:39.659Z"
   },
   {
    "duration": 9,
    "start_time": "2021-06-09T20:53:39.670Z"
   },
   {
    "duration": 53,
    "start_time": "2021-06-09T20:53:39.682Z"
   },
   {
    "duration": 15,
    "start_time": "2021-06-09T20:53:39.737Z"
   },
   {
    "duration": 93,
    "start_time": "2021-06-09T20:53:39.754Z"
   },
   {
    "duration": 31,
    "start_time": "2021-06-09T20:53:39.849Z"
   },
   {
    "duration": 54,
    "start_time": "2021-06-09T20:53:39.882Z"
   },
   {
    "duration": 9,
    "start_time": "2021-06-09T20:53:39.940Z"
   },
   {
    "duration": 18,
    "start_time": "2021-06-09T20:53:39.952Z"
   },
   {
    "duration": 57,
    "start_time": "2021-06-09T20:53:39.976Z"
   },
   {
    "duration": 6,
    "start_time": "2021-06-09T20:53:40.035Z"
   },
   {
    "duration": 13,
    "start_time": "2021-06-09T20:53:40.043Z"
   },
   {
    "duration": 19,
    "start_time": "2021-06-09T20:53:40.058Z"
   },
   {
    "duration": 48,
    "start_time": "2021-06-09T20:53:40.079Z"
   },
   {
    "duration": 4294,
    "start_time": "2021-06-09T20:53:40.130Z"
   },
   {
    "duration": 76,
    "start_time": "2021-06-09T20:53:44.427Z"
   },
   {
    "duration": 1439,
    "start_time": "2021-06-09T20:54:51.464Z"
   },
   {
    "duration": 830,
    "start_time": "2021-06-09T20:55:32.720Z"
   },
   {
    "duration": 462,
    "start_time": "2021-06-09T20:59:14.808Z"
   },
   {
    "duration": 497,
    "start_time": "2021-06-09T21:00:13.003Z"
   },
   {
    "duration": 435,
    "start_time": "2021-06-09T21:00:44.499Z"
   },
   {
    "duration": 32,
    "start_time": "2021-06-09T21:03:02.522Z"
   },
   {
    "duration": 744,
    "start_time": "2021-06-09T21:04:42.932Z"
   },
   {
    "duration": 38,
    "start_time": "2021-06-09T21:06:39.070Z"
   },
   {
    "duration": 447,
    "start_time": "2021-06-09T21:08:34.947Z"
   },
   {
    "duration": 38,
    "start_time": "2021-06-09T21:08:42.758Z"
   },
   {
    "duration": 437,
    "start_time": "2021-06-09T21:10:20.008Z"
   },
   {
    "duration": 42,
    "start_time": "2021-06-09T21:10:37.462Z"
   },
   {
    "duration": 303,
    "start_time": "2021-06-09T21:13:32.536Z"
   },
   {
    "duration": 5,
    "start_time": "2021-06-09T21:14:13.117Z"
   },
   {
    "duration": 6,
    "start_time": "2021-06-09T21:14:25.023Z"
   },
   {
    "duration": 5,
    "start_time": "2021-06-09T21:14:28.463Z"
   },
   {
    "duration": 297,
    "start_time": "2021-06-09T21:14:40.234Z"
   },
   {
    "duration": -283,
    "start_time": "2021-06-09T21:15:15.540Z"
   },
   {
    "duration": 282,
    "start_time": "2021-06-09T21:15:21.477Z"
   },
   {
    "duration": 37,
    "start_time": "2021-06-09T21:15:37.153Z"
   },
   {
    "duration": 287,
    "start_time": "2021-06-09T21:15:47.477Z"
   },
   {
    "duration": 282,
    "start_time": "2021-06-09T21:16:02.860Z"
   },
   {
    "duration": 12,
    "start_time": "2021-06-09T21:16:13.955Z"
   },
   {
    "duration": 6953,
    "start_time": "2021-06-09T21:16:20.515Z"
   },
   {
    "duration": 291,
    "start_time": "2021-06-09T21:16:38.110Z"
   },
   {
    "duration": 41,
    "start_time": "2021-06-09T21:17:12.854Z"
   },
   {
    "duration": 380,
    "start_time": "2021-06-09T21:19:45.735Z"
   },
   {
    "duration": 39,
    "start_time": "2021-06-09T21:20:08.050Z"
   },
   {
    "duration": 309,
    "start_time": "2021-06-09T21:22:13.006Z"
   },
   {
    "duration": 311,
    "start_time": "2021-06-09T21:22:37.017Z"
   },
   {
    "duration": 38,
    "start_time": "2021-06-09T21:22:43.483Z"
   },
   {
    "duration": 42,
    "start_time": "2021-06-09T21:23:17.082Z"
   },
   {
    "duration": 44,
    "start_time": "2021-06-09T21:23:25.069Z"
   },
   {
    "duration": 40,
    "start_time": "2021-06-09T21:23:36.581Z"
   },
   {
    "duration": 31,
    "start_time": "2021-06-09T21:24:16.886Z"
   },
   {
    "duration": 33,
    "start_time": "2021-06-09T21:25:41.393Z"
   },
   {
    "duration": 38,
    "start_time": "2021-06-09T21:25:48.939Z"
   },
   {
    "duration": 32,
    "start_time": "2021-06-09T21:30:41.491Z"
   },
   {
    "duration": 89,
    "start_time": "2021-06-09T21:34:39.932Z"
   },
   {
    "duration": 754,
    "start_time": "2021-06-09T21:35:58.513Z"
   },
   {
    "duration": 269,
    "start_time": "2021-06-09T21:35:59.269Z"
   },
   {
    "duration": 44,
    "start_time": "2021-06-09T21:35:59.541Z"
   },
   {
    "duration": 11,
    "start_time": "2021-06-09T21:35:59.587Z"
   },
   {
    "duration": 53,
    "start_time": "2021-06-09T21:35:59.601Z"
   },
   {
    "duration": 7,
    "start_time": "2021-06-09T21:35:59.656Z"
   },
   {
    "duration": 32,
    "start_time": "2021-06-09T21:35:59.665Z"
   },
   {
    "duration": 54,
    "start_time": "2021-06-09T21:35:59.724Z"
   },
   {
    "duration": 22,
    "start_time": "2021-06-09T21:35:59.782Z"
   },
   {
    "duration": 9,
    "start_time": "2021-06-09T21:35:59.825Z"
   },
   {
    "duration": 15,
    "start_time": "2021-06-09T21:35:59.836Z"
   },
   {
    "duration": 12,
    "start_time": "2021-06-09T21:35:59.854Z"
   },
   {
    "duration": 14,
    "start_time": "2021-06-09T21:35:59.869Z"
   },
   {
    "duration": 104,
    "start_time": "2021-06-09T21:35:59.885Z"
   },
   {
    "duration": 53,
    "start_time": "2021-06-09T21:35:59.992Z"
   },
   {
    "duration": 31,
    "start_time": "2021-06-09T21:36:00.048Z"
   },
   {
    "duration": 9,
    "start_time": "2021-06-09T21:36:00.081Z"
   },
   {
    "duration": 42,
    "start_time": "2021-06-09T21:36:00.093Z"
   },
   {
    "duration": 36,
    "start_time": "2021-06-09T21:36:00.137Z"
   },
   {
    "duration": 6,
    "start_time": "2021-06-09T21:36:00.175Z"
   },
   {
    "duration": 12,
    "start_time": "2021-06-09T21:36:00.184Z"
   },
   {
    "duration": 48,
    "start_time": "2021-06-09T21:36:00.199Z"
   },
   {
    "duration": 16,
    "start_time": "2021-06-09T21:36:00.249Z"
   },
   {
    "duration": 4335,
    "start_time": "2021-06-09T21:36:00.267Z"
   },
   {
    "duration": 90,
    "start_time": "2021-06-09T21:36:04.605Z"
   },
   {
    "duration": 1477,
    "start_time": "2021-06-09T21:36:04.698Z"
   },
   {
    "duration": 861,
    "start_time": "2021-06-09T21:36:06.181Z"
   },
   {
    "duration": 473,
    "start_time": "2021-06-09T21:36:07.045Z"
   },
   {
    "duration": 37,
    "start_time": "2021-06-09T21:36:07.520Z"
   },
   {
    "duration": 774,
    "start_time": "2021-06-09T21:36:07.559Z"
   },
   {
    "duration": 39,
    "start_time": "2021-06-09T21:36:08.335Z"
   },
   {
    "duration": 63,
    "start_time": "2021-06-09T21:36:08.377Z"
   },
   {
    "duration": 33,
    "start_time": "2021-06-09T21:36:08.443Z"
   },
   {
    "duration": 61,
    "start_time": "2021-06-09T21:36:08.479Z"
   },
   {
    "duration": 835,
    "start_time": "2021-06-09T21:36:27.691Z"
   },
   {
    "duration": 289,
    "start_time": "2021-06-09T21:36:28.530Z"
   },
   {
    "duration": 44,
    "start_time": "2021-06-09T21:36:28.822Z"
   },
   {
    "duration": 13,
    "start_time": "2021-06-09T21:36:28.869Z"
   },
   {
    "duration": 59,
    "start_time": "2021-06-09T21:36:28.885Z"
   },
   {
    "duration": 7,
    "start_time": "2021-06-09T21:36:28.946Z"
   },
   {
    "duration": 34,
    "start_time": "2021-06-09T21:36:28.956Z"
   },
   {
    "duration": 75,
    "start_time": "2021-06-09T21:36:28.994Z"
   },
   {
    "duration": 24,
    "start_time": "2021-06-09T21:36:29.071Z"
   },
   {
    "duration": 27,
    "start_time": "2021-06-09T21:36:29.097Z"
   },
   {
    "duration": 8,
    "start_time": "2021-06-09T21:36:29.126Z"
   },
   {
    "duration": 15,
    "start_time": "2021-06-09T21:36:29.136Z"
   },
   {
    "duration": 17,
    "start_time": "2021-06-09T21:36:29.154Z"
   },
   {
    "duration": 96,
    "start_time": "2021-06-09T21:36:29.174Z"
   },
   {
    "duration": 51,
    "start_time": "2021-06-09T21:36:29.273Z"
   },
   {
    "duration": 30,
    "start_time": "2021-06-09T21:36:29.326Z"
   },
   {
    "duration": 15,
    "start_time": "2021-06-09T21:36:29.359Z"
   },
   {
    "duration": 47,
    "start_time": "2021-06-09T21:36:29.377Z"
   },
   {
    "duration": 19,
    "start_time": "2021-06-09T21:36:29.427Z"
   },
   {
    "duration": 7,
    "start_time": "2021-06-09T21:36:29.448Z"
   },
   {
    "duration": 15,
    "start_time": "2021-06-09T21:36:29.457Z"
   },
   {
    "duration": 50,
    "start_time": "2021-06-09T21:36:29.475Z"
   },
   {
    "duration": 13,
    "start_time": "2021-06-09T21:36:29.530Z"
   },
   {
    "duration": 4351,
    "start_time": "2021-06-09T21:36:29.546Z"
   },
   {
    "duration": 86,
    "start_time": "2021-06-09T21:36:33.900Z"
   },
   {
    "duration": 1487,
    "start_time": "2021-06-09T21:36:33.988Z"
   },
   {
    "duration": 840,
    "start_time": "2021-06-09T21:36:35.478Z"
   },
   {
    "duration": 543,
    "start_time": "2021-06-09T21:36:36.320Z"
   },
   {
    "duration": 37,
    "start_time": "2021-06-09T21:36:36.866Z"
   },
   {
    "duration": 767,
    "start_time": "2021-06-09T21:36:36.905Z"
   },
   {
    "duration": 51,
    "start_time": "2021-06-09T21:36:37.674Z"
   },
   {
    "duration": 34,
    "start_time": "2021-06-09T21:36:37.728Z"
   },
   {
    "duration": 34,
    "start_time": "2021-06-09T21:36:37.764Z"
   },
   {
    "duration": 34,
    "start_time": "2021-06-09T21:36:37.825Z"
   },
   {
    "duration": 92,
    "start_time": "2021-06-10T19:39:26.892Z"
   },
   {
    "duration": 94,
    "start_time": "2021-06-10T20:01:31.040Z"
   },
   {
    "duration": 98,
    "start_time": "2021-06-10T20:02:50.911Z"
   },
   {
    "duration": 998,
    "start_time": "2021-06-11T05:45:49.883Z"
   },
   {
    "duration": 363,
    "start_time": "2021-06-11T05:45:50.884Z"
   },
   {
    "duration": 76,
    "start_time": "2021-06-11T05:45:51.251Z"
   },
   {
    "duration": 17,
    "start_time": "2021-06-11T05:45:51.331Z"
   },
   {
    "duration": 80,
    "start_time": "2021-06-11T05:45:51.352Z"
   },
   {
    "duration": 10,
    "start_time": "2021-06-11T05:45:51.435Z"
   },
   {
    "duration": 65,
    "start_time": "2021-06-11T05:45:51.448Z"
   },
   {
    "duration": 99,
    "start_time": "2021-06-11T05:45:51.516Z"
   },
   {
    "duration": 25,
    "start_time": "2021-06-11T05:45:51.620Z"
   },
   {
    "duration": 9,
    "start_time": "2021-06-11T05:45:51.648Z"
   },
   {
    "duration": 34,
    "start_time": "2021-06-11T05:45:51.659Z"
   },
   {
    "duration": 12,
    "start_time": "2021-06-11T05:45:51.696Z"
   },
   {
    "duration": 15,
    "start_time": "2021-06-11T05:45:51.711Z"
   },
   {
    "duration": 107,
    "start_time": "2021-06-11T05:45:51.729Z"
   },
   {
    "duration": 30,
    "start_time": "2021-06-11T05:45:51.839Z"
   },
   {
    "duration": 30,
    "start_time": "2021-06-11T05:45:51.883Z"
   },
   {
    "duration": 10,
    "start_time": "2021-06-11T05:45:51.915Z"
   },
   {
    "duration": 17,
    "start_time": "2021-06-11T05:45:51.927Z"
   },
   {
    "duration": 51,
    "start_time": "2021-06-11T05:45:51.947Z"
   },
   {
    "duration": 7,
    "start_time": "2021-06-11T05:45:52.000Z"
   },
   {
    "duration": 4611,
    "start_time": "2021-06-11T05:45:56.788Z"
   },
   {
    "duration": 88,
    "start_time": "2021-06-11T05:46:09.712Z"
   },
   {
    "duration": 12,
    "start_time": "2021-06-11T05:46:14.912Z"
   },
   {
    "duration": 9,
    "start_time": "2021-06-11T05:48:01.448Z"
   },
   {
    "duration": 11,
    "start_time": "2021-06-11T05:48:11.750Z"
   },
   {
    "duration": 1768,
    "start_time": "2021-06-11T06:00:23.228Z"
   },
   {
    "duration": 1830,
    "start_time": "2021-06-11T06:00:55.818Z"
   },
   {
    "duration": 10,
    "start_time": "2021-06-11T06:01:19.015Z"
   },
   {
    "duration": 10,
    "start_time": "2021-06-11T06:01:23.477Z"
   },
   {
    "duration": 1834,
    "start_time": "2021-06-11T06:01:26.652Z"
   },
   {
    "duration": 9,
    "start_time": "2021-06-11T06:02:48.239Z"
   },
   {
    "duration": 10,
    "start_time": "2021-06-11T06:03:16.176Z"
   },
   {
    "duration": 155,
    "start_time": "2021-06-11T06:30:44.306Z"
   },
   {
    "duration": 6,
    "start_time": "2021-06-11T06:32:59.957Z"
   },
   {
    "duration": 147,
    "start_time": "2021-06-11T06:36:16.620Z"
   },
   {
    "duration": 17,
    "start_time": "2021-06-11T06:36:59.988Z"
   },
   {
    "duration": 8,
    "start_time": "2021-06-11T06:38:12.759Z"
   },
   {
    "duration": 163,
    "start_time": "2021-06-11T06:39:51.139Z"
   },
   {
    "duration": 7,
    "start_time": "2021-06-11T06:39:58.148Z"
   },
   {
    "duration": 152,
    "start_time": "2021-06-11T06:40:12.175Z"
   },
   {
    "duration": 8,
    "start_time": "2021-06-11T06:40:16.516Z"
   },
   {
    "duration": 145,
    "start_time": "2021-06-11T06:42:46.292Z"
   },
   {
    "duration": 151,
    "start_time": "2021-06-11T06:43:40.163Z"
   },
   {
    "duration": 4,
    "start_time": "2021-06-11T06:45:16.888Z"
   },
   {
    "duration": 267,
    "start_time": "2021-06-11T06:45:16.896Z"
   },
   {
    "duration": 33,
    "start_time": "2021-06-11T06:45:17.166Z"
   },
   {
    "duration": 12,
    "start_time": "2021-06-11T06:45:17.201Z"
   },
   {
    "duration": 35,
    "start_time": "2021-06-11T06:45:17.215Z"
   },
   {
    "duration": 33,
    "start_time": "2021-06-11T06:45:17.252Z"
   },
   {
    "duration": 32,
    "start_time": "2021-06-11T06:45:17.288Z"
   },
   {
    "duration": 79,
    "start_time": "2021-06-11T06:45:17.323Z"
   },
   {
    "duration": 23,
    "start_time": "2021-06-11T06:45:17.404Z"
   },
   {
    "duration": 8,
    "start_time": "2021-06-11T06:45:17.430Z"
   },
   {
    "duration": 13,
    "start_time": "2021-06-11T06:45:17.440Z"
   },
   {
    "duration": 12,
    "start_time": "2021-06-11T06:45:17.484Z"
   },
   {
    "duration": 16,
    "start_time": "2021-06-11T06:45:17.499Z"
   },
   {
    "duration": 97,
    "start_time": "2021-06-11T06:45:17.518Z"
   },
   {
    "duration": 32,
    "start_time": "2021-06-11T06:45:17.618Z"
   },
   {
    "duration": 52,
    "start_time": "2021-06-11T06:45:17.652Z"
   },
   {
    "duration": 10,
    "start_time": "2021-06-11T06:45:17.706Z"
   },
   {
    "duration": 19,
    "start_time": "2021-06-11T06:45:17.719Z"
   },
   {
    "duration": 19,
    "start_time": "2021-06-11T06:45:17.782Z"
   },
   {
    "duration": 7,
    "start_time": "2021-06-11T06:45:17.804Z"
   },
   {
    "duration": 14,
    "start_time": "2021-06-11T06:45:17.813Z"
   },
   {
    "duration": 11,
    "start_time": "2021-06-11T06:45:17.831Z"
   },
   {
    "duration": 155,
    "start_time": "2021-06-11T06:47:31.729Z"
   },
   {
    "duration": 9,
    "start_time": "2021-06-11T06:49:32.298Z"
   },
   {
    "duration": 12,
    "start_time": "2021-06-11T06:49:39.506Z"
   },
   {
    "duration": 31,
    "start_time": "2021-06-11T06:51:10.242Z"
   },
   {
    "duration": 4,
    "start_time": "2021-06-11T06:51:22.370Z"
   },
   {
    "duration": 226,
    "start_time": "2021-06-11T06:51:22.377Z"
   },
   {
    "duration": 32,
    "start_time": "2021-06-11T06:51:22.606Z"
   },
   {
    "duration": 13,
    "start_time": "2021-06-11T06:51:22.641Z"
   },
   {
    "duration": 53,
    "start_time": "2021-06-11T06:51:22.656Z"
   },
   {
    "duration": 8,
    "start_time": "2021-06-11T06:51:22.711Z"
   },
   {
    "duration": 35,
    "start_time": "2021-06-11T06:51:22.721Z"
   },
   {
    "duration": 69,
    "start_time": "2021-06-11T06:51:22.759Z"
   },
   {
    "duration": 21,
    "start_time": "2021-06-11T06:51:22.831Z"
   },
   {
    "duration": 33,
    "start_time": "2021-06-11T06:51:22.855Z"
   },
   {
    "duration": 18,
    "start_time": "2021-06-11T06:51:22.891Z"
   },
   {
    "duration": 26,
    "start_time": "2021-06-11T06:51:22.912Z"
   },
   {
    "duration": 26,
    "start_time": "2021-06-11T06:51:22.940Z"
   },
   {
    "duration": 93,
    "start_time": "2021-06-11T06:51:22.968Z"
   },
   {
    "duration": 32,
    "start_time": "2021-06-11T06:51:23.064Z"
   },
   {
    "duration": 31,
    "start_time": "2021-06-11T06:51:27.125Z"
   },
   {
    "duration": 33,
    "start_time": "2021-06-11T06:52:04.801Z"
   },
   {
    "duration": 31,
    "start_time": "2021-06-11T06:52:50.844Z"
   },
   {
    "duration": 714,
    "start_time": "2021-06-13T08:13:53.234Z"
   },
   {
    "duration": 457,
    "start_time": "2021-06-13T08:13:53.951Z"
   },
   {
    "duration": 43,
    "start_time": "2021-06-13T08:13:54.411Z"
   },
   {
    "duration": 12,
    "start_time": "2021-06-13T08:13:54.457Z"
   },
   {
    "duration": 34,
    "start_time": "2021-06-13T08:13:54.502Z"
   },
   {
    "duration": 8,
    "start_time": "2021-06-13T08:13:54.538Z"
   },
   {
    "duration": 53,
    "start_time": "2021-06-13T08:13:54.549Z"
   },
   {
    "duration": 57,
    "start_time": "2021-06-13T08:13:54.605Z"
   },
   {
    "duration": 46,
    "start_time": "2021-06-13T08:13:54.666Z"
   },
   {
    "duration": 9,
    "start_time": "2021-06-13T08:13:54.715Z"
   },
   {
    "duration": 8,
    "start_time": "2021-06-13T08:13:54.726Z"
   },
   {
    "duration": 10,
    "start_time": "2021-06-13T08:13:54.736Z"
   },
   {
    "duration": 55,
    "start_time": "2021-06-13T08:13:54.749Z"
   },
   {
    "duration": 81,
    "start_time": "2021-06-13T08:13:54.806Z"
   },
   {
    "duration": 34,
    "start_time": "2021-06-13T08:13:54.890Z"
   },
   {
    "duration": 28,
    "start_time": "2021-06-13T08:13:54.926Z"
   },
   {
    "duration": 9,
    "start_time": "2021-06-13T08:13:54.957Z"
   },
   {
    "duration": 17,
    "start_time": "2021-06-13T08:13:55.001Z"
   },
   {
    "duration": 32,
    "start_time": "2021-06-13T08:13:55.021Z"
   },
   {
    "duration": 9,
    "start_time": "2021-06-13T08:13:55.056Z"
   },
   {
    "duration": 36,
    "start_time": "2021-06-13T08:13:55.067Z"
   },
   {
    "duration": 9,
    "start_time": "2021-06-13T08:13:55.106Z"
   },
   {
    "duration": 173,
    "start_time": "2021-06-13T08:13:55.118Z"
   },
   {
    "duration": 152,
    "start_time": "2021-06-13T08:15:59.637Z"
   },
   {
    "duration": 154,
    "start_time": "2021-06-13T08:16:10.835Z"
   },
   {
    "duration": 308,
    "start_time": "2021-06-13T08:16:48.045Z"
   },
   {
    "duration": 5,
    "start_time": "2021-06-13T08:17:08.106Z"
   },
   {
    "duration": 21,
    "start_time": "2021-06-13T08:18:52.032Z"
   },
   {
    "duration": 8,
    "start_time": "2021-06-13T08:19:25.341Z"
   },
   {
    "duration": 8,
    "start_time": "2021-06-13T08:19:35.697Z"
   },
   {
    "duration": 8,
    "start_time": "2021-06-13T08:19:43.834Z"
   },
   {
    "duration": 8,
    "start_time": "2021-06-13T08:19:58.123Z"
   },
   {
    "duration": 9,
    "start_time": "2021-06-13T08:20:16.773Z"
   },
   {
    "duration": 8,
    "start_time": "2021-06-13T08:20:37.427Z"
   },
   {
    "duration": 9,
    "start_time": "2021-06-13T08:20:48.705Z"
   },
   {
    "duration": 16,
    "start_time": "2021-06-13T08:21:45.840Z"
   },
   {
    "duration": 12,
    "start_time": "2021-06-13T08:22:49.609Z"
   },
   {
    "duration": 4,
    "start_time": "2021-06-13T08:23:18.609Z"
   },
   {
    "duration": 477,
    "start_time": "2021-06-13T08:23:18.616Z"
   },
   {
    "duration": 35,
    "start_time": "2021-06-13T08:23:19.097Z"
   },
   {
    "duration": 16,
    "start_time": "2021-06-13T08:23:19.135Z"
   },
   {
    "duration": 12,
    "start_time": "2021-06-13T08:23:19.153Z"
   },
   {
    "duration": 63,
    "start_time": "2021-06-13T08:23:19.167Z"
   },
   {
    "duration": 7,
    "start_time": "2021-06-13T08:23:19.232Z"
   },
   {
    "duration": 25,
    "start_time": "2021-06-13T08:23:19.242Z"
   },
   {
    "duration": 83,
    "start_time": "2021-06-13T08:23:19.271Z"
   },
   {
    "duration": 24,
    "start_time": "2021-06-13T08:23:19.356Z"
   },
   {
    "duration": 26,
    "start_time": "2021-06-13T08:23:19.382Z"
   },
   {
    "duration": 8,
    "start_time": "2021-06-13T08:23:19.410Z"
   },
   {
    "duration": 13,
    "start_time": "2021-06-13T08:23:19.421Z"
   },
   {
    "duration": 15,
    "start_time": "2021-06-13T08:23:19.436Z"
   },
   {
    "duration": 107,
    "start_time": "2021-06-13T08:23:19.453Z"
   },
   {
    "duration": 46,
    "start_time": "2021-06-13T08:23:19.563Z"
   },
   {
    "duration": 28,
    "start_time": "2021-06-13T08:23:19.612Z"
   },
   {
    "duration": 10,
    "start_time": "2021-06-13T08:23:19.642Z"
   },
   {
    "duration": 55,
    "start_time": "2021-06-13T08:23:19.654Z"
   },
   {
    "duration": 18,
    "start_time": "2021-06-13T08:23:19.712Z"
   },
   {
    "duration": 6,
    "start_time": "2021-06-13T08:23:19.733Z"
   },
   {
    "duration": 11,
    "start_time": "2021-06-13T08:23:19.741Z"
   },
   {
    "duration": 52,
    "start_time": "2021-06-13T08:23:19.757Z"
   },
   {
    "duration": 183,
    "start_time": "2021-06-13T08:23:19.812Z"
   },
   {
    "duration": 10,
    "start_time": "2021-06-13T08:23:20.001Z"
   },
   {
    "duration": 19,
    "start_time": "2021-06-13T08:23:20.013Z"
   },
   {
    "duration": 161,
    "start_time": "2021-06-13T08:27:15.037Z"
   },
   {
    "duration": 10,
    "start_time": "2021-06-13T08:27:32.052Z"
   },
   {
    "duration": 154,
    "start_time": "2021-06-13T08:27:49.971Z"
   },
   {
    "duration": 11,
    "start_time": "2021-06-13T08:27:54.203Z"
   },
   {
    "duration": 12,
    "start_time": "2021-06-13T08:28:09.524Z"
   },
   {
    "duration": 10,
    "start_time": "2021-06-13T08:41:03.433Z"
   },
   {
    "duration": 9,
    "start_time": "2021-06-13T08:48:56.761Z"
   },
   {
    "duration": 8,
    "start_time": "2021-06-13T08:49:06.176Z"
   },
   {
    "duration": 762,
    "start_time": "2021-06-13T08:54:11.365Z"
   },
   {
    "duration": 347,
    "start_time": "2021-06-13T08:54:12.129Z"
   },
   {
    "duration": 45,
    "start_time": "2021-06-13T08:54:12.479Z"
   },
   {
    "duration": 17,
    "start_time": "2021-06-13T08:54:12.528Z"
   },
   {
    "duration": 80,
    "start_time": "2021-06-13T08:54:12.548Z"
   },
   {
    "duration": 9,
    "start_time": "2021-06-13T08:54:12.631Z"
   },
   {
    "duration": 57,
    "start_time": "2021-06-13T08:54:12.643Z"
   },
   {
    "duration": 105,
    "start_time": "2021-06-13T08:54:12.704Z"
   },
   {
    "duration": 33,
    "start_time": "2021-06-13T08:54:12.816Z"
   },
   {
    "duration": 8,
    "start_time": "2021-06-13T08:54:12.853Z"
   },
   {
    "duration": 42,
    "start_time": "2021-06-13T08:54:12.864Z"
   },
   {
    "duration": 11,
    "start_time": "2021-06-13T08:54:12.908Z"
   },
   {
    "duration": 15,
    "start_time": "2021-06-13T08:54:12.922Z"
   },
   {
    "duration": 101,
    "start_time": "2021-06-13T08:54:12.940Z"
   },
   {
    "duration": 31,
    "start_time": "2021-06-13T08:54:13.044Z"
   },
   {
    "duration": 48,
    "start_time": "2021-06-13T08:54:13.078Z"
   },
   {
    "duration": 10,
    "start_time": "2021-06-13T08:54:13.128Z"
   },
   {
    "duration": 18,
    "start_time": "2021-06-13T08:54:13.141Z"
   },
   {
    "duration": 53,
    "start_time": "2021-06-13T08:54:13.162Z"
   },
   {
    "duration": 8,
    "start_time": "2021-06-13T08:54:13.217Z"
   },
   {
    "duration": 17,
    "start_time": "2021-06-13T08:54:13.227Z"
   },
   {
    "duration": 15,
    "start_time": "2021-06-13T08:54:13.246Z"
   },
   {
    "duration": 36,
    "start_time": "2021-06-13T08:54:13.264Z"
   },
   {
    "duration": 8,
    "start_time": "2021-06-13T08:54:13.303Z"
   },
   {
    "duration": 16,
    "start_time": "2021-06-13T08:54:13.313Z"
   },
   {
    "duration": 4659,
    "start_time": "2021-06-13T08:54:13.331Z"
   },
   {
    "duration": 152,
    "start_time": "2021-06-13T08:54:18.007Z"
   },
   {
    "duration": 3344,
    "start_time": "2021-06-13T08:54:18.163Z"
   },
   {
    "duration": 1682,
    "start_time": "2021-06-13T08:54:21.510Z"
   },
   {
    "duration": 468,
    "start_time": "2021-06-13T08:54:23.195Z"
   },
   {
    "duration": 55,
    "start_time": "2021-06-13T08:54:23.666Z"
   },
   {
    "duration": 755,
    "start_time": "2021-06-13T08:54:23.724Z"
   },
   {
    "duration": 47,
    "start_time": "2021-06-13T08:54:24.482Z"
   },
   {
    "duration": 33,
    "start_time": "2021-06-13T08:54:24.532Z"
   },
   {
    "duration": 59,
    "start_time": "2021-06-13T08:54:24.567Z"
   },
   {
    "duration": 34,
    "start_time": "2021-06-13T08:54:24.628Z"
   },
   {
    "duration": 94,
    "start_time": "2021-06-13T08:56:19.549Z"
   },
   {
    "duration": 1056,
    "start_time": "2021-06-13T09:01:34.327Z"
   },
   {
    "duration": 965,
    "start_time": "2021-06-13T09:01:54.667Z"
   },
   {
    "duration": 747,
    "start_time": "2021-06-13T09:02:23.623Z"
   },
   {
    "duration": 740,
    "start_time": "2021-06-13T09:03:21.512Z"
   },
   {
    "duration": 96,
    "start_time": "2021-06-13T09:05:09.391Z"
   },
   {
    "duration": 84,
    "start_time": "2021-06-13T09:05:16.381Z"
   },
   {
    "duration": 288,
    "start_time": "2021-06-13T09:05:22.211Z"
   },
   {
    "duration": 1127,
    "start_time": "2021-06-13T09:06:28.024Z"
   },
   {
    "duration": 447,
    "start_time": "2021-06-13T09:07:08.794Z"
   },
   {
    "duration": 829,
    "start_time": "2021-06-13T09:07:26.902Z"
   },
   {
    "duration": 510,
    "start_time": "2021-06-13T09:07:59.937Z"
   },
   {
    "duration": 1418,
    "start_time": "2021-06-13T09:08:20.418Z"
   },
   {
    "duration": 3474,
    "start_time": "2021-06-13T09:08:32.843Z"
   },
   {
    "duration": 840,
    "start_time": "2021-06-13T09:09:55.827Z"
   },
   {
    "duration": 311,
    "start_time": "2021-06-13T09:09:56.670Z"
   },
   {
    "duration": 54,
    "start_time": "2021-06-13T09:09:56.988Z"
   },
   {
    "duration": 12,
    "start_time": "2021-06-13T09:09:57.044Z"
   },
   {
    "duration": 74,
    "start_time": "2021-06-13T09:09:57.058Z"
   },
   {
    "duration": 7,
    "start_time": "2021-06-13T09:09:57.135Z"
   },
   {
    "duration": 39,
    "start_time": "2021-06-13T09:09:57.146Z"
   },
   {
    "duration": 58,
    "start_time": "2021-06-13T09:09:57.202Z"
   },
   {
    "duration": 46,
    "start_time": "2021-06-13T09:09:57.262Z"
   },
   {
    "duration": 10,
    "start_time": "2021-06-13T09:09:57.311Z"
   },
   {
    "duration": 9,
    "start_time": "2021-06-13T09:09:57.324Z"
   },
   {
    "duration": 11,
    "start_time": "2021-06-13T09:09:57.336Z"
   },
   {
    "duration": 55,
    "start_time": "2021-06-13T09:09:57.350Z"
   },
   {
    "duration": 76,
    "start_time": "2021-06-13T09:09:57.408Z"
   },
   {
    "duration": 48,
    "start_time": "2021-06-13T09:09:57.487Z"
   },
   {
    "duration": 64,
    "start_time": "2021-06-13T09:09:57.538Z"
   },
   {
    "duration": 11,
    "start_time": "2021-06-13T09:09:57.606Z"
   },
   {
    "duration": 22,
    "start_time": "2021-06-13T09:09:57.620Z"
   },
   {
    "duration": 57,
    "start_time": "2021-06-13T09:09:57.645Z"
   },
   {
    "duration": 8,
    "start_time": "2021-06-13T09:09:57.704Z"
   },
   {
    "duration": 17,
    "start_time": "2021-06-13T09:09:57.714Z"
   },
   {
    "duration": 9,
    "start_time": "2021-06-13T09:09:57.736Z"
   },
   {
    "duration": 53,
    "start_time": "2021-06-13T09:09:57.748Z"
   },
   {
    "duration": 9,
    "start_time": "2021-06-13T09:09:57.804Z"
   },
   {
    "duration": 20,
    "start_time": "2021-06-13T09:09:57.816Z"
   },
   {
    "duration": 5079,
    "start_time": "2021-06-13T09:09:57.839Z"
   },
   {
    "duration": 99,
    "start_time": "2021-06-13T09:10:02.921Z"
   },
   {
    "duration": 1425,
    "start_time": "2021-06-13T09:10:03.022Z"
   },
   {
    "duration": 831,
    "start_time": "2021-06-13T09:10:04.450Z"
   },
   {
    "duration": 457,
    "start_time": "2021-06-13T09:10:05.283Z"
   },
   {
    "duration": 35,
    "start_time": "2021-06-13T09:10:05.743Z"
   },
   {
    "duration": 829,
    "start_time": "2021-06-13T09:10:05.781Z"
   },
   {
    "duration": 50,
    "start_time": "2021-06-13T09:10:06.614Z"
   },
   {
    "duration": 60,
    "start_time": "2021-06-13T09:10:06.667Z"
   },
   {
    "duration": 32,
    "start_time": "2021-06-13T09:10:06.730Z"
   },
   {
    "duration": 58,
    "start_time": "2021-06-13T09:10:06.765Z"
   },
   {
    "duration": 933,
    "start_time": "2021-06-13T09:13:01.574Z"
   },
   {
    "duration": 317,
    "start_time": "2021-06-13T09:13:02.510Z"
   },
   {
    "duration": 42,
    "start_time": "2021-06-13T09:13:02.830Z"
   },
   {
    "duration": 33,
    "start_time": "2021-06-13T09:13:02.875Z"
   },
   {
    "duration": 49,
    "start_time": "2021-06-13T09:13:02.910Z"
   },
   {
    "duration": 8,
    "start_time": "2021-06-13T09:13:02.961Z"
   },
   {
    "duration": 51,
    "start_time": "2021-06-13T09:13:02.971Z"
   },
   {
    "duration": 75,
    "start_time": "2021-06-13T09:13:03.025Z"
   },
   {
    "duration": 24,
    "start_time": "2021-06-13T09:13:03.104Z"
   },
   {
    "duration": 7,
    "start_time": "2021-06-13T09:13:03.131Z"
   },
   {
    "duration": 13,
    "start_time": "2021-06-13T09:13:03.141Z"
   },
   {
    "duration": 49,
    "start_time": "2021-06-13T09:13:03.156Z"
   },
   {
    "duration": 15,
    "start_time": "2021-06-13T09:13:03.208Z"
   },
   {
    "duration": 91,
    "start_time": "2021-06-13T09:13:03.225Z"
   },
   {
    "duration": 33,
    "start_time": "2021-06-13T09:13:03.318Z"
   },
   {
    "duration": 59,
    "start_time": "2021-06-13T09:13:03.354Z"
   },
   {
    "duration": 13,
    "start_time": "2021-06-13T09:13:03.416Z"
   },
   {
    "duration": 27,
    "start_time": "2021-06-13T09:13:03.431Z"
   },
   {
    "duration": 49,
    "start_time": "2021-06-13T09:13:03.461Z"
   },
   {
    "duration": 10,
    "start_time": "2021-06-13T09:13:03.513Z"
   },
   {
    "duration": 16,
    "start_time": "2021-06-13T09:13:03.526Z"
   },
   {
    "duration": 22,
    "start_time": "2021-06-13T09:13:03.545Z"
   },
   {
    "duration": 35,
    "start_time": "2021-06-13T09:13:03.570Z"
   },
   {
    "duration": 9,
    "start_time": "2021-06-13T09:13:03.608Z"
   },
   {
    "duration": 31,
    "start_time": "2021-06-13T09:13:03.620Z"
   },
   {
    "duration": 4781,
    "start_time": "2021-06-13T09:13:03.654Z"
   },
   {
    "duration": 90,
    "start_time": "2021-06-13T09:13:08.439Z"
   },
   {
    "duration": 1391,
    "start_time": "2021-06-13T09:13:08.532Z"
   },
   {
    "duration": 817,
    "start_time": "2021-06-13T09:13:09.925Z"
   },
   {
    "duration": 439,
    "start_time": "2021-06-13T09:13:10.745Z"
   },
   {
    "duration": 42,
    "start_time": "2021-06-13T09:13:11.187Z"
   },
   {
    "duration": 739,
    "start_time": "2021-06-13T09:13:11.231Z"
   },
   {
    "duration": 56,
    "start_time": "2021-06-13T09:13:11.973Z"
   },
   {
    "duration": 34,
    "start_time": "2021-06-13T09:13:12.032Z"
   },
   {
    "duration": 57,
    "start_time": "2021-06-13T09:13:12.069Z"
   },
   {
    "duration": 35,
    "start_time": "2021-06-13T09:13:12.129Z"
   },
   {
    "duration": 227,
    "start_time": "2021-06-13T22:11:02.018Z"
   },
   {
    "duration": 753,
    "start_time": "2021-06-14T08:14:21.600Z"
   },
   {
    "duration": 203,
    "start_time": "2021-06-14T08:14:22.356Z"
   },
   {
    "duration": 43,
    "start_time": "2021-06-14T08:14:22.562Z"
   },
   {
    "duration": 11,
    "start_time": "2021-06-14T08:14:22.608Z"
   },
   {
    "duration": 59,
    "start_time": "2021-06-14T08:14:22.621Z"
   },
   {
    "duration": 7,
    "start_time": "2021-06-14T08:14:22.682Z"
   },
   {
    "duration": 29,
    "start_time": "2021-06-14T08:14:22.692Z"
   },
   {
    "duration": 84,
    "start_time": "2021-06-14T08:14:22.724Z"
   },
   {
    "duration": 23,
    "start_time": "2021-06-14T08:14:22.811Z"
   },
   {
    "duration": 27,
    "start_time": "2021-06-14T08:14:22.836Z"
   },
   {
    "duration": 8,
    "start_time": "2021-06-14T08:14:22.865Z"
   },
   {
    "duration": 12,
    "start_time": "2021-06-14T08:14:22.875Z"
   },
   {
    "duration": 15,
    "start_time": "2021-06-14T08:14:22.889Z"
   },
   {
    "duration": 115,
    "start_time": "2021-06-14T08:14:22.906Z"
   },
   {
    "duration": 41,
    "start_time": "2021-06-14T08:14:23.023Z"
   },
   {
    "duration": 31,
    "start_time": "2021-06-14T08:14:23.066Z"
   },
   {
    "duration": 10,
    "start_time": "2021-06-14T08:14:23.099Z"
   },
   {
    "duration": 53,
    "start_time": "2021-06-14T08:14:23.111Z"
   },
   {
    "duration": 24,
    "start_time": "2021-06-14T08:14:23.166Z"
   },
   {
    "duration": 6,
    "start_time": "2021-06-14T08:14:23.192Z"
   },
   {
    "duration": 10,
    "start_time": "2021-06-14T08:14:23.201Z"
   },
   {
    "duration": 9,
    "start_time": "2021-06-14T08:14:23.214Z"
   },
   {
    "duration": 8,
    "start_time": "2021-06-14T08:14:23.265Z"
   },
   {
    "duration": 8,
    "start_time": "2021-06-14T08:14:23.275Z"
   },
   {
    "duration": 15,
    "start_time": "2021-06-14T08:14:23.285Z"
   },
   {
    "duration": 4737,
    "start_time": "2021-06-14T08:14:23.303Z"
   },
   {
    "duration": 94,
    "start_time": "2021-06-14T08:14:28.043Z"
   },
   {
    "duration": 1469,
    "start_time": "2021-06-14T08:14:28.139Z"
   },
   {
    "duration": 852,
    "start_time": "2021-06-14T08:14:29.610Z"
   },
   {
    "duration": 462,
    "start_time": "2021-06-14T08:14:30.465Z"
   },
   {
    "duration": 53,
    "start_time": "2021-06-14T08:14:30.929Z"
   },
   {
    "duration": 744,
    "start_time": "2021-06-14T08:14:37.206Z"
   },
   {
    "duration": -1061,
    "start_time": "2021-06-14T08:17:03.907Z"
   },
   {
    "duration": 715,
    "start_time": "2021-06-14T08:17:04.781Z"
   },
   {
    "duration": 1229,
    "start_time": "2021-06-14T08:18:41.370Z"
   },
   {
    "duration": 815,
    "start_time": "2021-06-14T08:19:07.048Z"
   },
   {
    "duration": 240,
    "start_time": "2021-06-14T08:19:07.866Z"
   },
   {
    "duration": 56,
    "start_time": "2021-06-14T08:19:08.109Z"
   },
   {
    "duration": 11,
    "start_time": "2021-06-14T08:19:08.168Z"
   },
   {
    "duration": 36,
    "start_time": "2021-06-14T08:19:08.181Z"
   },
   {
    "duration": 6,
    "start_time": "2021-06-14T08:19:08.219Z"
   },
   {
    "duration": 26,
    "start_time": "2021-06-14T08:19:08.263Z"
   },
   {
    "duration": 76,
    "start_time": "2021-06-14T08:19:08.292Z"
   },
   {
    "duration": 22,
    "start_time": "2021-06-14T08:19:08.373Z"
   },
   {
    "duration": 7,
    "start_time": "2021-06-14T08:19:08.398Z"
   },
   {
    "duration": 10,
    "start_time": "2021-06-14T08:19:08.408Z"
   },
   {
    "duration": 49,
    "start_time": "2021-06-14T08:19:08.420Z"
   },
   {
    "duration": 15,
    "start_time": "2021-06-14T08:19:08.471Z"
   },
   {
    "duration": 95,
    "start_time": "2021-06-14T08:19:08.488Z"
   },
   {
    "duration": 32,
    "start_time": "2021-06-14T08:19:08.586Z"
   },
   {
    "duration": 61,
    "start_time": "2021-06-14T08:19:08.620Z"
   },
   {
    "duration": 9,
    "start_time": "2021-06-14T08:19:08.684Z"
   },
   {
    "duration": 18,
    "start_time": "2021-06-14T08:19:08.696Z"
   },
   {
    "duration": 47,
    "start_time": "2021-06-14T08:19:08.717Z"
   },
   {
    "duration": 7,
    "start_time": "2021-06-14T08:19:08.767Z"
   },
   {
    "duration": 12,
    "start_time": "2021-06-14T08:19:08.776Z"
   },
   {
    "duration": 11,
    "start_time": "2021-06-14T08:19:08.790Z"
   },
   {
    "duration": 58,
    "start_time": "2021-06-14T08:19:08.804Z"
   },
   {
    "duration": 8,
    "start_time": "2021-06-14T08:19:08.866Z"
   },
   {
    "duration": 26,
    "start_time": "2021-06-14T08:19:08.877Z"
   },
   {
    "duration": 4959,
    "start_time": "2021-06-14T08:19:08.906Z"
   },
   {
    "duration": 94,
    "start_time": "2021-06-14T08:19:13.870Z"
   },
   {
    "duration": 1460,
    "start_time": "2021-06-14T08:19:13.968Z"
   },
   {
    "duration": 959,
    "start_time": "2021-06-14T08:19:15.430Z"
   },
   {
    "duration": 463,
    "start_time": "2021-06-14T08:19:16.391Z"
   },
   {
    "duration": 40,
    "start_time": "2021-06-14T08:19:16.856Z"
   },
   {
    "duration": 732,
    "start_time": "2021-06-14T08:19:16.898Z"
   },
   {
    "duration": 75,
    "start_time": "2021-06-14T08:19:17.633Z"
   },
   {
    "duration": 58,
    "start_time": "2021-06-14T08:19:17.711Z"
   },
   {
    "duration": 48,
    "start_time": "2021-06-14T08:19:17.773Z"
   },
   {
    "duration": 74,
    "start_time": "2021-06-14T08:19:17.824Z"
   }
  ],
  "kernelspec": {
   "display_name": "Python 3 (ipykernel)",
   "language": "python",
   "name": "python3"
  },
  "language_info": {
   "codemirror_mode": {
    "name": "ipython",
    "version": 3
   },
   "file_extension": ".py",
   "mimetype": "text/x-python",
   "name": "python",
   "nbconvert_exporter": "python",
   "pygments_lexer": "ipython3",
   "version": "3.9.5"
  },
  "toc": {
   "base_numbering": 1,
   "nav_menu": {
    "height": "291px",
    "width": "431px"
   },
   "number_sections": true,
   "sideBar": true,
   "skip_h1_title": true,
   "title_cell": "Table of Contents",
   "title_sidebar": "Contents",
   "toc_cell": false,
   "toc_position": {},
   "toc_section_display": true,
   "toc_window_display": false
  }
 },
 "nbformat": 4,
 "nbformat_minor": 2
}